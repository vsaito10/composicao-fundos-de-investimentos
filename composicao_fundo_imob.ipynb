{
 "cells": [
  {
   "cell_type": "markdown",
   "metadata": {},
   "source": [
    "**Histórico dos dados dos fundos imobiliários**\n",
    "* https://dados.cvm.gov.br/dataset/fii-doc-inf_mensal\n",
    "* https://dados.cvm.gov.br/dataset/fii-doc-inf_trimestral\n",
    "* https://dados.cvm.gov.br/dataset/fii-doc-inf_anual\n",
    "\n",
    "---\n",
    "O arquivo zipado 'inf_mensal_fii_XXXX' contém vários arquivos excel. Os arquivos que eu tenho interesse são:\n",
    "* inf_mensal_fii_ativo_passivo_XXXX: contém os dados sobre \"Obrigacoes_Aquisicao_Imoveis\" e \"Obrigacoes_Securitizacao_Recebiveis\";\n",
    "* inf_mensal_fii_complemento_XXXX: contém o dado sobre \"Valor_Ativo\"."
   ]
  },
  {
   "cell_type": "code",
   "execution_count": 1,
   "metadata": {},
   "outputs": [],
   "source": [
    "from funcoes import *\n",
    "import glob\n",
    "import matplotlib.pyplot as plt\n",
    "import os\n",
    "import plotly.express as px\n",
    "import zipfile"
   ]
  },
  {
   "cell_type": "markdown",
   "metadata": {},
   "source": [
    "## Extraindo os arquivos zipados"
   ]
  },
  {
   "cell_type": "markdown",
   "metadata": {},
   "source": [
    "### Extração dos arquivos \"inf_mensal_fii_ativo_passivo_XXXX\" e \"inf_mensal_fii_complemento_XXXX\""
   ]
  },
  {
   "cell_type": "code",
   "execution_count": null,
   "metadata": {},
   "outputs": [],
   "source": [
    "# Mês e ano escolhido\n",
    "ano = '2025'\n",
    "\n",
    "# Nome do arquivo zipado\n",
    "zip_filename = f'C://Users//vitor//projetos_python//python_b3//historico-arquivos//fundos_investimentos//fii_cvm_zip//inf_mensal_fii_{ano}.zip'\n",
    "\n",
    "# # Visualizando a lista dos nomes dos arquivos dentro do arquivo zipado\n",
    "# with zipfile.ZipFile(zip_filename, 'r') as zip_ref:\n",
    "#     print(\"Arquivos dentro do arquivo zipado:\")\n",
    "#     print(zip_ref.namelist())\n",
    "\n",
    "# Lista dos nomes dos arquivos que você deseja extrair\n",
    "arquivos_a_extrair = [\n",
    "    f'inf_mensal_fii_ativo_passivo_{ano}.csv', \n",
    "    f'inf_mensal_fii_complemento_{ano}.csv', \n",
    "    f'inf_mensal_fii_geral_{ano}.csv'\n",
    "]\n",
    "\n",
    "# Caminho do diretório do diretório do arquivo não zipado\n",
    "destino_dir = f'C://Users//vitor//projetos_python//python_b3//historico-arquivos//fundos_investimentos//fii_cvm//{ano}'\n",
    "\n",
    "# Abrindo o arquivo zipado\n",
    "with zipfile.ZipFile(zip_filename, 'r') as zip_ref:\n",
    "    # Extraindo os arquivos selecionados para um diretório específico\n",
    "    for arquivo in arquivos_a_extrair:\n",
    "        zip_ref.extract(arquivo, destino_dir)\n",
    "\n",
    "        # Caminhos dos arquivos em formato csv e parquet\n",
    "        csv_path = f'{destino_dir}//{arquivo}'\n",
    "        parquet_path = f'{destino_dir}//{arquivo.replace(\".csv\", \".parquet\")}'\n",
    "\n",
    "        # Lendo os arquivos csv\n",
    "        df = pd.read_csv(csv_path, sep=';', encoding='ISO-8859-1', low_memory=False)\n",
    "\n",
    "        # Transformando esses arquivos em parquet\n",
    "        df.to_parquet(parquet_path)\n",
    "\n",
    "# Entrando para o diretório especificado\n",
    "os.chdir(destino_dir)\n",
    "\n",
    "# Encontrando todos os arquivos .csv no diretório\n",
    "arquivos_csv = glob.glob('*.csv')\n",
    "\n",
    "# Loop para deletar cada arquivo csv encontrado\n",
    "for arquivo in arquivos_csv:\n",
    "    os.remove(arquivo)"
   ]
  },
  {
   "cell_type": "markdown",
   "metadata": {},
   "source": [
    "## Fundos Imobiliários"
   ]
  },
  {
   "cell_type": "code",
   "execution_count": 2,
   "metadata": {},
   "outputs": [
    {
     "name": "stdout",
     "output_type": "stream",
     "text": [
      "A carteira teórioca do IFIX atual é composta por 115 ações.\n",
      "A carteira teórioca do IFIX anterior é composta por 117 ações.\n",
      "------------------------------\n",
      "O número de ações semelhantes são de 112.\n",
      "Ações semelhantes entre as duas carteiras: ['AFHI11', 'AIEC11', 'AJFI11', 'ALZR11', 'ARRI11', 'BBIG11', 'BCIA11', 'BCRI11', 'BLMG11', 'BPML11', 'BRCO11', 'BRCR11', 'BROF11', 'BTAL11', 'BTCI11', 'BTHF11', 'BTLG11', 'CACR11', 'CCME11', 'CLIN11', 'CPSH11', 'CPTS11', 'CVBI11', 'CYCR11', 'DEVA11', 'FATN11', 'GARE11', 'GGRC11', 'GTWR11', 'GZIT11', 'HABT11', 'HCTR11', 'HFOF11', 'HGBS11', 'HGCR11', 'HGLG11', 'HGRE11', 'HGRU11', 'HSAF11', 'HSLG11', 'HSML11', 'HTMX11', 'ICRI11', 'IRDM11', 'ITRI11', 'JSAF11', 'JSRE11', 'KCRE11', 'KFOF11', 'KISU11', 'KIVO11', 'KNCR11', 'KNHF11', 'KNHY11', 'KNIP11', 'KNRI11', 'KNSC11', 'KNUQ11', 'KORE11', 'LIFE11', 'LVBI11', 'MANA11', 'MCCI11', 'MCRE11', 'MFII11', 'MXRF11', 'OUJP11', 'PATL11', 'PMIS11', 'PORD11', 'PVBI11', 'RBFF11', 'RBRF11', 'RBRL11', 'RBRP11', 'RBRR11', 'RBRX11', 'RBRY11', 'RBVA11', 'RCRB11', 'RECR11', 'RVBI11', 'RZAK11', 'RZAT11', 'RZTR11', 'SARE11', 'SNCI11', 'SNEL11', 'SNFF11', 'SPXS11', 'TEPP11', 'TGAR11', 'TOPP11', 'TRBL11', 'TRXF11', 'TVRI11', 'URPR11', 'VCJR11', 'VGHF11', 'VGIP11', 'VGIR11', 'VGRI11', 'VILG11', 'VINO11', 'VISC11', 'VRTA11', 'VRTM11', 'WHGR11', 'XPCI11', 'XPLG11', 'XPML11', 'XPSF11'].\n",
      "------------------------------\n",
      "Número de ações diferentes entre as duas carteiras: 5.\n",
      "FIIs que sairam da carteira atual: ['BARI11', 'HGFF11', 'HGPO11', 'MALL11', 'VIUR11']\n",
      "FIIs que entraram na carteira atual: ['AZPL11', 'JSCR11', 'PMLL11']\n"
     ]
    }
   ],
   "source": [
    "# Lendo o arquivo da composição do IFIX\n",
    "ifix_mai_ago_2024 = filtro_etf(path='C://Users//vitor//projetos_python//python_b3//historico-arquivos//indices-b3//ifix//IFIX_2024_MAI_AGO.csv')\n",
    "ifix_set_dez_2024 = filtro_etf(path='C://Users//vitor//projetos_python//python_b3//historico-arquivos//indices-b3//ifix//IFIX_2024_SET_DEZ.csv')\n",
    "ifix_jan_abr_2025 = filtro_etf(path='C://Users//vitor//projetos_python//python_b3//historico-arquivos//indices-b3//ifix//IFIX_2025_JAN_ABR.csv')\n",
    "ifix_mai_ago_2025 = filtro_etf(path='C://Users//vitor//projetos_python//python_b3//historico-arquivos//indices-b3//ifix//IFIX_2025_MAI_AGO.csv')\n",
    "ifix_set_dez_2025 = filtro_etf(path='C://Users//vitor//projetos_python//python_b3//historico-arquivos//indices-b3//ifix//IFIX_2025_SET_DEZ.csv')\n",
    "\n",
    "# Ordenando o df pela ordem alfabética dos tickers\n",
    "ifix_mai_ago_2024 = ifix_mai_ago_2024.sort_values('Código')\n",
    "ifix_set_dez_2024 = ifix_set_dez_2024.sort_values('Código')\n",
    "ifix_jan_abr_2025 = ifix_jan_abr_2025.sort_values('Código')\n",
    "ifix_mai_ago_2025 = ifix_mai_ago_2025.sort_values('Código')\n",
    "ifix_set_dez_2025 = ifix_set_dez_2025.sort_values('Código')\n",
    "\n",
    "# Transformando em listas\n",
    "lista_ifix_atual = ifix_set_dez_2025['Código'].tolist()\n",
    "lista_ifix_anterior = ifix_mai_ago_2025['Código'].tolist()\n",
    "\n",
    "# Diferença entre as carteiras\n",
    "fiis_sairam_carteira_atual = sorted(set(lista_ifix_anterior) - set(lista_ifix_atual))\n",
    "fiis_entraram_carteira_atual = sorted(set(lista_ifix_atual) - set(lista_ifix_anterior))\n",
    "\n",
    "print(f'A carteira teórioca do IFIX atual é composta por {len(lista_ifix_atual)} ações.')\n",
    "print(f'A carteira teórioca do IFIX anterior é composta por {len(lista_ifix_anterior)} ações.')\n",
    "print('-'*30)\n",
    "print(f'O número de ações semelhantes são de {len(set(lista_ifix_atual) & set(lista_ifix_anterior))}.')\n",
    "print(f'Ações semelhantes entre as duas carteiras: {sorted(set(lista_ifix_atual) & set(lista_ifix_anterior))}.')\n",
    "print('-'*30)\n",
    "print(f'Número de ações diferentes entre as duas carteiras: {len(set(lista_ifix_anterior) - set(lista_ifix_atual))}.')\n",
    "print(f'FIIs que sairam da carteira atual: {fiis_sairam_carteira_atual}')\n",
    "print(f'FIIs que entraram na carteira atual: {fiis_entraram_carteira_atual}')"
   ]
  },
  {
   "cell_type": "markdown",
   "metadata": {},
   "source": [
    "* Esses CNPJs do \"dict_cnpj\" foram adicionados na mão. Eu não achei uma maneira de automatizar esse processo."
   ]
  },
  {
   "cell_type": "code",
   "execution_count": 3,
   "metadata": {},
   "outputs": [],
   "source": [
    "# IFIX 2024 (MAI-AGO)\n",
    "dict_cnpj_mai_ago_2024 = {\n",
    "    'KNIP11':'24.960.430/0001-13',\n",
    "    'XPML11':'28.757.546/0001-00',\n",
    "    'KNCR11':'16.706.958/0001-32',\n",
    "    'HGLG11':'11.728.688/0001-47',\n",
    "    'KNRI11':'12.005.956/0001-65',\n",
    "    'BTLG11':'11.839.593/0001-09',\n",
    "    'VISC11':'17.554.274/0001-25',\n",
    "    'MXRF11':'97.521.225/0001-25',\n",
    "    'XPLG11':'26.502.794/0001-85',\n",
    "    'KNHY11':'30.130.708/0001-28',\n",
    "    'HGBS11':'08.431.747/0001-06',\n",
    "    'IRDM11':'28.830.325/0001-10',\n",
    "    'CPTS11':'18.979.895/0001-13',\n",
    "    'PVBI11':'35.652.102/0001-76',\n",
    "    'HGRU11':'29.641.226/0001-53',\n",
    "    'TGAR11':'25.032.881/0001-53',\n",
    "    'RECR11':'28.152.272/0001-26',\n",
    "    'BRCO11':'20.748.515/0001-81',\n",
    "    'HSML11':'32.892.018/0001-31',\n",
    "    'KNHF11':'42.754.342/0001-47',\n",
    "    'TRXF11':'28.548.288/0001-52',\n",
    "    'LVBI11':'30.629.603/0001-18',\n",
    "    'BCFF11':'11.026.627/0001-38',\n",
    "    'RZTR11':'36.501.128/0001-86',\n",
    "    'HFOF11':'18.307.582/0001-19',\n",
    "    'TVRI11':'14.410.722/0001-29',\n",
    "    'HGCR11':'11.160.521/0001-22',\n",
    "    'MCCI11':'23.648.935/0001-84',\n",
    "    'VGHF11':'36.771.692/0001-19',\n",
    "    'MALL11':'26.499.833/0001-32',\n",
    "    'BRCR11':'08.924.783/0001-01',\n",
    "    'HGRE11':'09.072.017/0001-29',\n",
    "    'JSRE11':'13.371.132/0001-71',\n",
    "    'RBRY11':'30.166.700/0001-11',\n",
    "    'VILG11':'24.853.044/0001-22',\n",
    "    'RBRR11':'29.467.977/0001-03',\n",
    "    'RBVA11':'15.576.907/0001-70',\n",
    "    'VCJR11':'32.400.250/0001-05',\n",
    "    'VRTA11':'11.664.201/0001-00',\n",
    "    'KNSC11':'35.864.448/0001-38',\n",
    "    'ALZR11':'28.737.771/0001-85',\n",
    "    'GARE11':'37.295.919/0001-60',\n",
    "    'GGRC11':'26.614.291/0001-00',\n",
    "    'HSLG11':'32.903.621/0001-71',\n",
    "    'RBRF11':'27.529.279/0001-51',\n",
    "    'VGIP11':'34.197.811/0001-46',\n",
    "    'MCHY11':'36.655.973/0001-06',\n",
    "    'CVBI11':'28.729.197/0001-13',\n",
    "    'KORE11':'52.219.978/0001-42',\n",
    "    'BTCI11':'09.552.812/0001-14',\n",
    "    'GTWR11':'23.740.527/0001-58',\n",
    "    'VGIR11':'29.852.732/0001-91',\n",
    "    'URPR11':'34.508.872/0001-87',\n",
    "    'RVBI11':'35.507.457/0001-71',\n",
    "    'TRBL11':'16.671.412/0001-93',\n",
    "    'RZAK11':'36.642.219/0001-31',\n",
    "    'XPCI11':'28.516.301/0001-91',\n",
    "    'JSAF11':'42.085.661/0001-07',\n",
    "    'RBRP11':'21.408.063/0001-51',\n",
    "    'HABT11':'30.578.417/0001-05',\n",
    "    'HCTR11':'30.248.180/0001-96',\n",
    "    'DEVA11':'37.087.810/0001-37',\n",
    "    'VINO11':'12.516.185/0001-70',\n",
    "    'BROF11':'48.978.859/0001-04',\n",
    "    'RCRB11':'03.683.056/0001-86',\n",
    "    'XPIN11':'28.516.325/0001-40',\n",
    "    'RBRL11':'35.705.463/0001-33',\n",
    "    'HGPO11':'11.260.134/0001-68',\n",
    "    'MFII11':'16.915.968/0001-88',\n",
    "    'BCRI11':'22.219.335/0001-38',\n",
    "    'SARE11':'32.903.702/0001-71',\n",
    "    'KFOF11':'30.091.444/0001-40',\n",
    "    'CLIN11':'49.005.348/0001-60',\n",
    "    'BTAL11':'36.642.244/0001-15',\n",
    "    'TEPP11':'26.681.370/0001-25',\n",
    "    'SNCI11':'41.076.710/0001-82',\n",
    "    'CACR11':'32.065.364/0001-46',\n",
    "    'AFHI11':'36.642.293/0001-58',\n",
    "    'BCIA11':'20.216.935/0001-17',\n",
    "    'BARI11':'29.267.567/0001-00',\n",
    "    'KISU11':'36.669.660/0001-07',\n",
    "    'RZAT11':'28.267.696/0001-36',\n",
    "    'XPSF11':'30.983.020/0001-90',\n",
    "    'KCRE11':'42.502.802/0001-40',\n",
    "    'PORD11':'17.156.502/0001-09',\n",
    "    'RECT11':'32.274.163/0001-59',\n",
    "    'BPFF11':'17.324.357/0001-28',\n",
    "    'PATL11':'35.754.164/0001-99',\n",
    "    'LGCP11':'34.598.181/0001-11',\n",
    "    'OUJP11':'26.091.656/0001-50',\n",
    "    'AJFI11':'51.472.985/0001-99',\n",
    "    'RBRX11':'41.088.458/0001-21',\n",
    "    'HTMX11':'08.706.065/0001-69',\n",
    "    'AIEC11':'35.765.826/0001-26',\n",
    "    'HGFF11':'32.784.898/0001-22',\n",
    "    'SNFF11':'40.011.225/0001-68',\n",
    "    'WHGR11':'41.256.643/0001-88',\n",
    "    'RBFF11':'17.329.029/0001-14',\n",
    "    'FATN11':'30.567.216/0001-02',\n",
    "    'HSAF11':'35.360.687/0001-50',\n",
    "    'CPFF11':'34.081.611/0001-23',\n",
    "    'SPXS11':'43.010.543/0001-00',\n",
    "    'VIUR11':'36.445.587/0001-90',\n",
    "    'PLCR11':'32.527.683/0001-26',\n",
    "    'BTRA11':'41.076.607/0001-32',\n",
    "    'BLMG11':'34.081.637/0001-71',\n",
    "    'ARRI11':'32.006.821/0001-21',\n",
    "    'CYCR11':'36.501.233/0001-15',\n",
    "    'XPPR11':'30.654.849/0001-40',\n",
    "    'NCHB11':'18.085.673/0001-57',\n",
    "    'VSLH11':'36.244.015/0001-42',\n",
    "    'TORD11':'30.230.870/0001-18'\n",
    "}\n",
    "\n",
    "# IFIX 2024 (SET-DEZ)\n",
    "dict_cnpj_set_dez_2024 = {\n",
    "    'KNIP11':'24.960.430/0001-13',\n",
    "    'KNCR11':'16.706.958/0001-32',\n",
    "    'XPML11':'28.757.546/0001-00',\n",
    "    'HGLG11':'11.728.688/0001-47',\n",
    "    'BTLG11':'11.839.593/0001-09',\n",
    "    'MXRF11':'97.521.225/0001-25',\n",
    "    'KNRI11':'12.005.956/0001-65',\n",
    "    'HGRU11':'29.641.226/0001-53',\n",
    "    'VISC11':'17.554.274/0001-25',\n",
    "    'XPLG11':'26.502.794/0001-85',\n",
    "    'KNHY11':'30.130.708/0001-28',\n",
    "    'TGAR11':'25.032.881/0001-53',\n",
    "    'HGBS11':'08.431.747/0001-06',\n",
    "    'IRDM11':'28.830.325/0001-10',\n",
    "    'CPTS11':'18.979.895/0001-13',\n",
    "    'PVBI11':'35.652.102/0001-76',\n",
    "    'RECR11':'28.152.272/0001-26',\n",
    "    'TRXF11':'28.548.288/0001-52',\n",
    "    'HSML11':'32.892.018/0001-31',\n",
    "    'KNHF11':'42.754.342/0001-47',\n",
    "    'BRCO11':'20.748.515/0001-81',\n",
    "    'LVBI11':'30.629.603/0001-18',\n",
    "    'RZTR11':'36.501.128/0001-86',\n",
    "    'KNSC11':'35.864.448/0001-38',\n",
    "    'BCFF11':'11.026.627/0001-38',\n",
    "    'TVRI11':'14.410.722/0001-29',\n",
    "    'KNUQ11':'42.754.362/0001-18',\n",
    "    'HFOF11':'18.307.582/0001-19',\n",
    "    'HGCR11':'11.160.521/0001-22',\n",
    "    'VGIR11':'29.852.732/0001-91',\n",
    "    'MCCI11':'23.648.935/0001-84',\n",
    "    'VGHF11':'36.771.692/0001-19',\n",
    "    'MALL11':'26.499.833/0001-32',\n",
    "    'VRTA11':'11.664.201/0001-00',\n",
    "    'RBRR11':'29.467.977/0001-03',\n",
    "    'VCJR11':'32.400.250/0001-05',\n",
    "    'BRCR11':'08.924.783/0001-01',\n",
    "    'HGRE11':'09.072.017/0001-29',\n",
    "    'RBVA11':'15.576.907/0001-70',\n",
    "    'JSRE11':'13.371.132/0001-71',\n",
    "    'ALZR11':'28.737.771/0001-85',\n",
    "    'VILG11':'24.853.044/0001-22',\n",
    "    'GZIT11':'15.447.108/0001-02',\n",
    "    'RBRY11':'30.166.700/0001-11',\n",
    "    'GGRC11':'26.614.291/0001-00',\n",
    "    'GARE11':'37.295.919/0001-60',\n",
    "    'HSLG11':'32.903.621/0001-71',\n",
    "    'MCHY11':'36.655.973/0001-06',\n",
    "    'VGIP11':'34.197.811/0001-46',\n",
    "    'CVBI11':'28.729.197/0001-13',\n",
    "    'RBRF11':'27.529.279/0001-51',\n",
    "    'KORE11':'52.219.978/0001-42',\n",
    "    'BTCI11':'09.552.812/0001-14',\n",
    "    'GTWR11':'23.740.527/0001-58',\n",
    "    'URPR11':'34.508.872/0001-87',\n",
    "    'JSAF11':'42.085.661/0001-07',\n",
    "    'RVBI11':'35.507.457/0001-71',\n",
    "    'XPCI11':'28.516.301/0001-91',\n",
    "    'TRBL11':'16.671.412/0001-93',\n",
    "    'RZAK11':'36.642.219/0001-31',\n",
    "    'HABT11':'30.578.417/0001-05',\n",
    "    'RBRP11':'21.408.063/0001-51',\n",
    "    'CPSH11':'47.896.665/0001-99',\n",
    "    'BPML11':'33.046.142/0001-49',\n",
    "    'HCTR11':'30.248.180/0001-96',\n",
    "    'KFOF11':'30.091.444/0001-40',\n",
    "    'DEVA11':'37.087.810/0001-37',\n",
    "    'XPIN11':'28.516.325/0001-40',\n",
    "    'BROF11':'48.978.859/0001-04',\n",
    "    'MFII11':'16.915.968/0001-88',\n",
    "    'RBRL11':'35.705.463/0001-33',\n",
    "    'HGPO11':'11.260.134/0001-68',\n",
    "    'CACR11':'32.065.364/0001-46',\n",
    "    'VINO11':'12.516.185/0001-70',\n",
    "    'RCRB11':'03.683.056/0001-86',\n",
    "    'BTAL11':'36.642.244/0001-15',\n",
    "    'AFHI11':'36.642.293/0001-58',\n",
    "    'BCRI11':'22.219.335/0001-38',\n",
    "    'CLIN11':'49.005.348/0001-60',\n",
    "    'SNCI11':'41.076.710/0001-82',\n",
    "    'BCIA11':'20.216.935/0001-17',\n",
    "    'TEPP11':'26.681.370/0001-25',\n",
    "    'SARE11':'32.903.702/0001-71',\n",
    "    'BARI11':'29.267.567/0001-00',\n",
    "    'RZAT11':'28.267.696/0001-36',\n",
    "    'KISU11':'36.669.660/0001-07',\n",
    "    'KCRE11':'42.502.802/0001-40',\n",
    "    'MANA11':'42.888.583/0001-89',\n",
    "    'PORD11':'17.156.502/0001-09',\n",
    "    'XPSF11':'30.983.020/0001-90',\n",
    "    'FATN11':'30.567.216/0001-02',\n",
    "    'BPFF11':'17.324.357/0001-28',\n",
    "    'PATL11':'35.754.164/0001-99',\n",
    "    'WHGR11':'41.256.643/0001-88',\n",
    "    'LGCP11':'34.598.181/0001-11',\n",
    "    'RECT11':'32.274.163/0001-59',\n",
    "    'HTMX11':'08.706.065/0001-69',\n",
    "    'RBRX11':'41.088.458/0001-21',\n",
    "    'AIEC11':'35.765.826/0001-26',\n",
    "    'AJFI11':'51.472.985/0001-99',\n",
    "    'OUJP11':'26.091.656/0001-50',\n",
    "    'SNFF11':'40.011.225/0001-68',\n",
    "    'HGFF11':'32.784.898/0001-22',\n",
    "    'RBFF11':'17.329.029/0001-14',\n",
    "    'HSAF11':'35.360.687/0001-50',\n",
    "    'SPXS11':'43.010.543/0001-00',\n",
    "    'BLMG11':'34.081.637/0001-71',\n",
    "    'KIVO11':'42.273.325/0001-98',\n",
    "    'VIUR11':'36.445.587/0001-90',\n",
    "    'SNEL11':'43.741.171/0001-84',\n",
    "    'ARRI11':'32.006.821/0001-21',\n",
    "    'CYCR11':'36.501.233/0001-15',\n",
    "    'BTRA11':'41.076.607/0001-32',\n",
    "    'ZAVI11':'40.575.940/0001-23',\n",
    "    'VSLH11':'36.244.015/0001-42'\n",
    "}\n",
    "\n",
    "# IFIX 2025 (JAN-ABR)\n",
    "dict_cnpj_jan_abr_2025 = {\n",
    "    'KNCR11':'16.706.958/0001-32',\n",
    "    'KNIP11':'24.960.430/0001-13',\n",
    "    'XPML11':'28.757.546/0001-00',\n",
    "    'HGLG11':'11.728.688/0001-47',\n",
    "    'BTLG11':'11.839.593/0001-09',\n",
    "    'MXRF11':'97.521.225/0001-25',\n",
    "    'KNRI11':'12.005.956/0001-65',\n",
    "    'XPLG11':'26.502.794/0001-85',\n",
    "    'KNHY11':'30.130.708/0001-28',\n",
    "    'VISC11':'17.554.274/0001-25',\n",
    "    'HGRU11':'29.641.226/0001-53',\n",
    "    'HGBS11':'08.431.747/0001-06',\n",
    "    'IRDM11':'28.830.325/0001-10',\n",
    "    'CPTS11':'18.979.895/0001-13',\n",
    "    'PVBI11':'35.652.102/0001-76',\n",
    "    'TGAR11':'25.032.881/0001-53',\n",
    "    'TRXF11':'28.548.288/0001-52',\n",
    "    'RECR11':'28.152.272/0001-26',\n",
    "    'KNSC11':'35.864.448/0001-38',\n",
    "    'KNHF11':'42.754.342/0001-47',\n",
    "    'RZTR11':'36.501.128/0001-86',\n",
    "    'BRCO11':'20.748.515/0001-81',\n",
    "    'KNUQ11':'42.754.362/0001-18',\n",
    "    'LVBI11':'30.629.603/0001-18',\n",
    "    'GARE11':'37.295.919/0001-60',\n",
    "    'HSML11':'32.892.018/0001-31',\n",
    "    'HGCR11':'11.160.521/0001-22',\n",
    "    'TVRI11':'14.410.722/0001-29',\n",
    "    'RBVA11':'15.576.907/0001-70',\n",
    "    'VGIR11':'29.852.732/0001-91',\n",
    "    'MCCI11':'23.648.935/0001-84',\n",
    "    'HFOF11':'18.307.582/0001-19',\n",
    "    'MALL11':'26.499.833/0001-32',\n",
    "    'RBRR11':'29.467.977/0001-03',\n",
    "    'VGHF11':'36.771.692/0001-19',\n",
    "    'ALZR11':'28.737.771/0001-85',\n",
    "    'VRTA11':'11.664.201/0001-00',\n",
    "    'HGRE11':'09.072.017/0001-29',\n",
    "    'GGRC11':'26.614.291/0001-00',\n",
    "    'JSRE11':'13.371.132/0001-71',\n",
    "    'RBRY11':'30.166.700/0001-11',\n",
    "    'VCJR11':'32.400.250/0001-05',\n",
    "    'VILG11':'24.853.044/0001-22',\n",
    "    'BRCR11':'08.924.783/0001-01',\n",
    "    'HSLG11':'32.903.621/0001-71',\n",
    "    'VGIP11':'34.197.811/0001-46',\n",
    "    'GZIT11':'15.447.108/0001-02',\n",
    "    'CVBI11':'28.729.197/0001-13',\n",
    "    'RBRF11':'27.529.279/0001-51',\n",
    "    'BTCI11':'09.552.812/0001-14',\n",
    "    'MCRE11':'36.655.973/0001-06',\n",
    "    'GTWR11':'23.740.527/0001-58',\n",
    "    'BBIG11':'54.375.187/0001-37',\n",
    "    'KORE11':'52.219.978/0001-42',\n",
    "    'CPSH11':'47.896.665/0001-99',\n",
    "    'RZAK11':'36.642.219/0001-31',\n",
    "    'URPR11':'34.508.872/0001-87',\n",
    "    'XPCI11':'28.516.301/0001-91',\n",
    "    'RVBI11':'35.507.457/0001-71',\n",
    "    'HABT11':'30.578.417/0001-05',\n",
    "    'RBRP11':'21.408.063/0001-51',\n",
    "    'SNEL11':'43.741.171/0001-84',\n",
    "    'CCME11':'43.010.844/0001-26',\n",
    "    'JSAF11':'42.085.661/0001-07',\n",
    "    'BPML11':'33.046.142/0001-49',\n",
    "    'TRBL11':'16.671.412/0001-93',\n",
    "    'BROF11':'48.978.859/0001-04',\n",
    "    'HTMX11':'08.706.065/0001-69',\n",
    "    'XPIN11':'28.516.325/0001-40',\n",
    "    'KFOF11':'30.091.444/0001-40',\n",
    "    'RCRB11':'03.683.056/0001-86',\n",
    "    'MFII11':'16.915.968/0001-88',\n",
    "    'RBRL11':'35.705.463/0001-33',\n",
    "    'ITRI11':'52.270.671/0001-76',\n",
    "    'DEVA11':'37.087.810/0001-37',\n",
    "    'HCTR11':'30.248.180/0001-96',\n",
    "    'AFHI11':'36.642.293/0001-58',\n",
    "    'BTAL11':'36.642.244/0001-15',\n",
    "    'CACR11':'32.065.364/0001-46',\n",
    "    'VINO11':'12.516.185/0001-70',\n",
    "    'SNCI11':'41.076.710/0001-82',\n",
    "    'CLIN11':'49.005.348/0001-60',\n",
    "    'RZAT11':'28.267.696/0001-36',\n",
    "    'BCRI11':'22.219.335/0001-38',\n",
    "    'SNFF11':'40.011.225/0001-68',\n",
    "    'SARE11':'32.903.702/0001-71',\n",
    "    'TEPP11':'26.681.370/0001-25',\n",
    "    'ICRI11':'51.294.441/0001-84',\n",
    "    'BARI11':'29.267.567/0001-00',\n",
    "    'KCRE11':'42.502.802/0001-40',\n",
    "    'BCIA11':'20.216.935/0001-17',\n",
    "    'MANA11':'42.888.583/0001-89',\n",
    "    'KISU11':'36.669.660/0001-07',\n",
    "    'CYCR11':'36.501.233/0001-15',\n",
    "    'LIFE11':'39.753.295/0001-02',\n",
    "    'PORD11':'17.156.502/0001-09',\n",
    "    'FATN11':'30.567.216/0001-02',\n",
    "    'XPSF11':'30.983.020/0001-90',\n",
    "    'VGRI11':'53.656.482/0001-07',\n",
    "    'WHGR11':'41.256.643/0001-88',\n",
    "    'BPFF11':'17.324.357/0001-28',\n",
    "    'RECT11':'32.274.163/0001-59',\n",
    "    'OUJP11':'26.091.656/0001-50',\n",
    "    'PATL11':'35.754.164/0001-99',\n",
    "    'RBRX11':'41.088.458/0001-21',\n",
    "    'AJFI11':'51.472.985/0001-99',\n",
    "    'HGPO11':'11.260.134/0001-68',\n",
    "    'AIEC11':'35.765.826/0001-26',\n",
    "    'HGFF11':'32.784.898/0001-22',\n",
    "    'HSAF11':'35.360.687/0001-50',\n",
    "    'RBFF11':'17.329.029/0001-14',\n",
    "    'SPXS11':'43.010.543/0001-00',\n",
    "    'VIUR11':'36.445.587/0001-90',\n",
    "    'ARRI11':'32.006.821/0001-21',\n",
    "    'BTRA11':'41.076.607/0001-32',\n",
    "    'KIVO11':'42.273.325/0001-98',\n",
    "    'BLMG11':'34.081.637/0001-71'\n",
    "}\n",
    "\n",
    "# IFIX 2025 (MAI-AGO)\n",
    "dict_cnpj_mai_ago_2025 = {\n",
    "    'KNCR11':'16.706.958/0001-32',\n",
    "    'KNIP11':'24.960.430/0001-13',\n",
    "    'XPML11':'28.757.546/0001-00',\n",
    "    'HGLG11':'11.728.688/0001-47',\n",
    "    'BTLG11':'11.839.593/0001-09',\n",
    "    'KNRI11':'12.005.956/0001-65',\n",
    "    'MXRF11':'97.521.225/0001-25',\n",
    "    'XPLG11':'26.502.794/0001-85',\n",
    "    'VISC11':'17.554.274/0001-25',\n",
    "    'HGRU11':'29.641.226/0001-53',\n",
    "    'KNHY11':'30.130.708/0001-28',\n",
    "    'IRDM11':'28.830.325/0001-10',\n",
    "    'HGBS11':'08.431.747/0001-06',\n",
    "    'CPTS11':'18.979.895/0001-13',\n",
    "    'RECR11':'28.152.272/0001-26',\n",
    "    'PVBI11':'35.652.102/0001-76',\n",
    "    'TRXF11':'28.548.288/0001-52',\n",
    "    'TGAR11':'25.032.881/0001-53',\n",
    "    'KNHF11':'42.754.342/0001-47',\n",
    "    'HSML11':'32.892.018/0001-31',\n",
    "    'BRCO11':'20.748.515/0001-81',\n",
    "    'KNSC11':'35.864.448/0001-38',\n",
    "    'BTHF11':'45.188.176/0001-57',\n",
    "    'RZTR11':'36.501.128/0001-86',\n",
    "    'LVBI11':'30.629.603/0001-18',\n",
    "    'KNUQ11':'42.754.362/0001-18',\n",
    "    'HGCR11':'11.160.521/0001-22',\n",
    "    'MALL11':'26.499.833/0001-32',\n",
    "    'MCCI11':'23.648.935/0001-84',\n",
    "    'TVRI11':'14.410.722/0001-29',\n",
    "    'HFOF11':'18.307.582/0001-19',\n",
    "    'VGIR11':'29.852.732/0001-91',\n",
    "    'HGRE11':'09.072.017/0001-29',\n",
    "    'RBVA11':'15.576.907/0001-70',\n",
    "    'GARE11':'37.295.919/0001-60',\n",
    "    'JSRE11':'13.371.132/0001-71',\n",
    "    'VILG11':'24.853.044/0001-22',\n",
    "    'RBRR11':'29.467.977/0001-03',\n",
    "    'VRTA11':'11.664.201/0001-00',\n",
    "    'VGHF11':'36.771.692/0001-19',\n",
    "    'VCJR11':'32.400.250/0001-05',\n",
    "    'GGRC11':'26.614.291/0001-00',\n",
    "    'ALZR11':'28.737.771/0001-85',\n",
    "    'RBRY11':'30.166.700/0001-11',\n",
    "    'BRCR11':'08.924.783/0001-01',\n",
    "    'GZIT11':'15.447.108/0001-02',\n",
    "    'HSLG11':'32.903.621/0001-71',\n",
    "    'MCRE11':'36.655.973/0001-06',\n",
    "    'VGIP11':'34.197.811/0001-46',\n",
    "    'RBRF11':'27.529.279/0001-51',\n",
    "    'CVBI11':'28.729.197/0001-13',\n",
    "    'BTCI11':'09.552.812/0001-14',\n",
    "    'GTWR11':'23.740.527/0001-58',\n",
    "    'KORE11':'52.219.978/0001-42',\n",
    "    'CPSH11':'47.896.665/0001-99',\n",
    "    'BBIG11':'54.375.187/0001-37',\n",
    "    'RZAK11':'36.642.219/0001-31',\n",
    "    'RVBI11':'35.507.457/0001-71',\n",
    "    'XPCI11':'28.516.301/0001-91',\n",
    "    'HABT11':'30.578.417/0001-05',\n",
    "    'CCME11':'43.010.844/0001-26',\n",
    "    'JSAF11':'42.085.661/0001-07',\n",
    "    'URPR11':'34.508.872/0001-87',\n",
    "    'RBRP11':'21.408.063/0001-51',\n",
    "    'BPML11':'33.046.142/0001-49',\n",
    "    'BROF11':'48.978.859/0001-04',\n",
    "    'KFOF11':'30.091.444/0001-40',\n",
    "    'RBRL11':'35.705.463/0001-33',\n",
    "    'MFII11':'16.915.968/0001-88',\n",
    "    'ITRI11':'52.270.671/0001-76',\n",
    "    'RCRB11':'03.683.056/0001-86',\n",
    "    'TRBL11':'16.671.412/0001-93',\n",
    "    'HCTR11':'30.248.180/0001-96',\n",
    "    'CACR11':'32.065.364/0001-46',\n",
    "    'BTAL11':'36.642.244/0001-15',\n",
    "    'AFHI11':'36.642.293/0001-58',\n",
    "    'SARE11':'32.903.702/0001-71',\n",
    "    'VINO11':'12.516.185/0001-70',\n",
    "    'DEVA11':'37.087.810/0001-37',\n",
    "    'BCRI11':'22.219.335/0001-38',\n",
    "    'HTMX11':'08.706.065/0001-69',\n",
    "    'CLIN11':'49.005.348/0001-60',\n",
    "    'SNCI11':'41.076.710/0001-82',\n",
    "    'RZAT11':'28.267.696/0001-36',\n",
    "    'TEPP11':'26.681.370/0001-25',\n",
    "    'ICRI11':'51.294.441/0001-84',\n",
    "    'BARI11':'29.267.567/0001-00',\n",
    "    'TOPP11':'56.805.391/0001-76',\n",
    "    'SNEL11':'43.741.171/0001-84',\n",
    "    'VRTM11':'51.870.412/0001-13',\n",
    "    'FATN11':'30.567.216/0001-02',\n",
    "    'LIFE11':'39.753.295/0001-02',\n",
    "    'MANA11':'42.888.583/0001-89',\n",
    "    'BCIA11':'20.216.935/0001-17',\n",
    "    'CYCR11':'36.501.233/0001-15',\n",
    "    'KISU11':'36.669.660/0001-07',\n",
    "    'KCRE11':'42.502.802/0001-40',\n",
    "    'PORD11':'17.156.502/0001-09',\n",
    "    'SNFF11':'40.011.225/0001-68',\n",
    "    'VGRI11':'53.656.482/0001-07',\n",
    "    'XPSF11':'30.983.020/0001-90',\n",
    "    'WHGR11':'41.256.643/0001-88',\n",
    "    'OUJP11':'26.091.656/0001-50',\n",
    "    'PATL11':'35.754.164/0001-99',\n",
    "    'RBRX11':'41.088.458/0001-21',\n",
    "    'AJFI11':'51.472.985/0001-99',\n",
    "    'HGPO11':'11.260.134/0001-68',\n",
    "    'AIEC11':'35.765.826/0001-26',\n",
    "    'HGFF11':'32.784.898/0001-22',\n",
    "    'HSAF11':'35.360.687/0001-50',\n",
    "    'RBFF11':'17.329.029/0001-14',\n",
    "    'SPXS11':'43.010.543/0001-00',\n",
    "    'ARRI11':'32.006.821/0001-21',\n",
    "    'VIUR11':'36.445.587/0001-90',\n",
    "    'KIVO11':'42.273.325/0001-98',\n",
    "    'BLMG11':'34.081.637/0001-71',\n",
    "    'PMIS11':'51.868.778/0001-58'\n",
    "}\n",
    "\n",
    "# IFIX 2025 (SET-DEZ)\n",
    "dict_cnpj_set_dez_2025 = {\n",
    "    'AFHI11':'36.642.293/0001-58',\n",
    "    'AIEC11':'35.765.826/0001-26',\n",
    "    'AJFI11':'51.472.985/0001-99',\n",
    "    'ALZR11':'28.737.771/0001-85',\n",
    "    'ARRI11':'32.006.821/0001-21',\n",
    "    'BBIG11':'54.375.187/0001-37',\n",
    "    'BCIA11':'20.216.935/0001-17',\n",
    "    'BCRI11':'22.219.335/0001-38',\n",
    "    'BLMG11':'34.081.637/0001-71',\n",
    "    'BPML11':'33.046.142/0001-49',\n",
    "    'BRCO11':'20.748.515/0001-81',\n",
    "    'BRCR11':'08.924.783/0001-01',\n",
    "    'BROF11':'48.978.859/0001-04',\n",
    "    'BTAL11':'36.642.244/0001-15',\n",
    "    'BTCI11':'09.552.812/0001-14',\n",
    "    'BTHF11':'45.188.176/0001-57',\n",
    "    'BTLG11':'11.839.593/0001-09',\n",
    "    'CACR11':'32.065.364/0001-46',\n",
    "    'CCME11':'43.010.844/0001-26',\n",
    "    'CLIN11':'49.005.348/0001-60',\n",
    "    'CPSH11':'47.896.665/0001-99',\n",
    "    'CPTS11':'18.979.895/0001-13',\n",
    "    'CVBI11':'28.729.197/0001-13',\n",
    "    'CYCR11':'36.501.233/0001-15',\n",
    "    'DEVA11':'37.087.810/0001-37',\n",
    "    'FATN11':'30.567.216/0001-02',\n",
    "    'GARE11':'37.295.919/0001-60',\n",
    "    'GGRC11':'26.614.291/0001-00',\n",
    "    'GTWR11':'23.740.527/0001-58',\n",
    "    'GZIT11':'15.447.108/0001-02',\n",
    "    'HABT11':'30.578.417/0001-05',\n",
    "    'HCTR11':'30.248.180/0001-96',\n",
    "    'HFOF11':'18.307.582/0001-19',\n",
    "    'HGBS11':'08.431.747/0001-06',\n",
    "    'HGCR11':'11.160.521/0001-22',\n",
    "    'HGLG11':'11.728.688/0001-47',\n",
    "    'HGRE11':'09.072.017/0001-29',\n",
    "    'HGRU11':'29.641.226/0001-53',\n",
    "    'HSAF11':'35.360.687/0001-50',\n",
    "    'HSLG11':'32.903.621/0001-71',\n",
    "    'HSML11':'32.892.018/0001-31',\n",
    "    'HTMX11':'08.706.065/0001-69',\n",
    "    'ICRI11':'51.294.441/0001-84',\n",
    "    'IRDM11':'28.830.325/0001-10',\n",
    "    'ITRI11':'52.270.671/0001-76',\n",
    "    'JSAF11':'42.085.661/0001-07',\n",
    "    'JSCR11':'54.866.214/0001-74',\n",
    "    'JSRE11':'13.371.132/0001-71',\n",
    "    'KCRE11':'42.502.802/0001-40',\n",
    "    'KFOF11':'30.091.444/0001-40',\n",
    "    'KISU11':'36.669.660/0001-07',\n",
    "    'KIVO11':'42.273.325/0001-98',\n",
    "    'KNCR11':'16.706.958/0001-32',\n",
    "    'KNHF11':'42.754.342/0001-47',\n",
    "    'KNHY11':'30.130.708/0001-28',\n",
    "    'KNIP11':'24.960.430/0001-13',\n",
    "    'KNRI11':'12.005.956/0001-65',\n",
    "    'KNSC11':'35.864.448/0001-38',\n",
    "    'KNUQ11':'42.754.362/0001-18',\n",
    "    'KORE11':'52.219.978/0001-42',\n",
    "    'LIFE11':'39.753.295/0001-02',   \n",
    "    'LVBI11':'30.629.603/0001-18',\n",
    "    'MANA11':'42.888.583/0001-89',\n",
    "    'MCCI11':'23.648.935/0001-84',\n",
    "    'MCRE11':'36.655.973/0001-06',\n",
    "    'MFII11':'16.915.968/0001-88',\n",
    "    'MXRF11':'97.521.225/0001-25',\n",
    "    'OUJP11':'26.091.656/0001-50',\n",
    "    'PATL11':'35.754.164/0001-99',\n",
    "    'PMIS11':'51.868.778/0001-58',\n",
    "    'PMLL11':'26.499.833/0001-32',\n",
    "    'PORD11':'17.156.502/0001-09',\n",
    "    'PVBI11':'35.652.102/0001-76',\n",
    "    'RBFF11':'17.329.029/0001-14',\n",
    "    'RBVA11':'15.576.907/0001-70',\n",
    "    'RBRF11':'27.529.279/0001-51',\n",
    "    'RBRL11':'35.705.463/0001-33',\n",
    "    'RBRP11':'21.408.063/0001-51',\n",
    "    'RBRR11':'29.467.977/0001-03',\n",
    "    'RBRX11':'41.088.458/0001-21',\n",
    "    'RBRY11':'30.166.700/0001-11',\n",
    "    'RBVA11':'15.576.907/0001-70',\n",
    "    'RCRB11':'03.683.056/0001-86',\n",
    "    'RECR11':'28.152.272/0001-26',\n",
    "    'RVBI11':'35.507.457/0001-71',\n",
    "    'RZAK11':'36.642.219/0001-31',\n",
    "    'RZAT11':'28.267.696/0001-36',\n",
    "    'RZTR11':'36.501.128/0001-86',\n",
    "    'SARE11':'32.903.702/0001-71',\n",
    "    'SNCI11':'41.076.710/0001-82',\n",
    "    'SNEL11':'43.741.171/0001-84',\n",
    "    'SNFF11':'40.011.225/0001-68',\n",
    "    'SPXS11':'43.010.543/0001-00',\n",
    "    'TEPP11':'26.681.370/0001-25',\n",
    "    'TGAR11':'25.032.881/0001-53',\n",
    "    'TOPP11':'56.805.391/0001-76',\n",
    "    'TRBL11':'16.671.412/0001-93',\n",
    "    'TRXF11':'28.548.288/0001-52',\n",
    "    'TVRI11':'14.410.722/0001-29',\n",
    "    'URPR11':'34.508.872/0001-87',\n",
    "    'VCJR11':'32.400.250/0001-05',\n",
    "    'VGHF11':'36.771.692/0001-19',\n",
    "    'VGIP11':'34.197.811/0001-46',\n",
    "    'VGIR11':'29.852.732/0001-91',\n",
    "    'VGRI11':'53.656.482/0001-07',\n",
    "    'VILG11':'24.853.044/0001-22',\n",
    "    'VINO11':'12.516.185/0001-70',\n",
    "    'VISC11':'17.554.274/0001-25',\n",
    "    'VRTA11':'11.664.201/0001-00',\n",
    "    'VRTM11':'51.870.412/0001-13',\n",
    "    'WHGR11':'41.256.643/0001-88',\n",
    "    'XPCI11':'28.516.301/0001-91',\n",
    "    'XPLG11':'26.502.794/0001-85',\n",
    "    'XPML11':'28.757.546/0001-00',\n",
    "    'XPSF11':'30.983.020/0001-90',\n",
    "}"
   ]
  },
  {
   "cell_type": "code",
   "execution_count": 4,
   "metadata": {},
   "outputs": [],
   "source": [
    "# Dados mensais dos FIIs de 2022\n",
    "df_fii_2022 = open_arquivos_fii(\n",
    "    fii_ativo_passivo_path='C://Users//vitor//projetos_python//python_b3//historico-arquivos//fundos_investimentos//fii_cvm//2022//inf_mensal_fii_ativo_passivo_2022.parquet',\n",
    "    fii_complemento_path='C://Users//vitor//projetos_python//python_b3//historico-arquivos//fundos_investimentos//fii_cvm//2022//inf_mensal_fii_complemento_2022.parquet',\n",
    "    fii_geral_path='C://Users//vitor//projetos_python//python_b3//historico-arquivos//fundos_investimentos//fii_cvm//2022//inf_mensal_fii_geral_2022.parquet'\n",
    ")\n",
    "\n",
    "# Dados mensais dos FIIs de 2023\n",
    "df_fii_2023 = open_arquivos_fii(\n",
    "    fii_ativo_passivo_path='C://Users//vitor//projetos_python//python_b3//historico-arquivos//fundos_investimentos//fii_cvm//2023//inf_mensal_fii_ativo_passivo_2023.parquet',\n",
    "    fii_complemento_path='C://Users//vitor//projetos_python//python_b3//historico-arquivos//fundos_investimentos//fii_cvm//2023//inf_mensal_fii_complemento_2023.parquet',\n",
    "    fii_geral_path='C://Users//vitor//projetos_python//python_b3//historico-arquivos//fundos_investimentos//fii_cvm//2023//inf_mensal_fii_geral_2023.parquet'\n",
    ")\n",
    "\n",
    "# Dados mensais dos FIIs de 2024\n",
    "df_fii_2024 = open_arquivos_fii(\n",
    "    fii_ativo_passivo_path='C://Users//vitor//projetos_python//python_b3//historico-arquivos//fundos_investimentos//fii_cvm//2024//inf_mensal_fii_ativo_passivo_2024.parquet',\n",
    "    fii_complemento_path='C://Users//vitor//projetos_python//python_b3//historico-arquivos//fundos_investimentos//fii_cvm//2024//inf_mensal_fii_complemento_2024.parquet',\n",
    "    fii_geral_path='C://Users//vitor//projetos_python//python_b3//historico-arquivos//fundos_investimentos//fii_cvm//2024//inf_mensal_fii_geral_2024.parquet'\n",
    ")\n",
    "\n",
    "# Dados mensais dos FIIs de 2025\n",
    "df_fii_2025 = open_arquivos_fii(\n",
    "    fii_ativo_passivo_path='C://Users//vitor//projetos_python//python_b3//historico-arquivos//fundos_investimentos//fii_cvm//2025//inf_mensal_fii_ativo_passivo_2025.parquet',\n",
    "    fii_complemento_path='C://Users//vitor//projetos_python//python_b3//historico-arquivos//fundos_investimentos//fii_cvm//2025//inf_mensal_fii_complemento_2025.parquet',\n",
    "    fii_geral_path='C://Users//vitor//projetos_python//python_b3//historico-arquivos//fundos_investimentos//fii_cvm//2025//inf_mensal_fii_geral_2025.parquet'\n",
    ")\n",
    "\n",
    "# Juntando os dfs\n",
    "df_fii_compilado = pd.concat([\n",
    "    df_fii_2022, \n",
    "    df_fii_2023, \n",
    "    df_fii_2024,\n",
    "    df_fii_2025,\n",
    "])\n",
    "\n",
    "# Extraindo os CNPJs do 'dict_cnpj_xxx_xxx_202x'\n",
    "cnpjs_mai_ago_2024 = dict_cnpj_mai_ago_2024.values()\n",
    "cnpjs_set_dez_2024 = dict_cnpj_set_dez_2024.values()\n",
    "cnpjs_jan_abr_2025 = dict_cnpj_jan_abr_2025.values()\n",
    "cnpjs_mai_ago_2025 = dict_cnpj_mai_ago_2025.values()\n",
    "cnpjs_set_dez_2025 = dict_cnpj_set_dez_2025.values()\n",
    "\n",
    "# Selecionando apenas os FIIs que estão no IFIX\n",
    "df_ifix_mai_ago_2024 = df_fii_compilado[df_fii_compilado['CNPJ_Fundo'].isin(cnpjs_mai_ago_2024)]\n",
    "df_ifix_set_dez_2024 = df_fii_compilado[df_fii_compilado['CNPJ_Fundo'].isin(cnpjs_set_dez_2024)]\n",
    "df_ifix_jan_abr_2025 = df_fii_compilado[df_fii_compilado['CNPJ_Fundo'].isin(cnpjs_jan_abr_2025)]\n",
    "df_ifix_mai_ago_2025 = df_fii_compilado[df_fii_compilado['CNPJ_Fundo'].isin(cnpjs_mai_ago_2025)]\n",
    "df_ifix_set_dez_2025 = df_fii_compilado[df_fii_compilado['CNPJ_Fundo'].isin(cnpjs_set_dez_2025)]\n",
    "\n",
    "# Fazendo uma cópia\n",
    "df_ifix_mai_ago_2024 = df_ifix_mai_ago_2024.copy() \n",
    "df_ifix_set_dez_2024 = df_ifix_set_dez_2024.copy() \n",
    "df_ifix_jan_abr_2025 = df_ifix_jan_abr_2025.copy() \n",
    "df_ifix_mai_ago_2025 = df_ifix_mai_ago_2025.copy() \n",
    "df_ifix_set_dez_2025 = df_ifix_set_dez_2025.copy() \n",
    "\n",
    "# Criando um dicionário reverso para mapear CNPJ (key) para ticker (value)\n",
    "reverse_dict_cnpj_mai_ago_2024 = {v: k for k, v in dict_cnpj_mai_ago_2024.items()}\n",
    "reverse_dict_cnpj_set_dez_2024 = {v: k for k, v in dict_cnpj_set_dez_2024.items()}\n",
    "reverse_dict_cnpj_jan_abr_2025 = {v: k for k, v in dict_cnpj_jan_abr_2025.items()}\n",
    "reverse_dict_cnpj_mai_ago_2025 = {v: k for k, v in dict_cnpj_mai_ago_2025.items()}\n",
    "reverse_dict_cnpj_set_dez_2025 = {v: k for k, v in dict_cnpj_set_dez_2025.items()}\n",
    "\n",
    "# Adicionando a coluna de tickers no df\n",
    "df_ifix_mai_ago_2024['Ticker'] = df_ifix_mai_ago_2024['CNPJ_Fundo'].map(reverse_dict_cnpj_mai_ago_2024)\n",
    "df_ifix_set_dez_2024['Ticker'] = df_ifix_set_dez_2024['CNPJ_Fundo'].map(reverse_dict_cnpj_set_dez_2024)\n",
    "df_ifix_jan_abr_2025['Ticker'] = df_ifix_jan_abr_2025['CNPJ_Fundo'].map(reverse_dict_cnpj_jan_abr_2025)\n",
    "df_ifix_mai_ago_2025['Ticker'] = df_ifix_mai_ago_2025['CNPJ_Fundo'].map(reverse_dict_cnpj_mai_ago_2025)\n",
    "df_ifix_set_dez_2025['Ticker'] = df_ifix_set_dez_2025['CNPJ_Fundo'].map(reverse_dict_cnpj_set_dez_2025)\n",
    "\n",
    "# Existe um fundo 'CACR11' (CNPJ:97.521.225/0001-25) que o 'Segmento_Atuacao' é 0, substituindo por 'Híbrido'\n",
    "df_ifix_mai_ago_2024['Segmento_Atuacao'] = df_ifix_mai_ago_2024['Segmento_Atuacao'].replace(0, 'Híbrido')\n",
    "df_ifix_set_dez_2024['Segmento_Atuacao'] = df_ifix_set_dez_2024['Segmento_Atuacao'].replace(0, 'Híbrido')\n",
    "df_ifix_jan_abr_2025['Segmento_Atuacao'] = df_ifix_jan_abr_2025['Segmento_Atuacao'].replace(0, 'Híbrido')\n",
    "df_ifix_mai_ago_2025['Segmento_Atuacao'] = df_ifix_mai_ago_2025['Segmento_Atuacao'].replace(0, 'Híbrido')\n",
    "df_ifix_set_dez_2025['Segmento_Atuacao'] = df_ifix_set_dez_2025['Segmento_Atuacao'].replace(0, 'Híbrido')\n",
    "\n",
    "# Selecionando a coluna 'Data_Referencia' como index\n",
    "df_ifix_mai_ago_2024 = df_ifix_mai_ago_2024.set_index('Data_Referencia')\n",
    "df_ifix_set_dez_2024 = df_ifix_set_dez_2024.set_index('Data_Referencia')\n",
    "df_ifix_jan_abr_2025 = df_ifix_jan_abr_2025.set_index('Data_Referencia')\n",
    "df_ifix_mai_ago_2025 = df_ifix_mai_ago_2025.set_index('Data_Referencia')\n",
    "df_ifix_set_dez_2025 = df_ifix_set_dez_2025.set_index('Data_Referencia')"
   ]
  },
  {
   "cell_type": "code",
   "execution_count": 5,
   "metadata": {},
   "outputs": [
    {
     "data": {
      "text/html": [
       "<div>\n",
       "<style scoped>\n",
       "    .dataframe tbody tr th:only-of-type {\n",
       "        vertical-align: middle;\n",
       "    }\n",
       "\n",
       "    .dataframe tbody tr th {\n",
       "        vertical-align: top;\n",
       "    }\n",
       "\n",
       "    .dataframe thead th {\n",
       "        text-align: right;\n",
       "    }\n",
       "</style>\n",
       "<table border=\"1\" class=\"dataframe\">\n",
       "  <thead>\n",
       "    <tr style=\"text-align: right;\">\n",
       "      <th></th>\n",
       "      <th>Close</th>\n",
       "      <th>Open</th>\n",
       "      <th>High</th>\n",
       "      <th>Low</th>\n",
       "      <th>pct_change</th>\n",
       "      <th>pct_change_accum</th>\n",
       "    </tr>\n",
       "    <tr>\n",
       "      <th>Date</th>\n",
       "      <th></th>\n",
       "      <th></th>\n",
       "      <th></th>\n",
       "      <th></th>\n",
       "      <th></th>\n",
       "      <th></th>\n",
       "    </tr>\n",
       "  </thead>\n",
       "  <tbody>\n",
       "    <tr>\n",
       "      <th>2011-01-03</th>\n",
       "      <td>1001.11</td>\n",
       "      <td>1001.11</td>\n",
       "      <td>1001.11</td>\n",
       "      <td>1001.11</td>\n",
       "      <td>NaN</td>\n",
       "      <td>1.0000</td>\n",
       "    </tr>\n",
       "    <tr>\n",
       "      <th>2011-01-04</th>\n",
       "      <td>992.56</td>\n",
       "      <td>992.56</td>\n",
       "      <td>992.56</td>\n",
       "      <td>992.56</td>\n",
       "      <td>-0.8541</td>\n",
       "      <td>0.9915</td>\n",
       "    </tr>\n",
       "    <tr>\n",
       "      <th>2011-01-05</th>\n",
       "      <td>998.65</td>\n",
       "      <td>998.65</td>\n",
       "      <td>998.65</td>\n",
       "      <td>998.65</td>\n",
       "      <td>0.6136</td>\n",
       "      <td>0.9975</td>\n",
       "    </tr>\n",
       "    <tr>\n",
       "      <th>2011-01-06</th>\n",
       "      <td>996.31</td>\n",
       "      <td>996.31</td>\n",
       "      <td>996.31</td>\n",
       "      <td>996.31</td>\n",
       "      <td>-0.2343</td>\n",
       "      <td>0.9952</td>\n",
       "    </tr>\n",
       "    <tr>\n",
       "      <th>2011-01-07</th>\n",
       "      <td>1000.82</td>\n",
       "      <td>1000.82</td>\n",
       "      <td>1000.82</td>\n",
       "      <td>1000.82</td>\n",
       "      <td>0.4527</td>\n",
       "      <td>0.9997</td>\n",
       "    </tr>\n",
       "    <tr>\n",
       "      <th>...</th>\n",
       "      <td>...</td>\n",
       "      <td>...</td>\n",
       "      <td>...</td>\n",
       "      <td>...</td>\n",
       "      <td>...</td>\n",
       "      <td>...</td>\n",
       "    </tr>\n",
       "    <tr>\n",
       "      <th>2025-07-18</th>\n",
       "      <td>3465.01</td>\n",
       "      <td>3475.04</td>\n",
       "      <td>3476.11</td>\n",
       "      <td>3464.55</td>\n",
       "      <td>-0.2886</td>\n",
       "      <td>3.4612</td>\n",
       "    </tr>\n",
       "    <tr>\n",
       "      <th>2025-07-21</th>\n",
       "      <td>3443.94</td>\n",
       "      <td>3465.01</td>\n",
       "      <td>3466.37</td>\n",
       "      <td>3443.94</td>\n",
       "      <td>-0.6081</td>\n",
       "      <td>3.4401</td>\n",
       "    </tr>\n",
       "    <tr>\n",
       "      <th>2025-07-22</th>\n",
       "      <td>3440.95</td>\n",
       "      <td>3443.95</td>\n",
       "      <td>3451.26</td>\n",
       "      <td>3439.28</td>\n",
       "      <td>-0.0868</td>\n",
       "      <td>3.4371</td>\n",
       "    </tr>\n",
       "    <tr>\n",
       "      <th>2025-07-23</th>\n",
       "      <td>3432.71</td>\n",
       "      <td>3440.95</td>\n",
       "      <td>3444.94</td>\n",
       "      <td>3431.12</td>\n",
       "      <td>-0.2395</td>\n",
       "      <td>3.4289</td>\n",
       "    </tr>\n",
       "    <tr>\n",
       "      <th>2025-07-24</th>\n",
       "      <td>3437.58</td>\n",
       "      <td>3432.71</td>\n",
       "      <td>3438.42</td>\n",
       "      <td>3428.90</td>\n",
       "      <td>0.1419</td>\n",
       "      <td>3.4338</td>\n",
       "    </tr>\n",
       "  </tbody>\n",
       "</table>\n",
       "<p>3611 rows × 6 columns</p>\n",
       "</div>"
      ],
      "text/plain": [
       "              Close     Open     High      Low  pct_change  pct_change_accum\n",
       "Date                                                                        \n",
       "2011-01-03  1001.11  1001.11  1001.11  1001.11         NaN            1.0000\n",
       "2011-01-04   992.56   992.56   992.56   992.56     -0.8541            0.9915\n",
       "2011-01-05   998.65   998.65   998.65   998.65      0.6136            0.9975\n",
       "2011-01-06   996.31   996.31   996.31   996.31     -0.2343            0.9952\n",
       "2011-01-07  1000.82  1000.82  1000.82  1000.82      0.4527            0.9997\n",
       "...             ...      ...      ...      ...         ...               ...\n",
       "2025-07-18  3465.01  3475.04  3476.11  3464.55     -0.2886            3.4612\n",
       "2025-07-21  3443.94  3465.01  3466.37  3443.94     -0.6081            3.4401\n",
       "2025-07-22  3440.95  3443.95  3451.26  3439.28     -0.0868            3.4371\n",
       "2025-07-23  3432.71  3440.95  3444.94  3431.12     -0.2395            3.4289\n",
       "2025-07-24  3437.58  3432.71  3438.42  3428.90      0.1419            3.4338\n",
       "\n",
       "[3611 rows x 6 columns]"
      ]
     },
     "execution_count": 5,
     "metadata": {},
     "output_type": "execute_result"
    }
   ],
   "source": [
    "# Dados históricos do IFIX - de 2011 até 24-07-2025\n",
    "# https://br.investing.com/indices/bm-fbovespa-real-estate-ifix-historical-data\n",
    "\n",
    "ifix_precos = pd.read_csv(\n",
    "    'C://Users//vitor//projetos_python//python_b3//composicao-fundos-de-investimentos//fundo_imobiliario//ifix//dados_historicos_ifix_24072025.csv',\n",
    "    sep=','\n",
    ")\n",
    "\n",
    "# Removendo a coluna 'Vol.' e 'Var%'\n",
    "ifix_precos = ifix_precos.drop(columns=['Vol.', 'Var%'])\n",
    "\n",
    "# Renomeando as colunas\n",
    "ifix_precos = ifix_precos.rename(columns={\n",
    "    'Data': 'Date',\n",
    "    'Último': 'Close',\n",
    "    'Abertura': 'Open',\n",
    "    'Máxima': 'High',\n",
    "    'Mínima': 'Low',\n",
    "})\n",
    "\n",
    "# Arrumando os dtypes das colunas\n",
    "ifix_precos['Close'] = ifix_precos['Close'].str.replace('.', '', regex=True).str.replace(',', '.', regex=True).astype(float)\n",
    "ifix_precos['Open'] = ifix_precos['Open'].str.replace('.', '', regex=True).str.replace(',', '.', regex=True).astype(float)\n",
    "ifix_precos['High'] = ifix_precos['High'].str.replace('.', '', regex=True).str.replace(',', '.', regex=True).astype(float)\n",
    "ifix_precos['Low'] = ifix_precos['Low'].str.replace('.', '', regex=True).str.replace(',', '.', regex=True).astype(float)\n",
    "ifix_precos['Date'] = pd.to_datetime(ifix_precos['Date'], format='%d.%m.%Y')\n",
    "\n",
    "# Definindo a coluna 'Date' como index\n",
    "ifix_precos = ifix_precos.set_index('Date')\n",
    "\n",
    "# Invertendo o df\n",
    "ifix_precos = ifix_precos.iloc[::-1]\n",
    "\n",
    "# Calculando a variação percentual\n",
    "ifix_precos['pct_change'] = round(ifix_precos['Close'].pct_change() * 100, 4)\n",
    "\n",
    "# Calculando a variação percentual acumulada\n",
    "ifix_precos['pct_change_accum'] = round((1 + (ifix_precos['pct_change']/100)).cumprod(), 4) \n",
    "# Primeiro dia começa em 1\n",
    "ifix_precos['pct_change_accum'].iloc[0] = 1\n",
    "\n",
    "ifix_precos"
   ]
  },
  {
   "cell_type": "code",
   "execution_count": 15,
   "metadata": {},
   "outputs": [
    {
     "data": {
      "application/vnd.plotly.v1+json": {
       "config": {
        "plotlyServerURL": "https://plot.ly"
       },
       "data": [
        {
         "domain": {
          "x": [
           0,
           0.45
          ],
          "y": [
           0.7666666666666666,
           0.9999999999999999
          ]
         },
         "labels": [
          "Títulos e Val. Mob.",
          "Híbrido",
          "Outros",
          "Logística",
          "Lajes Corporativas",
          "Shoppings",
          "Hotel"
         ],
         "type": "pie",
         "values": [
          2070,
          990,
          466,
          459,
          380,
          199,
          42
         ]
        },
        {
         "domain": {
          "x": [
           0.55,
           1
          ],
          "y": [
           0.7666666666666666,
           0.9999999999999999
          ]
         },
         "labels": [
          "Títulos e Val. Mob.",
          "Híbrido",
          "Logística",
          "Outros",
          "Lajes Corporativas",
          "Shoppings",
          "Hotel"
         ],
         "type": "pie",
         "values": [
          2071,
          1061,
          459,
          424,
          389,
          248,
          42
         ]
        },
        {
         "domain": {
          "x": [
           0,
           0.45
          ],
          "y": [
           0.3833333333333333,
           0.6166666666666666
          ]
         },
         "labels": [
          "Títulos e Val. Mob.",
          "Híbrido",
          "Outros",
          "Logística",
          "Lajes Corporativas",
          "Shoppings",
          "Hotel"
         ],
         "type": "pie",
         "values": [
          2067,
          1057,
          456,
          417,
          380,
          264,
          42
         ]
        },
        {
         "domain": {
          "x": [
           0.55,
           1
          ],
          "y": [
           0.3833333333333333,
           0.6166666666666666
          ]
         },
         "labels": [
          "Títulos e Val. Mob.",
          "Híbrido",
          "Logística",
          "Lajes Corporativas",
          "Outros",
          "Shoppings",
          "Hotel"
         ],
         "type": "pie",
         "values": [
          2115,
          1033,
          417,
          380,
          344,
          264,
          42
         ]
        },
        {
         "domain": {
          "x": [
           0,
           0.45
          ],
          "y": [
           0,
           0.2333333333333333
          ]
         },
         "labels": [
          "Títulos e Val. Mob.",
          "Híbrido",
          "Logística",
          "Lajes Corporativas",
          "Outros",
          "Shoppings",
          "Hotel"
         ],
         "type": "pie",
         "values": [
          2044,
          1033,
          417,
          338,
          302,
          264,
          42
         ]
        }
       ],
       "layout": {
        "annotations": [
         {
          "font": {
           "size": 16
          },
          "showarrow": false,
          "text": "Distribuição dos Segmentos dos IFIX (Maio a Agosto 2024)",
          "x": 0.225,
          "xanchor": "center",
          "xref": "paper",
          "y": 0.9999999999999999,
          "yanchor": "bottom",
          "yref": "paper"
         },
         {
          "font": {
           "size": 16
          },
          "showarrow": false,
          "text": "Distribuição dos Segmentos dos IFIX (Setembro a Dezembro 2024)",
          "x": 0.775,
          "xanchor": "center",
          "xref": "paper",
          "y": 0.9999999999999999,
          "yanchor": "bottom",
          "yref": "paper"
         },
         {
          "font": {
           "size": 16
          },
          "showarrow": false,
          "text": "Distribuição dos Segmentos dos IFIX (Janeiro a Abril 2025)",
          "x": 0.225,
          "xanchor": "center",
          "xref": "paper",
          "y": 0.6166666666666666,
          "yanchor": "bottom",
          "yref": "paper"
         },
         {
          "font": {
           "size": 16
          },
          "showarrow": false,
          "text": "Distribuição dos Segmentos dos IFIX (Maio a Agosto 2025)",
          "x": 0.775,
          "xanchor": "center",
          "xref": "paper",
          "y": 0.6166666666666666,
          "yanchor": "bottom",
          "yref": "paper"
         },
         {
          "font": {
           "size": 16
          },
          "showarrow": false,
          "text": "Distribuição dos Segmentos dos IFIX (Setembro a Dezembro 2025)",
          "x": 0.225,
          "xanchor": "center",
          "xref": "paper",
          "y": 0.2333333333333333,
          "yanchor": "bottom",
          "yref": "paper"
         }
        ],
        "height": 1000,
        "template": {
         "data": {
          "bar": [
           {
            "error_x": {
             "color": "#2a3f5f"
            },
            "error_y": {
             "color": "#2a3f5f"
            },
            "marker": {
             "line": {
              "color": "#E5ECF6",
              "width": 0.5
             },
             "pattern": {
              "fillmode": "overlay",
              "size": 10,
              "solidity": 0.2
             }
            },
            "type": "bar"
           }
          ],
          "barpolar": [
           {
            "marker": {
             "line": {
              "color": "#E5ECF6",
              "width": 0.5
             },
             "pattern": {
              "fillmode": "overlay",
              "size": 10,
              "solidity": 0.2
             }
            },
            "type": "barpolar"
           }
          ],
          "carpet": [
           {
            "aaxis": {
             "endlinecolor": "#2a3f5f",
             "gridcolor": "white",
             "linecolor": "white",
             "minorgridcolor": "white",
             "startlinecolor": "#2a3f5f"
            },
            "baxis": {
             "endlinecolor": "#2a3f5f",
             "gridcolor": "white",
             "linecolor": "white",
             "minorgridcolor": "white",
             "startlinecolor": "#2a3f5f"
            },
            "type": "carpet"
           }
          ],
          "choropleth": [
           {
            "colorbar": {
             "outlinewidth": 0,
             "ticks": ""
            },
            "type": "choropleth"
           }
          ],
          "contour": [
           {
            "colorbar": {
             "outlinewidth": 0,
             "ticks": ""
            },
            "colorscale": [
             [
              0,
              "#0d0887"
             ],
             [
              0.1111111111111111,
              "#46039f"
             ],
             [
              0.2222222222222222,
              "#7201a8"
             ],
             [
              0.3333333333333333,
              "#9c179e"
             ],
             [
              0.4444444444444444,
              "#bd3786"
             ],
             [
              0.5555555555555556,
              "#d8576b"
             ],
             [
              0.6666666666666666,
              "#ed7953"
             ],
             [
              0.7777777777777778,
              "#fb9f3a"
             ],
             [
              0.8888888888888888,
              "#fdca26"
             ],
             [
              1,
              "#f0f921"
             ]
            ],
            "type": "contour"
           }
          ],
          "contourcarpet": [
           {
            "colorbar": {
             "outlinewidth": 0,
             "ticks": ""
            },
            "type": "contourcarpet"
           }
          ],
          "heatmap": [
           {
            "colorbar": {
             "outlinewidth": 0,
             "ticks": ""
            },
            "colorscale": [
             [
              0,
              "#0d0887"
             ],
             [
              0.1111111111111111,
              "#46039f"
             ],
             [
              0.2222222222222222,
              "#7201a8"
             ],
             [
              0.3333333333333333,
              "#9c179e"
             ],
             [
              0.4444444444444444,
              "#bd3786"
             ],
             [
              0.5555555555555556,
              "#d8576b"
             ],
             [
              0.6666666666666666,
              "#ed7953"
             ],
             [
              0.7777777777777778,
              "#fb9f3a"
             ],
             [
              0.8888888888888888,
              "#fdca26"
             ],
             [
              1,
              "#f0f921"
             ]
            ],
            "type": "heatmap"
           }
          ],
          "heatmapgl": [
           {
            "colorbar": {
             "outlinewidth": 0,
             "ticks": ""
            },
            "colorscale": [
             [
              0,
              "#0d0887"
             ],
             [
              0.1111111111111111,
              "#46039f"
             ],
             [
              0.2222222222222222,
              "#7201a8"
             ],
             [
              0.3333333333333333,
              "#9c179e"
             ],
             [
              0.4444444444444444,
              "#bd3786"
             ],
             [
              0.5555555555555556,
              "#d8576b"
             ],
             [
              0.6666666666666666,
              "#ed7953"
             ],
             [
              0.7777777777777778,
              "#fb9f3a"
             ],
             [
              0.8888888888888888,
              "#fdca26"
             ],
             [
              1,
              "#f0f921"
             ]
            ],
            "type": "heatmapgl"
           }
          ],
          "histogram": [
           {
            "marker": {
             "pattern": {
              "fillmode": "overlay",
              "size": 10,
              "solidity": 0.2
             }
            },
            "type": "histogram"
           }
          ],
          "histogram2d": [
           {
            "colorbar": {
             "outlinewidth": 0,
             "ticks": ""
            },
            "colorscale": [
             [
              0,
              "#0d0887"
             ],
             [
              0.1111111111111111,
              "#46039f"
             ],
             [
              0.2222222222222222,
              "#7201a8"
             ],
             [
              0.3333333333333333,
              "#9c179e"
             ],
             [
              0.4444444444444444,
              "#bd3786"
             ],
             [
              0.5555555555555556,
              "#d8576b"
             ],
             [
              0.6666666666666666,
              "#ed7953"
             ],
             [
              0.7777777777777778,
              "#fb9f3a"
             ],
             [
              0.8888888888888888,
              "#fdca26"
             ],
             [
              1,
              "#f0f921"
             ]
            ],
            "type": "histogram2d"
           }
          ],
          "histogram2dcontour": [
           {
            "colorbar": {
             "outlinewidth": 0,
             "ticks": ""
            },
            "colorscale": [
             [
              0,
              "#0d0887"
             ],
             [
              0.1111111111111111,
              "#46039f"
             ],
             [
              0.2222222222222222,
              "#7201a8"
             ],
             [
              0.3333333333333333,
              "#9c179e"
             ],
             [
              0.4444444444444444,
              "#bd3786"
             ],
             [
              0.5555555555555556,
              "#d8576b"
             ],
             [
              0.6666666666666666,
              "#ed7953"
             ],
             [
              0.7777777777777778,
              "#fb9f3a"
             ],
             [
              0.8888888888888888,
              "#fdca26"
             ],
             [
              1,
              "#f0f921"
             ]
            ],
            "type": "histogram2dcontour"
           }
          ],
          "mesh3d": [
           {
            "colorbar": {
             "outlinewidth": 0,
             "ticks": ""
            },
            "type": "mesh3d"
           }
          ],
          "parcoords": [
           {
            "line": {
             "colorbar": {
              "outlinewidth": 0,
              "ticks": ""
             }
            },
            "type": "parcoords"
           }
          ],
          "pie": [
           {
            "automargin": true,
            "type": "pie"
           }
          ],
          "scatter": [
           {
            "fillpattern": {
             "fillmode": "overlay",
             "size": 10,
             "solidity": 0.2
            },
            "type": "scatter"
           }
          ],
          "scatter3d": [
           {
            "line": {
             "colorbar": {
              "outlinewidth": 0,
              "ticks": ""
             }
            },
            "marker": {
             "colorbar": {
              "outlinewidth": 0,
              "ticks": ""
             }
            },
            "type": "scatter3d"
           }
          ],
          "scattercarpet": [
           {
            "marker": {
             "colorbar": {
              "outlinewidth": 0,
              "ticks": ""
             }
            },
            "type": "scattercarpet"
           }
          ],
          "scattergeo": [
           {
            "marker": {
             "colorbar": {
              "outlinewidth": 0,
              "ticks": ""
             }
            },
            "type": "scattergeo"
           }
          ],
          "scattergl": [
           {
            "marker": {
             "colorbar": {
              "outlinewidth": 0,
              "ticks": ""
             }
            },
            "type": "scattergl"
           }
          ],
          "scattermapbox": [
           {
            "marker": {
             "colorbar": {
              "outlinewidth": 0,
              "ticks": ""
             }
            },
            "type": "scattermapbox"
           }
          ],
          "scatterpolar": [
           {
            "marker": {
             "colorbar": {
              "outlinewidth": 0,
              "ticks": ""
             }
            },
            "type": "scatterpolar"
           }
          ],
          "scatterpolargl": [
           {
            "marker": {
             "colorbar": {
              "outlinewidth": 0,
              "ticks": ""
             }
            },
            "type": "scatterpolargl"
           }
          ],
          "scatterternary": [
           {
            "marker": {
             "colorbar": {
              "outlinewidth": 0,
              "ticks": ""
             }
            },
            "type": "scatterternary"
           }
          ],
          "surface": [
           {
            "colorbar": {
             "outlinewidth": 0,
             "ticks": ""
            },
            "colorscale": [
             [
              0,
              "#0d0887"
             ],
             [
              0.1111111111111111,
              "#46039f"
             ],
             [
              0.2222222222222222,
              "#7201a8"
             ],
             [
              0.3333333333333333,
              "#9c179e"
             ],
             [
              0.4444444444444444,
              "#bd3786"
             ],
             [
              0.5555555555555556,
              "#d8576b"
             ],
             [
              0.6666666666666666,
              "#ed7953"
             ],
             [
              0.7777777777777778,
              "#fb9f3a"
             ],
             [
              0.8888888888888888,
              "#fdca26"
             ],
             [
              1,
              "#f0f921"
             ]
            ],
            "type": "surface"
           }
          ],
          "table": [
           {
            "cells": {
             "fill": {
              "color": "#EBF0F8"
             },
             "line": {
              "color": "white"
             }
            },
            "header": {
             "fill": {
              "color": "#C8D4E3"
             },
             "line": {
              "color": "white"
             }
            },
            "type": "table"
           }
          ]
         },
         "layout": {
          "annotationdefaults": {
           "arrowcolor": "#2a3f5f",
           "arrowhead": 0,
           "arrowwidth": 1
          },
          "autotypenumbers": "strict",
          "coloraxis": {
           "colorbar": {
            "outlinewidth": 0,
            "ticks": ""
           }
          },
          "colorscale": {
           "diverging": [
            [
             0,
             "#8e0152"
            ],
            [
             0.1,
             "#c51b7d"
            ],
            [
             0.2,
             "#de77ae"
            ],
            [
             0.3,
             "#f1b6da"
            ],
            [
             0.4,
             "#fde0ef"
            ],
            [
             0.5,
             "#f7f7f7"
            ],
            [
             0.6,
             "#e6f5d0"
            ],
            [
             0.7,
             "#b8e186"
            ],
            [
             0.8,
             "#7fbc41"
            ],
            [
             0.9,
             "#4d9221"
            ],
            [
             1,
             "#276419"
            ]
           ],
           "sequential": [
            [
             0,
             "#0d0887"
            ],
            [
             0.1111111111111111,
             "#46039f"
            ],
            [
             0.2222222222222222,
             "#7201a8"
            ],
            [
             0.3333333333333333,
             "#9c179e"
            ],
            [
             0.4444444444444444,
             "#bd3786"
            ],
            [
             0.5555555555555556,
             "#d8576b"
            ],
            [
             0.6666666666666666,
             "#ed7953"
            ],
            [
             0.7777777777777778,
             "#fb9f3a"
            ],
            [
             0.8888888888888888,
             "#fdca26"
            ],
            [
             1,
             "#f0f921"
            ]
           ],
           "sequentialminus": [
            [
             0,
             "#0d0887"
            ],
            [
             0.1111111111111111,
             "#46039f"
            ],
            [
             0.2222222222222222,
             "#7201a8"
            ],
            [
             0.3333333333333333,
             "#9c179e"
            ],
            [
             0.4444444444444444,
             "#bd3786"
            ],
            [
             0.5555555555555556,
             "#d8576b"
            ],
            [
             0.6666666666666666,
             "#ed7953"
            ],
            [
             0.7777777777777778,
             "#fb9f3a"
            ],
            [
             0.8888888888888888,
             "#fdca26"
            ],
            [
             1,
             "#f0f921"
            ]
           ]
          },
          "colorway": [
           "#636efa",
           "#EF553B",
           "#00cc96",
           "#ab63fa",
           "#FFA15A",
           "#19d3f3",
           "#FF6692",
           "#B6E880",
           "#FF97FF",
           "#FECB52"
          ],
          "font": {
           "color": "#2a3f5f"
          },
          "geo": {
           "bgcolor": "white",
           "lakecolor": "white",
           "landcolor": "#E5ECF6",
           "showlakes": true,
           "showland": true,
           "subunitcolor": "white"
          },
          "hoverlabel": {
           "align": "left"
          },
          "hovermode": "closest",
          "mapbox": {
           "style": "light"
          },
          "paper_bgcolor": "white",
          "plot_bgcolor": "#E5ECF6",
          "polar": {
           "angularaxis": {
            "gridcolor": "white",
            "linecolor": "white",
            "ticks": ""
           },
           "bgcolor": "#E5ECF6",
           "radialaxis": {
            "gridcolor": "white",
            "linecolor": "white",
            "ticks": ""
           }
          },
          "scene": {
           "xaxis": {
            "backgroundcolor": "#E5ECF6",
            "gridcolor": "white",
            "gridwidth": 2,
            "linecolor": "white",
            "showbackground": true,
            "ticks": "",
            "zerolinecolor": "white"
           },
           "yaxis": {
            "backgroundcolor": "#E5ECF6",
            "gridcolor": "white",
            "gridwidth": 2,
            "linecolor": "white",
            "showbackground": true,
            "ticks": "",
            "zerolinecolor": "white"
           },
           "zaxis": {
            "backgroundcolor": "#E5ECF6",
            "gridcolor": "white",
            "gridwidth": 2,
            "linecolor": "white",
            "showbackground": true,
            "ticks": "",
            "zerolinecolor": "white"
           }
          },
          "shapedefaults": {
           "line": {
            "color": "#2a3f5f"
           }
          },
          "ternary": {
           "aaxis": {
            "gridcolor": "white",
            "linecolor": "white",
            "ticks": ""
           },
           "baxis": {
            "gridcolor": "white",
            "linecolor": "white",
            "ticks": ""
           },
           "bgcolor": "#E5ECF6",
           "caxis": {
            "gridcolor": "white",
            "linecolor": "white",
            "ticks": ""
           }
          },
          "title": {
           "x": 0.05
          },
          "xaxis": {
           "automargin": true,
           "gridcolor": "white",
           "linecolor": "white",
           "ticks": "",
           "title": {
            "standoff": 15
           },
           "zerolinecolor": "white",
           "zerolinewidth": 2
          },
          "yaxis": {
           "automargin": true,
           "gridcolor": "white",
           "linecolor": "white",
           "ticks": "",
           "title": {
            "standoff": 15
           },
           "zerolinecolor": "white",
           "zerolinewidth": 2
          }
         }
        },
        "title": {
         "text": "Distribuição dos Segmentos dos IFIX",
         "x": 0.5
        },
        "width": 1500
       }
      }
     },
     "metadata": {},
     "output_type": "display_data"
    }
   ],
   "source": [
    "# Contando os números de cada segmento de atuação dos FIIs (Maio a Agosto 2024)\n",
    "segmentos_fii_mai_ago_2024 = df_ifix_mai_ago_2024['Segmento_Atuacao'].value_counts()\n",
    "\n",
    "# Contando os números de cada segmento de atuação dos FIIs (Setembro a Dezembro 2024)\n",
    "segmentos_fii_set_dez_2024 = df_ifix_set_dez_2024['Segmento_Atuacao'].value_counts()\n",
    "\n",
    "# Contando os números de cada segmento de atuação dos FIIs (Janeiro a Abril 2025)\n",
    "segmentos_fii_jan_abr_2025 = df_ifix_jan_abr_2025['Segmento_Atuacao'].value_counts()\n",
    "\n",
    "# Contando os números de cada segmento de atuação dos FIIs (Maio a Agosto 2025)\n",
    "segmentos_fii_mai_ago_2025 = df_ifix_mai_ago_2025['Segmento_Atuacao'].value_counts()\n",
    "\n",
    "# Contando os números de cada segmento de atuação dos FIIs (Setembro a Dezembro 2025)\n",
    "segmentos_fii_set_dez_2025 = df_ifix_set_dez_2025['Segmento_Atuacao'].value_counts()\n",
    "\n",
    "# Criando subplots com duas colunas\n",
    "fig = make_subplots(\n",
    "    rows=3, \n",
    "    cols=2, \n",
    "    specs=[\n",
    "        [{'type':'domain'}, {'type':'domain'}],  # Linha 1\n",
    "        [{'type':'domain'}, {'type':'domain'}],  # Linha 2\n",
    "        [{'type':'domain'}, {'type':'domain'}],  # Linha 3\n",
    "    ], \n",
    "    subplot_titles=[\n",
    "        'Distribuição dos Segmentos dos IFIX (Maio a Agosto 2024)', \n",
    "        'Distribuição dos Segmentos dos IFIX (Setembro a Dezembro 2024)',\n",
    "        'Distribuição dos Segmentos dos IFIX (Janeiro a Abril 2025)',\n",
    "        'Distribuição dos Segmentos dos IFIX (Maio a Agosto 2025)',\n",
    "        'Distribuição dos Segmentos dos IFIX (Setembro a Dezembro 2025)',\n",
    "    ],\n",
    "    vertical_spacing=0.15\n",
    ")\n",
    "\n",
    "# Adicionando o primeiro gráfico de pizza (Maio a Agosto 2024)\n",
    "fig.add_trace(\n",
    "    go.Pie(labels=segmentos_fii_mai_ago_2024.index, values=segmentos_fii_mai_ago_2024),\n",
    "    row=1, col=1\n",
    ")\n",
    "\n",
    "# Adicionando o segundo gráfico de pizza (Setembro a Dezembro 2024)\n",
    "fig.add_trace(\n",
    "    go.Pie(labels=segmentos_fii_set_dez_2024.index, values=segmentos_fii_set_dez_2024),\n",
    "    row=1, col=2\n",
    ")\n",
    "\n",
    "# Adicionando o terceiro gráfico de pizza (Janeiro a Abril 2025)\n",
    "fig.add_trace(\n",
    "    go.Pie(labels=segmentos_fii_jan_abr_2025.index, values=segmentos_fii_jan_abr_2025),\n",
    "    row=2, col=1\n",
    ")\n",
    "\n",
    "# Adicionando o terceiro gráfico de pizza (Maio a Agosto 2025)\n",
    "fig.add_trace(\n",
    "    go.Pie(labels=segmentos_fii_mai_ago_2025.index, values=segmentos_fii_mai_ago_2025),\n",
    "    row=2, col=2\n",
    ")\n",
    "\n",
    "# Adicionando o segundo gráfico de pizza (Setembro a Dezembro 2025)\n",
    "fig.add_trace(\n",
    "    go.Pie(labels=segmentos_fii_set_dez_2025.index, values=segmentos_fii_set_dez_2025),\n",
    "    row=3, col=1\n",
    ")\n",
    "\n",
    "# Atualizando o layout\n",
    "fig.update_layout(\n",
    "    title_text='Distribuição dos Segmentos dos IFIX',\n",
    "    title_x=0.5,  # Centralizando o título,\n",
    "    width=1500,\n",
    "    height=1000\n",
    ")\n",
    "\n",
    "fig.show()"
   ]
  },
  {
   "cell_type": "code",
   "execution_count": 21,
   "metadata": {},
   "outputs": [
    {
     "name": "stdout",
     "output_type": "stream",
     "text": [
      "DY médio de 05-2024 foi de 0.7941\n",
      "DY médio de 06-2024 foi de 0.7971\n",
      "DY médio de 07-2024 foi de 0.7659\n",
      "DY médio de 08-2024 foi de 0.7473\n",
      "DY médio de 09-2024 foi de 0.7793\n",
      "DY médio de 10-2024 foi de 0.6872\n",
      "DY médio de 11-2024 foi de 0.8241\n",
      "DY médio de 12-2024 foi de 0.8867\n",
      "DY médio de 01-2025 foi de 0.7983\n",
      "DY médio de 02-2025 foi de 0.7641\n",
      "DY médio de 03-2025 foi de 0.7742\n",
      "DY médio de 04-2025 foi de 0.8154\n",
      "DY médio de 05-2025 foi de 0.7941\n",
      "DY médio de 06-2025 foi de 0.9160\n"
     ]
    }
   ],
   "source": [
    "# Ordenando em ordem alfabetica o df para ficar na mesma ordem do df do IFIX\n",
    "df_ifix_alfabetico_mai_ago_2024 = df_ifix_mai_ago_2024.sort_values('Ticker')\n",
    "df_ifix_alfabetico_set_dez_2024 = df_ifix_set_dez_2024.sort_values('Ticker')\n",
    "df_ifix_alfabetico_jan_abr_2025 = df_ifix_jan_abr_2025.sort_values('Ticker')\n",
    "df_ifix_alfabetico_mai_ago_2025 = df_ifix_mai_ago_2025.sort_values('Ticker')\n",
    "df_ifix_alfabetico_set_dez_2025 = df_ifix_set_dez_2025.sort_values('Ticker')\n",
    "\n",
    "# Selecionando os tickers do IFIX de cada quadrimestre\n",
    "lst_tickers_mai_2q_2024 =  df_ifix_alfabetico_mai_ago_2024.loc['2024-05', 'Ticker']\n",
    "lst_tickers_jun_2q_2024 =  df_ifix_alfabetico_mai_ago_2024.loc['2024-06', 'Ticker']\n",
    "lst_tickers_jul_2q_2024 =  df_ifix_alfabetico_mai_ago_2024.loc['2024-07', 'Ticker']\n",
    "lst_tickers_ago_2q_2024 =  df_ifix_alfabetico_mai_ago_2024.loc['2024-08', 'Ticker']\n",
    "\n",
    "lst_tickers_set_3q_2024 =  df_ifix_alfabetico_set_dez_2024.loc['2024-09', 'Ticker']\n",
    "lst_tickers_out_3q_2024 =  df_ifix_alfabetico_set_dez_2024.loc['2024-10', 'Ticker']\n",
    "lst_tickers_nov_3q_2024 =  df_ifix_alfabetico_set_dez_2024.loc['2024-11', 'Ticker']\n",
    "lst_tickers_dez_3q_2024 =  df_ifix_alfabetico_set_dez_2024.loc['2024-12', 'Ticker']\n",
    "\n",
    "lst_tickers_jan_1q_2025 =  df_ifix_alfabetico_jan_abr_2025.loc['2025-01', 'Ticker']\n",
    "lst_tickers_fev_1q_2025 =  df_ifix_alfabetico_jan_abr_2025.loc['2025-02', 'Ticker']\n",
    "lst_tickers_mar_1q_2025 =  df_ifix_alfabetico_jan_abr_2025.loc['2025-03', 'Ticker']\n",
    "lst_tickers_abr_1q_2025 =  df_ifix_alfabetico_jan_abr_2025.loc['2025-04', 'Ticker']\n",
    "\n",
    "lst_tickers_mai_2q_2025 =  df_ifix_alfabetico_mai_ago_2025.loc['2025-05', 'Ticker']\n",
    "lst_tickers_jun_2q_2025 =  df_ifix_alfabetico_mai_ago_2025.loc['2025-06', 'Ticker']\n",
    "\n",
    "# Selecionandos os pesos de cada tickers do IFIX de cada quadrimestre\n",
    "weight_ifix_mai_2q_2024 = ifix_mai_ago_2024.loc[ifix_mai_ago_2024['Código'].isin(lst_tickers_mai_2q_2024), 'Part. (%)']\n",
    "weight_ifix_jun_2q_2024 = ifix_mai_ago_2024.loc[ifix_mai_ago_2024['Código'].isin(lst_tickers_jun_2q_2024), 'Part. (%)']\n",
    "weight_ifix_jul_2q_2024 = ifix_mai_ago_2024.loc[ifix_mai_ago_2024['Código'].isin(lst_tickers_jul_2q_2024), 'Part. (%)']\n",
    "weight_ifix_ago_2q_2024 = ifix_mai_ago_2024.loc[ifix_mai_ago_2024['Código'].isin(lst_tickers_ago_2q_2024), 'Part. (%)']\n",
    "\n",
    "weight_ifix_set_3q_2024 = ifix_set_dez_2024.loc[ifix_set_dez_2024['Código'].isin(lst_tickers_set_3q_2024), 'Part. (%)']\n",
    "weight_ifix_out_3q_2024 = ifix_set_dez_2024.loc[ifix_set_dez_2024['Código'].isin(lst_tickers_out_3q_2024), 'Part. (%)']\n",
    "weight_ifix_nov_3q_2024 = ifix_set_dez_2024.loc[ifix_set_dez_2024['Código'].isin(lst_tickers_nov_3q_2024), 'Part. (%)']\n",
    "weight_ifix_dez_3q_2024 = ifix_set_dez_2024.loc[ifix_set_dez_2024['Código'].isin(lst_tickers_dez_3q_2024), 'Part. (%)']\n",
    "\n",
    "weight_ifix_jan_1q_2025 = ifix_jan_abr_2025.loc[ifix_jan_abr_2025['Código'].isin(lst_tickers_jan_1q_2025), 'Part. (%)']\n",
    "weight_ifix_fev_1q_2025 = ifix_jan_abr_2025.loc[ifix_jan_abr_2025['Código'].isin(lst_tickers_fev_1q_2025), 'Part. (%)']\n",
    "weight_ifix_mar_1q_2025 = ifix_jan_abr_2025.loc[ifix_jan_abr_2025['Código'].isin(lst_tickers_mar_1q_2025), 'Part. (%)']\n",
    "weight_ifix_abr_1q_2025 = ifix_jan_abr_2025.loc[ifix_jan_abr_2025['Código'].isin(lst_tickers_abr_1q_2025), 'Part. (%)']\n",
    "\n",
    "weight_ifix_mai_2q_2025 = ifix_mai_ago_2025.loc[ifix_mai_ago_2025['Código'].isin(lst_tickers_mai_2q_2025), 'Part. (%)']\n",
    "weight_ifix_jun_2q_2025 = ifix_mai_ago_2025.loc[ifix_mai_ago_2025['Código'].isin(lst_tickers_jun_2q_2025), 'Part. (%)']\n",
    "\n",
    "# Calculando a DY médio mensal\n",
    "lst_dy_medio = []\n",
    "\n",
    "# 2Q 2024 (mai_ago_2024)\n",
    "ifix_dy_medio_mensal_202405 = np.average(df_ifix_alfabetico_mai_ago_2024.loc[f'2024-05', 'Percentual_Dividend_Yield_Mes'], weights=weight_ifix_mai_2q_2024)\n",
    "ifix_dy_medio_mensal_202406 = np.average(df_ifix_alfabetico_mai_ago_2024.loc[f'2024-06', 'Percentual_Dividend_Yield_Mes'], weights=weight_ifix_jun_2q_2024)\n",
    "ifix_dy_medio_mensal_202407 = np.average(df_ifix_alfabetico_mai_ago_2024.loc[f'2024-07', 'Percentual_Dividend_Yield_Mes'], weights=weight_ifix_jul_2q_2024)\n",
    "ifix_dy_medio_mensal_202408 = np.average(df_ifix_alfabetico_mai_ago_2024.loc[f'2024-08', 'Percentual_Dividend_Yield_Mes'], weights=weight_ifix_ago_2q_2024)\n",
    "\n",
    "# 3Q 2024 (set_dez_2024)\n",
    "ifix_dy_medio_mensal_202409 = np.average(df_ifix_alfabetico_set_dez_2024.loc[f'2024-09', 'Percentual_Dividend_Yield_Mes'], weights=weight_ifix_set_3q_2024)\n",
    "ifix_dy_medio_mensal_202410 = np.average(df_ifix_alfabetico_set_dez_2024.loc[f'2024-10', 'Percentual_Dividend_Yield_Mes'], weights=weight_ifix_out_3q_2024)\n",
    "ifix_dy_medio_mensal_202411 = np.average(df_ifix_alfabetico_set_dez_2024.loc[f'2024-11', 'Percentual_Dividend_Yield_Mes'], weights=weight_ifix_nov_3q_2024)\n",
    "ifix_dy_medio_mensal_202412 = np.average(df_ifix_alfabetico_set_dez_2024.loc[f'2024-12', 'Percentual_Dividend_Yield_Mes'], weights=weight_ifix_dez_3q_2024)\n",
    "\n",
    "# 1Q 2025 (jan_abr_2025)\n",
    "ifix_dy_medio_mensal_202501 = np.average(df_ifix_alfabetico_jan_abr_2025.loc[f'2025-01', 'Percentual_Dividend_Yield_Mes'], weights=weight_ifix_jan_1q_2025)\n",
    "ifix_dy_medio_mensal_202502 = np.average(df_ifix_alfabetico_jan_abr_2025.loc[f'2025-02', 'Percentual_Dividend_Yield_Mes'], weights=weight_ifix_fev_1q_2025)\n",
    "ifix_dy_medio_mensal_202503 = np.average(df_ifix_alfabetico_jan_abr_2025.loc[f'2025-03', 'Percentual_Dividend_Yield_Mes'], weights=weight_ifix_mar_1q_2025)\n",
    "ifix_dy_medio_mensal_202504 = np.average(df_ifix_alfabetico_jan_abr_2025.loc[f'2025-04', 'Percentual_Dividend_Yield_Mes'], weights=weight_ifix_abr_1q_2025)\n",
    "\n",
    "# 2Q 2025 (mai_ago_2025)\n",
    "ifix_dy_medio_mensal_202505 = np.average(df_ifix_alfabetico_mai_ago_2025.loc[f'2025-05', 'Percentual_Dividend_Yield_Mes'], weights=weight_ifix_mai_2q_2025)\n",
    "ifix_dy_medio_mensal_202506 = np.average(df_ifix_alfabetico_mai_ago_2025.loc[f'2025-06', 'Percentual_Dividend_Yield_Mes'], weights=weight_ifix_jun_2q_2025)\n",
    "\n",
    "print(f'DY médio de 05-2024 foi de {ifix_dy_medio_mensal_202405:.4f}')\n",
    "print(f'DY médio de 06-2024 foi de {ifix_dy_medio_mensal_202406:.4f}')\n",
    "print(f'DY médio de 07-2024 foi de {ifix_dy_medio_mensal_202407:.4f}')\n",
    "print(f'DY médio de 08-2024 foi de {ifix_dy_medio_mensal_202408:.4f}')\n",
    "print(f'DY médio de 09-2024 foi de {ifix_dy_medio_mensal_202409:.4f}')\n",
    "print(f'DY médio de 10-2024 foi de {ifix_dy_medio_mensal_202410:.4f}')\n",
    "print(f'DY médio de 11-2024 foi de {ifix_dy_medio_mensal_202411:.4f}')\n",
    "print(f'DY médio de 12-2024 foi de {ifix_dy_medio_mensal_202412:.4f}')\n",
    "print(f'DY médio de 01-2025 foi de {ifix_dy_medio_mensal_202501:.4f}')\n",
    "print(f'DY médio de 02-2025 foi de {ifix_dy_medio_mensal_202502:.4f}')\n",
    "print(f'DY médio de 03-2025 foi de {ifix_dy_medio_mensal_202503:.4f}')\n",
    "print(f'DY médio de 04-2025 foi de {ifix_dy_medio_mensal_202504:.4f}')\n",
    "print(f'DY médio de 05-2025 foi de {ifix_dy_medio_mensal_202505:.4f}')\n",
    "print(f'DY médio de 06-2025 foi de {ifix_dy_medio_mensal_202506:.4f}')"
   ]
  },
  {
   "cell_type": "markdown",
   "metadata": {},
   "source": [
    "**Selecionar o df do IFIX (atual ou anterior) p/ fazer a análise dos setores dos FIIs**"
   ]
  },
  {
   "cell_type": "code",
   "execution_count": null,
   "metadata": {},
   "outputs": [],
   "source": [
    "# Selecionando o df para fazer a análise do setor\n",
    "df_ifix = df_ifix_mai_ago_2025"
   ]
  },
  {
   "cell_type": "markdown",
   "metadata": {},
   "source": [
    "### FII - Shoppings"
   ]
  },
  {
   "cell_type": "code",
   "execution_count": null,
   "metadata": {},
   "outputs": [],
   "source": [
    "# Lista dos tickers\n",
    "lst_ticker_fii_shopping = ['XPML11.SA', 'VISC11.SA', 'HGBS11.SA', 'HSML11.SA', 'MALL11.SA']\n",
    "\n",
    "# Carregando todos os dados dos FIIs\n",
    "fii_xpml = fii_cnpj(df=df_ifix, cnpj='28.757.546/0001-00', ticker='XPML11.SA')\n",
    "fii_visc = fii_cnpj(df=df_ifix, cnpj='17.554.274/0001-25', ticker='VISC11.SA')\n",
    "fii_hgbs = fii_cnpj(df=df_ifix, cnpj='08.431.747/0001-06', ticker='HGBS11.SA')\n",
    "fii_hsml = fii_cnpj(df=df_ifix, cnpj='32.892.018/0001-31', ticker='HSML11.SA')\n",
    "fii_mall = fii_cnpj(df=df_ifix, cnpj='26.499.833/0001-32', ticker='MALL11.SA')\n",
    "\n",
    "# Mesclando todos os dfs\n",
    "fii_shoppping = pd.concat([\n",
    "    fii_xpml,\n",
    "    fii_visc,\n",
    "    fii_hgbs,\n",
    "    fii_hsml,\n",
    "    fii_mall\n",
    "])\n",
    "\n",
    "# Mostrando os dados do último mês divulgado\n",
    "fii_shoppping.loc[\n",
    "    fii_shoppping.index[-1], \n",
    "    ['Ticker', 'Close', 'Grau_Alavancagem', 'P/VP', 'Percentual_Rentabilidade_Efetiva_Mes', 'Percentual_Dividend_Yield_Mes']\n",
    "].sort_values('P/VP', ascending=False)"
   ]
  },
  {
   "cell_type": "code",
   "execution_count": null,
   "metadata": {},
   "outputs": [],
   "source": [
    "# Histórico do indicador P/VP dos FIIs \n",
    "historico_p_vp_shopping =plot_historico_p_vp(df=fii_shoppping, nome_segmento='Shopping')\n",
    "historico_p_vp_shopping"
   ]
  },
  {
   "cell_type": "code",
   "execution_count": null,
   "metadata": {},
   "outputs": [],
   "source": [
    "fii_shoppping.loc[\n",
    "    fii_shoppping['Ticker'] == 'XPML11', \n",
    "    ['CNPJ_Fundo', 'Ticker', 'Close', 'Divida_Total', 'Grau_Alavancagem', 'P/VP', 'Percentual_Rentabilidade_Efetiva_Mes', 'Percentual_Dividend_Yield_Mes']\n",
    "]"
   ]
  },
  {
   "cell_type": "code",
   "execution_count": null,
   "metadata": {},
   "outputs": [],
   "source": [
    "fii_shoppping.loc[\n",
    "    fii_shoppping['Ticker'] == 'VISC11', \n",
    "    ['CNPJ_Fundo', 'Ticker', 'Close', 'Divida_Total', 'Grau_Alavancagem', 'P/VP', 'Percentual_Rentabilidade_Efetiva_Mes', 'Percentual_Dividend_Yield_Mes']\n",
    "]"
   ]
  },
  {
   "cell_type": "code",
   "execution_count": null,
   "metadata": {},
   "outputs": [],
   "source": [
    "fii_shoppping.loc[\n",
    "    fii_shoppping['Ticker'] == 'HGBS11', \n",
    "    ['CNPJ_Fundo', 'Ticker', 'Close', 'Divida_Total', 'Grau_Alavancagem', 'P/VP', 'Percentual_Rentabilidade_Efetiva_Mes', 'Percentual_Dividend_Yield_Mes']\n",
    "]"
   ]
  },
  {
   "cell_type": "code",
   "execution_count": null,
   "metadata": {},
   "outputs": [],
   "source": [
    "fii_shoppping.loc[\n",
    "    fii_shoppping['Ticker'] == 'HSML11', \n",
    "    ['CNPJ_Fundo', 'Ticker', 'Close', 'Divida_Total', 'Grau_Alavancagem', 'P/VP', 'Percentual_Rentabilidade_Efetiva_Mes', 'Percentual_Dividend_Yield_Mes']\n",
    "]"
   ]
  },
  {
   "cell_type": "code",
   "execution_count": null,
   "metadata": {},
   "outputs": [],
   "source": [
    "fii_shoppping.loc[\n",
    "    fii_shoppping['Ticker'] == 'MALL11', \n",
    "    ['CNPJ_Fundo', 'Ticker', 'Close', 'Divida_Total', 'Grau_Alavancagem', 'P/VP', 'Percentual_Rentabilidade_Efetiva_Mes', 'Percentual_Dividend_Yield_Mes']\n",
    "]"
   ]
  },
  {
   "cell_type": "code",
   "execution_count": null,
   "metadata": {},
   "outputs": [],
   "source": [
    "# Volatilidade anual\n",
    "vol_anual_shoppings = vol_anual(ticker=lst_ticker_fii_shopping, ano='2024').sort_values(ascending=False)\n",
    "\n",
    "# Plotando a volatilidade anual\n",
    "fig = go.Figure()\n",
    "\n",
    "fig.add_trace(go.Bar(\n",
    "    x=vol_anual_shoppings.index,\n",
    "    y=vol_anual_shoppings.values\n",
    "))\n",
    "\n",
    "fig.update_layout(\n",
    "    title_text='Volatilidade Anual - FIIs Shoppings',\n",
    "    template='seaborn',\n",
    "    showlegend=False   \n",
    ")\n",
    "\n",
    "fig.show()"
   ]
  },
  {
   "cell_type": "code",
   "execution_count": null,
   "metadata": {},
   "outputs": [],
   "source": [
    "# Drawdown\n",
    "drawdown_shoppings = drawdown(ticker=lst_ticker_fii_shopping).sort_values(ascending=False)\n",
    "\n",
    "# Plotando o drawndown\n",
    "fig = go.Figure()\n",
    "\n",
    "fig.add_trace(go.Bar(\n",
    "    x=drawdown_shoppings.index,\n",
    "    y=drawdown_shoppings.values\n",
    "))\n",
    "\n",
    "fig.update_layout(\n",
    "    title_text='Drawdown - FIIs Shoppings',\n",
    "    template='seaborn',\n",
    "    showlegend=False   \n",
    ")\n",
    "\n",
    "fig.show()"
   ]
  },
  {
   "cell_type": "code",
   "execution_count": null,
   "metadata": {},
   "outputs": [],
   "source": [
    "# Criando um df da volatilidade anual e o drawdown\n",
    "df_vol_drawdown_shopping = pd.DataFrame([vol_anual_shoppings, drawdown_shoppings], index=['volatilidade_anual', 'drawndown']).T\n",
    "df_vol_drawdown_shopping"
   ]
  },
  {
   "cell_type": "code",
   "execution_count": null,
   "metadata": {},
   "outputs": [],
   "source": [
    "# Dividend yield médio, máximo e mínimo dos FII \n",
    "df_shoppings_dy = dy_fii(df=fii_shoppping)\n",
    "\n",
    "# Plotando o dividend yield médio, máximo e mínimo\n",
    "fig = make_subplots(\n",
    "    rows=3, \n",
    "    cols=1,\n",
    "    subplot_titles=[\n",
    "        'Dividend Yield Médio',\n",
    "        'Dividend Yield Máximo',\n",
    "        'Dividend Yield Mínimo'\n",
    "    ],\n",
    "    vertical_spacing=0.1\n",
    "    )\n",
    "\n",
    "fig.add_trace(go.Bar(\n",
    "    x=df_shoppings_dy.index,\n",
    "    y=df_shoppings_dy['dy_medio'],\n",
    "    name='DY médio'\n",
    "), row=1, col=1)\n",
    "\n",
    "fig.add_trace(go.Bar(\n",
    "    x=df_shoppings_dy.index,\n",
    "    y=df_shoppings_dy['dy_max'],\n",
    "     name='DY máximo'\n",
    "), row=2, col=1)\n",
    "\n",
    "fig.add_trace(go.Bar(\n",
    "    x=df_shoppings_dy.index,\n",
    "    y=df_shoppings_dy['dy_min'],\n",
    "     name='DY mínimo'\n",
    "), row=3, col=1)\n",
    "\n",
    "fig.update_layout(\n",
    "    title='Dividend yield dos FII de Shopping',\n",
    "    height=1200)\n",
    "\n",
    "fig.show()"
   ]
  },
  {
   "cell_type": "code",
   "execution_count": null,
   "metadata": {},
   "outputs": [],
   "source": [
    "# DY acumulado dos últimos 12 meses\n",
    "df_shoppings_dy_accum = dy_fii_acumm_12m(df=fii_shoppping)\n",
    "\n",
    "# Plotando o DY acumulados dos últimos 12 meses\n",
    "fig = go.Figure()\n",
    "\n",
    "for empresa in df_shoppings_dy_accum.columns:\n",
    "    fig.add_trace(go.Scatter(\n",
    "        x=df_shoppings_dy_accum.index,\n",
    "        y=df_shoppings_dy_accum[empresa],\n",
    "        name=empresa\n",
    "    ))\n",
    "\n",
    "fig.update_layout(title='Dividend yield acumulados dos últmos 12 meses - FII de Shopping')\n",
    "\n",
    "fig.show()"
   ]
  },
  {
   "cell_type": "code",
   "execution_count": null,
   "metadata": {},
   "outputs": [],
   "source": [
    "# Retorno anual\n",
    "ret_anual_shopping = ret_anual(ticker=lst_ticker_fii_shopping, setor='Shoppings', df_benchmark=ifix_precos)\n",
    "\n",
    "# Df para transformar em excel\n",
    "df_ret_anual_shopping = ret_anual_shopping[0]\n",
    "\n",
    "# Plot do retorno anual\n",
    "ret_anual_shopping[1];"
   ]
  },
  {
   "cell_type": "code",
   "execution_count": null,
   "metadata": {},
   "outputs": [],
   "source": [
    "# Retorno acumulado\n",
    "ret_acumulado_shopping = ret_acumulado(ticker=lst_ticker_fii_shopping, setor='Shoppings', df_benchmark=ifix_precos)\n",
    "\n",
    "# Df para transformar em excel\n",
    "df_ret_acumulado_shopping = ret_acumulado_shopping[0]\n",
    "\n",
    "# Plot do retorno acumulado\n",
    "ret_acumulado_shopping[1];"
   ]
  },
  {
   "cell_type": "code",
   "execution_count": null,
   "metadata": {},
   "outputs": [],
   "source": [
    "# Relação risco-retorno\n",
    "plot_risk_return(ticker=lst_ticker_fii_shopping, setor='Shoppings')"
   ]
  },
  {
   "cell_type": "markdown",
   "metadata": {},
   "source": [
    "**Portfólio dos Shoppings**"
   ]
  },
  {
   "cell_type": "code",
   "execution_count": null,
   "metadata": {},
   "outputs": [],
   "source": [
    "# Lendo o arquivo do portfólio - XPML11\n",
    "df_portfolio_xpml = pd.read_excel(\n",
    "    io='C://Users//vitor//projetos_python//python_b3//composicao-fundos-de-investimentos//fundo_imobiliario//portfolio_shoppings//xpml11_072025.xlsx',\n",
    ")\n",
    "\n",
    "df_portfolio_xpml"
   ]
  },
  {
   "cell_type": "code",
   "execution_count": null,
   "metadata": {},
   "outputs": [],
   "source": [
    "# Lendo o arquivo do portfólio - VISC11\n",
    "df_portfolio_visc = pd.read_excel(\n",
    "    io='C://Users//vitor//projetos_python//python_b3//composicao-fundos-de-investimentos//fundo_imobiliario//portfolio_shoppings//visc11_072025.xlsx',\n",
    ")\n",
    "\n",
    "df_portfolio_visc"
   ]
  },
  {
   "cell_type": "code",
   "execution_count": null,
   "metadata": {},
   "outputs": [],
   "source": [
    "# Lendo o arquivo do portfólio - HGBS11\n",
    "df_portfolio_hgbs = pd.read_excel(\n",
    "    io='C://Users//vitor//projetos_python//python_b3//composicao-fundos-de-investimentos//fundo_imobiliario//portfolio_shoppings//hgbs11_072025.xlsx',\n",
    "    sheet_name='Portfólio',\n",
    "    header=8\n",
    ")\n",
    "\n",
    "# Removendo as colunas 'Unnamed: 0' e 'Unnamed: 2'\n",
    "df_portfolio_hgbs = df_portfolio_hgbs.drop(columns='Unnamed: 0')\n",
    "\n",
    "# Removendo os NaN para retornar apenas os shoppings\n",
    "df_portfolio_hgbs = df_portfolio_hgbs.dropna()\n",
    "\n",
    "df_portfolio_hgbs"
   ]
  },
  {
   "cell_type": "code",
   "execution_count": null,
   "metadata": {},
   "outputs": [],
   "source": [
    "# Lendo o arquivo do portfólio - HSML11\n",
    "df_portfolio_hsml = pd.read_excel(\n",
    "    io='C://Users//vitor//projetos_python//python_b3//composicao-fundos-de-investimentos//fundo_imobiliario//portfolio_shoppings//hsml11_072025.xlsx',\n",
    ")\n",
    "\n",
    "df_portfolio_hsml"
   ]
  },
  {
   "cell_type": "code",
   "execution_count": null,
   "metadata": {},
   "outputs": [],
   "source": [
    "# Lendo o arquivo do portfólio - MALL11\n",
    "df_portfolio_mall = pd.read_excel(\n",
    "    io='C://Users//vitor//projetos_python//python_b3//composicao-fundos-de-investimentos//fundo_imobiliario//portfolio_shoppings//mall11_052025.xlsx',\n",
    ")\n",
    "\n",
    "df_portfolio_mall"
   ]
  },
  {
   "cell_type": "markdown",
   "metadata": {},
   "source": [
    "* ABL: é um indicador que mede a área total de um shopping center que está disponível para aluguel, exceto os quiosques."
   ]
  },
  {
   "cell_type": "code",
   "execution_count": null,
   "metadata": {},
   "outputs": [],
   "source": [
    "# Transformando em um arquivo excel\n",
    "with pd.ExcelWriter(f'C://Users//vitor//projetos_python//python_b3//composicao-fundos-de-investimentos//fundo_imobiliario//fii//fii_shoppings.xlsx') as writer:\n",
    "    fii_xpml.to_excel(writer, sheet_name='XPML11')\n",
    "    fii_visc.to_excel(writer, sheet_name='VISC11')\n",
    "    fii_hgbs.to_excel(writer, sheet_name='HGBS11')\n",
    "    fii_hsml.to_excel(writer, sheet_name='HSML11')\n",
    "    fii_mall.to_excel(writer, sheet_name='MALL11')\n",
    "    df_shoppings_dy.to_excel(writer, sheet_name='DIVIDEND_YIELD')\n",
    "    df_shoppings_dy_accum.to_excel(writer, sheet_name='DIVIDEND_YIELD_ACUM')\n",
    "    df_vol_drawdown_shopping.to_excel(writer, sheet_name='VOLATILIDADE_DRAWDOWN')\n",
    "    df_ret_anual_shopping.to_excel(writer, sheet_name='RET_ANUAL')\n",
    "    df_ret_acumulado_shopping.to_excel(writer, sheet_name='RET_ACUM')"
   ]
  },
  {
   "cell_type": "markdown",
   "metadata": {},
   "source": [
    "**Indicador P/VP das ações de shoppings**\n",
    "* Atualizar o 'dict_acoes_shoppings' para calcular o P/VP das empresas de shoppings;\n",
    "---\n",
    "* Quando o tipo da contabilidade adotada pelo shopping é:\n",
    "    * **mercado**: o valor do 'propriedades_investimento' e 'valor_justo' são iguais;\n",
    "        * Esse valor é encontrado no balanço patrimonal na parte do ativo é o item 'Propriedades para Investimento'.\n",
    "    * **custo**: o valor do 'propriedades_investimento' e 'valor_justo' são diferentes.\n",
    "        * O valor do 'propriedades_investimento' é encontrado no balanço patrimonal na parte do ativo é o item 'Propriedades para Investimento';\n",
    "        * O valor do 'valor_justo' é encontrado na nota explicativa \"propriedades para investimento\".\n"
   ]
  },
  {
   "cell_type": "code",
   "execution_count": null,
   "metadata": {},
   "outputs": [],
   "source": [
    "# Ações de shoppings\n",
    "lst_acoes_shoppings = ['ALOS3.SA', 'IGTI11.SA', 'MULT3.SA']\n",
    "\n",
    "# Dados do 1T2024\n",
    "dict_acoes_shoppings_1T24 = {\n",
    "    'tipo_contabilidade': [\n",
    "        'mercado',  # ALOS3 \n",
    "        'custo',    # IGTI11\n",
    "        'custo'     # MULT3\n",
    "    ], \n",
    "\n",
    "    'num_acoes':[\n",
    "        573936909,  # ALOS3 \n",
    "        1233106910, # IGTI11\n",
    "        600760875   # MULT3\n",
    "    ],\n",
    "\n",
    "    'propriedades_investimento':[\n",
    "        21363200000,  # ALOS3 \n",
    "        5066710000,   # IGTI11\n",
    "        83183552000   # MULT3\n",
    "    ],\n",
    "\n",
    "    'valor_justo':[\n",
    "        21363200000,  # ALOS3 \n",
    "        14069612000,  # IGTI11\n",
    "        29200692000   # MULT3\n",
    "    ],\n",
    "\n",
    "    'pl_contabil':[\n",
    "        15006995000,  # ALOS3 \n",
    "        4234679000,   # IGTI11\n",
    "        7087747000    # MULT3\n",
    "    ],\n",
    "\n",
    "    'abl_propria':[\n",
    "        1328809,  # ALOS3  \n",
    "        491270,   # IGTI11\n",
    "        713765    # MULT3\n",
    "    ],\n",
    "\n",
    "    'divida_liquida':[\n",
    "        3526530000,  # ALOS3  \n",
    "        1735990000,  # IGTI11\n",
    "        2042648000   # MULT3\n",
    "    ]\n",
    "}\n",
    "\n",
    "# Dados do 2T2024\n",
    "dict_acoes_shoppings_2T24 = {\n",
    "    'tipo_contabilidade': [\n",
    "        'mercado',  # ALOS3 \n",
    "        'custo',    # IGTI11\n",
    "        'custo'     # MULT3\n",
    "    ], \n",
    "\n",
    "    'num_acoes':[\n",
    "        542936909,  # ALOS3 \n",
    "        1217931130, # IGTI11\n",
    "        600760875   # MULT3\n",
    "    ],\n",
    "\n",
    "    'propriedades_investimento':[\n",
    "        20569241000,  # ALOS3 \n",
    "        4987082000,   # IGTI11\n",
    "        8553030000    # MULT3\n",
    "    ],\n",
    "\n",
    "    'valor_justo':[\n",
    "        20569241000,  # ALOS3  \n",
    "        14069612000,  # IGTI11\n",
    "        30404491000   # MULT3\n",
    "    ],\n",
    "\n",
    "    'pl_contabil':[\n",
    "        14888005000,  # ALOS3  \n",
    "        4159817000,   # IGTI11\n",
    "        7164748000    # MULT3\n",
    "    ],\n",
    "\n",
    "    'abl_propria':[\n",
    "        1276678,  # ALOS3 \n",
    "        491431,   # IGTI11\n",
    "        758820    # MULT3\n",
    "    ],\n",
    "\n",
    "    'divida_liquida':[\n",
    "        3003939000,  # ALOS3 \n",
    "        1741906000,  # IGTI11\n",
    "        2193197000   # MULT3\n",
    "    ]\n",
    "}\n",
    "\n",
    "# Dados do 3T2024\n",
    "dict_acoes_shoppings_3T24 = {\n",
    "    'tipo_contabilidade': [\n",
    "        'mercado', # ALOS3 \n",
    "        'custo',   # IGTI11\n",
    "        'custo'    # MULT3\n",
    "    ], \n",
    "\n",
    "    'num_acoes':[\n",
    "        542936909,  # ALOS3 \n",
    "        1217931130, # IGTI11\n",
    "        578163701   # MULT3\n",
    "    ],\n",
    "\n",
    "    'propriedades_investimento':[\n",
    "        20556395000, # ALOS3 \n",
    "        5452522000,  # IGTI11\n",
    "        8686208000   # MULT3\n",
    "    ],\n",
    "\n",
    "    'valor_justo':[\n",
    "        20556395000, # ALOS3 \n",
    "        13827886000, # IGTI11\n",
    "        30834077000  # MULT3\n",
    "    ],\n",
    "\n",
    "    'pl_contabil':[\n",
    "        14710918000, # ALOS3  \n",
    "        4263948000, # IGTI11\n",
    "        7340951000  # MULT3\n",
    "    ],\n",
    "\n",
    "    'abl_propria':[\n",
    "        1291465, # ALOS3   \n",
    "        471897, # IGTI11 \n",
    "        758744  # MULT3\n",
    "    ],\n",
    "    \n",
    "    'divida_liquida':[\n",
    "        3290524000, # ALOS3    \n",
    "        1621387000, # IGTI11 \n",
    "        2216800000  # MULT3\n",
    "    ]\n",
    "}\n",
    "\n",
    "# Dados do DFP2024\n",
    "dict_acoes_shoppings_4T24 = {\n",
    "    'tipo_contabilidade': [\n",
    "        'mercado', # ALOS3 \n",
    "        'custo',   # IGTI11\n",
    "        'custo'    # MULT3\n",
    "    ], \n",
    "\n",
    "    'num_acoes':[\n",
    "        542936909,  # ALOS3 \n",
    "        1217931130, # IGTI11\n",
    "        519163701   # MULT3\n",
    "    ],\n",
    "\n",
    "    'propriedades_investimento':[\n",
    "        20700140000, # ALOS3 \n",
    "        5520922000,  # IGTI11\n",
    "        8909922000   # MULT3\n",
    "    ],\n",
    "\n",
    "    'valor_justo':[\n",
    "        20700140000, # ALOS3 \n",
    "        15631045000, # IGTI11\n",
    "        30093435000  # MULT3\n",
    "    ],\n",
    "\n",
    "    'pl_contabil':[\n",
    "        14134520000, # ALOS3  \n",
    "        4310020000, # IGTI11\n",
    "        5645769000  # MULT3\n",
    "    ],\n",
    "\n",
    "    'abl_propria':[\n",
    "        1287355, # ALOS3   \n",
    "        480968, # IGTI11 \n",
    "        765102  # MULT3\n",
    "    ],\n",
    "\n",
    "    'divida_liquida':[\n",
    "        3671487000, # ALOS3    \n",
    "        1614844000, # IGTI11 \n",
    "        4274600000  # MULT3\n",
    "    ]\n",
    "}\n",
    "\n",
    "# Dados do 1T2025\n",
    "dict_acoes_shoppings_1T25 = {\n",
    "    'tipo_contabilidade': [\n",
    "        'mercado',  # ALOS3 \n",
    "        'custo',    # IGTI11\n",
    "        'custo'     # MULT3\n",
    "    ], \n",
    "\n",
    "    'num_acoes':[\n",
    "        542_936_909,  # ALOS3 \n",
    "        1_206_361_185, # IGTI11\n",
    "        513_163_701   # MULT3\n",
    "    ],\n",
    "\n",
    "    'propriedades_investimento':[\n",
    "        20_253_531_000,  # ALOS3 \n",
    "        5_543_287_000,   # IGTI11\n",
    "        8_989_257_000   # MULT3\n",
    "    ],\n",
    "\n",
    "    'valor_justo':[\n",
    "        20_253_531_000,  # ALOS3 \n",
    "        15_631_045_000,  # IGTI11\n",
    "        31_355_333_000   # MULT3\n",
    "    ],\n",
    "\n",
    "    'pl_contabil':[\n",
    "        12_198_264_000,  # ALOS3 \n",
    "        4_409_459_000,   # IGTI11\n",
    "        5_746_760_000    # MULT3\n",
    "    ],\n",
    "\n",
    "    'abl_propria':[\n",
    "        1_254_323,  # ALOS3  \n",
    "        479_246,   # IGTI11\n",
    "        713_765    # MULT3\n",
    "    ],\n",
    "\n",
    "    'divida_liquida':[\n",
    "        3_516_384_000,  # ALOS3  \n",
    "        1_840_418_000,  # IGTI11\n",
    "        4_231_300_000   # MULT3\n",
    "    ]\n",
    "}\n",
    "\n",
    "# Dados do 2T2025\n",
    "dict_acoes_shoppings_2T25 = {\n",
    "    'tipo_contabilidade': [\n",
    "        'mercado',  # ALOS3 \n",
    "        'custo',    # IGTI11\n",
    "        'custo'     # MULT3\n",
    "    ], \n",
    "\n",
    "    'num_acoes':[\n",
    "        542_936_909,  # ALOS3 \n",
    "        1_206_361_185, # IGTI11\n",
    "        513_163_701   # MULT3\n",
    "    ],\n",
    "\n",
    "    'propriedades_investimento':[\n",
    "        20_235_584_000,  # ALOS3 \n",
    "        6_051_359_000,   # IGTI11\n",
    "        9_103_581_000   # MULT3\n",
    "    ],\n",
    "\n",
    "    'valor_justo':[\n",
    "        20_235_584_000,  # ALOS3 \n",
    "        15_762_431_000,  # IGTI11\n",
    "        31_894_339_000   # MULT3\n",
    "    ],\n",
    "\n",
    "    'pl_contabil':[\n",
    "        14_209_277_000,  # ALOS3 \n",
    "        4_514_444_000,   # IGTI11\n",
    "        5_905_361_000    # MULT3\n",
    "    ],\n",
    "\n",
    "    'abl_propria':[\n",
    "        1_242_280,  # ALOS3  \n",
    "        489_095,   # IGTI11\n",
    "        765_466    # MULT3\n",
    "    ],\n",
    "\n",
    "    'divida_liquida':[\n",
    "        3_418_573_000,  # ALOS3  \n",
    "        2_381_817_000,  # IGTI11\n",
    "        4_382_100_000   # MULT3\n",
    "    ]\n",
    "}\n",
    "\n",
    "# 1T2024\n",
    "df_acoes_shoppings_1T24 = indicadores_acoes_shoppings(\n",
    "    ano='2024', \n",
    "    mes='03', \n",
    "    dict_shoppings=dict_acoes_shoppings_1T24, \n",
    "    ticker=lst_acoes_shoppings, \n",
    "    vm_igti=vm_igti(ano='2024', mes='03', num_on=797612750, num_pn=435494160)\n",
    ")\n",
    "\n",
    "# 2T2024\n",
    "df_acoes_shoppings_2T24 = indicadores_acoes_shoppings(\n",
    "    ano='2024', \n",
    "    mes='06', \n",
    "    dict_shoppings=dict_acoes_shoppings_2T24, \n",
    "    ticker=lst_acoes_shoppings, \n",
    "    vm_igti=vm_igti(ano='2024', mes='06', num_on=774849080, num_pn=443082050)\n",
    ")\n",
    "\n",
    "# 3T2024\n",
    "df_acoes_shoppings_3T24 = indicadores_acoes_shoppings(\n",
    "    ano='2024', \n",
    "    mes='09', \n",
    "    dict_shoppings=dict_acoes_shoppings_3T24, \n",
    "    ticker=lst_acoes_shoppings, \n",
    "    vm_igti=vm_igti(ano='2024', mes='09', num_on=774849080, num_pn=443082050)\n",
    ")\n",
    "\n",
    "# 4T2024\n",
    "df_acoes_shoppings_4T24 = indicadores_acoes_shoppings(\n",
    "    ano='2024', \n",
    "    mes='12', \n",
    "    dict_shoppings=dict_acoes_shoppings_4T24, \n",
    "    ticker=lst_acoes_shoppings, \n",
    "    vm_igti=vm_igti(ano='2024', mes='12', num_on=774849080, num_pn=443082050)\n",
    ")\n",
    "\n",
    "# 1T2025\n",
    "df_acoes_shoppings_1T25 = indicadores_acoes_shoppings(\n",
    "    ano='2025', \n",
    "    mes='03', \n",
    "    dict_shoppings=dict_acoes_shoppings_1T25, \n",
    "    ticker=lst_acoes_shoppings, \n",
    "    vm_igti=vm_igti(ano='2025', mes='03', num_on=770992429, num_pn=435368756)\n",
    ")\n",
    "\n",
    "# 2T2025\n",
    "df_acoes_shoppings_2T25 = indicadores_acoes_shoppings(\n",
    "    ano='2025', \n",
    "    mes='06', \n",
    "    dict_shoppings=dict_acoes_shoppings_2T25, \n",
    "    ticker=lst_acoes_shoppings, \n",
    "    vm_igti=vm_igti(ano='2025', mes='06', num_on=770992429, num_pn=435368756)\n",
    ")"
   ]
  },
  {
   "cell_type": "code",
   "execution_count": null,
   "metadata": {},
   "outputs": [],
   "source": [
    "# Df do valor de mercado\n",
    "df_shopping_valor_mercado = pd.concat([\n",
    "    df_acoes_shoppings_1T24['valor_mercado'],\n",
    "    df_acoes_shoppings_2T24['valor_mercado'],\n",
    "    df_acoes_shoppings_3T24['valor_mercado'],\n",
    "    df_acoes_shoppings_4T24['valor_mercado'],\n",
    "    df_acoes_shoppings_1T25['valor_mercado'],\n",
    "], axis=1)\n",
    "\n",
    "# Renomeando as colunas \n",
    "df_shopping_valor_mercado.columns = [\n",
    "    '1T24', '2T24', '3T24', '4T24',\n",
    "    '1T25'\n",
    "]\n",
    "\n",
    "# Transpondo o df\n",
    "df_shopping_valor_mercado = df_shopping_valor_mercado.T\n",
    "\n",
    "# Plotando o valor de mercado\n",
    "fig = go.Figure()\n",
    "\n",
    "for idx, col in enumerate(df_shopping_valor_mercado.columns):\n",
    "    fig.add_trace(go.Bar(\n",
    "        x=df_shopping_valor_mercado.index,\n",
    "        y=df_shopping_valor_mercado[col],\n",
    "        name=col\n",
    "    ))\n",
    "\n",
    "fig.update_layout(\n",
    "    title_text='Valor de Mercado - Shoppings',\n",
    "    template='seaborn'\n",
    ")\n",
    "\n",
    "fig.show()"
   ]
  },
  {
   "cell_type": "code",
   "execution_count": null,
   "metadata": {},
   "outputs": [],
   "source": [
    "# Df do valor justo das propriedades para investimento\n",
    "df_shopping_valor_justo = pd.concat([\n",
    "    df_acoes_shoppings_1T24['valor_justo'],\n",
    "    df_acoes_shoppings_2T24['valor_justo'],\n",
    "    df_acoes_shoppings_3T24['valor_justo'],\n",
    "    df_acoes_shoppings_4T24['valor_justo'],\n",
    "    df_acoes_shoppings_1T25['valor_justo'],\n",
    "], axis=1)\n",
    "\n",
    "# Renomeando as colunas \n",
    "df_shopping_valor_justo.columns = [\n",
    "    '1T24', '2T24', '3T24', '4T2024',\n",
    "    '1T25'\n",
    "]\n",
    "\n",
    "# Transpondo o df\n",
    "df_shopping_valor_justo = df_shopping_valor_justo.T\n",
    "\n",
    "# Plotando o valor justo\n",
    "fig = go.Figure()\n",
    "\n",
    "for idx, col in enumerate(df_shopping_valor_justo.columns):\n",
    "    fig.add_trace(go.Bar(\n",
    "        x=df_shopping_valor_justo.index,\n",
    "        y=df_shopping_valor_justo[col],\n",
    "        name=col\n",
    "    ))\n",
    "\n",
    "fig.update_layout(\n",
    "    title_text='Valor Justo - Shoppings',\n",
    "    template='seaborn'\n",
    ")\n",
    "\n",
    "fig.show()"
   ]
  },
  {
   "cell_type": "code",
   "execution_count": null,
   "metadata": {},
   "outputs": [],
   "source": [
    "# Df do P/VP dos shoppings\n",
    "df_shopping_p_vp = pd.concat([\n",
    "    round(df_acoes_shoppings_1T24['p/vp'], 2),\n",
    "    round(df_acoes_shoppings_2T24['p/vp'], 2),\n",
    "    round(df_acoes_shoppings_3T24['p/vp'], 2),\n",
    "    round(df_acoes_shoppings_4T24['p/vp'], 2),\n",
    "    round(df_acoes_shoppings_1T25['p/vp'], 2),\n",
    "], axis=1)\n",
    "\n",
    "# Renomeando as colunas \n",
    "df_shopping_p_vp.columns = [\n",
    "    '1T24', '2T24', '3T24', '4T24',\n",
    "    '1T25'\n",
    "]\n",
    "\n",
    "# Transpondo o df\n",
    "df_shopping_p_vp = df_shopping_p_vp.T\n",
    "\n",
    "# Plotando o P/VP dos shoppings\n",
    "fig = go.Figure()\n",
    "\n",
    "for idx, col in enumerate(df_shopping_p_vp.columns):\n",
    "    fig.add_trace(go.Scatter(\n",
    "        x=df_shopping_p_vp.index,\n",
    "        y=df_shopping_p_vp[col],\n",
    "        name=col\n",
    "    ))\n",
    "\n",
    "fig.add_hline(\n",
    "    y=0,  \n",
    "    line_dash='dash', \n",
    "    line_color='red', \n",
    "    line_width=2  \n",
    ")\n",
    "\n",
    "fig.update_layout(\n",
    "    title_text='Indicador P/VP - Shoppings',\n",
    "    template='seaborn'\n",
    ")\n",
    "\n",
    "fig.show()"
   ]
  },
  {
   "cell_type": "code",
   "execution_count": null,
   "metadata": {},
   "outputs": [],
   "source": [
    "# Df do EV/ABL dos shoppings\n",
    "df_shopping_ev_abl = pd.concat([\n",
    "    round(df_acoes_shoppings_1T24['ev/abl'], 2),\n",
    "    round(df_acoes_shoppings_2T24['ev/abl'], 2),\n",
    "    round(df_acoes_shoppings_3T24['ev/abl'], 2),\n",
    "    round(df_acoes_shoppings_4T24['ev/abl'], 2),\n",
    "    round(df_acoes_shoppings_1T25['ev/abl'], 2),\n",
    "], axis=1)\n",
    "\n",
    "# Renomeando as colunas \n",
    "df_shopping_ev_abl.columns = [\n",
    "    '1T24', '2T24', '3T24', '4T24',\n",
    "    '1T25'\n",
    "]\n",
    "\n",
    "# Transpondo o df\n",
    "df_shopping_ev_abl = df_shopping_ev_abl.T\n",
    "\n",
    "# Plotando o EV/ABL dos shoppings\n",
    "fig = go.Figure()\n",
    "\n",
    "for idx, col in enumerate(df_shopping_ev_abl.columns):\n",
    "    fig.add_trace(go.Scatter(\n",
    "        x=df_shopping_ev_abl.index,\n",
    "        y=df_shopping_ev_abl[col],\n",
    "        name=col\n",
    "    ))\n",
    "\n",
    "fig.update_layout(\n",
    "    title_text='Indicador EV/ABL - Shoppings',\n",
    "    template='seaborn'\n",
    ")\n",
    "\n",
    "fig.show()"
   ]
  },
  {
   "cell_type": "markdown",
   "metadata": {},
   "source": [
    "### FII - Logístico/Industrial/Galpões"
   ]
  },
  {
   "cell_type": "code",
   "execution_count": null,
   "metadata": {},
   "outputs": [],
   "source": [
    "# Lista dos tickers\n",
    "lst_ticker_fii_logistica = [\n",
    "    'HGLG11.SA', \n",
    "    'BTLG11.SA',\n",
    "    'XPLG11.SA',\n",
    "    'LVBI11.SA',\n",
    "    'BRCO11.SA',\n",
    "    'TRBL11.SA',\n",
    "    'KNRI11.SA'\n",
    "]\n",
    "\n",
    "# Carregando todos os dados dos FIIs\n",
    "fii_hglg = fii_cnpj(df=df_ifix, cnpj='11.728.688/0001-47', ticker='HGLG11.SA')\n",
    "fii_btlg = fii_cnpj(df=df_ifix, cnpj='11.839.593/0001-09', ticker='BTLG11.SA')\n",
    "fii_xplg = fii_cnpj(df=df_ifix, cnpj='26.502.794/0001-85', ticker='XPLG11.SA')\n",
    "fii_lvbi = fii_cnpj(df=df_ifix, cnpj='30.629.603/0001-18', ticker='LVBI11.SA')\n",
    "fii_brco = fii_cnpj(df=df_ifix, cnpj='20.748.515/0001-81', ticker='BRCO11.SA')\n",
    "fii_trbl = fii_cnpj(df=df_ifix, cnpj='16.671.412/0001-93', ticker='TRBL11.SA')\n",
    "fii_knri = fii_cnpj(df=df_ifix, cnpj='12.005.956/0001-65', ticker='KNRI11.SA')\n",
    "\n",
    "# Mesclando todos os últimos dados\n",
    "fii_logistica = pd.concat([\n",
    "    fii_hglg,\n",
    "    fii_btlg,\n",
    "    fii_xplg,\n",
    "    fii_lvbi,\n",
    "    fii_brco,\n",
    "    fii_trbl,\n",
    "    fii_knri\n",
    "])\n",
    "\n",
    "# Mostrando os dados do último mês divulgado\n",
    "fii_logistica.loc[\n",
    "    fii_logistica.index[-1],\n",
    "    ['Ticker', 'Close', 'Grau_Alavancagem', 'P/VP', 'Percentual_Rentabilidade_Efetiva_Mes', 'Percentual_Dividend_Yield_Mes']\n",
    "].sort_values('P/VP', ascending=False)"
   ]
  },
  {
   "cell_type": "code",
   "execution_count": null,
   "metadata": {},
   "outputs": [],
   "source": [
    "# Histórico do indicador P/VP dos FIIs \n",
    "historico_p_vp_logistica =plot_historico_p_vp(df=fii_logistica, nome_segmento='Logística')\n",
    "historico_p_vp_logistica"
   ]
  },
  {
   "cell_type": "code",
   "execution_count": null,
   "metadata": {},
   "outputs": [],
   "source": [
    "fii_logistica.loc[\n",
    "    fii_logistica['Ticker'] == 'HGLG11', \n",
    "    ['CNPJ_Fundo', 'Ticker', 'Close', 'Divida_Total', 'Grau_Alavancagem', 'P/VP', 'Percentual_Rentabilidade_Efetiva_Mes', 'Percentual_Dividend_Yield_Mes']\n",
    "]"
   ]
  },
  {
   "cell_type": "code",
   "execution_count": null,
   "metadata": {},
   "outputs": [],
   "source": [
    "fii_logistica.loc[\n",
    "    fii_logistica['Ticker'] == 'BTLG11', \n",
    "    ['CNPJ_Fundo', 'Ticker', 'Close', 'Divida_Total', 'Grau_Alavancagem', 'P/VP', 'Percentual_Rentabilidade_Efetiva_Mes', 'Percentual_Dividend_Yield_Mes']\n",
    "]"
   ]
  },
  {
   "cell_type": "code",
   "execution_count": null,
   "metadata": {},
   "outputs": [],
   "source": [
    "fii_logistica.loc[\n",
    "    fii_logistica['Ticker'] == 'XPLG11', \n",
    "    ['CNPJ_Fundo', 'Ticker', 'Close', 'Divida_Total', 'Grau_Alavancagem', 'P/VP', 'Percentual_Rentabilidade_Efetiva_Mes', 'Percentual_Dividend_Yield_Mes']\n",
    "]"
   ]
  },
  {
   "cell_type": "code",
   "execution_count": null,
   "metadata": {},
   "outputs": [],
   "source": [
    "fii_logistica.loc[\n",
    "    fii_logistica['Ticker'] == 'LVBI11', \n",
    "    ['CNPJ_Fundo', 'Ticker', 'Close', 'Divida_Total', 'Grau_Alavancagem', 'P/VP', 'Percentual_Rentabilidade_Efetiva_Mes', 'Percentual_Dividend_Yield_Mes']\n",
    "]"
   ]
  },
  {
   "cell_type": "code",
   "execution_count": null,
   "metadata": {},
   "outputs": [],
   "source": [
    "fii_logistica.loc[\n",
    "    fii_logistica['Ticker'] == 'BRCO11', \n",
    "    ['CNPJ_Fundo', 'Ticker', 'Close', 'Divida_Total', 'Grau_Alavancagem', 'P/VP', 'Percentual_Rentabilidade_Efetiva_Mes', 'Percentual_Dividend_Yield_Mes']\n",
    "]"
   ]
  },
  {
   "cell_type": "code",
   "execution_count": null,
   "metadata": {},
   "outputs": [],
   "source": [
    "fii_logistica.loc[\n",
    "    fii_logistica['Ticker'] == 'TRBL11', \n",
    "    ['CNPJ_Fundo', 'Ticker', 'Close', 'Divida_Total', 'Grau_Alavancagem', 'P/VP', 'Percentual_Rentabilidade_Efetiva_Mes', 'Percentual_Dividend_Yield_Mes']\n",
    "]"
   ]
  },
  {
   "cell_type": "code",
   "execution_count": null,
   "metadata": {},
   "outputs": [],
   "source": [
    "fii_logistica.loc[\n",
    "    fii_logistica['Ticker'] == 'KNRI11', \n",
    "    ['CNPJ_Fundo', 'Ticker', 'Close', 'Divida_Total', 'Grau_Alavancagem', 'P/VP', 'Percentual_Rentabilidade_Efetiva_Mes', 'Percentual_Dividend_Yield_Mes']\n",
    "]"
   ]
  },
  {
   "cell_type": "code",
   "execution_count": null,
   "metadata": {},
   "outputs": [],
   "source": [
    "# Volatilidade anual\n",
    "vol_anual_logistica = vol_anual(ticker=lst_ticker_fii_logistica, ano='2024').sort_values(ascending=False)\n",
    "\n",
    "# Plotando a volatilidade anual\n",
    "fig = go.Figure()\n",
    "\n",
    "fig.add_trace(go.Bar(\n",
    "    x=vol_anual_logistica.index,\n",
    "    y=vol_anual_logistica.values\n",
    "))\n",
    "\n",
    "fig.update_layout(\n",
    "    title_text='Volatilidade Anual - FIIs de Logística',\n",
    "    template='seaborn',\n",
    "    showlegend=False   \n",
    ")\n",
    "\n",
    "fig.show()"
   ]
  },
  {
   "cell_type": "code",
   "execution_count": null,
   "metadata": {},
   "outputs": [],
   "source": [
    "# Drawdown\n",
    "drawdown_logistica = drawdown(ticker=lst_ticker_fii_logistica).sort_values(ascending=False)\n",
    "\n",
    "# Plotando o drawndown\n",
    "fig = go.Figure()\n",
    "\n",
    "fig.add_trace(go.Bar(\n",
    "    x=drawdown_logistica.index,\n",
    "    y=drawdown_logistica.values\n",
    "))\n",
    "\n",
    "fig.update_layout(\n",
    "    title_text='Drawdown - FIIs Galpões Logísticos',\n",
    "    template='seaborn',\n",
    "    showlegend=False   \n",
    ")\n",
    "\n",
    "fig.show()"
   ]
  },
  {
   "cell_type": "code",
   "execution_count": null,
   "metadata": {},
   "outputs": [],
   "source": [
    "# Criando um df da volatilidade anual e o drawdown\n",
    "df_vol_drawdown_logistica = pd.DataFrame([vol_anual_logistica, drawdown_logistica], index=['volatilidade_anual', 'drawndown']).T\n",
    "df_vol_drawdown_logistica"
   ]
  },
  {
   "cell_type": "code",
   "execution_count": null,
   "metadata": {},
   "outputs": [],
   "source": [
    "# Dividend yield médio, máximo e mínimo dos FII \n",
    "df_logistica_dy = dy_fii(df=fii_logistica)\n",
    "\n",
    "# Plotando o dividend yield médio, máximo e mínimo\n",
    "fig = make_subplots(\n",
    "    rows=3, \n",
    "    cols=1,\n",
    "    subplot_titles=[\n",
    "        'Dividend Yield Médio',\n",
    "        'Dividend Yield Máximo',\n",
    "        'Dividend Yield Mínimo'\n",
    "    ],\n",
    "    vertical_spacing=0.1\n",
    "    )\n",
    "\n",
    "fig.add_trace(go.Bar(\n",
    "    x=df_logistica_dy.index,\n",
    "    y=df_logistica_dy['dy_medio'],\n",
    "    name='DY médio'\n",
    "), row=1, col=1)\n",
    "\n",
    "fig.add_trace(go.Bar(\n",
    "    x=df_logistica_dy.index,\n",
    "    y=df_logistica_dy['dy_max'],\n",
    "     name='DY máximo'\n",
    "), row=2, col=1)\n",
    "\n",
    "fig.add_trace(go.Bar(\n",
    "    x=df_logistica_dy.index,\n",
    "    y=df_logistica_dy['dy_min'],\n",
    "     name='DY mínimo'\n",
    "), row=3, col=1)\n",
    "\n",
    "fig.update_layout(\n",
    "    title='Dividend yield dos FII de Logística',\n",
    "    height=1200)\n",
    "\n",
    "fig.show()"
   ]
  },
  {
   "cell_type": "code",
   "execution_count": null,
   "metadata": {},
   "outputs": [],
   "source": [
    "# DY acumulado dos últimos 12 meses\n",
    "df_logistica_dy_accum = dy_fii_acumm_12m(df=fii_logistica)\n",
    "\n",
    "# Plotando o DY acumulados dos últimos 12 meses\n",
    "fig = go.Figure()\n",
    "\n",
    "for empresa in df_logistica_dy_accum.columns:\n",
    "    fig.add_trace(go.Scatter(\n",
    "        x=df_logistica_dy_accum.index,\n",
    "        y=df_logistica_dy_accum[empresa],\n",
    "        name=empresa\n",
    "    ))\n",
    "\n",
    "fig.update_layout(title='Dividend yield acumulados dos últmos 12 meses - FII de Logística')\n",
    "\n",
    "fig.show()"
   ]
  },
  {
   "cell_type": "code",
   "execution_count": null,
   "metadata": {},
   "outputs": [],
   "source": [
    "# Retorno anual\n",
    "ret_anual_logistica = ret_anual(ticker=lst_ticker_fii_logistica, setor='Galpões Logísticos', df_benchmark=ifix_precos)\n",
    "\n",
    "# Df para transformar em excel\n",
    "df_ret_anual_logistica = ret_anual_logistica[0]\n",
    "\n",
    "# Plot do retorno anual\n",
    "ret_anual_logistica[1];"
   ]
  },
  {
   "cell_type": "code",
   "execution_count": null,
   "metadata": {},
   "outputs": [],
   "source": [
    "# Retorno acumulado\n",
    "ret_acumulado_logistica = ret_acumulado(ticker=lst_ticker_fii_logistica, setor='Galpões Logísticos', df_benchmark=ifix_precos)\n",
    "\n",
    "# Df para transformar em excel\n",
    "df_ret_acumulado_logistica = ret_acumulado_logistica[0]\n",
    "\n",
    "# Plot do retorno anual\n",
    "ret_acumulado_logistica[1];"
   ]
  },
  {
   "cell_type": "code",
   "execution_count": null,
   "metadata": {},
   "outputs": [],
   "source": [
    "# Relação risco-retorno\n",
    "plot_risk_return(ticker=lst_ticker_fii_logistica, setor='Galpões Logísticos')"
   ]
  },
  {
   "cell_type": "code",
   "execution_count": null,
   "metadata": {},
   "outputs": [],
   "source": [
    "# Transformando em um arquivo excel\n",
    "with pd.ExcelWriter(f'C://Users//vitor//projetos_python//python_b3//composicao-fundos-de-investimentos//fundo_imobiliario//fii//fii_logistica.xlsx') as writer:\n",
    "    fii_hglg.to_excel(writer, sheet_name='HGLG11')\n",
    "    fii_btlg.to_excel(writer, sheet_name='BTLG11')\n",
    "    fii_xplg.to_excel(writer, sheet_name='XPLG11')\n",
    "    fii_lvbi.to_excel(writer, sheet_name='LVBI11')\n",
    "    fii_brco.to_excel(writer, sheet_name='BRCO11')\n",
    "    fii_trbl.to_excel(writer, sheet_name='TRBL11')\n",
    "    fii_knri.to_excel(writer, sheet_name='KNRI11')\n",
    "    df_logistica_dy.to_excel(writer, sheet_name='DIVIDEND_YIELD')\n",
    "    df_logistica_dy_accum.to_excel(writer, sheet_name='DIVIDEND_YIELD_ACUM')\n",
    "    df_vol_drawdown_logistica.to_excel(writer, sheet_name='VOLATILIDADE_DRAWDOWN')\n",
    "    df_ret_anual_logistica.to_excel(writer, sheet_name='RET_ANUAL')\n",
    "    df_ret_acumulado_logistica.to_excel(writer, sheet_name='RET_ACUM')"
   ]
  },
  {
   "cell_type": "markdown",
   "metadata": {},
   "source": [
    "### FII - Lajes Corporativas"
   ]
  },
  {
   "cell_type": "code",
   "execution_count": null,
   "metadata": {},
   "outputs": [],
   "source": [
    "# Lista dos tickers\n",
    "lst_ticker_fii_lajes = ['PVBI11.SA', 'HGPO11.SA', 'KORE11.SA']\n",
    "\n",
    "# Carregando todos os dados dos FIIs\n",
    "fii_pvbi = fii_cnpj(df=df_ifix, cnpj='35.652.102/0001-76', ticker='PVBI11.SA')\n",
    "fii_hgpo = fii_cnpj(df=df_ifix, cnpj='11.260.134/0001-68', ticker='HGPO11.SA')\n",
    "fii_kore = fii_cnpj(df=df_ifix, cnpj='52.219.978/0001-42', ticker='KORE11.SA')\n",
    "\n",
    "# Mesclando todos os últimos dados\n",
    "fii_lajes = pd.concat([\n",
    "    fii_pvbi,\n",
    "    fii_hgpo,\n",
    "    fii_kore\n",
    "])\n",
    "\n",
    "# Mostrando os dados do último mês divulgado\n",
    "fii_lajes.loc[\n",
    "    fii_lajes.index[-1],\n",
    "    ['Ticker', 'Close', 'Divida_Total', 'Grau_Alavancagem', 'P/VP', 'Percentual_Rentabilidade_Efetiva_Mes', 'Percentual_Dividend_Yield_Mes'] \n",
    "].sort_values('P/VP', ascending=False)"
   ]
  },
  {
   "cell_type": "code",
   "execution_count": null,
   "metadata": {},
   "outputs": [],
   "source": [
    "# Histórico do indicador P/VP dos FIIs \n",
    "historico_p_vp_lajes =plot_historico_p_vp(df=fii_lajes, nome_segmento='Lajes Corporativas')\n",
    "historico_p_vp_lajes"
   ]
  },
  {
   "cell_type": "code",
   "execution_count": null,
   "metadata": {},
   "outputs": [],
   "source": [
    "fii_lajes.loc[\n",
    "    fii_lajes['Ticker'] == 'PVBI11', \n",
    "    ['CNPJ_Fundo', 'Ticker', 'Close', 'Divida_Total', 'Grau_Alavancagem', 'P/VP', 'Percentual_Rentabilidade_Efetiva_Mes', 'Percentual_Dividend_Yield_Mes']\n",
    "]"
   ]
  },
  {
   "cell_type": "code",
   "execution_count": null,
   "metadata": {},
   "outputs": [],
   "source": [
    "fii_lajes.loc[\n",
    "    fii_lajes['Ticker'] == 'HGPO11', \n",
    "    ['CNPJ_Fundo', 'Ticker', 'Close', 'Divida_Total', 'Grau_Alavancagem', 'P/VP', 'Percentual_Rentabilidade_Efetiva_Mes', 'Percentual_Dividend_Yield_Mes']\n",
    "]"
   ]
  },
  {
   "cell_type": "code",
   "execution_count": null,
   "metadata": {},
   "outputs": [],
   "source": [
    "fii_lajes.loc[\n",
    "    fii_lajes['Ticker'] == 'KORE11', \n",
    "    ['CNPJ_Fundo', 'Ticker', 'Close', 'Divida_Total', 'Grau_Alavancagem', 'P/VP', 'Percentual_Rentabilidade_Efetiva_Mes', 'Percentual_Dividend_Yield_Mes']\n",
    "]"
   ]
  },
  {
   "cell_type": "code",
   "execution_count": null,
   "metadata": {},
   "outputs": [],
   "source": [
    "# Volatilidade anual\n",
    "vol_anual_lajes = vol_anual(ticker=lst_ticker_fii_lajes, ano='2024').sort_values(ascending=False)\n",
    "\n",
    "# Plotando a volatilidade anual\n",
    "fig = go.Figure()\n",
    "\n",
    "fig.add_trace(go.Bar(\n",
    "    x=vol_anual_lajes.index,\n",
    "    y=vol_anual_lajes.values\n",
    "))\n",
    "\n",
    "fig.update_layout(\n",
    "    title_text='Volatilidade Anual - FIIs Lajes Corporativas',\n",
    "    template='seaborn',\n",
    "    showlegend=False   \n",
    ")\n",
    "\n",
    "fig.show()"
   ]
  },
  {
   "cell_type": "code",
   "execution_count": null,
   "metadata": {},
   "outputs": [],
   "source": [
    "# Drawdown\n",
    "drawdown_lajes = drawdown(ticker=lst_ticker_fii_lajes).sort_values(ascending=False)\n",
    "\n",
    "# Plotando o drawndown\n",
    "fig = go.Figure()\n",
    "\n",
    "fig.add_trace(go.Bar(\n",
    "    x=drawdown_lajes.index,\n",
    "    y=drawdown_lajes.values\n",
    "))\n",
    "\n",
    "fig.update_layout(\n",
    "    title_text='Drawdown - FIIs Lajes Corporativas',\n",
    "    template='seaborn',\n",
    "    showlegend=False   \n",
    ")\n",
    "\n",
    "fig.show()"
   ]
  },
  {
   "cell_type": "code",
   "execution_count": null,
   "metadata": {},
   "outputs": [],
   "source": [
    "# Criando um df da volatilidade anual e o drawdown\n",
    "df_vol_drawdown_lajes = pd.DataFrame([vol_anual_lajes, drawdown_lajes], index=['volatilidade_anual', 'drawndown']).T\n",
    "df_vol_drawdown_lajes"
   ]
  },
  {
   "cell_type": "code",
   "execution_count": null,
   "metadata": {},
   "outputs": [],
   "source": [
    "# Dividend yield médio, máximo e mínimo dos FII \n",
    "df_lajes_dy = dy_fii(df=fii_lajes)\n",
    "\n",
    "# Plotando o dividend yield médio, máximo e mínimo\n",
    "fig = make_subplots(\n",
    "    rows=3, \n",
    "    cols=1,\n",
    "    subplot_titles=[\n",
    "        'Dividend Yield Médio',\n",
    "        'Dividend Yield Máximo',\n",
    "        'Dividend Yield Mínimo'\n",
    "    ],\n",
    "    vertical_spacing=0.1\n",
    "    )\n",
    "\n",
    "fig.add_trace(go.Bar(\n",
    "    x=df_lajes_dy.index,\n",
    "    y=df_lajes_dy['dy_medio'],\n",
    "    name='DY médio'\n",
    "), row=1, col=1)\n",
    "\n",
    "fig.add_trace(go.Bar(\n",
    "    x=df_lajes_dy.index,\n",
    "    y=df_lajes_dy['dy_max'],\n",
    "     name='DY máximo'\n",
    "), row=2, col=1)\n",
    "\n",
    "fig.add_trace(go.Bar(\n",
    "    x=df_lajes_dy.index,\n",
    "    y=df_lajes_dy['dy_min'],\n",
    "     name='DY mínimo'\n",
    "), row=3, col=1)\n",
    "\n",
    "fig.update_layout(\n",
    "    title='Dividend yield dos FII de Lajes Corporativas',\n",
    "    height=1200)\n",
    "\n",
    "fig.show()"
   ]
  },
  {
   "cell_type": "code",
   "execution_count": null,
   "metadata": {},
   "outputs": [],
   "source": [
    "# DY acumulado dos últimos 12 meses\n",
    "df_lajes_dy_accum = dy_fii_acumm_12m(df=fii_lajes)\n",
    "\n",
    "# Plotando o DY acumulados dos últimos 12 meses\n",
    "fig = go.Figure()\n",
    "\n",
    "for empresa in df_lajes_dy_accum.columns:\n",
    "    fig.add_trace(go.Scatter(\n",
    "        x=df_lajes_dy_accum.index,\n",
    "        y=df_lajes_dy_accum[empresa],\n",
    "        name=empresa\n",
    "    ))\n",
    "\n",
    "fig.update_layout(title='Dividend yield acumulados dos últmos 12 meses - FII de Lajes Corporativas')\n",
    "\n",
    "fig.show()"
   ]
  },
  {
   "cell_type": "code",
   "execution_count": null,
   "metadata": {},
   "outputs": [],
   "source": [
    "# Retorno anual\n",
    "ret_anual_lajes = ret_anual(ticker=lst_ticker_fii_lajes, setor='Lajes Corporativas', df_benchmark=ifix_precos)\n",
    "\n",
    "# Df para transformar em excel\n",
    "df_ret_anual_lajes = ret_anual_lajes[0]\n",
    "\n",
    "# Plot do retorno anual\n",
    "ret_anual_lajes[1];"
   ]
  },
  {
   "cell_type": "code",
   "execution_count": null,
   "metadata": {},
   "outputs": [],
   "source": [
    "# Retorno acumulado\n",
    "ret_acumulado_lajes = ret_acumulado(ticker=lst_ticker_fii_lajes, setor='Lajes Corporativas', df_benchmark=ifix_precos)\n",
    "\n",
    "# Df para transformar em excel\n",
    "df_ret_acumulado_lajes = ret_acumulado_lajes[0]\n",
    "\n",
    "# Plot do retorno anual\n",
    "ret_acumulado_lajes[1];"
   ]
  },
  {
   "cell_type": "code",
   "execution_count": null,
   "metadata": {},
   "outputs": [],
   "source": [
    "# Relação risco-retorno\n",
    "plot_risk_return(ticker=lst_ticker_fii_lajes, setor='Lajes Corporativas')"
   ]
  },
  {
   "cell_type": "code",
   "execution_count": null,
   "metadata": {},
   "outputs": [],
   "source": [
    "# Transformando em um arquivo excel\n",
    "with pd.ExcelWriter(f'C://Users//vitor//projetos_python//python_b3//composicao-fundos-de-investimentos//fundo_imobiliario//fii//fii_lajes.xlsx') as writer:\n",
    "    fii_pvbi.to_excel(writer, sheet_name='PVBI11')\n",
    "    fii_hgpo.to_excel(writer, sheet_name='HGPO11')\n",
    "    fii_kore.to_excel(writer, sheet_name='KORE11')\n",
    "    df_lajes_dy.to_excel(writer, sheet_name='DIVIDEND_YIELD')\n",
    "    df_lajes_dy_accum.to_excel(writer, sheet_name='DIVIDEND_YIELD_ACUM')\n",
    "    df_vol_drawdown_lajes.to_excel(writer, sheet_name='VOLATILIDADE_DRAWDOWN')\n",
    "    df_ret_anual_lajes.to_excel(writer, sheet_name='RET_ANUAL')\n",
    "    df_ret_acumulado_lajes.to_excel(writer, sheet_name='RET_ACUM')"
   ]
  },
  {
   "cell_type": "markdown",
   "metadata": {},
   "source": [
    "### FI - Renda Urbana"
   ]
  },
  {
   "cell_type": "code",
   "execution_count": null,
   "metadata": {},
   "outputs": [],
   "source": [
    "# Lista dos tickers\n",
    "lst_ticker_fii_renda_urbana = ['HGRU11.SA', 'TRXF11.SA', 'VIUR11.SA', 'RBVA11.SA']\n",
    "\n",
    "# Carregando todos os dados dos FIIs\n",
    "fii_hgru = fii_cnpj(df=df_ifix, cnpj='29.641.226/0001-53', ticker='HGRU11.SA')\n",
    "fii_trxf = fii_cnpj(df=df_ifix, cnpj='28.548.288/0001-52', ticker='TRXF11.SA')\n",
    "fii_viur = fii_cnpj(df=df_ifix, cnpj='36.445.587/0001-90', ticker='VIUR11.SA')\n",
    "fii_rbva = fii_cnpj(df=df_ifix, cnpj='15.576.907/0001-70', ticker='RBVA11.SA')\n",
    "\n",
    "# Mesclando todos os últimos dados\n",
    "fii_renda_urbana = pd.concat([\n",
    "    fii_hgru,\n",
    "    fii_trxf,\n",
    "    fii_viur,\n",
    "    fii_rbva\n",
    "])\n",
    "\n",
    "# Mostrando os dados do últimos mês divulgado\n",
    "fii_renda_urbana.loc[\n",
    "    fii_renda_urbana.index[-1],\n",
    "    ['Ticker', 'Close', 'Grau_Alavancagem', 'P/VP', 'Percentual_Rentabilidade_Efetiva_Mes', 'Percentual_Dividend_Yield_Mes']\n",
    "].sort_values('P/VP', ascending=False)"
   ]
  },
  {
   "cell_type": "code",
   "execution_count": null,
   "metadata": {},
   "outputs": [],
   "source": [
    "# Histórico do indicador P/VP dos FIIs \n",
    "historico_p_vp_renda_urbana = plot_historico_p_vp(df=fii_renda_urbana, nome_segmento='Renda Urbana')\n",
    "historico_p_vp_renda_urbana"
   ]
  },
  {
   "cell_type": "code",
   "execution_count": null,
   "metadata": {},
   "outputs": [],
   "source": [
    "fii_renda_urbana.loc[\n",
    "    fii_renda_urbana['Ticker'] == 'HGRU11', \n",
    "    ['CNPJ_Fundo', 'Ticker', 'Close', 'Divida_Total', 'Grau_Alavancagem', 'P/VP', 'Percentual_Rentabilidade_Efetiva_Mes', 'Percentual_Dividend_Yield_Mes']\n",
    "]"
   ]
  },
  {
   "cell_type": "code",
   "execution_count": null,
   "metadata": {},
   "outputs": [],
   "source": [
    "fii_renda_urbana.loc[\n",
    "    fii_renda_urbana['Ticker'] == 'TRXF11', \n",
    "    ['CNPJ_Fundo', 'Ticker', 'Close', 'Divida_Total', 'Grau_Alavancagem', 'P/VP', 'Percentual_Rentabilidade_Efetiva_Mes', 'Percentual_Dividend_Yield_Mes']\n",
    "]"
   ]
  },
  {
   "cell_type": "code",
   "execution_count": null,
   "metadata": {},
   "outputs": [],
   "source": [
    "fii_renda_urbana.loc[\n",
    "    fii_renda_urbana['Ticker'] == 'VIUR11', \n",
    "    ['CNPJ_Fundo', 'Ticker', 'Close', 'Divida_Total', 'Grau_Alavancagem', 'P/VP', 'Percentual_Rentabilidade_Efetiva_Mes', 'Percentual_Dividend_Yield_Mes']\n",
    "]"
   ]
  },
  {
   "cell_type": "code",
   "execution_count": null,
   "metadata": {},
   "outputs": [],
   "source": [
    "fii_renda_urbana.loc[\n",
    "    fii_renda_urbana['Ticker'] == 'RBVA11', \n",
    "    ['CNPJ_Fundo', 'Ticker', 'Close', 'Divida_Total', 'Grau_Alavancagem', 'P/VP', 'Percentual_Rentabilidade_Efetiva_Mes', 'Percentual_Dividend_Yield_Mes']\n",
    "]"
   ]
  },
  {
   "cell_type": "code",
   "execution_count": null,
   "metadata": {},
   "outputs": [],
   "source": [
    "# Volatilidade anual\n",
    "vol_anual_renda_urbana = vol_anual(ticker=lst_ticker_fii_renda_urbana, ano='2024').sort_values(ascending=False)\n",
    "\n",
    "# Plotando a volatilidade anual\n",
    "fig = go.Figure()\n",
    "\n",
    "fig.add_trace(go.Bar(\n",
    "    x=vol_anual_renda_urbana.index,\n",
    "    y=vol_anual_renda_urbana.values\n",
    "))\n",
    "\n",
    "fig.update_layout(\n",
    "    title_text='Volatilidade Anual - FIIs Renda Urbana',\n",
    "    template='seaborn',\n",
    "    showlegend=False   \n",
    ")\n",
    "\n",
    "fig.show()"
   ]
  },
  {
   "cell_type": "code",
   "execution_count": null,
   "metadata": {},
   "outputs": [],
   "source": [
    "# Drawdown\n",
    "drawdown_renda_urbana = drawdown(ticker=lst_ticker_fii_renda_urbana).sort_values(ascending=False)\n",
    "\n",
    "# Plotando o drawndown\n",
    "fig = go.Figure()\n",
    "\n",
    "fig.add_trace(go.Bar(\n",
    "    x=drawdown_renda_urbana.index,\n",
    "    y=drawdown_renda_urbana.values\n",
    "))\n",
    "\n",
    "fig.update_layout(\n",
    "    title_text='Drawdown - FIIs Renda Urbana',\n",
    "    template='seaborn',\n",
    "    showlegend=False   \n",
    ")\n",
    "\n",
    "fig.show()"
   ]
  },
  {
   "cell_type": "code",
   "execution_count": null,
   "metadata": {},
   "outputs": [],
   "source": [
    "# Criando um df da volatilidade anual e o drawdown\n",
    "df_vol_drawdown_renda_urbana = pd.DataFrame([vol_anual_renda_urbana, drawdown_renda_urbana], index=['volatilidade_anual', 'drawndown']).T\n",
    "df_vol_drawdown_renda_urbana"
   ]
  },
  {
   "cell_type": "code",
   "execution_count": null,
   "metadata": {},
   "outputs": [],
   "source": [
    "# Dividend yield médio, máximo e mínimo dos FII \n",
    "df_renda_urbana_dy = dy_fii(df=fii_renda_urbana)\n",
    "\n",
    "# Plotando o dividend yield médio, máximo e mínimo\n",
    "fig = make_subplots(\n",
    "    rows=3, \n",
    "    cols=1,\n",
    "    subplot_titles=[\n",
    "        'Dividend Yield Médio',\n",
    "        'Dividend Yield Máximo',\n",
    "        'Dividend Yield Mínimo'\n",
    "    ],\n",
    "    vertical_spacing=0.1\n",
    "    )\n",
    "\n",
    "fig.add_trace(go.Bar(\n",
    "    x=df_renda_urbana_dy.index,\n",
    "    y=df_renda_urbana_dy['dy_medio'],\n",
    "    name='DY médio'\n",
    "), row=1, col=1)\n",
    "\n",
    "fig.add_trace(go.Bar(\n",
    "    x=df_renda_urbana_dy.index,\n",
    "    y=df_renda_urbana_dy['dy_max'],\n",
    "     name='DY máximo'\n",
    "), row=2, col=1)\n",
    "\n",
    "fig.add_trace(go.Bar(\n",
    "    x=df_renda_urbana_dy.index,\n",
    "    y=df_renda_urbana_dy['dy_min'],\n",
    "     name='DY mínimo'\n",
    "), row=3, col=1)\n",
    "\n",
    "fig.update_layout(\n",
    "    title='Dividend yield dos FII de Renda Urbana',\n",
    "    height=1200)\n",
    "\n",
    "fig.show()"
   ]
  },
  {
   "cell_type": "code",
   "execution_count": null,
   "metadata": {},
   "outputs": [],
   "source": [
    "# DY acumulado dos últimos 12 meses\n",
    "df_renda_urbana_dy_accum = dy_fii_acumm_12m(df=fii_renda_urbana)\n",
    "\n",
    "# Plotando o DY acumulados dos últimos 12 meses\n",
    "fig = go.Figure()\n",
    "\n",
    "for empresa in df_renda_urbana_dy_accum.columns:\n",
    "    fig.add_trace(go.Scatter(\n",
    "        x=df_renda_urbana_dy_accum.index,\n",
    "        y=df_renda_urbana_dy_accum[empresa],\n",
    "        name=empresa\n",
    "    ))\n",
    "\n",
    "fig.update_layout(title='Dividend yield acumulados dos últmos 12 meses - FII de Renda Urbana')\n",
    "\n",
    "fig.show()"
   ]
  },
  {
   "cell_type": "code",
   "execution_count": null,
   "metadata": {},
   "outputs": [],
   "source": [
    "# Retorno anual\n",
    "ret_anual_renda_urbana = ret_anual(ticker=lst_ticker_fii_renda_urbana, setor='Renda Urbana', df_benchmark=ifix_precos)\n",
    "\n",
    "# Df para transformar em excel\n",
    "df_ret_anual_renda_urbana = ret_anual_renda_urbana[0]\n",
    "\n",
    "# Plot do retorno anual\n",
    "ret_anual_renda_urbana[1];"
   ]
  },
  {
   "cell_type": "code",
   "execution_count": null,
   "metadata": {},
   "outputs": [],
   "source": [
    "# Retorno acumulado\n",
    "ret_acumulado_renda_urbana = ret_acumulado(ticker=lst_ticker_fii_renda_urbana, setor='Renda Urbana', df_benchmark=ifix_precos)\n",
    "\n",
    "# Df para transformar em excel\n",
    "df_ret_acumulado_renda_urbana = ret_acumulado_renda_urbana[0]\n",
    "\n",
    "# Plot do retorno anual\n",
    "ret_acumulado_renda_urbana[1];"
   ]
  },
  {
   "cell_type": "code",
   "execution_count": null,
   "metadata": {},
   "outputs": [],
   "source": [
    "# Relação risco-retorno\n",
    "plot_risk_return(ticker=lst_ticker_fii_renda_urbana, setor='Renda Urbana')"
   ]
  },
  {
   "cell_type": "code",
   "execution_count": null,
   "metadata": {},
   "outputs": [],
   "source": [
    "# Transformando em um arquivo excel\n",
    "with pd.ExcelWriter(f'C://Users//vitor//projetos_python//python_b3//composicao-fundos-de-investimentos//fundo_imobiliario//fii//fii_renda_urbana.xlsx') as writer:\n",
    "    fii_hgru.to_excel(writer, sheet_name='HGRU11')\n",
    "    fii_trxf.to_excel(writer, sheet_name='TRXF11')\n",
    "    fii_viur.to_excel(writer, sheet_name='VIUR11')\n",
    "    fii_rbva.to_excel(writer, sheet_name='RBVA11')\n",
    "    df_renda_urbana_dy.to_excel(writer, sheet_name='DIVIDEND_YIELD')\n",
    "    df_renda_urbana_dy_accum.to_excel(writer, sheet_name='DIVIDEND_YIELD_ACUM')\n",
    "    df_vol_drawdown_renda_urbana.to_excel(writer, sheet_name='VOLATILIDADE_DRAWDOWN')\n",
    "    df_ret_anual_renda_urbana.to_excel(writer, sheet_name='RET_ANUAL')\n",
    "    df_ret_acumulado_renda_urbana.to_excel(writer, sheet_name='RET_ACUM')"
   ]
  },
  {
   "cell_type": "markdown",
   "metadata": {},
   "source": [
    "### FI - Papel"
   ]
  },
  {
   "cell_type": "code",
   "execution_count": null,
   "metadata": {},
   "outputs": [],
   "source": [
    "# Lista dos tickers\n",
    "lst_ticker_fii_papel = ['KNIP11.SA', 'KNCR11.SA', 'KNSC11.SA', 'HGCR11.SA', 'MXRF11.SA', 'VGIR11.SA']\n",
    "\n",
    "# Carregando todos os dados dos FIIs\n",
    "fii_knip = fii_cnpj(df=df_ifix, cnpj='24.960.430/0001-13', ticker='KNIP11.SA')\n",
    "fii_kncr = fii_cnpj(df=df_ifix, cnpj='16.706.958/0001-32', ticker='KNCR11.SA')\n",
    "fii_knsc = fii_cnpj(df=df_ifix, cnpj='35.864.448/0001-38', ticker='KNSC11.SA')\n",
    "fii_hgcr = fii_cnpj(df=df_ifix, cnpj='11.160.521/0001-22', ticker='HGCR11.SA')\n",
    "fii_mxrf = fii_cnpj(df=df_ifix, cnpj='97.521.225/0001-25', ticker='MXRF11.SA')\n",
    "fii_vgir = fii_cnpj(df=df_ifix, cnpj='29.852.732/0001-91', ticker='VGIR11.SA')\n",
    "\n",
    "# Mesclando todos os últimos dados\n",
    "fii_papel = pd.concat([\n",
    "    fii_knip,\n",
    "    fii_kncr,\n",
    "    fii_knsc,\n",
    "    fii_hgcr,\n",
    "    fii_mxrf,\n",
    "    fii_vgir\n",
    "])\n",
    "\n",
    "# Mostrando os dados do último mês divulgado\n",
    "fii_papel.loc[\n",
    "    fii_papel.index[-1],\n",
    "    ['Ticker', 'Close', 'P/VP', 'Percentual_Rentabilidade_Efetiva_Mes', 'Percentual_Dividend_Yield_Mes']\n",
    "].sort_values('P/VP', ascending=False)"
   ]
  },
  {
   "cell_type": "code",
   "execution_count": null,
   "metadata": {},
   "outputs": [],
   "source": [
    "# Histórico do indicador P/VP dos FIIs \n",
    "historico_p_vp_papel = plot_historico_p_vp(df=fii_papel, nome_segmento='Papel')\n",
    "historico_p_vp_papel"
   ]
  },
  {
   "cell_type": "code",
   "execution_count": null,
   "metadata": {},
   "outputs": [],
   "source": [
    "fii_papel.loc[\n",
    "    fii_papel['Ticker'] == 'KNIP11', \n",
    "    ['CNPJ_Fundo', 'Ticker', 'Close', 'Divida_Total', 'Grau_Alavancagem', 'P/VP', 'Percentual_Rentabilidade_Efetiva_Mes', 'Percentual_Dividend_Yield_Mes']\n",
    "]"
   ]
  },
  {
   "cell_type": "code",
   "execution_count": null,
   "metadata": {},
   "outputs": [],
   "source": [
    "fii_papel.loc[\n",
    "    fii_papel['Ticker'] == 'KNCR11', \n",
    "    ['CNPJ_Fundo', 'Ticker', 'Close', 'Divida_Total', 'Grau_Alavancagem', 'P/VP', 'Percentual_Rentabilidade_Efetiva_Mes', 'Percentual_Dividend_Yield_Mes']\n",
    "]"
   ]
  },
  {
   "cell_type": "code",
   "execution_count": null,
   "metadata": {},
   "outputs": [],
   "source": [
    "fii_papel.loc[\n",
    "    fii_papel['Ticker'] == 'KNSC11', \n",
    "    ['CNPJ_Fundo', 'Ticker', 'Close', 'Divida_Total', 'Grau_Alavancagem', 'P/VP', 'Percentual_Rentabilidade_Efetiva_Mes', 'Percentual_Dividend_Yield_Mes']\n",
    "]"
   ]
  },
  {
   "cell_type": "code",
   "execution_count": null,
   "metadata": {},
   "outputs": [],
   "source": [
    "fii_papel.loc[\n",
    "    fii_papel['Ticker'] == 'HGCR11', \n",
    "    ['CNPJ_Fundo', 'Ticker', 'Close', 'Divida_Total', 'Grau_Alavancagem', 'P/VP', 'Percentual_Rentabilidade_Efetiva_Mes', 'Percentual_Dividend_Yield_Mes']\n",
    "]"
   ]
  },
  {
   "cell_type": "code",
   "execution_count": null,
   "metadata": {},
   "outputs": [],
   "source": [
    "fii_papel.loc[\n",
    "    fii_papel['Ticker'] == 'MXRF11', \n",
    "    ['CNPJ_Fundo', 'Ticker', 'Close', 'Divida_Total', 'Grau_Alavancagem', 'P/VP', 'Percentual_Rentabilidade_Efetiva_Mes', 'Percentual_Dividend_Yield_Mes']\n",
    "]"
   ]
  },
  {
   "cell_type": "code",
   "execution_count": null,
   "metadata": {},
   "outputs": [],
   "source": [
    "fii_papel.loc[\n",
    "    fii_papel['Ticker'] == 'VGIR11', \n",
    "    ['CNPJ_Fundo', 'Ticker', 'Close', 'Divida_Total', 'Grau_Alavancagem', 'P/VP', 'Percentual_Rentabilidade_Efetiva_Mes', 'Percentual_Dividend_Yield_Mes']\n",
    "]"
   ]
  },
  {
   "cell_type": "code",
   "execution_count": null,
   "metadata": {},
   "outputs": [],
   "source": [
    "# Volatilidade anual\n",
    "vol_anual_papel = vol_anual(ticker=lst_ticker_fii_papel, ano='2024').sort_values(ascending=False)\n",
    "\n",
    "# Plotando a volatilidade anual\n",
    "fig = go.Figure()\n",
    "\n",
    "fig.add_trace(go.Bar(\n",
    "    x=vol_anual_papel.index,\n",
    "    y=vol_anual_papel.values\n",
    "))\n",
    "\n",
    "fig.update_layout(\n",
    "    title_text='Volatilidade Anual - FIIs Papel',\n",
    "    template='seaborn',\n",
    "    showlegend=False   \n",
    ")\n",
    "\n",
    "fig.show()"
   ]
  },
  {
   "cell_type": "code",
   "execution_count": null,
   "metadata": {},
   "outputs": [],
   "source": [
    "# Drawdown\n",
    "drawdown_papel = drawdown(ticker=lst_ticker_fii_papel).sort_values(ascending=False)\n",
    "\n",
    "# Plotando o drawndown\n",
    "fig = go.Figure()\n",
    "\n",
    "fig.add_trace(go.Bar(\n",
    "    x=drawdown_papel.index,\n",
    "    y=drawdown_papel.values\n",
    "))\n",
    "\n",
    "fig.update_layout(\n",
    "    title_text='Drawdown - FIIs Papel',\n",
    "    template='seaborn',\n",
    "    showlegend=False   \n",
    ")\n",
    "\n",
    "fig.show()"
   ]
  },
  {
   "cell_type": "code",
   "execution_count": null,
   "metadata": {},
   "outputs": [],
   "source": [
    "# Criando um df da volatilidade anual e o drawdown\n",
    "df_vol_drawdown_papel = pd.DataFrame([vol_anual_papel, drawdown_papel], index=['volatilidade_anual', 'drawndown']).T\n",
    "df_vol_drawdown_papel"
   ]
  },
  {
   "cell_type": "code",
   "execution_count": null,
   "metadata": {},
   "outputs": [],
   "source": [
    "# Dividend yield médio, máximo e mínimo dos FII \n",
    "df_papel_dy = dy_fii(df=fii_papel)\n",
    "\n",
    "# Plotando o dividend yield médio, máximo e mínimo\n",
    "fig = make_subplots(\n",
    "    rows=3, \n",
    "    cols=1,\n",
    "    subplot_titles=[\n",
    "        'Dividend Yield Médio',\n",
    "        'Dividend Yield Máximo',\n",
    "        'Dividend Yield Mínimo'\n",
    "    ],\n",
    "    vertical_spacing=0.1\n",
    "    )\n",
    "\n",
    "fig.add_trace(go.Bar(\n",
    "    x=df_papel_dy.index,\n",
    "    y=df_papel_dy['dy_medio'],\n",
    "    name='DY médio'\n",
    "), row=1, col=1)\n",
    "\n",
    "fig.add_trace(go.Bar(\n",
    "    x=df_papel_dy.index,\n",
    "    y=df_papel_dy['dy_max'],\n",
    "     name='DY máximo'\n",
    "), row=2, col=1)\n",
    "\n",
    "fig.add_trace(go.Bar(\n",
    "    x=df_papel_dy.index,\n",
    "    y=df_papel_dy['dy_min'],\n",
    "     name='DY mínimo'\n",
    "), row=3, col=1)\n",
    "\n",
    "fig.update_layout(\n",
    "    title='Dividend yield dos FII de Papel',\n",
    "    height=1200)\n",
    "\n",
    "fig.show()"
   ]
  },
  {
   "cell_type": "code",
   "execution_count": null,
   "metadata": {},
   "outputs": [],
   "source": [
    "# DY acumulado dos últimos 12 meses\n",
    "df_papel_dy_accum = dy_fii_acumm_12m(df=fii_papel)\n",
    "\n",
    "# Plotando o DY acumulados dos últimos 12 meses\n",
    "fig = go.Figure()\n",
    "\n",
    "for empresa in df_papel_dy_accum.columns:\n",
    "    fig.add_trace(go.Scatter(\n",
    "        x=df_papel_dy_accum.index,\n",
    "        y=df_papel_dy_accum[empresa],\n",
    "        name=empresa\n",
    "    ))\n",
    "\n",
    "fig.update_layout(title='Dividend yield acumulados dos últmos 12 meses - FII de Papel')\n",
    "\n",
    "fig.show()"
   ]
  },
  {
   "cell_type": "code",
   "execution_count": null,
   "metadata": {},
   "outputs": [],
   "source": [
    "# Retorno anual\n",
    "ret_anual_papel = ret_anual(ticker=lst_ticker_fii_papel, setor='Papel', df_benchmark=ifix_precos)\n",
    "\n",
    "# Df para transformar em excel\n",
    "df_ret_anual_papel = ret_anual_papel[0]\n",
    "\n",
    "# Plot do retorno anual\n",
    "ret_anual_papel[1];"
   ]
  },
  {
   "cell_type": "code",
   "execution_count": null,
   "metadata": {},
   "outputs": [],
   "source": [
    "# Retorno acumulado\n",
    "ret_acumulado_papel = ret_acumulado(ticker=lst_ticker_fii_papel, setor='Papel', df_benchmark=ifix_precos)\n",
    "\n",
    "# Df para transformar em excel\n",
    "df_ret_acumulado_papel = ret_acumulado_papel[0]\n",
    "\n",
    "# Plot do retorno anual\n",
    "ret_acumulado_papel[1];"
   ]
  },
  {
   "cell_type": "code",
   "execution_count": null,
   "metadata": {},
   "outputs": [],
   "source": [
    "# Relação risco-retorno\n",
    "plot_risk_return(ticker=lst_ticker_fii_papel, setor='Papel')"
   ]
  },
  {
   "cell_type": "markdown",
   "metadata": {},
   "source": [
    "#### Análisando a carteira de CRIs dos FIIs"
   ]
  },
  {
   "cell_type": "code",
   "execution_count": null,
   "metadata": {},
   "outputs": [],
   "source": [
    "# KNIP11\n",
    "df_cris_knip = pd.read_excel(\n",
    "    io='C://Users//vitor//projetos_python//python_b3//composicao-fundos-de-investimentos//fundo_imobiliario//cris//knip11_062025.xlsx',\n",
    "    sheet_name='Carteira de Ativos',\n",
    "    header=10\n",
    ")\n",
    "\n",
    "# Removendo colunas\n",
    "df_cris_knip = df_cris_knip.drop(columns=['Unnamed: 0', 'Unnamed: 1', 'AGENTE FIDUCIÁRIO'])\n",
    "\n",
    "# Selecionando as principais colunas\n",
    "df_cris_knip = df_cris_knip[[\n",
    "    'ATIVO', \n",
    "    'DEVEDOR / ATIVO IMOBILIARIO', \n",
    "    'INDEX.', \n",
    "    '% DA CARTEIRA', \n",
    "    'TAXA AQUISIÇÃO', \n",
    "    'TAXA MTM', \n",
    "    'LTV', \n",
    "    'VENCIMENTO DO CRI'\n",
    "]]\n",
    "\n",
    "# Arrumando o dtypes das colunas\n",
    "df_cris_knip['TAXA AQUISIÇÃO'] = df_cris_knip['TAXA AQUISIÇÃO'].replace('-', 0).astype(float)\n",
    "df_cris_knip['TAXA MTM'] = df_cris_knip['TAXA MTM'].replace('-', 0).astype(float)\n",
    "\n",
    "# Preenchendo os NaN\n",
    "df_cris_knip['LTV'] = df_cris_knip['LTV'].fillna(0)\n",
    "\n",
    "# Análise do LTV\n",
    "ltv_knip_media_ponderada = round(np.average(df_cris_knip.loc[df_cris_knip['ATIVO'] == 'CRI', 'LTV'], weights=df_cris_knip.loc[df_cris_knip['ATIVO'] == 'CRI', '% DA CARTEIRA']) * 100, 2)\n",
    "ltv_knip_media = round(df_cris_knip.loc[df_cris_knip['ATIVO'] == 'CRI', 'LTV'].mean() * 100, 2)\n",
    "ltv_knip_max = round(df_cris_knip.loc[df_cris_knip['ATIVO'] == 'CRI', 'LTV'].max() * 100, 2)\n",
    "ltv_knip_min = round(df_cris_knip.loc[df_cris_knip['ATIVO'] == 'CRI', 'LTV'].min() * 100, 2)\n",
    "ltv_knip_num_zero = len(df_cris_knip.loc[(df_cris_knip['ATIVO'] == 'CRI') & (df_cris_knip['LTV'] == 0)])\n",
    "\n",
    "# Números total de ativos\n",
    "num_ativos_knip = len(df_cris_knip)\n",
    "\n",
    "# Número total de CRIs\n",
    "num_cris_knip = len(df_cris_knip.loc[df_cris_knip['ATIVO'] == 'CRI'])\n",
    "\n",
    "# Tipos de ativos no portfólio\n",
    "ativos_knip = df_cris_knip['ATIVO'].unique()\n",
    "# Transformando a lista em uma string única\n",
    "ativos_knip = ', '.join(ativos_knip) \n",
    "\n",
    "# Contando os números de cada ativo do KNIP11\n",
    "tipo_ativos_knip = df_cris_knip.loc[:, 'ATIVO'].value_counts()\n",
    "\n",
    "# Contagem dos CRIs no KNIP11 por índice\n",
    "tipo_cri_knip = df_cris_knip.loc[df_cris_knip['ATIVO'] == 'CRI', 'INDEX.'].value_counts()\n",
    "\n",
    "# Tipos de indexadores\n",
    "indexadores_knip = tipo_cri_knip.index\n",
    "# Transformando a lista em uma string única\n",
    "indexadores_knip = ', '.join(indexadores_knip)\n",
    "# Retirando a string '+'\n",
    "indexadores_knip = indexadores_knip.replace('+', '').strip()\n",
    "\n",
    "# Plotando o subplot\n",
    "fig = make_subplots(\n",
    "    rows=2,\n",
    "    cols=1,\n",
    "    specs=[[{'type':'domain'}], [{'type':'domain'}]],\n",
    "    subplot_titles=(\n",
    "        'Distribuição dos ativos',\n",
    "        'Distribuição dos indexadores dos CRIs'),\n",
    "    vertical_spacing=0.08  # Aumentando o espaçamento vertical\n",
    ")\n",
    "\n",
    "fig.add_trace(go.Pie(\n",
    "    values=tipo_ativos_knip, \n",
    "    labels=tipo_ativos_knip.index,\n",
    "    legendgroup='ativos_knip',  \n",
    "    showlegend=True,\n",
    "    textposition='inside',\n",
    "    ), \n",
    "    row=1, col=1\n",
    ")\n",
    "\n",
    "fig.add_trace(go.Pie(\n",
    "    values=tipo_cri_knip, \n",
    "    labels=tipo_cri_knip.index,\n",
    "    legendgroup='cri_knip', \n",
    "    showlegend=True,\n",
    "    textposition='inside',\n",
    "    ), \n",
    "    row=2, col=1\n",
    ")\n",
    "\n",
    "fig.update_layout(\n",
    "    title_text='Distribuição dos Ativos e Indexadores dos CRIs - KNIP11',\n",
    "    height=1000\n",
    ")\n",
    "\n",
    "fig.show()"
   ]
  },
  {
   "cell_type": "code",
   "execution_count": null,
   "metadata": {},
   "outputs": [],
   "source": [
    "# CRIs que estão ganhando com marcação a mercado\n",
    "df_cris_knip.loc[df_cris_knip['TAXA AQUISIÇÃO'] > df_cris_knip['TAXA MTM']]"
   ]
  },
  {
   "cell_type": "code",
   "execution_count": null,
   "metadata": {},
   "outputs": [],
   "source": [
    "# KNCR11\n",
    "df_cris_kncr = pd.read_excel(\n",
    "    io='C://Users//vitor//projetos_python//python_b3//composicao-fundos-de-investimentos//fundo_imobiliario//cris//kncr11_062025.xlsx',\n",
    "    sheet_name='Carteira de Ativos',\n",
    "    header=10\n",
    ")\n",
    "\n",
    "# Removendo colunas\n",
    "df_cris_kncr = df_cris_kncr.drop(columns=['Unnamed: 0', 'Unnamed: 1', 'AGENTE FIDUCIÁRIO'])\n",
    "\n",
    "# Selecionando as principais colunas\n",
    "df_cris_kncr = df_cris_kncr[[\n",
    "    'ATIVO', \n",
    "    'DEVEDOR / ATIVO IMOBILIARIO', \n",
    "    'INDEX.', \n",
    "    '% DA CARTEIRA', \n",
    "    'TAXA AQUISIÇÃO', \n",
    "    'TAXA MTM', \n",
    "    'LTV', \n",
    "    'VENCIMENTO DO CRI'\n",
    "]]\n",
    "\n",
    "# Arrumando o dtypes das colunas\n",
    "df_cris_kncr['TAXA AQUISIÇÃO'] = df_cris_kncr['TAXA AQUISIÇÃO'].replace('-', 0).astype(float)\n",
    "df_cris_kncr['TAXA MTM'] = df_cris_kncr['TAXA MTM'].replace('-', 0).astype(float)\n",
    "\n",
    "# Preenchendo os NaN\n",
    "df_cris_kncr['LTV'] = df_cris_kncr['LTV'].fillna(0)\n",
    "\n",
    "# Análise do LTV\n",
    "ltv_kncr_media_ponderada = round(np.average(df_cris_kncr.loc[df_cris_kncr['ATIVO'] == 'CRI', 'LTV'], weights=df_cris_kncr.loc[df_cris_kncr['ATIVO'] == 'CRI', '% DA CARTEIRA']) * 100, 2)\n",
    "ltv_kncr_media = round(df_cris_kncr.loc[df_cris_kncr['ATIVO'] == 'CRI', 'LTV'].mean() * 100, 2)\n",
    "ltv_kncr_max = round(df_cris_kncr.loc[df_cris_kncr['ATIVO'] == 'CRI', 'LTV'].max() * 100, 2)\n",
    "ltv_kncr_min = round(df_cris_kncr.loc[df_cris_kncr['ATIVO'] == 'CRI', 'LTV'].min() * 100, 2)\n",
    "ltv_kncr_num_zero = len(df_cris_kncr.loc[(df_cris_kncr['ATIVO'] == 'CRI') & (df_cris_kncr['LTV'] == 0)])\n",
    "\n",
    "# Números total de ativos\n",
    "num_ativos_kncr = len(df_cris_kncr)\n",
    "\n",
    "# Número total de CRIs\n",
    "num_cris_kncr = len(df_cris_kncr.loc[df_cris_kncr['ATIVO'] == 'CRI'])\n",
    "\n",
    "# Tipos de ativos no portfólio\n",
    "ativos_kncr = df_cris_kncr['ATIVO'].unique()\n",
    "# Transformando a lista em uma string única\n",
    "ativos_kncr = ', '.join(ativos_kncr) \n",
    "\n",
    "# Contando os números de cada ativo do KNCR11\n",
    "tipo_ativos_kncr = df_cris_kncr.loc[:, 'ATIVO'].value_counts()\n",
    "\n",
    "# Contagem dos CRIs no KNCR11 por índice\n",
    "tipo_cri_kncr = df_cris_kncr.loc[df_cris_kncr['ATIVO'] == 'CRI', 'INDEX.'].value_counts()\n",
    "\n",
    "# Tipos de indexadores\n",
    "indexadores_kncr = tipo_cri_kncr.index\n",
    "# Transformando a lista em uma string única\n",
    "indexadores_kncr = ', '.join(indexadores_kncr)\n",
    "# Retirando a string '+'\n",
    "indexadores_kncr = indexadores_kncr.replace('+', '').strip()\n",
    "\n",
    "# Plotando o subplot\n",
    "fig = make_subplots(\n",
    "    rows=2,\n",
    "    cols=1,\n",
    "    specs=[[{'type':'domain'}], [{'type':'domain'}]],\n",
    "    subplot_titles=(\n",
    "        'Distribuição dos ativos',\n",
    "        'Distribuição dos indexadores dos CRIs'),\n",
    "    vertical_spacing=0.08  # Aumentando o espaçamento vertical\n",
    ")\n",
    "\n",
    "fig.add_trace(go.Pie(\n",
    "    values=tipo_ativos_kncr, \n",
    "    labels=tipo_ativos_kncr.index,\n",
    "    legendgroup='ativos_kncr',  \n",
    "    showlegend=True,\n",
    "    textposition='inside',\n",
    "    ), \n",
    "    row=1, col=1\n",
    ")\n",
    "\n",
    "fig.add_trace(go.Pie(\n",
    "    values=tipo_cri_kncr, \n",
    "    labels=tipo_cri_kncr.index,\n",
    "    legendgroup='cri_kncr', \n",
    "    showlegend=True,\n",
    "    textposition='inside',\n",
    "    ), \n",
    "    row=2, col=1\n",
    ")\n",
    "\n",
    "fig.update_layout(\n",
    "    title_text='Distribuição dos Ativos e Indexadores dos CRIs - KNCR11',\n",
    "    height=1000\n",
    ")\n",
    "\n",
    "fig.show()"
   ]
  },
  {
   "cell_type": "code",
   "execution_count": null,
   "metadata": {},
   "outputs": [],
   "source": [
    "# CRIs que estão ganhando com marcação a mercado\n",
    "df_cris_kncr.loc[df_cris_kncr['TAXA AQUISIÇÃO'] > df_cris_kncr['TAXA MTM']]"
   ]
  },
  {
   "cell_type": "code",
   "execution_count": null,
   "metadata": {},
   "outputs": [],
   "source": [
    "# KNSC11\n",
    "df_cris_knsc = pd.read_excel(\n",
    "    io='C://Users//vitor//projetos_python//python_b3//composicao-fundos-de-investimentos//fundo_imobiliario//cris//knsc11_052025.xlsx',\n",
    "    sheet_name='Carteira de Ativos',\n",
    "    header=10\n",
    ")\n",
    "\n",
    "# Removendo colunas\n",
    "df_cris_knsc = df_cris_knsc.drop(columns=['Unnamed: 0', 'Unnamed: 1', 'AGENTE FIDUCIÁRIO'])\n",
    "\n",
    "# Selecionando as principais colunas\n",
    "df_cris_knsc = df_cris_knsc[[\n",
    "    'ATIVO', \n",
    "    'DEVEDOR / ATIVO IMOBILIARIO', \n",
    "    'INDEX.', \n",
    "    '% DA CARTEIRA', \n",
    "    'TAXA AQUISIÇÃO', \n",
    "    'TAXA MTM', \n",
    "    'LTV', \n",
    "    'VENCIMENTO DO CRI'\n",
    "]]\n",
    "\n",
    "# Arrumando o dtypes das colunas\n",
    "df_cris_knsc['TAXA AQUISIÇÃO'] = df_cris_knsc['TAXA AQUISIÇÃO'].replace('-', 0).astype(float)\n",
    "df_cris_knsc['TAXA MTM'] = df_cris_knsc['TAXA MTM'].replace('-', 0).astype(float)\n",
    "\n",
    "# Preenchendo os NaN\n",
    "df_cris_knsc['LTV'] = df_cris_knsc['LTV'].fillna(0)\n",
    "\n",
    "# Análise do LTV\n",
    "ltv_knsc_media_ponderada = round(np.average(df_cris_knsc.loc[df_cris_knsc['ATIVO']=='CRI', 'LTV'], weights=df_cris_knsc.loc[df_cris_knsc['ATIVO']=='CRI', '% DA CARTEIRA']) * 100, 2)\n",
    "ltv_knsc_media = round(df_cris_knsc.loc[df_cris_knsc['ATIVO']=='CRI', 'LTV'].mean() * 100, 2)\n",
    "ltv_knsc_max = round(df_cris_knsc.loc[df_cris_knsc['ATIVO']=='CRI', 'LTV'].max() * 100, 2)\n",
    "ltv_knsc_min = round(df_cris_knsc.loc[df_cris_knsc['ATIVO']=='CRI', 'LTV'].min() * 100, 2)\n",
    "ltv_knsc_num_zero = len(df_cris_knsc.loc[(df_cris_knsc['ATIVO'] == 'CRI') & (df_cris_knsc['LTV'] == 0)])\n",
    "\n",
    "# Números total de ativos\n",
    "num_ativos_knsc = len(df_cris_knsc)\n",
    "\n",
    "# Número total de CRIs\n",
    "num_cris_knsc = len(df_cris_knsc.loc[df_cris_knsc['ATIVO'] == 'CRI'])\n",
    "\n",
    "# Tipos de ativos no portfólio\n",
    "ativos_knsc = df_cris_knsc['ATIVO'].unique()\n",
    "# Transformando a lista em uma string única\n",
    "ativos_knsc = ', '.join(ativos_knsc) \n",
    "\n",
    "# Contando os números de cada ativo do KNCR11\n",
    "tipo_ativos_knsc = df_cris_knsc.loc[:, 'ATIVO'].value_counts()\n",
    "\n",
    "# Contagem dos CRIs no KNCR11 por índice\n",
    "tipo_cri_knsc = df_cris_knsc.loc[df_cris_knsc['ATIVO'] == 'CRI', 'INDEX.'].value_counts()\n",
    "\n",
    "# Tipos de indexadores\n",
    "indexadores_knsc = tipo_cri_knsc.index\n",
    "# Transformando a lista em uma string única\n",
    "indexadores_knsc = ', '.join(indexadores_knsc)\n",
    "# Retirando a string '+'\n",
    "indexadores_knsc = indexadores_knsc.replace('+', '').strip()\n",
    "\n",
    "# Plotando o subplot\n",
    "fig = make_subplots(\n",
    "    rows=2,\n",
    "    cols=1,\n",
    "    specs=[[{'type':'domain'}], [{'type':'domain'}]],\n",
    "    subplot_titles=(\n",
    "        'Distribuição dos ativos',\n",
    "        'Distribuição dos indexadores dos CRIs'),\n",
    "    vertical_spacing=0.08  # Aumentando o espaçamento vertical\n",
    ")\n",
    "\n",
    "fig.add_trace(go.Pie(\n",
    "    values=tipo_ativos_knsc, \n",
    "    labels=tipo_ativos_knsc.index,\n",
    "    legendgroup='ativos_knsc',  \n",
    "    showlegend=True,\n",
    "    textposition='inside',\n",
    "    ), \n",
    "    row=1, col=1\n",
    ")\n",
    "\n",
    "fig.add_trace(go.Pie(\n",
    "    values=tipo_cri_knsc, \n",
    "    labels=tipo_cri_knsc.index,\n",
    "    legendgroup='cri_knsc', \n",
    "    showlegend=True,\n",
    "    textposition='inside',\n",
    "    ), \n",
    "    row=2, col=1\n",
    ")\n",
    "\n",
    "fig.update_layout(\n",
    "    title_text='Distribuição dos Ativos e Indexadores dos CRIs - KNSC11',\n",
    "    height=1000\n",
    ")\n",
    "\n",
    "fig.show()"
   ]
  },
  {
   "cell_type": "code",
   "execution_count": null,
   "metadata": {},
   "outputs": [],
   "source": [
    "# CRIs que estão ganhando com marcação a mercado\n",
    "df_cris_knsc.loc[df_cris_knsc['TAXA AQUISIÇÃO'] > df_cris_knsc['TAXA MTM']]"
   ]
  },
  {
   "cell_type": "code",
   "execution_count": null,
   "metadata": {},
   "outputs": [],
   "source": [
    "# A partir de 2025, ele passou a disponibilizar apenas um arquivo XML e não mais Excel\n",
    "\n",
    "# HGCR11\n",
    "df_cris_hgcr = pd.read_excel(\n",
    "    io='C://Users//vitor//projetos_python//python_b3//composicao-fundos-de-investimentos//fundo_imobiliario//cris//hgcr11_062025.xlsx',\n",
    "    sheet_name='Carteira',\n",
    "    header=5,\n",
    "    skipfooter=1\n",
    ")\n",
    "\n",
    "# Removendo as colunas\n",
    "df_cris_hgcr = df_cris_hgcr.drop(columns=['Unnamed: 0', '#'])\n",
    "\n",
    "# Formantando as colunas\n",
    "df_cris_hgcr.columns = df_cris_hgcr.columns.str.replace('\\n', '')\n",
    "df_cris_hgcr = df_cris_hgcr.replace('-', 0)\n",
    "df_cris_hgcr['LTV'] = df_cris_hgcr['LTV'].astype(float)\n",
    "\n",
    "# Análise do LTV\n",
    "ltv_hgcr_media_ponderada = round(np.average(df_cris_hgcr['LTV'], weights=df_cris_hgcr['%/PL']) * 100, 2)\n",
    "ltv_hgcr_media = round(df_cris_hgcr['LTV'].mean() * 100, 2)\n",
    "ltv_hgcr_max = round(df_cris_hgcr['LTV'].max() * 100, 2)\n",
    "ltv_hgcr_min = round(df_cris_hgcr['LTV'].min() * 100, 2)\n",
    "ltv_hgcr_num_zero = len(df_cris_hgcr.loc[df_cris_hgcr['LTV'] == 0])\n",
    "\n",
    "# Números total de ativos\n",
    "num_ativos_hgcr = len(df_cris_hgcr)\n",
    "\n",
    "# Contagem dos CRIs no HGCR11 por índice\n",
    "tipo_cri_hgcr = df_cris_hgcr.loc[:, 'Indexador'].value_counts()\n",
    "\n",
    "# Removendo o index 0 - o fundo começou a comprar outros FIIs (não possuem indexadores)\n",
    "tipo_cri_hgcr = tipo_cri_hgcr.drop(0)\n",
    "\n",
    "# Tipos de indexadores\n",
    "indexadores_hgcr = tipo_cri_hgcr.index\n",
    "\n",
    "# Transformando a lista em uma string única\n",
    "indexadores_hgcr = ', '.join(indexadores_hgcr)\n",
    "\n",
    "# Criando o gráfico de pizza com plotly\n",
    "fig = px.pie(\n",
    "    values=tipo_cri_hgcr, \n",
    "    names=tipo_cri_hgcr.index, \n",
    "    title='Distribuição dos Indexadores dos CRIs - HGCR11'\n",
    ")\n",
    "\n",
    "fig.show()"
   ]
  },
  {
   "cell_type": "markdown",
   "metadata": {},
   "source": [
    "* No arquivo do MXRF11, na aba 'Portfolio', existem 4 tabelas diferentes:\n",
    "    * 'Carteira de CRIs';\n",
    "    * 'Carteira de FIIs';\n",
    "    * 'Carteira de Permutas Financeiras';\n",
    "    * 'Imóveis destinados à venda'.\n",
    "\n",
    "* **CONFERIR o range das linhas que contém a 'Carteira de CRIs'.**"
   ]
  },
  {
   "cell_type": "code",
   "execution_count": null,
   "metadata": {},
   "outputs": [],
   "source": [
    "# MXRF11\n",
    "df_cris_mxrf = pd.read_excel(\n",
    "    io='C://Users//vitor//projetos_python//python_b3//composicao-fundos-de-investimentos//fundo_imobiliario//cris//mxrf11_062025.xlsx',\n",
    "    sheet_name='Portfolio',\n",
    "    header=4\n",
    ")\n",
    "\n",
    "# Removendo a coluna\n",
    "df_cris_mxrf = df_cris_mxrf.drop(columns=['Unnamed: 0'])\n",
    "\n",
    "# CONFERIR o range das linhas (index) que contém a 'Carteira de CRIs'\n",
    "df_cris_mxrf = df_cris_mxrf.iloc[0:98]\n",
    "\n",
    "# Selecionando as principais colunas\n",
    "df_cris_mxrf = df_cris_mxrf[[\n",
    "    'Devedor',\n",
    "    'Index.',\n",
    "    '% do PL',\n",
    "    'Taxa Emissão',\n",
    "    'Vencimento'\n",
    "]]\n",
    "\n",
    "# Números total de ativos\n",
    "num_ativos_mxrf = len(df_cris_mxrf)\n",
    "\n",
    "# Contagem dos CRIs no MXRF11 por índice\n",
    "tipo_cri_mxrf = df_cris_mxrf.loc[:, 'Index.'].value_counts()\n",
    "\n",
    "# Tipos de indexadores\n",
    "indexadores_mxrf = tipo_cri_mxrf.index\n",
    "# Transformando a lista em uma string única\n",
    "indexadores_mxrf = ', '.join(indexadores_mxrf)\n",
    "# Retirando a string '+'\n",
    "indexadores_mxrf = indexadores_mxrf.replace('+', '').strip()\n",
    "\n",
    "# Criando o gráfico de pizza com plotly\n",
    "fig = px.pie(\n",
    "    values=tipo_cri_mxrf, \n",
    "    names=tipo_cri_mxrf.index, \n",
    "    title='Distribuição dos Indexadores dos CRIs - MXRF11'\n",
    ")\n",
    "\n",
    "fig.show()"
   ]
  },
  {
   "cell_type": "code",
   "execution_count": null,
   "metadata": {},
   "outputs": [],
   "source": [
    "# VGIR11\n",
    "df_cris_vgir = pd.read_excel(\n",
    "    io='C://Users//vitor//projetos_python//python_b3//composicao-fundos-de-investimentos//fundo_imobiliario//cris//vgir11_062025.xlsx',\n",
    "    header=4,\n",
    "    skipfooter=7\n",
    ")\n",
    "\n",
    "# Selecionando as principais colunas\n",
    "df_cris_vgir = df_cris_vgir[['Ativo', 'Indexador', '% PL', 'Cupom', 'LTV', 'Vencimento']]\n",
    "\n",
    "# Arrumando o dtypes das colunas\n",
    "df_cris_vgir['LTV'] = df_cris_vgir['LTV'].replace('na', 0).astype(float)\n",
    "\n",
    "# Análise do LTV\n",
    "ltv_vgir_media_ponderada = round(np.average(df_cris_vgir['LTV'], weights=df_cris_vgir['% PL']) * 100, 2)\n",
    "ltv_vgir_media = round(df_cris_vgir['LTV'].mean() * 100, 2)\n",
    "ltv_vgir_max = round(df_cris_vgir['LTV'].max() * 100, 2)\n",
    "ltv_vgir_min = round(df_cris_vgir['LTV'].min() * 100, 2)\n",
    "ltv_vgir_num_zero = len(df_cris_vgir.loc[df_cris_vgir['LTV'] == 0])\n",
    "\n",
    "# Números total de ativos\n",
    "num_ativos_vgir = len(df_cris_vgir)\n",
    "\n",
    "# Contagem dos CRIs no VGIR11 por índice\n",
    "tipo_cri_vgir = df_cris_vgir.loc[:, 'Indexador'].value_counts()\n",
    "\n",
    "# Tipos de indexadores\n",
    "indexadores_vgir = tipo_cri_vgir.index\n",
    "# Transformando a lista em uma string única\n",
    "indexadores_vgir = ', '.join(indexadores_vgir)\n",
    "# Retirando a string '+'\n",
    "indexadores_vgir = indexadores_vgir.replace('+', '').strip()\n",
    "\n",
    "# Criando o gráfico de pizza com plotly\n",
    "fig = px.pie(\n",
    "    values=tipo_cri_vgir, \n",
    "    names=tipo_cri_vgir.index, \n",
    "    title='Distribuição dos Indexadores dos CRIs - VGIR11'\n",
    ")\n",
    "\n",
    "fig.show()"
   ]
  },
  {
   "cell_type": "code",
   "execution_count": null,
   "metadata": {},
   "outputs": [],
   "source": [
    "# Dicionário com as informações do portfólio dos FIIs de papeis\n",
    "dict_portfolio_papel = {\n",
    "    'num_total_ativos': [\n",
    "        num_ativos_knip,\n",
    "        num_ativos_kncr, \n",
    "        num_ativos_knsc,\n",
    "        num_ativos_hgcr,\n",
    "        num_ativos_mxrf,\n",
    "        num_ativos_vgir\n",
    "    ],\n",
    "    # No arquivo excel, os fundos das Kinea mostram as outras compras de ativos como LCI, FIIs e Caixa\n",
    "    'tipos_ativos': [\n",
    "        ativos_knip,\n",
    "        ativos_kncr, \n",
    "        ativos_knsc,\n",
    "        'CRI',\n",
    "        'CRI',\n",
    "        'CRI'\n",
    "    ],\n",
    "    'num_cris': [\n",
    "        num_cris_knip, \n",
    "        num_cris_kncr, \n",
    "        num_cris_knsc,\n",
    "        num_ativos_hgcr,\n",
    "        num_ativos_mxrf,\n",
    "        num_ativos_vgir\n",
    "    ],\n",
    "    'indexador_principal':[\n",
    "        tipo_cri_knip.index[0],\n",
    "        tipo_cri_kncr.index[0],\n",
    "        tipo_cri_knsc.index[0],\n",
    "        tipo_cri_hgcr.index[0],\n",
    "        tipo_cri_mxrf.index[0],\n",
    "        tipo_cri_vgir.index[0]\n",
    "    ],\n",
    "    'tipo_indexadores':[\n",
    "        indexadores_knip,\n",
    "        indexadores_kncr,\n",
    "        indexadores_knsc,\n",
    "        indexadores_hgcr,\n",
    "        indexadores_mxrf,\n",
    "        indexadores_vgir\n",
    "    ],\n",
    "    'ltv_media_ponderada': [\n",
    "        ltv_knip_media_ponderada,\n",
    "        ltv_kncr_media_ponderada,\n",
    "        ltv_knsc_media_ponderada,\n",
    "        ltv_hgcr_media_ponderada,\n",
    "        52, # MXRF11 divulga o LTV médio no arquivo 'Relatório Gerencial'\n",
    "        ltv_vgir_media_ponderada\n",
    "    ],\n",
    "    'ltv_media': [\n",
    "        ltv_knip_media,\n",
    "        ltv_kncr_media,\n",
    "        ltv_knsc_media,\n",
    "        ltv_hgcr_media,\n",
    "        52, # MXRF11 divulga o LTV médio no arquivo 'Relatório Gerencial'\n",
    "        ltv_vgir_media\n",
    "    ],\n",
    "    'ltv_max': [\n",
    "        ltv_knip_max,\n",
    "        ltv_kncr_max,\n",
    "        ltv_knsc_max,\n",
    "        ltv_hgcr_max,\n",
    "        0, # MXRF11 não divulga o ltv no arquivo excel\n",
    "        ltv_vgir_max\n",
    "    ],\n",
    "    'ltv_min': [\n",
    "        ltv_knip_min,\n",
    "        ltv_kncr_min,\n",
    "        ltv_knsc_min,\n",
    "        ltv_hgcr_min,\n",
    "        0, # MXRF11 não divulga o ltv no arquivo excel\n",
    "        ltv_vgir_min\n",
    "    ],\n",
    "    'num_ltv_zero': [\n",
    "        ltv_knip_num_zero,\n",
    "        ltv_kncr_num_zero,\n",
    "        ltv_knsc_num_zero,\n",
    "        ltv_hgcr_num_zero,\n",
    "        0, # MXRF11 não divulga o ltv no arquivo excel\n",
    "        ltv_vgir_num_zero\n",
    "    ]\n",
    "}\n",
    "\n",
    "# Transformando em um df\n",
    "df_portfolio_papel = pd.DataFrame(dict_portfolio_papel, index=lst_ticker_fii_papel)\n",
    "\n",
    "# Retirando a string '+' da coluna 'indexador_principal'\n",
    "df_portfolio_papel['indexador_principal'] = df_portfolio_papel['indexador_principal'].str.replace('+','', regex=True).str.strip()\n",
    "df_portfolio_papel"
   ]
  },
  {
   "cell_type": "code",
   "execution_count": null,
   "metadata": {},
   "outputs": [],
   "source": [
    "# Transformando em um arquivo excel\n",
    "with pd.ExcelWriter(f'C://Users//vitor//projetos_python//python_b3//composicao-fundos-de-investimentos//fundo_imobiliario//fii//fii_papel.xlsx') as writer:\n",
    "    fii_knip.to_excel(writer, sheet_name='KNIP11')\n",
    "    fii_kncr.to_excel(writer, sheet_name='KNCR11')\n",
    "    fii_knsc.to_excel(writer, sheet_name='KNSC11')\n",
    "    fii_hgcr.to_excel(writer, sheet_name='HGCR11')\n",
    "    fii_mxrf.to_excel(writer, sheet_name='MXRF11')\n",
    "    fii_vgir.to_excel(writer, sheet_name='VGIR11')\n",
    "    df_papel_dy.to_excel(writer, sheet_name='DIVIDEND_YIELD')\n",
    "    df_papel_dy_accum.to_excel(writer, sheet_name='DIVIDEND_YIELD_ACUM')\n",
    "    df_vol_drawdown_papel.to_excel(writer, sheet_name='VOLATILIDADE_DRAWDOWN')\n",
    "    df_ret_anual_papel.to_excel(writer, sheet_name='RET_ANUAL')\n",
    "    df_ret_acumulado_papel.to_excel(writer, sheet_name='RET_ACUM')\n",
    "    df_portfolio_papel.to_excel(writer, sheet_name='PORTFOLIO_CRIS')"
   ]
  },
  {
   "cell_type": "markdown",
   "metadata": {},
   "source": [
    "#### Comparando a taxa de retorno (MTM) dos FIIs com a taxa dos títulos públicos"
   ]
  },
  {
   "cell_type": "markdown",
   "metadata": {},
   "source": [
    "* Vídeo: https://www.youtube.com/watch?v=rMaNf6ycss0\n",
    "* Última atualização feita em 16/08/2024:\n",
    "    * Os dados do MTM (Taxa de Retorno) dos fundos estão no \"Relatório Gerencial\" (divulgado mensalmente);\n",
    "    * Download do arquivo csv \"PrecoTaxaTesouroDireto\" (\"Histórico Geral\" - \"Consolidado Preços e Taxas\") -> https://www.tesourodireto.com.br/titulos/historico-de-precos-e-taxas.htm"
   ]
  },
  {
   "cell_type": "code",
   "execution_count": null,
   "metadata": {},
   "outputs": [],
   "source": [
    "# Meta Selic (432)\n",
    "meta_selic = consulta_bc(codigo_bcb='432', data_inicial='01/01/2024', data_final='01/04/2025')\n",
    "# Selecionando a última meta selic\n",
    "ultima_meta_selic = meta_selic['valor'][-1]\n",
    "\n",
    "# CDI (4392) - Taxa de juros - CDI acumulada no mês anualizada base 252\t\n",
    "cdi_anualizado = consulta_bc(codigo_bcb='4392', data_inicial='01/01/2024', data_final='01/04/2025')\n",
    "# Selecionando o último cdi anualizado\n",
    "ultimo_cdi_anualizado = cdi_anualizado['valor'][-1]\n",
    "\n",
    "# IPCA (433) - Índice nacional de preços ao consumidor-amplo (mensal)\n",
    "ipca =  consulta_bc(codigo_bcb='433', data_inicial='01/01/2024', data_final='01/04/2025')\n",
    "# Calculando o IPCA acumulado dos últimos 12 meses\n",
    "ipca['taxa_unit'] = (ipca / 100) + 1\n",
    "ipca['ipca_acumulado'] = round((ipca['taxa_unit'].rolling(window=12).agg(lambda x : x.prod()) -1) * 100, 2)\n",
    "# Selecionando o último IPCA acumulado dos últimos 12 meses\n",
    "ultimo_ipca_acumulado = ipca['ipca_acumulado'][-1]"
   ]
  },
  {
   "cell_type": "markdown",
   "metadata": {},
   "source": [
    "* **Atualizar os números do 'MTM_IPCA' e 'MTM_CDI' do dicionário 'dict_fii_papel'**"
   ]
  },
  {
   "cell_type": "code",
   "execution_count": null,
   "metadata": {},
   "outputs": [],
   "source": [
    "# Lista dos tickers - o VGIR não mostra qual é o seu MTM\n",
    "lst_ticker_fii_papel = [\n",
    "    'KNIP11.SA', \n",
    "    'KNCR11.SA', \n",
    "    'KNSC11.SA', \n",
    "    'HGCR11.SA', \n",
    "    'MXRF11.SA'\n",
    "]\n",
    "\n",
    "dict_fii_papel = {\n",
    "    'Indexador': [\n",
    "        'IPCA',   # KNIP11\n",
    "        'CDI',    # KNCR11\n",
    "        'MISTO',  # KNSC11\n",
    "        'MISTO',  # HGCR11\n",
    "        'MISTO'   # MXRF11\n",
    "    ], \n",
    "    'MTM_IPCA':[\n",
    "        10.59,    # KNIP11\n",
    "        0,        # KNCR11\n",
    "        10.65,    # KNSC11\n",
    "        10.40,    # HGCR11\n",
    "        8.63      # MXRF11\n",
    "    ],\n",
    "    'MTM_CDI': [\n",
    "        0,        # KNIP11\n",
    "        2.24,     # KNCR11\n",
    "        3.31,     # KNSC11\n",
    "        4.10,     # HGCR11 \n",
    "        2.74      # MXRF11\n",
    "    ],\n",
    "}\n",
    "\n",
    "# Transformando em um df\n",
    "df_fii_papel = pd.DataFrame(dict_fii_papel, index=lst_ticker_fii_papel)\n",
    "\n",
    "# Soma do 'MTM_IPCA' com o IPCA dos últimos 12 meses\n",
    "df_fii_papel['Taxa_IPCA'] = df_fii_papel['MTM_IPCA'] + ultimo_ipca_acumulado\n",
    "df_fii_papel.loc['KNCR11.SA', 'Taxa_IPCA'] = 0\n",
    "\n",
    "# Soma do 'MTM_CDI' com o CDI anualizado\n",
    "df_fii_papel['Taxa_CDI'] = df_fii_papel['MTM_CDI'] + ultimo_cdi_anualizado\n",
    "df_fii_papel.loc['KNIP11.SA', 'Taxa_CDI'] = 0"
   ]
  },
  {
   "cell_type": "code",
   "execution_count": null,
   "metadata": {},
   "outputs": [],
   "source": [
    "# Lendo o arquivo\n",
    "df_titulo_publico = pd.read_csv(\n",
    "    'C://Users//vitor//projetos_python//python_b3//composicao-fundos-de-investimentos//fundo_imobiliario//titulos_publicos//PrecoTaxaTesouroDireto.csv', \n",
    "    sep=';'\n",
    ")\n",
    "\n",
    "# Transformando as colunas em datetime\n",
    "df_titulo_publico['Data Vencimento'] = pd.to_datetime(df_titulo_publico['Data Vencimento'], format='%d/%m/%Y')\n",
    "df_titulo_publico['Data Base'] = pd.to_datetime(df_titulo_publico['Data Base'], format='%d/%m/%Y')\n",
    "# Trocando os ',' por '.'\n",
    "df_titulo_publico['Taxa Compra Manha'] = df_titulo_publico['Taxa Compra Manha'].str.replace(',', '.').astype(float)\n",
    "df_titulo_publico['Taxa Venda Manha'] = df_titulo_publico['Taxa Venda Manha'].str.replace(',', '.').astype(float)\n",
    "df_titulo_publico['PU Compra Manha'] = df_titulo_publico['PU Compra Manha'].str.replace(',', '.').astype(float)\n",
    "df_titulo_publico['PU Venda Manha'] = df_titulo_publico['PU Venda Manha'].str.replace(',', '.').astype(float)\n",
    "df_titulo_publico['PU Base Manha'] = df_titulo_publico['PU Base Manha'].str.replace(',', '.').astype(float)\n",
    "\n",
    "# Tesouro IPCA+ 2035\n",
    "filt = (df_titulo_publico['Tipo Titulo'] == 'Tesouro IPCA+') & (df_titulo_publico['Data Vencimento'] == '2035-05-15')\n",
    "tesouro_ipca_2035 = df_titulo_publico.loc[filt].sort_values('Data Base')\n",
    "# Selecionando a última taxa do IPCA+ 2035\n",
    "ultima_taxa_tesouro_ipca_2035 = tesouro_ipca_2035['Taxa Compra Manha'].iloc[-1]\n",
    "\n",
    "# Tesouro SELIC 2029\n",
    "filt = (df_titulo_publico['Tipo Titulo'] == 'Tesouro Selic') & (df_titulo_publico['Data Vencimento'] == '2029-03-01')\n",
    "tesouro_selic_2029 = df_titulo_publico.loc[filt].sort_values('Data Base')\n",
    "# Selecionando a última taxa do SELIC 2029\n",
    "ultima_taxa_tesouro_selic_2029 = tesouro_selic_2029['Taxa Compra Manha'].iloc[-1]\n",
    "\n",
    "# Títulos públicos \n",
    "lst_titulo_publico = ['IPCA_2035', 'SELIC_2029']\n",
    "\n",
    "dict_titulo_publico = {\n",
    "    'Ultima_Taxa': [ultima_taxa_tesouro_ipca_2035, ultima_taxa_tesouro_selic_2029],\n",
    "    'Taxa_Indexador': [ultimo_ipca_acumulado, ultima_meta_selic]\n",
    "}\n",
    "\n",
    "# Transformando em um df\n",
    "df_titulo_publico_final = pd.DataFrame(dict_titulo_publico, index=lst_titulo_publico)\n",
    "\n",
    "# Calculando a taxa dos títulos públicos\n",
    "df_titulo_publico_final['Taxa_Titulo'] = df_titulo_publico_final['Ultima_Taxa'] + df_titulo_publico_final['Taxa_Indexador']"
   ]
  },
  {
   "cell_type": "code",
   "execution_count": null,
   "metadata": {},
   "outputs": [],
   "source": [
    "print('='*60)\n",
    "print(f'A meta SELIC é de {ultima_meta_selic}')\n",
    "print(f'O IPCA de 12 meses é de {ultimo_ipca_acumulado}')\n",
    "print(f'O CDI anualizado é de {ultimo_cdi_anualizado}')\n",
    "print('='*60)\n",
    "print(df_fii_papel)\n",
    "print('='*60)\n",
    "print(df_titulo_publico_final)\n",
    "print('='*60)"
   ]
  },
  {
   "cell_type": "code",
   "execution_count": null,
   "metadata": {},
   "outputs": [],
   "source": [
    "# Calculando a diferença entre a taxa do FII e a taxa do título\n",
    "df_fii_papel['Diferenca_IPCA'] = df_fii_papel['Taxa_IPCA'] - df_titulo_publico_final.loc['IPCA_2035' ,'Taxa_Titulo']\n",
    "df_fii_papel.loc['KNCR11.SA', 'Diferenca_IPCA'] = 0\n",
    "\n",
    "df_fii_papel['Diferenca_CDI'] = df_fii_papel['Taxa_CDI'] - df_titulo_publico_final.loc['SELIC_2029' ,'Taxa_Titulo']\n",
    "df_fii_papel.loc['KNIP11.SA', 'Diferenca_CDI'] = 0\n",
    "\n",
    "# Ordenando essa diferença\n",
    "df_fii_papel_diff_ipca = df_fii_papel['Diferenca_IPCA'].sort_values()\n",
    "df_fii_papel_diff_cdi = df_fii_papel['Diferenca_CDI'].sort_values()\n",
    "\n",
    "# Plotando o heatmap\n",
    "fig, axes = plt.subplots(ncols=2, figsize=(12, 6))\n",
    "fig.suptitle('Diferença entre a taxa do FII e a taxa do título público', fontsize=16)\n",
    "\n",
    "sns.heatmap(\n",
    "    df_fii_papel_diff_ipca.values.reshape(-1, 1), \n",
    "    annot=True, # Plotando os números dentro do gráfico\n",
    "    fmt=\".2f\",  # Formatação para 2 casas decimais\n",
    "    cmap='coolwarm', \n",
    "    yticklabels=df_fii_papel_diff_ipca.index,\n",
    "    ax=axes[0]\n",
    ")\n",
    "axes[0].set_xticks([0.5])\n",
    "axes[0].set_xticklabels(['Diferenca_IPCA'], rotation=0)\n",
    "\n",
    "sns.heatmap(\n",
    "    df_fii_papel_diff_cdi.values.reshape(-1, 1), \n",
    "    annot=True, # Plotando os números dentro do gráfico\n",
    "    fmt=\".2f\",  # Formatação para 2 casas decimais\n",
    "    cmap='coolwarm', \n",
    "    yticklabels=df_fii_papel_diff_cdi.index,\n",
    "    ax=axes[1]\n",
    ")\n",
    "axes[1].set_xticks([0.5])\n",
    "axes[1].set_xticklabels(['Diferenca_CDI'], rotation=0)\n",
    "\n",
    "plt.show()"
   ]
  },
  {
   "cell_type": "markdown",
   "metadata": {},
   "source": [
    "**Interpretação**\n",
    "* Quanto maior for a diferença entre a MTM e a taxa dos títulos públicos, o FII é mais arriscado (High yield - compra CRIs que possuem maiores riscos);\n",
    "* Quanto menor for a diferença entre a MTM e a taxa dos títulos públicos, o FII é mais seguro (High grade - compra CRIs que possuem menores riscos).\n"
   ]
  }
 ],
 "metadata": {
  "kernelspec": {
   "display_name": "Python 3",
   "language": "python",
   "name": "python3"
  },
  "language_info": {
   "codemirror_mode": {
    "name": "ipython",
    "version": 3
   },
   "file_extension": ".py",
   "mimetype": "text/x-python",
   "name": "python",
   "nbconvert_exporter": "python",
   "pygments_lexer": "ipython3",
   "version": "3.10.2"
  }
 },
 "nbformat": 4,
 "nbformat_minor": 2
}
