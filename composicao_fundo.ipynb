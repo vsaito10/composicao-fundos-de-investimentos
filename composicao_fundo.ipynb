{
 "cells": [
  {
   "cell_type": "markdown",
   "metadata": {},
   "source": [
    "**Histórico dos dados dos fundos de investimentos**\n",
    "* https://dados.cvm.gov.br/dataset/fi-doc-cda\n",
    "* https://dados.cvm.gov.br/dataset/fi-doc-inf_diario\n",
    "\n",
    "* Observação: muitas vezes, os arquivos excel do site acima não se atualizam rapidamente. Para ver a posição mais atualizada entrar no site:\n",
    "* https://conteudo.cvm.gov.br/menu/regulados/fundos/consultas/fundos.html\n",
    "---\n",
    "O arquivo zipado 'cda_fi' contém vários arquivos excel. Os arquivos que eu tenho interesse são:\n",
    "\n",
    "* cda_fi_BLC_1: arquivo que contém os 'Títulos Públicos';\n",
    "* cda_fi_BLC_2: arquivo que contém as 'Cotas de Fundos';\n",
    "* cda_fi_BLC_4: arquivo que contém as 'Ações', 'BDRs', 'Opções', 'Mercado futuro', 'Debêntures', 'Obrigações por ações' (posição vendida);\n",
    "* cda_fi_BLC_7: arquivo que contém os 'Investimentos no Exterior';\n",
    "* cda_fi_BLC_8: arquivo que contém os 'Investimentos no Exterior' e 'Units';\n",
    "* cda_fi_PL: arquivo que contém o PL dos fundos de investimentos.\n",
    "\n",
    "---\n",
    "O arquivo zipado 'inf_diario_fi' contém apenas um arquivo excel."
   ]
  },
  {
   "cell_type": "code",
   "execution_count": 1,
   "metadata": {},
   "outputs": [],
   "source": [
    "from funcoes import *\n",
    "import glob\n",
    "import os\n",
    "import pandas as pd\n",
    "import yfinance as yf\n",
    "import zipfile"
   ]
  },
  {
   "cell_type": "markdown",
   "metadata": {},
   "source": [
    "## Extraindo os arquivos zipados"
   ]
  },
  {
   "cell_type": "markdown",
   "metadata": {},
   "source": [
    "### Extração dos arquivos \"cda_fi\""
   ]
  },
  {
   "cell_type": "code",
   "execution_count": null,
   "metadata": {},
   "outputs": [],
   "source": [
    "# Mês e ano escolhido\n",
    "mes = '01'\n",
    "ano = '2024'\n",
    "\n",
    "# Nome do arquivo zipado\n",
    "zip_filename = f'C://Users//vitor//projetos_python//python_b3//historico-arquivos//fundos_investimentos//fundos_cvm_zip//cda_fi_{ano}{mes}.zip'\n",
    "\n",
    "# # Visualizando a lista dos nomes dos arquivos dentro do arquivo zipado\n",
    "# with zipfile.ZipFile(zip_filename, 'r') as zip_ref:\n",
    "#     print(\"Arquivos dentro do arquivo zipado:\")\n",
    "#     print(zip_ref.namelist())\n",
    "\n",
    "# Lista dos nomes dos arquivos que você deseja extrair\n",
    "arquivos_a_extrair = [\n",
    "    f'cda_fi_BLC_1_{ano}{mes}.csv', \n",
    "    f'cda_fi_BLC_2_{ano}{mes}.csv', \n",
    "    f'cda_fi_BLC_4_{ano}{mes}.csv', \n",
    "    f'cda_fi_BLC_7_{ano}{mes}.csv', \n",
    "    f'cda_fi_BLC_8_{ano}{mes}.csv',\n",
    "    f'cda_fi_PL_{ano}{mes}.csv'\n",
    "]\n",
    "\n",
    "# Caminho do diretório do diretório do arquivo não zipado\n",
    "destino_dir = f'C://Users//vitor//projetos_python//python_b3//historico-arquivos//fundos_investimentos//fundos_cvm//{ano}{mes}'\n",
    "\n",
    "# Abrindo o arquivo zipado\n",
    "with zipfile.ZipFile(zip_filename, 'r') as zip_ref:\n",
    "    # Extraindo os arquivos selecionados para um diretório específico\n",
    "    for arquivo in arquivos_a_extrair:\n",
    "        zip_ref.extract(arquivo, destino_dir)\n",
    "\n",
    "        # Caminhos dos arquivos em formato csv e parquet\n",
    "        csv_path = f'{destino_dir}//{arquivo}'\n",
    "        parquet_path = f'{destino_dir}//{arquivo.replace(\".csv\", \".parquet\")}'\n",
    "\n",
    "        # Lendo os arquivos csv\n",
    "        df = pd.read_csv(csv_path, sep=';', encoding='ISO-8859-1', low_memory=False)\n",
    "\n",
    "        # Transformando esses arquivos em parquet\n",
    "        df.to_parquet(parquet_path)\n",
    "\n",
    "# Entrando para o diretório especificado\n",
    "os.chdir(destino_dir)\n",
    "\n",
    "# Encontrando todos os arquivos .csv no diretório\n",
    "arquivos_csv = glob.glob('*.csv')\n",
    "\n",
    "# Loop para deletar cada arquivo csv encontrado\n",
    "for arquivo in arquivos_csv:\n",
    "    os.remove(arquivo)"
   ]
  },
  {
   "cell_type": "markdown",
   "metadata": {},
   "source": [
    "### Extração dos arquivos \"inf_diario_fi\""
   ]
  },
  {
   "cell_type": "code",
   "execution_count": null,
   "metadata": {},
   "outputs": [],
   "source": [
    "# Descompactando apenas um arquivo\n",
    "\n",
    "# Mês e ano escolhido\n",
    "mes = '11'\n",
    "ano = '2023'\n",
    "\n",
    "# Nome do arquivo zipado\n",
    "zip_filename = f'C://Users//vitor//projetos_python//python_b3//historico-arquivos//fundos_investimentos//inf_diario_cvm_zip//inf_diario_fi_{ano}{mes}.zip'\n",
    "\n",
    "# Lista dos nomes dos arquivos que você deseja extrair\n",
    "arquivo_a_extrair = [f'inf_diario_fi_{ano}{mes}.csv']\n",
    "\n",
    "# Caminho do diretório do diretório do arquivo não zipado\n",
    "destino_dir = f'C://Users//vitor//projetos_python//python_b3//historico-arquivos//fundos_investimentos//inf_diario_cvm'\n",
    "\n",
    "# Abrindo o arquivo zipado\n",
    "with zipfile.ZipFile(zip_filename, 'r') as zip_ref:\n",
    "    # Extraindo os arquivos selecionados para um diretório específico\n",
    "    for arquivo in arquivo_a_extrair:\n",
    "        zip_ref.extract(arquivo, destino_dir)\n",
    "\n",
    "        # Caminhos dos arquivos em formato csv e parquet\n",
    "        csv_path = f'{destino_dir}//{arquivo}'\n",
    "        parquet_path = f'{destino_dir}//{arquivo.replace(\".csv\", \".parquet\")}'\n",
    "\n",
    "        # Lendo os arquivos csv\n",
    "        df = pd.read_csv(csv_path, sep=';', encoding='ISO-8859-1', low_memory=False)\n",
    "\n",
    "        # Transformando esses arquivos em parquet\n",
    "        df.to_parquet(parquet_path)\n",
    "\n",
    "# Entrando para o diretório especificado\n",
    "os.chdir(destino_dir)\n",
    "\n",
    "# Encontrando todos os arquivos .csv no diretório\n",
    "arquivos_csv = glob.glob('*.csv')\n",
    "\n",
    "# Loop para deletar cada arquivo csv encontrado\n",
    "for arquivo in arquivos_csv:\n",
    "    os.remove(arquivo)"
   ]
  },
  {
   "cell_type": "code",
   "execution_count": null,
   "metadata": {},
   "outputs": [],
   "source": [
    "# Descompactando vários arquivos\n",
    "for _ in ['05', '06', '07']: \n",
    "    \n",
    "    # Ano escolhido\n",
    "    ano = '2024'\n",
    "\n",
    "    # Nome do arquivo zipado\n",
    "    zip_filename = f'C://Users//vitor//projetos_python//python_b3//historico-arquivos//fundos_investimentos//inf_diario_cvm_zip//inf_diario_fi_{ano}{_}.zip'\n",
    "\n",
    "    # Lista dos nomes dos arquivos que você deseja extrair\n",
    "    arquivo_a_extrair = [f'inf_diario_fi_{ano}{_}.csv']\n",
    "\n",
    "    # Caminho do diretório do diretório do arquivo não zipado\n",
    "    destino_dir = f'C://Users//vitor//projetos_python//python_b3//historico-arquivos//fundos_investimentos//inf_diario_cvm'\n",
    "\n",
    "    # Abrindo o arquivo zipado\n",
    "    with zipfile.ZipFile(zip_filename, 'r') as zip_ref:\n",
    "        # Extraindo os arquivos selecionados para um diretório específico\n",
    "        for arquivo in arquivo_a_extrair:\n",
    "            zip_ref.extract(arquivo, destino_dir)\n",
    "\n",
    "            # Caminhos dos arquivos em formato csv e parquet\n",
    "            csv_path = f'{destino_dir}//{arquivo}'\n",
    "            parquet_path = f'{destino_dir}//{arquivo.replace(\".csv\", \".parquet\")}'\n",
    "\n",
    "            # Lendo os arquivos csv\n",
    "            df = pd.read_csv(csv_path, sep=';', encoding='ISO-8859-1', low_memory=False)\n",
    "\n",
    "            # Transformando esses arquivos em parquet\n",
    "            df.to_parquet(parquet_path)\n",
    "\n",
    "    # Entrando para o diretório especificado\n",
    "    os.chdir(destino_dir)\n",
    "\n",
    "    # Encontrando todos os arquivos .csv no diretório\n",
    "    arquivos_csv = glob.glob('*.csv')\n",
    "\n",
    "    # Loop para deletar cada arquivo csv encontrado\n",
    "    for arquivo in arquivos_csv:\n",
    "        os.remove(arquivo)"
   ]
  },
  {
   "cell_type": "markdown",
   "metadata": {},
   "source": [
    "## Portfólios dos fundos de investimentos "
   ]
  },
  {
   "cell_type": "code",
   "execution_count": 116,
   "metadata": {},
   "outputs": [],
   "source": [
    "# Mês e ano escolhido\n",
    "mes = '01'\n",
    "ano = '2024'"
   ]
  },
  {
   "cell_type": "code",
   "execution_count": 117,
   "metadata": {},
   "outputs": [
    {
     "data": {
      "text/html": [
       "<div>\n",
       "<style scoped>\n",
       "    .dataframe tbody tr th:only-of-type {\n",
       "        vertical-align: middle;\n",
       "    }\n",
       "\n",
       "    .dataframe tbody tr th {\n",
       "        vertical-align: top;\n",
       "    }\n",
       "\n",
       "    .dataframe thead th {\n",
       "        text-align: right;\n",
       "    }\n",
       "</style>\n",
       "<table border=\"1\" class=\"dataframe\">\n",
       "  <thead>\n",
       "    <tr style=\"text-align: right;\">\n",
       "      <th></th>\n",
       "      <th>TP_FUNDO</th>\n",
       "      <th>CNPJ_FUNDO</th>\n",
       "      <th>DENOM_SOCIAL</th>\n",
       "      <th>DT_COMPTC</th>\n",
       "      <th>TP_APLIC</th>\n",
       "      <th>TP_ATIVO</th>\n",
       "      <th>VL_MERC_POS_FINAL</th>\n",
       "      <th>CD_ATIVO</th>\n",
       "    </tr>\n",
       "  </thead>\n",
       "  <tbody>\n",
       "    <tr>\n",
       "      <th>131093</th>\n",
       "      <td>FI</td>\n",
       "      <td>35.765.045/0001-31</td>\n",
       "      <td>LHL FUNDO DE INVESTIMENTO EM AÇÕES BDR NÍVEL I</td>\n",
       "      <td>2024-01-31</td>\n",
       "      <td>Ações</td>\n",
       "      <td>Ação ordinária</td>\n",
       "      <td>0.0</td>\n",
       "      <td>SMAL CI</td>\n",
       "    </tr>\n",
       "    <tr>\n",
       "      <th>131334</th>\n",
       "      <td>FI</td>\n",
       "      <td>35.806.167/0001-29</td>\n",
       "      <td>POLYFACE FUNDO DE INVESTIMENTO MULTIMERCADO</td>\n",
       "      <td>2024-01-31</td>\n",
       "      <td>Ações</td>\n",
       "      <td>Ação ordinária</td>\n",
       "      <td>0.0</td>\n",
       "      <td>MMXM/MMXM3/BRMMXMACNOR2</td>\n",
       "    </tr>\n",
       "    <tr>\n",
       "      <th>57213</th>\n",
       "      <td>FI</td>\n",
       "      <td>11.052.415/0001-25</td>\n",
       "      <td>BB TOP MULTIMERCADO BALANCEADO FUNDO DE INVEST...</td>\n",
       "      <td>2024-01-31</td>\n",
       "      <td>Ações</td>\n",
       "      <td>Ação ordinária</td>\n",
       "      <td>0.0</td>\n",
       "      <td>ORIZON VALOR ON</td>\n",
       "    </tr>\n",
       "    <tr>\n",
       "      <th>57214</th>\n",
       "      <td>FI</td>\n",
       "      <td>11.052.415/0001-25</td>\n",
       "      <td>BB TOP MULTIMERCADO BALANCEADO FUNDO DE INVEST...</td>\n",
       "      <td>2024-01-31</td>\n",
       "      <td>Ações</td>\n",
       "      <td>Ação ordinária</td>\n",
       "      <td>0.0</td>\n",
       "      <td>PETRORECSA ON</td>\n",
       "    </tr>\n",
       "    <tr>\n",
       "      <th>55800</th>\n",
       "      <td>FI</td>\n",
       "      <td>10.418.362/0001-50</td>\n",
       "      <td>BB PREVIDENCIÁRIO MULTIMERCADO FUNDO DE INVEST...</td>\n",
       "      <td>2024-01-31</td>\n",
       "      <td>Ações</td>\n",
       "      <td>Ação ordinária</td>\n",
       "      <td>0.0</td>\n",
       "      <td>MATER DEI ON</td>\n",
       "    </tr>\n",
       "  </tbody>\n",
       "</table>\n",
       "</div>"
      ],
      "text/plain": [
       "       TP_FUNDO          CNPJ_FUNDO  \\\n",
       "131093       FI  35.765.045/0001-31   \n",
       "131334       FI  35.806.167/0001-29   \n",
       "57213        FI  11.052.415/0001-25   \n",
       "57214        FI  11.052.415/0001-25   \n",
       "55800        FI  10.418.362/0001-50   \n",
       "\n",
       "                                             DENOM_SOCIAL  DT_COMPTC TP_APLIC  \\\n",
       "131093     LHL FUNDO DE INVESTIMENTO EM AÇÕES BDR NÍVEL I 2024-01-31    Ações   \n",
       "131334        POLYFACE FUNDO DE INVESTIMENTO MULTIMERCADO 2024-01-31    Ações   \n",
       "57213   BB TOP MULTIMERCADO BALANCEADO FUNDO DE INVEST... 2024-01-31    Ações   \n",
       "57214   BB TOP MULTIMERCADO BALANCEADO FUNDO DE INVEST... 2024-01-31    Ações   \n",
       "55800   BB PREVIDENCIÁRIO MULTIMERCADO FUNDO DE INVEST... 2024-01-31    Ações   \n",
       "\n",
       "              TP_ATIVO  VL_MERC_POS_FINAL                 CD_ATIVO  \n",
       "131093  Ação ordinária                0.0                  SMAL CI  \n",
       "131334  Ação ordinária                0.0  MMXM/MMXM3/BRMMXMACNOR2  \n",
       "57213   Ação ordinária                0.0          ORIZON VALOR ON  \n",
       "57214   Ação ordinária                0.0            PETRORECSA ON  \n",
       "55800   Ação ordinária                0.0             MATER DEI ON  "
      ]
     },
     "execution_count": 117,
     "metadata": {},
     "output_type": "execute_result"
    }
   ],
   "source": [
    "# Formatando os arquivos parquet 'cda_fi'\n",
    "df_cda_1 = open_cda_1(\n",
    "    path=f'C://Users//vitor//projetos_python//python_b3//historico-arquivos//fundos_investimentos//fundos_cvm//{ano}{mes}//cda_fi_BLC_1_{ano}{mes}.parquet'\n",
    ")\n",
    "df_cda_2 = open_cda_2(\n",
    "    path=f'C://Users//vitor//projetos_python//python_b3//historico-arquivos//fundos_investimentos//fundos_cvm//{ano}{mes}//cda_fi_BLC_2_{ano}{mes}.parquet'\n",
    ")\n",
    "df_cda_4 = open_cda_4(\n",
    "    path=f'C://Users//vitor//projetos_python//python_b3//historico-arquivos//fundos_investimentos//fundos_cvm//{ano}{mes}//cda_fi_BLC_4_{ano}{mes}.parquet'\n",
    ")\n",
    "df_cda_7 = open_cda_7(\n",
    "    path=f'C://Users//vitor//projetos_python//python_b3//historico-arquivos//fundos_investimentos//fundos_cvm//{ano}{mes}//cda_fi_BLC_7_{ano}{mes}.parquet'\n",
    ")\n",
    "df_cda_8 = open_cda_8(\n",
    "    path=f'C://Users//vitor//projetos_python//python_b3//historico-arquivos//fundos_investimentos//fundos_cvm//{ano}{mes}//cda_fi_BLC_8_{ano}{mes}.parquet'\n",
    ")\n",
    "\n",
    "# Concatenando os dfs\n",
    "df_ativos = pd.concat([df_cda_1, df_cda_2, df_cda_4, df_cda_7, df_cda_8])\n",
    "df_ativos.tail()"
   ]
  },
  {
   "cell_type": "code",
   "execution_count": null,
   "metadata": {},
   "outputs": [],
   "source": [
    "# Quais são os tipos de ativos o fundo de investimento possui\n",
    "lista_ativos = df_ativos['TP_APLIC'].drop_duplicates().to_list()\n",
    "lista_ativos"
   ]
  },
  {
   "cell_type": "code",
   "execution_count": 4,
   "metadata": {},
   "outputs": [
    {
     "data": {
      "text/html": [
       "<div>\n",
       "<style scoped>\n",
       "    .dataframe tbody tr th:only-of-type {\n",
       "        vertical-align: middle;\n",
       "    }\n",
       "\n",
       "    .dataframe tbody tr th {\n",
       "        vertical-align: top;\n",
       "    }\n",
       "\n",
       "    .dataframe thead th {\n",
       "        text-align: right;\n",
       "    }\n",
       "</style>\n",
       "<table border=\"1\" class=\"dataframe\">\n",
       "  <thead>\n",
       "    <tr style=\"text-align: right;\">\n",
       "      <th></th>\n",
       "      <th>TP_FUNDO</th>\n",
       "      <th>CNPJ_FUNDO</th>\n",
       "      <th>VL_TOTAL</th>\n",
       "      <th>VL_QUOTA</th>\n",
       "      <th>VL_PATRIM_LIQ</th>\n",
       "    </tr>\n",
       "    <tr>\n",
       "      <th>DT_COMPTC</th>\n",
       "      <th></th>\n",
       "      <th></th>\n",
       "      <th></th>\n",
       "      <th></th>\n",
       "      <th></th>\n",
       "    </tr>\n",
       "  </thead>\n",
       "  <tbody>\n",
       "    <tr>\n",
       "      <th>2024-07-25</th>\n",
       "      <td>FI</td>\n",
       "      <td>97.929.213/0001-34</td>\n",
       "      <td>85830176.90</td>\n",
       "      <td>11.991669</td>\n",
       "      <td>85834264.75</td>\n",
       "    </tr>\n",
       "    <tr>\n",
       "      <th>2024-07-26</th>\n",
       "      <td>FI</td>\n",
       "      <td>97.929.213/0001-34</td>\n",
       "      <td>86024213.90</td>\n",
       "      <td>12.018688</td>\n",
       "      <td>86027661.95</td>\n",
       "    </tr>\n",
       "    <tr>\n",
       "      <th>2024-07-29</th>\n",
       "      <td>FI</td>\n",
       "      <td>97.929.213/0001-34</td>\n",
       "      <td>86057021.22</td>\n",
       "      <td>12.023181</td>\n",
       "      <td>86059828.50</td>\n",
       "    </tr>\n",
       "    <tr>\n",
       "      <th>2024-07-30</th>\n",
       "      <td>FI</td>\n",
       "      <td>97.929.213/0001-34</td>\n",
       "      <td>86047233.80</td>\n",
       "      <td>12.021725</td>\n",
       "      <td>86049400.16</td>\n",
       "    </tr>\n",
       "    <tr>\n",
       "      <th>2024-07-31</th>\n",
       "      <td>FI</td>\n",
       "      <td>97.929.213/0001-34</td>\n",
       "      <td>86301722.70</td>\n",
       "      <td>12.057189</td>\n",
       "      <td>86303248.19</td>\n",
       "    </tr>\n",
       "  </tbody>\n",
       "</table>\n",
       "</div>"
      ],
      "text/plain": [
       "           TP_FUNDO          CNPJ_FUNDO     VL_TOTAL   VL_QUOTA  VL_PATRIM_LIQ\n",
       "DT_COMPTC                                                                     \n",
       "2024-07-25       FI  97.929.213/0001-34  85830176.90  11.991669    85834264.75\n",
       "2024-07-26       FI  97.929.213/0001-34  86024213.90  12.018688    86027661.95\n",
       "2024-07-29       FI  97.929.213/0001-34  86057021.22  12.023181    86059828.50\n",
       "2024-07-30       FI  97.929.213/0001-34  86047233.80  12.021725    86049400.16\n",
       "2024-07-31       FI  97.929.213/0001-34  86301722.70  12.057189    86303248.19"
      ]
     },
     "execution_count": 4,
     "metadata": {},
     "output_type": "execute_result"
    }
   ],
   "source": [
    "# Formatando os arquivos parquet 'inf_diario_fi'\n",
    "\n",
    "# Caminho da pasta dos arquivos 'inf_diario_fi'\n",
    "path_inf_diario = 'C:\\\\Users\\\\vitor\\\\projetos_python\\\\python_b3\\\\historico-arquivos\\\\fundos_investimentos\\\\inf_diario_cvm\\\\'\n",
    "\n",
    "# Caminho completo de todos os arquivos que estão na pasta\n",
    "paths_arquivos = glob.glob(path_inf_diario + '*.parquet')\n",
    "\n",
    "# Lendo os arquivos parquet e juntando em apenas um df\n",
    "lst_df = [pd.read_parquet(path) for path in paths_arquivos]\n",
    "\n",
    "# Concatenando os dfs\n",
    "df_inf_diario = pd.concat(lst_df, ignore_index=True)\n",
    "\n",
    "# Selecionando apenas os 'Fundos de Investimentos'\n",
    "filt_fi = df_inf_diario['TP_FUNDO'] == 'FI'\n",
    "df_inf_diario = df_inf_diario.loc[filt_fi]\n",
    "\n",
    "# Selecionando as principais colunas\n",
    "df_inf_diario = df_inf_diario[['TP_FUNDO', 'CNPJ_FUNDO', 'DT_COMPTC' , 'VL_TOTAL', 'VL_QUOTA', 'VL_PATRIM_LIQ']]\n",
    "\n",
    "# Transformando os dtypes das colunas.\n",
    "df_inf_diario['TP_FUNDO'] = df_inf_diario['TP_FUNDO'].astype(str)\n",
    "df_inf_diario['CNPJ_FUNDO'] = df_inf_diario['CNPJ_FUNDO'].astype(str)\n",
    "df_inf_diario['DT_COMPTC'] = pd.to_datetime(df_inf_diario['DT_COMPTC'], format='%Y-%m-%d')\n",
    "\n",
    "# Transformando a coluna 'DT_COMPTC' em index\n",
    "df_inf_diario = df_inf_diario.set_index('DT_COMPTC')\n",
    "df_inf_diario.tail()"
   ]
  },
  {
   "cell_type": "markdown",
   "metadata": {},
   "source": [
    "**Principal Benchmark - IBOVESPA** "
   ]
  },
  {
   "cell_type": "code",
   "execution_count": 5,
   "metadata": {},
   "outputs": [
    {
     "name": "stdout",
     "output_type": "stream",
     "text": [
      "[*********************100%***********************]  1 of 1 completed\n",
      "         ret_ibov\n",
      "data             \n",
      "2023-01      3.46\n",
      "2023-02     -7.49\n",
      "2023-03     -2.91\n",
      "2023-04      2.50\n",
      "2023-05      3.74\n",
      "2023-06      9.00\n",
      "2023-07      3.26\n",
      "2023-08     -5.09\n",
      "2023-09      0.71\n",
      "2023-10     -2.93\n",
      "2023-11     12.53\n",
      "2023-12      5.38\n",
      "2024-01     -4.79\n",
      "2024-02      0.99\n",
      "2024-03     -0.71\n",
      "2024-04     -1.70\n",
      "2024-05     -3.04\n",
      "2024-06      1.48\n",
      "2024-07      3.02\n",
      "2024-08      6.54\n",
      "2024-09     -2.57\n",
      "      ret_ibov\n",
      "data          \n",
      "2023     22.28\n",
      "2024     -1.25\n"
     ]
    }
   ],
   "source": [
    "# IBOVESPA\n",
    "ibov = yf.download('^BVSP', start='2023-01-01')[['Open', 'Adj Close']]\n",
    "\n",
    "# Calculando a rentabilidade mensal do benchmark \n",
    "rentabilidade_mensal = {}\n",
    "for date, group in ibov.groupby(ibov.index.to_period('M')):\n",
    "    open_price_first_day = group['Open'].iloc[0]\n",
    "    adj_close_last_day = group['Adj Close'].iloc[-1]\n",
    "    rentabilidade = ((adj_close_last_day / open_price_first_day) - 1) * 100\n",
    "    rentabilidade_mensal[date.to_timestamp()] = round(rentabilidade, 2)\n",
    "\n",
    "# Transformando o dicionário em um df\n",
    "df_ret_ibov_mensal = pd.DataFrame(list(rentabilidade_mensal.items()), columns=['data', 'ret_ibov'])\n",
    "# Transformando a coluna 'data' em index\n",
    "df_ret_ibov_mensal = df_ret_ibov_mensal.set_index('data')\n",
    "# Transformando o formato do index ('ano-mes') p/ conseguir concatenar com as rentabilidades dos fundos\n",
    "df_ret_ibov_mensal.index = df_ret_ibov_mensal.index.to_period('M')\n",
    "\n",
    "\n",
    "# Calculando a rentabilidade anual do benchmark \n",
    "rentabilidade_anual = {}\n",
    "for date, group in ibov.groupby(ibov.index.to_period('Y')):\n",
    "    open_price_first_day = group['Open'].iloc[0]\n",
    "    adj_close_last_day = group['Adj Close'].iloc[-1]\n",
    "    rentabilidade = ((adj_close_last_day / open_price_first_day) - 1) * 100\n",
    "    rentabilidade_anual[date.to_timestamp()] = round(rentabilidade, 2)\n",
    "\n",
    "# Transformando o dicionário em um df\n",
    "df_ret_ibov_anual = pd.DataFrame(list(rentabilidade_anual.items()), columns=['data', 'ret_ibov'])\n",
    "# Transformando a coluna 'data' em index\n",
    "df_ret_ibov_anual = df_ret_ibov_anual.set_index('data')\n",
    "# Transformando o formato do index ('ano-mes') p/ conseguir concatenar com as rentabilidades dos fundos\n",
    "df_ret_ibov_anual.index = df_ret_ibov_anual.index.to_period('Y')\n",
    "\n",
    "print(df_ret_ibov_mensal)\n",
    "print(df_ret_ibov_anual)"
   ]
  },
  {
   "cell_type": "markdown",
   "metadata": {},
   "source": [
    "## Fundos de Investimentos - Casas Famosas"
   ]
  },
  {
   "cell_type": "markdown",
   "metadata": {},
   "source": [
    "### Fundo Verde"
   ]
  },
  {
   "cell_type": "markdown",
   "metadata": {},
   "source": [
    "* https://maisretorno.com/fundo/verde-am-acoes-master-fia-1"
   ]
  },
  {
   "cell_type": "code",
   "execution_count": null,
   "metadata": {},
   "outputs": [],
   "source": [
    "# Rentabilidade mensal \n",
    "df_ret_mensal_verde = rentabilidade_fundo(df=df_inf_diario, cnpj='16.929.553/0001-63', nome_fundo='verde')[0]\n",
    "\n",
    "# Comparação de rentabilidade entre fundo e benchmark\n",
    "df_ret_mensal_verde_ibov = rentabilidade_fundo_benchmark(\n",
    "    df_fundo=df_ret_mensal_verde,\n",
    "    df_benchmark=df_ret_ibov_mensal,\n",
    "    nome_fundo='verde',\n",
    "    nome_benchmark='ibov'\n",
    ")\n",
    "\n",
    "df_ret_mensal_verde_ibov"
   ]
  },
  {
   "cell_type": "code",
   "execution_count": null,
   "metadata": {},
   "outputs": [],
   "source": [
    "# Rentabilidade anual\n",
    "df_ret_anual_verde = rentabilidade_fundo(df=df_inf_diario, cnpj='16.929.553/0001-63', nome_fundo='verde')[1]\n",
    "\n",
    "# Comparação de rentabilidade entre fundo e benchmark\n",
    "df_ret_anual_verde_ibov = rentabilidade_fundo_benchmark(\n",
    "    df_fundo=df_ret_anual_verde,\n",
    "    df_benchmark=df_ret_ibov_anual,\n",
    "    nome_fundo='verde',\n",
    "    nome_benchmark='ibov'\n",
    ")\n",
    "\n",
    "df_ret_anual_verde_ibov"
   ]
  },
  {
   "cell_type": "code",
   "execution_count": 126,
   "metadata": {},
   "outputs": [],
   "source": [
    "verde_acoes, verde_bdr, verde_exterior, verde_cotas_fundos, verde_titulos_pub, verde_vendido_acoes = fundo_cnpj(df=df_ativos, cnpj='16.929.553/0001-63')\n",
    "verde_pl = pl_fundo(\n",
    "    path=f'C://Users//vitor//projetos_python//python_b3//historico-arquivos//fundos_investimentos//fundos_cvm//{ano}{mes}//cda_fi_PL_{ano}{mes}.parquet', \n",
    "    cnpj='16.929.553/0001-63'\n",
    ")\n",
    "\n",
    "# Quantos porcertos cada categoria representa do PL final\n",
    "pct_acoes = round(pd.Series(verde_acoes['VL_MERC_POS_FINAL'].sum() / verde_pl.values), 4) \n",
    "pct_bdr = round(pd.Series(verde_bdr['VL_MERC_POS_FINAL'].sum() / verde_pl.values), 4) \n",
    "pct_exterior = round(pd.Series(verde_exterior['VL_MERC_POS_FINAL'].sum() / verde_pl.values), 4) \n",
    "pct_cotas_fundos = round(pd.Series(verde_cotas_fundos['VL_MERC_POS_FINAL'].sum() / verde_pl.values), 4) \n",
    "pct_titulos_pub = round(pd.Series(verde_titulos_pub['VL_MERC_POS_FINAL'].sum() / verde_pl.values), 4) \n",
    "pct_vendido_acoes = round(pd.Series(verde_vendido_acoes['VL_MERC_POS_FINAL'].sum() / verde_pl.values), 4) \n",
    "\n",
    "# Criando a data do portfólio\n",
    "data = pd.to_datetime(f'{mes}-{ano}')\n",
    "\n",
    "# Adicionando a informação da porcentagem de cada categoria nos dfs\n",
    "# Ações\n",
    "linha_pct_acoes = {'DENOM_SOCIAL': 'PL% FUNDO', 'VL_MERC_POS_FINAL' : pct_acoes}\n",
    "df_linha_pct_acoes = pd.DataFrame(linha_pct_acoes)\n",
    "verde_acoes = pd.concat([verde_acoes, df_linha_pct_acoes])\n",
    "# Criando a coluna 'data' no df\n",
    "verde_acoes['data'] = data\n",
    "# Definindo a coluna 'data' como o index\n",
    "verde_acoes = verde_acoes.set_index('data')\n",
    "\n",
    "# BDRs\n",
    "linha_pct_bdr = {'DENOM_SOCIAL': 'PL% FUNDO', 'VL_MERC_POS_FINAL' : pct_bdr}\n",
    "df_linha_pct_bdr = pd.DataFrame(linha_pct_bdr)\n",
    "verde_bdr = pd.concat([verde_bdr, df_linha_pct_bdr])\n",
    "# Criando a coluna 'data' no df\n",
    "verde_bdr['data'] = data\n",
    "# Definindo a coluna 'data' como o index\n",
    "verde_bdr = verde_bdr.set_index('data')\n",
    "\n",
    "# Investimentos no Exterior\n",
    "linha_pct_exterior = {'DENOM_SOCIAL': 'PL% FUNDO', 'VL_MERC_POS_FINAL' : pct_exterior}\n",
    "df_linha_pct_exterior = pd.DataFrame(linha_pct_exterior)\n",
    "verde_exterior = pd.concat([verde_exterior, df_linha_pct_exterior])\n",
    "# Criando a coluna 'data' no df\n",
    "verde_exterior['data'] = data\n",
    "# Definindo a coluna 'data' como o index\n",
    "verde_exterior = verde_exterior.set_index('data')\n",
    "\n",
    "# Cotas de Fundos\n",
    "linha_pct_cotas_fundos = {'DENOM_SOCIAL': 'PL% FUNDO', 'VL_MERC_POS_FINAL' : pct_cotas_fundos}\n",
    "df_linha_pct_cotas_fundos = pd.DataFrame(linha_pct_cotas_fundos)\n",
    "verde_cotas_fundos = pd.concat([verde_cotas_fundos, df_linha_pct_cotas_fundos])\n",
    "# Criando a coluna 'data' no df\n",
    "verde_cotas_fundos['data'] = data\n",
    "# Definindo a coluna 'data' como o index\n",
    "verde_cotas_fundos = verde_cotas_fundos.set_index('data')\n",
    "\n",
    "# Títulos Públicos\n",
    "linha_pct_titulos_pub = {'DENOM_SOCIAL': 'PL% FUNDO', 'VL_MERC_POS_FINAL' : pct_titulos_pub}\n",
    "df_linha_pct_titulos_pub = pd.DataFrame(linha_pct_titulos_pub)\n",
    "verde_titulos_pub = pd.concat([verde_titulos_pub, df_linha_pct_titulos_pub])\n",
    "# Criando a coluna 'data' no df\n",
    "verde_titulos_pub['data'] = data\n",
    "# Definindo a coluna 'data' como o index\n",
    "verde_titulos_pub = verde_titulos_pub.set_index('data')\n",
    "\n",
    "# Vendido Ações\n",
    "linha_pct_vendido_acoes = {'DENOM_SOCIAL': 'PL% FUNDO', 'VL_MERC_POS_FINAL' : pct_vendido_acoes}\n",
    "df_linha_pct_vendido_acoes = pd.DataFrame(linha_pct_vendido_acoes)\n",
    "verde_vendido_acoes = pd.concat([verde_vendido_acoes, df_linha_pct_vendido_acoes ])\n",
    "# Criando a coluna 'data' no df\n",
    "verde_vendido_acoes['data'] = data\n",
    "# Definindo a coluna 'data' como o index\n",
    "verde_veverde_vendido_acoes =verde_vendido_acoes.set_index('data')"
   ]
  },
  {
   "cell_type": "code",
   "execution_count": null,
   "metadata": {},
   "outputs": [],
   "source": [
    "# Criando o arquivo excel em que cada categoria está em uma aba diferente\n",
    "with pd.ExcelWriter(f'C://Users//vitor//projetos_python//python_b3//composicao-fundos-de-investimentos//fundo_investimento//verde//fundo_verde_{ano}{mes}.xlsx') as writer:\n",
    "    verde_acoes.to_excel(writer, sheet_name='acoes')\n",
    "    verde_bdr.to_excel(writer, sheet_name='bdr')\n",
    "    verde_exterior.to_excel(writer, sheet_name='exterior')\n",
    "    verde_cotas_fundos.to_excel(writer, sheet_name='cota_fundos')\n",
    "    verde_titulos_pub.to_excel(writer, sheet_name='titulos_publicos')\n",
    "    verde_vendido_acoes.to_excel(writer, sheet_name='vendido_acoes')"
   ]
  },
  {
   "cell_type": "code",
   "execution_count": 128,
   "metadata": {},
   "outputs": [
    {
     "data": {
      "text/html": [
       "<div>\n",
       "<style scoped>\n",
       "    .dataframe tbody tr th:only-of-type {\n",
       "        vertical-align: middle;\n",
       "    }\n",
       "\n",
       "    .dataframe tbody tr th {\n",
       "        vertical-align: top;\n",
       "    }\n",
       "\n",
       "    .dataframe thead th {\n",
       "        text-align: right;\n",
       "    }\n",
       "</style>\n",
       "<table border=\"1\" class=\"dataframe\">\n",
       "  <thead>\n",
       "    <tr style=\"text-align: right;\">\n",
       "      <th></th>\n",
       "      <th>DENOM_SOCIAL</th>\n",
       "      <th>CD_ATIVO</th>\n",
       "      <th>PORCENTAGEM</th>\n",
       "      <th>VL_MERC_POS_FINAL</th>\n",
       "    </tr>\n",
       "    <tr>\n",
       "      <th>data</th>\n",
       "      <th></th>\n",
       "      <th></th>\n",
       "      <th></th>\n",
       "      <th></th>\n",
       "    </tr>\n",
       "  </thead>\n",
       "  <tbody>\n",
       "    <tr>\n",
       "      <th>2023-01-01</th>\n",
       "      <td>VERDE AM LONG BIAS MASTER FUNDO DE INVESTIMENT...</td>\n",
       "      <td>SUZB3</td>\n",
       "      <td>0.129612</td>\n",
       "      <td>45251996.00</td>\n",
       "    </tr>\n",
       "    <tr>\n",
       "      <th>2023-01-01</th>\n",
       "      <td>VERDE AM LONG BIAS MASTER FUNDO DE INVESTIMENT...</td>\n",
       "      <td>RENT3</td>\n",
       "      <td>0.095605</td>\n",
       "      <td>33378749.35</td>\n",
       "    </tr>\n",
       "    <tr>\n",
       "      <th>2023-01-01</th>\n",
       "      <td>VERDE AM LONG BIAS MASTER FUNDO DE INVESTIMENT...</td>\n",
       "      <td>EQTL3</td>\n",
       "      <td>0.085939</td>\n",
       "      <td>30004152.24</td>\n",
       "    </tr>\n",
       "    <tr>\n",
       "      <th>2023-01-01</th>\n",
       "      <td>VERDE AM LONG BIAS MASTER FUNDO DE INVESTIMENT...</td>\n",
       "      <td>VBBR3</td>\n",
       "      <td>0.076611</td>\n",
       "      <td>26747500.00</td>\n",
       "    </tr>\n",
       "    <tr>\n",
       "      <th>2023-01-01</th>\n",
       "      <td>VERDE AM LONG BIAS MASTER FUNDO DE INVESTIMENT...</td>\n",
       "      <td>RAIL3</td>\n",
       "      <td>0.069380</td>\n",
       "      <td>24223002.00</td>\n",
       "    </tr>\n",
       "    <tr>\n",
       "      <th>...</th>\n",
       "      <td>...</td>\n",
       "      <td>...</td>\n",
       "      <td>...</td>\n",
       "      <td>...</td>\n",
       "    </tr>\n",
       "    <tr>\n",
       "      <th>2024-01-01</th>\n",
       "      <td>VERDE AM AÇÕES MASTER FUNDO DE INVESTIMENTO EM...</td>\n",
       "      <td>HYPE3</td>\n",
       "      <td>0.000019</td>\n",
       "      <td>4759.50</td>\n",
       "    </tr>\n",
       "    <tr>\n",
       "      <th>2024-01-01</th>\n",
       "      <td>VERDE AM AÇÕES MASTER FUNDO DE INVESTIMENTO EM...</td>\n",
       "      <td>ARZZ3</td>\n",
       "      <td>0.000018</td>\n",
       "      <td>4569.07</td>\n",
       "    </tr>\n",
       "    <tr>\n",
       "      <th>2024-01-01</th>\n",
       "      <td>VERDE AM AÇÕES MASTER FUNDO DE INVESTIMENTO EM...</td>\n",
       "      <td>TRPL4</td>\n",
       "      <td>0.000015</td>\n",
       "      <td>3687.84</td>\n",
       "    </tr>\n",
       "    <tr>\n",
       "      <th>2024-01-01</th>\n",
       "      <td>VERDE AM AÇÕES MASTER FUNDO DE INVESTIMENTO EM...</td>\n",
       "      <td>NTCO3</td>\n",
       "      <td>0.000010</td>\n",
       "      <td>2464.00</td>\n",
       "    </tr>\n",
       "    <tr>\n",
       "      <th>2024-01-01</th>\n",
       "      <td>VERDE AM AÇÕES MASTER FUNDO DE INVESTIMENTO EM...</td>\n",
       "      <td>CSMG3</td>\n",
       "      <td>0.000009</td>\n",
       "      <td>2393.44</td>\n",
       "    </tr>\n",
       "  </tbody>\n",
       "</table>\n",
       "<p>745 rows × 4 columns</p>\n",
       "</div>"
      ],
      "text/plain": [
       "                                                 DENOM_SOCIAL CD_ATIVO  \\\n",
       "data                                                                     \n",
       "2023-01-01  VERDE AM LONG BIAS MASTER FUNDO DE INVESTIMENT...    SUZB3   \n",
       "2023-01-01  VERDE AM LONG BIAS MASTER FUNDO DE INVESTIMENT...    RENT3   \n",
       "2023-01-01  VERDE AM LONG BIAS MASTER FUNDO DE INVESTIMENT...    EQTL3   \n",
       "2023-01-01  VERDE AM LONG BIAS MASTER FUNDO DE INVESTIMENT...    VBBR3   \n",
       "2023-01-01  VERDE AM LONG BIAS MASTER FUNDO DE INVESTIMENT...    RAIL3   \n",
       "...                                                       ...      ...   \n",
       "2024-01-01  VERDE AM AÇÕES MASTER FUNDO DE INVESTIMENTO EM...    HYPE3   \n",
       "2024-01-01  VERDE AM AÇÕES MASTER FUNDO DE INVESTIMENTO EM...    ARZZ3   \n",
       "2024-01-01  VERDE AM AÇÕES MASTER FUNDO DE INVESTIMENTO EM...    TRPL4   \n",
       "2024-01-01  VERDE AM AÇÕES MASTER FUNDO DE INVESTIMENTO EM...    NTCO3   \n",
       "2024-01-01  VERDE AM AÇÕES MASTER FUNDO DE INVESTIMENTO EM...    CSMG3   \n",
       "\n",
       "            PORCENTAGEM  VL_MERC_POS_FINAL  \n",
       "data                                        \n",
       "2023-01-01     0.129612        45251996.00  \n",
       "2023-01-01     0.095605        33378749.35  \n",
       "2023-01-01     0.085939        30004152.24  \n",
       "2023-01-01     0.076611        26747500.00  \n",
       "2023-01-01     0.069380        24223002.00  \n",
       "...                 ...                ...  \n",
       "2024-01-01     0.000019            4759.50  \n",
       "2024-01-01     0.000018            4569.07  \n",
       "2024-01-01     0.000015            3687.84  \n",
       "2024-01-01     0.000010            2464.00  \n",
       "2024-01-01     0.000009            2393.44  \n",
       "\n",
       "[745 rows x 4 columns]"
      ]
     },
     "execution_count": 128,
     "metadata": {},
     "output_type": "execute_result"
    }
   ],
   "source": [
    "# Caminho da pasta do fundo Verde\n",
    "path_verde = 'C:\\\\Users\\\\vitor\\\\projetos_python\\\\python_b3\\\\composicao-fundos-de-investimentos\\\\fundo_investimento\\\\verde\\\\'\n",
    "\n",
    "# Caminho completo de todos os arquivos que estão na pasta\n",
    "paths_arquivos_verde = glob.glob(path_verde + '*.xlsx')\n",
    "\n",
    "# Lendo cada arquivo excel\n",
    "lst_dfs = []\n",
    "for path in paths_arquivos_verde:\n",
    "    df = pd.read_excel(path, sheet_name='acoes')\n",
    "    lst_dfs.append(df)\n",
    "\n",
    "# Concatendo os dfs de ações\n",
    "portfolio_verde = pd.concat(lst_dfs, ignore_index=True)\n",
    "\n",
    "# Retirando as ações que não tem nenhum dinheiro alocado e os NAN\n",
    "portfolio_verde = portfolio_verde[portfolio_verde['VL_MERC_POS_FINAL'] != 0]\n",
    "portfolio_verde = portfolio_verde.dropna()\n",
    "\n",
    "# Definindo a coluna 'data' como o index\n",
    "portfolio_verde = portfolio_verde.set_index('data')\n",
    "portfolio_verde"
   ]
  },
  {
   "cell_type": "code",
   "execution_count": 129,
   "metadata": {},
   "outputs": [
    {
     "name": "stdout",
     "output_type": "stream",
     "text": [
      "Comparando o portfólio de 01/2023 e 02/2023:\n",
      "O Verde vendeu as ações: {'PETR4', 'ALSO3', 'LJQQ3', 'BEEF3', 'RECV3', 'MODL3', 'CASH3', 'CMIG3', 'YDUQ3', 'SOMA3', 'TIMS3', 'MULT3'}\n",
      "O Verde comprou as ações: {'CPLE6', 'PSSA3', 'EMBR3', 'JBSS3', 'EZTC3', 'MRFG3', 'EGIE3', 'CRFB3', 'BOAS3', 'VALE3', 'LWSA3'}\n",
      "--------------------------------------------------------------------------------\n",
      "Comparando o portfólio de 02/2023 e 03/2023:\n",
      "O Verde vendeu as ações: {'RDOR3', 'BBAS3', 'CSAN3', 'EMBR3', 'GGBR4', 'EZTC3', 'MTRE3', 'GMAT3', 'MRFG3', 'LREN3', 'RAIZ4', 'GOAU4', 'SQIA3', 'INTB3', 'CIEL3'}\n",
      "O Verde comprou as ações: {'SMTO3', 'STBP3', 'BEEF3', 'ELET6', 'BRFS3', 'DIRR3'}\n",
      "--------------------------------------------------------------------------------\n",
      "Comparando o portfólio de 03/2023 e 04/2023:\n",
      "O Verde vendeu as ações: {'CBAV3', 'ENJU3', 'PSSA3', 'PETZ3', 'CRFB3', 'BRKM5', 'ELET3', 'BRAP4', 'BRPR3', 'USIM5', 'DIRR3', 'LWSA3', 'RRRP3'}\n",
      "O Verde comprou as ações: {'PETR4', 'ALSO3', 'BBAS3', 'TEND3', 'MRVE3', 'CYRE3', 'RECV3', 'GGBR4', 'EZTC3', 'LREN3', 'PETR3', 'SOMA3'}\n",
      "--------------------------------------------------------------------------------\n",
      "Comparando o portfólio de 04/2023 e 05/2023:\n",
      "O Verde vendeu as ações: {'VIIA3', 'ALSO3', 'BRIT3', 'BBAS3', 'JBSS3', 'BEEF3', 'VIVA3', 'EZTC3', 'PETR3', 'SOMA3', 'MGLU3', 'GUAR3', 'LOGN3'}\n",
      "O Verde comprou as ações: {'WEGE3', 'CVCB3', 'ITSA4', 'LJQQ3', 'PCAR3', 'CPFE3', 'HYPE3', 'BRAP4', 'ARZZ3', 'SQIA3', 'USIM5', 'RRRP3'}\n",
      "--------------------------------------------------------------------------------\n",
      "Comparando o portfólio de 05/2023 e 06/2023:\n",
      "O Verde vendeu as ações: {'UGPA3', 'ELET6', 'BRFS3', 'CVCB3'}\n",
      "O Verde comprou as ações: {'YDUQ3', 'CSAN3', 'MRFG3'}\n",
      "--------------------------------------------------------------------------------\n",
      "Comparando o portfólio de 06/2023 e 07/2023:\n",
      "O Verde vendeu as ações: {'LJQQ3', 'PCAR3', 'BBSE3', 'MRFG3', 'YDUQ3', 'HYPE3', 'CMIG4', 'SMFT3', 'ASAI3', 'BOAS3', 'ARZZ3', 'USIM5'}\n",
      "O Verde comprou as ações: {'VIIA3', 'ZAMP3', 'CRFB3', 'BRFS3', 'SLCE3', 'DIRR3', 'CIEL3', 'VIVT3', 'TRAD3', 'INTB3', 'MULT3', 'AGRO3', 'MDIA3', 'ALSO3', 'CCRO3', 'EZTC3', 'ELET3', 'MGLU3', 'UGPA3', 'BBAS3', 'JBSS3', 'PETR3', 'TIMS3'}\n",
      "--------------------------------------------------------------------------------\n",
      "Comparando o portfólio de 07/2023 e 08/2023:\n",
      "O Verde vendeu as ações: {'VIIA3', 'SMTO3', 'ENEV3', 'CYRE3', 'ZAMP3', 'CRFB3', 'DIRR3', 'RRRP3', 'B3SA3', 'AALR3', 'VIVT3', 'TRAD3', 'MULT3', 'AGRO3', 'ABEV3', 'MDIA3', 'RADL3', 'EZTC3', 'MGLU3', 'WEGE3', 'TEND3', 'MRVE3', 'JBSS3', 'LREN3', 'TIMS3'}\n",
      "O Verde comprou as ações: {'NEOE3', 'RDOR3', 'HBSA3', 'CPLE3', 'ALPA4', 'DASA3', 'ARZZ3'}\n",
      "--------------------------------------------------------------------------------\n",
      "Comparando o portfólio de 08/2023 e 09/2023:\n",
      "O Verde vendeu as ações: {'NINJ3', 'PRIO3', 'BBDC4', 'CCRO3', 'GGBR4', 'CPFE3', 'COCE5', 'PETR3', 'ALPA4', 'ARZZ3', 'CIEL3'}\n",
      "O Verde comprou as ações: {'ABEV3', 'MRFG3', 'HYPE3', 'SOMA3', 'MGLU3', 'RRRP3'}\n",
      "--------------------------------------------------------------------------------\n",
      "Comparando o portfólio de 09/2023 e 10/2023:\n",
      "O Verde vendeu as ações: {'ALSO3', 'NEOE3', 'GGPS3', 'TTEN3', 'CSAN3', 'BBAS3', 'HBSA3', 'MRFG3', 'HYPE3', 'BRFS3', 'BRAP4', 'CSMG3', 'HAPV3', 'INTB3'}\n",
      "O Verde comprou as ações: {'RADL3', 'ENEV3', 'PRIO3', 'B3SA3', 'JBSS3', 'MULT3', 'ALOS3', 'LREN3', 'CRFB3', 'ASAI3', 'CIEL3'}\n",
      "--------------------------------------------------------------------------------\n",
      "Comparando o portfólio de 10/2023 e 11/2023:\n",
      "O Verde vendeu as ações: {'RDOR3', 'RADL3', 'SYNE3', 'B3SA3', 'UGPA3', 'NTCO3', 'CRFB3', 'SQIA3', 'SLCE3', 'RRRP3'}\n",
      "O Verde comprou as ações: {'CVCB3', 'HAPV3', 'CMIG4', 'BRFS3', 'CSMG3', 'BRAP4', 'TRPL4', 'ALPA4'}\n",
      "--------------------------------------------------------------------------------\n",
      "Comparando o portfólio de 11/2023 e 12/2023:\n",
      "O Verde vendeu as ações: {'ALOS3', 'EGIE3', 'VBBR3', 'BRFS3', 'CSMG3', 'MEGA3', 'ALPA4', 'MGLU3', 'ITSA4', 'MULT3'}\n",
      "O Verde comprou as ações: {'CSAN3', 'RAPT4', 'CYRE3', 'PETZ3', 'ENAT3', 'SLCE3', 'LWSA3', 'AZUL4', 'B3SA3', 'BEEF3', 'ONCO3', 'NTCO3', 'BPAN4', 'BRKM5', 'MDIA3', 'ITUB3', 'LJQQ3', 'BBSE3', 'VAMO3', 'BBAS3', 'MYPK3', 'PETR3', 'SRNA3', 'ARZZ3', 'POMO4', 'TFCO4'}\n",
      "--------------------------------------------------------------------------------\n",
      "Comparando o portfólio de 12/2023 e 01/2024:\n",
      "O Verde vendeu as ações: {'MDIA3', 'ABEV3', 'VITT3', 'PETZ3', 'LJQQ3', 'RECV3', 'JBSS3', 'BRKM5', 'BRAP4', 'DASA3', 'LWSA3'}\n",
      "O Verde comprou as ações: {'RDOR3', 'WEGE3', 'RADL3', 'EMBR3', 'GMAT3', 'VBBR3', 'SMFT3', 'HYPE3', 'BRFS3', 'CSMG3', 'MGLU3', 'USIM5', 'DIRR3'}\n",
      "--------------------------------------------------------------------------------\n"
     ]
    }
   ],
   "source": [
    "# Selecionando o conjunto de ações (portfólio) de cada mês - retornando um df com vários dicionários\n",
    "portfolio_mensal = portfolio_verde.groupby('data')['CD_ATIVO'].apply(set)\n",
    "\n",
    "# Convertendo o GroupBy resultante em DataFrame para facilitar a iteração\n",
    "portfolio_mensal = portfolio_mensal.reset_index()\n",
    "\n",
    "# Comparando o portfólio de cada mês\n",
    "comparar_portfolios(df=portfolio_mensal, nome_fundo='Verde')"
   ]
  },
  {
   "cell_type": "code",
   "execution_count": 130,
   "metadata": {},
   "outputs": [
    {
     "data": {
      "text/plain": [
       "data\n",
       "2023-01-01    71\n",
       "2023-02-01    70\n",
       "2023-03-01    61\n",
       "2023-04-01    60\n",
       "2023-05-01    59\n",
       "2023-06-01    58\n",
       "2023-07-01    69\n",
       "2023-08-01    51\n",
       "2023-09-01    46\n",
       "2023-10-01    43\n",
       "2023-11-01    41\n",
       "2023-12-01    57\n",
       "2024-01-01    59\n",
       "Name: CD_ATIVO, dtype: int64"
      ]
     },
     "execution_count": 130,
     "metadata": {},
     "output_type": "execute_result"
    }
   ],
   "source": [
    "# Número total de ações de cada mês do portfpolio\n",
    "num_total_acoes(df=portfolio_verde)"
   ]
  },
  {
   "cell_type": "code",
   "execution_count": 131,
   "metadata": {},
   "outputs": [
    {
     "data": {
      "text/plain": [
       "data\n",
       "2023-01-01    [SUZB3, RENT3, EQTL3, VBBR3, RAIL3]\n",
       "2023-02-01    [SUZB3, RENT3, RAIL3, VBBR3, EQTL3]\n",
       "2023-03-01    [SUZB3, RAIL3, VBBR3, ASAI3, SBSP3]\n",
       "2023-04-01    [SUZB3, RAIL3, VBBR3, RENT3, EQTL3]\n",
       "2023-05-01    [SUZB3, RAIL3, EQTL3, VBBR3, SBSP3]\n",
       "2023-06-01    [SUZB3, RENT3, RAIL3, EQTL3, VBBR3]\n",
       "2023-07-01    [SUZB3, RAIL3, RENT3, VBBR3, ITUB4]\n",
       "2023-08-01    [SUZB3, RAIL3, VBBR3, SBSP3, RENT3]\n",
       "2023-09-01    [SUZB3, RAIL3, SBSP3, VBBR3, RENT3]\n",
       "2023-10-01    [SUZB3, RAIL3, EQTL3, ITUB4, SBSP3]\n",
       "2023-11-01    [SUZB3, SBSP3, ITUB4, CPLE3, EQTL3]\n",
       "2023-12-01    [SUZB3, SBSP3, EQTL3, CPLE3, ITUB4]\n",
       "2024-01-01    [RAIL3, SUZB3, SBSP3, ITUB4, EQTL3]\n",
       "Name: CD_ATIVO, dtype: object"
      ]
     },
     "execution_count": 131,
     "metadata": {},
     "output_type": "execute_result"
    }
   ],
   "source": [
    "# Rank das 5 maiores ações do fundo\n",
    "rank_top_5(df=portfolio_verde)"
   ]
  },
  {
   "cell_type": "code",
   "execution_count": 132,
   "metadata": {},
   "outputs": [
    {
     "data": {
      "application/vnd.plotly.v1+json": {
       "config": {
        "plotlyServerURL": "https://plot.ly"
       },
       "data": [
        {
         "name": "01/2023",
         "orientation": "h",
         "type": "bar",
         "x": [
          12.961224931355511,
          9.560450731337609,
          8.593887572545402,
          7.661106569783828,
          6.938031582842763,
          5.630554583638158,
          5.562486378564692,
          4.733609457672141,
          4.517700481808214,
          3.813550093645864,
          3.4094615182214287,
          3.266585854817912,
          3.2316450794015945,
          2.330817955666117,
          2.270897576235022,
          1.873127452447277,
          1.848117544849917,
          1.834236327210961,
          1.732293700577025,
          1.431909581455304,
          1.210538473622382,
          1.19574728923617,
          0.8866218611234312,
          0.6331564094257212,
          0.4394088215819439,
          0.3032346035626029,
          0.17602715261583501,
          0.1633343051482223,
          0.14423187761448672,
          0.1203103784652127,
          0.09842509102601449,
          0.09786030728960442,
          0.08988248818259138,
          0.08805797191566837,
          0.08254829081865567,
          0.0738946846346916,
          0.07031404997910952,
          0.06371657624405387,
          0.06342717416617336,
          0.06246920287789223,
          0.054536922207500546,
          0.051463388504812746,
          0.04954635751980244,
          0.048379469094144,
          0.047027837655586754,
          0.042146867105912623,
          0.041116061242825255,
          0.037948792658895183,
          0.03558751917310033,
          0.03476605721807126,
          0.02768478879207418,
          0.026302822264375678,
          0.02543355626461357,
          0.025070915755107878,
          0.02279402256636727,
          0.02218921117716247,
          0.02101487574633291,
          0.01840555970368478,
          0.0159772631713499,
          0.01533102065529888,
          0.01525649904739809,
          0.0145579470484855,
          0.01400751884665914,
          0.01184142563793367,
          0.004638080747552724,
          0.004190372525130849,
          0.002832153351229928,
          0.001813173905200843,
          0.001366998047304562,
          0.001095889824050147,
          0.0007746489348303411
         ],
         "xaxis": "x",
         "y": [
          "SUZB3",
          "RENT3",
          "EQTL3",
          "VBBR3",
          "RAIL3",
          "GMAT3",
          "ITUB4",
          "SBSP3",
          "ENEV3",
          "MEGA3",
          "ASAI3",
          "VIVA3",
          "GGPS3",
          "NTCO3",
          "RADL3",
          "BBSE3",
          "VVEO3",
          "TTEN3",
          "BBAS3",
          "VITT3",
          "SOMA3",
          "CURY3",
          "UGPA3",
          "BRIT3",
          "SYNE3",
          "NINJ3",
          "LJQQ3",
          "ENJU3",
          "LOGN3",
          "BRPR3",
          "MGLU3",
          "ELET3",
          "RRRP3",
          "CSMG3",
          "PETR4",
          "GGBR4",
          "CSAN3",
          "AALR3",
          "VIIA3",
          "MODL3",
          "ABEV3",
          "GOAU4",
          "SMFT3",
          "MULT3",
          "PRIO3",
          "LREN3",
          "RDOR3",
          "PETZ3",
          "CIEL3",
          "COCE5",
          "BEEF3",
          "SQIA3",
          "RAIZ4",
          "MTRE3",
          "RECV3",
          "CBAV3",
          "BRAP4",
          "GUAR3",
          "YDUQ3",
          "USIM5",
          "CASH3",
          "TIMS3",
          "CMIG3",
          "B3SA3",
          "BBDC4",
          "TCSA3",
          "HAPV3",
          "INTB3",
          "ALSO3",
          "BRKM5",
          "CMIG4"
         ],
         "yaxis": "y"
        },
        {
         "name": "02/2023",
         "orientation": "h",
         "type": "bar",
         "x": [
          13.08635318555125,
          8.511767543565295,
          7.218597909919479,
          6.679083207682332,
          6.453276127146229,
          5.671824425513225,
          5.55363452393996,
          4.621872780123715,
          4.148274188016538,
          4.119918507575751,
          3.8844255230207634,
          3.101875653653246,
          2.984820981011134,
          2.788475504768387,
          2.2699605632093602,
          2.075106908861991,
          2.041264950636011,
          1.9818427061647679,
          1.919617473114616,
          1.910137322235769,
          1.6619998240106948,
          1.292198263219258,
          1.140575578515445,
          0.8823243922916831,
          0.6815488243783092,
          0.5289991458411603,
          0.42157212659670806,
          0.2841488499204556,
          0.2766759418021307,
          0.271467031497125,
          0.1459565142709021,
          0.1363673428167409,
          0.12052700116171101,
          0.1197269177161796,
          0.1125805610147189,
          0.09198767614170529,
          0.08658437287256902,
          0.07284343115800229,
          0.06459469087318641,
          0.04522962123480606,
          0.0395779482188255,
          0.03889482993308518,
          0.03810791014212627,
          0.03703887061771008,
          0.035843109171909,
          0.034515450226879026,
          0.03422405214658658,
          0.03422202250821638,
          0.03333681023047225,
          0.029535297563094802,
          0.02786983430617954,
          0.025327277325000917,
          0.01842969629805851,
          0.01807132015154958,
          0.016147802873280798,
          0.013135355614567912,
          0.01154110366961268,
          0.010783468660852301,
          0.00954678100705791,
          0.00910066649328879,
          0.005253037542657102,
          0.004611918273762919,
          0.002920069718035103,
          0.002918214048668067,
          0.002535627215886087,
          0.001973025957084636,
          0.001406046478370333,
          0.001342701464836511,
          0.00124309551207744,
          0.0005085635869366708
         ],
         "xaxis": "x2",
         "y": [
          "SUZB3",
          "RENT3",
          "RAIL3",
          "VBBR3",
          "EQTL3",
          "SBSP3",
          "ITUB4",
          "GMAT3",
          "ENEV3",
          "NTCO3",
          "MEGA3",
          "ASAI3",
          "GGPS3",
          "VIVA3",
          "GGBR4",
          "EGIE3",
          "RADL3",
          "BBSE3",
          "JBSS3",
          "TTEN3",
          "VVEO3",
          "VITT3",
          "CURY3",
          "RAIZ4",
          "UGPA3",
          "BRIT3",
          "SYNE3",
          "MGLU3",
          "ABEV3",
          "NINJ3",
          "VALE3",
          "LOGN3",
          "BRPR3",
          "AALR3",
          "ENJU3",
          "BBDC4",
          "CSMG3",
          "RRRP3",
          "CPLE6",
          "GOAU4",
          "COCE5",
          "CMIG4",
          "PRIO3",
          "EMBR3",
          "CRFB3",
          "CIEL3",
          "PETZ3",
          "SMFT3",
          "RDOR3",
          "CSAN3",
          "SQIA3",
          "PSSA3",
          "CBAV3",
          "INTB3",
          "GUAR3",
          "ELET3",
          "MTRE3",
          "BOAS3",
          "VIIA3",
          "BRKM5",
          "HAPV3",
          "TCSA3",
          "LREN3",
          "MRFG3",
          "BBAS3",
          "B3SA3",
          "USIM5",
          "LWSA3",
          "BRAP4",
          "EZTC3"
         ],
         "yaxis": "y2"
        },
        {
         "name": "03/2023",
         "orientation": "h",
         "type": "bar",
         "x": [
          12.619948692951269,
          7.567464651310367,
          6.545252466474186,
          6.055582060547976,
          5.549562009265653,
          5.477624171226343,
          5.274510383398682,
          4.63169669105267,
          4.577546049067432,
          4.444801127333393,
          4.231721224042345,
          3.822754382574155,
          3.254503021361969,
          3.075917624029674,
          2.678831087284042,
          2.65882669184358,
          2.631189788447618,
          2.564643605157919,
          2.132642307705504,
          1.637245327743314,
          1.608637051269772,
          1.473450303453919,
          1.347499823885174,
          1.105224872749191,
          0.41353518351845864,
          0.3729449472917249,
          0.3641861102437536,
          0.3524033751769135,
          0.2201616062126194,
          0.17152277411413608,
          0.1695436856667637,
          0.1270342944452431,
          0.10108483260166329,
          0.08255106247802695,
          0.08044804994717218,
          0.07819858737757682,
          0.07570914036114162,
          0.06512538764163321,
          0.06258737980370953,
          0.04587650459484506,
          0.04182966503893097,
          0.032130659157380385,
          0.03176316339218048,
          0.02431675303645033,
          0.020384031411034148,
          0.01697435682739227,
          0.01693049544024139,
          0.0144861629934471,
          0.01159037155462121,
          0.009987895775063649,
          0.0054008343113494525,
          0.005365751467541196,
          0.0052445687207557535,
          0.003177099578274314,
          0.0029501168997684867,
          0.002216441210983193,
          0.001421149672119582,
          0.001342440412877319,
          0.001319178212906225,
          0.0009704645202755686,
          0.0002100647148904858
         ],
         "xaxis": "x3",
         "y": [
          "SUZB3",
          "RAIL3",
          "VBBR3",
          "ASAI3",
          "SBSP3",
          "EQTL3",
          "ITUB4",
          "RENT3",
          "NTCO3",
          "VALE3",
          "MEGA3",
          "ENEV3",
          "EGIE3",
          "GGPS3",
          "VIVA3",
          "HAPV3",
          "JBSS3",
          "BBSE3",
          "RADL3",
          "TTEN3",
          "CURY3",
          "VVEO3",
          "VITT3",
          "BEEF3",
          "BRIT3",
          "ABEV3",
          "SYNE3",
          "UGPA3",
          "NINJ3",
          "AALR3",
          "LOGN3",
          "BRPR3",
          "ENJU3",
          "MGLU3",
          "CPLE6",
          "ELET3",
          "RRRP3",
          "STBP3",
          "CSMG3",
          "CMIG4",
          "B3SA3",
          "COCE5",
          "SMFT3",
          "PSSA3",
          "USIM5",
          "GUAR3",
          "SMTO3",
          "CBAV3",
          "BOAS3",
          "DIRR3",
          "TCSA3",
          "VIIA3",
          "PETZ3",
          "BBDC4",
          "CRFB3",
          "ELET6",
          "LWSA3",
          "BRFS3",
          "PRIO3",
          "BRKM5",
          "BRAP4"
         ],
         "yaxis": "y3"
        },
        {
         "name": "04/2023",
         "orientation": "h",
         "type": "bar",
         "x": [
          12.493528275689581,
          8.261398307213693,
          6.171418687414759,
          5.930141575044427,
          5.727580008950874,
          5.619606344925701,
          5.398799143879781,
          5.1860699689138565,
          4.999994484271342,
          3.6182341342587008,
          3.5809675670879892,
          3.5806954331927416,
          3.381913876055659,
          3.319554223496593,
          3.0446481953870603,
          2.9308465788871607,
          2.5419545993126738,
          1.918952521202922,
          1.804758494140947,
          1.54935815572937,
          1.4560340075283011,
          1.432385508538965,
          1.344367115528243,
          1.139710790632438,
          0.7026777093886818,
          0.5405741898460282,
          0.49127511124727374,
          0.42752461307439604,
          0.4104177279001615,
          0.1916003575842834,
          0.1514474609702931,
          0.09409295820133526,
          0.07531715490937745,
          0.07467532968473874,
          0.06138126591891564,
          0.0545482427477889,
          0.0399933029761433,
          0.03968274238357618,
          0.02392765845532121,
          0.02167022801468334,
          0.02157800877205716,
          0.020055312933334332,
          0.01987587792429555,
          0.01839139829182472,
          0.01733066133454548,
          0.016977312393669113,
          0.01271504079434796,
          0.01136651768795652,
          0.0038832151427267364,
          0.0035267260891921923,
          0.0034120257103374017,
          0.003188787855053657,
          0.002839213950713607,
          0.002671759679201418,
          0.0024499607546632322,
          0.0017008023385600751,
          0.001579911451893449,
          0.001183925992330869,
          0.0008683274168176619,
          0.000681162899697212
         ],
         "xaxis": "x4",
         "y": [
          "SUZB3",
          "RAIL3",
          "VBBR3",
          "RENT3",
          "EQTL3",
          "ITUB4",
          "VALE3",
          "SBSP3",
          "ASAI3",
          "MEGA3",
          "EGIE3",
          "HAPV3",
          "ENEV3",
          "GGPS3",
          "UGPA3",
          "JBSS3",
          "RADL3",
          "CURY3",
          "NTCO3",
          "VIVA3",
          "TTEN3",
          "VVEO3",
          "VITT3",
          "BEEF3",
          "ABEV3",
          "LREN3",
          "BRIT3",
          "SYNE3",
          "PETR4",
          "AALR3",
          "PRIO3",
          "CPLE6",
          "STBP3",
          "CSMG3",
          "LOGN3",
          "CMIG4",
          "SMFT3",
          "COCE5",
          "PETR3",
          "SMTO3",
          "BBDC4",
          "EZTC3",
          "MRVE3",
          "GUAR3",
          "TEND3",
          "RECV3",
          "BOAS3",
          "NINJ3",
          "BRFS3",
          "MGLU3",
          "CYRE3",
          "GGBR4",
          "TCSA3",
          "VIIA3",
          "ELET6",
          "BBAS3",
          "B3SA3",
          "BBSE3",
          "ALSO3",
          "SOMA3"
         ],
         "yaxis": "y4"
        },
        {
         "name": "05/2023",
         "orientation": "h",
         "type": "bar",
         "x": [
          12.715866274763751,
          8.352517377552088,
          7.648908636317079,
          6.669544855043852,
          6.1259269413034545,
          5.914612185455243,
          5.89257835686091,
          5.111404190922827,
          3.63560384006102,
          3.498064302461205,
          3.446322271589869,
          3.384500911114025,
          3.366921715108098,
          3.164064198319056,
          2.9955142904316547,
          2.756391682294129,
          2.585364966883197,
          2.2917594478406538,
          2.176610755789258,
          2.138409986587349,
          1.6247884670218828,
          1.170505585179372,
          0.7992933630717132,
          0.6716217297105779,
          0.44979468152978447,
          0.20553503173165827,
          0.17911025945470568,
          0.12526500065612362,
          0.11661081171109859,
          0.07241426985026073,
          0.0637549511670398,
          0.056195804228595055,
          0.05597121467212191,
          0.05303123346862916,
          0.048014349513094315,
          0.04631384130117222,
          0.04155408547270401,
          0.03639549249950898,
          0.029422254639534347,
          0.02903367697119921,
          0.026774347904567432,
          0.02319282881795701,
          0.02259809979587642,
          0.0223284679319574,
          0.021221726916204182,
          0.02032846957373011,
          0.018322142401003688,
          0.0178640888409786,
          0.01680502232958301,
          0.01315393116869146,
          0.01228187567539808,
          0.01187662635792645,
          0.01072820621933201,
          0.00991706636711427,
          0.0021556442333482972,
          0.00174842317275764,
          0.001622847181723393,
          0.0009380527812692773,
          0.000628841781082954
         ],
         "xaxis": "x5",
         "y": [
          "SUZB3",
          "RAIL3",
          "EQTL3",
          "VBBR3",
          "SBSP3",
          "ASAI3",
          "RENT3",
          "ITUB4",
          "EGIE3",
          "HAPV3",
          "GGPS3",
          "ARZZ3",
          "MEGA3",
          "LREN3",
          "ENEV3",
          "PETR4",
          "B3SA3",
          "ABEV3",
          "CURY3",
          "RADL3",
          "VVEO3",
          "VITT3",
          "TTEN3",
          "UGPA3",
          "SYNE3",
          "GGBR4",
          "AALR3",
          "ITSA4",
          "VALE3",
          "STBP3",
          "CPLE6",
          "BBDC4",
          "BRAP4",
          "RECV3",
          "CMIG4",
          "NTCO3",
          "CSMG3",
          "COCE5",
          "SQIA3",
          "USIM5",
          "BBSE3",
          "SMTO3",
          "SMFT3",
          "CPFE3",
          "ELET6",
          "BRFS3",
          "HYPE3",
          "CVCB3",
          "MRVE3",
          "PRIO3",
          "NINJ3",
          "BOAS3",
          "LJQQ3",
          "PCAR3",
          "TCSA3",
          "WEGE3",
          "RRRP3",
          "TEND3",
          "CYRE3"
         ],
         "yaxis": "y5"
        },
        {
         "name": "06/2023",
         "orientation": "h",
         "type": "bar",
         "x": [
          12.768510101331021,
          11.91592402172163,
          9.897683955492958,
          8.506020035798965,
          6.682085499732304,
          6.39722387907246,
          5.58116052475544,
          5.393232096714877,
          4.596172184750539,
          4.446210395260991,
          4.441870078435761,
          3.6233305959671753,
          3.3368962083774845,
          2.386841068500346,
          2.2262153676562058,
          1.775996642270469,
          1.247901786371626,
          1.113009377647825,
          0.8541668957700995,
          0.7850714732794299,
          0.47843836554175395,
          0.1943261777587334,
          0.1907865647718683,
          0.1415147154888752,
          0.1207562768976752,
          0.0817507267575667,
          0.07608238580500318,
          0.07334856350650258,
          0.0732915459219413,
          0.060709674392392846,
          0.06007959115638241,
          0.05430195880272452,
          0.04535114809975551,
          0.04173064364152807,
          0.04047707489972723,
          0.04036623303203115,
          0.03355143748778857,
          0.030086639462753244,
          0.027406641447387428,
          0.02609303336058455,
          0.02253124870131516,
          0.02124930971956829,
          0.01984729204781735,
          0.01481058479786596,
          0.01325945842314292,
          0.012834564596974631,
          0.011727135579546891,
          0.002637343689493474,
          0.002540535193975349,
          0.002465522300239009,
          0.002026542320051013,
          0.0016667515968286208,
          0.0016365801765325409,
          0.0016345876620061,
          0.0010834297737524789,
          0.0008080570086950435,
          0.0006640615466434467,
          0.0006054077249876072
         ],
         "xaxis": "x6",
         "y": [
          "SUZB3",
          "RENT3",
          "RAIL3",
          "EQTL3",
          "VBBR3",
          "SBSP3",
          "ITUB4",
          "ASAI3",
          "CSAN3",
          "LREN3",
          "EGIE3",
          "GGPS3",
          "MEGA3",
          "CURY3",
          "VVEO3",
          "HAPV3",
          "NTCO3",
          "VITT3",
          "TTEN3",
          "B3SA3",
          "SYNE3",
          "GGBR4",
          "AALR3",
          "ITSA4",
          "VALE3",
          "RRRP3",
          "STBP3",
          "ARZZ3",
          "CPLE6",
          "RECV3",
          "BRAP4",
          "CMIG4",
          "CSMG3",
          "COCE5",
          "ENEV3",
          "PRIO3",
          "SQIA3",
          "USIM5",
          "BBSE3",
          "CPFE3",
          "SMTO3",
          "HYPE3",
          "MRVE3",
          "NINJ3",
          "LJQQ3",
          "BOAS3",
          "PCAR3",
          "BBDC4",
          "TCSA3",
          "ABEV3",
          "MRFG3",
          "SMFT3",
          "PETR4",
          "YDUQ3",
          "WEGE3",
          "TEND3",
          "CYRE3",
          "RADL3"
         ],
         "yaxis": "y6"
        },
        {
         "name": "07/2023",
         "orientation": "h",
         "type": "bar",
         "x": [
          14.50061692394462,
          12.08422342454296,
          7.613488341110824,
          7.418492483758397,
          7.086936254298154,
          7.078336019824307,
          6.8845137782043455,
          6.470866794616477,
          4.704416305218684,
          3.548854290089403,
          3.217871245644183,
          3.1556934769250455,
          2.5650285010938823,
          2.4496608969239877,
          2.341914638948367,
          2.187105984844339,
          2.045817655534795,
          1.189300888690536,
          0.8627407437933826,
          0.5200195261324568,
          0.2339295435381452,
          0.1268148725338826,
          0.119671223238136,
          0.1053978488423884,
          0.09926288976158922,
          0.0952387279164715,
          0.08946295766622724,
          0.08252548691569547,
          0.07963115925224323,
          0.07760418428945885,
          0.07742753404492365,
          0.0761771274120372,
          0.07556023704827797,
          0.06720814421204768,
          0.05890419722677896,
          0.051867282779764726,
          0.04556883562951335,
          0.04246186956386471,
          0.04220035792734691,
          0.04167921545985605,
          0.039891781692391715,
          0.0321098188610731,
          0.02977580152717454,
          0.028726447118681133,
          0.02850442200741237,
          0.027821028022181067,
          0.027562980115948273,
          0.02704134233502666,
          0.02318621052781715,
          0.02144107929832355,
          0.02112736924641073,
          0.019945544473167348,
          0.01474787080749027,
          0.01300873183138973,
          0.01283312070594003,
          0.003294977345518658,
          0.00256213514673864,
          0.002079152595797674,
          0.001978205640371516,
          0.001590129299239662,
          0.001054394136058084,
          0.00104620934139462,
          0.0009106839665332661,
          0.0008051094674463427,
          0.0006221344514107184,
          0.0005814217656407807,
          0.0004455326990995016,
          0.0004271610736678401,
          0.00038733510285086345
         ],
         "xaxis": "x7",
         "y": [
          "SUZB3",
          "RAIL3",
          "RENT3",
          "VBBR3",
          "ITUB4",
          "EQTL3",
          "SBSP3",
          "CSAN3",
          "EGIE3",
          "MEGA3",
          "GGPS3",
          "CURY3",
          "PETR4",
          "VVEO3",
          "LREN3",
          "VALE3",
          "HAPV3",
          "VITT3",
          "TTEN3",
          "SYNE3",
          "NTCO3",
          "GGBR4",
          "UGPA3",
          "AALR3",
          "BRAP4",
          "ITSA4",
          "MGLU3",
          "RRRP3",
          "RECV3",
          "CPLE6",
          "PRIO3",
          "ABEV3",
          "STBP3",
          "CCRO3",
          "ELET3",
          "ENEV3",
          "CSMG3",
          "SQIA3",
          "PETR3",
          "BBAS3",
          "COCE5",
          "INTB3",
          "MULT3",
          "SLCE3",
          "CPFE3",
          "AGRO3",
          "CRFB3",
          "DIRR3",
          "SMTO3",
          "VIVT3",
          "ZAMP3",
          "BRFS3",
          "NINJ3",
          "MDIA3",
          "TRAD3",
          "TCSA3",
          "BBDC4",
          "VIIA3",
          "CIEL3",
          "WEGE3",
          "MRVE3",
          "EZTC3",
          "JBSS3",
          "B3SA3",
          "RADL3",
          "TEND3",
          "CYRE3",
          "TIMS3",
          "ALSO3"
         ],
         "yaxis": "y7"
        },
        {
         "name": "08/2023",
         "orientation": "h",
         "type": "bar",
         "x": [
          14.42674277928124,
          12.768421335334759,
          8.051502474794086,
          7.854467877486826,
          7.4302822504415085,
          7.03520547471817,
          6.327332600064052,
          5.702211147890807,
          5.675369340382376,
          5.479808162851003,
          4.000397078201931,
          3.025156187229057,
          2.941901154786752,
          1.715823728431835,
          1.406846309914578,
          1.184368862195564,
          1.180382770269992,
          0.9355226875959093,
          0.6802023679390948,
          0.5437475710160486,
          0.2205240884306256,
          0.1137582512455563,
          0.113558322052968,
          0.10787420376733789,
          0.09259932158615922,
          0.09255991948251044,
          0.08956535960520284,
          0.0846736614040649,
          0.08047368902253896,
          0.06906216851075186,
          0.06706347491310971,
          0.06432818452615405,
          0.05997255559350074,
          0.04951458058338596,
          0.04500376938418626,
          0.04279702538259267,
          0.03987857723549998,
          0.02865590954716434,
          0.028016537448604207,
          0.027879907005859118,
          0.02658328592837969,
          0.02485287687647058,
          0.02372079606515413,
          0.01887214831059542,
          0.012941402042867318,
          0.003553369267277683,
          0.0033871215766232573,
          0.001350397652274163,
          0.0009649137382435579,
          0.00020748126245429197,
          0.00011453972630125721
         ],
         "xaxis": "x8",
         "y": [
          "SUZB3",
          "RAIL3",
          "VBBR3",
          "SBSP3",
          "RENT3",
          "ITUB4",
          "EQTL3",
          "CSAN3",
          "VVEO3",
          "EGIE3",
          "CPLE3",
          "MEGA3",
          "CURY3",
          "NTCO3",
          "BBAS3",
          "VITT3",
          "PETR4",
          "TTEN3",
          "UGPA3",
          "SYNE3",
          "PETR3",
          "CSMG3",
          "HBSA3",
          "ITSA4",
          "VALE3",
          "SQIA3",
          "RECV3",
          "CPLE6",
          "BRFS3",
          "HAPV3",
          "STBP3",
          "ARZZ3",
          "GGPS3",
          "INTB3",
          "CCRO3",
          "RDOR3",
          "ELET3",
          "CPFE3",
          "BRAP4",
          "SLCE3",
          "ALSO3",
          "ALPA4",
          "DASA3",
          "NINJ3",
          "COCE5",
          "TCSA3",
          "PRIO3",
          "CIEL3",
          "NEOE3",
          "GGBR4",
          "BBDC4"
         ],
         "yaxis": "y8"
        },
        {
         "name": "09/2023",
         "orientation": "h",
         "type": "bar",
         "x": [
          15.08759464364407,
          11.64763738260221,
          8.299561985031383,
          7.738540581820072,
          7.606167512845835,
          7.571378434415313,
          7.380459787233461,
          5.820189900323883,
          5.041905261688485,
          4.998643425838338,
          3.408551535632398,
          2.968010298272886,
          2.893414485155221,
          2.433837509268746,
          1.563671530492089,
          1.247605951964814,
          1.187197735428127,
          0.9069268005168857,
          0.5558742135547617,
          0.3278814185556574,
          0.1388538662237154,
          0.1233543969377734,
          0.09416372978258249,
          0.09404124834425968,
          0.08528122741306225,
          0.07849946728871518,
          0.07382735715051024,
          0.06435211885068229,
          0.05978949969522047,
          0.05636707138378196,
          0.04970742154188401,
          0.0493024904836713,
          0.047634144831365036,
          0.04686807910803687,
          0.043598938172438755,
          0.04215143026498726,
          0.03700498292018667,
          0.03630260754478637,
          0.03581134563034976,
          0.02813064597988795,
          0.01791107684469603,
          0.005779639265342188,
          0.002309183383846196,
          0.0021604389558999757,
          0.0009907820470631712,
          0.0007564156706118277
         ],
         "xaxis": "x9",
         "y": [
          "SUZB3",
          "RAIL3",
          "SBSP3",
          "VBBR3",
          "RENT3",
          "EQTL3",
          "ITUB4",
          "EGIE3",
          "VVEO3",
          "CPLE3",
          "CSAN3",
          "CURY3",
          "MEGA3",
          "BBAS3",
          "RDOR3",
          "VITT3",
          "SOMA3",
          "TTEN3",
          "SYNE3",
          "UGPA3",
          "PETR4",
          "CSMG3",
          "SQIA3",
          "RECV3",
          "VALE3",
          "HAPV3",
          "CPLE6",
          "ELET3",
          "ITSA4",
          "MRFG3",
          "SLCE3",
          "STBP3",
          "INTB3",
          "HYPE3",
          "ALSO3",
          "NTCO3",
          "GGPS3",
          "BRAP4",
          "DASA3",
          "RRRP3",
          "MGLU3",
          "HBSA3",
          "TCSA3",
          "ABEV3",
          "NEOE3",
          "BRFS3"
         ],
         "yaxis": "y9"
        },
        {
         "name": "10/2023",
         "orientation": "h",
         "type": "bar",
         "x": [
          14.28402954976013,
          11.69076083740118,
          10.19055381454824,
          9.781188415368167,
          9.046705708788974,
          7.0570917933698825,
          6.366233530387144,
          6.291463461413177,
          6.095075975033168,
          5.104978800645565,
          3.833247682649295,
          2.590314195099845,
          2.572911381416389,
          1.834498974056951,
          1.04959493443041,
          0.5855471841283697,
          0.3690563567347574,
          0.12950941078418599,
          0.1093899838274503,
          0.08658813801038268,
          0.08413625291152974,
          0.08340351549121543,
          0.08020946594090962,
          0.07981181662742912,
          0.07125550036495178,
          0.06949435954770508,
          0.06538541662540333,
          0.06181989919809726,
          0.05355582090091486,
          0.05339470436872879,
          0.052434004195427805,
          0.04914911234505965,
          0.03283252403952878,
          0.03238699397789275,
          0.031044798994471382,
          0.02056618253241974,
          0.004072477451852196,
          0.001565649901518152,
          0.001549761069035547,
          0.001157210922398152,
          0.001021375973720001,
          0.0009286482674299325,
          0.00008438049871830118
         ],
         "xaxis": "x10",
         "y": [
          "SUZB3",
          "RAIL3",
          "EQTL3",
          "ITUB4",
          "SBSP3",
          "VBBR3",
          "CPLE3",
          "EGIE3",
          "RENT3",
          "VVEO3",
          "CURY3",
          "JBSS3",
          "MEGA3",
          "SOMA3",
          "VITT3",
          "SYNE3",
          "UGPA3",
          "PETR4",
          "SQIA3",
          "ELET3",
          "NTCO3",
          "RRRP3",
          "ENEV3",
          "CPLE6",
          "VALE3",
          "PRIO3",
          "MGLU3",
          "ALOS3",
          "SLCE3",
          "CIEL3",
          "RECV3",
          "STBP3",
          "CRFB3",
          "DASA3",
          "B3SA3",
          "MULT3",
          "ITSA4",
          "RDOR3",
          "LREN3",
          "ABEV3",
          "TCSA3",
          "RADL3",
          "ASAI3"
         ],
         "yaxis": "y10"
        },
        {
         "name": "11/2023",
         "orientation": "h",
         "type": "bar",
         "x": [
          12.75095300821044,
          10.55869518855924,
          9.195212810996352,
          9.075191868807282,
          8.91397187231798,
          7.506695768111937,
          6.496906306668334,
          6.483243322608473,
          5.253548407724166,
          4.81968595472906,
          3.996623801076507,
          3.0804046686914077,
          2.693090268601521,
          2.637220772380441,
          2.405406971051665,
          1.649830498559346,
          1.136602972192811,
          0.2280906022105616,
          0.1434829097694149,
          0.114276345745,
          0.108609173159323,
          0.09521738414443441,
          0.091328421814644,
          0.08885212758963712,
          0.06988709001400775,
          0.06124946436942539,
          0.05521632655145201,
          0.05245529868328271,
          0.04942434501372021,
          0.03996848034109012,
          0.03808661519281904,
          0.030327306105748093,
          0.029232130820932418,
          0.01839810877646496,
          0.01660043678568173,
          0.00985260483093488,
          0.0020831460260341108,
          0.001480636098504245,
          0.001135549923102423,
          0.001000891640865076,
          0.00046014310594865695
         ],
         "xaxis": "x11",
         "y": [
          "SUZB3",
          "SBSP3",
          "ITUB4",
          "CPLE3",
          "EQTL3",
          "RAIL3",
          "ENEV3",
          "VALE3",
          "RENT3",
          "VVEO3",
          "JBSS3",
          "ASAI3",
          "MEGA3",
          "CURY3",
          "EGIE3",
          "BRFS3",
          "VITT3",
          "MGLU3",
          "ELET3",
          "LREN3",
          "SOMA3",
          "PRIO3",
          "CMIG4",
          "CPLE6",
          "PETR4",
          "VBBR3",
          "STBP3",
          "CVCB3",
          "RECV3",
          "CIEL3",
          "HAPV3",
          "DASA3",
          "ABEV3",
          "ALOS3",
          "ALPA4",
          "CSMG3",
          "ITSA4",
          "TCSA3",
          "BRAP4",
          "TRPL4",
          "MULT3"
         ],
         "yaxis": "y11"
        },
        {
         "name": "12/2023",
         "orientation": "h",
         "type": "bar",
         "x": [
          11.29273279972025,
          9.926425121800566,
          9.522716456135768,
          9.496665779660828,
          9.281543207738387,
          8.162266720057811,
          8.15023504480259,
          5.34596332355112,
          4.974571316893832,
          4.167814278892798,
          3.840980745407681,
          2.8057754473753302,
          2.625553172809422,
          2.378956822162301,
          2.0306674982593793,
          1.836652949035352,
          1.301930152714873,
          1.0741218944800681,
          0.22426276525106512,
          0.11634725740626689,
          0.1151141314268132,
          0.1126441960514388,
          0.09161884558928284,
          0.08949793438758186,
          0.08737522240449701,
          0.08614365164532936,
          0.080185520875702,
          0.0780163978451329,
          0.058497155449485326,
          0.057625004283798006,
          0.05566460818635915,
          0.05453298079399621,
          0.04971998327711081,
          0.04631937134107332,
          0.04420754589999095,
          0.04243295769988763,
          0.04203187457348051,
          0.04128004834571533,
          0.03936835519934019,
          0.038152009228236146,
          0.03466831578744291,
          0.03466258602849424,
          0.03251638203371983,
          0.008661758456408389,
          0.005502164737861876,
          0.003215884507532263,
          0.0022330712331212563,
          0.0018953387772616469,
          0.0017721735159749558,
          0.00150878468247438,
          0.001404732259966477,
          0.001299325158735708,
          0.00124747493293518,
          0.00106287028497886,
          0.0006844278917889281,
          0.0006315995142821624,
          0.0004225615370947143
         ],
         "xaxis": "x12",
         "y": [
          "SUZB3",
          "SBSP3",
          "EQTL3",
          "CPLE3",
          "ITUB4",
          "RAIL3",
          "ENEV3",
          "VALE3",
          "RENT3",
          "VVEO3",
          "PRIO3",
          "SRNA3",
          "CURY3",
          "ASAI3",
          "SOMA3",
          "CSAN3",
          "STBP3",
          "VITT3",
          "ITUB3",
          "ELET3",
          "LWSA3",
          "ENAT3",
          "CMIG4",
          "PETR3",
          "BRAP4",
          "BBAS3",
          "NTCO3",
          "CPLE6",
          "MDIA3",
          "RAPT4",
          "CIEL3",
          "POMO4",
          "HAPV3",
          "CYRE3",
          "LJQQ3",
          "BPAN4",
          "ONCO3",
          "AZUL4",
          "TFCO4",
          "PETZ3",
          "RECV3",
          "JBSS3",
          "CVCB3",
          "DASA3",
          "BRKM5",
          "PETR4",
          "B3SA3",
          "TCSA3",
          "VAMO3",
          "MYPK3",
          "BBSE3",
          "BEEF3",
          "ABEV3",
          "TRPL4",
          "LREN3",
          "SLCE3",
          "ARZZ3"
         ],
         "yaxis": "y12"
        },
        {
         "name": "01/2024",
         "orientation": "h",
         "type": "bar",
         "x": [
          11.85017681475383,
          10.12819832912281,
          9.740912403064705,
          7.8705431590342085,
          7.43913009230925,
          6.449473830484638,
          6.068820288014399,
          4.920104449546907,
          4.3425804653632865,
          4.298942086840719,
          3.8652882391303764,
          3.447757271449507,
          2.9556657234508408,
          2.719500493307538,
          2.659441079199072,
          2.5067348346288423,
          2.294796242110705,
          2.122604112139624,
          2.111736420985002,
          0.2485868007851235,
          0.10614357528074159,
          0.1042459886937745,
          0.1011409904189761,
          0.0979575093985045,
          0.09702833679143921,
          0.09477560592065952,
          0.09327220779751315,
          0.08708688007073974,
          0.07658180680812306,
          0.07351033131413984,
          0.06745769464154602,
          0.06359310959204145,
          0.060979547396280365,
          0.059631111285344554,
          0.059071951301347465,
          0.058818629506368604,
          0.058154531386850304,
          0.05075743401073971,
          0.04842365688751864,
          0.04816720761428256,
          0.04760301921316318,
          0.04555883158990641,
          0.045145105260655245,
          0.04490376490192538,
          0.044900807009500505,
          0.04339819765766743,
          0.036110345108448634,
          0.03609800083739551,
          0.02909584125785333,
          0.02853774611512918,
          0.02100221937353475,
          0.01774508288782739,
          0.002949452571815991,
          0.002111154307755788,
          0.001877078532821412,
          0.001801975672225722,
          0.001454431200016833,
          0.0009717662579833929,
          0.0009439384060502319
         ],
         "xaxis": "x13",
         "y": [
          "RAIL3",
          "SUZB3",
          "SBSP3",
          "ITUB4",
          "EQTL3",
          "ENEV3",
          "CPLE3",
          "RENT3",
          "VALE3",
          "ELET3",
          "PRIO3",
          "SOMA3",
          "CSAN3",
          "HAPV3",
          "CURY3",
          "SRNA3",
          "VVEO3",
          "CYRE3",
          "STBP3",
          "ITUB3",
          "BBSE3",
          "SMFT3",
          "CIEL3",
          "BBAS3",
          "EMBR3",
          "PETR3",
          "ENAT3",
          "PETR4",
          "TFCO4",
          "CPLE6",
          "RDOR3",
          "DIRR3",
          "B3SA3",
          "POMO4",
          "SLCE3",
          "ASAI3",
          "CMIG4",
          "RAPT4",
          "LREN3",
          "BRFS3",
          "MGLU3",
          "WEGE3",
          "GMAT3",
          "VBBR3",
          "RADL3",
          "BPAN4",
          "ONCO3",
          "BEEF3",
          "VAMO3",
          "AZUL4",
          "CVCB3",
          "USIM5",
          "TCSA3",
          "MYPK3",
          "HYPE3",
          "ARZZ3",
          "TRPL4",
          "NTCO3",
          "CSMG3"
         ],
         "yaxis": "y13"
        }
       ],
       "layout": {
        "annotations": [
         {
          "font": {
           "size": 16
          },
          "showarrow": false,
          "text": "Distribuição Percentual do Portfólio - 01/2023",
          "x": 0.5,
          "xanchor": "center",
          "xref": "paper",
          "y": 1,
          "yanchor": "bottom",
          "yref": "paper"
         },
         {
          "font": {
           "size": 16
          },
          "showarrow": false,
          "text": "Distribuição Percentual do Portfólio - 02/2023",
          "x": 0.5,
          "xanchor": "center",
          "xref": "paper",
          "y": 0.9215384615384615,
          "yanchor": "bottom",
          "yref": "paper"
         },
         {
          "font": {
           "size": 16
          },
          "showarrow": false,
          "text": "Distribuição Percentual do Portfólio - 03/2023",
          "x": 0.5,
          "xanchor": "center",
          "xref": "paper",
          "y": 0.8430769230769232,
          "yanchor": "bottom",
          "yref": "paper"
         },
         {
          "font": {
           "size": 16
          },
          "showarrow": false,
          "text": "Distribuição Percentual do Portfólio - 04/2023",
          "x": 0.5,
          "xanchor": "center",
          "xref": "paper",
          "y": 0.7646153846153846,
          "yanchor": "bottom",
          "yref": "paper"
         },
         {
          "font": {
           "size": 16
          },
          "showarrow": false,
          "text": "Distribuição Percentual do Portfólio - 05/2023",
          "x": 0.5,
          "xanchor": "center",
          "xref": "paper",
          "y": 0.6861538461538461,
          "yanchor": "bottom",
          "yref": "paper"
         },
         {
          "font": {
           "size": 16
          },
          "showarrow": false,
          "text": "Distribuição Percentual do Portfólio - 06/2023",
          "x": 0.5,
          "xanchor": "center",
          "xref": "paper",
          "y": 0.6076923076923076,
          "yanchor": "bottom",
          "yref": "paper"
         },
         {
          "font": {
           "size": 16
          },
          "showarrow": false,
          "text": "Distribuição Percentual do Portfólio - 07/2023",
          "x": 0.5,
          "xanchor": "center",
          "xref": "paper",
          "y": 0.5292307692307693,
          "yanchor": "bottom",
          "yref": "paper"
         },
         {
          "font": {
           "size": 16
          },
          "showarrow": false,
          "text": "Distribuição Percentual do Portfólio - 08/2023",
          "x": 0.5,
          "xanchor": "center",
          "xref": "paper",
          "y": 0.4507692307692308,
          "yanchor": "bottom",
          "yref": "paper"
         },
         {
          "font": {
           "size": 16
          },
          "showarrow": false,
          "text": "Distribuição Percentual do Portfólio - 09/2023",
          "x": 0.5,
          "xanchor": "center",
          "xref": "paper",
          "y": 0.3723076923076923,
          "yanchor": "bottom",
          "yref": "paper"
         },
         {
          "font": {
           "size": 16
          },
          "showarrow": false,
          "text": "Distribuição Percentual do Portfólio - 10/2023",
          "x": 0.5,
          "xanchor": "center",
          "xref": "paper",
          "y": 0.29384615384615387,
          "yanchor": "bottom",
          "yref": "paper"
         },
         {
          "font": {
           "size": 16
          },
          "showarrow": false,
          "text": "Distribuição Percentual do Portfólio - 11/2023",
          "x": 0.5,
          "xanchor": "center",
          "xref": "paper",
          "y": 0.21538461538461537,
          "yanchor": "bottom",
          "yref": "paper"
         },
         {
          "font": {
           "size": 16
          },
          "showarrow": false,
          "text": "Distribuição Percentual do Portfólio - 12/2023",
          "x": 0.5,
          "xanchor": "center",
          "xref": "paper",
          "y": 0.13692307692307693,
          "yanchor": "bottom",
          "yref": "paper"
         },
         {
          "font": {
           "size": 16
          },
          "showarrow": false,
          "text": "Distribuição Percentual do Portfólio - 01/2024",
          "x": 0.5,
          "xanchor": "center",
          "xref": "paper",
          "y": 0.05846153846153846,
          "yanchor": "bottom",
          "yref": "paper"
         }
        ],
        "height": 6000,
        "template": {
         "data": {
          "bar": [
           {
            "error_x": {
             "color": "#2a3f5f"
            },
            "error_y": {
             "color": "#2a3f5f"
            },
            "marker": {
             "line": {
              "color": "#E5ECF6",
              "width": 0.5
             },
             "pattern": {
              "fillmode": "overlay",
              "size": 10,
              "solidity": 0.2
             }
            },
            "type": "bar"
           }
          ],
          "barpolar": [
           {
            "marker": {
             "line": {
              "color": "#E5ECF6",
              "width": 0.5
             },
             "pattern": {
              "fillmode": "overlay",
              "size": 10,
              "solidity": 0.2
             }
            },
            "type": "barpolar"
           }
          ],
          "carpet": [
           {
            "aaxis": {
             "endlinecolor": "#2a3f5f",
             "gridcolor": "white",
             "linecolor": "white",
             "minorgridcolor": "white",
             "startlinecolor": "#2a3f5f"
            },
            "baxis": {
             "endlinecolor": "#2a3f5f",
             "gridcolor": "white",
             "linecolor": "white",
             "minorgridcolor": "white",
             "startlinecolor": "#2a3f5f"
            },
            "type": "carpet"
           }
          ],
          "choropleth": [
           {
            "colorbar": {
             "outlinewidth": 0,
             "ticks": ""
            },
            "type": "choropleth"
           }
          ],
          "contour": [
           {
            "colorbar": {
             "outlinewidth": 0,
             "ticks": ""
            },
            "colorscale": [
             [
              0,
              "#0d0887"
             ],
             [
              0.1111111111111111,
              "#46039f"
             ],
             [
              0.2222222222222222,
              "#7201a8"
             ],
             [
              0.3333333333333333,
              "#9c179e"
             ],
             [
              0.4444444444444444,
              "#bd3786"
             ],
             [
              0.5555555555555556,
              "#d8576b"
             ],
             [
              0.6666666666666666,
              "#ed7953"
             ],
             [
              0.7777777777777778,
              "#fb9f3a"
             ],
             [
              0.8888888888888888,
              "#fdca26"
             ],
             [
              1,
              "#f0f921"
             ]
            ],
            "type": "contour"
           }
          ],
          "contourcarpet": [
           {
            "colorbar": {
             "outlinewidth": 0,
             "ticks": ""
            },
            "type": "contourcarpet"
           }
          ],
          "heatmap": [
           {
            "colorbar": {
             "outlinewidth": 0,
             "ticks": ""
            },
            "colorscale": [
             [
              0,
              "#0d0887"
             ],
             [
              0.1111111111111111,
              "#46039f"
             ],
             [
              0.2222222222222222,
              "#7201a8"
             ],
             [
              0.3333333333333333,
              "#9c179e"
             ],
             [
              0.4444444444444444,
              "#bd3786"
             ],
             [
              0.5555555555555556,
              "#d8576b"
             ],
             [
              0.6666666666666666,
              "#ed7953"
             ],
             [
              0.7777777777777778,
              "#fb9f3a"
             ],
             [
              0.8888888888888888,
              "#fdca26"
             ],
             [
              1,
              "#f0f921"
             ]
            ],
            "type": "heatmap"
           }
          ],
          "heatmapgl": [
           {
            "colorbar": {
             "outlinewidth": 0,
             "ticks": ""
            },
            "colorscale": [
             [
              0,
              "#0d0887"
             ],
             [
              0.1111111111111111,
              "#46039f"
             ],
             [
              0.2222222222222222,
              "#7201a8"
             ],
             [
              0.3333333333333333,
              "#9c179e"
             ],
             [
              0.4444444444444444,
              "#bd3786"
             ],
             [
              0.5555555555555556,
              "#d8576b"
             ],
             [
              0.6666666666666666,
              "#ed7953"
             ],
             [
              0.7777777777777778,
              "#fb9f3a"
             ],
             [
              0.8888888888888888,
              "#fdca26"
             ],
             [
              1,
              "#f0f921"
             ]
            ],
            "type": "heatmapgl"
           }
          ],
          "histogram": [
           {
            "marker": {
             "pattern": {
              "fillmode": "overlay",
              "size": 10,
              "solidity": 0.2
             }
            },
            "type": "histogram"
           }
          ],
          "histogram2d": [
           {
            "colorbar": {
             "outlinewidth": 0,
             "ticks": ""
            },
            "colorscale": [
             [
              0,
              "#0d0887"
             ],
             [
              0.1111111111111111,
              "#46039f"
             ],
             [
              0.2222222222222222,
              "#7201a8"
             ],
             [
              0.3333333333333333,
              "#9c179e"
             ],
             [
              0.4444444444444444,
              "#bd3786"
             ],
             [
              0.5555555555555556,
              "#d8576b"
             ],
             [
              0.6666666666666666,
              "#ed7953"
             ],
             [
              0.7777777777777778,
              "#fb9f3a"
             ],
             [
              0.8888888888888888,
              "#fdca26"
             ],
             [
              1,
              "#f0f921"
             ]
            ],
            "type": "histogram2d"
           }
          ],
          "histogram2dcontour": [
           {
            "colorbar": {
             "outlinewidth": 0,
             "ticks": ""
            },
            "colorscale": [
             [
              0,
              "#0d0887"
             ],
             [
              0.1111111111111111,
              "#46039f"
             ],
             [
              0.2222222222222222,
              "#7201a8"
             ],
             [
              0.3333333333333333,
              "#9c179e"
             ],
             [
              0.4444444444444444,
              "#bd3786"
             ],
             [
              0.5555555555555556,
              "#d8576b"
             ],
             [
              0.6666666666666666,
              "#ed7953"
             ],
             [
              0.7777777777777778,
              "#fb9f3a"
             ],
             [
              0.8888888888888888,
              "#fdca26"
             ],
             [
              1,
              "#f0f921"
             ]
            ],
            "type": "histogram2dcontour"
           }
          ],
          "mesh3d": [
           {
            "colorbar": {
             "outlinewidth": 0,
             "ticks": ""
            },
            "type": "mesh3d"
           }
          ],
          "parcoords": [
           {
            "line": {
             "colorbar": {
              "outlinewidth": 0,
              "ticks": ""
             }
            },
            "type": "parcoords"
           }
          ],
          "pie": [
           {
            "automargin": true,
            "type": "pie"
           }
          ],
          "scatter": [
           {
            "fillpattern": {
             "fillmode": "overlay",
             "size": 10,
             "solidity": 0.2
            },
            "type": "scatter"
           }
          ],
          "scatter3d": [
           {
            "line": {
             "colorbar": {
              "outlinewidth": 0,
              "ticks": ""
             }
            },
            "marker": {
             "colorbar": {
              "outlinewidth": 0,
              "ticks": ""
             }
            },
            "type": "scatter3d"
           }
          ],
          "scattercarpet": [
           {
            "marker": {
             "colorbar": {
              "outlinewidth": 0,
              "ticks": ""
             }
            },
            "type": "scattercarpet"
           }
          ],
          "scattergeo": [
           {
            "marker": {
             "colorbar": {
              "outlinewidth": 0,
              "ticks": ""
             }
            },
            "type": "scattergeo"
           }
          ],
          "scattergl": [
           {
            "marker": {
             "colorbar": {
              "outlinewidth": 0,
              "ticks": ""
             }
            },
            "type": "scattergl"
           }
          ],
          "scattermapbox": [
           {
            "marker": {
             "colorbar": {
              "outlinewidth": 0,
              "ticks": ""
             }
            },
            "type": "scattermapbox"
           }
          ],
          "scatterpolar": [
           {
            "marker": {
             "colorbar": {
              "outlinewidth": 0,
              "ticks": ""
             }
            },
            "type": "scatterpolar"
           }
          ],
          "scatterpolargl": [
           {
            "marker": {
             "colorbar": {
              "outlinewidth": 0,
              "ticks": ""
             }
            },
            "type": "scatterpolargl"
           }
          ],
          "scatterternary": [
           {
            "marker": {
             "colorbar": {
              "outlinewidth": 0,
              "ticks": ""
             }
            },
            "type": "scatterternary"
           }
          ],
          "surface": [
           {
            "colorbar": {
             "outlinewidth": 0,
             "ticks": ""
            },
            "colorscale": [
             [
              0,
              "#0d0887"
             ],
             [
              0.1111111111111111,
              "#46039f"
             ],
             [
              0.2222222222222222,
              "#7201a8"
             ],
             [
              0.3333333333333333,
              "#9c179e"
             ],
             [
              0.4444444444444444,
              "#bd3786"
             ],
             [
              0.5555555555555556,
              "#d8576b"
             ],
             [
              0.6666666666666666,
              "#ed7953"
             ],
             [
              0.7777777777777778,
              "#fb9f3a"
             ],
             [
              0.8888888888888888,
              "#fdca26"
             ],
             [
              1,
              "#f0f921"
             ]
            ],
            "type": "surface"
           }
          ],
          "table": [
           {
            "cells": {
             "fill": {
              "color": "#EBF0F8"
             },
             "line": {
              "color": "white"
             }
            },
            "header": {
             "fill": {
              "color": "#C8D4E3"
             },
             "line": {
              "color": "white"
             }
            },
            "type": "table"
           }
          ]
         },
         "layout": {
          "annotationdefaults": {
           "arrowcolor": "#2a3f5f",
           "arrowhead": 0,
           "arrowwidth": 1
          },
          "autotypenumbers": "strict",
          "coloraxis": {
           "colorbar": {
            "outlinewidth": 0,
            "ticks": ""
           }
          },
          "colorscale": {
           "diverging": [
            [
             0,
             "#8e0152"
            ],
            [
             0.1,
             "#c51b7d"
            ],
            [
             0.2,
             "#de77ae"
            ],
            [
             0.3,
             "#f1b6da"
            ],
            [
             0.4,
             "#fde0ef"
            ],
            [
             0.5,
             "#f7f7f7"
            ],
            [
             0.6,
             "#e6f5d0"
            ],
            [
             0.7,
             "#b8e186"
            ],
            [
             0.8,
             "#7fbc41"
            ],
            [
             0.9,
             "#4d9221"
            ],
            [
             1,
             "#276419"
            ]
           ],
           "sequential": [
            [
             0,
             "#0d0887"
            ],
            [
             0.1111111111111111,
             "#46039f"
            ],
            [
             0.2222222222222222,
             "#7201a8"
            ],
            [
             0.3333333333333333,
             "#9c179e"
            ],
            [
             0.4444444444444444,
             "#bd3786"
            ],
            [
             0.5555555555555556,
             "#d8576b"
            ],
            [
             0.6666666666666666,
             "#ed7953"
            ],
            [
             0.7777777777777778,
             "#fb9f3a"
            ],
            [
             0.8888888888888888,
             "#fdca26"
            ],
            [
             1,
             "#f0f921"
            ]
           ],
           "sequentialminus": [
            [
             0,
             "#0d0887"
            ],
            [
             0.1111111111111111,
             "#46039f"
            ],
            [
             0.2222222222222222,
             "#7201a8"
            ],
            [
             0.3333333333333333,
             "#9c179e"
            ],
            [
             0.4444444444444444,
             "#bd3786"
            ],
            [
             0.5555555555555556,
             "#d8576b"
            ],
            [
             0.6666666666666666,
             "#ed7953"
            ],
            [
             0.7777777777777778,
             "#fb9f3a"
            ],
            [
             0.8888888888888888,
             "#fdca26"
            ],
            [
             1,
             "#f0f921"
            ]
           ]
          },
          "colorway": [
           "#636efa",
           "#EF553B",
           "#00cc96",
           "#ab63fa",
           "#FFA15A",
           "#19d3f3",
           "#FF6692",
           "#B6E880",
           "#FF97FF",
           "#FECB52"
          ],
          "font": {
           "color": "#2a3f5f"
          },
          "geo": {
           "bgcolor": "white",
           "lakecolor": "white",
           "landcolor": "#E5ECF6",
           "showlakes": true,
           "showland": true,
           "subunitcolor": "white"
          },
          "hoverlabel": {
           "align": "left"
          },
          "hovermode": "closest",
          "mapbox": {
           "style": "light"
          },
          "paper_bgcolor": "white",
          "plot_bgcolor": "#E5ECF6",
          "polar": {
           "angularaxis": {
            "gridcolor": "white",
            "linecolor": "white",
            "ticks": ""
           },
           "bgcolor": "#E5ECF6",
           "radialaxis": {
            "gridcolor": "white",
            "linecolor": "white",
            "ticks": ""
           }
          },
          "scene": {
           "xaxis": {
            "backgroundcolor": "#E5ECF6",
            "gridcolor": "white",
            "gridwidth": 2,
            "linecolor": "white",
            "showbackground": true,
            "ticks": "",
            "zerolinecolor": "white"
           },
           "yaxis": {
            "backgroundcolor": "#E5ECF6",
            "gridcolor": "white",
            "gridwidth": 2,
            "linecolor": "white",
            "showbackground": true,
            "ticks": "",
            "zerolinecolor": "white"
           },
           "zaxis": {
            "backgroundcolor": "#E5ECF6",
            "gridcolor": "white",
            "gridwidth": 2,
            "linecolor": "white",
            "showbackground": true,
            "ticks": "",
            "zerolinecolor": "white"
           }
          },
          "shapedefaults": {
           "line": {
            "color": "#2a3f5f"
           }
          },
          "ternary": {
           "aaxis": {
            "gridcolor": "white",
            "linecolor": "white",
            "ticks": ""
           },
           "baxis": {
            "gridcolor": "white",
            "linecolor": "white",
            "ticks": ""
           },
           "bgcolor": "#E5ECF6",
           "caxis": {
            "gridcolor": "white",
            "linecolor": "white",
            "ticks": ""
           }
          },
          "title": {
           "x": 0.05
          },
          "xaxis": {
           "automargin": true,
           "gridcolor": "white",
           "linecolor": "white",
           "ticks": "",
           "title": {
            "standoff": 15
           },
           "zerolinecolor": "white",
           "zerolinewidth": 2
          },
          "yaxis": {
           "automargin": true,
           "gridcolor": "white",
           "linecolor": "white",
           "ticks": "",
           "title": {
            "standoff": 15
           },
           "zerolinecolor": "white",
           "zerolinewidth": 2
          }
         }
        },
        "title": {
         "text": "Portfólio do Fundo Verde"
        },
        "width": 900,
        "xaxis": {
         "anchor": "y",
         "domain": [
          0,
          1
         ]
        },
        "xaxis10": {
         "anchor": "y10",
         "domain": [
          0,
          1
         ]
        },
        "xaxis11": {
         "anchor": "y11",
         "domain": [
          0,
          1
         ]
        },
        "xaxis12": {
         "anchor": "y12",
         "domain": [
          0,
          1
         ]
        },
        "xaxis13": {
         "anchor": "y13",
         "domain": [
          0,
          1
         ]
        },
        "xaxis2": {
         "anchor": "y2",
         "domain": [
          0,
          1
         ]
        },
        "xaxis3": {
         "anchor": "y3",
         "domain": [
          0,
          1
         ]
        },
        "xaxis4": {
         "anchor": "y4",
         "domain": [
          0,
          1
         ]
        },
        "xaxis5": {
         "anchor": "y5",
         "domain": [
          0,
          1
         ]
        },
        "xaxis6": {
         "anchor": "y6",
         "domain": [
          0,
          1
         ]
        },
        "xaxis7": {
         "anchor": "y7",
         "domain": [
          0,
          1
         ]
        },
        "xaxis8": {
         "anchor": "y8",
         "domain": [
          0,
          1
         ]
        },
        "xaxis9": {
         "anchor": "y9",
         "domain": [
          0,
          1
         ]
        },
        "yaxis": {
         "anchor": "x",
         "domain": [
          0.9415384615384615,
          1
         ]
        },
        "yaxis10": {
         "anchor": "x10",
         "domain": [
          0.2353846153846154,
          0.29384615384615387
         ]
        },
        "yaxis11": {
         "anchor": "x11",
         "domain": [
          0.15692307692307692,
          0.21538461538461537
         ]
        },
        "yaxis12": {
         "anchor": "x12",
         "domain": [
          0.07846153846153846,
          0.13692307692307693
         ]
        },
        "yaxis13": {
         "anchor": "x13",
         "domain": [
          0,
          0.05846153846153846
         ]
        },
        "yaxis2": {
         "anchor": "x2",
         "domain": [
          0.8630769230769231,
          0.9215384615384615
         ]
        },
        "yaxis3": {
         "anchor": "x3",
         "domain": [
          0.7846153846153847,
          0.8430769230769232
         ]
        },
        "yaxis4": {
         "anchor": "x4",
         "domain": [
          0.7061538461538461,
          0.7646153846153846
         ]
        },
        "yaxis5": {
         "anchor": "x5",
         "domain": [
          0.6276923076923077,
          0.6861538461538461
         ]
        },
        "yaxis6": {
         "anchor": "x6",
         "domain": [
          0.5492307692307692,
          0.6076923076923076
         ]
        },
        "yaxis7": {
         "anchor": "x7",
         "domain": [
          0.4707692307692308,
          0.5292307692307693
         ]
        },
        "yaxis8": {
         "anchor": "x8",
         "domain": [
          0.39230769230769236,
          0.4507692307692308
         ]
        },
        "yaxis9": {
         "anchor": "x9",
         "domain": [
          0.31384615384615383,
          0.3723076923076923
         ]
        }
       }
      }
     },
     "metadata": {},
     "output_type": "display_data"
    }
   ],
   "source": [
    "# Plotando o portfólio de cada mês\n",
    "plot_portfolio(df=portfolio_verde, nome_fundo='Verde')"
   ]
  },
  {
   "cell_type": "markdown",
   "metadata": {},
   "source": [
    "### Fundo Dynamo"
   ]
  },
  {
   "cell_type": "markdown",
   "metadata": {},
   "source": [
    "* https://maisretorno.com/fundo/dynamo-cougar-master-fia"
   ]
  },
  {
   "cell_type": "code",
   "execution_count": null,
   "metadata": {},
   "outputs": [],
   "source": [
    "# Rentabilidade mensal\n",
    "df_ret_mensal_dynamo = rentabilidade_fundo(df=df_inf_diario, cnpj='37.916.879/0001-26', nome_fundo='dynamo')[0]\n",
    "\n",
    "# Comparação de rentabilidade entre fundo e benchmark\n",
    "df_ret_mensal_dynamo_ibov = rentabilidade_fundo_benchmark(\n",
    "    df_fundo=df_ret_mensal_dynamo,\n",
    "    df_benchmark=df_ret_ibov_mensal,\n",
    "    nome_fundo='dynamo',\n",
    "    nome_benchmark='ibov'\n",
    ")\n",
    "\n",
    "df_ret_mensal_dynamo_ibov"
   ]
  },
  {
   "cell_type": "code",
   "execution_count": null,
   "metadata": {},
   "outputs": [],
   "source": [
    "# Rentabilidade anual\n",
    "df_ret_anual_dynamo = rentabilidade_fundo(df=df_inf_diario, cnpj='37.916.879/0001-26', nome_fundo='dynamo')[1]\n",
    "\n",
    "# Comparação de rentabilidade entre fundo e benchmark\n",
    "df_ret_anual_dynamo_ibov = rentabilidade_fundo_benchmark(\n",
    "    df_fundo=df_ret_anual_dynamo,\n",
    "    df_benchmark=df_ret_ibov_anual,\n",
    "    nome_fundo='dynamo',\n",
    "    nome_benchmark='ibov'\n",
    ")\n",
    "\n",
    "df_ret_anual_dynamo_ibov"
   ]
  },
  {
   "cell_type": "code",
   "execution_count": null,
   "metadata": {},
   "outputs": [],
   "source": [
    "dynamo_acoes, dynamo_bdr, dynamo_exterior, dynamo_cotas_fundos, dynamo_titulos_pub, dynamo_vendido_acoes = fundo_cnpj(df=df_ativos, cnpj='37.916.879/0001-26')\n",
    "dynamo_pl = pl_fundo(\n",
    "    path=f'C://Users//vitor//projetos_python//python_b3//historico-arquivos//fundos_investimentos//fundos_cvm//{ano}{mes}//cda_fi_PL_{ano}{mes}.parquet',\n",
    "    cnpj='37.916.879/0001-26'\n",
    ")\n",
    "\n",
    "# Quantos porcertos cada categoria representa do PL final\n",
    "pct_acoes = round(pd.Series(dynamo_acoes['VL_MERC_POS_FINAL'].sum() / dynamo_pl.values), 4) \n",
    "pct_bdr = round(pd.Series(dynamo_bdr['VL_MERC_POS_FINAL'].sum() / dynamo_pl.values), 4) \n",
    "pct_exterior = round(pd.Series(dynamo_exterior['VL_MERC_POS_FINAL'].sum() / dynamo_pl.values), 4) \n",
    "pct_cotas_fundos = round(pd.Series(dynamo_cotas_fundos['VL_MERC_POS_FINAL'].sum() / dynamo_pl.values), 4) \n",
    "pct_titulos_pub = round(pd.Series(dynamo_titulos_pub['VL_MERC_POS_FINAL'].sum() / dynamo_pl.values), 4) \n",
    "pct_vendido_acoes = round(pd.Series(dynamo_vendido_acoes['VL_MERC_POS_FINAL'].sum() / dynamo_pl.values), 4) \n",
    "\n",
    "# Criando a data do portfólio\n",
    "data = pd.to_datetime(f'{mes}-{ano}')\n",
    "\n",
    "# Adicionando a informação da porcentagem de cada categoria nos dfs\n",
    "# Ações\n",
    "linha_pct_acoes = {'DENOM_SOCIAL': 'PL% FUNDO', 'VL_MERC_POS_FINAL' : pct_acoes}\n",
    "df_linha_pct_acoes = pd.DataFrame(linha_pct_acoes)\n",
    "dynamo_acoes = pd.concat([dynamo_acoes, df_linha_pct_acoes])\n",
    "# Criando a coluna 'data' no df\n",
    "dynamo_acoes['data'] = data\n",
    "# Definindo a coluna 'data' como o index\n",
    "dynamo_acoes = dynamo_acoes.set_index('data')\n",
    "\n",
    "# BDRs\n",
    "linha_pct_bdr = {'DENOM_SOCIAL': 'PL% FUNDO', 'VL_MERC_POS_FINAL' : pct_bdr}\n",
    "df_linha_pct_bdr = pd.DataFrame(linha_pct_bdr)\n",
    "dynamo_bdr = pd.concat([dynamo_bdr, df_linha_pct_bdr])\n",
    "# Criando a coluna 'data' no df\n",
    "dynamo_bdr['data'] = data\n",
    "# Definindo a coluna 'data' como o index\n",
    "dynamo_bdr = dynamo_bdr.set_index('data')\n",
    "\n",
    "# Investimentos no Exterior\n",
    "linha_pct_exterior = {'DENOM_SOCIAL': 'PL% FUNDO', 'VL_MERC_POS_FINAL' : pct_exterior}\n",
    "df_linha_pct_exterior = pd.DataFrame(linha_pct_exterior)\n",
    "dynamo_exterior = pd.concat([dynamo_exterior, df_linha_pct_exterior])\n",
    "# Criando a coluna 'data' no df\n",
    "dynamo_exterior['data'] = data\n",
    "# Definindo a coluna 'data' como o index\n",
    "dynamo_exterior = dynamo_exterior.set_index('data')\n",
    "\n",
    "# Cotas de Fundos\n",
    "linha_pct_cotas_fundos = {'DENOM_SOCIAL': 'PL% FUNDO', 'VL_MERC_POS_FINAL' : pct_cotas_fundos}\n",
    "df_linha_pct_cotas_fundos = pd.DataFrame(linha_pct_cotas_fundos)\n",
    "dynamo_cotas_fundos = pd.concat([dynamo_cotas_fundos, df_linha_pct_cotas_fundos])\n",
    "# Criando a coluna 'data' no df\n",
    "dynamo_cotas_fundos['data'] = data\n",
    "# Definindo a coluna 'data' como o index\n",
    "dynamo_codynamo_cotas_fundos =dynamo_cotas_fundos.set_index('data')\n",
    "\n",
    "# Títulos Públicos\n",
    "linha_pct_titulos_pub = {'DENOM_SOCIAL': 'PL% FUNDO', 'VL_MERC_POS_FINAL' : pct_titulos_pub}\n",
    "df_linha_pct_titulos_pub = pd.DataFrame(linha_pct_titulos_pub)\n",
    "dynamo_titulos_pub = pd.concat([dynamo_titulos_pub, df_linha_pct_titulos_pub])\n",
    "# Criando a coluna 'data' no df\n",
    "dynamo_titulos_pub['data'] = data\n",
    "# Definindo a coluna 'data' como o index\n",
    "dynamo_titulos_pub = dynamo_titulos_pub.set_index('data')\n",
    "\n",
    "# Vendido Ações\n",
    "linha_pct_vendido_acoes = {'DENOM_SOCIAL': 'PL% FUNDO', 'VL_MERC_POS_FINAL' : pct_vendido_acoes}\n",
    "df_linha_pct_vendido_acoes = pd.DataFrame(linha_pct_vendido_acoes)\n",
    "dynamo_vendido_acoes = pd.concat([dynamo_vendido_acoes, df_linha_pct_vendido_acoes])\n",
    "# Criando a coluna 'data' no df\n",
    "dynamo_vendido_acoes['data'] = data\n",
    "# Definindo a coluna 'data' como o index\n",
    "dynamo_vendido_acoes = dynamo_vendido_acoes.set_index('data')"
   ]
  },
  {
   "cell_type": "code",
   "execution_count": null,
   "metadata": {},
   "outputs": [],
   "source": [
    "# Criando o arquivo excel em que cada categoria está em uma aba diferente\n",
    "with pd.ExcelWriter(f'C://Users//vitor//projetos_python//python_b3//composicao-fundos-de-investimentos//fundo_investimento//dynamo//fundo_dynamo_{ano}{mes}.xlsx') as writer:\n",
    "    dynamo_acoes.to_excel(writer, sheet_name='acoes')\n",
    "    dynamo_bdr.to_excel(writer, sheet_name='bdr')\n",
    "    dynamo_exterior.to_excel(writer, sheet_name='exterior')\n",
    "    dynamo_cotas_fundos.to_excel(writer, sheet_name='cota_fundos')\n",
    "    dynamo_titulos_pub.to_excel(writer, sheet_name='titulos_publicos')\n",
    "    dynamo_vendido_acoes.to_excel(writer, sheet_name='vendido_acoes')"
   ]
  },
  {
   "cell_type": "code",
   "execution_count": null,
   "metadata": {},
   "outputs": [],
   "source": [
    "# Caminho da pasta do fundo Dynamo\n",
    "path_dynamo = 'C:\\\\Users\\\\vitor\\\\projetos_python\\\\python_b3\\\\composicao-fundos-de-investimentos\\\\fundo_investimento\\\\dynamo\\\\'\n",
    "\n",
    "# Caminho completo de todos os arquivos que estão na pasta\n",
    "paths_arquivos_dynamo = glob.glob(path_dynamo + '*.xlsx')\n",
    "\n",
    "lst_dfs = []\n",
    "for path in paths_arquivos_dynamo:\n",
    "    df = pd.read_excel(path, sheet_name='acoes')\n",
    "    lst_dfs.append(df)\n",
    "\n",
    "# Concatendo os dfs de ações\n",
    "portfolio_dynamo = pd.concat(lst_dfs, ignore_index=True)\n",
    "\n",
    "# Retirando as ações que não tem nenhum dinheiro alocado e os NAN\n",
    "portfolio_dynamo = portfolio_dynamo[portfolio_dynamo['VL_MERC_POS_FINAL'] != 0]\n",
    "portfolio_dynamo = portfolio_dynamo.dropna()\n",
    "\n",
    "# Definindo a coluna 'data' como o index\n",
    "portfolio_dynamo = portfolio_dynamo.set_index('data')\n",
    "portfolio_dynamo"
   ]
  },
  {
   "cell_type": "code",
   "execution_count": null,
   "metadata": {},
   "outputs": [],
   "source": [
    "# Selecionando o conjunto de ações (portfólio) de cada mês - retornando um df com vários dicionários\n",
    "portfolio_mensal = portfolio_dynamo.groupby('data')['CD_ATIVO'].apply(set)\n",
    "\n",
    "# Convertendo o GroupBy resultante em DataFrame para facilitar a iteração\n",
    "portfolio_mensal = portfolio_mensal.reset_index()\n",
    "\n",
    "# Comparando o portfólio de cada mês\n",
    "comparar_portfolios(df=portfolio_mensal, nome_fundo='Dynamo')"
   ]
  },
  {
   "cell_type": "code",
   "execution_count": null,
   "metadata": {},
   "outputs": [],
   "source": [
    "# Número total de ações de cada mês do portfpolio\n",
    "num_total_acoes(df=portfolio_dynamo)"
   ]
  },
  {
   "cell_type": "code",
   "execution_count": null,
   "metadata": {},
   "outputs": [],
   "source": [
    "# Rank das 5 maiores ações do fundo\n",
    "rank_top_5(df=portfolio_dynamo)"
   ]
  },
  {
   "cell_type": "code",
   "execution_count": null,
   "metadata": {},
   "outputs": [],
   "source": [
    "# Plotando o portfólio de cada mês\n",
    "plot_portfolio(df=portfolio_dynamo, nome_fundo='Dynamo')"
   ]
  },
  {
   "cell_type": "markdown",
   "metadata": {},
   "source": [
    "### Fundo IP"
   ]
  },
  {
   "cell_type": "markdown",
   "metadata": {},
   "source": [
    "* https://maisretorno.com/fundo/ip-participacoes-master-fia-bdr-nivel-i"
   ]
  },
  {
   "cell_type": "code",
   "execution_count": null,
   "metadata": {},
   "outputs": [],
   "source": [
    "# Rentabilidade mensal\n",
    "df_ret_mensal_ip = rentabilidade_fundo(df=df_inf_diario, cnpj='11.435.298/0001-89', nome_fundo='ip')[0]\n",
    "\n",
    "# Comparação de rentabilidade entre fundo e benchmark\n",
    "df_ret_mensal_ip_ibov = rentabilidade_fundo_benchmark(\n",
    "    df_fundo=df_ret_mensal_ip,\n",
    "    df_benchmark=df_ret_ibov_mensal,\n",
    "    nome_fundo='ip',\n",
    "    nome_benchmark='ibov'\n",
    ")\n",
    "\n",
    "df_ret_mensal_ip_ibov"
   ]
  },
  {
   "cell_type": "code",
   "execution_count": null,
   "metadata": {},
   "outputs": [],
   "source": [
    "# Rentabilidade anual\n",
    "df_ret_anual_ip = rentabilidade_fundo(df=df_inf_diario, cnpj='11.435.298/0001-89', nome_fundo='ip')[1]\n",
    "\n",
    "# Comparação de rentabilidade entre fundo e benchmark\n",
    "df_ret_anual_ip_ibov = rentabilidade_fundo_benchmark(\n",
    "    df_fundo=df_ret_anual_ip,\n",
    "    df_benchmark=df_ret_ibov_anual,\n",
    "    nome_fundo='ip',\n",
    "    nome_benchmark='ibov'\n",
    ")\n",
    "\n",
    "df_ret_anual_ip_ibov"
   ]
  },
  {
   "cell_type": "code",
   "execution_count": null,
   "metadata": {},
   "outputs": [],
   "source": [
    "ip_acoes, ip_bdr, ip_exterior, ip_cotas_fundos, ip_titulos_pub, ip_vendido_acoes = fundo_cnpj(df=df_ativos, cnpj='11.435.298/0001-89')\n",
    "ip_pl = pl_fundo(\n",
    "    path=f'C://Users//vitor//projetos_python//python_b3//historico-arquivos//fundos_investimentos//fundos_cvm//{ano}{mes}//cda_fi_PL_{ano}{mes}.parquet', \n",
    "    cnpj='11.435.298/0001-89'\n",
    ")\n",
    "\n",
    "# Quantos porcertos cada categoria representa do PL final\n",
    "pct_acoes = round(pd.Series(ip_acoes['VL_MERC_POS_FINAL'].sum() / ip_pl.values), 4) \n",
    "pct_bdr = round(pd.Series(ip_bdr['VL_MERC_POS_FINAL'].sum() / ip_pl.values), 4) \n",
    "pct_exterior = round(pd.Series(ip_exterior['VL_MERC_POS_FINAL'].sum() / ip_pl.values), 4) \n",
    "pct_cotas_fundos = round(pd.Series(ip_cotas_fundos['VL_MERC_POS_FINAL'].sum() / ip_pl.values), 4) \n",
    "pct_titulos_pub = round(pd.Series(ip_titulos_pub['VL_MERC_POS_FINAL'].sum() / ip_pl.values), 4) \n",
    "pct_vendido_acoes = round(pd.Series(ip_vendido_acoes['VL_MERC_POS_FINAL'].sum() / ip_pl.values), 4) \n",
    "\n",
    "# Criando a data do portfólio\n",
    "data = pd.to_datetime(f'{mes}-{ano}')\n",
    "\n",
    "# Adicionando a informação da porcentagem de cada categoria nos dfs\n",
    "# Ações\n",
    "linha_pct_acoes = {'DENOM_SOCIAL': 'PL% FUNDO', 'VL_MERC_POS_FINAL' : pct_acoes}\n",
    "df_linha_pct_acoes = pd.DataFrame(linha_pct_acoes)\n",
    "ip_acoes = pd.concat([ip_acoes, df_linha_pct_acoes])\n",
    "# Criando a coluna 'data' no df\n",
    "ip_acoes['data'] = data\n",
    "# Definindo a coluna 'data' como o index\n",
    "ip_acoes = ip_acoes.set_index('data')\n",
    "\n",
    "# BDRs\n",
    "linha_pct_bdr = {'DENOM_SOCIAL': 'PL% FUNDO', 'VL_MERC_POS_FINAL' : pct_bdr}\n",
    "df_linha_pct_bdr = pd.DataFrame(linha_pct_bdr)\n",
    "ip_bdr = pd.concat([ip_bdr, df_linha_pct_bdr])\n",
    "# Criando a coluna 'data' no df\n",
    "ip_bdr['data'] = data\n",
    "# Definindo a coluna 'data' como o index\n",
    "ip_bdr = ip_bdr.set_index('data')\n",
    "\n",
    "# Investimentos no Exterior\n",
    "linha_pct_exterior = {'DENOM_SOCIAL': 'PL% FUNDO', 'VL_MERC_POS_FINAL' : pct_exterior}\n",
    "df_linha_pct_exterior = pd.DataFrame(linha_pct_exterior)\n",
    "ip_exterior = pd.concat([ip_exterior, df_linha_pct_exterior])\n",
    "# Criando a coluna 'data' no df\n",
    "ip_exterior['data'] = data\n",
    "# Definindo a coluna 'data' como o index\n",
    "ip_exterior = ip_exterior.set_index('data')\n",
    "\n",
    "# Cotas de Fundos\n",
    "linha_pct_cotas_fundos = {'DENOM_SOCIAL': 'PL% FUNDO', 'VL_MERC_POS_FINAL' : pct_cotas_fundos}\n",
    "df_linha_pct_cotas_fundos = pd.DataFrame(linha_pct_cotas_fundos)\n",
    "ip_cotas_fundos = pd.concat([ip_cotas_fundos, df_linha_pct_cotas_fundos])\n",
    "# Criando a coluna 'data' no df\n",
    "ip_cotas_fundos['data'] = data\n",
    "# Definindo a coluna 'data' como o index\n",
    "ip_cotas_fundos = ip_cotas_fundos.set_index('data')\n",
    "\n",
    "# Títulos Públicos\n",
    "linha_pct_titulos_pub = {'DENOM_SOCIAL': 'PL% FUNDO', 'VL_MERC_POS_FINAL' : pct_titulos_pub}\n",
    "df_linha_pct_titulos_pub = pd.DataFrame(linha_pct_titulos_pub)\n",
    "ip_titulos_pub = pd.concat([ip_titulos_pub, df_linha_pct_titulos_pub])\n",
    "# Criando a coluna 'data' no df\n",
    "ip_titulos_pub['data'] = data\n",
    "# Definindo a coluna 'data' como o index\n",
    "ip_titulos_pub = ip_titulos_pub.set_index('data')\n",
    "\n",
    "# Vendido Ações\n",
    "linha_pct_vendido_acoes = {'DENOM_SOCIAL': 'PL% FUNDO', 'VL_MERC_POS_FINAL' : pct_vendido_acoes}\n",
    "df_linha_pct_vendido_acoes = pd.DataFrame(linha_pct_vendido_acoes)\n",
    "ip_vendido_acoes = pd.concat([ip_vendido_acoes, df_linha_pct_vendido_acoes])\n",
    "# Criando a coluna 'data' no df\n",
    "ip_vendido_acoes['data'] = data\n",
    "# Definindo a coluna 'data' como o index\n",
    "ip_vendido_acoes = ip_vendido_acoes.set_index('data')"
   ]
  },
  {
   "cell_type": "code",
   "execution_count": null,
   "metadata": {},
   "outputs": [],
   "source": [
    "# Criando o arquivo excel em que cada categoria está em uma aba diferente\n",
    "with pd.ExcelWriter(f'C://Users//vitor//projetos_python//python_b3//composicao-fundos-de-investimentos//fundo_investimento//ip//fundo_ip_{ano}{mes}.xlsx') as writer:\n",
    "    ip_acoes.to_excel(writer, sheet_name='acoes')\n",
    "    ip_bdr.to_excel(writer, sheet_name='bdr')\n",
    "    ip_exterior.to_excel(writer, sheet_name='exterior')\n",
    "    ip_cotas_fundos.to_excel(writer, sheet_name='cota_fundos')\n",
    "    ip_titulos_pub.to_excel(writer, sheet_name='titulos_publicos')\n",
    "    ip_vendido_acoes.to_excel(writer, sheet_name='vendido_acoes')"
   ]
  },
  {
   "cell_type": "code",
   "execution_count": null,
   "metadata": {},
   "outputs": [],
   "source": [
    "# Caminho da pasta do fundo IP\n",
    "path_ip = 'C:\\\\Users\\\\vitor\\\\projetos_python\\\\python_b3\\\\composicao-fundos-de-investimentos\\\\fundo_investimento\\\\ip\\\\'\n",
    "\n",
    "# Caminho completo de todos os arquivos que estão na pasta\n",
    "paths_arquivos_ip = glob.glob(path_ip + '*.xlsx')\n",
    "\n",
    "lst_dfs = []\n",
    "for path in paths_arquivos_ip:\n",
    "    df = pd.read_excel(path, sheet_name='bdr')\n",
    "    lst_dfs.append(df)\n",
    "\n",
    "# Concatendo os dfs de bdrs\n",
    "portfolio_ip = pd.concat(lst_dfs, ignore_index=True)\n",
    "\n",
    "# Retirando as bdrs que não tem nenhum dinheiro alocado e os NAN\n",
    "portfolio_ip = portfolio_ip[portfolio_ip['VL_MERC_POS_FINAL'] != 0]\n",
    "portfolio_ip = portfolio_ip.dropna()\n",
    "\n",
    "# Definindo a coluna 'data' como o index\n",
    "portfolio_ip = portfolio_ip.set_index('data')\n",
    "portfolio_ip"
   ]
  },
  {
   "cell_type": "code",
   "execution_count": null,
   "metadata": {},
   "outputs": [],
   "source": [
    "# Selecionando o conjunto de ações (portfólio) de cada mês - retornando um df com vários dicionários\n",
    "portfolio_mensal = portfolio_ip.groupby('data')['CD_ATIVO'].apply(set)\n",
    "\n",
    "# Convertendo o GroupBy resultante em DataFrame para facilitar a iteração\n",
    "portfolio_mensal = portfolio_mensal.reset_index()\n",
    "\n",
    "# Comparando o portfólio de cada mês\n",
    "comparar_portfolios(df=portfolio_mensal, nome_fundo='IP')"
   ]
  },
  {
   "cell_type": "code",
   "execution_count": null,
   "metadata": {},
   "outputs": [],
   "source": [
    "# Número total de ações de cada mês do portfpolio\n",
    "num_total_acoes(df=portfolio_ip)"
   ]
  },
  {
   "cell_type": "code",
   "execution_count": null,
   "metadata": {},
   "outputs": [],
   "source": [
    "# Rank das 5 maiores ações do fundo\n",
    "rank_top_5(df=portfolio_ip)"
   ]
  },
  {
   "cell_type": "code",
   "execution_count": null,
   "metadata": {},
   "outputs": [],
   "source": [
    "# Plotando o portfólio de cada mês\n",
    "plot_portfolio(df=portfolio_ip, nome_fundo='IP')"
   ]
  },
  {
   "cell_type": "markdown",
   "metadata": {},
   "source": [
    "### Fundo Squadra"
   ]
  },
  {
   "cell_type": "markdown",
   "metadata": {},
   "source": [
    "* https://maisretorno.com/fundo/squadra-master-long-biased-fia\n",
    "* Famosos pelos shorts de:\n",
    "    * IRBR - 05/2018\n",
    "    * AERI3 - 01/2021\n",
    "    * Nubank"
   ]
  },
  {
   "cell_type": "code",
   "execution_count": null,
   "metadata": {},
   "outputs": [],
   "source": [
    "# Rentabilidade mensal\n",
    "df_ret_mensal_squadra = rentabilidade_fundo(df=df_inf_diario, cnpj='09.412.648/0001-40', nome_fundo='squadra')[0]\n",
    "\n",
    "# Comparação de rentabilidade entre fundo e benchmark\n",
    "df_ret_mensal_squadra_ibov = rentabilidade_fundo_benchmark(\n",
    "    df_fundo=df_ret_mensal_squadra,\n",
    "    df_benchmark=df_ret_ibov_mensal,\n",
    "    nome_fundo='squadra',\n",
    "    nome_benchmark='ibov'\n",
    ")\n",
    "\n",
    "df_ret_mensal_squadra_ibov"
   ]
  },
  {
   "cell_type": "code",
   "execution_count": null,
   "metadata": {},
   "outputs": [],
   "source": [
    "# Rentabilidade anual\n",
    "df_ret_anual_squadra = rentabilidade_fundo(df=df_inf_diario, cnpj='09.412.648/0001-40', nome_fundo='squadra')[1]\n",
    "\n",
    "# Comparação de rentabilidade entre fundo e benchmark\n",
    "df_ret_anual_squadra_ibov = rentabilidade_fundo_benchmark(\n",
    "    df_fundo=df_ret_anual_squadra,\n",
    "    df_benchmark=df_ret_ibov_anual,\n",
    "    nome_fundo='squadra',\n",
    "    nome_benchmark='ibov'\n",
    ")\n",
    "\n",
    "df_ret_anual_squadra_ibov"
   ]
  },
  {
   "cell_type": "code",
   "execution_count": 118,
   "metadata": {},
   "outputs": [],
   "source": [
    "squadra_acoes, squadra_bdr, squadra_exterior, squadra_cotas_fundos, squadra_titulos_pub, squadra_vendido_acoes = fundo_cnpj(df=df_ativos, cnpj='09.412.648/0001-40')\n",
    "squadra_pl = pl_fundo(\n",
    "    path=f'C://Users//vitor//projetos_python//python_b3//historico-arquivos//fundos_investimentos//fundos_cvm//{ano}{mes}//cda_fi_PL_{ano}{mes}.parquet', \n",
    "    cnpj='09.412.648/0001-40'\n",
    ")\n",
    "\n",
    "# Quantos porcertos cada categoria representa do PL final\n",
    "pct_acoes = round(pd.Series(squadra_acoes['VL_MERC_POS_FINAL'].sum() / squadra_pl.values), 4) \n",
    "pct_bdr = round(pd.Series(squadra_bdr['VL_MERC_POS_FINAL'].sum() / squadra_pl.values), 4) \n",
    "pct_exterior = round(pd.Series(squadra_exterior['VL_MERC_POS_FINAL'].sum() / squadra_pl.values), 4) \n",
    "pct_cotas_fundos = round(pd.Series(squadra_cotas_fundos['VL_MERC_POS_FINAL'].sum() / squadra_pl.values), 4) \n",
    "pct_titulos_pub = round(pd.Series(squadra_titulos_pub['VL_MERC_POS_FINAL'].sum() / squadra_pl.values), 4) \n",
    "pct_vendido_acoes = round(pd.Series(squadra_vendido_acoes['VL_MERC_POS_FINAL'].sum() / squadra_pl.values), 4) \n",
    "\n",
    "# Criando a data do portfólio\n",
    "data = pd.to_datetime(f'{mes}-{ano}')\n",
    "\n",
    "# Adicionando a informação da porcentagem de cada categoria nos dfs\n",
    "# Ações\n",
    "linha_pct_acoes = {'DENOM_SOCIAL': 'PL% FUNDO', 'VL_MERC_POS_FINAL' : pct_acoes}\n",
    "df_linha_pct_acoes = pd.DataFrame(linha_pct_acoes)\n",
    "squadra_acoes = pd.concat([squadra_acoes, df_linha_pct_acoes], ignore_index=True)\n",
    "# Criando a coluna 'data' no df\n",
    "squadra_acoes['data'] = data\n",
    "# Definindo a coluna 'data' como o index\n",
    "squadra_acoes = squadra_acoes.set_index('data')\n",
    "\n",
    "# BDRs\n",
    "linha_pct_bdr = {'DENOM_SOCIAL': 'PL% FUNDO', 'VL_MERC_POS_FINAL' : pct_bdr}\n",
    "df_linha_pct_bdr = pd.DataFrame(linha_pct_bdr)\n",
    "squadra_bdr = pd.concat([squadra_bdr, df_linha_pct_bdr], ignore_index=True)\n",
    "# Criando a coluna 'data' no df\n",
    "squadra_bdr['data'] = data\n",
    "# Definindo a coluna 'data' como o index\n",
    "squadra_bdr = squadra_bdr.set_index('data')\n",
    "\n",
    "# Investimentos no Exterior\n",
    "linha_pct_exterior = {'DENOM_SOCIAL': 'PL% FUNDO', 'VL_MERC_POS_FINAL' : pct_exterior}\n",
    "df_linha_pct_exterior = pd.DataFrame(linha_pct_exterior)\n",
    "squadra_exterior = pd.concat([squadra_exterior, df_linha_pct_exterior], ignore_index=True)\n",
    "# Criando a coluna 'data' no df\n",
    "squadra_exterior['data'] = data\n",
    "# Definindo a coluna 'data' como o index\n",
    "squadra_exterior = squadra_exterior.set_index('data')\n",
    "\n",
    "# Cotas de Fundos\n",
    "linha_pct_cotas_fundos = {'DENOM_SOCIAL': 'PL% FUNDO', 'VL_MERC_POS_FINAL' : pct_cotas_fundos}\n",
    "df_linha_pct_cotas_fundos = pd.DataFrame(linha_pct_cotas_fundos)\n",
    "squadra_cotas_fundos = pd.concat([squadra_cotas_fundos, df_linha_pct_cotas_fundos], ignore_index=True)\n",
    "# Criando a coluna 'data' no df\n",
    "squadra_cotas_fundos['data'] = data\n",
    "# Definindo a coluna 'data' como o index\n",
    "squadra_cotas_fundos = squadra_cotas_fundos.set_index('data')\n",
    "\n",
    "# Títulos Públicos\n",
    "linha_pct_titulos_pub = {'DENOM_SOCIAL': 'PL% FUNDO', 'VL_MERC_POS_FINAL' : pct_titulos_pub}\n",
    "df_linha_pct_titulos_pub = pd.DataFrame(linha_pct_titulos_pub)\n",
    "squadra_titulos_pub = pd.concat([squadra_titulos_pub, df_linha_pct_titulos_pub], ignore_index=True)\n",
    "# Criando a coluna 'data' no df\n",
    "squadra_titulos_pub['data'] = data\n",
    "# Definindo a coluna 'data' como o index\n",
    "squadra_titulos_pub = squadra_titulos_pub.set_index('data')\n",
    "\n",
    "# Vendido Ações\n",
    "linha_pct_vendido_acoes = {'DENOM_SOCIAL': 'PL% FUNDO', 'VL_MERC_POS_FINAL' : pct_vendido_acoes}\n",
    "df_linha_pct_vendido_acoes = pd.DataFrame(linha_pct_vendido_acoes)\n",
    "squadra_vendido_acoes = pd.concat([squadra_vendido_acoes, df_linha_pct_vendido_acoes], ignore_index=True)\n",
    "# Criando a coluna 'data' no df\n",
    "squadra_vendido_acoes['data'] = data\n",
    "# Definindo a coluna 'data' como o index\n",
    "squadra_vendido_acoes = squadra_vendido_acoes.set_index('data')"
   ]
  },
  {
   "cell_type": "code",
   "execution_count": null,
   "metadata": {},
   "outputs": [],
   "source": [
    "# Criando o arquivo excel em que cada categoria está em uma aba diferente\n",
    "with pd.ExcelWriter(f'C://Users//vitor//projetos_python//python_b3//composicao-fundos-de-investimentos//fundo_investimento//squadra//fundo_squadra_{ano}{mes}.xlsx') as writer:\n",
    "    squadra_acoes.to_excel(writer, sheet_name='acoes')\n",
    "    squadra_bdr.to_excel(writer, sheet_name='bdr')\n",
    "    squadra_exterior.to_excel(writer, sheet_name='exterior')\n",
    "    squadra_cotas_fundos.to_excel(writer, sheet_name='cota_fundos')\n",
    "    squadra_titulos_pub.to_excel(writer, sheet_name='titulos_publicos')\n",
    "    squadra_vendido_acoes.to_excel(writer, sheet_name='vendido_acoes')"
   ]
  },
  {
   "cell_type": "code",
   "execution_count": 121,
   "metadata": {},
   "outputs": [
    {
     "data": {
      "text/html": [
       "<div>\n",
       "<style scoped>\n",
       "    .dataframe tbody tr th:only-of-type {\n",
       "        vertical-align: middle;\n",
       "    }\n",
       "\n",
       "    .dataframe tbody tr th {\n",
       "        vertical-align: top;\n",
       "    }\n",
       "\n",
       "    .dataframe thead th {\n",
       "        text-align: right;\n",
       "    }\n",
       "</style>\n",
       "<table border=\"1\" class=\"dataframe\">\n",
       "  <thead>\n",
       "    <tr style=\"text-align: right;\">\n",
       "      <th></th>\n",
       "      <th>DENOM_SOCIAL</th>\n",
       "      <th>CD_ATIVO</th>\n",
       "      <th>PORCENTAGEM</th>\n",
       "      <th>VL_MERC_POS_FINAL</th>\n",
       "    </tr>\n",
       "    <tr>\n",
       "      <th>data</th>\n",
       "      <th></th>\n",
       "      <th></th>\n",
       "      <th></th>\n",
       "      <th></th>\n",
       "    </tr>\n",
       "  </thead>\n",
       "  <tbody>\n",
       "    <tr>\n",
       "      <th>2023-01-01</th>\n",
       "      <td>SQUADRA MASTER LONG-BIASED FUNDO DE INVESTIMEN...</td>\n",
       "      <td>EQTL3</td>\n",
       "      <td>0.247564</td>\n",
       "      <td>4.684867e+08</td>\n",
       "    </tr>\n",
       "    <tr>\n",
       "      <th>2023-01-01</th>\n",
       "      <td>SQUADRA MASTER LONG-BIASED FUNDO DE INVESTIMEN...</td>\n",
       "      <td>PRIO3</td>\n",
       "      <td>0.101156</td>\n",
       "      <td>1.914264e+08</td>\n",
       "    </tr>\n",
       "    <tr>\n",
       "      <th>2023-01-01</th>\n",
       "      <td>SQUADRA MASTER LONG-BIASED FUNDO DE INVESTIMEN...</td>\n",
       "      <td>RAIL3</td>\n",
       "      <td>0.098252</td>\n",
       "      <td>1.859313e+08</td>\n",
       "    </tr>\n",
       "    <tr>\n",
       "      <th>2023-01-01</th>\n",
       "      <td>SQUADRA MASTER LONG-BIASED FUNDO DE INVESTIMEN...</td>\n",
       "      <td>GMAT3</td>\n",
       "      <td>0.086300</td>\n",
       "      <td>1.633124e+08</td>\n",
       "    </tr>\n",
       "    <tr>\n",
       "      <th>2023-01-01</th>\n",
       "      <td>SQUADRA MASTER LONG-BIASED FUNDO DE INVESTIMEN...</td>\n",
       "      <td>GGPS3</td>\n",
       "      <td>0.078096</td>\n",
       "      <td>1.477881e+08</td>\n",
       "    </tr>\n",
       "    <tr>\n",
       "      <th>...</th>\n",
       "      <td>...</td>\n",
       "      <td>...</td>\n",
       "      <td>...</td>\n",
       "      <td>...</td>\n",
       "    </tr>\n",
       "    <tr>\n",
       "      <th>2024-01-01</th>\n",
       "      <td>SQUADRA MASTER LONG-BIASED FUNDO DE INVESTIMEN...</td>\n",
       "      <td>NTCO3</td>\n",
       "      <td>0.001521</td>\n",
       "      <td>3.427856e+06</td>\n",
       "    </tr>\n",
       "    <tr>\n",
       "      <th>2024-01-01</th>\n",
       "      <td>SQUADRA MASTER LONG-BIASED FUNDO DE INVESTIMEN...</td>\n",
       "      <td>FIEI3</td>\n",
       "      <td>0.000641</td>\n",
       "      <td>1.443189e+06</td>\n",
       "    </tr>\n",
       "    <tr>\n",
       "      <th>2024-01-01</th>\n",
       "      <td>SQUADRA MASTER LONG-BIASED FUNDO DE INVESTIMEN...</td>\n",
       "      <td>ABEV3</td>\n",
       "      <td>0.000590</td>\n",
       "      <td>1.330406e+06</td>\n",
       "    </tr>\n",
       "    <tr>\n",
       "      <th>2024-01-01</th>\n",
       "      <td>SQUADRA MASTER LONG-BIASED FUNDO DE INVESTIMEN...</td>\n",
       "      <td>RDOR3</td>\n",
       "      <td>0.000512</td>\n",
       "      <td>1.154391e+06</td>\n",
       "    </tr>\n",
       "    <tr>\n",
       "      <th>2024-01-01</th>\n",
       "      <td>SQUADRA MASTER LONG-BIASED FUNDO DE INVESTIMEN...</td>\n",
       "      <td>RENT3</td>\n",
       "      <td>0.000357</td>\n",
       "      <td>8.051974e+05</td>\n",
       "    </tr>\n",
       "  </tbody>\n",
       "</table>\n",
       "<p>315 rows × 4 columns</p>\n",
       "</div>"
      ],
      "text/plain": [
       "                                                 DENOM_SOCIAL CD_ATIVO  \\\n",
       "data                                                                     \n",
       "2023-01-01  SQUADRA MASTER LONG-BIASED FUNDO DE INVESTIMEN...    EQTL3   \n",
       "2023-01-01  SQUADRA MASTER LONG-BIASED FUNDO DE INVESTIMEN...    PRIO3   \n",
       "2023-01-01  SQUADRA MASTER LONG-BIASED FUNDO DE INVESTIMEN...    RAIL3   \n",
       "2023-01-01  SQUADRA MASTER LONG-BIASED FUNDO DE INVESTIMEN...    GMAT3   \n",
       "2023-01-01  SQUADRA MASTER LONG-BIASED FUNDO DE INVESTIMEN...    GGPS3   \n",
       "...                                                       ...      ...   \n",
       "2024-01-01  SQUADRA MASTER LONG-BIASED FUNDO DE INVESTIMEN...    NTCO3   \n",
       "2024-01-01  SQUADRA MASTER LONG-BIASED FUNDO DE INVESTIMEN...    FIEI3   \n",
       "2024-01-01  SQUADRA MASTER LONG-BIASED FUNDO DE INVESTIMEN...    ABEV3   \n",
       "2024-01-01  SQUADRA MASTER LONG-BIASED FUNDO DE INVESTIMEN...    RDOR3   \n",
       "2024-01-01  SQUADRA MASTER LONG-BIASED FUNDO DE INVESTIMEN...    RENT3   \n",
       "\n",
       "            PORCENTAGEM  VL_MERC_POS_FINAL  \n",
       "data                                        \n",
       "2023-01-01     0.247564       4.684867e+08  \n",
       "2023-01-01     0.101156       1.914264e+08  \n",
       "2023-01-01     0.098252       1.859313e+08  \n",
       "2023-01-01     0.086300       1.633124e+08  \n",
       "2023-01-01     0.078096       1.477881e+08  \n",
       "...                 ...                ...  \n",
       "2024-01-01     0.001521       3.427856e+06  \n",
       "2024-01-01     0.000641       1.443189e+06  \n",
       "2024-01-01     0.000590       1.330406e+06  \n",
       "2024-01-01     0.000512       1.154391e+06  \n",
       "2024-01-01     0.000357       8.051974e+05  \n",
       "\n",
       "[315 rows x 4 columns]"
      ]
     },
     "execution_count": 121,
     "metadata": {},
     "output_type": "execute_result"
    }
   ],
   "source": [
    "# Caminho da pasta do fundo Squadra\n",
    "path_squadra = 'C:\\\\Users\\\\vitor\\\\projetos_python\\\\python_b3\\\\composicao-fundos-de-investimentos\\\\fundo_investimento\\\\squadra\\\\'\n",
    "\n",
    "# Caminho completo de todos os arquivos que estão na pasta\n",
    "paths_arquivos_squadra = glob.glob(path_squadra + '*.xlsx')\n",
    "\n",
    "lst_dfs = []\n",
    "for path in paths_arquivos_squadra:\n",
    "    df = pd.read_excel(path, sheet_name='acoes')\n",
    "    lst_dfs.append(df)\n",
    "\n",
    "# Concatendo os dfs de ações\n",
    "portfolio_squadra = pd.concat(lst_dfs, ignore_index=True)\n",
    "\n",
    "# Retirando as ações que não tem nenhum dinheiro alocado e os NAN\n",
    "portfolio_squadra = portfolio_squadra[portfolio_squadra['VL_MERC_POS_FINAL'] != 0]\n",
    "portfolio_squadra = portfolio_squadra.dropna()\n",
    "\n",
    "# Definindo a coluna 'data' como o index\n",
    "portfolio_squadra = portfolio_squadra.set_index('data')\n",
    "portfolio_squadra"
   ]
  },
  {
   "cell_type": "code",
   "execution_count": 122,
   "metadata": {},
   "outputs": [
    {
     "name": "stdout",
     "output_type": "stream",
     "text": [
      "Comparando o portfólio de 01/2023 e 02/2023:\n",
      "O Squadra vendeu as ações: set()\n",
      "O Squadra comprou as ações: {'VIIA3', 'MGLU3', 'PETZ3', 'INTB3'}\n",
      "--------------------------------------------------------------------------------\n",
      "Comparando o portfólio de 02/2023 e 03/2023:\n",
      "O Squadra vendeu as ações: {'B3SA3', 'PETZ3', 'ENEV3'}\n",
      "O Squadra comprou as ações: {'WEGE3'}\n",
      "--------------------------------------------------------------------------------\n",
      "Comparando o portfólio de 03/2023 e 04/2023:\n",
      "O Squadra vendeu as ações: {'LWSA3'}\n",
      "O Squadra comprou as ações: {'PETZ3', 'CXSE3'}\n",
      "--------------------------------------------------------------------------------\n",
      "Comparando o portfólio de 04/2023 e 05/2023:\n",
      "O Squadra vendeu as ações: {'CRFB3', 'ITUB4', 'MULT3', 'CXSE3'}\n",
      "O Squadra comprou as ações: {'RDOR3'}\n",
      "--------------------------------------------------------------------------------\n",
      "Comparando o portfólio de 05/2023 e 06/2023:\n",
      "O Squadra vendeu as ações: {'CRDE3'}\n",
      "O Squadra comprou as ações: {'ASAI3', 'LWSA3', 'FIEI3'}\n",
      "--------------------------------------------------------------------------------\n",
      "Comparando o portfólio de 06/2023 e 07/2023:\n",
      "O Squadra vendeu as ações: set()\n",
      "O Squadra comprou as ações: set()\n",
      "--------------------------------------------------------------------------------\n",
      "Comparando o portfólio de 07/2023 e 08/2023:\n",
      "O Squadra vendeu as ações: {'ASAI3'}\n",
      "O Squadra comprou as ações: {'CPLE6', 'BBDC4', 'CPLE3', 'ELET6', 'ELET3'}\n",
      "--------------------------------------------------------------------------------\n",
      "Comparando o portfólio de 08/2023 e 09/2023:\n",
      "O Squadra vendeu as ações: {'VIIA3', 'ALSO3', 'LWSA3'}\n",
      "O Squadra comprou as ações: {'IRBR3', 'BHIA3'}\n",
      "--------------------------------------------------------------------------------\n",
      "Comparando o portfólio de 09/2023 e 10/2023:\n",
      "O Squadra vendeu as ações: {'INTB3'}\n",
      "O Squadra comprou as ações: {'ITUB4'}\n",
      "--------------------------------------------------------------------------------\n",
      "Comparando o portfólio de 10/2023 e 11/2023:\n",
      "O Squadra vendeu as ações: {'ELET6'}\n",
      "O Squadra comprou as ações: set()\n",
      "--------------------------------------------------------------------------------\n",
      "Comparando o portfólio de 11/2023 e 12/2023:\n",
      "O Squadra vendeu as ações: {'ITUB4', 'ELET3', 'RENT3'}\n",
      "O Squadra comprou as ações: {'CRFB3', 'NTCO3'}\n",
      "--------------------------------------------------------------------------------\n",
      "Comparando o portfólio de 12/2023 e 01/2024:\n",
      "O Squadra vendeu as ações: {'BHIA3'}\n",
      "O Squadra comprou as ações: {'ENGI4', 'ITUB4', 'ENGI3', 'RENT3'}\n",
      "--------------------------------------------------------------------------------\n"
     ]
    }
   ],
   "source": [
    "# Selecionando o conjunto de ações (portfólio) de cada mês - retornando um df com vários dicionários\n",
    "portfolio_mensal = portfolio_squadra.groupby('data')['CD_ATIVO'].apply(set)\n",
    "\n",
    "# Convertendo o GroupBy resultante em DataFrame para facilitar a iteração\n",
    "portfolio_mensal = portfolio_mensal.reset_index()\n",
    "\n",
    "# Comparando o portfólio de cada mês\n",
    "comparar_portfolios(df=portfolio_mensal, nome_fundo='Squadra')"
   ]
  },
  {
   "cell_type": "code",
   "execution_count": 123,
   "metadata": {},
   "outputs": [
    {
     "data": {
      "text/plain": [
       "data\n",
       "2023-01-01    21\n",
       "2023-02-01    25\n",
       "2023-03-01    23\n",
       "2023-04-01    24\n",
       "2023-05-01    21\n",
       "2023-06-01    23\n",
       "2023-07-01    23\n",
       "2023-08-01    27\n",
       "2023-09-01    26\n",
       "2023-10-01    26\n",
       "2023-11-01    25\n",
       "2023-12-01    24\n",
       "2024-01-01    27\n",
       "Name: CD_ATIVO, dtype: int64"
      ]
     },
     "execution_count": 123,
     "metadata": {},
     "output_type": "execute_result"
    }
   ],
   "source": [
    "# Número total de ações de cada mês do portfólio\n",
    "num_total_acoes(df=portfolio_squadra)"
   ]
  },
  {
   "cell_type": "code",
   "execution_count": 124,
   "metadata": {},
   "outputs": [
    {
     "data": {
      "text/plain": [
       "data\n",
       "2023-01-01    [EQTL3, PRIO3, RAIL3, GMAT3, GGPS3]\n",
       "2023-02-01    [EQTL3, RAIL3, PRIO3, GMAT3, GGPS3]\n",
       "2023-03-01    [EQTL3, RAIL3, PRIO3, GMAT3, GGPS3]\n",
       "2023-04-01    [EQTL3, RAIL3, PRIO3, GMAT3, GGPS3]\n",
       "2023-05-01    [EQTL3, RAIL3, GMAT3, PRIO3, GGPS3]\n",
       "2023-06-01    [EQTL3, RAIL3, PRIO3, GMAT3, GGPS3]\n",
       "2023-07-01    [EQTL3, PRIO3, RAIL3, GGPS3, GMAT3]\n",
       "2023-08-01    [RAIL3, EQTL3, GGPS3, GMAT3, PRIO3]\n",
       "2023-09-01    [RAIL3, EQTL3, GGPS3, GMAT3, UGPA3]\n",
       "2023-10-01    [RAIL3, EQTL3, GGPS3, VBBR3, GMAT3]\n",
       "2023-11-01    [RAIL3, EQTL3, VBBR3, GGPS3, HAPV3]\n",
       "2023-12-01    [RAIL3, EQTL3, GGPS3, PRIO3, UGPA3]\n",
       "2024-01-01    [RAIL3, EQTL3, UGPA3, GGPS3, PRIO3]\n",
       "Name: CD_ATIVO, dtype: object"
      ]
     },
     "execution_count": 124,
     "metadata": {},
     "output_type": "execute_result"
    }
   ],
   "source": [
    "# Rank das 5 maiores ações do fundo\n",
    "rank_top_5(df=portfolio_squadra)"
   ]
  },
  {
   "cell_type": "code",
   "execution_count": 125,
   "metadata": {},
   "outputs": [
    {
     "data": {
      "application/vnd.plotly.v1+json": {
       "config": {
        "plotlyServerURL": "https://plot.ly"
       },
       "data": [
        {
         "name": "01/2023",
         "orientation": "h",
         "type": "bar",
         "x": [
          24.756351754273208,
          10.11559134466126,
          9.825209569376312,
          8.629957128243241,
          7.809600304890281,
          6.790156739640765,
          5.52223206184278,
          5.1102220413407515,
          3.5948868691711695,
          3.4277898518749,
          2.839197117593734,
          2.158686278001018,
          2.095430955481048,
          1.992677774242625,
          1.78517220798326,
          1.5566485785412139,
          1.2097544665001858,
          0.3367316681206474,
          0.32275604643605793,
          0.09381671407275809,
          0.02713052771279252
         ],
         "xaxis": "x",
         "y": [
          "EQTL3",
          "PRIO3",
          "RAIL3",
          "GMAT3",
          "GGPS3",
          "AURE3",
          "ALSO3",
          "RENT3",
          "HAPV3",
          "VBBR3",
          "ITUB4",
          "MULT3",
          "ABEV3",
          "B3SA3",
          "MATD3",
          "UGPA3",
          "EQPA3",
          "ENEV3",
          "CRFB3",
          "CRDE3",
          "LWSA3"
         ],
         "yaxis": "y"
        },
        {
         "name": "02/2023",
         "orientation": "h",
         "type": "bar",
         "x": [
          22.66194350381102,
          12.6040397794226,
          9.246258637064539,
          7.827884263664468,
          7.810106639197602,
          6.595956146198323,
          6.382551814362805,
          5.6741842501580475,
          4.088277710665061,
          3.633447235741807,
          2.202931886550992,
          1.890652744952699,
          1.824235158565743,
          1.681364589154762,
          1.447866376466497,
          1.236663034312552,
          1.203895521323209,
          0.8413944998588101,
          0.40439838902338693,
          0.2086361110496161,
          0.1935615127269356,
          0.1472128394006464,
          0.10164706543560849,
          0.08012654742128832,
          0.010763743470977041
         ],
         "xaxis": "x2",
         "y": [
          "EQTL3",
          "RAIL3",
          "PRIO3",
          "GMAT3",
          "GGPS3",
          "AURE3",
          "RENT3",
          "ALSO3",
          "HAPV3",
          "VBBR3",
          "MGLU3",
          "B3SA3",
          "MATD3",
          "UGPA3",
          "ABEV3",
          "ITUB4",
          "EQPA3",
          "MULT3",
          "VIIA3",
          "INTB3",
          "CRFB3",
          "PETZ3",
          "CRDE3",
          "LWSA3",
          "ENEV3"
         ],
         "yaxis": "y2"
        },
        {
         "name": "03/2023",
         "orientation": "h",
         "type": "bar",
         "x": [
          23.561173523880722,
          12.629947443386719,
          11.17698342774692,
          10.084511062566,
          8.35156805927245,
          7.2907759553681215,
          6.164763393190398,
          4.529260616519891,
          4.29782551938965,
          2.524253722541832,
          1.9778736974135531,
          1.718172233646341,
          1.190706984842292,
          1.054749573591807,
          0.9279791838364516,
          0.858843861794412,
          0.4863727006687456,
          0.3890624116607525,
          0.3515489951376588,
          0.218379962502011,
          0.09639039568974794,
          0.093569771017189,
          0.02528750433634744
         ],
         "xaxis": "x3",
         "y": [
          "EQTL3",
          "RAIL3",
          "PRIO3",
          "GMAT3",
          "GGPS3",
          "AURE3",
          "ALSO3",
          "RENT3",
          "VBBR3",
          "HAPV3",
          "MGLU3",
          "MATD3",
          "EQPA3",
          "INTB3",
          "WEGE3",
          "ABEV3",
          "ITUB4",
          "VIIA3",
          "UGPA3",
          "MULT3",
          "LWSA3",
          "CRDE3",
          "CRFB3"
         ],
         "yaxis": "y3"
        },
        {
         "name": "04/2023",
         "orientation": "h",
         "type": "bar",
         "x": [
          23.02005820257219,
          10.81300505571043,
          10.25821662443977,
          9.7362024630324,
          8.669028451813377,
          7.878581323710268,
          6.520076694124651,
          4.767888699157592,
          4.750558501867204,
          1.8363229773385292,
          1.830277172249015,
          1.8132455812482708,
          1.504374499984228,
          1.251643210293162,
          0.9740578162192272,
          0.9398817666694986,
          0.8913398222546278,
          0.8475611952417023,
          0.42836784996971805,
          0.4073842701617289,
          0.3947790415295898,
          0.212172970152025,
          0.1684353309771297,
          0.086540479283652
         ],
         "xaxis": "x4",
         "y": [
          "EQTL3",
          "RAIL3",
          "PRIO3",
          "GMAT3",
          "GGPS3",
          "AURE3",
          "ALSO3",
          "VBBR3",
          "RENT3",
          "MATD3",
          "UGPA3",
          "HAPV3",
          "MGLU3",
          "EQPA3",
          "ITUB4",
          "WEGE3",
          "MULT3",
          "ABEV3",
          "PETZ3",
          "INTB3",
          "VIIA3",
          "CXSE3",
          "CRFB3",
          "CRDE3"
         ],
         "yaxis": "y4"
        },
        {
         "name": "05/2023",
         "orientation": "h",
         "type": "bar",
         "x": [
          21.532021814626702,
          11.13222580962205,
          10.79849300032015,
          9.45102260459143,
          8.870656464302062,
          6.879172094057067,
          6.694549515621794,
          6.148675878868719,
          3.609988883442051,
          3.558088933495037,
          3.233412925103648,
          1.771053892303455,
          1.685255105773805,
          1.298365502646166,
          1.086828199722384,
          0.7636822428832182,
          0.6623272144250789,
          0.353818423887801,
          0.3468410258475731,
          0.07557506299178819,
          0.0479454054680071
         ],
         "xaxis": "x5",
         "y": [
          "EQTL3",
          "RAIL3",
          "GMAT3",
          "PRIO3",
          "GGPS3",
          "ALSO3",
          "VBBR3",
          "AURE3",
          "RENT3",
          "UGPA3",
          "MGLU3",
          "MATD3",
          "HAPV3",
          "WEGE3",
          "EQPA3",
          "ABEV3",
          "VIIA3",
          "INTB3",
          "PETZ3",
          "CRDE3",
          "RDOR3"
         ],
         "yaxis": "y5"
        },
        {
         "name": "06/2023",
         "orientation": "h",
         "type": "bar",
         "x": [
          24.06309476722524,
          10.35259042071913,
          9.279792937291539,
          9.240119068107223,
          9.163817217005105,
          7.358291432757761,
          6.872341215803572,
          5.852833606750119,
          4.6310402205979635,
          3.980731041950477,
          2.025290227575855,
          1.868122560911483,
          1.627914821200512,
          1.0760252473568699,
          0.7547926294458572,
          0.655611521633383,
          0.34169521921825813,
          0.3378514463974125,
          0.1490378920325659,
          0.13452582690001322,
          0.09412909964764174,
          0.08122104811019754,
          0.05913053136181015
         ],
         "xaxis": "x6",
         "y": [
          "EQTL3",
          "RAIL3",
          "PRIO3",
          "GMAT3",
          "GGPS3",
          "VBBR3",
          "RENT3",
          "AURE3",
          "ALSO3",
          "UGPA3",
          "MATD3",
          "MGLU3",
          "HAPV3",
          "EQPA3",
          "ABEV3",
          "VIIA3",
          "WEGE3",
          "RDOR3",
          "INTB3",
          "LWSA3",
          "PETZ3",
          "FIEI3",
          "ASAI3"
         ],
         "yaxis": "y6"
        },
        {
         "name": "07/2023",
         "orientation": "h",
         "type": "bar",
         "x": [
          17.98843000895394,
          11.63224019245754,
          11.15833152227751,
          8.763938399367415,
          8.691114357590452,
          7.795574719900096,
          6.044947567115352,
          5.5255066173745195,
          5.0973711051144575,
          4.391748034263014,
          2.32440241355336,
          2.141786237156158,
          1.8780796401317579,
          1.803010996176514,
          1.5250549461723681,
          1.0757283334683458,
          0.7572313505731008,
          0.6333630100664219,
          0.27318620886421496,
          0.2694442229309606,
          0.1026125303978105,
          0.0781015075668873,
          0.04879607852780229
         ],
         "xaxis": "x7",
         "y": [
          "EQTL3",
          "PRIO3",
          "RAIL3",
          "GGPS3",
          "GMAT3",
          "RENT3",
          "VBBR3",
          "AURE3",
          "UGPA3",
          "ALSO3",
          "WEGE3",
          "MGLU3",
          "MATD3",
          "HAPV3",
          "ABEV3",
          "EQPA3",
          "PETZ3",
          "VIIA3",
          "ASAI3",
          "INTB3",
          "LWSA3",
          "FIEI3",
          "RDOR3"
         ],
         "yaxis": "y7"
        },
        {
         "name": "08/2023",
         "orientation": "h",
         "type": "bar",
         "x": [
          15.51743875563307,
          13.87110039148062,
          9.270049892598257,
          8.409745714964627,
          6.99432396719636,
          6.867272703157496,
          5.572557275999669,
          5.407804061162613,
          4.893260801407946,
          3.0184434602957397,
          2.872870003883182,
          2.5392234709971166,
          2.355872313528188,
          1.870720020266682,
          1.790379472618666,
          1.764478828166989,
          1.6304276522669752,
          1.3240515960110322,
          1.10163749206367,
          0.6284538929749062,
          0.577780189836225,
          0.5491491199737326,
          0.4335888200929055,
          0.2996818626542247,
          0.2608396686836413,
          0.10068081235453999,
          0.0781677597309329
         ],
         "xaxis": "x8",
         "y": [
          "RAIL3",
          "EQTL3",
          "GGPS3",
          "GMAT3",
          "PRIO3",
          "VBBR3",
          "RENT3",
          "AURE3",
          "UGPA3",
          "ALSO3",
          "ELET3",
          "CPLE6",
          "ABEV3",
          "HAPV3",
          "CPLE3",
          "MATD3",
          "MGLU3",
          "WEGE3",
          "EQPA3",
          "PETZ3",
          "ELET6",
          "LWSA3",
          "RDOR3",
          "BBDC4",
          "VIIA3",
          "INTB3",
          "FIEI3"
         ],
         "yaxis": "y8"
        },
        {
         "name": "09/2023",
         "orientation": "h",
         "type": "bar",
         "x": [
          17.709125114540882,
          15.622996335292111,
          9.185166180282376,
          8.25843050075213,
          6.766752356127563,
          6.494100437755359,
          6.264252288156437,
          5.143918916540606,
          5.028029421613697,
          4.321157412952063,
          3.821793722399526,
          1.6684308752360408,
          1.65359674629353,
          1.2827132785444,
          1.252710634917674,
          1.200359683970968,
          1.026816081530613,
          0.757913839131944,
          0.6557894770866601,
          0.5707443708153083,
          0.4730808732580086,
          0.40318687101992756,
          0.2207393708729685,
          0.13380367875953642,
          0.0830768117908326,
          0.001314720358842961
         ],
         "xaxis": "x9",
         "y": [
          "RAIL3",
          "EQTL3",
          "GGPS3",
          "GMAT3",
          "UGPA3",
          "VBBR3",
          "PRIO3",
          "ELET3",
          "RENT3",
          "AURE3",
          "HAPV3",
          "MATD3",
          "CPLE3",
          "CPLE6",
          "WEGE3",
          "EQPA3",
          "BBDC4",
          "ELET6",
          "IRBR3",
          "ABEV3",
          "MGLU3",
          "RDOR3",
          "PETZ3",
          "INTB3",
          "FIEI3",
          "BHIA3"
         ],
         "yaxis": "y9"
        },
        {
         "name": "10/2023",
         "orientation": "h",
         "type": "bar",
         "x": [
          17.92049391509055,
          14.46406993780783,
          9.097615556868007,
          8.344651284100166,
          7.599785310233511,
          6.164039634374356,
          4.808967287292874,
          4.6968012565859185,
          4.114356794001847,
          3.617549366310227,
          3.558154667548762,
          3.080128960940745,
          2.984945247517492,
          1.659953951617954,
          1.44860591694515,
          1.263954532327923,
          1.259823026611763,
          1.214615939403579,
          0.6507109082633761,
          0.600715093104938,
          0.5926305710975963,
          0.3680832343685917,
          0.2334635075313612,
          0.17863906210415398,
          0.07623742443950846,
          0.0010076135118228739
         ],
         "xaxis": "x10",
         "y": [
          "RAIL3",
          "EQTL3",
          "GGPS3",
          "VBBR3",
          "GMAT3",
          "WEGE3",
          "HAPV3",
          "UGPA3",
          "ITUB4",
          "AURE3",
          "PRIO3",
          "RENT3",
          "ELET3",
          "CPLE3",
          "MATD3",
          "CPLE6",
          "EQPA3",
          "BBDC4",
          "IRBR3",
          "ABEV3",
          "ELET6",
          "RDOR3",
          "MGLU3",
          "PETZ3",
          "FIEI3",
          "BHIA3"
         ],
         "yaxis": "y10"
        },
        {
         "name": "11/2023",
         "orientation": "h",
         "type": "bar",
         "x": [
          17.90090867339342,
          12.73501749403318,
          9.330047339286754,
          8.946411892234494,
          8.809544110713958,
          7.610780378727094,
          6.943314576089467,
          6.1654743749502545,
          4.540246046650034,
          3.0095578551688518,
          2.6571993794912667,
          1.918903790464448,
          1.8690717683484601,
          1.707088342460532,
          1.4619775349194,
          1.3833858819648241,
          1.2950013333638348,
          0.7403774392264256,
          0.6248733485504161,
          0.18999312438952662,
          0.0673832754348987,
          0.06451601151156293,
          0.0257908030728885,
          0.002026723174408583,
          0.001108502379607763
         ],
         "xaxis": "x11",
         "y": [
          "RAIL3",
          "EQTL3",
          "VBBR3",
          "GGPS3",
          "HAPV3",
          "GMAT3",
          "UGPA3",
          "PRIO3",
          "CPLE6",
          "ITUB4",
          "RENT3",
          "AURE3",
          "WEGE3",
          "CPLE3",
          "MATD3",
          "EQPA3",
          "BBDC4",
          "IRBR3",
          "MGLU3",
          "PETZ3",
          "ABEV3",
          "FIEI3",
          "RDOR3",
          "ELET3",
          "BHIA3"
         ],
         "yaxis": "y11"
        },
        {
         "name": "12/2023",
         "orientation": "h",
         "type": "bar",
         "x": [
          18.32957345926618,
          14.367670003685229,
          9.6131829244955,
          9.37873354036664,
          8.998043071052143,
          8.656072806667154,
          7.738766703268866,
          6.4845774239250975,
          4.634826833084013,
          2.752167099989752,
          1.840243811415897,
          1.622156197655466,
          1.57382848687087,
          1.402459418206976,
          0.5852760335459884,
          0.5307479689985047,
          0.44007114871050523,
          0.3635690809443139,
          0.3617535886305294,
          0.1879314336644872,
          0.06752290783191658,
          0.06446135651247603,
          0.00543095631771055,
          0.0009337448937736464
         ],
         "xaxis": "x12",
         "y": [
          "RAIL3",
          "EQTL3",
          "GGPS3",
          "PRIO3",
          "UGPA3",
          "GMAT3",
          "HAPV3",
          "CPLE6",
          "VBBR3",
          "WEGE3",
          "CPLE3",
          "AURE3",
          "MATD3",
          "EQPA3",
          "MGLU3",
          "NTCO3",
          "BBDC4",
          "IRBR3",
          "PETZ3",
          "RDOR3",
          "ABEV3",
          "FIEI3",
          "CRFB3",
          "BHIA3"
         ],
         "yaxis": "y12"
        },
        {
         "name": "01/2024",
         "orientation": "h",
         "type": "bar",
         "x": [
          17.18135765806564,
          13.081249327400371,
          9.964425456657063,
          9.2433200718239,
          8.688622464673337,
          7.522679144695147,
          6.942088675081388,
          6.185544069092808,
          5.979520703816496,
          4.430606412294619,
          1.5976979243662168,
          1.4415282989672988,
          1.391156432441624,
          1.351538730487272,
          1.1453338399828439,
          0.7932442341793408,
          0.6410556445116009,
          0.601498999380759,
          0.3992525923150213,
          0.38619662042600944,
          0.3628209788631125,
          0.3070581069603528,
          0.1521352602021325,
          0.06405167954425608,
          0.05904614110682852,
          0.05123422697444437,
          0.035736305690107814
         ],
         "xaxis": "x13",
         "y": [
          "RAIL3",
          "EQTL3",
          "UGPA3",
          "GGPS3",
          "PRIO3",
          "GMAT3",
          "HAPV3",
          "VBBR3",
          "CPLE6",
          "ITUB4",
          "CPLE3",
          "AURE3",
          "WEGE3",
          "EQPA3",
          "MATD3",
          "ENGI4",
          "CRFB3",
          "MGLU3",
          "PETZ3",
          "ENGI3",
          "BBDC4",
          "IRBR3",
          "NTCO3",
          "FIEI3",
          "ABEV3",
          "RDOR3",
          "RENT3"
         ],
         "yaxis": "y13"
        }
       ],
       "layout": {
        "annotations": [
         {
          "font": {
           "size": 16
          },
          "showarrow": false,
          "text": "Distribuição Percentual do Portfólio - 01/2023",
          "x": 0.5,
          "xanchor": "center",
          "xref": "paper",
          "y": 1,
          "yanchor": "bottom",
          "yref": "paper"
         },
         {
          "font": {
           "size": 16
          },
          "showarrow": false,
          "text": "Distribuição Percentual do Portfólio - 02/2023",
          "x": 0.5,
          "xanchor": "center",
          "xref": "paper",
          "y": 0.9215384615384615,
          "yanchor": "bottom",
          "yref": "paper"
         },
         {
          "font": {
           "size": 16
          },
          "showarrow": false,
          "text": "Distribuição Percentual do Portfólio - 03/2023",
          "x": 0.5,
          "xanchor": "center",
          "xref": "paper",
          "y": 0.8430769230769232,
          "yanchor": "bottom",
          "yref": "paper"
         },
         {
          "font": {
           "size": 16
          },
          "showarrow": false,
          "text": "Distribuição Percentual do Portfólio - 04/2023",
          "x": 0.5,
          "xanchor": "center",
          "xref": "paper",
          "y": 0.7646153846153846,
          "yanchor": "bottom",
          "yref": "paper"
         },
         {
          "font": {
           "size": 16
          },
          "showarrow": false,
          "text": "Distribuição Percentual do Portfólio - 05/2023",
          "x": 0.5,
          "xanchor": "center",
          "xref": "paper",
          "y": 0.6861538461538461,
          "yanchor": "bottom",
          "yref": "paper"
         },
         {
          "font": {
           "size": 16
          },
          "showarrow": false,
          "text": "Distribuição Percentual do Portfólio - 06/2023",
          "x": 0.5,
          "xanchor": "center",
          "xref": "paper",
          "y": 0.6076923076923076,
          "yanchor": "bottom",
          "yref": "paper"
         },
         {
          "font": {
           "size": 16
          },
          "showarrow": false,
          "text": "Distribuição Percentual do Portfólio - 07/2023",
          "x": 0.5,
          "xanchor": "center",
          "xref": "paper",
          "y": 0.5292307692307693,
          "yanchor": "bottom",
          "yref": "paper"
         },
         {
          "font": {
           "size": 16
          },
          "showarrow": false,
          "text": "Distribuição Percentual do Portfólio - 08/2023",
          "x": 0.5,
          "xanchor": "center",
          "xref": "paper",
          "y": 0.4507692307692308,
          "yanchor": "bottom",
          "yref": "paper"
         },
         {
          "font": {
           "size": 16
          },
          "showarrow": false,
          "text": "Distribuição Percentual do Portfólio - 09/2023",
          "x": 0.5,
          "xanchor": "center",
          "xref": "paper",
          "y": 0.3723076923076923,
          "yanchor": "bottom",
          "yref": "paper"
         },
         {
          "font": {
           "size": 16
          },
          "showarrow": false,
          "text": "Distribuição Percentual do Portfólio - 10/2023",
          "x": 0.5,
          "xanchor": "center",
          "xref": "paper",
          "y": 0.29384615384615387,
          "yanchor": "bottom",
          "yref": "paper"
         },
         {
          "font": {
           "size": 16
          },
          "showarrow": false,
          "text": "Distribuição Percentual do Portfólio - 11/2023",
          "x": 0.5,
          "xanchor": "center",
          "xref": "paper",
          "y": 0.21538461538461537,
          "yanchor": "bottom",
          "yref": "paper"
         },
         {
          "font": {
           "size": 16
          },
          "showarrow": false,
          "text": "Distribuição Percentual do Portfólio - 12/2023",
          "x": 0.5,
          "xanchor": "center",
          "xref": "paper",
          "y": 0.13692307692307693,
          "yanchor": "bottom",
          "yref": "paper"
         },
         {
          "font": {
           "size": 16
          },
          "showarrow": false,
          "text": "Distribuição Percentual do Portfólio - 01/2024",
          "x": 0.5,
          "xanchor": "center",
          "xref": "paper",
          "y": 0.05846153846153846,
          "yanchor": "bottom",
          "yref": "paper"
         }
        ],
        "height": 6000,
        "template": {
         "data": {
          "bar": [
           {
            "error_x": {
             "color": "#2a3f5f"
            },
            "error_y": {
             "color": "#2a3f5f"
            },
            "marker": {
             "line": {
              "color": "#E5ECF6",
              "width": 0.5
             },
             "pattern": {
              "fillmode": "overlay",
              "size": 10,
              "solidity": 0.2
             }
            },
            "type": "bar"
           }
          ],
          "barpolar": [
           {
            "marker": {
             "line": {
              "color": "#E5ECF6",
              "width": 0.5
             },
             "pattern": {
              "fillmode": "overlay",
              "size": 10,
              "solidity": 0.2
             }
            },
            "type": "barpolar"
           }
          ],
          "carpet": [
           {
            "aaxis": {
             "endlinecolor": "#2a3f5f",
             "gridcolor": "white",
             "linecolor": "white",
             "minorgridcolor": "white",
             "startlinecolor": "#2a3f5f"
            },
            "baxis": {
             "endlinecolor": "#2a3f5f",
             "gridcolor": "white",
             "linecolor": "white",
             "minorgridcolor": "white",
             "startlinecolor": "#2a3f5f"
            },
            "type": "carpet"
           }
          ],
          "choropleth": [
           {
            "colorbar": {
             "outlinewidth": 0,
             "ticks": ""
            },
            "type": "choropleth"
           }
          ],
          "contour": [
           {
            "colorbar": {
             "outlinewidth": 0,
             "ticks": ""
            },
            "colorscale": [
             [
              0,
              "#0d0887"
             ],
             [
              0.1111111111111111,
              "#46039f"
             ],
             [
              0.2222222222222222,
              "#7201a8"
             ],
             [
              0.3333333333333333,
              "#9c179e"
             ],
             [
              0.4444444444444444,
              "#bd3786"
             ],
             [
              0.5555555555555556,
              "#d8576b"
             ],
             [
              0.6666666666666666,
              "#ed7953"
             ],
             [
              0.7777777777777778,
              "#fb9f3a"
             ],
             [
              0.8888888888888888,
              "#fdca26"
             ],
             [
              1,
              "#f0f921"
             ]
            ],
            "type": "contour"
           }
          ],
          "contourcarpet": [
           {
            "colorbar": {
             "outlinewidth": 0,
             "ticks": ""
            },
            "type": "contourcarpet"
           }
          ],
          "heatmap": [
           {
            "colorbar": {
             "outlinewidth": 0,
             "ticks": ""
            },
            "colorscale": [
             [
              0,
              "#0d0887"
             ],
             [
              0.1111111111111111,
              "#46039f"
             ],
             [
              0.2222222222222222,
              "#7201a8"
             ],
             [
              0.3333333333333333,
              "#9c179e"
             ],
             [
              0.4444444444444444,
              "#bd3786"
             ],
             [
              0.5555555555555556,
              "#d8576b"
             ],
             [
              0.6666666666666666,
              "#ed7953"
             ],
             [
              0.7777777777777778,
              "#fb9f3a"
             ],
             [
              0.8888888888888888,
              "#fdca26"
             ],
             [
              1,
              "#f0f921"
             ]
            ],
            "type": "heatmap"
           }
          ],
          "heatmapgl": [
           {
            "colorbar": {
             "outlinewidth": 0,
             "ticks": ""
            },
            "colorscale": [
             [
              0,
              "#0d0887"
             ],
             [
              0.1111111111111111,
              "#46039f"
             ],
             [
              0.2222222222222222,
              "#7201a8"
             ],
             [
              0.3333333333333333,
              "#9c179e"
             ],
             [
              0.4444444444444444,
              "#bd3786"
             ],
             [
              0.5555555555555556,
              "#d8576b"
             ],
             [
              0.6666666666666666,
              "#ed7953"
             ],
             [
              0.7777777777777778,
              "#fb9f3a"
             ],
             [
              0.8888888888888888,
              "#fdca26"
             ],
             [
              1,
              "#f0f921"
             ]
            ],
            "type": "heatmapgl"
           }
          ],
          "histogram": [
           {
            "marker": {
             "pattern": {
              "fillmode": "overlay",
              "size": 10,
              "solidity": 0.2
             }
            },
            "type": "histogram"
           }
          ],
          "histogram2d": [
           {
            "colorbar": {
             "outlinewidth": 0,
             "ticks": ""
            },
            "colorscale": [
             [
              0,
              "#0d0887"
             ],
             [
              0.1111111111111111,
              "#46039f"
             ],
             [
              0.2222222222222222,
              "#7201a8"
             ],
             [
              0.3333333333333333,
              "#9c179e"
             ],
             [
              0.4444444444444444,
              "#bd3786"
             ],
             [
              0.5555555555555556,
              "#d8576b"
             ],
             [
              0.6666666666666666,
              "#ed7953"
             ],
             [
              0.7777777777777778,
              "#fb9f3a"
             ],
             [
              0.8888888888888888,
              "#fdca26"
             ],
             [
              1,
              "#f0f921"
             ]
            ],
            "type": "histogram2d"
           }
          ],
          "histogram2dcontour": [
           {
            "colorbar": {
             "outlinewidth": 0,
             "ticks": ""
            },
            "colorscale": [
             [
              0,
              "#0d0887"
             ],
             [
              0.1111111111111111,
              "#46039f"
             ],
             [
              0.2222222222222222,
              "#7201a8"
             ],
             [
              0.3333333333333333,
              "#9c179e"
             ],
             [
              0.4444444444444444,
              "#bd3786"
             ],
             [
              0.5555555555555556,
              "#d8576b"
             ],
             [
              0.6666666666666666,
              "#ed7953"
             ],
             [
              0.7777777777777778,
              "#fb9f3a"
             ],
             [
              0.8888888888888888,
              "#fdca26"
             ],
             [
              1,
              "#f0f921"
             ]
            ],
            "type": "histogram2dcontour"
           }
          ],
          "mesh3d": [
           {
            "colorbar": {
             "outlinewidth": 0,
             "ticks": ""
            },
            "type": "mesh3d"
           }
          ],
          "parcoords": [
           {
            "line": {
             "colorbar": {
              "outlinewidth": 0,
              "ticks": ""
             }
            },
            "type": "parcoords"
           }
          ],
          "pie": [
           {
            "automargin": true,
            "type": "pie"
           }
          ],
          "scatter": [
           {
            "fillpattern": {
             "fillmode": "overlay",
             "size": 10,
             "solidity": 0.2
            },
            "type": "scatter"
           }
          ],
          "scatter3d": [
           {
            "line": {
             "colorbar": {
              "outlinewidth": 0,
              "ticks": ""
             }
            },
            "marker": {
             "colorbar": {
              "outlinewidth": 0,
              "ticks": ""
             }
            },
            "type": "scatter3d"
           }
          ],
          "scattercarpet": [
           {
            "marker": {
             "colorbar": {
              "outlinewidth": 0,
              "ticks": ""
             }
            },
            "type": "scattercarpet"
           }
          ],
          "scattergeo": [
           {
            "marker": {
             "colorbar": {
              "outlinewidth": 0,
              "ticks": ""
             }
            },
            "type": "scattergeo"
           }
          ],
          "scattergl": [
           {
            "marker": {
             "colorbar": {
              "outlinewidth": 0,
              "ticks": ""
             }
            },
            "type": "scattergl"
           }
          ],
          "scattermapbox": [
           {
            "marker": {
             "colorbar": {
              "outlinewidth": 0,
              "ticks": ""
             }
            },
            "type": "scattermapbox"
           }
          ],
          "scatterpolar": [
           {
            "marker": {
             "colorbar": {
              "outlinewidth": 0,
              "ticks": ""
             }
            },
            "type": "scatterpolar"
           }
          ],
          "scatterpolargl": [
           {
            "marker": {
             "colorbar": {
              "outlinewidth": 0,
              "ticks": ""
             }
            },
            "type": "scatterpolargl"
           }
          ],
          "scatterternary": [
           {
            "marker": {
             "colorbar": {
              "outlinewidth": 0,
              "ticks": ""
             }
            },
            "type": "scatterternary"
           }
          ],
          "surface": [
           {
            "colorbar": {
             "outlinewidth": 0,
             "ticks": ""
            },
            "colorscale": [
             [
              0,
              "#0d0887"
             ],
             [
              0.1111111111111111,
              "#46039f"
             ],
             [
              0.2222222222222222,
              "#7201a8"
             ],
             [
              0.3333333333333333,
              "#9c179e"
             ],
             [
              0.4444444444444444,
              "#bd3786"
             ],
             [
              0.5555555555555556,
              "#d8576b"
             ],
             [
              0.6666666666666666,
              "#ed7953"
             ],
             [
              0.7777777777777778,
              "#fb9f3a"
             ],
             [
              0.8888888888888888,
              "#fdca26"
             ],
             [
              1,
              "#f0f921"
             ]
            ],
            "type": "surface"
           }
          ],
          "table": [
           {
            "cells": {
             "fill": {
              "color": "#EBF0F8"
             },
             "line": {
              "color": "white"
             }
            },
            "header": {
             "fill": {
              "color": "#C8D4E3"
             },
             "line": {
              "color": "white"
             }
            },
            "type": "table"
           }
          ]
         },
         "layout": {
          "annotationdefaults": {
           "arrowcolor": "#2a3f5f",
           "arrowhead": 0,
           "arrowwidth": 1
          },
          "autotypenumbers": "strict",
          "coloraxis": {
           "colorbar": {
            "outlinewidth": 0,
            "ticks": ""
           }
          },
          "colorscale": {
           "diverging": [
            [
             0,
             "#8e0152"
            ],
            [
             0.1,
             "#c51b7d"
            ],
            [
             0.2,
             "#de77ae"
            ],
            [
             0.3,
             "#f1b6da"
            ],
            [
             0.4,
             "#fde0ef"
            ],
            [
             0.5,
             "#f7f7f7"
            ],
            [
             0.6,
             "#e6f5d0"
            ],
            [
             0.7,
             "#b8e186"
            ],
            [
             0.8,
             "#7fbc41"
            ],
            [
             0.9,
             "#4d9221"
            ],
            [
             1,
             "#276419"
            ]
           ],
           "sequential": [
            [
             0,
             "#0d0887"
            ],
            [
             0.1111111111111111,
             "#46039f"
            ],
            [
             0.2222222222222222,
             "#7201a8"
            ],
            [
             0.3333333333333333,
             "#9c179e"
            ],
            [
             0.4444444444444444,
             "#bd3786"
            ],
            [
             0.5555555555555556,
             "#d8576b"
            ],
            [
             0.6666666666666666,
             "#ed7953"
            ],
            [
             0.7777777777777778,
             "#fb9f3a"
            ],
            [
             0.8888888888888888,
             "#fdca26"
            ],
            [
             1,
             "#f0f921"
            ]
           ],
           "sequentialminus": [
            [
             0,
             "#0d0887"
            ],
            [
             0.1111111111111111,
             "#46039f"
            ],
            [
             0.2222222222222222,
             "#7201a8"
            ],
            [
             0.3333333333333333,
             "#9c179e"
            ],
            [
             0.4444444444444444,
             "#bd3786"
            ],
            [
             0.5555555555555556,
             "#d8576b"
            ],
            [
             0.6666666666666666,
             "#ed7953"
            ],
            [
             0.7777777777777778,
             "#fb9f3a"
            ],
            [
             0.8888888888888888,
             "#fdca26"
            ],
            [
             1,
             "#f0f921"
            ]
           ]
          },
          "colorway": [
           "#636efa",
           "#EF553B",
           "#00cc96",
           "#ab63fa",
           "#FFA15A",
           "#19d3f3",
           "#FF6692",
           "#B6E880",
           "#FF97FF",
           "#FECB52"
          ],
          "font": {
           "color": "#2a3f5f"
          },
          "geo": {
           "bgcolor": "white",
           "lakecolor": "white",
           "landcolor": "#E5ECF6",
           "showlakes": true,
           "showland": true,
           "subunitcolor": "white"
          },
          "hoverlabel": {
           "align": "left"
          },
          "hovermode": "closest",
          "mapbox": {
           "style": "light"
          },
          "paper_bgcolor": "white",
          "plot_bgcolor": "#E5ECF6",
          "polar": {
           "angularaxis": {
            "gridcolor": "white",
            "linecolor": "white",
            "ticks": ""
           },
           "bgcolor": "#E5ECF6",
           "radialaxis": {
            "gridcolor": "white",
            "linecolor": "white",
            "ticks": ""
           }
          },
          "scene": {
           "xaxis": {
            "backgroundcolor": "#E5ECF6",
            "gridcolor": "white",
            "gridwidth": 2,
            "linecolor": "white",
            "showbackground": true,
            "ticks": "",
            "zerolinecolor": "white"
           },
           "yaxis": {
            "backgroundcolor": "#E5ECF6",
            "gridcolor": "white",
            "gridwidth": 2,
            "linecolor": "white",
            "showbackground": true,
            "ticks": "",
            "zerolinecolor": "white"
           },
           "zaxis": {
            "backgroundcolor": "#E5ECF6",
            "gridcolor": "white",
            "gridwidth": 2,
            "linecolor": "white",
            "showbackground": true,
            "ticks": "",
            "zerolinecolor": "white"
           }
          },
          "shapedefaults": {
           "line": {
            "color": "#2a3f5f"
           }
          },
          "ternary": {
           "aaxis": {
            "gridcolor": "white",
            "linecolor": "white",
            "ticks": ""
           },
           "baxis": {
            "gridcolor": "white",
            "linecolor": "white",
            "ticks": ""
           },
           "bgcolor": "#E5ECF6",
           "caxis": {
            "gridcolor": "white",
            "linecolor": "white",
            "ticks": ""
           }
          },
          "title": {
           "x": 0.05
          },
          "xaxis": {
           "automargin": true,
           "gridcolor": "white",
           "linecolor": "white",
           "ticks": "",
           "title": {
            "standoff": 15
           },
           "zerolinecolor": "white",
           "zerolinewidth": 2
          },
          "yaxis": {
           "automargin": true,
           "gridcolor": "white",
           "linecolor": "white",
           "ticks": "",
           "title": {
            "standoff": 15
           },
           "zerolinecolor": "white",
           "zerolinewidth": 2
          }
         }
        },
        "title": {
         "text": "Portfólio do Fundo Squadra"
        },
        "width": 900,
        "xaxis": {
         "anchor": "y",
         "domain": [
          0,
          1
         ]
        },
        "xaxis10": {
         "anchor": "y10",
         "domain": [
          0,
          1
         ]
        },
        "xaxis11": {
         "anchor": "y11",
         "domain": [
          0,
          1
         ]
        },
        "xaxis12": {
         "anchor": "y12",
         "domain": [
          0,
          1
         ]
        },
        "xaxis13": {
         "anchor": "y13",
         "domain": [
          0,
          1
         ]
        },
        "xaxis2": {
         "anchor": "y2",
         "domain": [
          0,
          1
         ]
        },
        "xaxis3": {
         "anchor": "y3",
         "domain": [
          0,
          1
         ]
        },
        "xaxis4": {
         "anchor": "y4",
         "domain": [
          0,
          1
         ]
        },
        "xaxis5": {
         "anchor": "y5",
         "domain": [
          0,
          1
         ]
        },
        "xaxis6": {
         "anchor": "y6",
         "domain": [
          0,
          1
         ]
        },
        "xaxis7": {
         "anchor": "y7",
         "domain": [
          0,
          1
         ]
        },
        "xaxis8": {
         "anchor": "y8",
         "domain": [
          0,
          1
         ]
        },
        "xaxis9": {
         "anchor": "y9",
         "domain": [
          0,
          1
         ]
        },
        "yaxis": {
         "anchor": "x",
         "domain": [
          0.9415384615384615,
          1
         ]
        },
        "yaxis10": {
         "anchor": "x10",
         "domain": [
          0.2353846153846154,
          0.29384615384615387
         ]
        },
        "yaxis11": {
         "anchor": "x11",
         "domain": [
          0.15692307692307692,
          0.21538461538461537
         ]
        },
        "yaxis12": {
         "anchor": "x12",
         "domain": [
          0.07846153846153846,
          0.13692307692307693
         ]
        },
        "yaxis13": {
         "anchor": "x13",
         "domain": [
          0,
          0.05846153846153846
         ]
        },
        "yaxis2": {
         "anchor": "x2",
         "domain": [
          0.8630769230769231,
          0.9215384615384615
         ]
        },
        "yaxis3": {
         "anchor": "x3",
         "domain": [
          0.7846153846153847,
          0.8430769230769232
         ]
        },
        "yaxis4": {
         "anchor": "x4",
         "domain": [
          0.7061538461538461,
          0.7646153846153846
         ]
        },
        "yaxis5": {
         "anchor": "x5",
         "domain": [
          0.6276923076923077,
          0.6861538461538461
         ]
        },
        "yaxis6": {
         "anchor": "x6",
         "domain": [
          0.5492307692307692,
          0.6076923076923076
         ]
        },
        "yaxis7": {
         "anchor": "x7",
         "domain": [
          0.4707692307692308,
          0.5292307692307693
         ]
        },
        "yaxis8": {
         "anchor": "x8",
         "domain": [
          0.39230769230769236,
          0.4507692307692308
         ]
        },
        "yaxis9": {
         "anchor": "x9",
         "domain": [
          0.31384615384615383,
          0.3723076923076923
         ]
        }
       }
      }
     },
     "metadata": {},
     "output_type": "display_data"
    }
   ],
   "source": [
    "# Plotando o portfólio de cada mês\n",
    "plot_portfolio(df=portfolio_squadra, nome_fundo='Squadra')"
   ]
  },
  {
   "cell_type": "markdown",
   "metadata": {},
   "source": [
    "### Fundo Guepardo"
   ]
  },
  {
   "cell_type": "markdown",
   "metadata": {},
   "source": [
    "* https://maisretorno.com/fundo/guepardo-institucional-master-fia"
   ]
  },
  {
   "cell_type": "code",
   "execution_count": null,
   "metadata": {},
   "outputs": [],
   "source": [
    "# Rentabilidade mensal\n",
    "df_ret_mensal_guepardo = rentabilidade_fundo(df=df_inf_diario, cnpj='14.213.077/0001-54', nome_fundo='guepardo')[0]\n",
    "\n",
    "# Comparação de rentabilidade entre fundo e benchmark\n",
    "df_ret_mensal_guepardo_ibov = rentabilidade_fundo_benchmark(\n",
    "    df_fundo=df_ret_mensal_guepardo,\n",
    "    df_benchmark=df_ret_ibov_mensal,\n",
    "    nome_fundo='guepardo',\n",
    "    nome_benchmark='ibov'\n",
    ")\n",
    "\n",
    "df_ret_mensal_guepardo_ibov"
   ]
  },
  {
   "cell_type": "code",
   "execution_count": null,
   "metadata": {},
   "outputs": [],
   "source": [
    "# Rentabilidade anual\n",
    "df_ret_anual_guepardo = rentabilidade_fundo(df=df_inf_diario, cnpj='14.213.077/0001-54', nome_fundo='guepardo')[1]\n",
    "\n",
    "# Comparação de rentabilidade entre fundo e benchmark\n",
    "df_ret_anual_guepardo_ibov = rentabilidade_fundo_benchmark(\n",
    "    df_fundo=df_ret_anual_guepardo,\n",
    "    df_benchmark=df_ret_ibov_anual,\n",
    "    nome_fundo='guepardo',\n",
    "    nome_benchmark='ibov'\n",
    ")\n",
    "\n",
    "df_ret_anual_guepardo_ibov"
   ]
  },
  {
   "cell_type": "code",
   "execution_count": 109,
   "metadata": {},
   "outputs": [],
   "source": [
    "guepardo_acoes = fundo_cnpj_acoes(df=df_ativos, cnpj='14.213.077/0001-54')\n",
    "guepardo_pl = pl_fundo(\n",
    "    path=f'C://Users//vitor//projetos_python//python_b3//historico-arquivos//fundos_investimentos//fundos_cvm//{ano}{mes}//cda_fi_PL_{ano}{mes}.parquet', \n",
    "    cnpj='14.213.077/0001-54'\n",
    ")\n",
    "\n",
    "# Quantos porcertos cada categoria representa do PL final\n",
    "pct_acoes = round(pd.Series(guepardo_acoes['VL_MERC_POS_FINAL'].sum() / guepardo_pl.values), 4) \n",
    "\n",
    "# Criando a data do portfólio\n",
    "data = pd.to_datetime(f'{mes}-{ano}')\n",
    "\n",
    "# Adicionando a informação da porcentagem de cada categoria nos dfs\n",
    "# Ações\n",
    "linha_pct_acoes = {'DENOM_SOCIAL': 'PL% FUNDO', 'VL_MERC_POS_FINAL' : pct_acoes}\n",
    "df_linha_pct_acoes = pd.DataFrame(linha_pct_acoes)\n",
    "guepardo_acoes = pd.concat([guepardo_acoes, df_linha_pct_acoes], ignore_index=True)\n",
    "# Criando a coluna 'data' no df\n",
    "guepardo_acoes['data'] = data\n",
    "# Definindo a coluna 'data' como o index\n",
    "guepardo_acoes = guepardo_acoes.set_index('data')"
   ]
  },
  {
   "cell_type": "code",
   "execution_count": 110,
   "metadata": {},
   "outputs": [],
   "source": [
    "# Criando o arquivo excel em que cada categoria está em uma aba diferente\n",
    "with pd.ExcelWriter(f'C://Users//vitor//projetos_python//python_b3//composicao-fundos-de-investimentos//fundo_investimento//guepardo//fundo_guepardo_{ano}{mes}.xlsx') as writer:\n",
    "    guepardo_acoes.to_excel(writer, sheet_name='acoes')"
   ]
  },
  {
   "cell_type": "code",
   "execution_count": 111,
   "metadata": {},
   "outputs": [
    {
     "data": {
      "text/html": [
       "<div>\n",
       "<style scoped>\n",
       "    .dataframe tbody tr th:only-of-type {\n",
       "        vertical-align: middle;\n",
       "    }\n",
       "\n",
       "    .dataframe tbody tr th {\n",
       "        vertical-align: top;\n",
       "    }\n",
       "\n",
       "    .dataframe thead th {\n",
       "        text-align: right;\n",
       "    }\n",
       "</style>\n",
       "<table border=\"1\" class=\"dataframe\">\n",
       "  <thead>\n",
       "    <tr style=\"text-align: right;\">\n",
       "      <th></th>\n",
       "      <th>DENOM_SOCIAL</th>\n",
       "      <th>CD_ATIVO</th>\n",
       "      <th>PORCENTAGEM</th>\n",
       "      <th>VL_MERC_POS_FINAL</th>\n",
       "    </tr>\n",
       "    <tr>\n",
       "      <th>data</th>\n",
       "      <th></th>\n",
       "      <th></th>\n",
       "      <th></th>\n",
       "      <th></th>\n",
       "    </tr>\n",
       "  </thead>\n",
       "  <tbody>\n",
       "    <tr>\n",
       "      <th>2023-01-01</th>\n",
       "      <td>GUEPARDO INSTITUCIONAL MASTER FUNDO DE INVESTI...</td>\n",
       "      <td>VULC3</td>\n",
       "      <td>0.247012</td>\n",
       "      <td>2.492254e+08</td>\n",
       "    </tr>\n",
       "    <tr>\n",
       "      <th>2023-01-01</th>\n",
       "      <td>GUEPARDO INSTITUCIONAL MASTER FUNDO DE INVESTI...</td>\n",
       "      <td>KLBN11</td>\n",
       "      <td>0.204068</td>\n",
       "      <td>2.058972e+08</td>\n",
       "    </tr>\n",
       "    <tr>\n",
       "      <th>2023-01-01</th>\n",
       "      <td>GUEPARDO INSTITUCIONAL MASTER FUNDO DE INVESTI...</td>\n",
       "      <td>ITUB4</td>\n",
       "      <td>0.137043</td>\n",
       "      <td>1.382715e+08</td>\n",
       "    </tr>\n",
       "    <tr>\n",
       "      <th>2023-01-01</th>\n",
       "      <td>GUEPARDO INSTITUCIONAL MASTER FUNDO DE INVESTI...</td>\n",
       "      <td>UGPA3</td>\n",
       "      <td>0.127014</td>\n",
       "      <td>1.281520e+08</td>\n",
       "    </tr>\n",
       "    <tr>\n",
       "      <th>2023-01-01</th>\n",
       "      <td>GUEPARDO INSTITUCIONAL MASTER FUNDO DE INVESTI...</td>\n",
       "      <td>RAIL3</td>\n",
       "      <td>0.119408</td>\n",
       "      <td>1.204777e+08</td>\n",
       "    </tr>\n",
       "    <tr>\n",
       "      <th>...</th>\n",
       "      <td>...</td>\n",
       "      <td>...</td>\n",
       "      <td>...</td>\n",
       "      <td>...</td>\n",
       "    </tr>\n",
       "    <tr>\n",
       "      <th>2024-01-01</th>\n",
       "      <td>GUEPARDO INSTITUCIONAL MASTER FUNDO DE INVESTI...</td>\n",
       "      <td>HBSA3</td>\n",
       "      <td>0.005000</td>\n",
       "      <td>9.746628e+06</td>\n",
       "    </tr>\n",
       "    <tr>\n",
       "      <th>2024-01-01</th>\n",
       "      <td>GUEPARDO INSTITUCIONAL MASTER FUNDO DE INVESTI...</td>\n",
       "      <td>MYPK3</td>\n",
       "      <td>0.003066</td>\n",
       "      <td>5.976703e+06</td>\n",
       "    </tr>\n",
       "    <tr>\n",
       "      <th>2024-01-01</th>\n",
       "      <td>GUEPARDO INSTITUCIONAL MASTER FUNDO DE INVESTI...</td>\n",
       "      <td>HYPE3</td>\n",
       "      <td>0.001635</td>\n",
       "      <td>3.186231e+06</td>\n",
       "    </tr>\n",
       "    <tr>\n",
       "      <th>2024-01-01</th>\n",
       "      <td>GUEPARDO INSTITUCIONAL MASTER FUNDO DE INVESTI...</td>\n",
       "      <td>DXCO3</td>\n",
       "      <td>0.001209</td>\n",
       "      <td>2.357016e+06</td>\n",
       "    </tr>\n",
       "    <tr>\n",
       "      <th>2024-01-01</th>\n",
       "      <td>GUEPARDO INSTITUCIONAL MASTER FUNDO DE INVESTI...</td>\n",
       "      <td>CSAN3</td>\n",
       "      <td>0.000101</td>\n",
       "      <td>1.969141e+05</td>\n",
       "    </tr>\n",
       "  </tbody>\n",
       "</table>\n",
       "<p>161 rows × 4 columns</p>\n",
       "</div>"
      ],
      "text/plain": [
       "                                                 DENOM_SOCIAL CD_ATIVO  \\\n",
       "data                                                                     \n",
       "2023-01-01  GUEPARDO INSTITUCIONAL MASTER FUNDO DE INVESTI...    VULC3   \n",
       "2023-01-01  GUEPARDO INSTITUCIONAL MASTER FUNDO DE INVESTI...   KLBN11   \n",
       "2023-01-01  GUEPARDO INSTITUCIONAL MASTER FUNDO DE INVESTI...    ITUB4   \n",
       "2023-01-01  GUEPARDO INSTITUCIONAL MASTER FUNDO DE INVESTI...    UGPA3   \n",
       "2023-01-01  GUEPARDO INSTITUCIONAL MASTER FUNDO DE INVESTI...    RAIL3   \n",
       "...                                                       ...      ...   \n",
       "2024-01-01  GUEPARDO INSTITUCIONAL MASTER FUNDO DE INVESTI...    HBSA3   \n",
       "2024-01-01  GUEPARDO INSTITUCIONAL MASTER FUNDO DE INVESTI...    MYPK3   \n",
       "2024-01-01  GUEPARDO INSTITUCIONAL MASTER FUNDO DE INVESTI...    HYPE3   \n",
       "2024-01-01  GUEPARDO INSTITUCIONAL MASTER FUNDO DE INVESTI...    DXCO3   \n",
       "2024-01-01  GUEPARDO INSTITUCIONAL MASTER FUNDO DE INVESTI...    CSAN3   \n",
       "\n",
       "            PORCENTAGEM  VL_MERC_POS_FINAL  \n",
       "data                                        \n",
       "2023-01-01     0.247012       2.492254e+08  \n",
       "2023-01-01     0.204068       2.058972e+08  \n",
       "2023-01-01     0.137043       1.382715e+08  \n",
       "2023-01-01     0.127014       1.281520e+08  \n",
       "2023-01-01     0.119408       1.204777e+08  \n",
       "...                 ...                ...  \n",
       "2024-01-01     0.005000       9.746628e+06  \n",
       "2024-01-01     0.003066       5.976703e+06  \n",
       "2024-01-01     0.001635       3.186231e+06  \n",
       "2024-01-01     0.001209       2.357016e+06  \n",
       "2024-01-01     0.000101       1.969141e+05  \n",
       "\n",
       "[161 rows x 4 columns]"
      ]
     },
     "execution_count": 111,
     "metadata": {},
     "output_type": "execute_result"
    }
   ],
   "source": [
    "# Caminho da pasta do fundo Guepardo\n",
    "path_guepardo = 'C:\\\\Users\\\\vitor\\\\projetos_python\\\\python_b3\\\\composicao-fundos-de-investimentos\\\\fundo_investimento\\\\guepardo\\\\'\n",
    "\n",
    "# Caminho completo de todos os arquivos que estão na pasta\n",
    "paths_arquivos_guepardo = glob.glob(path_guepardo + '*.xlsx')\n",
    "\n",
    "lst_dfs = []\n",
    "for path in paths_arquivos_guepardo:\n",
    "    df = pd.read_excel(path, sheet_name='acoes')\n",
    "    lst_dfs.append(df)\n",
    "\n",
    "# Concatendo os dfs de ações\n",
    "portfolio_guepardo = pd.concat(lst_dfs, ignore_index=True)\n",
    "\n",
    "# Retirando as ações que não tem nenhum dinheiro alocado  e os NAN\n",
    "portfolio_guepardo = portfolio_guepardo[portfolio_guepardo['VL_MERC_POS_FINAL'] != 0]\n",
    "portfolio_guepardo = portfolio_guepardo.dropna()\n",
    "\n",
    "# Definindo a coluna 'data' como o index\n",
    "portfolio_guepardo = portfolio_guepardo.set_index('data')\n",
    "portfolio_guepardo"
   ]
  },
  {
   "cell_type": "code",
   "execution_count": 112,
   "metadata": {},
   "outputs": [
    {
     "name": "stdout",
     "output_type": "stream",
     "text": [
      "Comparando o portfólio de 01/2023 e 02/2023:\n",
      "O Guepardo vendeu as ações: set()\n",
      "O Guepardo comprou as ações: set()\n",
      "--------------------------------------------------------------------------------\n",
      "Comparando o portfólio de 02/2023 e 03/2023:\n",
      "O Guepardo vendeu as ações: set()\n",
      "O Guepardo comprou as ações: set()\n",
      "--------------------------------------------------------------------------------\n",
      "Comparando o portfólio de 03/2023 e 04/2023:\n",
      "O Guepardo vendeu as ações: set()\n",
      "O Guepardo comprou as ações: set()\n",
      "--------------------------------------------------------------------------------\n",
      "Comparando o portfólio de 04/2023 e 05/2023:\n",
      "O Guepardo vendeu as ações: {'DXCO3'}\n",
      "O Guepardo comprou as ações: {'GGBR4'}\n",
      "--------------------------------------------------------------------------------\n",
      "Comparando o portfólio de 05/2023 e 06/2023:\n",
      "O Guepardo vendeu as ações: {'GMAT3', 'MLAS3'}\n",
      "O Guepardo comprou as ações: {'FLRY3'}\n",
      "--------------------------------------------------------------------------------\n",
      "Comparando o portfólio de 06/2023 e 07/2023:\n",
      "O Guepardo vendeu as ações: set()\n",
      "O Guepardo comprou as ações: {'TGMA3'}\n",
      "--------------------------------------------------------------------------------\n",
      "Comparando o portfólio de 07/2023 e 08/2023:\n",
      "O Guepardo vendeu as ações: {'TGMA3'}\n",
      "O Guepardo comprou as ações: {'GMAT3'}\n",
      "--------------------------------------------------------------------------------\n",
      "Comparando o portfólio de 08/2023 e 09/2023:\n",
      "O Guepardo vendeu as ações: {'ANIM3'}\n",
      "O Guepardo comprou as ações: set()\n",
      "--------------------------------------------------------------------------------\n",
      "Comparando o portfólio de 09/2023 e 10/2023:\n",
      "O Guepardo vendeu as ações: {'ALSO3'}\n",
      "O Guepardo comprou as ações: {'VAMO3', 'CSAN3', 'ALOS3'}\n",
      "--------------------------------------------------------------------------------\n",
      "Comparando o portfólio de 10/2023 e 11/2023:\n",
      "O Guepardo vendeu as ações: set()\n",
      "O Guepardo comprou as ações: set()\n",
      "--------------------------------------------------------------------------------\n",
      "Comparando o portfólio de 11/2023 e 12/2023:\n",
      "O Guepardo vendeu as ações: {'CSAN3'}\n",
      "O Guepardo comprou as ações: {'HBSA3'}\n",
      "--------------------------------------------------------------------------------\n",
      "Comparando o portfólio de 12/2023 e 01/2024:\n",
      "O Guepardo vendeu as ações: set()\n",
      "O Guepardo comprou as ações: {'HYPE3', 'CSAN3', 'DXCO3'}\n",
      "--------------------------------------------------------------------------------\n"
     ]
    }
   ],
   "source": [
    "# Selecionando o conjunto de ações (portfólio) de cada mês - retornando um df com vários dicionários\n",
    "portfolio_mensal = portfolio_guepardo.groupby('data')['CD_ATIVO'].apply(set)\n",
    "\n",
    "# Convertendo o GroupBy resultante em DataFrame para facilitar a iteração\n",
    "portfolio_mensal = portfolio_mensal.reset_index()\n",
    "\n",
    "# Comparando o portfólio de cada mês\n",
    "comparar_portfolios(df=portfolio_mensal, nome_fundo='Guepardo')"
   ]
  },
  {
   "cell_type": "code",
   "execution_count": 113,
   "metadata": {},
   "outputs": [
    {
     "data": {
      "text/plain": [
       "data\n",
       "2023-01-01    12\n",
       "2023-02-01    12\n",
       "2023-03-01    12\n",
       "2023-04-01    12\n",
       "2023-05-01    12\n",
       "2023-06-01    11\n",
       "2023-07-01    12\n",
       "2023-08-01    12\n",
       "2023-09-01    11\n",
       "2023-10-01    13\n",
       "2023-11-01    13\n",
       "2023-12-01    13\n",
       "2024-01-01    16\n",
       "Name: CD_ATIVO, dtype: int64"
      ]
     },
     "execution_count": 113,
     "metadata": {},
     "output_type": "execute_result"
    }
   ],
   "source": [
    "# Número total de ações de cada mês do portfpolio\n",
    "num_total_acoes(df=portfolio_guepardo)"
   ]
  },
  {
   "cell_type": "code",
   "execution_count": 114,
   "metadata": {},
   "outputs": [
    {
     "data": {
      "text/plain": [
       "data\n",
       "2023-01-01    [VULC3, KLBN11, ITUB4, UGPA3, RAIL3]\n",
       "2023-02-01    [VULC3, KLBN11, ITUB4, UGPA3, RAIL3]\n",
       "2023-03-01    [VULC3, KLBN11, UGPA3, ITUB4, RAIL3]\n",
       "2023-04-01    [VULC3, KLBN11, UGPA3, ITUB4, RAIL3]\n",
       "2023-05-01    [VULC3, KLBN11, UGPA3, ITUB4, RAIL3]\n",
       "2023-06-01    [VULC3, UGPA3, KLBN11, ITUB4, RAIL3]\n",
       "2023-07-01    [VULC3, KLBN11, UGPA3, ITUB4, RAIL3]\n",
       "2023-08-01    [VULC3, KLBN11, UGPA3, ITUB4, RAIL3]\n",
       "2023-09-01    [VULC3, KLBN11, UGPA3, ITUB4, RAIL3]\n",
       "2023-10-01    [VULC3, UGPA3, KLBN11, ITUB4, RAIL3]\n",
       "2023-11-01    [VULC3, UGPA3, KLBN11, ITUB4, GMAT3]\n",
       "2023-12-01    [VULC3, KLBN11, UGPA3, ITUB4, GMAT3]\n",
       "2024-01-01    [VULC3, KLBN11, UGPA3, ITUB4, GMAT3]\n",
       "Name: CD_ATIVO, dtype: object"
      ]
     },
     "execution_count": 114,
     "metadata": {},
     "output_type": "execute_result"
    }
   ],
   "source": [
    "# Rank das 5 maiores ações do fundo\n",
    "rank_top_5(df=portfolio_guepardo)"
   ]
  },
  {
   "cell_type": "code",
   "execution_count": 115,
   "metadata": {},
   "outputs": [
    {
     "data": {
      "application/vnd.plotly.v1+json": {
       "config": {
        "plotlyServerURL": "https://plot.ly"
       },
       "data": [
        {
         "name": "01/2023",
         "orientation": "h",
         "type": "bar",
         "x": [
          24.701184112310077,
          20.406841039311118,
          13.704337223839019,
          12.70137937752997,
          11.9407599518327,
          8.863631010492403,
          4.104940374397589,
          1.441410181277037,
          1.2677181036825051,
          0.3458769221869084,
          0.2795391787627009,
          0.2423825243779512
         ],
         "xaxis": "x",
         "y": [
          "VULC3",
          "KLBN11",
          "ITUB4",
          "UGPA3",
          "RAIL3",
          "ANIM3",
          "MLAS3",
          "ALSO3",
          "ITUB3",
          "MYPK3",
          "DXCO3",
          "GMAT3"
         ],
         "yaxis": "y"
        },
        {
         "name": "02/2023",
         "orientation": "h",
         "type": "bar",
         "x": [
          24.9308528844448,
          22.215233431652027,
          14.527631882337499,
          12.41342693370845,
          12.38112074069942,
          6.754816564047841,
          2.588325677026278,
          1.9882747280470479,
          1.3489127974290889,
          0.35886071287649657,
          0.2550875080515352,
          0.23745613967949852
         ],
         "xaxis": "x2",
         "y": [
          "VULC3",
          "KLBN11",
          "ITUB4",
          "UGPA3",
          "RAIL3",
          "ANIM3",
          "ALSO3",
          "MLAS3",
          "ITUB3",
          "MYPK3",
          "DXCO3",
          "GMAT3"
         ],
         "yaxis": "y2"
        },
        {
         "name": "03/2023",
         "orientation": "h",
         "type": "bar",
         "x": [
          25.557823899074172,
          19.88366106190946,
          17.32978275859823,
          13.74408586313723,
          12.43399645371606,
          5.166024406310184,
          2.744576446359154,
          1.267423785650648,
          1.026563320714394,
          0.370297556568844,
          0.2528604238039883,
          0.22290402415764288
         ],
         "xaxis": "x3",
         "y": [
          "VULC3",
          "KLBN11",
          "UGPA3",
          "ITUB4",
          "RAIL3",
          "ANIM3",
          "ALSO3",
          "ITUB3",
          "MLAS3",
          "MYPK3",
          "GMAT3",
          "DXCO3"
         ],
         "yaxis": "y3"
        },
        {
         "name": "04/2023",
         "orientation": "h",
         "type": "bar",
         "x": [
          26.443851150923496,
          19.801375389191993,
          17.20737931937286,
          13.097698108498559,
          11.66184440680702,
          4.4957271034002035,
          3.544634197938263,
          1.734150737723041,
          1.249807135979402,
          0.3292388305005799,
          0.2243252988001223,
          0.20996832086445327
         ],
         "xaxis": "x4",
         "y": [
          "VULC3",
          "KLBN11",
          "UGPA3",
          "ITUB4",
          "RAIL3",
          "ANIM3",
          "ALSO3",
          "MLAS3",
          "ITUB3",
          "MYPK3",
          "GMAT3",
          "DXCO3"
         ],
         "yaxis": "y4"
        },
        {
         "name": "05/2023",
         "orientation": "h",
         "type": "bar",
         "x": [
          26.75726919328727,
          19.13628932618833,
          18.63905208138689,
          11.82604083205602,
          10.57335849305115,
          5.078726819611597,
          4.585620263935219,
          1.105618645327544,
          0.833046470833098,
          0.7346475771354773,
          0.39717846612189456,
          0.333151831065527
         ],
         "xaxis": "x5",
         "y": [
          "VULC3",
          "KLBN11",
          "UGPA3",
          "ITUB4",
          "RAIL3",
          "ANIM3",
          "ALSO3",
          "ITUB3",
          "MLAS3",
          "GGBR4",
          "GMAT3",
          "MYPK3"
         ],
         "yaxis": "y5"
        },
        {
         "name": "06/2023",
         "orientation": "h",
         "type": "bar",
         "x": [
          25.764048596474197,
          19.55375292309903,
          18.47825878238818,
          11.82572352214615,
          10.35778721134424,
          6.546660531940929,
          4.743930115077905,
          1.099542247218762,
          0.8502386489379982,
          0.4815744996170988,
          0.298482921755514
         ],
         "xaxis": "x6",
         "y": [
          "VULC3",
          "UGPA3",
          "KLBN11",
          "ITUB4",
          "RAIL3",
          "ANIM3",
          "ALSO3",
          "ITUB3",
          "GGBR4",
          "FLRY3",
          "MYPK3"
         ],
         "yaxis": "y6"
        },
        {
         "name": "07/2023",
         "orientation": "h",
         "type": "bar",
         "x": [
          27.118221524933773,
          18.69731318633897,
          18.49780843391621,
          11.555488235479249,
          9.829906594808255,
          7.046843122984272,
          4.456817387013926,
          1.074408660229587,
          0.656846159582284,
          0.5721630359423899,
          0.3148388461511555,
          0.17934481261992302
         ],
         "xaxis": "x7",
         "y": [
          "VULC3",
          "KLBN11",
          "UGPA3",
          "ITUB4",
          "RAIL3",
          "ANIM3",
          "ALSO3",
          "ITUB3",
          "FLRY3",
          "GGBR4",
          "MYPK3",
          "TGMA3"
         ],
         "yaxis": "y7"
        },
        {
         "name": "08/2023",
         "orientation": "h",
         "type": "bar",
         "x": [
          26.47354779744857,
          19.34274797227479,
          18.72675891316782,
          11.61363349697246,
          9.82257727036964,
          5.786885457789446,
          4.860924645555946,
          1.0724964851371028,
          1.049236265846411,
          0.8637482139541688,
          0.2798060757871868,
          0.10763740569646159
         ],
         "xaxis": "x8",
         "y": [
          "VULC3",
          "KLBN11",
          "UGPA3",
          "ITUB4",
          "RAIL3",
          "GMAT3",
          "ALSO3",
          "GGBR4",
          "ITUB3",
          "FLRY3",
          "MYPK3",
          "ANIM3"
         ],
         "yaxis": "y8"
        },
        {
         "name": "09/2023",
         "orientation": "h",
         "type": "bar",
         "x": [
          24.7257469660134,
          19.67673369970141,
          18.795961523112688,
          11.18151781308903,
          9.742324670931955,
          6.978233316294452,
          5.260760405540117,
          1.214250031294438,
          1.138460903316228,
          1.018462526291056,
          0.26754814441521124
         ],
         "xaxis": "x9",
         "y": [
          "VULC3",
          "KLBN11",
          "UGPA3",
          "ITUB4",
          "RAIL3",
          "GMAT3",
          "ALSO3",
          "FLRY3",
          "GGBR4",
          "ITUB3",
          "MYPK3"
         ],
         "yaxis": "y9"
        },
        {
         "name": "10/2023",
         "orientation": "h",
         "type": "bar",
         "x": [
          21.97775885331368,
          19.293066188855658,
          17.88250308501173,
          11.13947602545308,
          9.693411244247262,
          8.107720139705563,
          6.440016159036088,
          2.078066927479494,
          1.309485160520531,
          1.0094843359319852,
          0.7891747373550737,
          0.2529425043008498,
          0.026894638789018366
         ],
         "xaxis": "x10",
         "y": [
          "VULC3",
          "UGPA3",
          "KLBN11",
          "ITUB4",
          "RAIL3",
          "GMAT3",
          "ALOS3",
          "GGBR4",
          "FLRY3",
          "ITUB3",
          "VAMO3",
          "MYPK3",
          "CSAN3"
         ],
         "yaxis": "y10"
        },
        {
         "name": "11/2023",
         "orientation": "h",
         "type": "bar",
         "x": [
          23.284171210793183,
          18.553822829852628,
          17.80439739494343,
          12.24656961261053,
          9.230419627745407,
          6.998300636506176,
          6.249446359120014,
          2.045139156895029,
          1.408754239568595,
          1.114847248888833,
          0.7975665547819706,
          0.25890916738697406,
          0.007655960907228787
         ],
         "xaxis": "x11",
         "y": [
          "VULC3",
          "UGPA3",
          "KLBN11",
          "ITUB4",
          "GMAT3",
          "RAIL3",
          "ALOS3",
          "GGBR4",
          "FLRY3",
          "ITUB3",
          "VAMO3",
          "MYPK3",
          "CSAN3"
         ],
         "yaxis": "y11"
        },
        {
         "name": "12/2023",
         "orientation": "h",
         "type": "bar",
         "x": [
          21.25947481866091,
          18.56727056964422,
          17.4070074355006,
          12.391362474931709,
          10.54549044056059,
          6.999161149716598,
          6.280736330927536,
          2.3214540482774657,
          1.487372129605252,
          1.178668799824964,
          0.8323401317996849,
          0.4444592823805185,
          0.28520238816995763
         ],
         "xaxis": "x12",
         "y": [
          "VULC3",
          "KLBN11",
          "UGPA3",
          "ITUB4",
          "GMAT3",
          "RAIL3",
          "ALOS3",
          "GGBR4",
          "FLRY3",
          "ITUB3",
          "VAMO3",
          "HBSA3",
          "MYPK3"
         ],
         "yaxis": "y12"
        },
        {
         "name": "01/2024",
         "orientation": "h",
         "type": "bar",
         "x": [
          19.80977562595767,
          18.66146198989299,
          16.259756309445738,
          12.473309753949751,
          10.13965338831912,
          7.349396880349906,
          6.834045369389186,
          3.3365778298753312,
          1.996956874230255,
          1.179389853683538,
          0.858623320262045,
          0.49999096727766523,
          0.3065980738197735,
          0.1634500591406462,
          0.12091223636748821,
          0.01010146803889073
         ],
         "xaxis": "x13",
         "y": [
          "VULC3",
          "KLBN11",
          "UGPA3",
          "ITUB4",
          "GMAT3",
          "ALOS3",
          "RAIL3",
          "GGBR4",
          "FLRY3",
          "ITUB3",
          "VAMO3",
          "HBSA3",
          "MYPK3",
          "HYPE3",
          "DXCO3",
          "CSAN3"
         ],
         "yaxis": "y13"
        }
       ],
       "layout": {
        "annotations": [
         {
          "font": {
           "size": 16
          },
          "showarrow": false,
          "text": "Distribuição Percentual do Portfólio - 01/2023",
          "x": 0.5,
          "xanchor": "center",
          "xref": "paper",
          "y": 1,
          "yanchor": "bottom",
          "yref": "paper"
         },
         {
          "font": {
           "size": 16
          },
          "showarrow": false,
          "text": "Distribuição Percentual do Portfólio - 02/2023",
          "x": 0.5,
          "xanchor": "center",
          "xref": "paper",
          "y": 0.9215384615384615,
          "yanchor": "bottom",
          "yref": "paper"
         },
         {
          "font": {
           "size": 16
          },
          "showarrow": false,
          "text": "Distribuição Percentual do Portfólio - 03/2023",
          "x": 0.5,
          "xanchor": "center",
          "xref": "paper",
          "y": 0.8430769230769232,
          "yanchor": "bottom",
          "yref": "paper"
         },
         {
          "font": {
           "size": 16
          },
          "showarrow": false,
          "text": "Distribuição Percentual do Portfólio - 04/2023",
          "x": 0.5,
          "xanchor": "center",
          "xref": "paper",
          "y": 0.7646153846153846,
          "yanchor": "bottom",
          "yref": "paper"
         },
         {
          "font": {
           "size": 16
          },
          "showarrow": false,
          "text": "Distribuição Percentual do Portfólio - 05/2023",
          "x": 0.5,
          "xanchor": "center",
          "xref": "paper",
          "y": 0.6861538461538461,
          "yanchor": "bottom",
          "yref": "paper"
         },
         {
          "font": {
           "size": 16
          },
          "showarrow": false,
          "text": "Distribuição Percentual do Portfólio - 06/2023",
          "x": 0.5,
          "xanchor": "center",
          "xref": "paper",
          "y": 0.6076923076923076,
          "yanchor": "bottom",
          "yref": "paper"
         },
         {
          "font": {
           "size": 16
          },
          "showarrow": false,
          "text": "Distribuição Percentual do Portfólio - 07/2023",
          "x": 0.5,
          "xanchor": "center",
          "xref": "paper",
          "y": 0.5292307692307693,
          "yanchor": "bottom",
          "yref": "paper"
         },
         {
          "font": {
           "size": 16
          },
          "showarrow": false,
          "text": "Distribuição Percentual do Portfólio - 08/2023",
          "x": 0.5,
          "xanchor": "center",
          "xref": "paper",
          "y": 0.4507692307692308,
          "yanchor": "bottom",
          "yref": "paper"
         },
         {
          "font": {
           "size": 16
          },
          "showarrow": false,
          "text": "Distribuição Percentual do Portfólio - 09/2023",
          "x": 0.5,
          "xanchor": "center",
          "xref": "paper",
          "y": 0.3723076923076923,
          "yanchor": "bottom",
          "yref": "paper"
         },
         {
          "font": {
           "size": 16
          },
          "showarrow": false,
          "text": "Distribuição Percentual do Portfólio - 10/2023",
          "x": 0.5,
          "xanchor": "center",
          "xref": "paper",
          "y": 0.29384615384615387,
          "yanchor": "bottom",
          "yref": "paper"
         },
         {
          "font": {
           "size": 16
          },
          "showarrow": false,
          "text": "Distribuição Percentual do Portfólio - 11/2023",
          "x": 0.5,
          "xanchor": "center",
          "xref": "paper",
          "y": 0.21538461538461537,
          "yanchor": "bottom",
          "yref": "paper"
         },
         {
          "font": {
           "size": 16
          },
          "showarrow": false,
          "text": "Distribuição Percentual do Portfólio - 12/2023",
          "x": 0.5,
          "xanchor": "center",
          "xref": "paper",
          "y": 0.13692307692307693,
          "yanchor": "bottom",
          "yref": "paper"
         },
         {
          "font": {
           "size": 16
          },
          "showarrow": false,
          "text": "Distribuição Percentual do Portfólio - 01/2024",
          "x": 0.5,
          "xanchor": "center",
          "xref": "paper",
          "y": 0.05846153846153846,
          "yanchor": "bottom",
          "yref": "paper"
         }
        ],
        "height": 6000,
        "template": {
         "data": {
          "bar": [
           {
            "error_x": {
             "color": "#2a3f5f"
            },
            "error_y": {
             "color": "#2a3f5f"
            },
            "marker": {
             "line": {
              "color": "#E5ECF6",
              "width": 0.5
             },
             "pattern": {
              "fillmode": "overlay",
              "size": 10,
              "solidity": 0.2
             }
            },
            "type": "bar"
           }
          ],
          "barpolar": [
           {
            "marker": {
             "line": {
              "color": "#E5ECF6",
              "width": 0.5
             },
             "pattern": {
              "fillmode": "overlay",
              "size": 10,
              "solidity": 0.2
             }
            },
            "type": "barpolar"
           }
          ],
          "carpet": [
           {
            "aaxis": {
             "endlinecolor": "#2a3f5f",
             "gridcolor": "white",
             "linecolor": "white",
             "minorgridcolor": "white",
             "startlinecolor": "#2a3f5f"
            },
            "baxis": {
             "endlinecolor": "#2a3f5f",
             "gridcolor": "white",
             "linecolor": "white",
             "minorgridcolor": "white",
             "startlinecolor": "#2a3f5f"
            },
            "type": "carpet"
           }
          ],
          "choropleth": [
           {
            "colorbar": {
             "outlinewidth": 0,
             "ticks": ""
            },
            "type": "choropleth"
           }
          ],
          "contour": [
           {
            "colorbar": {
             "outlinewidth": 0,
             "ticks": ""
            },
            "colorscale": [
             [
              0,
              "#0d0887"
             ],
             [
              0.1111111111111111,
              "#46039f"
             ],
             [
              0.2222222222222222,
              "#7201a8"
             ],
             [
              0.3333333333333333,
              "#9c179e"
             ],
             [
              0.4444444444444444,
              "#bd3786"
             ],
             [
              0.5555555555555556,
              "#d8576b"
             ],
             [
              0.6666666666666666,
              "#ed7953"
             ],
             [
              0.7777777777777778,
              "#fb9f3a"
             ],
             [
              0.8888888888888888,
              "#fdca26"
             ],
             [
              1,
              "#f0f921"
             ]
            ],
            "type": "contour"
           }
          ],
          "contourcarpet": [
           {
            "colorbar": {
             "outlinewidth": 0,
             "ticks": ""
            },
            "type": "contourcarpet"
           }
          ],
          "heatmap": [
           {
            "colorbar": {
             "outlinewidth": 0,
             "ticks": ""
            },
            "colorscale": [
             [
              0,
              "#0d0887"
             ],
             [
              0.1111111111111111,
              "#46039f"
             ],
             [
              0.2222222222222222,
              "#7201a8"
             ],
             [
              0.3333333333333333,
              "#9c179e"
             ],
             [
              0.4444444444444444,
              "#bd3786"
             ],
             [
              0.5555555555555556,
              "#d8576b"
             ],
             [
              0.6666666666666666,
              "#ed7953"
             ],
             [
              0.7777777777777778,
              "#fb9f3a"
             ],
             [
              0.8888888888888888,
              "#fdca26"
             ],
             [
              1,
              "#f0f921"
             ]
            ],
            "type": "heatmap"
           }
          ],
          "heatmapgl": [
           {
            "colorbar": {
             "outlinewidth": 0,
             "ticks": ""
            },
            "colorscale": [
             [
              0,
              "#0d0887"
             ],
             [
              0.1111111111111111,
              "#46039f"
             ],
             [
              0.2222222222222222,
              "#7201a8"
             ],
             [
              0.3333333333333333,
              "#9c179e"
             ],
             [
              0.4444444444444444,
              "#bd3786"
             ],
             [
              0.5555555555555556,
              "#d8576b"
             ],
             [
              0.6666666666666666,
              "#ed7953"
             ],
             [
              0.7777777777777778,
              "#fb9f3a"
             ],
             [
              0.8888888888888888,
              "#fdca26"
             ],
             [
              1,
              "#f0f921"
             ]
            ],
            "type": "heatmapgl"
           }
          ],
          "histogram": [
           {
            "marker": {
             "pattern": {
              "fillmode": "overlay",
              "size": 10,
              "solidity": 0.2
             }
            },
            "type": "histogram"
           }
          ],
          "histogram2d": [
           {
            "colorbar": {
             "outlinewidth": 0,
             "ticks": ""
            },
            "colorscale": [
             [
              0,
              "#0d0887"
             ],
             [
              0.1111111111111111,
              "#46039f"
             ],
             [
              0.2222222222222222,
              "#7201a8"
             ],
             [
              0.3333333333333333,
              "#9c179e"
             ],
             [
              0.4444444444444444,
              "#bd3786"
             ],
             [
              0.5555555555555556,
              "#d8576b"
             ],
             [
              0.6666666666666666,
              "#ed7953"
             ],
             [
              0.7777777777777778,
              "#fb9f3a"
             ],
             [
              0.8888888888888888,
              "#fdca26"
             ],
             [
              1,
              "#f0f921"
             ]
            ],
            "type": "histogram2d"
           }
          ],
          "histogram2dcontour": [
           {
            "colorbar": {
             "outlinewidth": 0,
             "ticks": ""
            },
            "colorscale": [
             [
              0,
              "#0d0887"
             ],
             [
              0.1111111111111111,
              "#46039f"
             ],
             [
              0.2222222222222222,
              "#7201a8"
             ],
             [
              0.3333333333333333,
              "#9c179e"
             ],
             [
              0.4444444444444444,
              "#bd3786"
             ],
             [
              0.5555555555555556,
              "#d8576b"
             ],
             [
              0.6666666666666666,
              "#ed7953"
             ],
             [
              0.7777777777777778,
              "#fb9f3a"
             ],
             [
              0.8888888888888888,
              "#fdca26"
             ],
             [
              1,
              "#f0f921"
             ]
            ],
            "type": "histogram2dcontour"
           }
          ],
          "mesh3d": [
           {
            "colorbar": {
             "outlinewidth": 0,
             "ticks": ""
            },
            "type": "mesh3d"
           }
          ],
          "parcoords": [
           {
            "line": {
             "colorbar": {
              "outlinewidth": 0,
              "ticks": ""
             }
            },
            "type": "parcoords"
           }
          ],
          "pie": [
           {
            "automargin": true,
            "type": "pie"
           }
          ],
          "scatter": [
           {
            "fillpattern": {
             "fillmode": "overlay",
             "size": 10,
             "solidity": 0.2
            },
            "type": "scatter"
           }
          ],
          "scatter3d": [
           {
            "line": {
             "colorbar": {
              "outlinewidth": 0,
              "ticks": ""
             }
            },
            "marker": {
             "colorbar": {
              "outlinewidth": 0,
              "ticks": ""
             }
            },
            "type": "scatter3d"
           }
          ],
          "scattercarpet": [
           {
            "marker": {
             "colorbar": {
              "outlinewidth": 0,
              "ticks": ""
             }
            },
            "type": "scattercarpet"
           }
          ],
          "scattergeo": [
           {
            "marker": {
             "colorbar": {
              "outlinewidth": 0,
              "ticks": ""
             }
            },
            "type": "scattergeo"
           }
          ],
          "scattergl": [
           {
            "marker": {
             "colorbar": {
              "outlinewidth": 0,
              "ticks": ""
             }
            },
            "type": "scattergl"
           }
          ],
          "scattermapbox": [
           {
            "marker": {
             "colorbar": {
              "outlinewidth": 0,
              "ticks": ""
             }
            },
            "type": "scattermapbox"
           }
          ],
          "scatterpolar": [
           {
            "marker": {
             "colorbar": {
              "outlinewidth": 0,
              "ticks": ""
             }
            },
            "type": "scatterpolar"
           }
          ],
          "scatterpolargl": [
           {
            "marker": {
             "colorbar": {
              "outlinewidth": 0,
              "ticks": ""
             }
            },
            "type": "scatterpolargl"
           }
          ],
          "scatterternary": [
           {
            "marker": {
             "colorbar": {
              "outlinewidth": 0,
              "ticks": ""
             }
            },
            "type": "scatterternary"
           }
          ],
          "surface": [
           {
            "colorbar": {
             "outlinewidth": 0,
             "ticks": ""
            },
            "colorscale": [
             [
              0,
              "#0d0887"
             ],
             [
              0.1111111111111111,
              "#46039f"
             ],
             [
              0.2222222222222222,
              "#7201a8"
             ],
             [
              0.3333333333333333,
              "#9c179e"
             ],
             [
              0.4444444444444444,
              "#bd3786"
             ],
             [
              0.5555555555555556,
              "#d8576b"
             ],
             [
              0.6666666666666666,
              "#ed7953"
             ],
             [
              0.7777777777777778,
              "#fb9f3a"
             ],
             [
              0.8888888888888888,
              "#fdca26"
             ],
             [
              1,
              "#f0f921"
             ]
            ],
            "type": "surface"
           }
          ],
          "table": [
           {
            "cells": {
             "fill": {
              "color": "#EBF0F8"
             },
             "line": {
              "color": "white"
             }
            },
            "header": {
             "fill": {
              "color": "#C8D4E3"
             },
             "line": {
              "color": "white"
             }
            },
            "type": "table"
           }
          ]
         },
         "layout": {
          "annotationdefaults": {
           "arrowcolor": "#2a3f5f",
           "arrowhead": 0,
           "arrowwidth": 1
          },
          "autotypenumbers": "strict",
          "coloraxis": {
           "colorbar": {
            "outlinewidth": 0,
            "ticks": ""
           }
          },
          "colorscale": {
           "diverging": [
            [
             0,
             "#8e0152"
            ],
            [
             0.1,
             "#c51b7d"
            ],
            [
             0.2,
             "#de77ae"
            ],
            [
             0.3,
             "#f1b6da"
            ],
            [
             0.4,
             "#fde0ef"
            ],
            [
             0.5,
             "#f7f7f7"
            ],
            [
             0.6,
             "#e6f5d0"
            ],
            [
             0.7,
             "#b8e186"
            ],
            [
             0.8,
             "#7fbc41"
            ],
            [
             0.9,
             "#4d9221"
            ],
            [
             1,
             "#276419"
            ]
           ],
           "sequential": [
            [
             0,
             "#0d0887"
            ],
            [
             0.1111111111111111,
             "#46039f"
            ],
            [
             0.2222222222222222,
             "#7201a8"
            ],
            [
             0.3333333333333333,
             "#9c179e"
            ],
            [
             0.4444444444444444,
             "#bd3786"
            ],
            [
             0.5555555555555556,
             "#d8576b"
            ],
            [
             0.6666666666666666,
             "#ed7953"
            ],
            [
             0.7777777777777778,
             "#fb9f3a"
            ],
            [
             0.8888888888888888,
             "#fdca26"
            ],
            [
             1,
             "#f0f921"
            ]
           ],
           "sequentialminus": [
            [
             0,
             "#0d0887"
            ],
            [
             0.1111111111111111,
             "#46039f"
            ],
            [
             0.2222222222222222,
             "#7201a8"
            ],
            [
             0.3333333333333333,
             "#9c179e"
            ],
            [
             0.4444444444444444,
             "#bd3786"
            ],
            [
             0.5555555555555556,
             "#d8576b"
            ],
            [
             0.6666666666666666,
             "#ed7953"
            ],
            [
             0.7777777777777778,
             "#fb9f3a"
            ],
            [
             0.8888888888888888,
             "#fdca26"
            ],
            [
             1,
             "#f0f921"
            ]
           ]
          },
          "colorway": [
           "#636efa",
           "#EF553B",
           "#00cc96",
           "#ab63fa",
           "#FFA15A",
           "#19d3f3",
           "#FF6692",
           "#B6E880",
           "#FF97FF",
           "#FECB52"
          ],
          "font": {
           "color": "#2a3f5f"
          },
          "geo": {
           "bgcolor": "white",
           "lakecolor": "white",
           "landcolor": "#E5ECF6",
           "showlakes": true,
           "showland": true,
           "subunitcolor": "white"
          },
          "hoverlabel": {
           "align": "left"
          },
          "hovermode": "closest",
          "mapbox": {
           "style": "light"
          },
          "paper_bgcolor": "white",
          "plot_bgcolor": "#E5ECF6",
          "polar": {
           "angularaxis": {
            "gridcolor": "white",
            "linecolor": "white",
            "ticks": ""
           },
           "bgcolor": "#E5ECF6",
           "radialaxis": {
            "gridcolor": "white",
            "linecolor": "white",
            "ticks": ""
           }
          },
          "scene": {
           "xaxis": {
            "backgroundcolor": "#E5ECF6",
            "gridcolor": "white",
            "gridwidth": 2,
            "linecolor": "white",
            "showbackground": true,
            "ticks": "",
            "zerolinecolor": "white"
           },
           "yaxis": {
            "backgroundcolor": "#E5ECF6",
            "gridcolor": "white",
            "gridwidth": 2,
            "linecolor": "white",
            "showbackground": true,
            "ticks": "",
            "zerolinecolor": "white"
           },
           "zaxis": {
            "backgroundcolor": "#E5ECF6",
            "gridcolor": "white",
            "gridwidth": 2,
            "linecolor": "white",
            "showbackground": true,
            "ticks": "",
            "zerolinecolor": "white"
           }
          },
          "shapedefaults": {
           "line": {
            "color": "#2a3f5f"
           }
          },
          "ternary": {
           "aaxis": {
            "gridcolor": "white",
            "linecolor": "white",
            "ticks": ""
           },
           "baxis": {
            "gridcolor": "white",
            "linecolor": "white",
            "ticks": ""
           },
           "bgcolor": "#E5ECF6",
           "caxis": {
            "gridcolor": "white",
            "linecolor": "white",
            "ticks": ""
           }
          },
          "title": {
           "x": 0.05
          },
          "xaxis": {
           "automargin": true,
           "gridcolor": "white",
           "linecolor": "white",
           "ticks": "",
           "title": {
            "standoff": 15
           },
           "zerolinecolor": "white",
           "zerolinewidth": 2
          },
          "yaxis": {
           "automargin": true,
           "gridcolor": "white",
           "linecolor": "white",
           "ticks": "",
           "title": {
            "standoff": 15
           },
           "zerolinecolor": "white",
           "zerolinewidth": 2
          }
         }
        },
        "title": {
         "text": "Portfólio do Fundo Guepardo"
        },
        "width": 900,
        "xaxis": {
         "anchor": "y",
         "domain": [
          0,
          1
         ]
        },
        "xaxis10": {
         "anchor": "y10",
         "domain": [
          0,
          1
         ]
        },
        "xaxis11": {
         "anchor": "y11",
         "domain": [
          0,
          1
         ]
        },
        "xaxis12": {
         "anchor": "y12",
         "domain": [
          0,
          1
         ]
        },
        "xaxis13": {
         "anchor": "y13",
         "domain": [
          0,
          1
         ]
        },
        "xaxis2": {
         "anchor": "y2",
         "domain": [
          0,
          1
         ]
        },
        "xaxis3": {
         "anchor": "y3",
         "domain": [
          0,
          1
         ]
        },
        "xaxis4": {
         "anchor": "y4",
         "domain": [
          0,
          1
         ]
        },
        "xaxis5": {
         "anchor": "y5",
         "domain": [
          0,
          1
         ]
        },
        "xaxis6": {
         "anchor": "y6",
         "domain": [
          0,
          1
         ]
        },
        "xaxis7": {
         "anchor": "y7",
         "domain": [
          0,
          1
         ]
        },
        "xaxis8": {
         "anchor": "y8",
         "domain": [
          0,
          1
         ]
        },
        "xaxis9": {
         "anchor": "y9",
         "domain": [
          0,
          1
         ]
        },
        "yaxis": {
         "anchor": "x",
         "domain": [
          0.9415384615384615,
          1
         ]
        },
        "yaxis10": {
         "anchor": "x10",
         "domain": [
          0.2353846153846154,
          0.29384615384615387
         ]
        },
        "yaxis11": {
         "anchor": "x11",
         "domain": [
          0.15692307692307692,
          0.21538461538461537
         ]
        },
        "yaxis12": {
         "anchor": "x12",
         "domain": [
          0.07846153846153846,
          0.13692307692307693
         ]
        },
        "yaxis13": {
         "anchor": "x13",
         "domain": [
          0,
          0.05846153846153846
         ]
        },
        "yaxis2": {
         "anchor": "x2",
         "domain": [
          0.8630769230769231,
          0.9215384615384615
         ]
        },
        "yaxis3": {
         "anchor": "x3",
         "domain": [
          0.7846153846153847,
          0.8430769230769232
         ]
        },
        "yaxis4": {
         "anchor": "x4",
         "domain": [
          0.7061538461538461,
          0.7646153846153846
         ]
        },
        "yaxis5": {
         "anchor": "x5",
         "domain": [
          0.6276923076923077,
          0.6861538461538461
         ]
        },
        "yaxis6": {
         "anchor": "x6",
         "domain": [
          0.5492307692307692,
          0.6076923076923076
         ]
        },
        "yaxis7": {
         "anchor": "x7",
         "domain": [
          0.4707692307692308,
          0.5292307692307693
         ]
        },
        "yaxis8": {
         "anchor": "x8",
         "domain": [
          0.39230769230769236,
          0.4507692307692308
         ]
        },
        "yaxis9": {
         "anchor": "x9",
         "domain": [
          0.31384615384615383,
          0.3723076923076923
         ]
        }
       }
      }
     },
     "metadata": {},
     "output_type": "display_data"
    }
   ],
   "source": [
    "# Plotando o portfólio de cada mês\n",
    "plot_portfolio(df=portfolio_guepardo, nome_fundo='Guepardo')"
   ]
  },
  {
   "cell_type": "markdown",
   "metadata": {},
   "source": [
    "## Fundos de Previdência"
   ]
  },
  {
   "cell_type": "markdown",
   "metadata": {},
   "source": [
    "### Itau Prev High Yield"
   ]
  },
  {
   "cell_type": "markdown",
   "metadata": {},
   "source": [
    "* Eu baixei o arquivo de 03/2024 - para ver quais eram as debêntures que o fundo comprava. Esse arquivo não está atualizado com os dados dos fundos (Verde, Dynamo, IP, Squadra e Guepardo).\n",
    "* https://maisretorno.com/fundo/itau-flexprev-high-yield-ii-fi-financeiro-mult-cp-resp-limitada"
   ]
  },
  {
   "cell_type": "code",
   "execution_count": null,
   "metadata": {},
   "outputs": [],
   "source": [
    "itau_prev_hy_debentures = fundo_cnpj_debentures(df=df_ativos, cnpj='42.814.944/0001-42')\n",
    "itau_prev_hy_pl = pl_fundo(\n",
    "    path=f'C://Users//vitor//projetos_python//python_b3//historico-arquivos//fundos_investimentos//fundos_cvm//{ano}{mes}//cda_fi_PL_{ano}{mes}.parquet', \n",
    "    cnpj='42.814.944/0001-42'\n",
    ")\n",
    "\n",
    "# Quantos porcertos cada categoria representa do PL final\n",
    "pct_debentures = round(pd.Series(itau_prev_hy_debentures['VL_MERC_POS_FINAL'].sum() / itau_prev_hy_pl.values), 4) \n",
    "\n",
    "# Criando a data do portfólio\n",
    "data = pd.to_datetime(f'{mes}-{ano}')\n",
    "\n",
    "# Adicionando a informação da porcentagem de cada categoria nos dfs\n",
    "# Debêntures\n",
    "linha_pct_debentures = {'DENOM_SOCIAL': 'PL% FUNDO', 'VL_MERC_POS_FINAL' : pct_debentures}\n",
    "df_linha_pct_debentures = pd.DataFrame(linha_pct_debentures)\n",
    "itau_prev_hy_debentures = pd.concat([itau_prev_hy_debentures, df_linha_pct_debentures], ignore_index=True)\n",
    "# Criando a coluna 'data' no df\n",
    "itau_prev_hy_debentures['data'] = data\n",
    "# Definindo a coluna 'data' como o index\n",
    "itau_prev_hy_debentures = itau_prev_hy_debentures.set_index('data')"
   ]
  },
  {
   "cell_type": "code",
   "execution_count": null,
   "metadata": {},
   "outputs": [],
   "source": [
    "# Criando o arquivo excel para o fundo Itau Prev HY\n",
    "with pd.ExcelWriter(f'C://Users//vitor//projetos_python//python_b3//composicao-fundos-de-investimentos//fundo_previdencia//itau_hy//fundo_itau_prev_hy_{ano}{mes}.xlsx') as writer:\n",
    "    itau_prev_hy_debentures.to_excel(writer, sheet_name='debentures')"
   ]
  },
  {
   "cell_type": "markdown",
   "metadata": {},
   "source": [
    "### Itau Person Kinea CP"
   ]
  },
  {
   "cell_type": "markdown",
   "metadata": {},
   "source": [
    "* Eu baixei o arquivo de 03/2024 - para ver quais eram as debêntures que o fundo comprava. Esse arquivo não está atualizado com os dados dos fundos (Verde, Dynamo, IP, Squadra e Guepardo).\n",
    "* https://maisretorno.com/fundo/kinea-cp-prev-rf-fi"
   ]
  },
  {
   "cell_type": "code",
   "execution_count": null,
   "metadata": {},
   "outputs": [],
   "source": [
    "itau_kinea_prev_debentures = fundo_cnpj_debentures(df=df_ativos, cnpj='26.491.419/0001-87')\n",
    "itau_kinea_prev_pl = pl_fundo(\n",
    "    path=f'C://Users//vitor//projetos_python//python_b3//historico-arquivos//fundos_investimentos//fundos_cvm//{ano}{mes}//cda_fi_PL_{ano}{mes}.parquet', \n",
    "    cnpj='26.491.419/0001-87'\n",
    ")\n",
    "\n",
    "# Quantos porcertos cada categoria representa do PL final\n",
    "pct_debentures = round(pd.Series(itau_kinea_prev_debentures['VL_MERC_POS_FINAL'].sum() / itau_kinea_prev_pl.values), 4) \n",
    "\n",
    "# Criando a data do portfólio\n",
    "data = pd.to_datetime(f'{mes}-{ano}')\n",
    "\n",
    "# Adicionando a informação da porcentagem de cada categoria nos dfs\n",
    "# Debêntures\n",
    "linha_pct_debentures = {'DENOM_SOCIAL': 'PL% FUNDO', 'VL_MERC_POS_FINAL' : pct_debentures}\n",
    "df_linha_pct_debentures = pd.DataFrame(linha_pct_debentures)\n",
    "itau_kinea_prev_debentures = pd.concat([itau_kinea_prev_debentures, df_linha_pct_debentures], ignore_index=True)\n",
    "# Criando a coluna 'data' no df\n",
    "itau_kinea_prev_debentures['data'] = data\n",
    "# Definindo a coluna 'data' como o index\n",
    "itau_kinea_prev_debentures = itau_kinea_prev_debentures.set_index('data')"
   ]
  },
  {
   "cell_type": "code",
   "execution_count": null,
   "metadata": {},
   "outputs": [],
   "source": [
    "# Criando o arquivo excel para o fundo Itau Kinea Prev\n",
    "with pd.ExcelWriter(f'C://Users//vitor//projetos_python//python_b3//composicao-fundos-de-investimentos//fundo_previdencia//itau_person_kinea//fundo_itau_person_kinea_{ano}{mes}.xlsx') as writer:\n",
    "    itau_kinea_prev_debentures.to_excel(writer, sheet_name='debentures')"
   ]
  }
 ],
 "metadata": {
  "kernelspec": {
   "display_name": "Python 3",
   "language": "python",
   "name": "python3"
  },
  "language_info": {
   "codemirror_mode": {
    "name": "ipython",
    "version": 3
   },
   "file_extension": ".py",
   "mimetype": "text/x-python",
   "name": "python",
   "nbconvert_exporter": "python",
   "pygments_lexer": "ipython3",
   "version": "3.10.2"
  },
  "orig_nbformat": 4
 },
 "nbformat": 4,
 "nbformat_minor": 2
}
