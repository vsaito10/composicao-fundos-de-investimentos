{
 "cells": [
  {
   "cell_type": "markdown",
   "metadata": {},
   "source": [
    "**Histórico dos dados dos fundos de investimentos**\n",
    "* https://dados.cvm.gov.br/dataset/fi-doc-cda\n",
    "* https://dados.cvm.gov.br/dataset/fi-doc-inf_diario\n",
    "\n",
    "* Observação: muitas vezes, os arquivos excel do site acima não se atualizam rapidamente. Para ver a posição mais atualizada entrar no site:\n",
    "* https://conteudo.cvm.gov.br/menu/regulados/fundos/consultas/fundos.html\n",
    "---\n",
    "O arquivo zipado 'cda_fi' contém vários arquivos excel. Os arquivos que eu tenho interesse são:\n",
    "\n",
    "* cda_fi_BLC_1: arquivo que contém os 'Títulos Públicos';\n",
    "* cda_fi_BLC_2: arquivo que contém as 'Cotas de Fundos';\n",
    "* cda_fi_BLC_4: arquivo que contém as 'Ações', 'BDRs', 'Opções', 'Mercado futuro', 'Debêntures', 'Obrigações por ações' (posição vendida);\n",
    "* cda_fi_BLC_7: arquivo que contém os 'Investimentos no Exterior';\n",
    "* cda_fi_BLC_8: arquivo que contém os 'Investimentos no Exterior';\n",
    "* cda_fi_PL: arquivo que contém o PL dos fundos de investimentos.\n",
    "\n",
    "---\n",
    "O arquivo zipado 'inf_diario_fi' contém apenas um arquivo excel."
   ]
  },
  {
   "cell_type": "code",
   "execution_count": null,
   "metadata": {},
   "outputs": [],
   "source": [
    "from funcoes import *\n",
    "import glob\n",
    "import os\n",
    "import pandas as pd\n",
    "import yfinance as yf\n",
    "import zipfile"
   ]
  },
  {
   "cell_type": "markdown",
   "metadata": {},
   "source": [
    "## Extraindo os arquivos zipados"
   ]
  },
  {
   "cell_type": "markdown",
   "metadata": {},
   "source": [
    "### Extração dos arquivos \"cda_fi\""
   ]
  },
  {
   "cell_type": "code",
   "execution_count": null,
   "metadata": {},
   "outputs": [],
   "source": [
    "# Mês e ano escolhido\n",
    "mes = '01'\n",
    "ano = '2024'\n",
    "\n",
    "# Nome do arquivo zipado\n",
    "zip_filename = f'C://Users//vitor//projetos_python//python_b3//historico-arquivos//fundos_investimentos//fundos_cvm_zip//cda_fi_{ano}{mes}.zip'\n",
    "\n",
    "# # Visualizando a lista dos nomes dos arquivos dentro do arquivo zipado\n",
    "# with zipfile.ZipFile(zip_filename, 'r') as zip_ref:\n",
    "#     print(\"Arquivos dentro do arquivo zipado:\")\n",
    "#     print(zip_ref.namelist())\n",
    "\n",
    "# Lista dos nomes dos arquivos que você deseja extrair\n",
    "arquivos_a_extrair = [\n",
    "    f'cda_fi_BLC_1_{ano}{mes}.csv', \n",
    "    f'cda_fi_BLC_2_{ano}{mes}.csv', \n",
    "    f'cda_fi_BLC_4_{ano}{mes}.csv', \n",
    "    f'cda_fi_BLC_7_{ano}{mes}.csv', \n",
    "    f'cda_fi_BLC_8_{ano}{mes}.csv',\n",
    "    f'cda_fi_PL_{ano}{mes}.csv'\n",
    "]\n",
    "\n",
    "# Caminho do diretório do diretório do arquivo não zipado\n",
    "destino_dir = f'C://Users//vitor//projetos_python//python_b3//historico-arquivos//fundos_investimentos//fundos_cvm//{ano}{mes}'\n",
    "\n",
    "# Abrindo o arquivo zipado\n",
    "with zipfile.ZipFile(zip_filename, 'r') as zip_ref:\n",
    "    # Extraindo os arquivos selecionados para um diretório específico\n",
    "    for arquivo in arquivos_a_extrair:\n",
    "        zip_ref.extract(arquivo, destino_dir)\n",
    "\n",
    "        # Caminhos dos arquivos em formato csv e parquet\n",
    "        csv_path = f'{destino_dir}//{arquivo}'\n",
    "        parquet_path = f'{destino_dir}//{arquivo.replace(\".csv\", \".parquet\")}'\n",
    "\n",
    "        # Lendo os arquivos csv\n",
    "        df = pd.read_csv(csv_path, sep=';', encoding='ISO-8859-1', low_memory=False)\n",
    "\n",
    "        # Transformando esses arquivos em parquet\n",
    "        df.to_parquet(parquet_path)\n",
    "\n",
    "# Entrando para o diretório especificado\n",
    "os.chdir(destino_dir)\n",
    "\n",
    "# Encontrando todos os arquivos .csv no diretório\n",
    "arquivos_csv = glob.glob('*.csv')\n",
    "\n",
    "# Loop para deletar cada arquivo csv encontrado\n",
    "for arquivo in arquivos_csv:\n",
    "    os.remove(arquivo)"
   ]
  },
  {
   "cell_type": "markdown",
   "metadata": {},
   "source": [
    "### Extração dos arquivos \"inf_diario_fi\""
   ]
  },
  {
   "cell_type": "code",
   "execution_count": null,
   "metadata": {},
   "outputs": [],
   "source": [
    "# Descompactando apenas um arquivo\n",
    "\n",
    "# Mês e ano escolhido\n",
    "mes = '11'\n",
    "ano = '2023'\n",
    "\n",
    "# Nome do arquivo zipado\n",
    "zip_filename = f'C://Users//vitor//projetos_python//python_b3//historico-arquivos//fundos_investimentos//inf_diario_cvm_zip//inf_diario_fi_{ano}{mes}.zip'\n",
    "\n",
    "# Lista dos nomes dos arquivos que você deseja extrair\n",
    "arquivo_a_extrair = [f'inf_diario_fi_{ano}{mes}.csv']\n",
    "\n",
    "# Caminho do diretório do diretório do arquivo não zipado\n",
    "destino_dir = f'C://Users//vitor//projetos_python//python_b3//historico-arquivos//fundos_investimentos//inf_diario_cvm'\n",
    "\n",
    "# Abrindo o arquivo zipado\n",
    "with zipfile.ZipFile(zip_filename, 'r') as zip_ref:\n",
    "    # Extraindo os arquivos selecionados para um diretório específico\n",
    "    for arquivo in arquivo_a_extrair:\n",
    "        zip_ref.extract(arquivo, destino_dir)\n",
    "\n",
    "        # Caminhos dos arquivos em formato csv e parquet\n",
    "        csv_path = f'{destino_dir}//{arquivo}'\n",
    "        parquet_path = f'{destino_dir}//{arquivo.replace(\".csv\", \".parquet\")}'\n",
    "\n",
    "        # Lendo os arquivos csv\n",
    "        df = pd.read_csv(csv_path, sep=';', encoding='ISO-8859-1', low_memory=False)\n",
    "\n",
    "        # Transformando esses arquivos em parquet\n",
    "        df.to_parquet(parquet_path)\n",
    "\n",
    "# Entrando para o diretório especificado\n",
    "os.chdir(destino_dir)\n",
    "\n",
    "# Encontrando todos os arquivos .csv no diretório\n",
    "arquivos_csv = glob.glob('*.csv')\n",
    "\n",
    "# Loop para deletar cada arquivo csv encontrado\n",
    "for arquivo in arquivos_csv:\n",
    "    os.remove(arquivo)"
   ]
  },
  {
   "cell_type": "code",
   "execution_count": null,
   "metadata": {},
   "outputs": [],
   "source": [
    "# Descompactando vários arquivos\n",
    "for _ in ['05', '06', '07']: \n",
    "    \n",
    "    # Ano escolhido\n",
    "    ano = '2024'\n",
    "\n",
    "    # Nome do arquivo zipado\n",
    "    zip_filename = f'C://Users//vitor//projetos_python//python_b3//historico-arquivos//fundos_investimentos//inf_diario_cvm_zip//inf_diario_fi_{ano}{_}.zip'\n",
    "\n",
    "    # Lista dos nomes dos arquivos que você deseja extrair\n",
    "    arquivo_a_extrair = [f'inf_diario_fi_{ano}{_}.csv']\n",
    "\n",
    "    # Caminho do diretório do diretório do arquivo não zipado\n",
    "    destino_dir = f'C://Users//vitor//projetos_python//python_b3//historico-arquivos//fundos_investimentos//inf_diario_cvm'\n",
    "\n",
    "    # Abrindo o arquivo zipado\n",
    "    with zipfile.ZipFile(zip_filename, 'r') as zip_ref:\n",
    "        # Extraindo os arquivos selecionados para um diretório específico\n",
    "        for arquivo in arquivo_a_extrair:\n",
    "            zip_ref.extract(arquivo, destino_dir)\n",
    "\n",
    "            # Caminhos dos arquivos em formato csv e parquet\n",
    "            csv_path = f'{destino_dir}//{arquivo}'\n",
    "            parquet_path = f'{destino_dir}//{arquivo.replace(\".csv\", \".parquet\")}'\n",
    "\n",
    "            # Lendo os arquivos csv\n",
    "            df = pd.read_csv(csv_path, sep=';', encoding='ISO-8859-1', low_memory=False)\n",
    "\n",
    "            # Transformando esses arquivos em parquet\n",
    "            df.to_parquet(parquet_path)\n",
    "\n",
    "    # Entrando para o diretório especificado\n",
    "    os.chdir(destino_dir)\n",
    "\n",
    "    # Encontrando todos os arquivos .csv no diretório\n",
    "    arquivos_csv = glob.glob('*.csv')\n",
    "\n",
    "    # Loop para deletar cada arquivo csv encontrado\n",
    "    for arquivo in arquivos_csv:\n",
    "        os.remove(arquivo)"
   ]
  },
  {
   "cell_type": "markdown",
   "metadata": {},
   "source": [
    "## Portfólios dos fundos de investimentos "
   ]
  },
  {
   "cell_type": "code",
   "execution_count": null,
   "metadata": {},
   "outputs": [],
   "source": [
    "# Mês e ano escolhido\n",
    "mes = '01'\n",
    "ano = '2024'"
   ]
  },
  {
   "cell_type": "code",
   "execution_count": null,
   "metadata": {},
   "outputs": [],
   "source": [
    "# Formatando os arquivos parquet 'cda_fi'\n",
    "df_cda_1 = open_cda_1(\n",
    "    path=f'C://Users//vitor//projetos_python//python_b3//historico-arquivos//fundos_investimentos//fundos_cvm//{ano}{mes}//cda_fi_BLC_1_{ano}{mes}.parquet'\n",
    ")\n",
    "df_cda_2 = open_cda_2(\n",
    "    path=f'C://Users//vitor//projetos_python//python_b3//historico-arquivos//fundos_investimentos//fundos_cvm//{ano}{mes}//cda_fi_BLC_2_{ano}{mes}.parquet'\n",
    ")\n",
    "df_cda_4 = open_cda_4(\n",
    "    path=f'C://Users//vitor//projetos_python//python_b3//historico-arquivos//fundos_investimentos//fundos_cvm//{ano}{mes}//cda_fi_BLC_4_{ano}{mes}.parquet'\n",
    ")\n",
    "df_cda_7 = open_cda_7(\n",
    "    path=f'C://Users//vitor//projetos_python//python_b3//historico-arquivos//fundos_investimentos//fundos_cvm//{ano}{mes}//cda_fi_BLC_7_{ano}{mes}.parquet'\n",
    ")\n",
    "df_cda_8 = open_cda_8(\n",
    "    path=f'C://Users//vitor//projetos_python//python_b3//historico-arquivos//fundos_investimentos//fundos_cvm//{ano}{mes}//cda_fi_BLC_8_{ano}{mes}.parquet'\n",
    ")\n",
    "\n",
    "# Concatenando os dfs\n",
    "df_ativos = pd.concat([df_cda_1, df_cda_2, df_cda_4, df_cda_7, df_cda_8])\n",
    "df_ativos.tail()"
   ]
  },
  {
   "cell_type": "code",
   "execution_count": null,
   "metadata": {},
   "outputs": [],
   "source": [
    "# Quais são os tipos de ativos o fundo de investimento possui\n",
    "lista_ativos = df_ativos['TP_APLIC'].drop_duplicates().to_list()\n",
    "lista_ativos"
   ]
  },
  {
   "cell_type": "code",
   "execution_count": null,
   "metadata": {},
   "outputs": [],
   "source": [
    "# Formatando os arquivos parquet 'inf_diario_fi'\n",
    "\n",
    "# Caminho da pasta dos arquivos 'inf_diario_fi'\n",
    "path_inf_diario = 'C:\\\\Users\\\\vitor\\\\projetos_python\\\\python_b3\\\\historico-arquivos\\\\fundos_investimentos\\\\inf_diario_cvm\\\\'\n",
    "\n",
    "# Caminho completo de todos os arquivos que estão na pasta\n",
    "paths_arquivos = glob.glob(path_inf_diario + '*.parquet')\n",
    "\n",
    "# Lendo os arquivos parquet e juntando em apenas um df\n",
    "lst_df = [pd.read_parquet(path) for path in paths_arquivos]\n",
    "\n",
    "# Concatenando os dfs\n",
    "df_inf_diario = pd.concat(lst_df, ignore_index=True)\n",
    "\n",
    "# Selecionando apenas os 'Fundos de Investimentos'\n",
    "filt_fi = df_inf_diario['TP_FUNDO'] == 'FI'\n",
    "df_inf_diario = df_inf_diario.loc[filt_fi]\n",
    "\n",
    "# Selecionando as principais colunas\n",
    "df_inf_diario = df_inf_diario[['TP_FUNDO', 'CNPJ_FUNDO', 'DT_COMPTC' , 'VL_TOTAL', 'VL_QUOTA', 'VL_PATRIM_LIQ']]\n",
    "\n",
    "# Transformando os dtypes das colunas.\n",
    "df_inf_diario['TP_FUNDO'] = df_inf_diario['TP_FUNDO'].astype(str)\n",
    "df_inf_diario['CNPJ_FUNDO'] = df_inf_diario['CNPJ_FUNDO'].astype(str)\n",
    "df_inf_diario['DT_COMPTC'] = pd.to_datetime(df_inf_diario['DT_COMPTC'], format='%Y-%m-%d')\n",
    "\n",
    "# Transformando a coluna 'DT_COMPTC' em index\n",
    "df_inf_diario = df_inf_diario.set_index('DT_COMPTC')\n",
    "df_inf_diario.tail()"
   ]
  },
  {
   "cell_type": "markdown",
   "metadata": {},
   "source": [
    "**Principal Benchmark - IBOVESPA** "
   ]
  },
  {
   "cell_type": "code",
   "execution_count": null,
   "metadata": {},
   "outputs": [],
   "source": [
    "# IBOVESPA\n",
    "ibov = yf.download('^BVSP', start='2023-01-01')[['Open', 'Adj Close']]\n",
    "\n",
    "# Calculando a rentabilidade mensal do benchmark \n",
    "rentabilidade_mensal = {}\n",
    "for date, group in ibov.groupby(ibov.index.to_period('M')):\n",
    "    open_price_first_day = group['Open'].iloc[0]\n",
    "    adj_close_last_day = group['Adj Close'].iloc[-1]\n",
    "    rentabilidade = ((adj_close_last_day / open_price_first_day) - 1) * 100\n",
    "    rentabilidade_mensal[date.to_timestamp()] = round(rentabilidade, 2)\n",
    "\n",
    "# Transformando o dicionário em um df\n",
    "df_ret_ibov_mensal = pd.DataFrame(list(rentabilidade_mensal.items()), columns=['data', 'ret_ibov'])\n",
    "# Transformando a coluna 'data' em index\n",
    "df_ret_ibov_mensal = df_ret_ibov_mensal.set_index('data')\n",
    "# Transformando o formato do index ('ano-mes') p/ conseguir concatenar com as rentabilidades dos fundos\n",
    "df_ret_ibov_mensal.index = df_ret_ibov_mensal.index.to_period('M')\n",
    "\n",
    "\n",
    "# Calculando a rentabilidade anual do benchmark \n",
    "rentabilidade_anual = {}\n",
    "for date, group in ibov.groupby(ibov.index.to_period('Y')):\n",
    "    open_price_first_day = group['Open'].iloc[0]\n",
    "    adj_close_last_day = group['Adj Close'].iloc[-1]\n",
    "    rentabilidade = ((adj_close_last_day / open_price_first_day) - 1) * 100\n",
    "    rentabilidade_anual[date.to_timestamp()] = round(rentabilidade, 2)\n",
    "\n",
    "# Transformando o dicionário em um df\n",
    "df_ret_ibov_anual = pd.DataFrame(list(rentabilidade_anual.items()), columns=['data', 'ret_ibov'])\n",
    "# Transformando a coluna 'data' em index\n",
    "df_ret_ibov_anual = df_ret_ibov_anual.set_index('data')\n",
    "# Transformando o formato do index ('ano-mes') p/ conseguir concatenar com as rentabilidades dos fundos\n",
    "df_ret_ibov_anual.index = df_ret_ibov_anual.index.to_period('Y')\n",
    "\n",
    "print(df_ret_ibov_mensal)\n",
    "print(df_ret_ibov_anual)"
   ]
  },
  {
   "cell_type": "markdown",
   "metadata": {},
   "source": [
    "## Fundos de Investimentos - Casas Famosas"
   ]
  },
  {
   "cell_type": "markdown",
   "metadata": {},
   "source": [
    "### Fundo Verde"
   ]
  },
  {
   "cell_type": "markdown",
   "metadata": {},
   "source": [
    "* https://maisretorno.com/fundo/verde-am-acoes-master-fia-1"
   ]
  },
  {
   "cell_type": "code",
   "execution_count": null,
   "metadata": {},
   "outputs": [],
   "source": [
    "# Rentabilidade mensal \n",
    "df_ret_mensal_verde = rentabilidade_fundo(df=df_inf_diario, cnpj='16.929.553/0001-63', nome_fundo='verde')[0]\n",
    "\n",
    "# Comparação de rentabilidade entre fundo e benchmark\n",
    "df_ret_mensal_verde_ibov = rentabilidade_fundo_benchmark(\n",
    "    df_fundo=df_ret_mensal_verde,\n",
    "    df_benchmark=df_ret_ibov_mensal,\n",
    "    nome_fundo='verde',\n",
    "    nome_benchmark='ibov'\n",
    ")\n",
    "\n",
    "df_ret_mensal_verde_ibov"
   ]
  },
  {
   "cell_type": "code",
   "execution_count": null,
   "metadata": {},
   "outputs": [],
   "source": [
    "# Rentabilidade anual\n",
    "df_ret_anual_verde = rentabilidade_fundo(df=df_inf_diario, cnpj='16.929.553/0001-63', nome_fundo='verde')[1]\n",
    "\n",
    "# Comparação de rentabilidade entre fundo e benchmark\n",
    "df_ret_anual_verde_ibov = rentabilidade_fundo_benchmark(\n",
    "    df_fundo=df_ret_anual_verde,\n",
    "    df_benchmark=df_ret_ibov_anual,\n",
    "    nome_fundo='verde',\n",
    "    nome_benchmark='ibov'\n",
    ")\n",
    "\n",
    "df_ret_anual_verde_ibov"
   ]
  },
  {
   "cell_type": "code",
   "execution_count": null,
   "metadata": {},
   "outputs": [],
   "source": [
    "verde_acoes, verde_bdr, verde_exterior, verde_cotas_fundos, verde_titulos_pub, verde_vendido_acoes = fundo_cnpj(df=df_ativos, cnpj='16.929.553/0001-63')\n",
    "verde_pl = pl_fundo(\n",
    "    path=f'C://Users//vitor//projetos_python//python_b3//historico-arquivos//fundos_investimentos//fundos_cvm//{ano}{mes}//cda_fi_PL_{ano}{mes}.parquet', \n",
    "    cnpj='16.929.553/0001-63'\n",
    ")\n",
    "\n",
    "# Quantos porcertos cada categoria representa do PL final\n",
    "pct_acoes = round(pd.Series(verde_acoes['VL_MERC_POS_FINAL'].sum() / verde_pl.values), 4) \n",
    "pct_bdr = round(pd.Series(verde_bdr['VL_MERC_POS_FINAL'].sum() / verde_pl.values), 4) \n",
    "pct_exterior = round(pd.Series(verde_exterior['VL_MERC_POS_FINAL'].sum() / verde_pl.values), 4) \n",
    "pct_cotas_fundos = round(pd.Series(verde_cotas_fundos['VL_MERC_POS_FINAL'].sum() / verde_pl.values), 4) \n",
    "pct_titulos_pub = round(pd.Series(verde_titulos_pub['VL_MERC_POS_FINAL'].sum() / verde_pl.values), 4) \n",
    "pct_vendido_acoes = round(pd.Series(verde_vendido_acoes['VL_MERC_POS_FINAL'].sum() / verde_pl.values), 4) \n",
    "\n",
    "# Criando a data do portfólio\n",
    "data = pd.to_datetime(f'{mes}-{ano}')\n",
    "\n",
    "# Adicionando a informação da porcentagem de cada categoria nos dfs\n",
    "# Ações\n",
    "linha_pct_acoes = {'DENOM_SOCIAL': 'PL% FUNDO', 'VL_MERC_POS_FINAL' : pct_acoes}\n",
    "df_linha_pct_acoes = pd.DataFrame(linha_pct_acoes)\n",
    "verde_acoes = pd.concat([verde_acoes, df_linha_pct_acoes])\n",
    "# Criando a coluna 'data' no df\n",
    "verde_acoes['data'] = data\n",
    "# Definindo a coluna 'data' como o index\n",
    "verde_acoes = verde_acoes.set_index('data')\n",
    "\n",
    "# BDRs\n",
    "linha_pct_bdr = {'DENOM_SOCIAL': 'PL% FUNDO', 'VL_MERC_POS_FINAL' : pct_bdr}\n",
    "df_linha_pct_bdr = pd.DataFrame(linha_pct_bdr)\n",
    "verde_bdr = pd.concat([verde_bdr, df_linha_pct_bdr])\n",
    "# Criando a coluna 'data' no df\n",
    "verde_bdr['data'] = data\n",
    "# Definindo a coluna 'data' como o index\n",
    "verde_bdr = verde_bdr.set_index('data')\n",
    "\n",
    "# Investimentos no Exterior\n",
    "linha_pct_exterior = {'DENOM_SOCIAL': 'PL% FUNDO', 'VL_MERC_POS_FINAL' : pct_exterior}\n",
    "df_linha_pct_exterior = pd.DataFrame(linha_pct_exterior)\n",
    "verde_exterior = pd.concat([verde_exterior, df_linha_pct_exterior])\n",
    "# Criando a coluna 'data' no df\n",
    "verde_exterior['data'] = data\n",
    "# Definindo a coluna 'data' como o index\n",
    "verde_exterior = verde_exterior.set_index('data')\n",
    "\n",
    "# Cotas de Fundos\n",
    "linha_pct_cotas_fundos = {'DENOM_SOCIAL': 'PL% FUNDO', 'VL_MERC_POS_FINAL' : pct_cotas_fundos}\n",
    "df_linha_pct_cotas_fundos = pd.DataFrame(linha_pct_cotas_fundos)\n",
    "verde_cotas_fundos = pd.concat([verde_cotas_fundos, df_linha_pct_cotas_fundos])\n",
    "# Criando a coluna 'data' no df\n",
    "verde_cotas_fundos['data'] = data\n",
    "# Definindo a coluna 'data' como o index\n",
    "verde_cotas_fundos = verde_cotas_fundos.set_index('data')\n",
    "\n",
    "# Títulos Públicos\n",
    "linha_pct_titulos_pub = {'DENOM_SOCIAL': 'PL% FUNDO', 'VL_MERC_POS_FINAL' : pct_titulos_pub}\n",
    "df_linha_pct_titulos_pub = pd.DataFrame(linha_pct_titulos_pub)\n",
    "verde_titulos_pub = pd.concat([verde_titulos_pub, df_linha_pct_titulos_pub])\n",
    "# Criando a coluna 'data' no df\n",
    "verde_titulos_pub['data'] = data\n",
    "# Definindo a coluna 'data' como o index\n",
    "verde_titulos_pub = verde_titulos_pub.set_index('data')\n",
    "\n",
    "# Vendido Ações\n",
    "linha_pct_vendido_acoes = {'DENOM_SOCIAL': 'PL% FUNDO', 'VL_MERC_POS_FINAL' : pct_vendido_acoes}\n",
    "df_linha_pct_vendido_acoes = pd.DataFrame(linha_pct_vendido_acoes)\n",
    "verde_vendido_acoes = pd.concat([verde_vendido_acoes, df_linha_pct_vendido_acoes ])\n",
    "# Criando a coluna 'data' no df\n",
    "verde_vendido_acoes['data'] = data\n",
    "# Definindo a coluna 'data' como o index\n",
    "verde_veverde_vendido_acoes =verde_vendido_acoes.set_index('data')"
   ]
  },
  {
   "cell_type": "code",
   "execution_count": null,
   "metadata": {},
   "outputs": [],
   "source": [
    "# Criando o arquivo excel em que cada categoria está em uma aba diferente\n",
    "with pd.ExcelWriter(f'C://Users//vitor//projetos_python//python_b3//composicao-fundos-de-investimentos//fundo_investimento//verde//fundo_verde_{ano}{mes}.xlsx') as writer:\n",
    "    verde_acoes.to_excel(writer, sheet_name='acoes')\n",
    "    verde_bdr.to_excel(writer, sheet_name='bdr')\n",
    "    verde_exterior.to_excel(writer, sheet_name='exterior')\n",
    "    verde_cotas_fundos.to_excel(writer, sheet_name='cota_fundos')\n",
    "    verde_titulos_pub.to_excel(writer, sheet_name='titulos_publicos')\n",
    "    verde_vendido_acoes.to_excel(writer, sheet_name='vendido_acoes')"
   ]
  },
  {
   "cell_type": "code",
   "execution_count": null,
   "metadata": {},
   "outputs": [],
   "source": [
    "# Caminho da pasta do fundo Verde\n",
    "path_verde = 'C:\\\\Users\\\\vitor\\\\projetos_python\\\\python_b3\\\\composicao-fundos-de-investimentos\\\\fundo_investimento\\\\verde\\\\'\n",
    "\n",
    "# Caminho completo de todos os arquivos que estão na pasta\n",
    "paths_arquivos_verde = glob.glob(path_verde + '*.xlsx')\n",
    "\n",
    "# Lendo cada arquivo excel\n",
    "lst_dfs = []\n",
    "for path in paths_arquivos_verde:\n",
    "    df = pd.read_excel(path, sheet_name='acoes')\n",
    "    lst_dfs.append(df)\n",
    "\n",
    "# Concatendo os dfs de ações\n",
    "portfolio_verde = pd.concat(lst_dfs, ignore_index=True)\n",
    "\n",
    "# Retirando as ações que não tem nenhum dinheiro alocado e os NAN\n",
    "portfolio_verde = portfolio_verde[portfolio_verde['VL_MERC_POS_FINAL'] != 0]\n",
    "portfolio_verde = portfolio_verde.dropna()\n",
    "\n",
    "# Definindo a coluna 'data' como o index\n",
    "portfolio_verde = portfolio_verde.set_index('data')\n",
    "portfolio_verde"
   ]
  },
  {
   "cell_type": "code",
   "execution_count": null,
   "metadata": {},
   "outputs": [],
   "source": [
    "# Selecionando o conjunto de ações (portfólio) de cada mês - retornando um df com vários dicionários\n",
    "portfolio_mensal = portfolio_verde.groupby('data')['CD_ATIVO'].apply(set)\n",
    "\n",
    "# Convertendo o GroupBy resultante em DataFrame para facilitar a iteração\n",
    "portfolio_mensal = portfolio_mensal.reset_index()\n",
    "\n",
    "# Comparando o portfólio de cada mês\n",
    "comparar_portfolios(df=portfolio_mensal, nome_fundo='Verde')"
   ]
  },
  {
   "cell_type": "code",
   "execution_count": null,
   "metadata": {},
   "outputs": [],
   "source": [
    "# Número total de ações de cada mês do portfpolio\n",
    "num_total_acoes(df=portfolio_verde)"
   ]
  },
  {
   "cell_type": "code",
   "execution_count": null,
   "metadata": {},
   "outputs": [],
   "source": [
    "# Rank das 5 maiores ações do fundo\n",
    "rank_top_5(df=portfolio_verde)"
   ]
  },
  {
   "cell_type": "code",
   "execution_count": null,
   "metadata": {},
   "outputs": [],
   "source": [
    "# Plotando o portfólio de cada mês\n",
    "plot_portfolio(df=portfolio_verde, nome_fundo='Verde')"
   ]
  },
  {
   "cell_type": "markdown",
   "metadata": {},
   "source": [
    "### Fundo Dynamo"
   ]
  },
  {
   "cell_type": "markdown",
   "metadata": {},
   "source": [
    "* https://maisretorno.com/fundo/dynamo-cougar-master-fia"
   ]
  },
  {
   "cell_type": "code",
   "execution_count": null,
   "metadata": {},
   "outputs": [],
   "source": [
    "# Rentabilidade mensal\n",
    "df_ret_mensal_dynamo = rentabilidade_fundo(df=df_inf_diario, cnpj='37.916.879/0001-26', nome_fundo='dynamo')[0]\n",
    "\n",
    "# Comparação de rentabilidade entre fundo e benchmark\n",
    "df_ret_mensal_dynamo_ibov = rentabilidade_fundo_benchmark(\n",
    "    df_fundo=df_ret_mensal_dynamo,\n",
    "    df_benchmark=df_ret_ibov_mensal,\n",
    "    nome_fundo='dynamo',\n",
    "    nome_benchmark='ibov'\n",
    ")\n",
    "\n",
    "df_ret_mensal_dynamo_ibov"
   ]
  },
  {
   "cell_type": "code",
   "execution_count": null,
   "metadata": {},
   "outputs": [],
   "source": [
    "# Rentabilidade anual\n",
    "df_ret_anual_dynamo = rentabilidade_fundo(df=df_inf_diario, cnpj='37.916.879/0001-26', nome_fundo='dynamo')[1]\n",
    "\n",
    "# Comparação de rentabilidade entre fundo e benchmark\n",
    "df_ret_anual_dynamo_ibov = rentabilidade_fundo_benchmark(\n",
    "    df_fundo=df_ret_anual_dynamo,\n",
    "    df_benchmark=df_ret_ibov_anual,\n",
    "    nome_fundo='dynamo',\n",
    "    nome_benchmark='ibov'\n",
    ")\n",
    "\n",
    "df_ret_anual_dynamo_ibov"
   ]
  },
  {
   "cell_type": "code",
   "execution_count": null,
   "metadata": {},
   "outputs": [],
   "source": [
    "dynamo_acoes, dynamo_bdr, dynamo_exterior, dynamo_cotas_fundos, dynamo_titulos_pub, dynamo_vendido_acoes = fundo_cnpj(df=df_ativos, cnpj='37.916.879/0001-26')\n",
    "dynamo_pl = pl_fundo(\n",
    "    path=f'C://Users//vitor//projetos_python//python_b3//historico-arquivos//fundos_investimentos//fundos_cvm//{ano}{mes}//cda_fi_PL_{ano}{mes}.parquet',\n",
    "    cnpj='37.916.879/0001-26'\n",
    ")\n",
    "\n",
    "# Quantos porcertos cada categoria representa do PL final\n",
    "pct_acoes = round(pd.Series(dynamo_acoes['VL_MERC_POS_FINAL'].sum() / dynamo_pl.values), 4) \n",
    "pct_bdr = round(pd.Series(dynamo_bdr['VL_MERC_POS_FINAL'].sum() / dynamo_pl.values), 4) \n",
    "pct_exterior = round(pd.Series(dynamo_exterior['VL_MERC_POS_FINAL'].sum() / dynamo_pl.values), 4) \n",
    "pct_cotas_fundos = round(pd.Series(dynamo_cotas_fundos['VL_MERC_POS_FINAL'].sum() / dynamo_pl.values), 4) \n",
    "pct_titulos_pub = round(pd.Series(dynamo_titulos_pub['VL_MERC_POS_FINAL'].sum() / dynamo_pl.values), 4) \n",
    "pct_vendido_acoes = round(pd.Series(dynamo_vendido_acoes['VL_MERC_POS_FINAL'].sum() / dynamo_pl.values), 4) \n",
    "\n",
    "# Criando a data do portfólio\n",
    "data = pd.to_datetime(f'{mes}-{ano}')\n",
    "\n",
    "# Adicionando a informação da porcentagem de cada categoria nos dfs\n",
    "# Ações\n",
    "linha_pct_acoes = {'DENOM_SOCIAL': 'PL% FUNDO', 'VL_MERC_POS_FINAL' : pct_acoes}\n",
    "df_linha_pct_acoes = pd.DataFrame(linha_pct_acoes)\n",
    "dynamo_acoes = pd.concat([dynamo_acoes, df_linha_pct_acoes])\n",
    "# Criando a coluna 'data' no df\n",
    "dynamo_acoes['data'] = data\n",
    "# Definindo a coluna 'data' como o index\n",
    "dynamo_acoes = dynamo_acoes.set_index('data')\n",
    "\n",
    "# BDRs\n",
    "linha_pct_bdr = {'DENOM_SOCIAL': 'PL% FUNDO', 'VL_MERC_POS_FINAL' : pct_bdr}\n",
    "df_linha_pct_bdr = pd.DataFrame(linha_pct_bdr)\n",
    "dynamo_bdr = pd.concat([dynamo_bdr, df_linha_pct_bdr])\n",
    "# Criando a coluna 'data' no df\n",
    "dynamo_bdr['data'] = data\n",
    "# Definindo a coluna 'data' como o index\n",
    "dynamo_bdr = dynamo_bdr.set_index('data')\n",
    "\n",
    "# Investimentos no Exterior\n",
    "linha_pct_exterior = {'DENOM_SOCIAL': 'PL% FUNDO', 'VL_MERC_POS_FINAL' : pct_exterior}\n",
    "df_linha_pct_exterior = pd.DataFrame(linha_pct_exterior)\n",
    "dynamo_exterior = pd.concat([dynamo_exterior, df_linha_pct_exterior])\n",
    "# Criando a coluna 'data' no df\n",
    "dynamo_exterior['data'] = data\n",
    "# Definindo a coluna 'data' como o index\n",
    "dynamo_exterior = dynamo_exterior.set_index('data')\n",
    "\n",
    "# Cotas de Fundos\n",
    "linha_pct_cotas_fundos = {'DENOM_SOCIAL': 'PL% FUNDO', 'VL_MERC_POS_FINAL' : pct_cotas_fundos}\n",
    "df_linha_pct_cotas_fundos = pd.DataFrame(linha_pct_cotas_fundos)\n",
    "dynamo_cotas_fundos = pd.concat([dynamo_cotas_fundos, df_linha_pct_cotas_fundos])\n",
    "# Criando a coluna 'data' no df\n",
    "dynamo_cotas_fundos['data'] = data\n",
    "# Definindo a coluna 'data' como o index\n",
    "dynamo_codynamo_cotas_fundos =dynamo_cotas_fundos.set_index('data')\n",
    "\n",
    "# Títulos Públicos\n",
    "linha_pct_titulos_pub = {'DENOM_SOCIAL': 'PL% FUNDO', 'VL_MERC_POS_FINAL' : pct_titulos_pub}\n",
    "df_linha_pct_titulos_pub = pd.DataFrame(linha_pct_titulos_pub)\n",
    "dynamo_titulos_pub = pd.concat([dynamo_titulos_pub, df_linha_pct_titulos_pub])\n",
    "# Criando a coluna 'data' no df\n",
    "dynamo_titulos_pub['data'] = data\n",
    "# Definindo a coluna 'data' como o index\n",
    "dynamo_titulos_pub = dynamo_titulos_pub.set_index('data')\n",
    "\n",
    "# Vendido Ações\n",
    "linha_pct_vendido_acoes = {'DENOM_SOCIAL': 'PL% FUNDO', 'VL_MERC_POS_FINAL' : pct_vendido_acoes}\n",
    "df_linha_pct_vendido_acoes = pd.DataFrame(linha_pct_vendido_acoes)\n",
    "dynamo_vendido_acoes = pd.concat([dynamo_vendido_acoes, df_linha_pct_vendido_acoes])\n",
    "# Criando a coluna 'data' no df\n",
    "dynamo_vendido_acoes['data'] = data\n",
    "# Definindo a coluna 'data' como o index\n",
    "dynamo_vendido_acoes = dynamo_vendido_acoes.set_index('data')"
   ]
  },
  {
   "cell_type": "code",
   "execution_count": null,
   "metadata": {},
   "outputs": [],
   "source": [
    "# Criando o arquivo excel em que cada categoria está em uma aba diferente\n",
    "with pd.ExcelWriter(f'C://Users//vitor//projetos_python//python_b3//composicao-fundos-de-investimentos//fundo_investimento//dynamo//fundo_dynamo_{ano}{mes}.xlsx') as writer:\n",
    "    dynamo_acoes.to_excel(writer, sheet_name='acoes')\n",
    "    dynamo_bdr.to_excel(writer, sheet_name='bdr')\n",
    "    dynamo_exterior.to_excel(writer, sheet_name='exterior')\n",
    "    dynamo_cotas_fundos.to_excel(writer, sheet_name='cota_fundos')\n",
    "    dynamo_titulos_pub.to_excel(writer, sheet_name='titulos_publicos')\n",
    "    dynamo_vendido_acoes.to_excel(writer, sheet_name='vendido_acoes')"
   ]
  },
  {
   "cell_type": "code",
   "execution_count": null,
   "metadata": {},
   "outputs": [],
   "source": [
    "# Caminho da pasta do fundo Dynamo\n",
    "path_dynamo = 'C:\\\\Users\\\\vitor\\\\projetos_python\\\\python_b3\\\\composicao-fundos-de-investimentos\\\\fundo_investimento\\\\dynamo\\\\'\n",
    "\n",
    "# Caminho completo de todos os arquivos que estão na pasta\n",
    "paths_arquivos_dynamo = glob.glob(path_dynamo + '*.xlsx')\n",
    "\n",
    "lst_dfs = []\n",
    "for path in paths_arquivos_dynamo:\n",
    "    df = pd.read_excel(path, sheet_name='acoes')\n",
    "    lst_dfs.append(df)\n",
    "\n",
    "# Concatendo os dfs de ações\n",
    "portfolio_dynamo = pd.concat(lst_dfs, ignore_index=True)\n",
    "\n",
    "# Retirando as ações que não tem nenhum dinheiro alocado e os NAN\n",
    "portfolio_dynamo = portfolio_dynamo[portfolio_dynamo['VL_MERC_POS_FINAL'] != 0]\n",
    "portfolio_dynamo = portfolio_dynamo.dropna()\n",
    "\n",
    "# Definindo a coluna 'data' como o index\n",
    "portfolio_dynamo = portfolio_dynamo.set_index('data')\n",
    "portfolio_dynamo"
   ]
  },
  {
   "cell_type": "code",
   "execution_count": null,
   "metadata": {},
   "outputs": [],
   "source": [
    "# Selecionando o conjunto de ações (portfólio) de cada mês - retornando um df com vários dicionários\n",
    "portfolio_mensal = portfolio_dynamo.groupby('data')['CD_ATIVO'].apply(set)\n",
    "\n",
    "# Convertendo o GroupBy resultante em DataFrame para facilitar a iteração\n",
    "portfolio_mensal = portfolio_mensal.reset_index()\n",
    "\n",
    "# Comparando o portfólio de cada mês\n",
    "comparar_portfolios(df=portfolio_mensal, nome_fundo='Dynamo')"
   ]
  },
  {
   "cell_type": "code",
   "execution_count": null,
   "metadata": {},
   "outputs": [],
   "source": [
    "# Número total de ações de cada mês do portfpolio\n",
    "num_total_acoes(df=portfolio_dynamo)"
   ]
  },
  {
   "cell_type": "code",
   "execution_count": null,
   "metadata": {},
   "outputs": [],
   "source": [
    "# Rank das 5 maiores ações do fundo\n",
    "rank_top_5(df=portfolio_dynamo)"
   ]
  },
  {
   "cell_type": "code",
   "execution_count": null,
   "metadata": {},
   "outputs": [],
   "source": [
    "# Plotando o portfólio de cada mês\n",
    "plot_portfolio(df=portfolio_dynamo, nome_fundo='Dynamo')"
   ]
  },
  {
   "cell_type": "markdown",
   "metadata": {},
   "source": [
    "### Fundo IP"
   ]
  },
  {
   "cell_type": "markdown",
   "metadata": {},
   "source": [
    "* https://maisretorno.com/fundo/ip-participacoes-master-fia-bdr-nivel-i"
   ]
  },
  {
   "cell_type": "code",
   "execution_count": null,
   "metadata": {},
   "outputs": [],
   "source": [
    "# Rentabilidade mensal\n",
    "df_ret_mensal_ip = rentabilidade_fundo(df=df_inf_diario, cnpj='11.435.298/0001-89', nome_fundo='ip')[0]\n",
    "\n",
    "# Comparação de rentabilidade entre fundo e benchmark\n",
    "df_ret_mensal_ip_ibov = rentabilidade_fundo_benchmark(\n",
    "    df_fundo=df_ret_mensal_ip,\n",
    "    df_benchmark=df_ret_ibov_mensal,\n",
    "    nome_fundo='ip',\n",
    "    nome_benchmark='ibov'\n",
    ")\n",
    "\n",
    "df_ret_mensal_ip_ibov"
   ]
  },
  {
   "cell_type": "code",
   "execution_count": null,
   "metadata": {},
   "outputs": [],
   "source": [
    "# Rentabilidade anual\n",
    "df_ret_anual_ip = rentabilidade_fundo(df=df_inf_diario, cnpj='11.435.298/0001-89', nome_fundo='ip')[1]\n",
    "\n",
    "# Comparação de rentabilidade entre fundo e benchmark\n",
    "df_ret_anual_ip_ibov = rentabilidade_fundo_benchmark(\n",
    "    df_fundo=df_ret_anual_ip,\n",
    "    df_benchmark=df_ret_ibov_anual,\n",
    "    nome_fundo='ip',\n",
    "    nome_benchmark='ibov'\n",
    ")\n",
    "\n",
    "df_ret_anual_ip_ibov"
   ]
  },
  {
   "cell_type": "code",
   "execution_count": null,
   "metadata": {},
   "outputs": [],
   "source": [
    "ip_acoes, ip_bdr, ip_exterior, ip_cotas_fundos, ip_titulos_pub, ip_vendido_acoes = fundo_cnpj(df=df_ativos, cnpj='11.435.298/0001-89')\n",
    "ip_pl = pl_fundo(\n",
    "    path=f'C://Users//vitor//projetos_python//python_b3//historico-arquivos//fundos_investimentos//fundos_cvm//{ano}{mes}//cda_fi_PL_{ano}{mes}.parquet', \n",
    "    cnpj='11.435.298/0001-89'\n",
    ")\n",
    "\n",
    "# Quantos porcertos cada categoria representa do PL final\n",
    "pct_acoes = round(pd.Series(ip_acoes['VL_MERC_POS_FINAL'].sum() / ip_pl.values), 4) \n",
    "pct_bdr = round(pd.Series(ip_bdr['VL_MERC_POS_FINAL'].sum() / ip_pl.values), 4) \n",
    "pct_exterior = round(pd.Series(ip_exterior['VL_MERC_POS_FINAL'].sum() / ip_pl.values), 4) \n",
    "pct_cotas_fundos = round(pd.Series(ip_cotas_fundos['VL_MERC_POS_FINAL'].sum() / ip_pl.values), 4) \n",
    "pct_titulos_pub = round(pd.Series(ip_titulos_pub['VL_MERC_POS_FINAL'].sum() / ip_pl.values), 4) \n",
    "pct_vendido_acoes = round(pd.Series(ip_vendido_acoes['VL_MERC_POS_FINAL'].sum() / ip_pl.values), 4) \n",
    "\n",
    "# Criando a data do portfólio\n",
    "data = pd.to_datetime(f'{mes}-{ano}')\n",
    "\n",
    "# Adicionando a informação da porcentagem de cada categoria nos dfs\n",
    "# Ações\n",
    "linha_pct_acoes = {'DENOM_SOCIAL': 'PL% FUNDO', 'VL_MERC_POS_FINAL' : pct_acoes}\n",
    "df_linha_pct_acoes = pd.DataFrame(linha_pct_acoes)\n",
    "ip_acoes = pd.concat([ip_acoes, df_linha_pct_acoes])\n",
    "# Criando a coluna 'data' no df\n",
    "ip_acoes['data'] = data\n",
    "# Definindo a coluna 'data' como o index\n",
    "ip_acoes = ip_acoes.set_index('data')\n",
    "\n",
    "# BDRs\n",
    "linha_pct_bdr = {'DENOM_SOCIAL': 'PL% FUNDO', 'VL_MERC_POS_FINAL' : pct_bdr}\n",
    "df_linha_pct_bdr = pd.DataFrame(linha_pct_bdr)\n",
    "ip_bdr = pd.concat([ip_bdr, df_linha_pct_bdr])\n",
    "# Criando a coluna 'data' no df\n",
    "ip_bdr['data'] = data\n",
    "# Definindo a coluna 'data' como o index\n",
    "ip_bdr = ip_bdr.set_index('data')\n",
    "\n",
    "# Investimentos no Exterior\n",
    "linha_pct_exterior = {'DENOM_SOCIAL': 'PL% FUNDO', 'VL_MERC_POS_FINAL' : pct_exterior}\n",
    "df_linha_pct_exterior = pd.DataFrame(linha_pct_exterior)\n",
    "ip_exterior = pd.concat([ip_exterior, df_linha_pct_exterior])\n",
    "# Criando a coluna 'data' no df\n",
    "ip_exterior['data'] = data\n",
    "# Definindo a coluna 'data' como o index\n",
    "ip_exterior = ip_exterior.set_index('data')\n",
    "\n",
    "# Cotas de Fundos\n",
    "linha_pct_cotas_fundos = {'DENOM_SOCIAL': 'PL% FUNDO', 'VL_MERC_POS_FINAL' : pct_cotas_fundos}\n",
    "df_linha_pct_cotas_fundos = pd.DataFrame(linha_pct_cotas_fundos)\n",
    "ip_cotas_fundos = pd.concat([ip_cotas_fundos, df_linha_pct_cotas_fundos])\n",
    "# Criando a coluna 'data' no df\n",
    "ip_cotas_fundos['data'] = data\n",
    "# Definindo a coluna 'data' como o index\n",
    "ip_cotas_fundos = ip_cotas_fundos.set_index('data')\n",
    "\n",
    "# Títulos Públicos\n",
    "linha_pct_titulos_pub = {'DENOM_SOCIAL': 'PL% FUNDO', 'VL_MERC_POS_FINAL' : pct_titulos_pub}\n",
    "df_linha_pct_titulos_pub = pd.DataFrame(linha_pct_titulos_pub)\n",
    "ip_titulos_pub = pd.concat([ip_titulos_pub, df_linha_pct_titulos_pub])\n",
    "# Criando a coluna 'data' no df\n",
    "ip_titulos_pub['data'] = data\n",
    "# Definindo a coluna 'data' como o index\n",
    "ip_titulos_pub = ip_titulos_pub.set_index('data')\n",
    "\n",
    "# Vendido Ações\n",
    "linha_pct_vendido_acoes = {'DENOM_SOCIAL': 'PL% FUNDO', 'VL_MERC_POS_FINAL' : pct_vendido_acoes}\n",
    "df_linha_pct_vendido_acoes = pd.DataFrame(linha_pct_vendido_acoes)\n",
    "ip_vendido_acoes = pd.concat([ip_vendido_acoes, df_linha_pct_vendido_acoes])\n",
    "# Criando a coluna 'data' no df\n",
    "ip_vendido_acoes['data'] = data\n",
    "# Definindo a coluna 'data' como o index\n",
    "ip_vendido_acoes = ip_vendido_acoes.set_index('data')"
   ]
  },
  {
   "cell_type": "code",
   "execution_count": null,
   "metadata": {},
   "outputs": [],
   "source": [
    "# Criando o arquivo excel em que cada categoria está em uma aba diferente\n",
    "with pd.ExcelWriter(f'C://Users//vitor//projetos_python//python_b3//composicao-fundos-de-investimentos//fundo_investimento//ip//fundo_ip_{ano}{mes}.xlsx') as writer:\n",
    "    ip_acoes.to_excel(writer, sheet_name='acoes')\n",
    "    ip_bdr.to_excel(writer, sheet_name='bdr')\n",
    "    ip_exterior.to_excel(writer, sheet_name='exterior')\n",
    "    ip_cotas_fundos.to_excel(writer, sheet_name='cota_fundos')\n",
    "    ip_titulos_pub.to_excel(writer, sheet_name='titulos_publicos')\n",
    "    ip_vendido_acoes.to_excel(writer, sheet_name='vendido_acoes')"
   ]
  },
  {
   "cell_type": "code",
   "execution_count": null,
   "metadata": {},
   "outputs": [],
   "source": [
    "# Caminho da pasta do fundo IP\n",
    "path_ip = 'C:\\\\Users\\\\vitor\\\\projetos_python\\\\python_b3\\\\composicao-fundos-de-investimentos\\\\fundo_investimento\\\\ip\\\\'\n",
    "\n",
    "# Caminho completo de todos os arquivos que estão na pasta\n",
    "paths_arquivos_ip = glob.glob(path_ip + '*.xlsx')\n",
    "\n",
    "lst_dfs = []\n",
    "for path in paths_arquivos_ip:\n",
    "    df = pd.read_excel(path, sheet_name='bdr')\n",
    "    lst_dfs.append(df)\n",
    "\n",
    "# Concatendo os dfs de bdrs\n",
    "portfolio_ip = pd.concat(lst_dfs, ignore_index=True)\n",
    "\n",
    "# Retirando as bdrs que não tem nenhum dinheiro alocado e os NAN\n",
    "portfolio_ip = portfolio_ip[portfolio_ip['VL_MERC_POS_FINAL'] != 0]\n",
    "portfolio_ip = portfolio_ip.dropna()\n",
    "\n",
    "# Definindo a coluna 'data' como o index\n",
    "portfolio_ip = portfolio_ip.set_index('data')\n",
    "portfolio_ip"
   ]
  },
  {
   "cell_type": "code",
   "execution_count": null,
   "metadata": {},
   "outputs": [],
   "source": [
    "# Selecionando o conjunto de ações (portfólio) de cada mês - retornando um df com vários dicionários\n",
    "portfolio_mensal = portfolio_ip.groupby('data')['CD_ATIVO'].apply(set)\n",
    "\n",
    "# Convertendo o GroupBy resultante em DataFrame para facilitar a iteração\n",
    "portfolio_mensal = portfolio_mensal.reset_index()\n",
    "\n",
    "# Comparando o portfólio de cada mês\n",
    "comparar_portfolios(df=portfolio_mensal, nome_fundo='IP')"
   ]
  },
  {
   "cell_type": "code",
   "execution_count": null,
   "metadata": {},
   "outputs": [],
   "source": [
    "# Número total de ações de cada mês do portfpolio\n",
    "num_total_acoes(df=portfolio_ip)"
   ]
  },
  {
   "cell_type": "code",
   "execution_count": null,
   "metadata": {},
   "outputs": [],
   "source": [
    "# Rank das 5 maiores ações do fundo\n",
    "rank_top_5(df=portfolio_ip)"
   ]
  },
  {
   "cell_type": "code",
   "execution_count": null,
   "metadata": {},
   "outputs": [],
   "source": [
    "# Plotando o portfólio de cada mês\n",
    "plot_portfolio(df=portfolio_ip, nome_fundo='IP')"
   ]
  },
  {
   "cell_type": "markdown",
   "metadata": {},
   "source": [
    "### Fundo Squadra"
   ]
  },
  {
   "cell_type": "markdown",
   "metadata": {},
   "source": [
    "* https://maisretorno.com/fundo/squadra-master-long-biased-fia\n",
    "* Famosos pelos shorts de:\n",
    "    * IRBR - 05/2018\n",
    "    * AERI3 - 01/2021\n",
    "    * Nubank"
   ]
  },
  {
   "cell_type": "code",
   "execution_count": null,
   "metadata": {},
   "outputs": [],
   "source": [
    "# Rentabilidade mensal\n",
    "df_ret_mensal_squadra = rentabilidade_fundo(df=df_inf_diario, cnpj='09.412.648/0001-40', nome_fundo='squadra')[0]\n",
    "\n",
    "# Comparação de rentabilidade entre fundo e benchmark\n",
    "df_ret_mensal_squadra_ibov = rentabilidade_fundo_benchmark(\n",
    "    df_fundo=df_ret_mensal_squadra,\n",
    "    df_benchmark=df_ret_ibov_mensal,\n",
    "    nome_fundo='squadra',\n",
    "    nome_benchmark='ibov'\n",
    ")\n",
    "\n",
    "df_ret_mensal_squadra_ibov"
   ]
  },
  {
   "cell_type": "code",
   "execution_count": null,
   "metadata": {},
   "outputs": [],
   "source": [
    "# Rentabilidade anual\n",
    "df_ret_anual_squadra = rentabilidade_fundo(df=df_inf_diario, cnpj='09.412.648/0001-40', nome_fundo='squadra')[1]\n",
    "\n",
    "# Comparação de rentabilidade entre fundo e benchmark\n",
    "df_ret_anual_squadra_ibov = rentabilidade_fundo_benchmark(\n",
    "    df_fundo=df_ret_anual_squadra,\n",
    "    df_benchmark=df_ret_ibov_anual,\n",
    "    nome_fundo='squadra',\n",
    "    nome_benchmark='ibov'\n",
    ")\n",
    "\n",
    "df_ret_anual_squadra_ibov"
   ]
  },
  {
   "cell_type": "code",
   "execution_count": null,
   "metadata": {},
   "outputs": [],
   "source": [
    "squadra_acoes, squadra_bdr, squadra_exterior, squadra_cotas_fundos, squadra_titulos_pub, squadra_vendido_acoes = fundo_cnpj(df=df_ativos, cnpj='09.412.648/0001-40')\n",
    "squadra_pl = pl_fundo(\n",
    "    path=f'C://Users//vitor//projetos_python//python_b3//historico-arquivos//fundos_investimentos//fundos_cvm//{ano}{mes}//cda_fi_PL_{ano}{mes}.parquet', \n",
    "    cnpj='09.412.648/0001-40'\n",
    ")\n",
    "\n",
    "# Quantos porcertos cada categoria representa do PL final\n",
    "pct_acoes = round(pd.Series(squadra_acoes['VL_MERC_POS_FINAL'].sum() / squadra_pl.values), 4) \n",
    "pct_bdr = round(pd.Series(squadra_bdr['VL_MERC_POS_FINAL'].sum() / squadra_pl.values), 4) \n",
    "pct_exterior = round(pd.Series(squadra_exterior['VL_MERC_POS_FINAL'].sum() / squadra_pl.values), 4) \n",
    "pct_cotas_fundos = round(pd.Series(squadra_cotas_fundos['VL_MERC_POS_FINAL'].sum() / squadra_pl.values), 4) \n",
    "pct_titulos_pub = round(pd.Series(squadra_titulos_pub['VL_MERC_POS_FINAL'].sum() / squadra_pl.values), 4) \n",
    "pct_vendido_acoes = round(pd.Series(squadra_vendido_acoes['VL_MERC_POS_FINAL'].sum() / squadra_pl.values), 4) \n",
    "\n",
    "# Criando a data do portfólio\n",
    "data = pd.to_datetime(f'{mes}-{ano}')\n",
    "\n",
    "# Adicionando a informação da porcentagem de cada categoria nos dfs\n",
    "# Ações\n",
    "linha_pct_acoes = {'DENOM_SOCIAL': 'PL% FUNDO', 'VL_MERC_POS_FINAL' : pct_acoes}\n",
    "df_linha_pct_acoes = pd.DataFrame(linha_pct_acoes)\n",
    "squadra_acoes = pd.concat([squadra_acoes, df_linha_pct_acoes], ignore_index=True)\n",
    "# Criando a coluna 'data' no df\n",
    "squadra_acoes['data'] = data\n",
    "# Definindo a coluna 'data' como o index\n",
    "squadra_acoes = squadra_acoes.set_index('data')\n",
    "\n",
    "# BDRs\n",
    "linha_pct_bdr = {'DENOM_SOCIAL': 'PL% FUNDO', 'VL_MERC_POS_FINAL' : pct_bdr}\n",
    "df_linha_pct_bdr = pd.DataFrame(linha_pct_bdr)\n",
    "squadra_bdr = pd.concat([squadra_bdr, df_linha_pct_bdr], ignore_index=True)\n",
    "# Criando a coluna 'data' no df\n",
    "squadra_bdr['data'] = data\n",
    "# Definindo a coluna 'data' como o index\n",
    "squadra_bdr = squadra_bdr.set_index('data')\n",
    "\n",
    "# Investimentos no Exterior\n",
    "linha_pct_exterior = {'DENOM_SOCIAL': 'PL% FUNDO', 'VL_MERC_POS_FINAL' : pct_exterior}\n",
    "df_linha_pct_exterior = pd.DataFrame(linha_pct_exterior)\n",
    "squadra_exterior = pd.concat([squadra_exterior, df_linha_pct_exterior], ignore_index=True)\n",
    "# Criando a coluna 'data' no df\n",
    "squadra_exterior['data'] = data\n",
    "# Definindo a coluna 'data' como o index\n",
    "squadra_exterior = squadra_exterior.set_index('data')\n",
    "\n",
    "# Cotas de Fundos\n",
    "linha_pct_cotas_fundos = {'DENOM_SOCIAL': 'PL% FUNDO', 'VL_MERC_POS_FINAL' : pct_cotas_fundos}\n",
    "df_linha_pct_cotas_fundos = pd.DataFrame(linha_pct_cotas_fundos)\n",
    "squadra_cotas_fundos = pd.concat([squadra_cotas_fundos, df_linha_pct_cotas_fundos], ignore_index=True)\n",
    "# Criando a coluna 'data' no df\n",
    "squadra_cotas_fundos['data'] = data\n",
    "# Definindo a coluna 'data' como o index\n",
    "squadra_cotas_fundos = squadra_cotas_fundos.set_index('data')\n",
    "\n",
    "# Títulos Públicos\n",
    "linha_pct_titulos_pub = {'DENOM_SOCIAL': 'PL% FUNDO', 'VL_MERC_POS_FINAL' : pct_titulos_pub}\n",
    "df_linha_pct_titulos_pub = pd.DataFrame(linha_pct_titulos_pub)\n",
    "squadra_titulos_pub = pd.concat([squadra_titulos_pub, df_linha_pct_titulos_pub], ignore_index=True)\n",
    "# Criando a coluna 'data' no df\n",
    "squadra_titulos_pub['data'] = data\n",
    "# Definindo a coluna 'data' como o index\n",
    "squadra_titulos_pub = squadra_titulos_pub.set_index('data')\n",
    "\n",
    "# Vendido Ações\n",
    "linha_pct_vendido_acoes = {'DENOM_SOCIAL': 'PL% FUNDO', 'VL_MERC_POS_FINAL' : pct_vendido_acoes}\n",
    "df_linha_pct_vendido_acoes = pd.DataFrame(linha_pct_vendido_acoes)\n",
    "squadra_vendido_acoes = pd.concat([squadra_vendido_acoes, df_linha_pct_vendido_acoes], ignore_index=True)\n",
    "# Criando a coluna 'data' no df\n",
    "squadra_vendido_acoes['data'] = data\n",
    "# Definindo a coluna 'data' como o index\n",
    "squadra_vendido_acoes = squadra_vendido_acoes.set_index('data')"
   ]
  },
  {
   "cell_type": "code",
   "execution_count": null,
   "metadata": {},
   "outputs": [],
   "source": [
    "# Criando o arquivo excel em que cada categoria está em uma aba diferente\n",
    "with pd.ExcelWriter(f'C://Users//vitor//projetos_python//python_b3//composicao-fundos-de-investimentos//fundo_investimento//squadra//fundo_squadra_{ano}{mes}.xlsx') as writer:\n",
    "    squadra_acoes.to_excel(writer, sheet_name='acoes')\n",
    "    squadra_bdr.to_excel(writer, sheet_name='bdr')\n",
    "    squadra_exterior.to_excel(writer, sheet_name='exterior')\n",
    "    squadra_cotas_fundos.to_excel(writer, sheet_name='cota_fundos')\n",
    "    squadra_titulos_pub.to_excel(writer, sheet_name='titulos_publicos')\n",
    "    squadra_vendido_acoes.to_excel(writer, sheet_name='vendido_acoes')"
   ]
  },
  {
   "cell_type": "code",
   "execution_count": null,
   "metadata": {},
   "outputs": [],
   "source": [
    "# Caminho da pasta do fundo Squadra\n",
    "path_squadra = 'C:\\\\Users\\\\vitor\\\\projetos_python\\\\python_b3\\\\composicao-fundos-de-investimentos\\\\fundo_investimento\\\\squadra\\\\'\n",
    "\n",
    "# Caminho completo de todos os arquivos que estão na pasta\n",
    "paths_arquivos_squadra = glob.glob(path_squadra + '*.xlsx')\n",
    "\n",
    "lst_dfs = []\n",
    "for path in paths_arquivos_squadra:\n",
    "    df = pd.read_excel(path, sheet_name='acoes')\n",
    "    lst_dfs.append(df)\n",
    "\n",
    "# Concatendo os dfs de ações\n",
    "portfolio_squadra = pd.concat(lst_dfs, ignore_index=True)\n",
    "\n",
    "# Retirando as ações que não tem nenhum dinheiro alocado e os NAN\n",
    "portfolio_squadra = portfolio_squadra[portfolio_squadra['VL_MERC_POS_FINAL'] != 0]\n",
    "portfolio_squadra = portfolio_squadra.dropna()\n",
    "\n",
    "# Definindo a coluna 'data' como o index\n",
    "portfolio_squadra = portfolio_squadra.set_index('data')\n",
    "portfolio_squadra"
   ]
  },
  {
   "cell_type": "code",
   "execution_count": null,
   "metadata": {},
   "outputs": [],
   "source": [
    "# Selecionando o conjunto de ações (portfólio) de cada mês - retornando um df com vários dicionários\n",
    "portfolio_mensal = portfolio_squadra.groupby('data')['CD_ATIVO'].apply(set)\n",
    "\n",
    "# Convertendo o GroupBy resultante em DataFrame para facilitar a iteração\n",
    "portfolio_mensal = portfolio_mensal.reset_index()\n",
    "\n",
    "# Comparando o portfólio de cada mês\n",
    "comparar_portfolios(df=portfolio_mensal, nome_fundo='Squadra')"
   ]
  },
  {
   "cell_type": "code",
   "execution_count": null,
   "metadata": {},
   "outputs": [],
   "source": [
    "# Número total de ações de cada mês do portfólio\n",
    "num_total_acoes(df=portfolio_squadra)"
   ]
  },
  {
   "cell_type": "code",
   "execution_count": null,
   "metadata": {},
   "outputs": [],
   "source": [
    "# Rank das 5 maiores ações do fundo\n",
    "rank_top_5(df=portfolio_squadra)"
   ]
  },
  {
   "cell_type": "code",
   "execution_count": null,
   "metadata": {},
   "outputs": [],
   "source": [
    "# Plotando o portfólio de cada mês\n",
    "plot_portfolio(df=portfolio_squadra, nome_fundo='Squadra')"
   ]
  },
  {
   "cell_type": "markdown",
   "metadata": {},
   "source": [
    "### Fundo Guepardo"
   ]
  },
  {
   "cell_type": "markdown",
   "metadata": {},
   "source": [
    "* https://maisretorno.com/fundo/guepardo-institucional-master-fia"
   ]
  },
  {
   "cell_type": "code",
   "execution_count": null,
   "metadata": {},
   "outputs": [],
   "source": [
    "# Rentabilidade mensal\n",
    "df_ret_mensal_guepardo = rentabilidade_fundo(df=df_inf_diario, cnpj='14.213.077/0001-54', nome_fundo='guepardo')[0]\n",
    "\n",
    "# Comparação de rentabilidade entre fundo e benchmark\n",
    "df_ret_mensal_guepardo_ibov = rentabilidade_fundo_benchmark(\n",
    "    df_fundo=df_ret_mensal_guepardo,\n",
    "    df_benchmark=df_ret_ibov_mensal,\n",
    "    nome_fundo='guepardo',\n",
    "    nome_benchmark='ibov'\n",
    ")\n",
    "\n",
    "df_ret_mensal_guepardo_ibov"
   ]
  },
  {
   "cell_type": "code",
   "execution_count": null,
   "metadata": {},
   "outputs": [],
   "source": [
    "# Rentabilidade anual\n",
    "df_ret_anual_guepardo = rentabilidade_fundo(df=df_inf_diario, cnpj='14.213.077/0001-54', nome_fundo='guepardo')[1]\n",
    "\n",
    "# Comparação de rentabilidade entre fundo e benchmark\n",
    "df_ret_anual_guepardo_ibov = rentabilidade_fundo_benchmark(\n",
    "    df_fundo=df_ret_anual_guepardo,\n",
    "    df_benchmark=df_ret_ibov_anual,\n",
    "    nome_fundo='guepardo',\n",
    "    nome_benchmark='ibov'\n",
    ")\n",
    "\n",
    "df_ret_anual_guepardo_ibov"
   ]
  },
  {
   "cell_type": "code",
   "execution_count": null,
   "metadata": {},
   "outputs": [],
   "source": [
    "guepardo_acoes = fundo_cnpj_acoes(df=df_ativos, cnpj='14.213.077/0001-54')\n",
    "guepardo_pl = pl_fundo(\n",
    "    path=f'C://Users//vitor//projetos_python//python_b3//historico-arquivos//fundos_investimentos//fundos_cvm//{ano}{mes}//cda_fi_PL_{ano}{mes}.parquet', \n",
    "    cnpj='14.213.077/0001-54'\n",
    ")\n",
    "\n",
    "# Quantos porcertos cada categoria representa do PL final\n",
    "pct_acoes = round(pd.Series(guepardo_acoes['VL_MERC_POS_FINAL'].sum() / guepardo_pl.values), 4) \n",
    "\n",
    "# Criando a data do portfólio\n",
    "data = pd.to_datetime(f'{mes}-{ano}')\n",
    "\n",
    "# Adicionando a informação da porcentagem de cada categoria nos dfs\n",
    "# Ações\n",
    "linha_pct_acoes = {'DENOM_SOCIAL': 'PL% FUNDO', 'VL_MERC_POS_FINAL' : pct_acoes}\n",
    "df_linha_pct_acoes = pd.DataFrame(linha_pct_acoes)\n",
    "guepardo_acoes = pd.concat([guepardo_acoes, df_linha_pct_acoes], ignore_index=True)\n",
    "# Criando a coluna 'data' no df\n",
    "guepardo_acoes['data'] = data\n",
    "# Definindo a coluna 'data' como o index\n",
    "guepardo_acoes = guepardo_acoes.set_index('data')"
   ]
  },
  {
   "cell_type": "code",
   "execution_count": null,
   "metadata": {},
   "outputs": [],
   "source": [
    "# Criando o arquivo excel em que cada categoria está em uma aba diferente\n",
    "with pd.ExcelWriter(f'C://Users//vitor//projetos_python//python_b3//composicao-fundos-de-investimentos//fundo_investimento//guepardo//fundo_guepardo_{ano}{mes}.xlsx') as writer:\n",
    "    guepardo_acoes.to_excel(writer, sheet_name='acoes')\n",
    "    "
   ]
  },
  {
   "cell_type": "code",
   "execution_count": null,
   "metadata": {},
   "outputs": [],
   "source": [
    "# Caminho da pasta do fundo Guepardo\n",
    "path_guepardo = 'C:\\\\Users\\\\vitor\\\\projetos_python\\\\python_b3\\\\composicao-fundos-de-investimentos\\\\fundo_investimento\\\\guepardo\\\\'\n",
    "\n",
    "# Caminho completo de todos os arquivos que estão na pasta\n",
    "paths_arquivos_guepardo = glob.glob(path_guepardo + '*.xlsx')\n",
    "\n",
    "lst_dfs = []\n",
    "for path in paths_arquivos_guepardo:\n",
    "    df = pd.read_excel(path, sheet_name='acoes')\n",
    "    lst_dfs.append(df)\n",
    "\n",
    "# Concatendo os dfs de ações\n",
    "portfolio_guepardo = pd.concat(lst_dfs, ignore_index=True)\n",
    "\n",
    "# Retirando as ações que não tem nenhum dinheiro alocado  e os NAN\n",
    "portfolio_guepardo = portfolio_guepardo[portfolio_guepardo['VL_MERC_POS_FINAL'] != 0]\n",
    "portfolio_guepardo = portfolio_guepardo.dropna()\n",
    "\n",
    "# Definindo a coluna 'data' como o index\n",
    "portfolio_guepardo = portfolio_guepardo.set_index('data')\n",
    "portfolio_guepardo"
   ]
  },
  {
   "cell_type": "code",
   "execution_count": null,
   "metadata": {},
   "outputs": [],
   "source": [
    "# Selecionando o conjunto de ações (portfólio) de cada mês - retornando um df com vários dicionários\n",
    "portfolio_mensal = portfolio_guepardo.groupby('data')['CD_ATIVO'].apply(set)\n",
    "\n",
    "# Convertendo o GroupBy resultante em DataFrame para facilitar a iteração\n",
    "portfolio_mensal = portfolio_mensal.reset_index()\n",
    "\n",
    "# Comparando o portfólio de cada mês\n",
    "comparar_portfolios(df=portfolio_mensal, nome_fundo='Guepardo')"
   ]
  },
  {
   "cell_type": "code",
   "execution_count": null,
   "metadata": {},
   "outputs": [],
   "source": [
    "# Número total de ações de cada mês do portfpolio\n",
    "num_total_acoes(df=portfolio_guepardo)"
   ]
  },
  {
   "cell_type": "code",
   "execution_count": null,
   "metadata": {},
   "outputs": [],
   "source": [
    "# Rank das 5 maiores ações do fundo\n",
    "rank_top_5(df=portfolio_guepardo)"
   ]
  },
  {
   "cell_type": "code",
   "execution_count": null,
   "metadata": {},
   "outputs": [],
   "source": [
    "# Plotando o portfólio de cada mês\n",
    "plot_portfolio(df=portfolio_guepardo, nome_fundo='Guepardo')"
   ]
  },
  {
   "cell_type": "markdown",
   "metadata": {},
   "source": [
    "## Fundos de Previdência"
   ]
  },
  {
   "cell_type": "markdown",
   "metadata": {},
   "source": [
    "### Itau Prev High Yield"
   ]
  },
  {
   "cell_type": "markdown",
   "metadata": {},
   "source": [
    "* Eu baixei o arquivo de 03/2024 - para ver quais eram as debêntures que o fundo comprava. Esse arquivo não está atualizado com os dados dos fundos (Verde, Dynamo, IP, Squadra e Guepardo).\n",
    "* https://maisretorno.com/fundo/itau-flexprev-high-yield-ii-fi-financeiro-mult-cp-resp-limitada"
   ]
  },
  {
   "cell_type": "code",
   "execution_count": null,
   "metadata": {},
   "outputs": [],
   "source": [
    "itau_prev_hy_debentures = fundo_cnpj_debentures(df=df_ativos, cnpj='42.814.944/0001-42')\n",
    "itau_prev_hy_pl = pl_fundo(\n",
    "    path=f'C://Users//vitor//projetos_python//python_b3//historico-arquivos//fundos_investimentos//fundos_cvm//{ano}{mes}//cda_fi_PL_{ano}{mes}.parquet', \n",
    "    cnpj='42.814.944/0001-42'\n",
    ")\n",
    "\n",
    "# Quantos porcertos cada categoria representa do PL final\n",
    "pct_debentures = round(pd.Series(itau_prev_hy_debentures['VL_MERC_POS_FINAL'].sum() / itau_prev_hy_pl.values), 4) \n",
    "\n",
    "# Criando a data do portfólio\n",
    "data = pd.to_datetime(f'{mes}-{ano}')\n",
    "\n",
    "# Adicionando a informação da porcentagem de cada categoria nos dfs\n",
    "# Debêntures\n",
    "linha_pct_debentures = {'DENOM_SOCIAL': 'PL% FUNDO', 'VL_MERC_POS_FINAL' : pct_debentures}\n",
    "df_linha_pct_debentures = pd.DataFrame(linha_pct_debentures)\n",
    "itau_prev_hy_debentures = pd.concat([itau_prev_hy_debentures, df_linha_pct_debentures], ignore_index=True)\n",
    "# Criando a coluna 'data' no df\n",
    "itau_prev_hy_debentures['data'] = data\n",
    "# Definindo a coluna 'data' como o index\n",
    "itau_prev_hy_debentures = itau_prev_hy_debentures.set_index('data')"
   ]
  },
  {
   "cell_type": "code",
   "execution_count": null,
   "metadata": {},
   "outputs": [],
   "source": [
    "# Criando o arquivo excel para o fundo Itau Prev HY\n",
    "with pd.ExcelWriter(f'C://Users//vitor//projetos_python//python_b3//composicao-fundos-de-investimentos//fundo_previdencia//itau_hy//fundo_itau_prev_hy_{ano}{mes}.xlsx') as writer:\n",
    "    itau_prev_hy_debentures.to_excel(writer, sheet_name='debentures')"
   ]
  },
  {
   "cell_type": "markdown",
   "metadata": {},
   "source": [
    "### Itau Person Kinea CP"
   ]
  },
  {
   "cell_type": "markdown",
   "metadata": {},
   "source": [
    "* Eu baixei o arquivo de 03/2024 - para ver quais eram as debêntures que o fundo comprava. Esse arquivo não está atualizado com os dados dos fundos (Verde, Dynamo, IP, Squadra e Guepardo).\n",
    "* https://maisretorno.com/fundo/kinea-cp-prev-rf-fi"
   ]
  },
  {
   "cell_type": "code",
   "execution_count": null,
   "metadata": {},
   "outputs": [],
   "source": [
    "itau_kinea_prev_debentures = fundo_cnpj_debentures(df=df_ativos, cnpj='26.491.419/0001-87')\n",
    "itau_kinea_prev_pl = pl_fundo(\n",
    "    path=f'C://Users//vitor//projetos_python//python_b3//historico-arquivos//fundos_investimentos//fundos_cvm//{ano}{mes}//cda_fi_PL_{ano}{mes}.parquet', \n",
    "    cnpj='26.491.419/0001-87'\n",
    ")\n",
    "\n",
    "# Quantos porcertos cada categoria representa do PL final\n",
    "pct_debentures = round(pd.Series(itau_kinea_prev_debentures['VL_MERC_POS_FINAL'].sum() / itau_kinea_prev_pl.values), 4) \n",
    "\n",
    "# Criando a data do portfólio\n",
    "data = pd.to_datetime(f'{mes}-{ano}')\n",
    "\n",
    "# Adicionando a informação da porcentagem de cada categoria nos dfs\n",
    "# Debêntures\n",
    "linha_pct_debentures = {'DENOM_SOCIAL': 'PL% FUNDO', 'VL_MERC_POS_FINAL' : pct_debentures}\n",
    "df_linha_pct_debentures = pd.DataFrame(linha_pct_debentures)\n",
    "itau_kinea_prev_debentures = pd.concat([itau_kinea_prev_debentures, df_linha_pct_debentures], ignore_index=True)\n",
    "# Criando a coluna 'data' no df\n",
    "itau_kinea_prev_debentures['data'] = data\n",
    "# Definindo a coluna 'data' como o index\n",
    "itau_kinea_prev_debentures = itau_kinea_prev_debentures.set_index('data')"
   ]
  },
  {
   "cell_type": "code",
   "execution_count": null,
   "metadata": {},
   "outputs": [],
   "source": [
    "# Criando o arquivo excel para o fundo Itau Kinea Prev\n",
    "with pd.ExcelWriter(f'C://Users//vitor//projetos_python//python_b3//composicao-fundos-de-investimentos//fundo_previdencia//itau_person_kinea//fundo_itau_person_kinea_{ano}{mes}.xlsx') as writer:\n",
    "    itau_kinea_prev_debentures.to_excel(writer, sheet_name='debentures')"
   ]
  }
 ],
 "metadata": {
  "kernelspec": {
   "display_name": "Python 3",
   "language": "python",
   "name": "python3"
  },
  "language_info": {
   "codemirror_mode": {
    "name": "ipython",
    "version": 3
   },
   "file_extension": ".py",
   "mimetype": "text/x-python",
   "name": "python",
   "nbconvert_exporter": "python",
   "pygments_lexer": "ipython3",
   "version": "3.10.2"
  },
  "orig_nbformat": 4
 },
 "nbformat": 4,
 "nbformat_minor": 2
}
