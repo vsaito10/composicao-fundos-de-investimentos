{
 "cells": [
  {
   "cell_type": "markdown",
   "metadata": {},
   "source": [
    "**Histórico dos dados dos fundos de investimentos**\n",
    "* https://dados.cvm.gov.br/dataset/fi-doc-cda\n",
    "* https://dados.cvm.gov.br/dataset/fi-doc-inf_diario\n",
    "\n",
    "* Observação: muitas vezes, os arquivos excel do site acima não se atualizam rapidamente. Para ver a posição mais atualizada entrar no site:\n",
    "* https://conteudo.cvm.gov.br/menu/regulados/fundos/consultas/fundos.html\n",
    "---\n",
    "O arquivo zipado 'cda_fi' contém vários arquivos excel. Os arquivos que eu tenho interesse são:\n",
    "\n",
    "* cda_fi_BLC_1: arquivo que contém os 'Títulos Públicos';\n",
    "* cda_fi_BLC_2: arquivo que contém as 'Cotas de Fundos';\n",
    "* cda_fi_BLC_4: arquivo que contém as 'Ações', 'BDRs', 'Opções', 'Mercado futuro', 'Debêntures', 'Obrigações por ações' (posição vendida);\n",
    "* cda_fi_BLC_7: arquivo que contém os 'Investimentos no Exterior';\n",
    "* cda_fi_BLC_8: arquivo que contém os 'Investimentos no Exterior';\n",
    "* cda_fi_PL: arquivo que contém o PL dos fundos de investimentos.\n",
    "\n",
    "---\n",
    "O arquivo zipado 'inf_diario_fi' contém apenas um arquivo excel."
   ]
  },
  {
   "cell_type": "code",
   "execution_count": 2,
   "metadata": {},
   "outputs": [],
   "source": [
    "import glob\n",
    "import numpy as np\n",
    "import os\n",
    "import pandas as pd\n",
    "from pandas import DataFrame\n",
    "import plotly.graph_objects as go\n",
    "from plotly.subplots import make_subplots\n",
    "import zipfile"
   ]
  },
  {
   "cell_type": "markdown",
   "metadata": {},
   "source": [
    "## Extraindo os arquivos zipados"
   ]
  },
  {
   "cell_type": "markdown",
   "metadata": {},
   "source": [
    "### Extração dos arquivos \"cda_fi\""
   ]
  },
  {
   "cell_type": "code",
   "execution_count": 245,
   "metadata": {},
   "outputs": [],
   "source": [
    "# Mês e ano escolhido\n",
    "mes = '10'\n",
    "ano = '2023'\n",
    "\n",
    "# Nome do arquivo zipado\n",
    "zip_filename = f'C://Users//vitor//projetos_python//python_b3//historico-arquivos//fundos_investimentos//fundos_cvm_zip//cda_fi_{ano}{mes}.zip'\n",
    "\n",
    "# # Visualizando a lista dos nomes dos arquivos dentro do arquivo zipado\n",
    "# with zipfile.ZipFile(zip_filename, 'r') as zip_ref:\n",
    "#     print(\"Arquivos dentro do arquivo zipado:\")\n",
    "#     print(zip_ref.namelist())\n",
    "\n",
    "# Lista dos nomes dos arquivos que você deseja extrair\n",
    "arquivos_a_extrair = [\n",
    "    f'cda_fi_BLC_1_{ano}{mes}.csv', \n",
    "    f'cda_fi_BLC_2_{ano}{mes}.csv', \n",
    "    f'cda_fi_BLC_4_{ano}{mes}.csv', \n",
    "    f'cda_fi_BLC_7_{ano}{mes}.csv', \n",
    "    f'cda_fi_BLC_8_{ano}{mes}.csv',\n",
    "    f'cda_fi_PL_{ano}{mes}.csv'\n",
    "]\n",
    "\n",
    "# Caminho do diretório do diretório do arquivo não zipado\n",
    "destino_dir = f'C://Users//vitor//projetos_python//python_b3//historico-arquivos//fundos_investimentos//fundos_cvm//{ano}{mes}'\n",
    "\n",
    "# Abrindo o arquivo zipado\n",
    "with zipfile.ZipFile(zip_filename, 'r') as zip_ref:\n",
    "    # Extraindo os arquivos selecionados para um diretório específico\n",
    "    for arquivo in arquivos_a_extrair:\n",
    "        zip_ref.extract(arquivo, destino_dir)\n",
    "\n",
    "        # Caminhos dos arquivos em formato csv e parquet\n",
    "        csv_path = f'{destino_dir}//{arquivo}'\n",
    "        parquet_path = f'{destino_dir}//{arquivo.replace(\".csv\", \".parquet\")}'\n",
    "\n",
    "        # Lendo os arquivos csv\n",
    "        df = pd.read_csv(csv_path, sep=';', encoding='ISO-8859-1', low_memory=False)\n",
    "\n",
    "        # Transformando esses arquivos em parquet\n",
    "        df.to_parquet(parquet_path)\n",
    "\n",
    "# Entrando para o diretório especificado\n",
    "os.chdir(destino_dir)\n",
    "\n",
    "# Encontrando todos os arquivos .csv no diretório\n",
    "arquivos_csv = glob.glob('*.csv')\n",
    "\n",
    "# Loop para deletar cada arquivo csv encontrado\n",
    "for arquivo in arquivos_csv:\n",
    "    os.remove(arquivo)"
   ]
  },
  {
   "cell_type": "markdown",
   "metadata": {},
   "source": [
    "### Extração dos arquivos \"inf_diario_fi\""
   ]
  },
  {
   "cell_type": "code",
   "execution_count": 235,
   "metadata": {},
   "outputs": [],
   "source": [
    "# Descompactando apenas um arquivo\n",
    "\n",
    "# Mês e ano escolhido\n",
    "mes = '11'\n",
    "ano = '2023'\n",
    "\n",
    "# Nome do arquivo zipado\n",
    "zip_filename = f'C://Users//vitor//projetos_python//python_b3//historico-arquivos//fundos_investimentos//inf_diario_cvm_zip//inf_diario_fi_{ano}{mes}.zip'\n",
    "\n",
    "# Lista dos nomes dos arquivos que você deseja extrair\n",
    "arquivo_a_extrair = [f'inf_diario_fi_{ano}{mes}.csv']\n",
    "\n",
    "# Caminho do diretório do diretório do arquivo não zipado\n",
    "destino_dir = f'C://Users//vitor//projetos_python//python_b3//historico-arquivos//fundos_investimentos//inf_diario_cvm'\n",
    "\n",
    "# Abrindo o arquivo zipado\n",
    "with zipfile.ZipFile(zip_filename, 'r') as zip_ref:\n",
    "    # Extraindo os arquivos selecionados para um diretório específico\n",
    "    for arquivo in arquivo_a_extrair:\n",
    "        zip_ref.extract(arquivo, destino_dir)\n",
    "\n",
    "        # Caminhos dos arquivos em formato csv e parquet\n",
    "        csv_path = f'{destino_dir}//{arquivo}'\n",
    "        parquet_path = f'{destino_dir}//{arquivo.replace(\".csv\", \".parquet\")}'\n",
    "\n",
    "        # Lendo os arquivos csv\n",
    "        df = pd.read_csv(csv_path, sep=';', encoding='ISO-8859-1', low_memory=False)\n",
    "\n",
    "        # Transformando esses arquivos em parquet\n",
    "        df.to_parquet(parquet_path)\n",
    "\n",
    "# Entrando para o diretório especificado\n",
    "os.chdir(destino_dir)\n",
    "\n",
    "# Encontrando todos os arquivos .csv no diretório\n",
    "arquivos_csv = glob.glob('*.csv')\n",
    "\n",
    "# Loop para deletar cada arquivo csv encontrado\n",
    "for arquivo in arquivos_csv:\n",
    "    os.remove(arquivo)"
   ]
  },
  {
   "cell_type": "code",
   "execution_count": 145,
   "metadata": {},
   "outputs": [],
   "source": [
    "# Descompactando vários arquivos\n",
    "for _ in ['01', '02', '03', '04']: \n",
    "    \n",
    "    # Ano escolhido\n",
    "    ano = '2024'\n",
    "\n",
    "    # Nome do arquivo zipado\n",
    "    zip_filename = f'C://Users//vitor//projetos_python//python_b3//historico-arquivos//fundos_investimentos//inf_diario_cvm_zip//inf_diario_fi_{ano}{_}.zip'\n",
    "\n",
    "    # Lista dos nomes dos arquivos que você deseja extrair\n",
    "    arquivo_a_extrair = [f'inf_diario_fi_{ano}{_}.csv']\n",
    "\n",
    "    # Caminho do diretório do diretório do arquivo não zipado\n",
    "    destino_dir = f'C://Users//vitor//projetos_python//python_b3//historico-arquivos//fundos_investimentos//inf_diario_cvm'\n",
    "\n",
    "    # Abrindo o arquivo zipado\n",
    "    with zipfile.ZipFile(zip_filename, 'r') as zip_ref:\n",
    "        # Extraindo os arquivos selecionados para um diretório específico\n",
    "        for arquivo in arquivo_a_extrair:\n",
    "            zip_ref.extract(arquivo, destino_dir)\n",
    "\n",
    "            # Caminhos dos arquivos em formato csv e parquet\n",
    "            csv_path = f'{destino_dir}//{arquivo}'\n",
    "            parquet_path = f'{destino_dir}//{arquivo.replace(\".csv\", \".parquet\")}'\n",
    "\n",
    "            # Lendo os arquivos csv\n",
    "            df = pd.read_csv(csv_path, sep=';', encoding='ISO-8859-1', low_memory=False)\n",
    "\n",
    "            # Transformando esses arquivos em parquet\n",
    "            df.to_parquet(parquet_path)\n",
    "\n",
    "    # Entrando para o diretório especificado\n",
    "    os.chdir(destino_dir)\n",
    "\n",
    "    # Encontrando todos os arquivos .csv no diretório\n",
    "    arquivos_csv = glob.glob('*.csv')\n",
    "\n",
    "    # Loop para deletar cada arquivo csv encontrado\n",
    "    for arquivo in arquivos_csv:\n",
    "        os.remove(arquivo)"
   ]
  },
  {
   "cell_type": "markdown",
   "metadata": {},
   "source": [
    "## Funções"
   ]
  },
  {
   "cell_type": "code",
   "execution_count": 246,
   "metadata": {},
   "outputs": [],
   "source": [
    "def rentabilidade_fundo(df: pd.DataFrame, cnpj: str):\n",
    "    \"\"\"\n",
    "    Calcula a rentabilidade mensal e anual do fundo selecionado.\n",
    "\n",
    "    Parameters:\n",
    "    df: Dataframe que contem as cotas dos fundos.\n",
    "    cnpj: cnpj do fundo de investimento que você está procurando.\n",
    "\n",
    "    Returns:\n",
    "    df_ret_mensal: Dataframe dos retornos mensais.\n",
    "    df_ret_anual: Dataframe dos retornos anuais.\n",
    "\n",
    "    NOTE:Para calcular a rentabilidade mensal dos fundos - o site MaisRetorno utiliza última cota do mês anterior com a última cota do mês seguinte.\n",
    "    Para calcular a rentabilidade anual dos fundos - o site MaisRetorno utiliza última cota do ano anterior com a última cota do ano seguinte.\n",
    "    Por isso, eu tive que baixar a cota do mês 12/2022.\n",
    "    \"\"\"\n",
    "    # Selecionando o fundo de investimentos específicos\n",
    "    filt_cnpj = (df['CNPJ_FUNDO'] == cnpj)\n",
    "    fundo_espec = df.loc[filt_cnpj]\n",
    "\n",
    "    # Selecionando os últimos dias de cada mês\n",
    "    last_days = fundo_espec.groupby(fundo_espec.index.to_period('M')).tail(1)\n",
    "    # Selecionando apenas a coluna 'VL_QUOTA'\n",
    "    last_days = last_days.loc[:, 'VL_QUOTA']\n",
    "    # Calculando a rentabilidade do mês\n",
    "    ret_mensal = round(last_days.pct_change()*100, 2)\n",
    "    # Como eu estou utilizando a última cota do mês anterior com a a última cota do mês seguinte, a 1º rentabilidade ('2022-12-30') dessa série irá ser um NaN\n",
    "    ret_mensal = ret_mensal.dropna()\n",
    "    # Criando o df p/ os retornos mensais\n",
    "    df_ret_mensal = pd.DataFrame(ret_mensal)\n",
    "    # Renomeando a coluna 'VL_QUOTA'\n",
    "    df_ret_mensal = df_ret_mensal.rename(columns={'VL_QUOTA':'ret_mensal'})\n",
    "\n",
    "    # Transformando as poncentagens em taxa unitária\n",
    "    df_ret_mensal['taxa_unit'] = 1 + (df_ret_mensal['ret_mensal'] / 100) \n",
    "    # Lista dos anos\n",
    "    lst_years = df_ret_mensal.index.year.unique()\n",
    "    # Transformando em string\n",
    "    lst_years = lst_years.astype(str)\n",
    "    # Calculando o retorno anual - aculumando as porcentagens de cada ano\n",
    "    lst_ret_anual = []\n",
    "    for _ in lst_years:\n",
    "        ret_anual = round((df_ret_mensal.loc[_, 'taxa_unit'].agg(lambda x : x.prod()) -1) * 100, 2)\n",
    "        lst_ret_anual.append(ret_anual)\n",
    "    # Criando o df p/ os retornos anuais\n",
    "    df_ret_anual = pd.DataFrame(lst_ret_anual, index=lst_years, columns=['ret_anual'])\n",
    "\n",
    "    # Para não mostrar a coluna 'taxa_unit', selecionando apenas a coluna 'ret_mensal'\n",
    "    df_ret_mensal_final = df_ret_mensal[['ret_mensal']]\n",
    "\n",
    "    return df_ret_mensal_final, df_ret_anual\n",
    "\n",
    "\n",
    "def open_cda_1(path: str) -> DataFrame:\n",
    "    \"\"\"\n",
    "    Formatando o arquivo 'cda_fi_BLC_1'.\n",
    "\n",
    "    Parameters:\n",
    "    path: caminho do arquivo.\n",
    "\n",
    "    Returns:\n",
    "    Dataframe do arquivo 'cda_fi_BLC_1'\n",
    "    \"\"\"\n",
    "    # Lendo o arquivo\n",
    "    df = pd.read_parquet(path)\n",
    "\n",
    "    # Selecionando apenas os 'Fundos de Investimentos'\n",
    "    filt_fi = df['TP_FUNDO'] == 'FI'\n",
    "    df = df.loc[filt_fi]\n",
    "\n",
    "    # Selecionando as principais colunas\n",
    "    df = df[['TP_FUNDO', 'CNPJ_FUNDO', 'DENOM_SOCIAL','DT_COMPTC' , 'TP_APLIC', 'TP_ATIVO', 'VL_MERC_POS_FINAL', 'TP_TITPUB', 'DT_VENC']]\n",
    "\n",
    "    # Mesclando as colunas 'TP_TITPUB' e 'DT_VENC' em apenas em uma coluna\n",
    "    df['TP_TITPUB'] = df['TP_TITPUB'] + ' ' + df['DT_VENC']\n",
    "\n",
    "    # Removendo a coluna 'DT_VENC'\n",
    "    df = df.drop('DT_VENC', axis=1)\n",
    "\n",
    "    # Renomeando a coluna 'TP_TITPUB' p/ 'CD_ATIVO'. Assim fica igual ao df do arquivo cda_fi_BLC_2/4/7/8 para fazer depois juntar os dfs\n",
    "    df = df.rename(columns={'TP_TITPUB':'CD_ATIVO'})\n",
    "\n",
    "    # Transformando os dtypes das colunas.\n",
    "    df['TP_FUNDO'] = df['TP_FUNDO'].astype(str)\n",
    "    df['CNPJ_FUNDO'] = df['CNPJ_FUNDO'].astype(str)\n",
    "    df['DENOM_SOCIAL'] = df['DENOM_SOCIAL'].astype(str)\n",
    "    df['DT_COMPTC'] = pd.to_datetime(df['DT_COMPTC'])\n",
    "    df['TP_APLIC'] = df['TP_APLIC'].astype(str)\n",
    "    df['TP_ATIVO'] = df['TP_ATIVO'].astype(str)\n",
    "    df['VL_MERC_POS_FINAL'] = df['VL_MERC_POS_FINAL'].astype(float)\n",
    "    df['CD_ATIVO'] = df['CD_ATIVO'].astype(str)\n",
    "\n",
    "    return df\n",
    "\n",
    "\n",
    "def open_cda_2(path: str) -> DataFrame:\n",
    "    \"\"\"\n",
    "    Formatando o arquivo 'cda_fi_BLC_2'.\n",
    "\n",
    "    Parameters:\n",
    "    path: caminho do arquivo.\n",
    "\n",
    "    Returns:\n",
    "    Dataframe do arquivo 'cda_fi_BLC_2'\n",
    "    \"\"\"\n",
    "    # Lendo o arquivo. Adicionei o 'low_memory=False' para não dar o aviso -> DtypeWarning: Columns (7) have mixed types. Specify dtype option on import or set low_memory=False\n",
    "    df = pd.read_parquet(path)\n",
    "\n",
    "    # Selecionando apenas os 'Fundos de Investimentos'\n",
    "    filt_fi = df['TP_FUNDO'] == 'FI'\n",
    "    df = df.loc[filt_fi]\n",
    "\n",
    "    # Selecionando as principais colunas\n",
    "    df = df[['TP_FUNDO', 'CNPJ_FUNDO', 'DENOM_SOCIAL','DT_COMPTC' , 'TP_APLIC', 'TP_ATIVO', 'VL_MERC_POS_FINAL', 'NM_FUNDO_COTA']]\n",
    "\n",
    "    # Renomeando a coluna 'NM_FUNDO_COTA' p/ 'CD_ATIVO'. Assim fica igual ao df do arquivo cda_fi_BLC_4/7/8 para fazer depois juntar os dfs\n",
    "    df = df.rename(columns={'NM_FUNDO_COTA':'CD_ATIVO'})\n",
    "\n",
    "    # Transformando os dtypes das colunas\n",
    "    df['TP_FUNDO'] = df['TP_FUNDO'].astype(str)\n",
    "    df['CNPJ_FUNDO'] = df['CNPJ_FUNDO'].astype(str)\n",
    "    df['DENOM_SOCIAL'] = df['DENOM_SOCIAL'].astype(str)\n",
    "    df['DT_COMPTC'] = pd.to_datetime(df['DT_COMPTC'])\n",
    "    df['TP_APLIC'] = df['TP_APLIC'].astype(str)\n",
    "    df['TP_ATIVO'] = df['TP_ATIVO'].astype(str)\n",
    "    df['VL_MERC_POS_FINAL'] = df['VL_MERC_POS_FINAL'].astype(float)\n",
    "    df['CD_ATIVO'] = df['CD_ATIVO'].astype(str)\n",
    "\n",
    "    return df\n",
    "\n",
    "\n",
    "def open_cda_4(path: str) -> DataFrame:\n",
    "    \"\"\"\n",
    "    Formatando o arquivo 'cda_fi_BLC_4'.\n",
    "\n",
    "    Parameters:\n",
    "    path: caminho do arquivo.\n",
    "\n",
    "    Returns:\n",
    "    Dataframe do arquivo 'cda_fi_BLC_4'\n",
    "    \"\"\"\n",
    "    # Lendo o arquivo\n",
    "    df = pd.read_parquet(path)\n",
    "\n",
    "    # Selecionando apenas os 'Fundos de Investimentos'\n",
    "    filt_fi = df['TP_FUNDO'] == 'FI'\n",
    "    df = df.loc[filt_fi]\n",
    "\n",
    "    # Selecionando as principais colunas\n",
    "    df = df[['TP_FUNDO', 'CNPJ_FUNDO', 'DENOM_SOCIAL','DT_COMPTC' , 'TP_APLIC', 'TP_ATIVO', 'VL_MERC_POS_FINAL', 'CD_ATIVO']]\n",
    "\n",
    "    # Transformando os dtypes das colunas\n",
    "    df['TP_FUNDO'] = df.loc[:, 'TP_FUNDO'].astype(str)\n",
    "    df['CNPJ_FUNDO'] = df.loc[:, 'CNPJ_FUNDO'].astype(str)\n",
    "    df['DENOM_SOCIAL'] = df.loc[:, 'DENOM_SOCIAL'].astype(str)\n",
    "    df['DT_COMPTC'] = pd.to_datetime(df['DT_COMPTC'])\n",
    "    df['TP_APLIC'] = df.loc[:, 'TP_APLIC'].astype(str)\n",
    "    df['TP_ATIVO'] = df.loc[:, 'TP_ATIVO'].astype(str)\n",
    "    df['VL_MERC_POS_FINAL'] = df.loc[:, 'VL_MERC_POS_FINAL'].astype(float)\n",
    "    df['CD_ATIVO'] = df.loc[:, 'CD_ATIVO'].astype(str)\n",
    "\n",
    "    return df\n",
    "\n",
    "\n",
    "def open_cda_7(path: str) -> DataFrame:\n",
    "    \"\"\"\n",
    "    Formatando o arquivo 'cda_fi_BLC_7'.\n",
    "\n",
    "    Parameters:\n",
    "    path: caminho do arquivo.\n",
    "\n",
    "    Returns:\n",
    "    Dataframe do arquivo 'cda_fi_BLC_7'\n",
    "    \"\"\"\n",
    "    # Lendo o arquivo\n",
    "    df = pd.read_parquet(path)\n",
    "\n",
    "    # Selecionando apenas os 'Fundos de Investimentos'\n",
    "    filt_fi = df['TP_FUNDO'] == 'FI'\n",
    "    df = df.loc[filt_fi]\n",
    "\n",
    "    # Selecionando as principais colunas.\n",
    "    df = df[['TP_FUNDO', 'CNPJ_FUNDO', 'DENOM_SOCIAL','DT_COMPTC' , 'TP_APLIC', 'TP_ATIVO', 'VL_MERC_POS_FINAL', 'EMISSOR']]\n",
    "\n",
    "    # Renomeando a coluna 'EMISSOR' p/ 'CD_ATIVO'. Assim fica igual ao df do arquivo cda_fi_BLC_4 p/ fazer depois juntar os dfs.\n",
    "    df.rename(columns={\"EMISSOR\": \"CD_ATIVO\"}, inplace=True)\n",
    "\n",
    "    # Transformando os dtypes das colunas.\n",
    "    df['TP_FUNDO'] = df.loc[:, 'TP_FUNDO'].astype(str)\n",
    "    df['CNPJ_FUNDO'] = df.loc[:, 'CNPJ_FUNDO'].astype(str)\n",
    "    df['DENOM_SOCIAL'] = df.loc[:, 'DENOM_SOCIAL'].astype(str)\n",
    "    df['DT_COMPTC'] = pd.to_datetime(df['DT_COMPTC'])\n",
    "    df['TP_APLIC'] = df.loc[:, 'TP_APLIC'].astype(str)\n",
    "    df['TP_ATIVO'] = df.loc[:, 'TP_ATIVO'].astype(str)\n",
    "    df['VL_MERC_POS_FINAL'] = df.loc[:, 'VL_MERC_POS_FINAL'].astype(float)\n",
    "    df['CD_ATIVO'] = df.loc[:, 'CD_ATIVO'].astype(str)\n",
    "\n",
    "    return df\n",
    "\n",
    "\n",
    "def open_cda_8(path: str) -> DataFrame:\n",
    "    \"\"\"\n",
    "    Formatando o arquivo 'cda_fi_BLC_8'.\n",
    "\n",
    "    Parameters:\n",
    "    path: caminho do arquivo.\n",
    "\n",
    "    Returns:\n",
    "    Dataframe do arquivo 'cda_fi_BLC_8'\n",
    "    \"\"\"\n",
    "    # Lendo o arquivo\n",
    "    df = pd.read_parquet(path)\n",
    "\n",
    "    # Selecionando apenas os 'Fundos de Investimentos'\n",
    "    filt_fi = df['TP_FUNDO'] == 'FI'\n",
    "    df = df.loc[filt_fi]\n",
    "\n",
    "    # Selecionando as principais colunas\n",
    "    df = df[['TP_FUNDO', 'CNPJ_FUNDO', 'DENOM_SOCIAL','DT_COMPTC' , 'TP_APLIC', 'TP_ATIVO', 'VL_MERC_POS_FINAL', 'DS_ATIVO']]\n",
    "\n",
    "    # Renomeando a coluna 'DS_ATIVO' p/ 'CD_ATIVO'. Assim fica igual ao df do arquivo cda_fi_BLC_4 p/ fazer depois juntar os dfs\n",
    "    df.rename(columns={\"DS_ATIVO\": \"CD_ATIVO\"}, inplace=True)\n",
    "\n",
    "    # Transformando os dtypes das colunas\n",
    "    df['TP_FUNDO'] = df.loc[:, 'TP_FUNDO'].astype(str)\n",
    "    df['CNPJ_FUNDO'] = df.loc[:, 'CNPJ_FUNDO'].astype(str)\n",
    "    df['DENOM_SOCIAL'] = df.loc[:, 'DENOM_SOCIAL'].astype(str)\n",
    "    df['DT_COMPTC'] = pd.to_datetime(df['DT_COMPTC'])\n",
    "    df['TP_APLIC'] = df.loc[:, 'TP_APLIC'].astype(str)\n",
    "    df['TP_ATIVO'] = df.loc[:, 'TP_ATIVO'].astype(str)\n",
    "    df['VL_MERC_POS_FINAL'] = df.loc[:, 'VL_MERC_POS_FINAL'].astype(float)\n",
    "    df['CD_ATIVO'] = df.loc[:, 'CD_ATIVO'].astype(str)\n",
    "\n",
    "    # Selecionando apenas o ativo 'BDR', porque neste arquivo também possui um ativo chamado 'Títulos Públicos', mas não é o principal 'Títulos Públicos', que está no 'cda_fi_BLC_1'\n",
    "    filt_bdr = (df['TP_APLIC'] == 'Brazilian Depository Receipt - BDR')\n",
    "    df = df.loc[filt_bdr].sort_values(by='VL_MERC_POS_FINAL', ascending=False)\n",
    "    \n",
    "    return df\n",
    "\n",
    "\n",
    "def pl_fundo(path: str, cnpj: str) -> DataFrame:\n",
    "    \"\"\"\n",
    "    Formatando o arquivo 'cda_fi_PL'.\n",
    "    \n",
    "    Paramenters:\n",
    "    path: caminho do arquivo.\n",
    "    cnpj: cnpj do fundo de investimento que você está procurando.\n",
    "\n",
    "    Returns:\n",
    "    Dataframe com o valor do patrimônio líquido do fundo de investimentos específico.\n",
    "    \"\"\"\n",
    "    # Lendo o arquivo\n",
    "    df = pd.read_parquet(path)\n",
    "\n",
    "    # Selecionando apenas os 'Fundos de Investimentos'\n",
    "    filt_fi = df['TP_FUNDO'] == 'FI'\n",
    "    df = df.loc[filt_fi]\n",
    "\n",
    "    # Selecionando o fundo de investimentos específicos\n",
    "    filt_cnpj = df['CNPJ_FUNDO'] == cnpj\n",
    "    fundo_espec = df.loc[filt_cnpj]\n",
    "\n",
    "    # # Transformando os dtypes da coluna\n",
    "    # fundo_espec['VL_PATRIM_LIQ'] = fundo_espec.loc[:, 'VL_PATRIM_LIQ'].astype(float)\n",
    "\n",
    "    return fundo_espec['VL_PATRIM_LIQ']\n",
    "\n",
    "\n",
    "def fundo_cnpj(df: pd.DataFrame, cnpj: str) -> DataFrame:\n",
    "    \"\"\"\n",
    "    Separando o df do fundo de investimentos em várias categorias.\n",
    "\n",
    "    Parameters:\n",
    "    df: Dataframe que contém os ativos dos fundos.\n",
    "    cnpj: cnpj do fundo de investimento que você está procurando.\n",
    "\n",
    "    Returns:\n",
    "    Vários dataframes de categorias diferentes: ações, BDRs, investimentos no exterior, cotas de fundos e títulos públicos.\n",
    "    \"\"\"\n",
    "    # Lendo o df concatenado\n",
    "    filt_cnpj = df['CNPJ_FUNDO'] == cnpj\n",
    "    fundo_espec = df.loc[filt_cnpj]\n",
    "\n",
    "    # Ações\n",
    "    filt_acoes = (fundo_espec['TP_APLIC'] == 'Ações')\n",
    "    # Selecionando pelo em ordem da maior posição do fundo p/ a menor\n",
    "    df_acoes = fundo_espec.loc[filt_acoes].sort_values(by='VL_MERC_POS_FINAL', ascending=False)\n",
    "    # Calculando quantos porcentos representa cada ação\n",
    "    porcentagem_acao = lambda x: (x / df_acoes['VL_MERC_POS_FINAL'].sum())\n",
    "    # Criando a coluna 'PORCENTAGEM'\n",
    "    df_acoes['PORCENTAGEM'] = list(map(porcentagem_acao, df_acoes['VL_MERC_POS_FINAL']))\n",
    "    # Selecionando apenas as colunas necessárias\n",
    "    df_acoes = df_acoes.loc[:,['DENOM_SOCIAL', 'CD_ATIVO', 'PORCENTAGEM', 'VL_MERC_POS_FINAL']]\n",
    "\n",
    "    # BDRs\n",
    "    filt_bdr = (fundo_espec['TP_APLIC'] == 'Brazilian Depository Receipt - BDR')\n",
    "    # Selecionando pelo em ordem da maior posição do fundo p/ a menor\n",
    "    df_bdr = fundo_espec.loc[filt_bdr].sort_values(by='VL_MERC_POS_FINAL', ascending=False)\n",
    "    # Calculando quantos porcentos representa cada ação\n",
    "    porcentagem_bdr = lambda x: (x / df_bdr['VL_MERC_POS_FINAL'].sum())\n",
    "    # Criando a coluna 'PORCENTAGEM'\n",
    "    df_bdr['PORCENTAGEM'] = list(map(porcentagem_bdr, df_bdr['VL_MERC_POS_FINAL']))\n",
    "    # Selecionando apenas as colunas necessárias\n",
    "    df_bdr =  df_bdr.loc[:,['DENOM_SOCIAL', 'CD_ATIVO', 'PORCENTAGEM', 'VL_MERC_POS_FINAL']]\n",
    "\n",
    "    # Investimentos Exterior\n",
    "    filt_exterior = (fundo_espec['TP_APLIC'] == 'Investimento no Exterior')\n",
    "    # Selecionando pelo em ordem da maior posição do fundo p/ a menor\n",
    "    df_exterior = fundo_espec.loc[filt_exterior].sort_values(by='VL_MERC_POS_FINAL', ascending=False)\n",
    "    # Calculando quantos porcentos representa cada ação\n",
    "    porcentagem_exterior = lambda x: (x / df_exterior['VL_MERC_POS_FINAL'].sum())\n",
    "    # Criando a coluna 'PORCENTAGEM'\n",
    "    df_exterior['PORCENTAGEM'] = list(map(porcentagem_exterior, df_exterior['VL_MERC_POS_FINAL']))\n",
    "    # Selecionando apenas as colunas necessárias\n",
    "    df_exterior = df_exterior.loc[:,['DENOM_SOCIAL', 'CD_ATIVO', 'PORCENTAGEM', 'VL_MERC_POS_FINAL']]\n",
    "\n",
    "    # Cotas de Fundos\n",
    "    filt_cotas_fundos = (fundo_espec['TP_APLIC'] == 'Cotas de Fundos')\n",
    "    # Selecionando pelo em ordem da maior posição do fundo p/ a menor\n",
    "    df_cotas_fundos = fundo_espec.loc[filt_cotas_fundos].sort_values(by='VL_MERC_POS_FINAL', ascending=False)\n",
    "    # Calculando quantos porcentos representa cada cota de fundo\n",
    "    porcentagem_cotas = lambda x: (x / df_cotas_fundos['VL_MERC_POS_FINAL'].sum())\n",
    "    # Criando a coluna 'PORCENTAGEM'\n",
    "    df_cotas_fundos['PORCENTAGEM'] = list(map(porcentagem_cotas, df_cotas_fundos['VL_MERC_POS_FINAL']))\n",
    "    # Selecionando apenas as colunas necessárias\n",
    "    df_cotas_fundos = df_cotas_fundos.loc[:,['DENOM_SOCIAL', 'CD_ATIVO', 'PORCENTAGEM', 'VL_MERC_POS_FINAL']]\n",
    "\n",
    "    # Títulos públicos\n",
    "    filt_titulos_pub = (fundo_espec['TP_APLIC'] == 'Títulos Públicos')\n",
    "    # Selecionando pelo em ordem da maior posição do fundo p/ a menor\n",
    "    df_titulos_pub = fundo_espec.loc[filt_titulos_pub].sort_values(by='VL_MERC_POS_FINAL', ascending=False)\n",
    "    # Calculando quantos porcentos representa cada título público\n",
    "    porcentagem_titulos = lambda x: (x / df_titulos_pub['VL_MERC_POS_FINAL'].sum())\n",
    "    # Criando a coluna 'PORCENTAGEM'\n",
    "    df_titulos_pub['PORCENTAGEM'] = list(map(porcentagem_titulos, df_titulos_pub['VL_MERC_POS_FINAL']))\n",
    "    # Selecionando apenas as colunas necessárias\n",
    "    df_titulos_pub = df_titulos_pub.loc[:,['DENOM_SOCIAL', 'CD_ATIVO', 'PORCENTAGEM', 'VL_MERC_POS_FINAL']]\n",
    "\n",
    "    # Obrigações por ações e outros TVM recebidos em empréstimo\n",
    "    filt_vendido_acoes = (fundo_espec['TP_APLIC'] == 'Obrigações por ações e outros TVM recebidos em empréstimo')\n",
    "    # Selecionando pelo em ordem da maior posição do fundo p/ a menor\n",
    "    df_vendido_acoes = fundo_espec.loc[filt_vendido_acoes].sort_values(by='VL_MERC_POS_FINAL', ascending=False)\n",
    "    # Calculando quantos porcentos representa cada título público\n",
    "    porcentagem_vendido = lambda x: (x / df_vendido_acoes['VL_MERC_POS_FINAL'].sum())\n",
    "    # Criando a coluna 'PORCENTAGEM'\n",
    "    df_vendido_acoes['PORCENTAGEM'] = list(map(porcentagem_vendido, df_vendido_acoes['VL_MERC_POS_FINAL']))\n",
    "    # Selecionando apenas as colunas necessárias\n",
    "    df_vendido_acoes = df_vendido_acoes.loc[:,['DENOM_SOCIAL', 'CD_ATIVO', 'PORCENTAGEM', 'VL_MERC_POS_FINAL']]\n",
    "\n",
    "    return (\n",
    "        df_acoes, \n",
    "        df_bdr, \n",
    "        df_exterior, \n",
    "        df_cotas_fundos, \n",
    "        df_titulos_pub, \n",
    "        df_vendido_acoes\n",
    "    )\n",
    "\n",
    "\n",
    "def fundo_cnpj_acoes(df: pd.DataFrame, cnpj: str) -> DataFrame:\n",
    "    \"\"\"\n",
    "    Separando o df do fundo de investimento apenas na categoria de ações.\n",
    "\n",
    "    Parameters:\n",
    "    df: Dataframe que contém os ativos dos fundos.\n",
    "    cnpj: cnpj do fundo de investimento que você está procurando.\n",
    "\n",
    "    Returns:\n",
    "    Vários dataframes de categorias diferentes: ações, BDRs, investimentos no exterior, cotas de fundos e títulos públicos.\n",
    "    \n",
    "    \"\"\"\n",
    "    # Lendo o df concatenado\n",
    "    filt_cnpj = df['CNPJ_FUNDO'] == cnpj\n",
    "    fundo_espec = df.loc[filt_cnpj]\n",
    "\n",
    "    # Ações\n",
    "    filt_acoes = (fundo_espec['TP_APLIC'] == 'Ações')\n",
    "    # Selecionando pelo em ordem da maior posição do fundo p/ a menor\n",
    "    df_acoes = fundo_espec.loc[filt_acoes].sort_values(by='VL_MERC_POS_FINAL', ascending=False)\n",
    "    # Calculando quantos porcentos representa cada ação\n",
    "    porcentagem_acao = lambda x: (x / df_acoes['VL_MERC_POS_FINAL'].sum())\n",
    "    # Criando a coluna 'PORCENTAGEM'\n",
    "    df_acoes['PORCENTAGEM'] = list(map(porcentagem_acao, df_acoes['VL_MERC_POS_FINAL']))\n",
    "    # Selecionando apenas as colunas necessárias\n",
    "    df_acoes = df_acoes.loc[:,['DENOM_SOCIAL', 'CD_ATIVO', 'PORCENTAGEM', 'VL_MERC_POS_FINAL']]\n",
    "\n",
    "    return df_acoes\n",
    "\n",
    "\n",
    "def comparar_portfolios(df: pd.DataFrame, nome_fundo: str) -> str:\n",
    "    \"\"\"\n",
    "    Comparação do portfólio - quais foram as ações que foram compradas e vendidas em relação ao mês anteirior.\n",
    "\n",
    "    Pameters:\n",
    "    df: DataFrame de cada mês do portfólio do fundo.\n",
    "    nome_fundo: nome do fundo que está sendo analisado.\n",
    "\n",
    "    Returns:\n",
    "    Texto com as mudanças do portfólio.\n",
    "    \"\"\"\n",
    "    for i in range(1, len(df)):\n",
    "        mes_atual = df.iloc[i]\n",
    "        mes_anterior = df.iloc[i - 1]\n",
    "        \n",
    "        data_atual = mes_atual['data']\n",
    "        data_anterior = mes_anterior['data']\n",
    "        \n",
    "        acoes_atual = mes_atual['CD_ATIVO']\n",
    "        acoes_anterior = mes_anterior['CD_ATIVO']\n",
    "        \n",
    "        vendidas = acoes_anterior - acoes_atual\n",
    "        compradas = acoes_atual - acoes_anterior\n",
    "        \n",
    "        print(f'Comparando o portfólio de {data_anterior.strftime(\"%m/%Y\")} e {data_atual.strftime(\"%m/%Y\")}:')\n",
    "        print(f'O {nome_fundo} vendeu as ações: {vendidas}')\n",
    "        print(f'O {nome_fundo} comprou as ações: {compradas}')\n",
    "        print('-' * 80)\n",
    "\n",
    "\n",
    "def num_total_acoes(df: pd.DataFrame) -> pd.Series:\n",
    "    \"\"\"\n",
    "    Parameters:\n",
    "    df: DataFrame do portfólio do fundo.\n",
    "\n",
    "    Returns:\n",
    "    Número total de ações de cada mês do portfpolio.\n",
    "    \"\"\"\n",
    "    num_total_acoes = df.groupby('data')['CD_ATIVO'].count()\n",
    "    \n",
    "    return num_total_acoes\n",
    "\n",
    "\n",
    "def rank_top_5(df: pd.DataFrame) -> pd.Series:\n",
    "    \"\"\"\n",
    "    Parameters:\n",
    "    df: DataFrame do portfólio do fundo.\n",
    "    \n",
    "    Returns:\n",
    "    rank_portfolio_fundo: rank das 5 maiores posições do fundo.\n",
    "    \"\"\"\n",
    "    # Selecionando os valores únicos (datas) do df\n",
    "    lst_data = df.index.unique()\n",
    "\n",
    "    # Rank das 5 maiores posições do fundo\n",
    "    lst_rank = []\n",
    "    for _ in lst_data:\n",
    "        rank = df.loc[_].nlargest(5, 'PORCENTAGEM')[['CD_ATIVO', 'PORCENTAGEM']]\n",
    "        lst_rank.append(rank)\n",
    "\n",
    "    # Concatendo os dfs de rank\n",
    "    rank_portfolio = pd.concat(lst_rank)\n",
    "    rank_portfolio_fundo = rank_portfolio.groupby('data')['CD_ATIVO'].apply(list)\n",
    "\n",
    "    return rank_portfolio_fundo\n",
    "\n",
    "\n",
    "def plot_portfolio(df: pd.DataFrame, nome_fundo: str):\n",
    "    \"\"\"\n",
    "    Parameters:\n",
    "    df: Dataframe do portfólio do fundo selecionado.\n",
    "    nome_fundo: nome do fundo selecionado.\n",
    "\n",
    "    Returns:\n",
    "    Plot do portfólio do fundo selecionado.\n",
    "    \"\"\"\n",
    "    # Extraindo os meses únicos do índice\n",
    "    months = df.index.to_period('M').unique()\n",
    "\n",
    "    # Títulos dos subplots\n",
    "    titulos = [f'Distribuição Percentual do Portfólio - {month.strftime(\"%m/%Y\")}' for month in months]\n",
    "\n",
    "    # Criando a figura com subplots\n",
    "    fig = make_subplots(rows=len(months),\n",
    "                        cols=1,\n",
    "                        subplot_titles=titulos,\n",
    "                        vertical_spacing=0.02  # Espaço entre os plots\n",
    "    )\n",
    "\n",
    "    # Iterando sobre os meses\n",
    "    for idx, month in enumerate(months):\n",
    "        # Extraindo os dados do portfólio para o mês atual\n",
    "        portfolio_mes = df.loc[month.strftime('%Y-%m'), ['CD_ATIVO', 'PORCENTAGEM']]\n",
    "        \n",
    "        fig.add_trace(go.Bar(\n",
    "            x=portfolio_mes['PORCENTAGEM'] * 100,\n",
    "            y=portfolio_mes['CD_ATIVO'],\n",
    "            orientation='h',\n",
    "            name=month.strftime('%m/%Y')\n",
    "        ), row=idx + 1, col=1)\n",
    "\n",
    "    fig.update_layout(\n",
    "        title=f'Portfólio do Fundo {nome_fundo}',\n",
    "        height=6000,\n",
    "        width=900\n",
    "    )\n",
    "\n",
    "    return fig.show()"
   ]
  },
  {
   "cell_type": "code",
   "execution_count": 247,
   "metadata": {},
   "outputs": [
    {
     "data": {
      "text/html": [
       "<div>\n",
       "<style scoped>\n",
       "    .dataframe tbody tr th:only-of-type {\n",
       "        vertical-align: middle;\n",
       "    }\n",
       "\n",
       "    .dataframe tbody tr th {\n",
       "        vertical-align: top;\n",
       "    }\n",
       "\n",
       "    .dataframe thead th {\n",
       "        text-align: right;\n",
       "    }\n",
       "</style>\n",
       "<table border=\"1\" class=\"dataframe\">\n",
       "  <thead>\n",
       "    <tr style=\"text-align: right;\">\n",
       "      <th></th>\n",
       "      <th>TP_FUNDO</th>\n",
       "      <th>CNPJ_FUNDO</th>\n",
       "      <th>DENOM_SOCIAL</th>\n",
       "      <th>DT_COMPTC</th>\n",
       "      <th>TP_APLIC</th>\n",
       "      <th>TP_ATIVO</th>\n",
       "      <th>VL_MERC_POS_FINAL</th>\n",
       "      <th>CD_ATIVO</th>\n",
       "    </tr>\n",
       "  </thead>\n",
       "  <tbody>\n",
       "    <tr>\n",
       "      <th>165925</th>\n",
       "      <td>FI</td>\n",
       "      <td>44.434.985/0001-39</td>\n",
       "      <td>TRAFALGAR ORION FUNDO DE INVESTIMENTO - RENDA ...</td>\n",
       "      <td>2023-10-31</td>\n",
       "      <td>Brazilian Depository Receipt - BDR</td>\n",
       "      <td>BDR nível II</td>\n",
       "      <td>22.45</td>\n",
       "      <td>INBR32 -</td>\n",
       "    </tr>\n",
       "    <tr>\n",
       "      <th>90055</th>\n",
       "      <td>FI</td>\n",
       "      <td>20.895.433/0001-60</td>\n",
       "      <td>TERA FUNDO DE INVESTIMENTO MULTIMERCADO INVEST...</td>\n",
       "      <td>2023-10-31</td>\n",
       "      <td>Brazilian Depository Receipt - BDR</td>\n",
       "      <td>BDR nível I</td>\n",
       "      <td>8.58</td>\n",
       "      <td>MILK33 - LAEP - MILK33</td>\n",
       "    </tr>\n",
       "    <tr>\n",
       "      <th>87001</th>\n",
       "      <td>FI</td>\n",
       "      <td>18.990.723/0001-40</td>\n",
       "      <td>SICREDI FUNDO DE INVESTIMENTO ESPECIALMENTE CO...</td>\n",
       "      <td>2023-10-31</td>\n",
       "      <td>Brazilian Depository Receipt - BDR</td>\n",
       "      <td>BDR nível III</td>\n",
       "      <td>0.00</td>\n",
       "      <td>EXCO/EXCO32/BREXCOBDR000</td>\n",
       "    </tr>\n",
       "    <tr>\n",
       "      <th>159052</th>\n",
       "      <td>FI</td>\n",
       "      <td>42.656.788/0001-39</td>\n",
       "      <td>TBI FUNDO DE INVESTIMENTO MULTIMERCADO CRÉDITO...</td>\n",
       "      <td>2023-10-31</td>\n",
       "      <td>Brazilian Depository Receipt - BDR</td>\n",
       "      <td>BDR nível I</td>\n",
       "      <td>0.00</td>\n",
       "      <td>XPBR DR1 - 09/10/2023</td>\n",
       "    </tr>\n",
       "    <tr>\n",
       "      <th>159053</th>\n",
       "      <td>FI</td>\n",
       "      <td>42.656.788/0001-39</td>\n",
       "      <td>TBI FUNDO DE INVESTIMENTO MULTIMERCADO CRÉDITO...</td>\n",
       "      <td>2023-10-31</td>\n",
       "      <td>Brazilian Depository Receipt - BDR</td>\n",
       "      <td>BDR nível I</td>\n",
       "      <td>0.00</td>\n",
       "      <td>XPBR DR1 - 23/10/2023</td>\n",
       "    </tr>\n",
       "  </tbody>\n",
       "</table>\n",
       "</div>"
      ],
      "text/plain": [
       "       TP_FUNDO          CNPJ_FUNDO  \\\n",
       "165925       FI  44.434.985/0001-39   \n",
       "90055        FI  20.895.433/0001-60   \n",
       "87001        FI  18.990.723/0001-40   \n",
       "159052       FI  42.656.788/0001-39   \n",
       "159053       FI  42.656.788/0001-39   \n",
       "\n",
       "                                             DENOM_SOCIAL  DT_COMPTC  \\\n",
       "165925  TRAFALGAR ORION FUNDO DE INVESTIMENTO - RENDA ... 2023-10-31   \n",
       "90055   TERA FUNDO DE INVESTIMENTO MULTIMERCADO INVEST... 2023-10-31   \n",
       "87001   SICREDI FUNDO DE INVESTIMENTO ESPECIALMENTE CO... 2023-10-31   \n",
       "159052  TBI FUNDO DE INVESTIMENTO MULTIMERCADO CRÉDITO... 2023-10-31   \n",
       "159053  TBI FUNDO DE INVESTIMENTO MULTIMERCADO CRÉDITO... 2023-10-31   \n",
       "\n",
       "                                  TP_APLIC       TP_ATIVO  VL_MERC_POS_FINAL  \\\n",
       "165925  Brazilian Depository Receipt - BDR   BDR nível II              22.45   \n",
       "90055   Brazilian Depository Receipt - BDR    BDR nível I               8.58   \n",
       "87001   Brazilian Depository Receipt - BDR  BDR nível III               0.00   \n",
       "159052  Brazilian Depository Receipt - BDR    BDR nível I               0.00   \n",
       "159053  Brazilian Depository Receipt - BDR    BDR nível I               0.00   \n",
       "\n",
       "                        CD_ATIVO  \n",
       "165925                  INBR32 -  \n",
       "90055     MILK33 - LAEP - MILK33  \n",
       "87001   EXCO/EXCO32/BREXCOBDR000  \n",
       "159052     XPBR DR1 - 09/10/2023  \n",
       "159053     XPBR DR1 - 23/10/2023  "
      ]
     },
     "execution_count": 247,
     "metadata": {},
     "output_type": "execute_result"
    }
   ],
   "source": [
    "# Formatando os arquivos parquet 'cda_fi'\n",
    "df_cda_1 = open_cda_1(\n",
    "    path=f'C://Users//vitor//projetos_python//python_b3//historico-arquivos//fundos_investimentos//fundos_cvm//{ano}{mes}//cda_fi_BLC_1_{ano}{mes}.parquet'\n",
    ")\n",
    "df_cda_2 = open_cda_2(\n",
    "    path=f'C://Users//vitor//projetos_python//python_b3//historico-arquivos//fundos_investimentos//fundos_cvm//{ano}{mes}//cda_fi_BLC_2_{ano}{mes}.parquet'\n",
    ")\n",
    "df_cda_4 = open_cda_4(\n",
    "    path=f'C://Users//vitor//projetos_python//python_b3//historico-arquivos//fundos_investimentos//fundos_cvm//{ano}{mes}//cda_fi_BLC_4_{ano}{mes}.parquet'\n",
    ")\n",
    "df_cda_7 = open_cda_7(\n",
    "    path=f'C://Users//vitor//projetos_python//python_b3//historico-arquivos//fundos_investimentos//fundos_cvm//{ano}{mes}//cda_fi_BLC_7_{ano}{mes}.parquet'\n",
    ")\n",
    "df_cda_8 = open_cda_8(\n",
    "    path=f'C://Users//vitor//projetos_python//python_b3//historico-arquivos//fundos_investimentos//fundos_cvm//{ano}{mes}//cda_fi_BLC_8_{ano}{mes}.parquet'\n",
    ")\n",
    "\n",
    "# Concatenando os dfs\n",
    "df_ativos = pd.concat([df_cda_1, df_cda_2, df_cda_4, df_cda_7, df_cda_8])\n",
    "df_ativos.tail()"
   ]
  },
  {
   "cell_type": "code",
   "execution_count": 197,
   "metadata": {},
   "outputs": [
    {
     "data": {
      "text/html": [
       "<div>\n",
       "<style scoped>\n",
       "    .dataframe tbody tr th:only-of-type {\n",
       "        vertical-align: middle;\n",
       "    }\n",
       "\n",
       "    .dataframe tbody tr th {\n",
       "        vertical-align: top;\n",
       "    }\n",
       "\n",
       "    .dataframe thead th {\n",
       "        text-align: right;\n",
       "    }\n",
       "</style>\n",
       "<table border=\"1\" class=\"dataframe\">\n",
       "  <thead>\n",
       "    <tr style=\"text-align: right;\">\n",
       "      <th></th>\n",
       "      <th>TP_FUNDO</th>\n",
       "      <th>CNPJ_FUNDO</th>\n",
       "      <th>VL_TOTAL</th>\n",
       "      <th>VL_QUOTA</th>\n",
       "      <th>VL_PATRIM_LIQ</th>\n",
       "    </tr>\n",
       "    <tr>\n",
       "      <th>DT_COMPTC</th>\n",
       "      <th></th>\n",
       "      <th></th>\n",
       "      <th></th>\n",
       "      <th></th>\n",
       "      <th></th>\n",
       "    </tr>\n",
       "  </thead>\n",
       "  <tbody>\n",
       "    <tr>\n",
       "      <th>2024-04-24</th>\n",
       "      <td>FI</td>\n",
       "      <td>97.929.213/0001-34</td>\n",
       "      <td>84757562.92</td>\n",
       "      <td>11.771143</td>\n",
       "      <td>84612563.16</td>\n",
       "    </tr>\n",
       "    <tr>\n",
       "      <th>2024-04-25</th>\n",
       "      <td>FI</td>\n",
       "      <td>97.929.213/0001-34</td>\n",
       "      <td>84725908.95</td>\n",
       "      <td>11.766658</td>\n",
       "      <td>84580324.04</td>\n",
       "    </tr>\n",
       "    <tr>\n",
       "      <th>2024-04-26</th>\n",
       "      <td>FI</td>\n",
       "      <td>97.929.213/0001-34</td>\n",
       "      <td>84999412.47</td>\n",
       "      <td>11.804625</td>\n",
       "      <td>84853242.58</td>\n",
       "    </tr>\n",
       "    <tr>\n",
       "      <th>2024-04-29</th>\n",
       "      <td>FI</td>\n",
       "      <td>97.929.213/0001-34</td>\n",
       "      <td>85055425.98</td>\n",
       "      <td>11.812336</td>\n",
       "      <td>84908669.75</td>\n",
       "    </tr>\n",
       "    <tr>\n",
       "      <th>2024-04-30</th>\n",
       "      <td>FI</td>\n",
       "      <td>97.929.213/0001-34</td>\n",
       "      <td>84742750.95</td>\n",
       "      <td>11.768756</td>\n",
       "      <td>84595408.13</td>\n",
       "    </tr>\n",
       "  </tbody>\n",
       "</table>\n",
       "</div>"
      ],
      "text/plain": [
       "           TP_FUNDO          CNPJ_FUNDO     VL_TOTAL   VL_QUOTA  VL_PATRIM_LIQ\n",
       "DT_COMPTC                                                                     \n",
       "2024-04-24       FI  97.929.213/0001-34  84757562.92  11.771143    84612563.16\n",
       "2024-04-25       FI  97.929.213/0001-34  84725908.95  11.766658    84580324.04\n",
       "2024-04-26       FI  97.929.213/0001-34  84999412.47  11.804625    84853242.58\n",
       "2024-04-29       FI  97.929.213/0001-34  85055425.98  11.812336    84908669.75\n",
       "2024-04-30       FI  97.929.213/0001-34  84742750.95  11.768756    84595408.13"
      ]
     },
     "execution_count": 197,
     "metadata": {},
     "output_type": "execute_result"
    }
   ],
   "source": [
    "# Formatando os arquivos parquet 'inf_diario_fi'\n",
    "\n",
    "# Caminho da pasta dos arquivos 'inf_diario_fi'\n",
    "path_inf_diario = 'C:\\\\Users\\\\vitor\\\\projetos_python\\\\python_b3\\\\historico-arquivos\\\\fundos_investimentos\\\\inf_diario_cvm\\\\'\n",
    "\n",
    "# Caminho completo de todos os arquivos que estão na pasta\n",
    "paths_arquivos = glob.glob(path_inf_diario + '*.parquet')\n",
    "\n",
    "# Lendo os arquivos parquet e juntando em apenas um df\n",
    "lst_df = [pd.read_parquet(path) for path in paths_arquivos]\n",
    "\n",
    "# Concatenando os dfs\n",
    "df_inf_diario = pd.concat(lst_df, ignore_index=True)\n",
    "\n",
    "# Selecionando apenas os 'Fundos de Investimentos'\n",
    "filt_fi = df_inf_diario['TP_FUNDO'] == 'FI'\n",
    "df_inf_diario = df_inf_diario.loc[filt_fi]\n",
    "\n",
    "# Selecionando as principais colunas\n",
    "df_inf_diario = df_inf_diario[['TP_FUNDO', 'CNPJ_FUNDO', 'DT_COMPTC' , 'VL_TOTAL', 'VL_QUOTA', 'VL_PATRIM_LIQ']]\n",
    "\n",
    "# Transformando os dtypes das colunas.\n",
    "df_inf_diario['TP_FUNDO'] = df_inf_diario['TP_FUNDO'].astype(str)\n",
    "df_inf_diario['CNPJ_FUNDO'] = df_inf_diario['CNPJ_FUNDO'].astype(str)\n",
    "df_inf_diario['DT_COMPTC'] = pd.to_datetime(df_inf_diario['DT_COMPTC'], format='%Y-%m-%d')\n",
    "\n",
    "# Transformando a coluna 'DT_COMPTC' em index\n",
    "df_inf_diario = df_inf_diario.set_index('DT_COMPTC')\n",
    "df_inf_diario.tail()"
   ]
  },
  {
   "cell_type": "code",
   "execution_count": 198,
   "metadata": {},
   "outputs": [
    {
     "data": {
      "text/plain": [
       "['Operações Compromissadas',\n",
       " 'Títulos Públicos',\n",
       " 'Cotas de Fundos',\n",
       " 'Ações',\n",
       " 'Debêntures',\n",
       " 'Certificado ou recibo de depósito de valores mobiliários',\n",
       " 'Outros valores mobiliários registrados na CVM objeto de oferta pública',\n",
       " 'Obrigações por ações e outros TVM recebidos em empréstimo',\n",
       " 'Opções - Posições titulares',\n",
       " 'Mercado Futuro - Posições compradas',\n",
       " 'Mercado Futuro - Posições vendidas',\n",
       " 'Ações e outros TVM cedidos em empréstimo',\n",
       " 'Brazilian Depository Receipt - BDR',\n",
       " 'Opções - Posições lançadas',\n",
       " 'Compras a termo a receber',\n",
       " 'Vendas a termo a receber',\n",
       " 'Investimento no Exterior']"
      ]
     },
     "execution_count": 198,
     "metadata": {},
     "output_type": "execute_result"
    }
   ],
   "source": [
    "# Quais são os tipos de ativos o fundo de investimento possui\n",
    "lista_ativos = df_ativos['TP_APLIC'].drop_duplicates().to_list()\n",
    "lista_ativos"
   ]
  },
  {
   "cell_type": "markdown",
   "metadata": {},
   "source": [
    "## Fundos de Investimentos"
   ]
  },
  {
   "cell_type": "markdown",
   "metadata": {},
   "source": [
    "### Fundo Verde"
   ]
  },
  {
   "cell_type": "markdown",
   "metadata": {},
   "source": [
    "* https://maisretorno.com/fundo/verde-am-acoes-master-fia-1"
   ]
  },
  {
   "cell_type": "code",
   "execution_count": 199,
   "metadata": {},
   "outputs": [
    {
     "data": {
      "text/html": [
       "<div>\n",
       "<style scoped>\n",
       "    .dataframe tbody tr th:only-of-type {\n",
       "        vertical-align: middle;\n",
       "    }\n",
       "\n",
       "    .dataframe tbody tr th {\n",
       "        vertical-align: top;\n",
       "    }\n",
       "\n",
       "    .dataframe thead th {\n",
       "        text-align: right;\n",
       "    }\n",
       "</style>\n",
       "<table border=\"1\" class=\"dataframe\">\n",
       "  <thead>\n",
       "    <tr style=\"text-align: right;\">\n",
       "      <th></th>\n",
       "      <th>ret_mensal</th>\n",
       "    </tr>\n",
       "    <tr>\n",
       "      <th>DT_COMPTC</th>\n",
       "      <th></th>\n",
       "    </tr>\n",
       "  </thead>\n",
       "  <tbody>\n",
       "    <tr>\n",
       "      <th>2023-01-31</th>\n",
       "      <td>0.65</td>\n",
       "    </tr>\n",
       "    <tr>\n",
       "      <th>2023-02-28</th>\n",
       "      <td>-4.23</td>\n",
       "    </tr>\n",
       "    <tr>\n",
       "      <th>2023-03-31</th>\n",
       "      <td>-1.75</td>\n",
       "    </tr>\n",
       "    <tr>\n",
       "      <th>2023-04-28</th>\n",
       "      <td>-1.48</td>\n",
       "    </tr>\n",
       "    <tr>\n",
       "      <th>2023-05-31</th>\n",
       "      <td>5.05</td>\n",
       "    </tr>\n",
       "    <tr>\n",
       "      <th>2023-06-30</th>\n",
       "      <td>7.85</td>\n",
       "    </tr>\n",
       "    <tr>\n",
       "      <th>2023-07-31</th>\n",
       "      <td>2.09</td>\n",
       "    </tr>\n",
       "    <tr>\n",
       "      <th>2023-08-31</th>\n",
       "      <td>-2.25</td>\n",
       "    </tr>\n",
       "    <tr>\n",
       "      <th>2023-09-29</th>\n",
       "      <td>-0.18</td>\n",
       "    </tr>\n",
       "    <tr>\n",
       "      <th>2023-10-31</th>\n",
       "      <td>-6.01</td>\n",
       "    </tr>\n",
       "    <tr>\n",
       "      <th>2023-11-30</th>\n",
       "      <td>8.31</td>\n",
       "    </tr>\n",
       "    <tr>\n",
       "      <th>2023-12-29</th>\n",
       "      <td>4.08</td>\n",
       "    </tr>\n",
       "    <tr>\n",
       "      <th>2024-01-31</th>\n",
       "      <td>-4.51</td>\n",
       "    </tr>\n",
       "    <tr>\n",
       "      <th>2024-02-29</th>\n",
       "      <td>-0.67</td>\n",
       "    </tr>\n",
       "    <tr>\n",
       "      <th>2024-03-28</th>\n",
       "      <td>1.45</td>\n",
       "    </tr>\n",
       "    <tr>\n",
       "      <th>2024-04-30</th>\n",
       "      <td>-6.93</td>\n",
       "    </tr>\n",
       "  </tbody>\n",
       "</table>\n",
       "</div>"
      ],
      "text/plain": [
       "            ret_mensal\n",
       "DT_COMPTC             \n",
       "2023-01-31        0.65\n",
       "2023-02-28       -4.23\n",
       "2023-03-31       -1.75\n",
       "2023-04-28       -1.48\n",
       "2023-05-31        5.05\n",
       "2023-06-30        7.85\n",
       "2023-07-31        2.09\n",
       "2023-08-31       -2.25\n",
       "2023-09-29       -0.18\n",
       "2023-10-31       -6.01\n",
       "2023-11-30        8.31\n",
       "2023-12-29        4.08\n",
       "2024-01-31       -4.51\n",
       "2024-02-29       -0.67\n",
       "2024-03-28        1.45\n",
       "2024-04-30       -6.93"
      ]
     },
     "execution_count": 199,
     "metadata": {},
     "output_type": "execute_result"
    }
   ],
   "source": [
    "# Rentabilidade mensal\n",
    "df_ret_mensal = rentabilidade_fundo(df=df_inf_diario, cnpj='16.929.553/0001-63')[0]\n",
    "df_ret_mensal"
   ]
  },
  {
   "cell_type": "code",
   "execution_count": 248,
   "metadata": {},
   "outputs": [
    {
     "data": {
      "text/html": [
       "<div>\n",
       "<style scoped>\n",
       "    .dataframe tbody tr th:only-of-type {\n",
       "        vertical-align: middle;\n",
       "    }\n",
       "\n",
       "    .dataframe tbody tr th {\n",
       "        vertical-align: top;\n",
       "    }\n",
       "\n",
       "    .dataframe thead th {\n",
       "        text-align: right;\n",
       "    }\n",
       "</style>\n",
       "<table border=\"1\" class=\"dataframe\">\n",
       "  <thead>\n",
       "    <tr style=\"text-align: right;\">\n",
       "      <th></th>\n",
       "      <th>ret_anual</th>\n",
       "    </tr>\n",
       "    <tr>\n",
       "      <th>DT_COMPTC</th>\n",
       "      <th></th>\n",
       "    </tr>\n",
       "  </thead>\n",
       "  <tbody>\n",
       "    <tr>\n",
       "      <th>2023</th>\n",
       "      <td>11.57</td>\n",
       "    </tr>\n",
       "    <tr>\n",
       "      <th>2024</th>\n",
       "      <td>-10.44</td>\n",
       "    </tr>\n",
       "  </tbody>\n",
       "</table>\n",
       "</div>"
      ],
      "text/plain": [
       "           ret_anual\n",
       "DT_COMPTC           \n",
       "2023           11.57\n",
       "2024          -10.44"
      ]
     },
     "execution_count": 248,
     "metadata": {},
     "output_type": "execute_result"
    }
   ],
   "source": [
    "# Rentabilidade anual\n",
    "df_ret_anual = rentabilidade_fundo(df=df_inf_diario, cnpj='16.929.553/0001-63')[1]\n",
    "df_ret_anual"
   ]
  },
  {
   "cell_type": "code",
   "execution_count": 249,
   "metadata": {},
   "outputs": [],
   "source": [
    "verde_acoes, verde_bdr, verde_exterior, verde_cotas_fundos, verde_titulos_pub, verde_vendido_acoes = fundo_cnpj(df=df_ativos, cnpj='16.929.553/0001-63')\n",
    "verde_pl = pl_fundo(\n",
    "    path=f'C://Users//vitor//projetos_python//python_b3//historico-arquivos//fundos_investimentos//fundos_cvm//{ano}{mes}//cda_fi_PL_{ano}{mes}.parquet', \n",
    "    cnpj='16.929.553/0001-63'\n",
    ")\n",
    "\n",
    "# Quantos porcertos cada categoria representa do PL final\n",
    "pct_acoes = round(pd.Series(verde_acoes['VL_MERC_POS_FINAL'].sum() / verde_pl.values), 4) \n",
    "pct_bdr = round(pd.Series(verde_bdr['VL_MERC_POS_FINAL'].sum() / verde_pl.values), 4) \n",
    "pct_exterior = round(pd.Series(verde_exterior['VL_MERC_POS_FINAL'].sum() / verde_pl.values), 4) \n",
    "pct_cotas_fundos = round(pd.Series(verde_cotas_fundos['VL_MERC_POS_FINAL'].sum() / verde_pl.values), 4) \n",
    "pct_titulos_pub = round(pd.Series(verde_titulos_pub['VL_MERC_POS_FINAL'].sum() / verde_pl.values), 4) \n",
    "pct_vendido_acoes = round(pd.Series(verde_vendido_acoes['VL_MERC_POS_FINAL'].sum() / verde_pl.values), 4) \n",
    "\n",
    "# Criando a data do portfólio\n",
    "data = pd.to_datetime(f'{mes}-{ano}')\n",
    "\n",
    "# Adicionando a informação da porcentagem de cada categoria nos dfs\n",
    "# Ações\n",
    "linha_pct_acoes = {'DENOM_SOCIAL': 'PL% FUNDO', 'VL_MERC_POS_FINAL' : pct_acoes}\n",
    "df_linha_pct_acoes = pd.DataFrame(linha_pct_acoes)\n",
    "verde_acoes = pd.concat([verde_acoes, df_linha_pct_acoes])\n",
    "# Criando a coluna 'data' no df\n",
    "verde_acoes['data'] = data\n",
    "# Definindo a coluna 'data' como o index\n",
    "verde_acoes = verde_acoes.set_index('data')\n",
    "\n",
    "# BDRs\n",
    "linha_pct_bdr = {'DENOM_SOCIAL': 'PL% FUNDO', 'VL_MERC_POS_FINAL' : pct_bdr}\n",
    "df_linha_pct_bdr = pd.DataFrame(linha_pct_bdr)\n",
    "verde_bdr = pd.concat([verde_bdr, df_linha_pct_bdr])\n",
    "# Criando a coluna 'data' no df\n",
    "verde_bdr['data'] = data\n",
    "# Definindo a coluna 'data' como o index\n",
    "verde_bdr = verde_bdr.set_index('data')\n",
    "\n",
    "# Investimentos no Exterior\n",
    "linha_pct_exterior = {'DENOM_SOCIAL': 'PL% FUNDO', 'VL_MERC_POS_FINAL' : pct_exterior}\n",
    "df_linha_pct_exterior = pd.DataFrame(linha_pct_exterior)\n",
    "verde_exterior = pd.concat([verde_exterior, df_linha_pct_exterior])\n",
    "# Criando a coluna 'data' no df\n",
    "verde_exterior['data'] = data\n",
    "# Definindo a coluna 'data' como o index\n",
    "verde_exterior = verde_exterior.set_index('data')\n",
    "\n",
    "# Cotas de Fundos\n",
    "linha_pct_cotas_fundos = {'DENOM_SOCIAL': 'PL% FUNDO', 'VL_MERC_POS_FINAL' : pct_cotas_fundos}\n",
    "df_linha_pct_cotas_fundos = pd.DataFrame(linha_pct_cotas_fundos)\n",
    "verde_cotas_fundos = pd.concat([verde_cotas_fundos, df_linha_pct_cotas_fundos])\n",
    "# Criando a coluna 'data' no df\n",
    "verde_cotas_fundos['data'] = data\n",
    "# Definindo a coluna 'data' como o index\n",
    "verde_cotas_fundos = verde_cotas_fundos.set_index('data')\n",
    "\n",
    "# Títulos Públicos\n",
    "linha_pct_titulos_pub = {'DENOM_SOCIAL': 'PL% FUNDO', 'VL_MERC_POS_FINAL' : pct_titulos_pub}\n",
    "df_linha_pct_titulos_pub = pd.DataFrame(linha_pct_titulos_pub)\n",
    "verde_titulos_pub = pd.concat([verde_titulos_pub, df_linha_pct_titulos_pub])\n",
    "# Criando a coluna 'data' no df\n",
    "verde_titulos_pub['data'] = data\n",
    "# Definindo a coluna 'data' como o index\n",
    "verde_titulos_pub = verde_titulos_pub.set_index('data')\n",
    "\n",
    "# Vendido Ações\n",
    "linha_pct_vendido_acoes = {'DENOM_SOCIAL': 'PL% FUNDO', 'VL_MERC_POS_FINAL' : pct_vendido_acoes}\n",
    "df_linha_pct_vendido_acoes = pd.DataFrame(linha_pct_vendido_acoes)\n",
    "verde_vendido_acoes = pd.concat([verde_vendido_acoes, df_linha_pct_vendido_acoes ])\n",
    "# Criando a coluna 'data' no df\n",
    "verde_vendido_acoes['data'] = data\n",
    "# Definindo a coluna 'data' como o index\n",
    "verde_veverde_vendido_acoes =verde_vendido_acoes.set_index('data')"
   ]
  },
  {
   "cell_type": "code",
   "execution_count": 250,
   "metadata": {},
   "outputs": [],
   "source": [
    "# Criando o arquivo excel em que cada categoria está em uma aba diferente\n",
    "with pd.ExcelWriter(f'C://Users//vitor//projetos_python//python_b3//composicao-fundos-de-investimentos//arquivos_fundos//verde//fundo_verde_{ano}{mes}.xlsx') as writer:\n",
    "    verde_acoes.to_excel(writer, sheet_name='acoes')\n",
    "    verde_bdr.to_excel(writer, sheet_name='bdr')\n",
    "    verde_exterior.to_excel(writer, sheet_name='exterior')\n",
    "    verde_cotas_fundos.to_excel(writer, sheet_name='cota_fundos')\n",
    "    verde_titulos_pub.to_excel(writer, sheet_name='titulos_publicos')\n",
    "    verde_vendido_acoes.to_excel(writer, sheet_name='vendido_acoes')"
   ]
  },
  {
   "cell_type": "code",
   "execution_count": 251,
   "metadata": {},
   "outputs": [
    {
     "data": {
      "text/html": [
       "<div>\n",
       "<style scoped>\n",
       "    .dataframe tbody tr th:only-of-type {\n",
       "        vertical-align: middle;\n",
       "    }\n",
       "\n",
       "    .dataframe tbody tr th {\n",
       "        vertical-align: top;\n",
       "    }\n",
       "\n",
       "    .dataframe thead th {\n",
       "        text-align: right;\n",
       "    }\n",
       "</style>\n",
       "<table border=\"1\" class=\"dataframe\">\n",
       "  <thead>\n",
       "    <tr style=\"text-align: right;\">\n",
       "      <th></th>\n",
       "      <th>DENOM_SOCIAL</th>\n",
       "      <th>CD_ATIVO</th>\n",
       "      <th>PORCENTAGEM</th>\n",
       "      <th>VL_MERC_POS_FINAL</th>\n",
       "    </tr>\n",
       "    <tr>\n",
       "      <th>data</th>\n",
       "      <th></th>\n",
       "      <th></th>\n",
       "      <th></th>\n",
       "      <th></th>\n",
       "    </tr>\n",
       "  </thead>\n",
       "  <tbody>\n",
       "    <tr>\n",
       "      <th>2023-01-01</th>\n",
       "      <td>VERDE AM LONG BIAS MASTER FUNDO DE INVESTIMENT...</td>\n",
       "      <td>SUZB3</td>\n",
       "      <td>1.296122e-01</td>\n",
       "      <td>45251996.00</td>\n",
       "    </tr>\n",
       "    <tr>\n",
       "      <th>2023-01-01</th>\n",
       "      <td>VERDE AM LONG BIAS MASTER FUNDO DE INVESTIMENT...</td>\n",
       "      <td>RENT3</td>\n",
       "      <td>9.560451e-02</td>\n",
       "      <td>33378749.35</td>\n",
       "    </tr>\n",
       "    <tr>\n",
       "      <th>2023-01-01</th>\n",
       "      <td>VERDE AM LONG BIAS MASTER FUNDO DE INVESTIMENT...</td>\n",
       "      <td>EQTL3</td>\n",
       "      <td>8.593888e-02</td>\n",
       "      <td>30004152.24</td>\n",
       "    </tr>\n",
       "    <tr>\n",
       "      <th>2023-01-01</th>\n",
       "      <td>VERDE AM LONG BIAS MASTER FUNDO DE INVESTIMENT...</td>\n",
       "      <td>VBBR3</td>\n",
       "      <td>7.661107e-02</td>\n",
       "      <td>26747500.00</td>\n",
       "    </tr>\n",
       "    <tr>\n",
       "      <th>2023-01-01</th>\n",
       "      <td>VERDE AM LONG BIAS MASTER FUNDO DE INVESTIMENT...</td>\n",
       "      <td>RAIL3</td>\n",
       "      <td>6.938032e-02</td>\n",
       "      <td>24223002.00</td>\n",
       "    </tr>\n",
       "    <tr>\n",
       "      <th>...</th>\n",
       "      <td>...</td>\n",
       "      <td>...</td>\n",
       "      <td>...</td>\n",
       "      <td>...</td>\n",
       "    </tr>\n",
       "    <tr>\n",
       "      <th>2023-10-01</th>\n",
       "      <td>VERDE AM AÇÕES MASTER FUNDO DE INVESTIMENTO EM...</td>\n",
       "      <td>LREN3</td>\n",
       "      <td>1.549761e-05</td>\n",
       "      <td>3616.70</td>\n",
       "    </tr>\n",
       "    <tr>\n",
       "      <th>2023-10-01</th>\n",
       "      <td>VERDE AM AÇÕES MASTER FUNDO DE INVESTIMENTO EM...</td>\n",
       "      <td>ABEV3</td>\n",
       "      <td>1.157211e-05</td>\n",
       "      <td>2700.60</td>\n",
       "    </tr>\n",
       "    <tr>\n",
       "      <th>2023-10-01</th>\n",
       "      <td>VERDE AM AÇÕES MASTER FUNDO DE INVESTIMENTO EM...</td>\n",
       "      <td>TCSA3</td>\n",
       "      <td>1.021376e-05</td>\n",
       "      <td>2383.60</td>\n",
       "    </tr>\n",
       "    <tr>\n",
       "      <th>2023-10-01</th>\n",
       "      <td>VERDE AM AÇÕES MASTER FUNDO DE INVESTIMENTO EM...</td>\n",
       "      <td>RADL3</td>\n",
       "      <td>9.286483e-06</td>\n",
       "      <td>2167.20</td>\n",
       "    </tr>\n",
       "    <tr>\n",
       "      <th>2023-10-01</th>\n",
       "      <td>VERDE AM AÇÕES MASTER FUNDO DE INVESTIMENTO EM...</td>\n",
       "      <td>ASAI3</td>\n",
       "      <td>8.438050e-07</td>\n",
       "      <td>196.92</td>\n",
       "    </tr>\n",
       "  </tbody>\n",
       "</table>\n",
       "<p>588 rows × 4 columns</p>\n",
       "</div>"
      ],
      "text/plain": [
       "                                                 DENOM_SOCIAL CD_ATIVO  \\\n",
       "data                                                                     \n",
       "2023-01-01  VERDE AM LONG BIAS MASTER FUNDO DE INVESTIMENT...    SUZB3   \n",
       "2023-01-01  VERDE AM LONG BIAS MASTER FUNDO DE INVESTIMENT...    RENT3   \n",
       "2023-01-01  VERDE AM LONG BIAS MASTER FUNDO DE INVESTIMENT...    EQTL3   \n",
       "2023-01-01  VERDE AM LONG BIAS MASTER FUNDO DE INVESTIMENT...    VBBR3   \n",
       "2023-01-01  VERDE AM LONG BIAS MASTER FUNDO DE INVESTIMENT...    RAIL3   \n",
       "...                                                       ...      ...   \n",
       "2023-10-01  VERDE AM AÇÕES MASTER FUNDO DE INVESTIMENTO EM...    LREN3   \n",
       "2023-10-01  VERDE AM AÇÕES MASTER FUNDO DE INVESTIMENTO EM...    ABEV3   \n",
       "2023-10-01  VERDE AM AÇÕES MASTER FUNDO DE INVESTIMENTO EM...    TCSA3   \n",
       "2023-10-01  VERDE AM AÇÕES MASTER FUNDO DE INVESTIMENTO EM...    RADL3   \n",
       "2023-10-01  VERDE AM AÇÕES MASTER FUNDO DE INVESTIMENTO EM...    ASAI3   \n",
       "\n",
       "             PORCENTAGEM  VL_MERC_POS_FINAL  \n",
       "data                                         \n",
       "2023-01-01  1.296122e-01        45251996.00  \n",
       "2023-01-01  9.560451e-02        33378749.35  \n",
       "2023-01-01  8.593888e-02        30004152.24  \n",
       "2023-01-01  7.661107e-02        26747500.00  \n",
       "2023-01-01  6.938032e-02        24223002.00  \n",
       "...                  ...                ...  \n",
       "2023-10-01  1.549761e-05            3616.70  \n",
       "2023-10-01  1.157211e-05            2700.60  \n",
       "2023-10-01  1.021376e-05            2383.60  \n",
       "2023-10-01  9.286483e-06            2167.20  \n",
       "2023-10-01  8.438050e-07             196.92  \n",
       "\n",
       "[588 rows x 4 columns]"
      ]
     },
     "execution_count": 251,
     "metadata": {},
     "output_type": "execute_result"
    }
   ],
   "source": [
    "# Caminho da pasta do fundo Verde\n",
    "path_verde = 'C:\\\\Users\\\\vitor\\\\projetos_python\\\\python_b3\\\\composicao-fundos-de-investimentos\\\\arquivos_fundos\\\\verde\\\\'\n",
    "\n",
    "# Caminho completo de todos os arquivos que estão na pasta\n",
    "paths_arquivos_verde = glob.glob(path_verde + '*.xlsx')\n",
    "\n",
    "# Lendo cada arquivo excel\n",
    "lst_dfs = []\n",
    "for path in paths_arquivos_verde:\n",
    "    df = pd.read_excel(path, sheet_name='acoes')\n",
    "    lst_dfs.append(df)\n",
    "\n",
    "# Concatendo os dfs de ações\n",
    "portfolio_verde = pd.concat(lst_dfs, ignore_index=True)\n",
    "\n",
    "# Retirando as ações que não tem nenhum dinheiro alocado e os NAN\n",
    "portfolio_verde = portfolio_verde[portfolio_verde['VL_MERC_POS_FINAL'] != 0]\n",
    "portfolio_verde = portfolio_verde.dropna()\n",
    "\n",
    "# Definindo a coluna 'data' como o index\n",
    "portfolio_verde = portfolio_verde.set_index('data')\n",
    "portfolio_verde"
   ]
  },
  {
   "cell_type": "code",
   "execution_count": 252,
   "metadata": {},
   "outputs": [
    {
     "name": "stdout",
     "output_type": "stream",
     "text": [
      "Comparando o portfólio de 01/2023 e 02/2023:\n",
      "O Verde vendeu as ações: {'CMIG3', 'PETR4', 'RECV3', 'MODL3', 'YDUQ3', 'MULT3', 'CASH3', 'BEEF3', 'LJQQ3', 'ALSO3', 'SOMA3', 'TIMS3'}\n",
      "O Verde comprou as ações: {'JBSS3', 'PSSA3', 'CPLE6', 'EZTC3', 'MRFG3', 'VALE3', 'LWSA3', 'EMBR3', 'EGIE3', 'CRFB3', 'BOAS3'}\n",
      "--------------------------------------------------------------------------------\n",
      "Comparando o portfólio de 02/2023 e 03/2023:\n",
      "O Verde vendeu as ações: {'RDOR3', 'CIEL3', 'INTB3', 'EZTC3', 'GOAU4', 'MRFG3', 'SQIA3', 'RAIZ4', 'MTRE3', 'GGBR4', 'EMBR3', 'CSAN3', 'LREN3', 'GMAT3', 'BBAS3'}\n",
      "O Verde comprou as ações: {'STBP3', 'ELET6', 'DIRR3', 'SMTO3', 'BRFS3', 'BEEF3'}\n",
      "--------------------------------------------------------------------------------\n",
      "Comparando o portfólio de 03/2023 e 04/2023:\n",
      "O Verde vendeu as ações: {'USIM5', 'BRKM5', 'PSSA3', 'BRPR3', 'PETZ3', 'BRAP4', 'LWSA3', 'DIRR3', 'CBAV3', 'RRRP3', 'ELET3', 'ENJU3', 'CRFB3'}\n",
      "O Verde comprou as ações: {'PETR3', 'PETR4', 'EZTC3', 'RECV3', 'GGBR4', 'TEND3', 'ALSO3', 'MRVE3', 'LREN3', 'SOMA3', 'CYRE3', 'BBAS3'}\n",
      "--------------------------------------------------------------------------------\n",
      "Comparando o portfólio de 04/2023 e 05/2023:\n",
      "O Verde vendeu as ações: {'PETR3', 'GUAR3', 'JBSS3', 'EZTC3', 'BRIT3', 'LOGN3', 'VIIA3', 'ALSO3', 'VIVA3', 'MGLU3', 'SOMA3', 'BEEF3', 'BBAS3'}\n",
      "O Verde comprou as ações: {'ARZZ3', 'CPFE3', 'USIM5', 'HYPE3', 'SQIA3', 'BRAP4', 'CVCB3', 'WEGE3', 'RRRP3', 'LJQQ3', 'ITSA4', 'PCAR3'}\n",
      "--------------------------------------------------------------------------------\n",
      "Comparando o portfólio de 05/2023 e 06/2023:\n",
      "O Verde vendeu as ações: {'UGPA3', 'BRFS3', 'ELET6', 'CVCB3'}\n",
      "O Verde comprou as ações: {'MRFG3', 'YDUQ3', 'CSAN3'}\n",
      "--------------------------------------------------------------------------------\n",
      "Comparando o portfólio de 06/2023 e 07/2023:\n",
      "O Verde vendeu as ações: {'ARZZ3', 'CMIG4', 'USIM5', 'HYPE3', 'SMFT3', 'MRFG3', 'YDUQ3', 'LJQQ3', 'PCAR3', 'ASAI3', 'BOAS3', 'BBSE3'}\n",
      "O Verde comprou as ações: {'PETR3', 'JBSS3', 'ZAMP3', 'CIEL3', 'INTB3', 'VIVT3', 'ALSO3', 'MGLU3', 'CCRO3', 'BBAS3', 'EZTC3', 'MDIA3', 'MULT3', 'BRFS3', 'SLCE3', 'AGRO3', 'VIIA3', 'TIMS3', 'UGPA3', 'DIRR3', 'TRAD3', 'ELET3', 'CRFB3'}\n",
      "--------------------------------------------------------------------------------\n",
      "Comparando o portfólio de 07/2023 e 08/2023:\n",
      "O Verde vendeu as ações: {'JBSS3', 'ZAMP3', 'AALR3', 'ABEV3', 'VIVT3', 'TEND3', 'MGLU3', 'LREN3', 'B3SA3', 'EZTC3', 'MDIA3', 'MULT3', 'SMTO3', 'ENEV3', 'AGRO3', 'MRVE3', 'VIIA3', 'TIMS3', 'CYRE3', 'DIRR3', 'TRAD3', 'RRRP3', 'RADL3', 'CRFB3', 'WEGE3'}\n",
      "O Verde comprou as ações: {'ARZZ3', 'NEOE3', 'RDOR3', 'CPLE3', 'DASA3', 'HBSA3', 'ALPA4'}\n",
      "--------------------------------------------------------------------------------\n",
      "Comparando o portfólio de 08/2023 e 09/2023:\n",
      "O Verde vendeu as ações: {'ARZZ3', 'PETR3', 'CPFE3', 'CIEL3', 'NINJ3', 'PRIO3', 'GGBR4', 'COCE5', 'BBDC4', 'ALPA4', 'CCRO3'}\n",
      "O Verde comprou as ações: {'HYPE3', 'ABEV3', 'MRFG3', 'RRRP3', 'MGLU3', 'SOMA3'}\n",
      "--------------------------------------------------------------------------------\n",
      "Comparando o portfólio de 09/2023 e 10/2023:\n",
      "O Verde vendeu as ações: {'NEOE3', 'CSMG3', 'HBSA3', 'INTB3', 'HYPE3', 'TTEN3', 'MRFG3', 'BRAP4', 'BRFS3', 'ALSO3', 'CSAN3', 'GGPS3', 'HAPV3', 'BBAS3'}\n",
      "O Verde comprou as ações: {'B3SA3', 'JBSS3', 'CIEL3', 'ALOS3', 'MULT3', 'ENEV3', 'PRIO3', 'ASAI3', 'RADL3', 'LREN3', 'CRFB3'}\n",
      "--------------------------------------------------------------------------------\n"
     ]
    }
   ],
   "source": [
    "# Selecionando o conjunto de ações (portfólio) de cada mês - retornando um df com vários dicionários\n",
    "portfolio_mensal = portfolio_verde.groupby('data')['CD_ATIVO'].apply(set)\n",
    "\n",
    "# Convertendo o GroupBy resultante em DataFrame para facilitar a iteração\n",
    "portfolio_mensal = portfolio_mensal.reset_index()\n",
    "\n",
    "# Comparando o portfólio de cada mês\n",
    "comparar_portfolios(df=portfolio_mensal, nome_fundo='Verde')"
   ]
  },
  {
   "cell_type": "code",
   "execution_count": 253,
   "metadata": {},
   "outputs": [
    {
     "data": {
      "text/plain": [
       "data\n",
       "2023-01-01    71\n",
       "2023-02-01    70\n",
       "2023-03-01    61\n",
       "2023-04-01    60\n",
       "2023-05-01    59\n",
       "2023-06-01    58\n",
       "2023-07-01    69\n",
       "2023-08-01    51\n",
       "2023-09-01    46\n",
       "2023-10-01    43\n",
       "Name: CD_ATIVO, dtype: int64"
      ]
     },
     "execution_count": 253,
     "metadata": {},
     "output_type": "execute_result"
    }
   ],
   "source": [
    "# Número total de ações de cada mês do portfpolio\n",
    "num_total_acoes(df=portfolio_verde)"
   ]
  },
  {
   "cell_type": "code",
   "execution_count": 254,
   "metadata": {},
   "outputs": [
    {
     "data": {
      "text/plain": [
       "data\n",
       "2023-01-01    [SUZB3, RENT3, EQTL3, VBBR3, RAIL3]\n",
       "2023-02-01    [SUZB3, RENT3, RAIL3, VBBR3, EQTL3]\n",
       "2023-03-01    [SUZB3, RAIL3, VBBR3, ASAI3, SBSP3]\n",
       "2023-04-01    [SUZB3, RAIL3, VBBR3, RENT3, EQTL3]\n",
       "2023-05-01    [SUZB3, RAIL3, EQTL3, VBBR3, SBSP3]\n",
       "2023-06-01    [SUZB3, RENT3, RAIL3, EQTL3, VBBR3]\n",
       "2023-07-01    [SUZB3, RAIL3, RENT3, VBBR3, ITUB4]\n",
       "2023-08-01    [SUZB3, RAIL3, VBBR3, SBSP3, RENT3]\n",
       "2023-09-01    [SUZB3, RAIL3, SBSP3, VBBR3, RENT3]\n",
       "2023-10-01    [SUZB3, RAIL3, EQTL3, ITUB4, SBSP3]\n",
       "Name: CD_ATIVO, dtype: object"
      ]
     },
     "execution_count": 254,
     "metadata": {},
     "output_type": "execute_result"
    }
   ],
   "source": [
    "# Rank das 5 maiores ações do fundo\n",
    "rank_top_5(df=portfolio_verde)"
   ]
  },
  {
   "cell_type": "code",
   "execution_count": 255,
   "metadata": {},
   "outputs": [
    {
     "data": {
      "application/vnd.plotly.v1+json": {
       "config": {
        "plotlyServerURL": "https://plot.ly"
       },
       "data": [
        {
         "name": "01/2023",
         "orientation": "h",
         "type": "bar",
         "x": [
          12.961224931355511,
          9.560450731337609,
          8.593887572545402,
          7.661106569783828,
          6.938031582842763,
          5.630554583638158,
          5.562486378564692,
          4.733609457672141,
          4.517700481808214,
          3.813550093645864,
          3.4094615182214287,
          3.266585854817912,
          3.2316450794015945,
          2.330817955666117,
          2.270897576235022,
          1.873127452447277,
          1.848117544849917,
          1.834236327210961,
          1.732293700577025,
          1.431909581455304,
          1.210538473622382,
          1.19574728923617,
          0.8866218611234312,
          0.6331564094257212,
          0.4394088215819439,
          0.3032346035626029,
          0.17602715261583501,
          0.1633343051482223,
          0.14423187761448672,
          0.1203103784652127,
          0.09842509102601449,
          0.09786030728960442,
          0.08988248818259138,
          0.08805797191566837,
          0.08254829081865567,
          0.0738946846346916,
          0.07031404997910952,
          0.06371657624405387,
          0.06342717416617336,
          0.06246920287789223,
          0.054536922207500546,
          0.051463388504812746,
          0.04954635751980244,
          0.048379469094144,
          0.047027837655586754,
          0.042146867105912623,
          0.041116061242825255,
          0.037948792658895183,
          0.03558751917310033,
          0.03476605721807126,
          0.02768478879207418,
          0.026302822264375678,
          0.02543355626461357,
          0.025070915755107878,
          0.02279402256636727,
          0.02218921117716247,
          0.02101487574633291,
          0.01840555970368478,
          0.0159772631713499,
          0.01533102065529888,
          0.01525649904739809,
          0.0145579470484855,
          0.01400751884665914,
          0.01184142563793367,
          0.004638080747552724,
          0.004190372525130849,
          0.002832153351229928,
          0.001813173905200843,
          0.001366998047304562,
          0.001095889824050147,
          0.0007746489348303411
         ],
         "xaxis": "x",
         "y": [
          "SUZB3",
          "RENT3",
          "EQTL3",
          "VBBR3",
          "RAIL3",
          "GMAT3",
          "ITUB4",
          "SBSP3",
          "ENEV3",
          "MEGA3",
          "ASAI3",
          "VIVA3",
          "GGPS3",
          "NTCO3",
          "RADL3",
          "BBSE3",
          "VVEO3",
          "TTEN3",
          "BBAS3",
          "VITT3",
          "SOMA3",
          "CURY3",
          "UGPA3",
          "BRIT3",
          "SYNE3",
          "NINJ3",
          "LJQQ3",
          "ENJU3",
          "LOGN3",
          "BRPR3",
          "MGLU3",
          "ELET3",
          "RRRP3",
          "CSMG3",
          "PETR4",
          "GGBR4",
          "CSAN3",
          "AALR3",
          "VIIA3",
          "MODL3",
          "ABEV3",
          "GOAU4",
          "SMFT3",
          "MULT3",
          "PRIO3",
          "LREN3",
          "RDOR3",
          "PETZ3",
          "CIEL3",
          "COCE5",
          "BEEF3",
          "SQIA3",
          "RAIZ4",
          "MTRE3",
          "RECV3",
          "CBAV3",
          "BRAP4",
          "GUAR3",
          "YDUQ3",
          "USIM5",
          "CASH3",
          "TIMS3",
          "CMIG3",
          "B3SA3",
          "BBDC4",
          "TCSA3",
          "HAPV3",
          "INTB3",
          "ALSO3",
          "BRKM5",
          "CMIG4"
         ],
         "yaxis": "y"
        },
        {
         "name": "02/2023",
         "orientation": "h",
         "type": "bar",
         "x": [
          13.08635318555125,
          8.511767543565295,
          7.218597909919479,
          6.679083207682332,
          6.453276127146229,
          5.671824425513225,
          5.55363452393996,
          4.621872780123715,
          4.148274188016538,
          4.119918507575751,
          3.8844255230207634,
          3.101875653653246,
          2.984820981011134,
          2.788475504768387,
          2.2699605632093602,
          2.075106908861991,
          2.041264950636011,
          1.9818427061647679,
          1.919617473114616,
          1.910137322235769,
          1.6619998240106948,
          1.292198263219258,
          1.140575578515445,
          0.8823243922916831,
          0.6815488243783092,
          0.5289991458411603,
          0.42157212659670806,
          0.2841488499204556,
          0.2766759418021307,
          0.271467031497125,
          0.1459565142709021,
          0.1363673428167409,
          0.12052700116171101,
          0.1197269177161796,
          0.1125805610147189,
          0.09198767614170529,
          0.08658437287256902,
          0.07284343115800229,
          0.06459469087318641,
          0.04522962123480606,
          0.0395779482188255,
          0.03889482993308518,
          0.03810791014212627,
          0.03703887061771008,
          0.035843109171909,
          0.034515450226879026,
          0.03422405214658658,
          0.03422202250821638,
          0.03333681023047225,
          0.029535297563094802,
          0.02786983430617954,
          0.025327277325000917,
          0.01842969629805851,
          0.01807132015154958,
          0.016147802873280798,
          0.013135355614567912,
          0.01154110366961268,
          0.010783468660852301,
          0.00954678100705791,
          0.00910066649328879,
          0.005253037542657102,
          0.004611918273762919,
          0.002920069718035103,
          0.002918214048668067,
          0.002535627215886087,
          0.001973025957084636,
          0.001406046478370333,
          0.001342701464836511,
          0.00124309551207744,
          0.0005085635869366708
         ],
         "xaxis": "x2",
         "y": [
          "SUZB3",
          "RENT3",
          "RAIL3",
          "VBBR3",
          "EQTL3",
          "SBSP3",
          "ITUB4",
          "GMAT3",
          "ENEV3",
          "NTCO3",
          "MEGA3",
          "ASAI3",
          "GGPS3",
          "VIVA3",
          "GGBR4",
          "EGIE3",
          "RADL3",
          "BBSE3",
          "JBSS3",
          "TTEN3",
          "VVEO3",
          "VITT3",
          "CURY3",
          "RAIZ4",
          "UGPA3",
          "BRIT3",
          "SYNE3",
          "MGLU3",
          "ABEV3",
          "NINJ3",
          "VALE3",
          "LOGN3",
          "BRPR3",
          "AALR3",
          "ENJU3",
          "BBDC4",
          "CSMG3",
          "RRRP3",
          "CPLE6",
          "GOAU4",
          "COCE5",
          "CMIG4",
          "PRIO3",
          "EMBR3",
          "CRFB3",
          "CIEL3",
          "PETZ3",
          "SMFT3",
          "RDOR3",
          "CSAN3",
          "SQIA3",
          "PSSA3",
          "CBAV3",
          "INTB3",
          "GUAR3",
          "ELET3",
          "MTRE3",
          "BOAS3",
          "VIIA3",
          "BRKM5",
          "HAPV3",
          "TCSA3",
          "LREN3",
          "MRFG3",
          "BBAS3",
          "B3SA3",
          "USIM5",
          "LWSA3",
          "BRAP4",
          "EZTC3"
         ],
         "yaxis": "y2"
        },
        {
         "name": "03/2023",
         "orientation": "h",
         "type": "bar",
         "x": [
          12.619948692951269,
          7.567464651310367,
          6.545252466474186,
          6.055582060547976,
          5.549562009265653,
          5.477624171226343,
          5.274510383398682,
          4.63169669105267,
          4.577546049067432,
          4.444801127333393,
          4.231721224042345,
          3.822754382574155,
          3.254503021361969,
          3.075917624029674,
          2.678831087284042,
          2.65882669184358,
          2.631189788447618,
          2.564643605157919,
          2.132642307705504,
          1.637245327743314,
          1.608637051269772,
          1.473450303453919,
          1.347499823885174,
          1.105224872749191,
          0.41353518351845864,
          0.3729449472917249,
          0.3641861102437536,
          0.3524033751769135,
          0.2201616062126194,
          0.17152277411413608,
          0.1695436856667637,
          0.1270342944452431,
          0.10108483260166329,
          0.08255106247802695,
          0.08044804994717218,
          0.07819858737757682,
          0.07570914036114162,
          0.06512538764163321,
          0.06258737980370953,
          0.04587650459484506,
          0.04182966503893097,
          0.032130659157380385,
          0.03176316339218048,
          0.02431675303645033,
          0.020384031411034148,
          0.01697435682739227,
          0.01693049544024139,
          0.0144861629934471,
          0.01159037155462121,
          0.009987895775063649,
          0.0054008343113494525,
          0.005365751467541196,
          0.0052445687207557535,
          0.003177099578274314,
          0.0029501168997684867,
          0.002216441210983193,
          0.001421149672119582,
          0.001342440412877319,
          0.001319178212906225,
          0.0009704645202755686,
          0.0002100647148904858
         ],
         "xaxis": "x3",
         "y": [
          "SUZB3",
          "RAIL3",
          "VBBR3",
          "ASAI3",
          "SBSP3",
          "EQTL3",
          "ITUB4",
          "RENT3",
          "NTCO3",
          "VALE3",
          "MEGA3",
          "ENEV3",
          "EGIE3",
          "GGPS3",
          "VIVA3",
          "HAPV3",
          "JBSS3",
          "BBSE3",
          "RADL3",
          "TTEN3",
          "CURY3",
          "VVEO3",
          "VITT3",
          "BEEF3",
          "BRIT3",
          "ABEV3",
          "SYNE3",
          "UGPA3",
          "NINJ3",
          "AALR3",
          "LOGN3",
          "BRPR3",
          "ENJU3",
          "MGLU3",
          "CPLE6",
          "ELET3",
          "RRRP3",
          "STBP3",
          "CSMG3",
          "CMIG4",
          "B3SA3",
          "COCE5",
          "SMFT3",
          "PSSA3",
          "USIM5",
          "GUAR3",
          "SMTO3",
          "CBAV3",
          "BOAS3",
          "DIRR3",
          "TCSA3",
          "VIIA3",
          "PETZ3",
          "BBDC4",
          "CRFB3",
          "ELET6",
          "LWSA3",
          "BRFS3",
          "PRIO3",
          "BRKM5",
          "BRAP4"
         ],
         "yaxis": "y3"
        },
        {
         "name": "04/2023",
         "orientation": "h",
         "type": "bar",
         "x": [
          12.493528275689581,
          8.261398307213693,
          6.171418687414759,
          5.930141575044427,
          5.727580008950874,
          5.619606344925701,
          5.398799143879781,
          5.1860699689138565,
          4.999994484271342,
          3.6182341342587008,
          3.5809675670879892,
          3.5806954331927416,
          3.381913876055659,
          3.319554223496593,
          3.0446481953870603,
          2.9308465788871607,
          2.5419545993126738,
          1.918952521202922,
          1.804758494140947,
          1.54935815572937,
          1.4560340075283011,
          1.432385508538965,
          1.344367115528243,
          1.139710790632438,
          0.7026777093886818,
          0.5405741898460282,
          0.49127511124727374,
          0.42752461307439604,
          0.4104177279001615,
          0.1916003575842834,
          0.1514474609702931,
          0.09409295820133526,
          0.07531715490937745,
          0.07467532968473874,
          0.06138126591891564,
          0.0545482427477889,
          0.0399933029761433,
          0.03968274238357618,
          0.02392765845532121,
          0.02167022801468334,
          0.02157800877205716,
          0.020055312933334332,
          0.01987587792429555,
          0.01839139829182472,
          0.01733066133454548,
          0.016977312393669113,
          0.01271504079434796,
          0.01136651768795652,
          0.0038832151427267364,
          0.0035267260891921923,
          0.0034120257103374017,
          0.003188787855053657,
          0.002839213950713607,
          0.002671759679201418,
          0.0024499607546632322,
          0.0017008023385600751,
          0.001579911451893449,
          0.001183925992330869,
          0.0008683274168176619,
          0.000681162899697212
         ],
         "xaxis": "x4",
         "y": [
          "SUZB3",
          "RAIL3",
          "VBBR3",
          "RENT3",
          "EQTL3",
          "ITUB4",
          "VALE3",
          "SBSP3",
          "ASAI3",
          "MEGA3",
          "EGIE3",
          "HAPV3",
          "ENEV3",
          "GGPS3",
          "UGPA3",
          "JBSS3",
          "RADL3",
          "CURY3",
          "NTCO3",
          "VIVA3",
          "TTEN3",
          "VVEO3",
          "VITT3",
          "BEEF3",
          "ABEV3",
          "LREN3",
          "BRIT3",
          "SYNE3",
          "PETR4",
          "AALR3",
          "PRIO3",
          "CPLE6",
          "STBP3",
          "CSMG3",
          "LOGN3",
          "CMIG4",
          "SMFT3",
          "COCE5",
          "PETR3",
          "SMTO3",
          "BBDC4",
          "EZTC3",
          "MRVE3",
          "GUAR3",
          "TEND3",
          "RECV3",
          "BOAS3",
          "NINJ3",
          "BRFS3",
          "MGLU3",
          "CYRE3",
          "GGBR4",
          "TCSA3",
          "VIIA3",
          "ELET6",
          "BBAS3",
          "B3SA3",
          "BBSE3",
          "ALSO3",
          "SOMA3"
         ],
         "yaxis": "y4"
        },
        {
         "name": "05/2023",
         "orientation": "h",
         "type": "bar",
         "x": [
          12.715866274763751,
          8.352517377552088,
          7.648908636317079,
          6.669544855043852,
          6.1259269413034545,
          5.914612185455243,
          5.89257835686091,
          5.111404190922827,
          3.63560384006102,
          3.498064302461205,
          3.446322271589869,
          3.384500911114025,
          3.366921715108098,
          3.164064198319056,
          2.9955142904316547,
          2.756391682294129,
          2.585364966883197,
          2.2917594478406538,
          2.176610755789258,
          2.138409986587349,
          1.6247884670218828,
          1.170505585179372,
          0.7992933630717132,
          0.6716217297105779,
          0.44979468152978447,
          0.20553503173165827,
          0.17911025945470568,
          0.12526500065612362,
          0.11661081171109859,
          0.07241426985026073,
          0.0637549511670398,
          0.056195804228595055,
          0.05597121467212191,
          0.05303123346862916,
          0.048014349513094315,
          0.04631384130117222,
          0.04155408547270401,
          0.03639549249950898,
          0.029422254639534347,
          0.02903367697119921,
          0.026774347904567432,
          0.02319282881795701,
          0.02259809979587642,
          0.0223284679319574,
          0.021221726916204182,
          0.02032846957373011,
          0.018322142401003688,
          0.0178640888409786,
          0.01680502232958301,
          0.01315393116869146,
          0.01228187567539808,
          0.01187662635792645,
          0.01072820621933201,
          0.00991706636711427,
          0.0021556442333482972,
          0.00174842317275764,
          0.001622847181723393,
          0.0009380527812692773,
          0.000628841781082954
         ],
         "xaxis": "x5",
         "y": [
          "SUZB3",
          "RAIL3",
          "EQTL3",
          "VBBR3",
          "SBSP3",
          "ASAI3",
          "RENT3",
          "ITUB4",
          "EGIE3",
          "HAPV3",
          "GGPS3",
          "ARZZ3",
          "MEGA3",
          "LREN3",
          "ENEV3",
          "PETR4",
          "B3SA3",
          "ABEV3",
          "CURY3",
          "RADL3",
          "VVEO3",
          "VITT3",
          "TTEN3",
          "UGPA3",
          "SYNE3",
          "GGBR4",
          "AALR3",
          "ITSA4",
          "VALE3",
          "STBP3",
          "CPLE6",
          "BBDC4",
          "BRAP4",
          "RECV3",
          "CMIG4",
          "NTCO3",
          "CSMG3",
          "COCE5",
          "SQIA3",
          "USIM5",
          "BBSE3",
          "SMTO3",
          "SMFT3",
          "CPFE3",
          "ELET6",
          "BRFS3",
          "HYPE3",
          "CVCB3",
          "MRVE3",
          "PRIO3",
          "NINJ3",
          "BOAS3",
          "LJQQ3",
          "PCAR3",
          "TCSA3",
          "WEGE3",
          "RRRP3",
          "TEND3",
          "CYRE3"
         ],
         "yaxis": "y5"
        },
        {
         "name": "06/2023",
         "orientation": "h",
         "type": "bar",
         "x": [
          12.768510101331021,
          11.91592402172163,
          9.897683955492958,
          8.506020035798965,
          6.682085499732304,
          6.39722387907246,
          5.58116052475544,
          5.393232096714877,
          4.596172184750539,
          4.446210395260991,
          4.441870078435761,
          3.6233305959671753,
          3.3368962083774845,
          2.386841068500346,
          2.2262153676562058,
          1.775996642270469,
          1.247901786371626,
          1.113009377647825,
          0.8541668957700995,
          0.7850714732794299,
          0.47843836554175395,
          0.1943261777587334,
          0.1907865647718683,
          0.1415147154888752,
          0.1207562768976752,
          0.0817507267575667,
          0.07608238580500318,
          0.07334856350650258,
          0.0732915459219413,
          0.060709674392392846,
          0.06007959115638241,
          0.05430195880272452,
          0.04535114809975551,
          0.04173064364152807,
          0.04047707489972723,
          0.04036623303203115,
          0.03355143748778857,
          0.030086639462753244,
          0.027406641447387428,
          0.02609303336058455,
          0.02253124870131516,
          0.02124930971956829,
          0.01984729204781735,
          0.01481058479786596,
          0.01325945842314292,
          0.012834564596974631,
          0.011727135579546891,
          0.002637343689493474,
          0.002540535193975349,
          0.002465522300239009,
          0.002026542320051013,
          0.0016667515968286208,
          0.0016365801765325409,
          0.0016345876620061,
          0.0010834297737524789,
          0.0008080570086950435,
          0.0006640615466434467,
          0.0006054077249876072
         ],
         "xaxis": "x6",
         "y": [
          "SUZB3",
          "RENT3",
          "RAIL3",
          "EQTL3",
          "VBBR3",
          "SBSP3",
          "ITUB4",
          "ASAI3",
          "CSAN3",
          "LREN3",
          "EGIE3",
          "GGPS3",
          "MEGA3",
          "CURY3",
          "VVEO3",
          "HAPV3",
          "NTCO3",
          "VITT3",
          "TTEN3",
          "B3SA3",
          "SYNE3",
          "GGBR4",
          "AALR3",
          "ITSA4",
          "VALE3",
          "RRRP3",
          "STBP3",
          "ARZZ3",
          "CPLE6",
          "RECV3",
          "BRAP4",
          "CMIG4",
          "CSMG3",
          "COCE5",
          "ENEV3",
          "PRIO3",
          "SQIA3",
          "USIM5",
          "BBSE3",
          "CPFE3",
          "SMTO3",
          "HYPE3",
          "MRVE3",
          "NINJ3",
          "LJQQ3",
          "BOAS3",
          "PCAR3",
          "BBDC4",
          "TCSA3",
          "ABEV3",
          "MRFG3",
          "SMFT3",
          "PETR4",
          "YDUQ3",
          "WEGE3",
          "TEND3",
          "CYRE3",
          "RADL3"
         ],
         "yaxis": "y6"
        },
        {
         "name": "07/2023",
         "orientation": "h",
         "type": "bar",
         "x": [
          14.50061692394462,
          12.08422342454296,
          7.613488341110824,
          7.418492483758397,
          7.086936254298154,
          7.078336019824307,
          6.8845137782043455,
          6.470866794616477,
          4.704416305218684,
          3.548854290089403,
          3.217871245644183,
          3.1556934769250455,
          2.5650285010938823,
          2.4496608969239877,
          2.341914638948367,
          2.187105984844339,
          2.045817655534795,
          1.189300888690536,
          0.8627407437933826,
          0.5200195261324568,
          0.2339295435381452,
          0.1268148725338826,
          0.119671223238136,
          0.1053978488423884,
          0.09926288976158922,
          0.0952387279164715,
          0.08946295766622724,
          0.08252548691569547,
          0.07963115925224323,
          0.07760418428945885,
          0.07742753404492365,
          0.0761771274120372,
          0.07556023704827797,
          0.06720814421204768,
          0.05890419722677896,
          0.051867282779764726,
          0.04556883562951335,
          0.04246186956386471,
          0.04220035792734691,
          0.04167921545985605,
          0.039891781692391715,
          0.0321098188610731,
          0.02977580152717454,
          0.028726447118681133,
          0.02850442200741237,
          0.027821028022181067,
          0.027562980115948273,
          0.02704134233502666,
          0.02318621052781715,
          0.02144107929832355,
          0.02112736924641073,
          0.019945544473167348,
          0.01474787080749027,
          0.01300873183138973,
          0.01283312070594003,
          0.003294977345518658,
          0.00256213514673864,
          0.002079152595797674,
          0.001978205640371516,
          0.001590129299239662,
          0.001054394136058084,
          0.00104620934139462,
          0.0009106839665332661,
          0.0008051094674463427,
          0.0006221344514107184,
          0.0005814217656407807,
          0.0004455326990995016,
          0.0004271610736678401,
          0.00038733510285086345
         ],
         "xaxis": "x7",
         "y": [
          "SUZB3",
          "RAIL3",
          "RENT3",
          "VBBR3",
          "ITUB4",
          "EQTL3",
          "SBSP3",
          "CSAN3",
          "EGIE3",
          "MEGA3",
          "GGPS3",
          "CURY3",
          "PETR4",
          "VVEO3",
          "LREN3",
          "VALE3",
          "HAPV3",
          "VITT3",
          "TTEN3",
          "SYNE3",
          "NTCO3",
          "GGBR4",
          "UGPA3",
          "AALR3",
          "BRAP4",
          "ITSA4",
          "MGLU3",
          "RRRP3",
          "RECV3",
          "CPLE6",
          "PRIO3",
          "ABEV3",
          "STBP3",
          "CCRO3",
          "ELET3",
          "ENEV3",
          "CSMG3",
          "SQIA3",
          "PETR3",
          "BBAS3",
          "COCE5",
          "INTB3",
          "MULT3",
          "SLCE3",
          "CPFE3",
          "AGRO3",
          "CRFB3",
          "DIRR3",
          "SMTO3",
          "VIVT3",
          "ZAMP3",
          "BRFS3",
          "NINJ3",
          "MDIA3",
          "TRAD3",
          "TCSA3",
          "BBDC4",
          "VIIA3",
          "CIEL3",
          "WEGE3",
          "MRVE3",
          "EZTC3",
          "JBSS3",
          "B3SA3",
          "RADL3",
          "TEND3",
          "CYRE3",
          "TIMS3",
          "ALSO3"
         ],
         "yaxis": "y7"
        },
        {
         "name": "08/2023",
         "orientation": "h",
         "type": "bar",
         "x": [
          14.42674277928124,
          12.768421335334759,
          8.051502474794086,
          7.854467877486826,
          7.4302822504415085,
          7.03520547471817,
          6.327332600064052,
          5.702211147890807,
          5.675369340382376,
          5.479808162851003,
          4.000397078201931,
          3.025156187229057,
          2.941901154786752,
          1.715823728431835,
          1.406846309914578,
          1.184368862195564,
          1.180382770269992,
          0.9355226875959093,
          0.6802023679390948,
          0.5437475710160486,
          0.2205240884306256,
          0.1137582512455563,
          0.113558322052968,
          0.10787420376733789,
          0.09259932158615922,
          0.09255991948251044,
          0.08956535960520284,
          0.0846736614040649,
          0.08047368902253896,
          0.06906216851075186,
          0.06706347491310971,
          0.06432818452615405,
          0.05997255559350074,
          0.04951458058338596,
          0.04500376938418626,
          0.04279702538259267,
          0.03987857723549998,
          0.02865590954716434,
          0.028016537448604207,
          0.027879907005859118,
          0.02658328592837969,
          0.02485287687647058,
          0.02372079606515413,
          0.01887214831059542,
          0.012941402042867318,
          0.003553369267277683,
          0.0033871215766232573,
          0.001350397652274163,
          0.0009649137382435579,
          0.00020748126245429197,
          0.00011453972630125721
         ],
         "xaxis": "x8",
         "y": [
          "SUZB3",
          "RAIL3",
          "VBBR3",
          "SBSP3",
          "RENT3",
          "ITUB4",
          "EQTL3",
          "CSAN3",
          "VVEO3",
          "EGIE3",
          "CPLE3",
          "MEGA3",
          "CURY3",
          "NTCO3",
          "BBAS3",
          "VITT3",
          "PETR4",
          "TTEN3",
          "UGPA3",
          "SYNE3",
          "PETR3",
          "CSMG3",
          "HBSA3",
          "ITSA4",
          "VALE3",
          "SQIA3",
          "RECV3",
          "CPLE6",
          "BRFS3",
          "HAPV3",
          "STBP3",
          "ARZZ3",
          "GGPS3",
          "INTB3",
          "CCRO3",
          "RDOR3",
          "ELET3",
          "CPFE3",
          "BRAP4",
          "SLCE3",
          "ALSO3",
          "ALPA4",
          "DASA3",
          "NINJ3",
          "COCE5",
          "TCSA3",
          "PRIO3",
          "CIEL3",
          "NEOE3",
          "GGBR4",
          "BBDC4"
         ],
         "yaxis": "y8"
        },
        {
         "name": "09/2023",
         "orientation": "h",
         "type": "bar",
         "x": [
          15.08759464364407,
          11.64763738260221,
          8.299561985031383,
          7.738540581820072,
          7.606167512845835,
          7.571378434415313,
          7.380459787233461,
          5.820189900323883,
          5.041905261688485,
          4.998643425838338,
          3.408551535632398,
          2.968010298272886,
          2.893414485155221,
          2.433837509268746,
          1.563671530492089,
          1.247605951964814,
          1.187197735428127,
          0.9069268005168857,
          0.5558742135547617,
          0.3278814185556574,
          0.1388538662237154,
          0.1233543969377734,
          0.09416372978258249,
          0.09404124834425968,
          0.08528122741306225,
          0.07849946728871518,
          0.07382735715051024,
          0.06435211885068229,
          0.05978949969522047,
          0.05636707138378196,
          0.04970742154188401,
          0.0493024904836713,
          0.047634144831365036,
          0.04686807910803687,
          0.043598938172438755,
          0.04215143026498726,
          0.03700498292018667,
          0.03630260754478637,
          0.03581134563034976,
          0.02813064597988795,
          0.01791107684469603,
          0.005779639265342188,
          0.002309183383846196,
          0.0021604389558999757,
          0.0009907820470631712,
          0.0007564156706118277
         ],
         "xaxis": "x9",
         "y": [
          "SUZB3",
          "RAIL3",
          "SBSP3",
          "VBBR3",
          "RENT3",
          "EQTL3",
          "ITUB4",
          "EGIE3",
          "VVEO3",
          "CPLE3",
          "CSAN3",
          "CURY3",
          "MEGA3",
          "BBAS3",
          "RDOR3",
          "VITT3",
          "SOMA3",
          "TTEN3",
          "SYNE3",
          "UGPA3",
          "PETR4",
          "CSMG3",
          "SQIA3",
          "RECV3",
          "VALE3",
          "HAPV3",
          "CPLE6",
          "ELET3",
          "ITSA4",
          "MRFG3",
          "SLCE3",
          "STBP3",
          "INTB3",
          "HYPE3",
          "ALSO3",
          "NTCO3",
          "GGPS3",
          "BRAP4",
          "DASA3",
          "RRRP3",
          "MGLU3",
          "HBSA3",
          "TCSA3",
          "ABEV3",
          "NEOE3",
          "BRFS3"
         ],
         "yaxis": "y9"
        },
        {
         "name": "10/2023",
         "orientation": "h",
         "type": "bar",
         "x": [
          14.28402954976013,
          11.69076083740118,
          10.19055381454824,
          9.781188415368167,
          9.046705708788974,
          7.0570917933698825,
          6.366233530387144,
          6.291463461413177,
          6.095075975033168,
          5.104978800645565,
          3.833247682649295,
          2.590314195099845,
          2.572911381416389,
          1.834498974056951,
          1.04959493443041,
          0.5855471841283697,
          0.3690563567347574,
          0.12950941078418599,
          0.1093899838274503,
          0.08658813801038268,
          0.08413625291152974,
          0.08340351549121543,
          0.08020946594090962,
          0.07981181662742912,
          0.07125550036495178,
          0.06949435954770508,
          0.06538541662540333,
          0.06181989919809726,
          0.05355582090091486,
          0.05339470436872879,
          0.052434004195427805,
          0.04914911234505965,
          0.03283252403952878,
          0.03238699397789275,
          0.031044798994471382,
          0.02056618253241974,
          0.004072477451852196,
          0.001565649901518152,
          0.001549761069035547,
          0.001157210922398152,
          0.001021375973720001,
          0.0009286482674299325,
          0.00008438049871830118
         ],
         "xaxis": "x10",
         "y": [
          "SUZB3",
          "RAIL3",
          "EQTL3",
          "ITUB4",
          "SBSP3",
          "VBBR3",
          "CPLE3",
          "EGIE3",
          "RENT3",
          "VVEO3",
          "CURY3",
          "JBSS3",
          "MEGA3",
          "SOMA3",
          "VITT3",
          "SYNE3",
          "UGPA3",
          "PETR4",
          "SQIA3",
          "ELET3",
          "NTCO3",
          "RRRP3",
          "ENEV3",
          "CPLE6",
          "VALE3",
          "PRIO3",
          "MGLU3",
          "ALOS3",
          "SLCE3",
          "CIEL3",
          "RECV3",
          "STBP3",
          "CRFB3",
          "DASA3",
          "B3SA3",
          "MULT3",
          "ITSA4",
          "RDOR3",
          "LREN3",
          "ABEV3",
          "TCSA3",
          "RADL3",
          "ASAI3"
         ],
         "yaxis": "y10"
        }
       ],
       "layout": {
        "annotations": [
         {
          "font": {
           "size": 16
          },
          "showarrow": false,
          "text": "Distribuição Percentual do Portfólio - 01/2023",
          "x": 0.5,
          "xanchor": "center",
          "xref": "paper",
          "y": 0.9999999999999999,
          "yanchor": "bottom",
          "yref": "paper"
         },
         {
          "font": {
           "size": 16
          },
          "showarrow": false,
          "text": "Distribuição Percentual do Portfólio - 02/2023",
          "x": 0.5,
          "xanchor": "center",
          "xref": "paper",
          "y": 0.898,
          "yanchor": "bottom",
          "yref": "paper"
         },
         {
          "font": {
           "size": 16
          },
          "showarrow": false,
          "text": "Distribuição Percentual do Portfólio - 03/2023",
          "x": 0.5,
          "xanchor": "center",
          "xref": "paper",
          "y": 0.796,
          "yanchor": "bottom",
          "yref": "paper"
         },
         {
          "font": {
           "size": 16
          },
          "showarrow": false,
          "text": "Distribuição Percentual do Portfólio - 04/2023",
          "x": 0.5,
          "xanchor": "center",
          "xref": "paper",
          "y": 0.6940000000000001,
          "yanchor": "bottom",
          "yref": "paper"
         },
         {
          "font": {
           "size": 16
          },
          "showarrow": false,
          "text": "Distribuição Percentual do Portfólio - 05/2023",
          "x": 0.5,
          "xanchor": "center",
          "xref": "paper",
          "y": 0.592,
          "yanchor": "bottom",
          "yref": "paper"
         },
         {
          "font": {
           "size": 16
          },
          "showarrow": false,
          "text": "Distribuição Percentual do Portfólio - 06/2023",
          "x": 0.5,
          "xanchor": "center",
          "xref": "paper",
          "y": 0.49000000000000005,
          "yanchor": "bottom",
          "yref": "paper"
         },
         {
          "font": {
           "size": 16
          },
          "showarrow": false,
          "text": "Distribuição Percentual do Portfólio - 07/2023",
          "x": 0.5,
          "xanchor": "center",
          "xref": "paper",
          "y": 0.388,
          "yanchor": "bottom",
          "yref": "paper"
         },
         {
          "font": {
           "size": 16
          },
          "showarrow": false,
          "text": "Distribuição Percentual do Portfólio - 08/2023",
          "x": 0.5,
          "xanchor": "center",
          "xref": "paper",
          "y": 0.28600000000000003,
          "yanchor": "bottom",
          "yref": "paper"
         },
         {
          "font": {
           "size": 16
          },
          "showarrow": false,
          "text": "Distribuição Percentual do Portfólio - 09/2023",
          "x": 0.5,
          "xanchor": "center",
          "xref": "paper",
          "y": 0.184,
          "yanchor": "bottom",
          "yref": "paper"
         },
         {
          "font": {
           "size": 16
          },
          "showarrow": false,
          "text": "Distribuição Percentual do Portfólio - 10/2023",
          "x": 0.5,
          "xanchor": "center",
          "xref": "paper",
          "y": 0.082,
          "yanchor": "bottom",
          "yref": "paper"
         }
        ],
        "height": 6000,
        "template": {
         "data": {
          "bar": [
           {
            "error_x": {
             "color": "#2a3f5f"
            },
            "error_y": {
             "color": "#2a3f5f"
            },
            "marker": {
             "line": {
              "color": "#E5ECF6",
              "width": 0.5
             },
             "pattern": {
              "fillmode": "overlay",
              "size": 10,
              "solidity": 0.2
             }
            },
            "type": "bar"
           }
          ],
          "barpolar": [
           {
            "marker": {
             "line": {
              "color": "#E5ECF6",
              "width": 0.5
             },
             "pattern": {
              "fillmode": "overlay",
              "size": 10,
              "solidity": 0.2
             }
            },
            "type": "barpolar"
           }
          ],
          "carpet": [
           {
            "aaxis": {
             "endlinecolor": "#2a3f5f",
             "gridcolor": "white",
             "linecolor": "white",
             "minorgridcolor": "white",
             "startlinecolor": "#2a3f5f"
            },
            "baxis": {
             "endlinecolor": "#2a3f5f",
             "gridcolor": "white",
             "linecolor": "white",
             "minorgridcolor": "white",
             "startlinecolor": "#2a3f5f"
            },
            "type": "carpet"
           }
          ],
          "choropleth": [
           {
            "colorbar": {
             "outlinewidth": 0,
             "ticks": ""
            },
            "type": "choropleth"
           }
          ],
          "contour": [
           {
            "colorbar": {
             "outlinewidth": 0,
             "ticks": ""
            },
            "colorscale": [
             [
              0,
              "#0d0887"
             ],
             [
              0.1111111111111111,
              "#46039f"
             ],
             [
              0.2222222222222222,
              "#7201a8"
             ],
             [
              0.3333333333333333,
              "#9c179e"
             ],
             [
              0.4444444444444444,
              "#bd3786"
             ],
             [
              0.5555555555555556,
              "#d8576b"
             ],
             [
              0.6666666666666666,
              "#ed7953"
             ],
             [
              0.7777777777777778,
              "#fb9f3a"
             ],
             [
              0.8888888888888888,
              "#fdca26"
             ],
             [
              1,
              "#f0f921"
             ]
            ],
            "type": "contour"
           }
          ],
          "contourcarpet": [
           {
            "colorbar": {
             "outlinewidth": 0,
             "ticks": ""
            },
            "type": "contourcarpet"
           }
          ],
          "heatmap": [
           {
            "colorbar": {
             "outlinewidth": 0,
             "ticks": ""
            },
            "colorscale": [
             [
              0,
              "#0d0887"
             ],
             [
              0.1111111111111111,
              "#46039f"
             ],
             [
              0.2222222222222222,
              "#7201a8"
             ],
             [
              0.3333333333333333,
              "#9c179e"
             ],
             [
              0.4444444444444444,
              "#bd3786"
             ],
             [
              0.5555555555555556,
              "#d8576b"
             ],
             [
              0.6666666666666666,
              "#ed7953"
             ],
             [
              0.7777777777777778,
              "#fb9f3a"
             ],
             [
              0.8888888888888888,
              "#fdca26"
             ],
             [
              1,
              "#f0f921"
             ]
            ],
            "type": "heatmap"
           }
          ],
          "heatmapgl": [
           {
            "colorbar": {
             "outlinewidth": 0,
             "ticks": ""
            },
            "colorscale": [
             [
              0,
              "#0d0887"
             ],
             [
              0.1111111111111111,
              "#46039f"
             ],
             [
              0.2222222222222222,
              "#7201a8"
             ],
             [
              0.3333333333333333,
              "#9c179e"
             ],
             [
              0.4444444444444444,
              "#bd3786"
             ],
             [
              0.5555555555555556,
              "#d8576b"
             ],
             [
              0.6666666666666666,
              "#ed7953"
             ],
             [
              0.7777777777777778,
              "#fb9f3a"
             ],
             [
              0.8888888888888888,
              "#fdca26"
             ],
             [
              1,
              "#f0f921"
             ]
            ],
            "type": "heatmapgl"
           }
          ],
          "histogram": [
           {
            "marker": {
             "pattern": {
              "fillmode": "overlay",
              "size": 10,
              "solidity": 0.2
             }
            },
            "type": "histogram"
           }
          ],
          "histogram2d": [
           {
            "colorbar": {
             "outlinewidth": 0,
             "ticks": ""
            },
            "colorscale": [
             [
              0,
              "#0d0887"
             ],
             [
              0.1111111111111111,
              "#46039f"
             ],
             [
              0.2222222222222222,
              "#7201a8"
             ],
             [
              0.3333333333333333,
              "#9c179e"
             ],
             [
              0.4444444444444444,
              "#bd3786"
             ],
             [
              0.5555555555555556,
              "#d8576b"
             ],
             [
              0.6666666666666666,
              "#ed7953"
             ],
             [
              0.7777777777777778,
              "#fb9f3a"
             ],
             [
              0.8888888888888888,
              "#fdca26"
             ],
             [
              1,
              "#f0f921"
             ]
            ],
            "type": "histogram2d"
           }
          ],
          "histogram2dcontour": [
           {
            "colorbar": {
             "outlinewidth": 0,
             "ticks": ""
            },
            "colorscale": [
             [
              0,
              "#0d0887"
             ],
             [
              0.1111111111111111,
              "#46039f"
             ],
             [
              0.2222222222222222,
              "#7201a8"
             ],
             [
              0.3333333333333333,
              "#9c179e"
             ],
             [
              0.4444444444444444,
              "#bd3786"
             ],
             [
              0.5555555555555556,
              "#d8576b"
             ],
             [
              0.6666666666666666,
              "#ed7953"
             ],
             [
              0.7777777777777778,
              "#fb9f3a"
             ],
             [
              0.8888888888888888,
              "#fdca26"
             ],
             [
              1,
              "#f0f921"
             ]
            ],
            "type": "histogram2dcontour"
           }
          ],
          "mesh3d": [
           {
            "colorbar": {
             "outlinewidth": 0,
             "ticks": ""
            },
            "type": "mesh3d"
           }
          ],
          "parcoords": [
           {
            "line": {
             "colorbar": {
              "outlinewidth": 0,
              "ticks": ""
             }
            },
            "type": "parcoords"
           }
          ],
          "pie": [
           {
            "automargin": true,
            "type": "pie"
           }
          ],
          "scatter": [
           {
            "fillpattern": {
             "fillmode": "overlay",
             "size": 10,
             "solidity": 0.2
            },
            "type": "scatter"
           }
          ],
          "scatter3d": [
           {
            "line": {
             "colorbar": {
              "outlinewidth": 0,
              "ticks": ""
             }
            },
            "marker": {
             "colorbar": {
              "outlinewidth": 0,
              "ticks": ""
             }
            },
            "type": "scatter3d"
           }
          ],
          "scattercarpet": [
           {
            "marker": {
             "colorbar": {
              "outlinewidth": 0,
              "ticks": ""
             }
            },
            "type": "scattercarpet"
           }
          ],
          "scattergeo": [
           {
            "marker": {
             "colorbar": {
              "outlinewidth": 0,
              "ticks": ""
             }
            },
            "type": "scattergeo"
           }
          ],
          "scattergl": [
           {
            "marker": {
             "colorbar": {
              "outlinewidth": 0,
              "ticks": ""
             }
            },
            "type": "scattergl"
           }
          ],
          "scattermapbox": [
           {
            "marker": {
             "colorbar": {
              "outlinewidth": 0,
              "ticks": ""
             }
            },
            "type": "scattermapbox"
           }
          ],
          "scatterpolar": [
           {
            "marker": {
             "colorbar": {
              "outlinewidth": 0,
              "ticks": ""
             }
            },
            "type": "scatterpolar"
           }
          ],
          "scatterpolargl": [
           {
            "marker": {
             "colorbar": {
              "outlinewidth": 0,
              "ticks": ""
             }
            },
            "type": "scatterpolargl"
           }
          ],
          "scatterternary": [
           {
            "marker": {
             "colorbar": {
              "outlinewidth": 0,
              "ticks": ""
             }
            },
            "type": "scatterternary"
           }
          ],
          "surface": [
           {
            "colorbar": {
             "outlinewidth": 0,
             "ticks": ""
            },
            "colorscale": [
             [
              0,
              "#0d0887"
             ],
             [
              0.1111111111111111,
              "#46039f"
             ],
             [
              0.2222222222222222,
              "#7201a8"
             ],
             [
              0.3333333333333333,
              "#9c179e"
             ],
             [
              0.4444444444444444,
              "#bd3786"
             ],
             [
              0.5555555555555556,
              "#d8576b"
             ],
             [
              0.6666666666666666,
              "#ed7953"
             ],
             [
              0.7777777777777778,
              "#fb9f3a"
             ],
             [
              0.8888888888888888,
              "#fdca26"
             ],
             [
              1,
              "#f0f921"
             ]
            ],
            "type": "surface"
           }
          ],
          "table": [
           {
            "cells": {
             "fill": {
              "color": "#EBF0F8"
             },
             "line": {
              "color": "white"
             }
            },
            "header": {
             "fill": {
              "color": "#C8D4E3"
             },
             "line": {
              "color": "white"
             }
            },
            "type": "table"
           }
          ]
         },
         "layout": {
          "annotationdefaults": {
           "arrowcolor": "#2a3f5f",
           "arrowhead": 0,
           "arrowwidth": 1
          },
          "autotypenumbers": "strict",
          "coloraxis": {
           "colorbar": {
            "outlinewidth": 0,
            "ticks": ""
           }
          },
          "colorscale": {
           "diverging": [
            [
             0,
             "#8e0152"
            ],
            [
             0.1,
             "#c51b7d"
            ],
            [
             0.2,
             "#de77ae"
            ],
            [
             0.3,
             "#f1b6da"
            ],
            [
             0.4,
             "#fde0ef"
            ],
            [
             0.5,
             "#f7f7f7"
            ],
            [
             0.6,
             "#e6f5d0"
            ],
            [
             0.7,
             "#b8e186"
            ],
            [
             0.8,
             "#7fbc41"
            ],
            [
             0.9,
             "#4d9221"
            ],
            [
             1,
             "#276419"
            ]
           ],
           "sequential": [
            [
             0,
             "#0d0887"
            ],
            [
             0.1111111111111111,
             "#46039f"
            ],
            [
             0.2222222222222222,
             "#7201a8"
            ],
            [
             0.3333333333333333,
             "#9c179e"
            ],
            [
             0.4444444444444444,
             "#bd3786"
            ],
            [
             0.5555555555555556,
             "#d8576b"
            ],
            [
             0.6666666666666666,
             "#ed7953"
            ],
            [
             0.7777777777777778,
             "#fb9f3a"
            ],
            [
             0.8888888888888888,
             "#fdca26"
            ],
            [
             1,
             "#f0f921"
            ]
           ],
           "sequentialminus": [
            [
             0,
             "#0d0887"
            ],
            [
             0.1111111111111111,
             "#46039f"
            ],
            [
             0.2222222222222222,
             "#7201a8"
            ],
            [
             0.3333333333333333,
             "#9c179e"
            ],
            [
             0.4444444444444444,
             "#bd3786"
            ],
            [
             0.5555555555555556,
             "#d8576b"
            ],
            [
             0.6666666666666666,
             "#ed7953"
            ],
            [
             0.7777777777777778,
             "#fb9f3a"
            ],
            [
             0.8888888888888888,
             "#fdca26"
            ],
            [
             1,
             "#f0f921"
            ]
           ]
          },
          "colorway": [
           "#636efa",
           "#EF553B",
           "#00cc96",
           "#ab63fa",
           "#FFA15A",
           "#19d3f3",
           "#FF6692",
           "#B6E880",
           "#FF97FF",
           "#FECB52"
          ],
          "font": {
           "color": "#2a3f5f"
          },
          "geo": {
           "bgcolor": "white",
           "lakecolor": "white",
           "landcolor": "#E5ECF6",
           "showlakes": true,
           "showland": true,
           "subunitcolor": "white"
          },
          "hoverlabel": {
           "align": "left"
          },
          "hovermode": "closest",
          "mapbox": {
           "style": "light"
          },
          "paper_bgcolor": "white",
          "plot_bgcolor": "#E5ECF6",
          "polar": {
           "angularaxis": {
            "gridcolor": "white",
            "linecolor": "white",
            "ticks": ""
           },
           "bgcolor": "#E5ECF6",
           "radialaxis": {
            "gridcolor": "white",
            "linecolor": "white",
            "ticks": ""
           }
          },
          "scene": {
           "xaxis": {
            "backgroundcolor": "#E5ECF6",
            "gridcolor": "white",
            "gridwidth": 2,
            "linecolor": "white",
            "showbackground": true,
            "ticks": "",
            "zerolinecolor": "white"
           },
           "yaxis": {
            "backgroundcolor": "#E5ECF6",
            "gridcolor": "white",
            "gridwidth": 2,
            "linecolor": "white",
            "showbackground": true,
            "ticks": "",
            "zerolinecolor": "white"
           },
           "zaxis": {
            "backgroundcolor": "#E5ECF6",
            "gridcolor": "white",
            "gridwidth": 2,
            "linecolor": "white",
            "showbackground": true,
            "ticks": "",
            "zerolinecolor": "white"
           }
          },
          "shapedefaults": {
           "line": {
            "color": "#2a3f5f"
           }
          },
          "ternary": {
           "aaxis": {
            "gridcolor": "white",
            "linecolor": "white",
            "ticks": ""
           },
           "baxis": {
            "gridcolor": "white",
            "linecolor": "white",
            "ticks": ""
           },
           "bgcolor": "#E5ECF6",
           "caxis": {
            "gridcolor": "white",
            "linecolor": "white",
            "ticks": ""
           }
          },
          "title": {
           "x": 0.05
          },
          "xaxis": {
           "automargin": true,
           "gridcolor": "white",
           "linecolor": "white",
           "ticks": "",
           "title": {
            "standoff": 15
           },
           "zerolinecolor": "white",
           "zerolinewidth": 2
          },
          "yaxis": {
           "automargin": true,
           "gridcolor": "white",
           "linecolor": "white",
           "ticks": "",
           "title": {
            "standoff": 15
           },
           "zerolinecolor": "white",
           "zerolinewidth": 2
          }
         }
        },
        "title": {
         "text": "Portfólio do Fundo Verde"
        },
        "width": 900,
        "xaxis": {
         "anchor": "y",
         "domain": [
          0,
          1
         ]
        },
        "xaxis10": {
         "anchor": "y10",
         "domain": [
          0,
          1
         ]
        },
        "xaxis2": {
         "anchor": "y2",
         "domain": [
          0,
          1
         ]
        },
        "xaxis3": {
         "anchor": "y3",
         "domain": [
          0,
          1
         ]
        },
        "xaxis4": {
         "anchor": "y4",
         "domain": [
          0,
          1
         ]
        },
        "xaxis5": {
         "anchor": "y5",
         "domain": [
          0,
          1
         ]
        },
        "xaxis6": {
         "anchor": "y6",
         "domain": [
          0,
          1
         ]
        },
        "xaxis7": {
         "anchor": "y7",
         "domain": [
          0,
          1
         ]
        },
        "xaxis8": {
         "anchor": "y8",
         "domain": [
          0,
          1
         ]
        },
        "xaxis9": {
         "anchor": "y9",
         "domain": [
          0,
          1
         ]
        },
        "yaxis": {
         "anchor": "x",
         "domain": [
          0.9179999999999999,
          0.9999999999999999
         ]
        },
        "yaxis10": {
         "anchor": "x10",
         "domain": [
          0,
          0.082
         ]
        },
        "yaxis2": {
         "anchor": "x2",
         "domain": [
          0.8160000000000001,
          0.898
         ]
        },
        "yaxis3": {
         "anchor": "x3",
         "domain": [
          0.7140000000000001,
          0.796
         ]
        },
        "yaxis4": {
         "anchor": "x4",
         "domain": [
          0.6120000000000001,
          0.6940000000000001
         ]
        },
        "yaxis5": {
         "anchor": "x5",
         "domain": [
          0.51,
          0.592
         ]
        },
        "yaxis6": {
         "anchor": "x6",
         "domain": [
          0.40800000000000003,
          0.49000000000000005
         ]
        },
        "yaxis7": {
         "anchor": "x7",
         "domain": [
          0.306,
          0.388
         ]
        },
        "yaxis8": {
         "anchor": "x8",
         "domain": [
          0.20400000000000001,
          0.28600000000000003
         ]
        },
        "yaxis9": {
         "anchor": "x9",
         "domain": [
          0.10200000000000001,
          0.184
         ]
        }
       }
      }
     },
     "metadata": {},
     "output_type": "display_data"
    }
   ],
   "source": [
    "# Plotando o portfólio de cada mês\n",
    "plot_portfolio(df=portfolio_verde, nome_fundo='Verde')"
   ]
  },
  {
   "cell_type": "markdown",
   "metadata": {},
   "source": [
    "### Fundo Dynamo"
   ]
  },
  {
   "cell_type": "markdown",
   "metadata": {},
   "source": [
    "* https://maisretorno.com/fundo/dynamo-cougar-master-fia"
   ]
  },
  {
   "cell_type": "code",
   "execution_count": 256,
   "metadata": {},
   "outputs": [
    {
     "data": {
      "text/html": [
       "<div>\n",
       "<style scoped>\n",
       "    .dataframe tbody tr th:only-of-type {\n",
       "        vertical-align: middle;\n",
       "    }\n",
       "\n",
       "    .dataframe tbody tr th {\n",
       "        vertical-align: top;\n",
       "    }\n",
       "\n",
       "    .dataframe thead th {\n",
       "        text-align: right;\n",
       "    }\n",
       "</style>\n",
       "<table border=\"1\" class=\"dataframe\">\n",
       "  <thead>\n",
       "    <tr style=\"text-align: right;\">\n",
       "      <th></th>\n",
       "      <th>ret_mensal</th>\n",
       "    </tr>\n",
       "    <tr>\n",
       "      <th>DT_COMPTC</th>\n",
       "      <th></th>\n",
       "    </tr>\n",
       "  </thead>\n",
       "  <tbody>\n",
       "    <tr>\n",
       "      <th>2023-01-31</th>\n",
       "      <td>4.80</td>\n",
       "    </tr>\n",
       "    <tr>\n",
       "      <th>2023-02-28</th>\n",
       "      <td>-4.66</td>\n",
       "    </tr>\n",
       "    <tr>\n",
       "      <th>2023-03-31</th>\n",
       "      <td>-6.02</td>\n",
       "    </tr>\n",
       "    <tr>\n",
       "      <th>2023-04-28</th>\n",
       "      <td>-0.24</td>\n",
       "    </tr>\n",
       "    <tr>\n",
       "      <th>2023-05-31</th>\n",
       "      <td>12.20</td>\n",
       "    </tr>\n",
       "    <tr>\n",
       "      <th>2023-06-30</th>\n",
       "      <td>8.40</td>\n",
       "    </tr>\n",
       "    <tr>\n",
       "      <th>2023-07-31</th>\n",
       "      <td>5.00</td>\n",
       "    </tr>\n",
       "    <tr>\n",
       "      <th>2023-08-31</th>\n",
       "      <td>-6.35</td>\n",
       "    </tr>\n",
       "    <tr>\n",
       "      <th>2023-09-29</th>\n",
       "      <td>-0.77</td>\n",
       "    </tr>\n",
       "    <tr>\n",
       "      <th>2023-10-31</th>\n",
       "      <td>-4.90</td>\n",
       "    </tr>\n",
       "    <tr>\n",
       "      <th>2023-11-30</th>\n",
       "      <td>13.94</td>\n",
       "    </tr>\n",
       "    <tr>\n",
       "      <th>2023-12-29</th>\n",
       "      <td>3.70</td>\n",
       "    </tr>\n",
       "    <tr>\n",
       "      <th>2024-01-31</th>\n",
       "      <td>-3.43</td>\n",
       "    </tr>\n",
       "    <tr>\n",
       "      <th>2024-02-29</th>\n",
       "      <td>3.76</td>\n",
       "    </tr>\n",
       "    <tr>\n",
       "      <th>2024-03-28</th>\n",
       "      <td>1.91</td>\n",
       "    </tr>\n",
       "    <tr>\n",
       "      <th>2024-04-30</th>\n",
       "      <td>-4.82</td>\n",
       "    </tr>\n",
       "  </tbody>\n",
       "</table>\n",
       "</div>"
      ],
      "text/plain": [
       "            ret_mensal\n",
       "DT_COMPTC             \n",
       "2023-01-31        4.80\n",
       "2023-02-28       -4.66\n",
       "2023-03-31       -6.02\n",
       "2023-04-28       -0.24\n",
       "2023-05-31       12.20\n",
       "2023-06-30        8.40\n",
       "2023-07-31        5.00\n",
       "2023-08-31       -6.35\n",
       "2023-09-29       -0.77\n",
       "2023-10-31       -4.90\n",
       "2023-11-30       13.94\n",
       "2023-12-29        3.70\n",
       "2024-01-31       -3.43\n",
       "2024-02-29        3.76\n",
       "2024-03-28        1.91\n",
       "2024-04-30       -4.82"
      ]
     },
     "execution_count": 256,
     "metadata": {},
     "output_type": "execute_result"
    }
   ],
   "source": [
    "# Rentabilidade mensal\n",
    "df_ret_mensal = rentabilidade_fundo(df=df_inf_diario, cnpj='37.916.879/0001-26')[0]\n",
    "df_ret_mensal"
   ]
  },
  {
   "cell_type": "code",
   "execution_count": 257,
   "metadata": {},
   "outputs": [
    {
     "data": {
      "text/html": [
       "<div>\n",
       "<style scoped>\n",
       "    .dataframe tbody tr th:only-of-type {\n",
       "        vertical-align: middle;\n",
       "    }\n",
       "\n",
       "    .dataframe tbody tr th {\n",
       "        vertical-align: top;\n",
       "    }\n",
       "\n",
       "    .dataframe thead th {\n",
       "        text-align: right;\n",
       "    }\n",
       "</style>\n",
       "<table border=\"1\" class=\"dataframe\">\n",
       "  <thead>\n",
       "    <tr style=\"text-align: right;\">\n",
       "      <th></th>\n",
       "      <th>ret_anual</th>\n",
       "    </tr>\n",
       "    <tr>\n",
       "      <th>DT_COMPTC</th>\n",
       "      <th></th>\n",
       "    </tr>\n",
       "  </thead>\n",
       "  <tbody>\n",
       "    <tr>\n",
       "      <th>2023</th>\n",
       "      <td>24.92</td>\n",
       "    </tr>\n",
       "    <tr>\n",
       "      <th>2024</th>\n",
       "      <td>-2.81</td>\n",
       "    </tr>\n",
       "  </tbody>\n",
       "</table>\n",
       "</div>"
      ],
      "text/plain": [
       "           ret_anual\n",
       "DT_COMPTC           \n",
       "2023           24.92\n",
       "2024           -2.81"
      ]
     },
     "execution_count": 257,
     "metadata": {},
     "output_type": "execute_result"
    }
   ],
   "source": [
    "# Rentabilidade anual\n",
    "df_ret_anual = rentabilidade_fundo(df=df_inf_diario, cnpj='37.916.879/0001-26')[1]\n",
    "df_ret_anual"
   ]
  },
  {
   "cell_type": "code",
   "execution_count": 258,
   "metadata": {},
   "outputs": [],
   "source": [
    "dynamo_acoes, dynamo_bdr, dynamo_exterior, dynamo_cotas_fundos, dynamo_titulos_pub, dynamo_vendido_acoes = fundo_cnpj(df=df_ativos, cnpj='37.916.879/0001-26')\n",
    "dynamo_pl = pl_fundo(\n",
    "    path=f'C://Users//vitor//projetos_python//python_b3//historico-arquivos//fundos_investimentos//fundos_cvm//{ano}{mes}//cda_fi_PL_{ano}{mes}.parquet',\n",
    "    cnpj='37.916.879/0001-26'\n",
    ")\n",
    "\n",
    "# Quantos porcertos cada categoria representa do PL final\n",
    "pct_acoes = round(pd.Series(dynamo_acoes['VL_MERC_POS_FINAL'].sum() / dynamo_pl.values), 4) \n",
    "pct_bdr = round(pd.Series(dynamo_bdr['VL_MERC_POS_FINAL'].sum() / dynamo_pl.values), 4) \n",
    "pct_exterior = round(pd.Series(dynamo_exterior['VL_MERC_POS_FINAL'].sum() / dynamo_pl.values), 4) \n",
    "pct_cotas_fundos = round(pd.Series(dynamo_cotas_fundos['VL_MERC_POS_FINAL'].sum() / dynamo_pl.values), 4) \n",
    "pct_titulos_pub = round(pd.Series(dynamo_titulos_pub['VL_MERC_POS_FINAL'].sum() / dynamo_pl.values), 4) \n",
    "pct_vendido_acoes = round(pd.Series(dynamo_vendido_acoes['VL_MERC_POS_FINAL'].sum() / dynamo_pl.values), 4) \n",
    "\n",
    "# Criando a data do portfólio\n",
    "data = pd.to_datetime(f'{mes}-{ano}')\n",
    "\n",
    "# Adicionando a informação da porcentagem de cada categoria nos dfs\n",
    "# Ações\n",
    "linha_pct_acoes = {'DENOM_SOCIAL': 'PL% FUNDO', 'VL_MERC_POS_FINAL' : pct_acoes}\n",
    "df_linha_pct_acoes = pd.DataFrame(linha_pct_acoes)\n",
    "dynamo_acoes = pd.concat([dynamo_acoes, df_linha_pct_acoes])\n",
    "# Criando a coluna 'data' no df\n",
    "dynamo_acoes['data'] = data\n",
    "# Definindo a coluna 'data' como o index\n",
    "dynamo_acoes = dynamo_acoes.set_index('data')\n",
    "\n",
    "# BDRs\n",
    "linha_pct_bdr = {'DENOM_SOCIAL': 'PL% FUNDO', 'VL_MERC_POS_FINAL' : pct_bdr}\n",
    "df_linha_pct_bdr = pd.DataFrame(linha_pct_bdr)\n",
    "dynamo_bdr = pd.concat([dynamo_bdr, df_linha_pct_bdr])\n",
    "# Criando a coluna 'data' no df\n",
    "dynamo_bdr['data'] = data\n",
    "# Definindo a coluna 'data' como o index\n",
    "dynamo_bdr = dynamo_bdr.set_index('data')\n",
    "\n",
    "# Investimentos no Exterior\n",
    "linha_pct_exterior = {'DENOM_SOCIAL': 'PL% FUNDO', 'VL_MERC_POS_FINAL' : pct_exterior}\n",
    "df_linha_pct_exterior = pd.DataFrame(linha_pct_exterior)\n",
    "dynamo_exterior = pd.concat([dynamo_exterior, df_linha_pct_exterior])\n",
    "# Criando a coluna 'data' no df\n",
    "dynamo_exterior['data'] = data\n",
    "# Definindo a coluna 'data' como o index\n",
    "dynamo_exterior = dynamo_exterior.set_index('data')\n",
    "\n",
    "# Cotas de Fundos\n",
    "linha_pct_cotas_fundos = {'DENOM_SOCIAL': 'PL% FUNDO', 'VL_MERC_POS_FINAL' : pct_cotas_fundos}\n",
    "df_linha_pct_cotas_fundos = pd.DataFrame(linha_pct_cotas_fundos)\n",
    "dynamo_cotas_fundos = pd.concat([dynamo_cotas_fundos, df_linha_pct_cotas_fundos])\n",
    "# Criando a coluna 'data' no df\n",
    "dynamo_cotas_fundos['data'] = data\n",
    "# Definindo a coluna 'data' como o index\n",
    "dynamo_codynamo_cotas_fundos =dynamo_cotas_fundos.set_index('data')\n",
    "\n",
    "# Títulos Públicos\n",
    "linha_pct_titulos_pub = {'DENOM_SOCIAL': 'PL% FUNDO', 'VL_MERC_POS_FINAL' : pct_titulos_pub}\n",
    "df_linha_pct_titulos_pub = pd.DataFrame(linha_pct_titulos_pub)\n",
    "dynamo_titulos_pub = pd.concat([dynamo_titulos_pub, df_linha_pct_titulos_pub])\n",
    "# Criando a coluna 'data' no df\n",
    "dynamo_titulos_pub['data'] = data\n",
    "# Definindo a coluna 'data' como o index\n",
    "dynamo_titulos_pub = dynamo_titulos_pub.set_index('data')\n",
    "\n",
    "# Vendido Ações\n",
    "linha_pct_vendido_acoes = {'DENOM_SOCIAL': 'PL% FUNDO', 'VL_MERC_POS_FINAL' : pct_vendido_acoes}\n",
    "df_linha_pct_vendido_acoes = pd.DataFrame(linha_pct_vendido_acoes)\n",
    "dynamo_vendido_acoes = pd.concat([dynamo_vendido_acoes, df_linha_pct_vendido_acoes])\n",
    "# Criando a coluna 'data' no df\n",
    "dynamo_vendido_acoes['data'] = data\n",
    "# Definindo a coluna 'data' como o index\n",
    "dynamo_vendido_acoes = dynamo_vendido_acoes.set_index('data')"
   ]
  },
  {
   "cell_type": "code",
   "execution_count": 259,
   "metadata": {},
   "outputs": [],
   "source": [
    "# Criando o arquivo excel em que cada categoria está em uma aba diferente\n",
    "with pd.ExcelWriter(f'C://Users//vitor//projetos_python//python_b3//composicao-fundos-de-investimentos//arquivos_fundos//dynamo//fundo_dynamo_{ano}{mes}.xlsx') as writer:\n",
    "    dynamo_acoes.to_excel(writer, sheet_name='acoes')\n",
    "    dynamo_bdr.to_excel(writer, sheet_name='bdr')\n",
    "    dynamo_exterior.to_excel(writer, sheet_name='exterior')\n",
    "    dynamo_cotas_fundos.to_excel(writer, sheet_name='cota_fundos')\n",
    "    dynamo_titulos_pub.to_excel(writer, sheet_name='titulos_publicos')\n",
    "    dynamo_vendido_acoes.to_excel(writer, sheet_name='vendido_acoes')"
   ]
  },
  {
   "cell_type": "code",
   "execution_count": 260,
   "metadata": {},
   "outputs": [
    {
     "data": {
      "text/html": [
       "<div>\n",
       "<style scoped>\n",
       "    .dataframe tbody tr th:only-of-type {\n",
       "        vertical-align: middle;\n",
       "    }\n",
       "\n",
       "    .dataframe tbody tr th {\n",
       "        vertical-align: top;\n",
       "    }\n",
       "\n",
       "    .dataframe thead th {\n",
       "        text-align: right;\n",
       "    }\n",
       "</style>\n",
       "<table border=\"1\" class=\"dataframe\">\n",
       "  <thead>\n",
       "    <tr style=\"text-align: right;\">\n",
       "      <th></th>\n",
       "      <th>DENOM_SOCIAL</th>\n",
       "      <th>CD_ATIVO</th>\n",
       "      <th>PORCENTAGEM</th>\n",
       "      <th>VL_MERC_POS_FINAL</th>\n",
       "    </tr>\n",
       "    <tr>\n",
       "      <th>data</th>\n",
       "      <th></th>\n",
       "      <th></th>\n",
       "      <th></th>\n",
       "      <th></th>\n",
       "    </tr>\n",
       "  </thead>\n",
       "  <tbody>\n",
       "    <tr>\n",
       "      <th>2023-01-01</th>\n",
       "      <td>DYNAMO COUGAR MASTER FUNDO DE INVESTIMENTO EM ...</td>\n",
       "      <td>ENEV3</td>\n",
       "      <td>0.147659</td>\n",
       "      <td>9.885924e+08</td>\n",
       "    </tr>\n",
       "    <tr>\n",
       "      <th>2023-01-01</th>\n",
       "      <td>DYNAMO COUGAR MASTER FUNDO DE INVESTIMENTO EM ...</td>\n",
       "      <td>VBBR3</td>\n",
       "      <td>0.110783</td>\n",
       "      <td>7.417016e+08</td>\n",
       "    </tr>\n",
       "    <tr>\n",
       "      <th>2023-01-01</th>\n",
       "      <td>DYNAMO COUGAR MASTER FUNDO DE INVESTIMENTO EM ...</td>\n",
       "      <td>CSAN3</td>\n",
       "      <td>0.106247</td>\n",
       "      <td>7.113367e+08</td>\n",
       "    </tr>\n",
       "    <tr>\n",
       "      <th>2023-01-01</th>\n",
       "      <td>DYNAMO COUGAR MASTER FUNDO DE INVESTIMENTO EM ...</td>\n",
       "      <td>RENT3</td>\n",
       "      <td>0.100129</td>\n",
       "      <td>6.703738e+08</td>\n",
       "    </tr>\n",
       "    <tr>\n",
       "      <th>2023-01-01</th>\n",
       "      <td>DYNAMO COUGAR MASTER FUNDO DE INVESTIMENTO EM ...</td>\n",
       "      <td>NTCO3</td>\n",
       "      <td>0.093790</td>\n",
       "      <td>6.279359e+08</td>\n",
       "    </tr>\n",
       "    <tr>\n",
       "      <th>...</th>\n",
       "      <td>...</td>\n",
       "      <td>...</td>\n",
       "      <td>...</td>\n",
       "      <td>...</td>\n",
       "    </tr>\n",
       "    <tr>\n",
       "      <th>2023-10-01</th>\n",
       "      <td>DYNAMO COUGAR MASTER FUNDO DE INVESTIMENTO EM ...</td>\n",
       "      <td>OPCT3</td>\n",
       "      <td>0.001539</td>\n",
       "      <td>9.698096e+06</td>\n",
       "    </tr>\n",
       "    <tr>\n",
       "      <th>2023-10-01</th>\n",
       "      <td>DYNAMO COUGAR MASTER FUNDO DE INVESTIMENTO EM ...</td>\n",
       "      <td>SMFT3</td>\n",
       "      <td>0.001474</td>\n",
       "      <td>9.293339e+06</td>\n",
       "    </tr>\n",
       "    <tr>\n",
       "      <th>2023-10-01</th>\n",
       "      <td>DYNAMO COUGAR MASTER FUNDO DE INVESTIMENTO EM ...</td>\n",
       "      <td>GGBR4</td>\n",
       "      <td>0.001202</td>\n",
       "      <td>7.574240e+06</td>\n",
       "    </tr>\n",
       "    <tr>\n",
       "      <th>2023-10-01</th>\n",
       "      <td>DYNAMO COUGAR MASTER FUNDO DE INVESTIMENTO EM ...</td>\n",
       "      <td>ALPA3</td>\n",
       "      <td>0.000438</td>\n",
       "      <td>2.761036e+06</td>\n",
       "    </tr>\n",
       "    <tr>\n",
       "      <th>2023-10-01</th>\n",
       "      <td>DYNAMO COUGAR MASTER FUNDO DE INVESTIMENTO EM ...</td>\n",
       "      <td>HBRE3</td>\n",
       "      <td>0.000274</td>\n",
       "      <td>1.729811e+06</td>\n",
       "    </tr>\n",
       "  </tbody>\n",
       "</table>\n",
       "<p>297 rows × 4 columns</p>\n",
       "</div>"
      ],
      "text/plain": [
       "                                                 DENOM_SOCIAL CD_ATIVO  \\\n",
       "data                                                                     \n",
       "2023-01-01  DYNAMO COUGAR MASTER FUNDO DE INVESTIMENTO EM ...    ENEV3   \n",
       "2023-01-01  DYNAMO COUGAR MASTER FUNDO DE INVESTIMENTO EM ...    VBBR3   \n",
       "2023-01-01  DYNAMO COUGAR MASTER FUNDO DE INVESTIMENTO EM ...    CSAN3   \n",
       "2023-01-01  DYNAMO COUGAR MASTER FUNDO DE INVESTIMENTO EM ...    RENT3   \n",
       "2023-01-01  DYNAMO COUGAR MASTER FUNDO DE INVESTIMENTO EM ...    NTCO3   \n",
       "...                                                       ...      ...   \n",
       "2023-10-01  DYNAMO COUGAR MASTER FUNDO DE INVESTIMENTO EM ...    OPCT3   \n",
       "2023-10-01  DYNAMO COUGAR MASTER FUNDO DE INVESTIMENTO EM ...    SMFT3   \n",
       "2023-10-01  DYNAMO COUGAR MASTER FUNDO DE INVESTIMENTO EM ...    GGBR4   \n",
       "2023-10-01  DYNAMO COUGAR MASTER FUNDO DE INVESTIMENTO EM ...    ALPA3   \n",
       "2023-10-01  DYNAMO COUGAR MASTER FUNDO DE INVESTIMENTO EM ...    HBRE3   \n",
       "\n",
       "            PORCENTAGEM  VL_MERC_POS_FINAL  \n",
       "data                                        \n",
       "2023-01-01     0.147659       9.885924e+08  \n",
       "2023-01-01     0.110783       7.417016e+08  \n",
       "2023-01-01     0.106247       7.113367e+08  \n",
       "2023-01-01     0.100129       6.703738e+08  \n",
       "2023-01-01     0.093790       6.279359e+08  \n",
       "...                 ...                ...  \n",
       "2023-10-01     0.001539       9.698096e+06  \n",
       "2023-10-01     0.001474       9.293339e+06  \n",
       "2023-10-01     0.001202       7.574240e+06  \n",
       "2023-10-01     0.000438       2.761036e+06  \n",
       "2023-10-01     0.000274       1.729811e+06  \n",
       "\n",
       "[297 rows x 4 columns]"
      ]
     },
     "execution_count": 260,
     "metadata": {},
     "output_type": "execute_result"
    }
   ],
   "source": [
    "# Caminho da pasta do fundo Dynamo\n",
    "path_dynamo = 'C:\\\\Users\\\\vitor\\\\projetos_python\\\\python_b3\\\\composicao-fundos-de-investimentos\\\\arquivos_fundos\\\\dynamo\\\\'\n",
    "\n",
    "# Caminho completo de todos os arquivos que estão na pasta\n",
    "paths_arquivos_dynamo = glob.glob(path_dynamo + '*.xlsx')\n",
    "\n",
    "lst_dfs = []\n",
    "for path in paths_arquivos_dynamo:\n",
    "    df = pd.read_excel(path, sheet_name='acoes')\n",
    "    lst_dfs.append(df)\n",
    "\n",
    "# Concatendo os dfs de ações\n",
    "portfolio_dynamo = pd.concat(lst_dfs, ignore_index=True)\n",
    "\n",
    "# Retirando as ações que não tem nenhum dinheiro alocado e os NAN\n",
    "portfolio_dynamo = portfolio_dynamo[portfolio_dynamo['VL_MERC_POS_FINAL'] != 0]\n",
    "portfolio_dynamo = portfolio_dynamo.dropna()\n",
    "\n",
    "# Definindo a coluna 'data' como o index\n",
    "portfolio_dynamo = portfolio_dynamo.set_index('data')\n",
    "portfolio_dynamo"
   ]
  },
  {
   "cell_type": "code",
   "execution_count": 261,
   "metadata": {},
   "outputs": [
    {
     "name": "stdout",
     "output_type": "stream",
     "text": [
      "Comparando o portfólio de 01/2023 e 02/2023:\n",
      "O Dynamo vendeu as ações: {'RENT3', 'PETR3', 'PETR4', 'ITUB4'}\n",
      "O Dynamo comprou as ações: {'CCRO3'}\n",
      "--------------------------------------------------------------------------------\n",
      "Comparando o portfólio de 02/2023 e 03/2023:\n",
      "O Dynamo vendeu as ações: {'GGBR4', 'ENJU3'}\n",
      "O Dynamo comprou as ações: {'ASAI3', 'OPCT3'}\n",
      "--------------------------------------------------------------------------------\n",
      "Comparando o portfólio de 03/2023 e 04/2023:\n",
      "O Dynamo vendeu as ações: set()\n",
      "O Dynamo comprou as ações: {'GGBR4'}\n",
      "--------------------------------------------------------------------------------\n",
      "Comparando o portfólio de 04/2023 e 05/2023:\n",
      "O Dynamo vendeu as ações: set()\n",
      "O Dynamo comprou as ações: {'RENT3', 'MOVI3'}\n",
      "--------------------------------------------------------------------------------\n",
      "Comparando o portfólio de 05/2023 e 06/2023:\n",
      "O Dynamo vendeu as ações: {'B3SA3'}\n",
      "O Dynamo comprou as ações: {'UGPA3', 'RAIZ4'}\n",
      "--------------------------------------------------------------------------------\n",
      "Comparando o portfólio de 06/2023 e 07/2023:\n",
      "O Dynamo vendeu as ações: {'RAIZ4'}\n",
      "O Dynamo comprou as ações: {'GGPS3'}\n",
      "--------------------------------------------------------------------------------\n",
      "Comparando o portfólio de 07/2023 e 08/2023:\n",
      "O Dynamo vendeu as ações: set()\n",
      "O Dynamo comprou as ações: set()\n",
      "--------------------------------------------------------------------------------\n",
      "Comparando o portfólio de 08/2023 e 09/2023:\n",
      "O Dynamo vendeu as ações: {'PORT3'}\n",
      "O Dynamo comprou as ações: {'RAIZ4'}\n",
      "--------------------------------------------------------------------------------\n",
      "Comparando o portfólio de 09/2023 e 10/2023:\n",
      "O Dynamo vendeu as ações: {'MOVI3'}\n",
      "O Dynamo comprou as ações: {'RAIL3'}\n",
      "--------------------------------------------------------------------------------\n"
     ]
    }
   ],
   "source": [
    "# Selecionando o conjunto de ações (portfólio) de cada mês - retornando um df com vários dicionários\n",
    "portfolio_mensal = portfolio_dynamo.groupby('data')['CD_ATIVO'].apply(set)\n",
    "\n",
    "# Convertendo o GroupBy resultante em DataFrame para facilitar a iteração\n",
    "portfolio_mensal = portfolio_mensal.reset_index()\n",
    "\n",
    "# Comparando o portfólio de cada mês\n",
    "comparar_portfolios(df=portfolio_mensal, nome_fundo='Dynamo')"
   ]
  },
  {
   "cell_type": "code",
   "execution_count": 214,
   "metadata": {},
   "outputs": [
    {
     "data": {
      "text/plain": [
       "data\n",
       "2023-01-01    30\n",
       "2023-02-01    27\n",
       "2023-03-01    27\n",
       "2023-04-01    28\n",
       "2023-05-01    30\n",
       "2023-06-01    31\n",
       "2023-07-01    31\n",
       "2023-08-01    31\n",
       "2023-09-01    31\n",
       "2023-10-01    31\n",
       "Name: CD_ATIVO, dtype: int64"
      ]
     },
     "execution_count": 214,
     "metadata": {},
     "output_type": "execute_result"
    }
   ],
   "source": [
    "# Número total de ações de cada mês do portfpolio\n",
    "num_total_acoes(df=portfolio_dynamo)"
   ]
  },
  {
   "cell_type": "code",
   "execution_count": 262,
   "metadata": {},
   "outputs": [
    {
     "data": {
      "text/plain": [
       "data\n",
       "2023-01-01    [ENEV3, VBBR3, CSAN3, RENT3, NTCO3]\n",
       "2023-02-01    [ENEV3, VBBR3, CSAN3, NTCO3, RDOR3]\n",
       "2023-03-01    [ENEV3, VBBR3, CSAN3, NTCO3, RDOR3]\n",
       "2023-04-01    [ENEV3, CSAN3, VBBR3, RDOR3, NTCO3]\n",
       "2023-05-01    [ENEV3, VBBR3, RDOR3, SUZB3, NTCO3]\n",
       "2023-06-01    [ENEV3, VBBR3, RDOR3, NTCO3, CSAN3]\n",
       "2023-07-01    [ENEV3, RDOR3, VBBR3, NTCO3, CSAN3]\n",
       "2023-08-01    [ENEV3, VBBR3, RDOR3, NTCO3, CSAN3]\n",
       "2023-09-01    [ENEV3, VBBR3, RDOR3, NTCO3, CSAN3]\n",
       "2023-10-01    [VBBR3, ENEV3, RDOR3, NTCO3, CSAN3]\n",
       "Name: CD_ATIVO, dtype: object"
      ]
     },
     "execution_count": 262,
     "metadata": {},
     "output_type": "execute_result"
    }
   ],
   "source": [
    "# Rank das 5 maiores ações do fundo\n",
    "rank_top_5(df=portfolio_dynamo)"
   ]
  },
  {
   "cell_type": "code",
   "execution_count": 263,
   "metadata": {},
   "outputs": [
    {
     "data": {
      "application/vnd.plotly.v1+json": {
       "config": {
        "plotlyServerURL": "https://plot.ly"
       },
       "data": [
        {
         "name": "01/2023",
         "orientation": "h",
         "type": "bar",
         "x": [
          14.765877424635022,
          11.07825052007119,
          10.6247124944188,
          10.012880702346589,
          9.379016474310077,
          8.072363780450305,
          4.152046132064057,
          4.09250773290329,
          3.705219353386213,
          3.58791175239783,
          3.4060094354081563,
          2.398329166506385,
          2.3853964968795194,
          1.8702021228269579,
          1.725919261190157,
          1.5602158188310689,
          1.5209167120349258,
          1.25216730450132,
          0.9507150888533329,
          0.9112457785494049,
          0.6885484099575644,
          0.6171324649967369,
          0.3903369004221366,
          0.3325170933372171,
          0.2965055317319719,
          0.1457325034270013,
          0.04592961400332403,
          0.015336434583773982,
          0.009267522388994224,
          0.00678997258669486
         ],
         "xaxis": "x",
         "y": [
          "ENEV3",
          "VBBR3",
          "CSAN3",
          "RENT3",
          "NTCO3",
          "RDOR3",
          "SUZB3",
          "ALPA4",
          "GOAU4",
          "ITSA4",
          "RADL3",
          "ARZZ3",
          "CYRE3",
          "WEGE3",
          "VALE3",
          "VVEO3",
          "EQTL3",
          "SMFT3",
          "ANIM3",
          "PORT3",
          "ITUB4",
          "DASA3",
          "B3SA3",
          "OFSA3",
          "PETR3",
          "PETR4",
          "HBRE3",
          "GGBR4",
          "ENJU3",
          "ALPA3"
         ],
         "yaxis": "y"
        },
        {
         "name": "02/2023",
         "orientation": "h",
         "type": "bar",
         "x": [
          15.95366267285021,
          11.47013059455015,
          11.27293054972163,
          11.20045267584279,
          9.02006238455575,
          6.179784039751379,
          4.289163075468366,
          3.647644915747493,
          3.4696319010302927,
          3.230959069573848,
          2.704352132166014,
          2.6565471686891,
          2.557386414666377,
          2.529127307267209,
          2.1721801960425338,
          1.654297101283722,
          1.523331356349854,
          1.0004067073221041,
          0.774908921761218,
          0.6536519423017334,
          0.6458370322732407,
          0.5869708496890812,
          0.379024184994646,
          0.3569274755697377,
          0.05078425255095819,
          0.01945422053677724,
          0.00039085744380046273
         ],
         "xaxis": "x2",
         "y": [
          "ENEV3",
          "VBBR3",
          "CSAN3",
          "NTCO3",
          "RDOR3",
          "SUZB3",
          "ITSA4",
          "RADL3",
          "ALPA4",
          "GOAU4",
          "EQTL3",
          "VALE3",
          "ARZZ3",
          "CYRE3",
          "WEGE3",
          "VVEO3",
          "SMFT3",
          "PORT3",
          "ANIM3",
          "B3SA3",
          "DASA3",
          "CCRO3",
          "OFSA3",
          "GGBR4",
          "HBRE3",
          "ALPA3",
          "ENJU3"
         ],
         "yaxis": "y2"
        },
        {
         "name": "03/2023",
         "orientation": "h",
         "type": "bar",
         "x": [
          16.30237335980889,
          12.21641205208508,
          12.10809220533475,
          10.405276565534221,
          10.03932710467092,
          5.890450742921093,
          4.036666892589828,
          3.7700440028008924,
          3.2860035333500055,
          3.091289327610335,
          2.425196383555269,
          2.120477131389838,
          2.050934287863492,
          1.797263263465192,
          1.681758527536694,
          1.576554330015029,
          1.452152381957914,
          1.267002085263615,
          1.044143350068401,
          0.9274370031553933,
          0.6914126686928682,
          0.6628271246413736,
          0.5992948736389929,
          0.4036761783868706,
          0.07982523624738634,
          0.04962665936221503,
          0.02448272805342927
         ],
         "xaxis": "x3",
         "y": [
          "ENEV3",
          "VBBR3",
          "CSAN3",
          "NTCO3",
          "RDOR3",
          "SUZB3",
          "ITSA4",
          "GOAU4",
          "ALPA4",
          "EQTL3",
          "WEGE3",
          "RADL3",
          "ARZZ3",
          "CYRE3",
          "VALE3",
          "VVEO3",
          "SMFT3",
          "CCRO3",
          "ASAI3",
          "PORT3",
          "B3SA3",
          "ANIM3",
          "DASA3",
          "OFSA3",
          "OPCT3",
          "HBRE3",
          "ALPA3"
         ],
         "yaxis": "y3"
        },
        {
         "name": "04/2023",
         "orientation": "h",
         "type": "bar",
         "x": [
          17.3017834570216,
          11.16107899939211,
          11.05272659816771,
          10.335349288227679,
          9.131423784156997,
          8.128174121150847,
          4.173127728706421,
          4.044904563454152,
          2.962248977292881,
          2.7711160022962122,
          2.4076869374798098,
          2.293378106420663,
          2.239673432151287,
          1.9429677161885681,
          1.640806084671625,
          1.623738831494725,
          1.4846757121870149,
          1.238428325289015,
          0.8767571366091289,
          0.8117685135619224,
          0.7878402740661884,
          0.5973882066027638,
          0.40343885655979284,
          0.2372297672902035,
          0.1577582415491394,
          0.1133625692539678,
          0.04758106336267976,
          0.03358670539486716
         ],
         "xaxis": "x4",
         "y": [
          "ENEV3",
          "CSAN3",
          "VBBR3",
          "RDOR3",
          "NTCO3",
          "SUZB3",
          "ITSA4",
          "GOAU4",
          "RADL3",
          "ALPA4",
          "WEGE3",
          "CYRE3",
          "VVEO3",
          "EQTL3",
          "SMFT3",
          "ARZZ3",
          "VALE3",
          "CCRO3",
          "DASA3",
          "ASAI3",
          "PORT3",
          "ANIM3",
          "OFSA3",
          "GGBR4",
          "B3SA3",
          "OPCT3",
          "HBRE3",
          "ALPA3"
         ],
         "yaxis": "y4"
        },
        {
         "name": "05/2023",
         "orientation": "h",
         "type": "bar",
         "x": [
          13.903511312918981,
          11.54073993581091,
          11.30439135462951,
          9.185669900226602,
          9.122007907416313,
          8.33977773697648,
          7.445042728858082,
          3.6036772756016666,
          3.3576953967213914,
          3.330395535924641,
          3.118477656374062,
          2.024042304475746,
          1.945927537946368,
          1.940036923355086,
          1.751681208443149,
          1.549153528877661,
          1.514246428985153,
          1.057862223702447,
          0.7939400896586646,
          0.7475997270457503,
          0.6165054392088132,
          0.5604082908763613,
          0.5453235372371686,
          0.3144358062652855,
          0.1203296380636996,
          0.09809302934555587,
          0.07127531510251683,
          0.043939229508737035,
          0.039076787064067094,
          0.014736213379139308
         ],
         "xaxis": "x5",
         "y": [
          "ENEV3",
          "VBBR3",
          "RDOR3",
          "SUZB3",
          "NTCO3",
          "CSAN3",
          "RENT3",
          "ALPA4",
          "ITSA4",
          "GOAU4",
          "RADL3",
          "VALE3",
          "VVEO3",
          "CYRE3",
          "WEGE3",
          "EQTL3",
          "ARZZ3",
          "CCRO3",
          "SMFT3",
          "DASA3",
          "ANIM3",
          "ASAI3",
          "PORT3",
          "OFSA3",
          "OPCT3",
          "MOVI3",
          "B3SA3",
          "HBRE3",
          "ALPA3",
          "GGBR4"
         ],
         "yaxis": "y5"
        },
        {
         "name": "06/2023",
         "orientation": "h",
         "type": "bar",
         "x": [
          13.87709337463855,
          11.79835917668844,
          11.65500019669595,
          10.066171515666671,
          8.984968479325309,
          7.657013295574696,
          7.075246124783517,
          3.5081073329182813,
          3.3755495465170946,
          3.2153507357064006,
          2.891236204257964,
          2.289436774889458,
          2.240868418075928,
          2.0634610025754276,
          1.6851358291061789,
          1.60986466169094,
          1.5664379622181022,
          0.7946397939487658,
          0.7433100131279273,
          0.5276264539995719,
          0.4996374580104974,
          0.4743685072804811,
          0.3354042141659847,
          0.2843583033682928,
          0.24093178792429581,
          0.1840302949381581,
          0.1268545994992014,
          0.12106871514126401,
          0.05007276120468877,
          0.039089406019976965,
          0.01930706004199454
         ],
         "xaxis": "x6",
         "y": [
          "ENEV3",
          "VBBR3",
          "RDOR3",
          "NTCO3",
          "CSAN3",
          "SUZB3",
          "RENT3",
          "RADL3",
          "ITSA4",
          "GOAU4",
          "ALPA4",
          "VALE3",
          "ARZZ3",
          "VVEO3",
          "EQTL3",
          "WEGE3",
          "CCRO3",
          "ANIM3",
          "DASA3",
          "PORT3",
          "ASAI3",
          "SMFT3",
          "OFSA3",
          "CYRE3",
          "UGPA3",
          "RAIZ4",
          "OPCT3",
          "GGBR4",
          "HBRE3",
          "ALPA3",
          "MOVI3"
         ],
         "yaxis": "y6"
        },
        {
         "name": "07/2023",
         "orientation": "h",
         "type": "bar",
         "x": [
          14.820368205006428,
          12.36910416580079,
          10.974264126624469,
          10.76765316781227,
          9.480767308576477,
          6.795738700085008,
          6.705554257700895,
          4.3583351079069494,
          3.061490785544449,
          2.797008919524103,
          2.4626027482225092,
          2.214540249092367,
          2.1324842895060527,
          2.107077334826375,
          1.712513325934754,
          1.668539846175984,
          1.372778123235,
          0.8152087635499781,
          0.8002939946177795,
          0.6256384495817041,
          0.3837840819061893,
          0.3564510092127514,
          0.3030191887990484,
          0.266217150204393,
          0.25432374251950424,
          0.159979884992952,
          0.1433559286906719,
          0.04506966465888939,
          0.03834830092634542,
          0.007227013277754544,
          0.00026216548714508514
         ],
         "xaxis": "x7",
         "y": [
          "ENEV3",
          "RDOR3",
          "VBBR3",
          "NTCO3",
          "CSAN3",
          "RENT3",
          "SUZB3",
          "RADL3",
          "GOAU4",
          "ALPA4",
          "VALE3",
          "ITSA4",
          "VVEO3",
          "EQTL3",
          "CCRO3",
          "WEGE3",
          "ARZZ3",
          "DASA3",
          "ANIM3",
          "GGPS3",
          "CYRE3",
          "PORT3",
          "OFSA3",
          "SMFT3",
          "ASAI3",
          "UGPA3",
          "OPCT3",
          "HBRE3",
          "ALPA3",
          "GGBR4",
          "MOVI3"
         ],
         "yaxis": "y7"
        },
        {
         "name": "08/2023",
         "orientation": "h",
         "type": "bar",
         "x": [
          14.697231538867511,
          12.98474662313613,
          10.93708128243819,
          9.96903184126448,
          8.534865055754729,
          7.7145880268909215,
          5.47633132513154,
          4.663027833018895,
          3.617864725521327,
          3.3553266916386564,
          2.804544627570043,
          2.544313701696575,
          2.286928689365388,
          2.097117739511101,
          1.646577669983923,
          1.490415233244562,
          1.441639793831436,
          0.9172338905886085,
          0.5748992464034016,
          0.5240318839311294,
          0.4215212714843472,
          0.3258056590572804,
          0.2662370448449811,
          0.1661022506316479,
          0.1604376442620494,
          0.1491604115931204,
          0.1046332485429548,
          0.06149549372992145,
          0.03759768788848753,
          0.02799940663993386,
          0.001212461536738869
         ],
         "xaxis": "x8",
         "y": [
          "ENEV3",
          "VBBR3",
          "RDOR3",
          "NTCO3",
          "CSAN3",
          "SUZB3",
          "RENT3",
          "RADL3",
          "CCRO3",
          "VVEO3",
          "GOAU4",
          "VALE3",
          "ALPA4",
          "ITSA4",
          "WEGE3",
          "EQTL3",
          "ARZZ3",
          "GGPS3",
          "DASA3",
          "ANIM3",
          "CYRE3",
          "OFSA3",
          "SMFT3",
          "PORT3",
          "ASAI3",
          "OPCT3",
          "UGPA3",
          "GGBR4",
          "ALPA3",
          "HBRE3",
          "MOVI3"
         ],
         "yaxis": "y8"
        },
        {
         "name": "09/2023",
         "orientation": "h",
         "type": "bar",
         "x": [
          14.831459557083521,
          13.27395124755754,
          10.7453334151386,
          9.516783797187683,
          8.328191023933961,
          8.251602312410217,
          4.90597439179054,
          4.673891699844598,
          4.018048149393242,
          3.0321417994091897,
          2.638742727458592,
          2.626024310793681,
          2.041492660730937,
          1.857949122088941,
          1.7924685846651502,
          1.767020992201096,
          1.505348976510561,
          0.9945646723228755,
          0.6865566136664062,
          0.6080838857005227,
          0.44083087792604814,
          0.3233456480593212,
          0.305522407464906,
          0.1646212057817589,
          0.1521322547807255,
          0.1274710238213955,
          0.1261146165005382,
          0.1044540816019728,
          0.09788613745431889,
          0.03506926061287508,
          0.026922546108285098
         ],
         "xaxis": "x9",
         "y": [
          "ENEV3",
          "VBBR3",
          "RDOR3",
          "NTCO3",
          "CSAN3",
          "SUZB3",
          "RENT3",
          "RADL3",
          "CCRO3",
          "VVEO3",
          "GOAU4",
          "VALE3",
          "ITSA4",
          "WEGE3",
          "ARZZ3",
          "ALPA4",
          "EQTL3",
          "GGPS3",
          "DASA3",
          "CYRE3",
          "ANIM3",
          "ASAI3",
          "OFSA3",
          "OPCT3",
          "UGPA3",
          "GGBR4",
          "RAIZ4",
          "SMFT3",
          "MOVI3",
          "ALPA3",
          "HBRE3"
         ],
         "yaxis": "y9"
        },
        {
         "name": "10/2023",
         "orientation": "h",
         "type": "bar",
         "x": [
          15.7568905776551,
          15.1011312964733,
          11.007545781863021,
          9.457680784353187,
          8.68492469852496,
          5.727888178761348,
          4.86812191613747,
          4.059739828908752,
          3.058968695023556,
          2.77439403616579,
          2.583699500460148,
          2.496899093264732,
          2.34757337880363,
          2.274196461900302,
          1.956039906541734,
          1.3122925555763019,
          1.217427203897987,
          1.184836485554741,
          1.109437766421543,
          0.6254767239370598,
          0.5980098913296577,
          0.4236942968599818,
          0.3092026761725417,
          0.23918515548733768,
          0.1781474426285552,
          0.1539021357519458,
          0.1538546162780082,
          0.14743337553074998,
          0.1201608854910012,
          0.04380222031440763,
          0.02744243393113961
         ],
         "xaxis": "x10",
         "y": [
          "VBBR3",
          "ENEV3",
          "RDOR3",
          "NTCO3",
          "CSAN3",
          "CCRO3",
          "RENT3",
          "RADL3",
          "VVEO3",
          "GOAU4",
          "VALE3",
          "WEGE3",
          "ARZZ3",
          "ALPA4",
          "ITSA4",
          "RAIL3",
          "GGPS3",
          "SUZB3",
          "EQTL3",
          "CYRE3",
          "DASA3",
          "ANIM3",
          "OFSA3",
          "RAIZ4",
          "ASAI3",
          "UGPA3",
          "OPCT3",
          "SMFT3",
          "GGBR4",
          "ALPA3",
          "HBRE3"
         ],
         "yaxis": "y10"
        }
       ],
       "layout": {
        "annotations": [
         {
          "font": {
           "size": 16
          },
          "showarrow": false,
          "text": "Distribuição Percentual do Portfólio - 01/2023",
          "x": 0.5,
          "xanchor": "center",
          "xref": "paper",
          "y": 0.9999999999999999,
          "yanchor": "bottom",
          "yref": "paper"
         },
         {
          "font": {
           "size": 16
          },
          "showarrow": false,
          "text": "Distribuição Percentual do Portfólio - 02/2023",
          "x": 0.5,
          "xanchor": "center",
          "xref": "paper",
          "y": 0.898,
          "yanchor": "bottom",
          "yref": "paper"
         },
         {
          "font": {
           "size": 16
          },
          "showarrow": false,
          "text": "Distribuição Percentual do Portfólio - 03/2023",
          "x": 0.5,
          "xanchor": "center",
          "xref": "paper",
          "y": 0.796,
          "yanchor": "bottom",
          "yref": "paper"
         },
         {
          "font": {
           "size": 16
          },
          "showarrow": false,
          "text": "Distribuição Percentual do Portfólio - 04/2023",
          "x": 0.5,
          "xanchor": "center",
          "xref": "paper",
          "y": 0.6940000000000001,
          "yanchor": "bottom",
          "yref": "paper"
         },
         {
          "font": {
           "size": 16
          },
          "showarrow": false,
          "text": "Distribuição Percentual do Portfólio - 05/2023",
          "x": 0.5,
          "xanchor": "center",
          "xref": "paper",
          "y": 0.592,
          "yanchor": "bottom",
          "yref": "paper"
         },
         {
          "font": {
           "size": 16
          },
          "showarrow": false,
          "text": "Distribuição Percentual do Portfólio - 06/2023",
          "x": 0.5,
          "xanchor": "center",
          "xref": "paper",
          "y": 0.49000000000000005,
          "yanchor": "bottom",
          "yref": "paper"
         },
         {
          "font": {
           "size": 16
          },
          "showarrow": false,
          "text": "Distribuição Percentual do Portfólio - 07/2023",
          "x": 0.5,
          "xanchor": "center",
          "xref": "paper",
          "y": 0.388,
          "yanchor": "bottom",
          "yref": "paper"
         },
         {
          "font": {
           "size": 16
          },
          "showarrow": false,
          "text": "Distribuição Percentual do Portfólio - 08/2023",
          "x": 0.5,
          "xanchor": "center",
          "xref": "paper",
          "y": 0.28600000000000003,
          "yanchor": "bottom",
          "yref": "paper"
         },
         {
          "font": {
           "size": 16
          },
          "showarrow": false,
          "text": "Distribuição Percentual do Portfólio - 09/2023",
          "x": 0.5,
          "xanchor": "center",
          "xref": "paper",
          "y": 0.184,
          "yanchor": "bottom",
          "yref": "paper"
         },
         {
          "font": {
           "size": 16
          },
          "showarrow": false,
          "text": "Distribuição Percentual do Portfólio - 10/2023",
          "x": 0.5,
          "xanchor": "center",
          "xref": "paper",
          "y": 0.082,
          "yanchor": "bottom",
          "yref": "paper"
         }
        ],
        "height": 6000,
        "template": {
         "data": {
          "bar": [
           {
            "error_x": {
             "color": "#2a3f5f"
            },
            "error_y": {
             "color": "#2a3f5f"
            },
            "marker": {
             "line": {
              "color": "#E5ECF6",
              "width": 0.5
             },
             "pattern": {
              "fillmode": "overlay",
              "size": 10,
              "solidity": 0.2
             }
            },
            "type": "bar"
           }
          ],
          "barpolar": [
           {
            "marker": {
             "line": {
              "color": "#E5ECF6",
              "width": 0.5
             },
             "pattern": {
              "fillmode": "overlay",
              "size": 10,
              "solidity": 0.2
             }
            },
            "type": "barpolar"
           }
          ],
          "carpet": [
           {
            "aaxis": {
             "endlinecolor": "#2a3f5f",
             "gridcolor": "white",
             "linecolor": "white",
             "minorgridcolor": "white",
             "startlinecolor": "#2a3f5f"
            },
            "baxis": {
             "endlinecolor": "#2a3f5f",
             "gridcolor": "white",
             "linecolor": "white",
             "minorgridcolor": "white",
             "startlinecolor": "#2a3f5f"
            },
            "type": "carpet"
           }
          ],
          "choropleth": [
           {
            "colorbar": {
             "outlinewidth": 0,
             "ticks": ""
            },
            "type": "choropleth"
           }
          ],
          "contour": [
           {
            "colorbar": {
             "outlinewidth": 0,
             "ticks": ""
            },
            "colorscale": [
             [
              0,
              "#0d0887"
             ],
             [
              0.1111111111111111,
              "#46039f"
             ],
             [
              0.2222222222222222,
              "#7201a8"
             ],
             [
              0.3333333333333333,
              "#9c179e"
             ],
             [
              0.4444444444444444,
              "#bd3786"
             ],
             [
              0.5555555555555556,
              "#d8576b"
             ],
             [
              0.6666666666666666,
              "#ed7953"
             ],
             [
              0.7777777777777778,
              "#fb9f3a"
             ],
             [
              0.8888888888888888,
              "#fdca26"
             ],
             [
              1,
              "#f0f921"
             ]
            ],
            "type": "contour"
           }
          ],
          "contourcarpet": [
           {
            "colorbar": {
             "outlinewidth": 0,
             "ticks": ""
            },
            "type": "contourcarpet"
           }
          ],
          "heatmap": [
           {
            "colorbar": {
             "outlinewidth": 0,
             "ticks": ""
            },
            "colorscale": [
             [
              0,
              "#0d0887"
             ],
             [
              0.1111111111111111,
              "#46039f"
             ],
             [
              0.2222222222222222,
              "#7201a8"
             ],
             [
              0.3333333333333333,
              "#9c179e"
             ],
             [
              0.4444444444444444,
              "#bd3786"
             ],
             [
              0.5555555555555556,
              "#d8576b"
             ],
             [
              0.6666666666666666,
              "#ed7953"
             ],
             [
              0.7777777777777778,
              "#fb9f3a"
             ],
             [
              0.8888888888888888,
              "#fdca26"
             ],
             [
              1,
              "#f0f921"
             ]
            ],
            "type": "heatmap"
           }
          ],
          "heatmapgl": [
           {
            "colorbar": {
             "outlinewidth": 0,
             "ticks": ""
            },
            "colorscale": [
             [
              0,
              "#0d0887"
             ],
             [
              0.1111111111111111,
              "#46039f"
             ],
             [
              0.2222222222222222,
              "#7201a8"
             ],
             [
              0.3333333333333333,
              "#9c179e"
             ],
             [
              0.4444444444444444,
              "#bd3786"
             ],
             [
              0.5555555555555556,
              "#d8576b"
             ],
             [
              0.6666666666666666,
              "#ed7953"
             ],
             [
              0.7777777777777778,
              "#fb9f3a"
             ],
             [
              0.8888888888888888,
              "#fdca26"
             ],
             [
              1,
              "#f0f921"
             ]
            ],
            "type": "heatmapgl"
           }
          ],
          "histogram": [
           {
            "marker": {
             "pattern": {
              "fillmode": "overlay",
              "size": 10,
              "solidity": 0.2
             }
            },
            "type": "histogram"
           }
          ],
          "histogram2d": [
           {
            "colorbar": {
             "outlinewidth": 0,
             "ticks": ""
            },
            "colorscale": [
             [
              0,
              "#0d0887"
             ],
             [
              0.1111111111111111,
              "#46039f"
             ],
             [
              0.2222222222222222,
              "#7201a8"
             ],
             [
              0.3333333333333333,
              "#9c179e"
             ],
             [
              0.4444444444444444,
              "#bd3786"
             ],
             [
              0.5555555555555556,
              "#d8576b"
             ],
             [
              0.6666666666666666,
              "#ed7953"
             ],
             [
              0.7777777777777778,
              "#fb9f3a"
             ],
             [
              0.8888888888888888,
              "#fdca26"
             ],
             [
              1,
              "#f0f921"
             ]
            ],
            "type": "histogram2d"
           }
          ],
          "histogram2dcontour": [
           {
            "colorbar": {
             "outlinewidth": 0,
             "ticks": ""
            },
            "colorscale": [
             [
              0,
              "#0d0887"
             ],
             [
              0.1111111111111111,
              "#46039f"
             ],
             [
              0.2222222222222222,
              "#7201a8"
             ],
             [
              0.3333333333333333,
              "#9c179e"
             ],
             [
              0.4444444444444444,
              "#bd3786"
             ],
             [
              0.5555555555555556,
              "#d8576b"
             ],
             [
              0.6666666666666666,
              "#ed7953"
             ],
             [
              0.7777777777777778,
              "#fb9f3a"
             ],
             [
              0.8888888888888888,
              "#fdca26"
             ],
             [
              1,
              "#f0f921"
             ]
            ],
            "type": "histogram2dcontour"
           }
          ],
          "mesh3d": [
           {
            "colorbar": {
             "outlinewidth": 0,
             "ticks": ""
            },
            "type": "mesh3d"
           }
          ],
          "parcoords": [
           {
            "line": {
             "colorbar": {
              "outlinewidth": 0,
              "ticks": ""
             }
            },
            "type": "parcoords"
           }
          ],
          "pie": [
           {
            "automargin": true,
            "type": "pie"
           }
          ],
          "scatter": [
           {
            "fillpattern": {
             "fillmode": "overlay",
             "size": 10,
             "solidity": 0.2
            },
            "type": "scatter"
           }
          ],
          "scatter3d": [
           {
            "line": {
             "colorbar": {
              "outlinewidth": 0,
              "ticks": ""
             }
            },
            "marker": {
             "colorbar": {
              "outlinewidth": 0,
              "ticks": ""
             }
            },
            "type": "scatter3d"
           }
          ],
          "scattercarpet": [
           {
            "marker": {
             "colorbar": {
              "outlinewidth": 0,
              "ticks": ""
             }
            },
            "type": "scattercarpet"
           }
          ],
          "scattergeo": [
           {
            "marker": {
             "colorbar": {
              "outlinewidth": 0,
              "ticks": ""
             }
            },
            "type": "scattergeo"
           }
          ],
          "scattergl": [
           {
            "marker": {
             "colorbar": {
              "outlinewidth": 0,
              "ticks": ""
             }
            },
            "type": "scattergl"
           }
          ],
          "scattermapbox": [
           {
            "marker": {
             "colorbar": {
              "outlinewidth": 0,
              "ticks": ""
             }
            },
            "type": "scattermapbox"
           }
          ],
          "scatterpolar": [
           {
            "marker": {
             "colorbar": {
              "outlinewidth": 0,
              "ticks": ""
             }
            },
            "type": "scatterpolar"
           }
          ],
          "scatterpolargl": [
           {
            "marker": {
             "colorbar": {
              "outlinewidth": 0,
              "ticks": ""
             }
            },
            "type": "scatterpolargl"
           }
          ],
          "scatterternary": [
           {
            "marker": {
             "colorbar": {
              "outlinewidth": 0,
              "ticks": ""
             }
            },
            "type": "scatterternary"
           }
          ],
          "surface": [
           {
            "colorbar": {
             "outlinewidth": 0,
             "ticks": ""
            },
            "colorscale": [
             [
              0,
              "#0d0887"
             ],
             [
              0.1111111111111111,
              "#46039f"
             ],
             [
              0.2222222222222222,
              "#7201a8"
             ],
             [
              0.3333333333333333,
              "#9c179e"
             ],
             [
              0.4444444444444444,
              "#bd3786"
             ],
             [
              0.5555555555555556,
              "#d8576b"
             ],
             [
              0.6666666666666666,
              "#ed7953"
             ],
             [
              0.7777777777777778,
              "#fb9f3a"
             ],
             [
              0.8888888888888888,
              "#fdca26"
             ],
             [
              1,
              "#f0f921"
             ]
            ],
            "type": "surface"
           }
          ],
          "table": [
           {
            "cells": {
             "fill": {
              "color": "#EBF0F8"
             },
             "line": {
              "color": "white"
             }
            },
            "header": {
             "fill": {
              "color": "#C8D4E3"
             },
             "line": {
              "color": "white"
             }
            },
            "type": "table"
           }
          ]
         },
         "layout": {
          "annotationdefaults": {
           "arrowcolor": "#2a3f5f",
           "arrowhead": 0,
           "arrowwidth": 1
          },
          "autotypenumbers": "strict",
          "coloraxis": {
           "colorbar": {
            "outlinewidth": 0,
            "ticks": ""
           }
          },
          "colorscale": {
           "diverging": [
            [
             0,
             "#8e0152"
            ],
            [
             0.1,
             "#c51b7d"
            ],
            [
             0.2,
             "#de77ae"
            ],
            [
             0.3,
             "#f1b6da"
            ],
            [
             0.4,
             "#fde0ef"
            ],
            [
             0.5,
             "#f7f7f7"
            ],
            [
             0.6,
             "#e6f5d0"
            ],
            [
             0.7,
             "#b8e186"
            ],
            [
             0.8,
             "#7fbc41"
            ],
            [
             0.9,
             "#4d9221"
            ],
            [
             1,
             "#276419"
            ]
           ],
           "sequential": [
            [
             0,
             "#0d0887"
            ],
            [
             0.1111111111111111,
             "#46039f"
            ],
            [
             0.2222222222222222,
             "#7201a8"
            ],
            [
             0.3333333333333333,
             "#9c179e"
            ],
            [
             0.4444444444444444,
             "#bd3786"
            ],
            [
             0.5555555555555556,
             "#d8576b"
            ],
            [
             0.6666666666666666,
             "#ed7953"
            ],
            [
             0.7777777777777778,
             "#fb9f3a"
            ],
            [
             0.8888888888888888,
             "#fdca26"
            ],
            [
             1,
             "#f0f921"
            ]
           ],
           "sequentialminus": [
            [
             0,
             "#0d0887"
            ],
            [
             0.1111111111111111,
             "#46039f"
            ],
            [
             0.2222222222222222,
             "#7201a8"
            ],
            [
             0.3333333333333333,
             "#9c179e"
            ],
            [
             0.4444444444444444,
             "#bd3786"
            ],
            [
             0.5555555555555556,
             "#d8576b"
            ],
            [
             0.6666666666666666,
             "#ed7953"
            ],
            [
             0.7777777777777778,
             "#fb9f3a"
            ],
            [
             0.8888888888888888,
             "#fdca26"
            ],
            [
             1,
             "#f0f921"
            ]
           ]
          },
          "colorway": [
           "#636efa",
           "#EF553B",
           "#00cc96",
           "#ab63fa",
           "#FFA15A",
           "#19d3f3",
           "#FF6692",
           "#B6E880",
           "#FF97FF",
           "#FECB52"
          ],
          "font": {
           "color": "#2a3f5f"
          },
          "geo": {
           "bgcolor": "white",
           "lakecolor": "white",
           "landcolor": "#E5ECF6",
           "showlakes": true,
           "showland": true,
           "subunitcolor": "white"
          },
          "hoverlabel": {
           "align": "left"
          },
          "hovermode": "closest",
          "mapbox": {
           "style": "light"
          },
          "paper_bgcolor": "white",
          "plot_bgcolor": "#E5ECF6",
          "polar": {
           "angularaxis": {
            "gridcolor": "white",
            "linecolor": "white",
            "ticks": ""
           },
           "bgcolor": "#E5ECF6",
           "radialaxis": {
            "gridcolor": "white",
            "linecolor": "white",
            "ticks": ""
           }
          },
          "scene": {
           "xaxis": {
            "backgroundcolor": "#E5ECF6",
            "gridcolor": "white",
            "gridwidth": 2,
            "linecolor": "white",
            "showbackground": true,
            "ticks": "",
            "zerolinecolor": "white"
           },
           "yaxis": {
            "backgroundcolor": "#E5ECF6",
            "gridcolor": "white",
            "gridwidth": 2,
            "linecolor": "white",
            "showbackground": true,
            "ticks": "",
            "zerolinecolor": "white"
           },
           "zaxis": {
            "backgroundcolor": "#E5ECF6",
            "gridcolor": "white",
            "gridwidth": 2,
            "linecolor": "white",
            "showbackground": true,
            "ticks": "",
            "zerolinecolor": "white"
           }
          },
          "shapedefaults": {
           "line": {
            "color": "#2a3f5f"
           }
          },
          "ternary": {
           "aaxis": {
            "gridcolor": "white",
            "linecolor": "white",
            "ticks": ""
           },
           "baxis": {
            "gridcolor": "white",
            "linecolor": "white",
            "ticks": ""
           },
           "bgcolor": "#E5ECF6",
           "caxis": {
            "gridcolor": "white",
            "linecolor": "white",
            "ticks": ""
           }
          },
          "title": {
           "x": 0.05
          },
          "xaxis": {
           "automargin": true,
           "gridcolor": "white",
           "linecolor": "white",
           "ticks": "",
           "title": {
            "standoff": 15
           },
           "zerolinecolor": "white",
           "zerolinewidth": 2
          },
          "yaxis": {
           "automargin": true,
           "gridcolor": "white",
           "linecolor": "white",
           "ticks": "",
           "title": {
            "standoff": 15
           },
           "zerolinecolor": "white",
           "zerolinewidth": 2
          }
         }
        },
        "title": {
         "text": "Portfólio do Fundo Dynamo"
        },
        "width": 900,
        "xaxis": {
         "anchor": "y",
         "domain": [
          0,
          1
         ]
        },
        "xaxis10": {
         "anchor": "y10",
         "domain": [
          0,
          1
         ]
        },
        "xaxis2": {
         "anchor": "y2",
         "domain": [
          0,
          1
         ]
        },
        "xaxis3": {
         "anchor": "y3",
         "domain": [
          0,
          1
         ]
        },
        "xaxis4": {
         "anchor": "y4",
         "domain": [
          0,
          1
         ]
        },
        "xaxis5": {
         "anchor": "y5",
         "domain": [
          0,
          1
         ]
        },
        "xaxis6": {
         "anchor": "y6",
         "domain": [
          0,
          1
         ]
        },
        "xaxis7": {
         "anchor": "y7",
         "domain": [
          0,
          1
         ]
        },
        "xaxis8": {
         "anchor": "y8",
         "domain": [
          0,
          1
         ]
        },
        "xaxis9": {
         "anchor": "y9",
         "domain": [
          0,
          1
         ]
        },
        "yaxis": {
         "anchor": "x",
         "domain": [
          0.9179999999999999,
          0.9999999999999999
         ]
        },
        "yaxis10": {
         "anchor": "x10",
         "domain": [
          0,
          0.082
         ]
        },
        "yaxis2": {
         "anchor": "x2",
         "domain": [
          0.8160000000000001,
          0.898
         ]
        },
        "yaxis3": {
         "anchor": "x3",
         "domain": [
          0.7140000000000001,
          0.796
         ]
        },
        "yaxis4": {
         "anchor": "x4",
         "domain": [
          0.6120000000000001,
          0.6940000000000001
         ]
        },
        "yaxis5": {
         "anchor": "x5",
         "domain": [
          0.51,
          0.592
         ]
        },
        "yaxis6": {
         "anchor": "x6",
         "domain": [
          0.40800000000000003,
          0.49000000000000005
         ]
        },
        "yaxis7": {
         "anchor": "x7",
         "domain": [
          0.306,
          0.388
         ]
        },
        "yaxis8": {
         "anchor": "x8",
         "domain": [
          0.20400000000000001,
          0.28600000000000003
         ]
        },
        "yaxis9": {
         "anchor": "x9",
         "domain": [
          0.10200000000000001,
          0.184
         ]
        }
       }
      }
     },
     "metadata": {},
     "output_type": "display_data"
    }
   ],
   "source": [
    "# Plotando o portfólio de cada mês\n",
    "plot_portfolio(df=portfolio_dynamo, nome_fundo='Dynamo')"
   ]
  },
  {
   "cell_type": "markdown",
   "metadata": {},
   "source": [
    "### Fundo IP"
   ]
  },
  {
   "cell_type": "markdown",
   "metadata": {},
   "source": [
    "* https://maisretorno.com/fundo/ip-participacoes-master-fia-bdr-nivel-i"
   ]
  },
  {
   "cell_type": "code",
   "execution_count": 264,
   "metadata": {},
   "outputs": [
    {
     "data": {
      "text/html": [
       "<div>\n",
       "<style scoped>\n",
       "    .dataframe tbody tr th:only-of-type {\n",
       "        vertical-align: middle;\n",
       "    }\n",
       "\n",
       "    .dataframe tbody tr th {\n",
       "        vertical-align: top;\n",
       "    }\n",
       "\n",
       "    .dataframe thead th {\n",
       "        text-align: right;\n",
       "    }\n",
       "</style>\n",
       "<table border=\"1\" class=\"dataframe\">\n",
       "  <thead>\n",
       "    <tr style=\"text-align: right;\">\n",
       "      <th></th>\n",
       "      <th>ret_mensal</th>\n",
       "    </tr>\n",
       "    <tr>\n",
       "      <th>DT_COMPTC</th>\n",
       "      <th></th>\n",
       "    </tr>\n",
       "  </thead>\n",
       "  <tbody>\n",
       "    <tr>\n",
       "      <th>2023-01-31</th>\n",
       "      <td>5.11</td>\n",
       "    </tr>\n",
       "    <tr>\n",
       "      <th>2023-02-28</th>\n",
       "      <td>-5.15</td>\n",
       "    </tr>\n",
       "    <tr>\n",
       "      <th>2023-03-31</th>\n",
       "      <td>0.56</td>\n",
       "    </tr>\n",
       "    <tr>\n",
       "      <th>2023-04-28</th>\n",
       "      <td>3.51</td>\n",
       "    </tr>\n",
       "    <tr>\n",
       "      <th>2023-05-31</th>\n",
       "      <td>3.03</td>\n",
       "    </tr>\n",
       "    <tr>\n",
       "      <th>2023-06-30</th>\n",
       "      <td>7.54</td>\n",
       "    </tr>\n",
       "    <tr>\n",
       "      <th>2023-07-31</th>\n",
       "      <td>4.21</td>\n",
       "    </tr>\n",
       "    <tr>\n",
       "      <th>2023-08-31</th>\n",
       "      <td>-0.94</td>\n",
       "    </tr>\n",
       "    <tr>\n",
       "      <th>2023-09-29</th>\n",
       "      <td>-1.87</td>\n",
       "    </tr>\n",
       "    <tr>\n",
       "      <th>2023-10-31</th>\n",
       "      <td>-3.69</td>\n",
       "    </tr>\n",
       "    <tr>\n",
       "      <th>2023-11-30</th>\n",
       "      <td>11.32</td>\n",
       "    </tr>\n",
       "    <tr>\n",
       "      <th>2023-12-29</th>\n",
       "      <td>4.86</td>\n",
       "    </tr>\n",
       "    <tr>\n",
       "      <th>2024-01-31</th>\n",
       "      <td>1.78</td>\n",
       "    </tr>\n",
       "    <tr>\n",
       "      <th>2024-02-29</th>\n",
       "      <td>3.35</td>\n",
       "    </tr>\n",
       "    <tr>\n",
       "      <th>2024-03-28</th>\n",
       "      <td>0.54</td>\n",
       "    </tr>\n",
       "    <tr>\n",
       "      <th>2024-04-30</th>\n",
       "      <td>-3.82</td>\n",
       "    </tr>\n",
       "  </tbody>\n",
       "</table>\n",
       "</div>"
      ],
      "text/plain": [
       "            ret_mensal\n",
       "DT_COMPTC             \n",
       "2023-01-31        5.11\n",
       "2023-02-28       -5.15\n",
       "2023-03-31        0.56\n",
       "2023-04-28        3.51\n",
       "2023-05-31        3.03\n",
       "2023-06-30        7.54\n",
       "2023-07-31        4.21\n",
       "2023-08-31       -0.94\n",
       "2023-09-29       -1.87\n",
       "2023-10-31       -3.69\n",
       "2023-11-30       11.32\n",
       "2023-12-29        4.86\n",
       "2024-01-31        1.78\n",
       "2024-02-29        3.35\n",
       "2024-03-28        0.54\n",
       "2024-04-30       -3.82"
      ]
     },
     "execution_count": 264,
     "metadata": {},
     "output_type": "execute_result"
    }
   ],
   "source": [
    "# Rentabilidade mensal\n",
    "df_ret_mensal = rentabilidade_fundo(df=df_inf_diario, cnpj='11.435.298/0001-89')[0]\n",
    "df_ret_mensal"
   ]
  },
  {
   "cell_type": "code",
   "execution_count": 265,
   "metadata": {},
   "outputs": [
    {
     "data": {
      "text/html": [
       "<div>\n",
       "<style scoped>\n",
       "    .dataframe tbody tr th:only-of-type {\n",
       "        vertical-align: middle;\n",
       "    }\n",
       "\n",
       "    .dataframe tbody tr th {\n",
       "        vertical-align: top;\n",
       "    }\n",
       "\n",
       "    .dataframe thead th {\n",
       "        text-align: right;\n",
       "    }\n",
       "</style>\n",
       "<table border=\"1\" class=\"dataframe\">\n",
       "  <thead>\n",
       "    <tr style=\"text-align: right;\">\n",
       "      <th></th>\n",
       "      <th>ret_anual</th>\n",
       "    </tr>\n",
       "    <tr>\n",
       "      <th>DT_COMPTC</th>\n",
       "      <th></th>\n",
       "    </tr>\n",
       "  </thead>\n",
       "  <tbody>\n",
       "    <tr>\n",
       "      <th>2023</th>\n",
       "      <td>30.94</td>\n",
       "    </tr>\n",
       "    <tr>\n",
       "      <th>2024</th>\n",
       "      <td>1.72</td>\n",
       "    </tr>\n",
       "  </tbody>\n",
       "</table>\n",
       "</div>"
      ],
      "text/plain": [
       "           ret_anual\n",
       "DT_COMPTC           \n",
       "2023           30.94\n",
       "2024            1.72"
      ]
     },
     "execution_count": 265,
     "metadata": {},
     "output_type": "execute_result"
    }
   ],
   "source": [
    "# Rentabilidade anual\n",
    "df_ret_anual = rentabilidade_fundo(df=df_inf_diario, cnpj='11.435.298/0001-89')[1]\n",
    "df_ret_anual"
   ]
  },
  {
   "cell_type": "code",
   "execution_count": 266,
   "metadata": {},
   "outputs": [],
   "source": [
    "ip_acoes, ip_bdr, ip_exterior, ip_cotas_fundos, ip_titulos_pub, ip_vendido_acoes = fundo_cnpj(df=df_ativos, cnpj='11.435.298/0001-89')\n",
    "ip_pl = pl_fundo(\n",
    "    path=f'C://Users//vitor//projetos_python//python_b3//historico-arquivos//fundos_investimentos//fundos_cvm//{ano}{mes}//cda_fi_PL_{ano}{mes}.parquet', \n",
    "    cnpj='11.435.298/0001-89'\n",
    ")\n",
    "\n",
    "# Quantos porcertos cada categoria representa do PL final\n",
    "pct_acoes = round(pd.Series(ip_acoes['VL_MERC_POS_FINAL'].sum() / ip_pl.values), 4) \n",
    "pct_bdr = round(pd.Series(ip_bdr['VL_MERC_POS_FINAL'].sum() / ip_pl.values), 4) \n",
    "pct_exterior = round(pd.Series(ip_exterior['VL_MERC_POS_FINAL'].sum() / ip_pl.values), 4) \n",
    "pct_cotas_fundos = round(pd.Series(ip_cotas_fundos['VL_MERC_POS_FINAL'].sum() / ip_pl.values), 4) \n",
    "pct_titulos_pub = round(pd.Series(ip_titulos_pub['VL_MERC_POS_FINAL'].sum() / ip_pl.values), 4) \n",
    "pct_vendido_acoes = round(pd.Series(ip_vendido_acoes['VL_MERC_POS_FINAL'].sum() / ip_pl.values), 4) \n",
    "\n",
    "# Criando a data do portfólio\n",
    "data = pd.to_datetime(f'{mes}-{ano}')\n",
    "\n",
    "# Adicionando a informação da porcentagem de cada categoria nos dfs\n",
    "# Ações\n",
    "linha_pct_acoes = {'DENOM_SOCIAL': 'PL% FUNDO', 'VL_MERC_POS_FINAL' : pct_acoes}\n",
    "df_linha_pct_acoes = pd.DataFrame(linha_pct_acoes)\n",
    "ip_acoes = pd.concat([ip_acoes, df_linha_pct_acoes])\n",
    "# Criando a coluna 'data' no df\n",
    "ip_acoes['data'] = data\n",
    "# Definindo a coluna 'data' como o index\n",
    "ip_acoes = ip_acoes.set_index('data')\n",
    "\n",
    "# BDRs\n",
    "linha_pct_bdr = {'DENOM_SOCIAL': 'PL% FUNDO', 'VL_MERC_POS_FINAL' : pct_bdr}\n",
    "df_linha_pct_bdr = pd.DataFrame(linha_pct_bdr)\n",
    "ip_bdr = pd.concat([ip_bdr, df_linha_pct_bdr])\n",
    "# Criando a coluna 'data' no df\n",
    "ip_bdr['data'] = data\n",
    "# Definindo a coluna 'data' como o index\n",
    "ip_bdr = ip_bdr.set_index('data')\n",
    "\n",
    "# Investimentos no Exterior\n",
    "linha_pct_exterior = {'DENOM_SOCIAL': 'PL% FUNDO', 'VL_MERC_POS_FINAL' : pct_exterior}\n",
    "df_linha_pct_exterior = pd.DataFrame(linha_pct_exterior)\n",
    "ip_exterior = pd.concat([ip_exterior, df_linha_pct_exterior])\n",
    "# Criando a coluna 'data' no df\n",
    "ip_exterior['data'] = data\n",
    "# Definindo a coluna 'data' como o index\n",
    "ip_exterior = ip_exterior.set_index('data')\n",
    "\n",
    "# Cotas de Fundos\n",
    "linha_pct_cotas_fundos = {'DENOM_SOCIAL': 'PL% FUNDO', 'VL_MERC_POS_FINAL' : pct_cotas_fundos}\n",
    "df_linha_pct_cotas_fundos = pd.DataFrame(linha_pct_cotas_fundos)\n",
    "ip_cotas_fundos = pd.concat([ip_cotas_fundos, df_linha_pct_cotas_fundos])\n",
    "# Criando a coluna 'data' no df\n",
    "ip_cotas_fundos['data'] = data\n",
    "# Definindo a coluna 'data' como o index\n",
    "ip_cotas_fundos = ip_cotas_fundos.set_index('data')\n",
    "\n",
    "# Títulos Públicos\n",
    "linha_pct_titulos_pub = {'DENOM_SOCIAL': 'PL% FUNDO', 'VL_MERC_POS_FINAL' : pct_titulos_pub}\n",
    "df_linha_pct_titulos_pub = pd.DataFrame(linha_pct_titulos_pub)\n",
    "ip_titulos_pub = pd.concat([ip_titulos_pub, df_linha_pct_titulos_pub])\n",
    "# Criando a coluna 'data' no df\n",
    "ip_titulos_pub['data'] = data\n",
    "# Definindo a coluna 'data' como o index\n",
    "ip_titulos_pub = ip_titulos_pub.set_index('data')\n",
    "\n",
    "# Vendido Ações\n",
    "linha_pct_vendido_acoes = {'DENOM_SOCIAL': 'PL% FUNDO', 'VL_MERC_POS_FINAL' : pct_vendido_acoes}\n",
    "df_linha_pct_vendido_acoes = pd.DataFrame(linha_pct_vendido_acoes)\n",
    "ip_vendido_acoes = pd.concat([ip_vendido_acoes, df_linha_pct_vendido_acoes])\n",
    "# Criando a coluna 'data' no df\n",
    "ip_vendido_acoes['data'] = data\n",
    "# Definindo a coluna 'data' como o index\n",
    "ip_vendido_acoes = ip_vendido_acoes.set_index('data')"
   ]
  },
  {
   "cell_type": "code",
   "execution_count": 267,
   "metadata": {},
   "outputs": [],
   "source": [
    "# Criando o arquivo excel em que cada categoria está em uma aba diferente\n",
    "with pd.ExcelWriter(f'C://Users//vitor//projetos_python//python_b3//composicao-fundos-de-investimentos//arquivos_fundos//ip//fundo_ip_{ano}{mes}.xlsx') as writer:\n",
    "    ip_acoes.to_excel(writer, sheet_name='acoes')\n",
    "    ip_bdr.to_excel(writer, sheet_name='bdr')\n",
    "    ip_exterior.to_excel(writer, sheet_name='exterior')\n",
    "    ip_cotas_fundos.to_excel(writer, sheet_name='cota_fundos')\n",
    "    ip_titulos_pub.to_excel(writer, sheet_name='titulos_publicos')\n",
    "    ip_vendido_acoes.to_excel(writer, sheet_name='vendido_acoes')"
   ]
  },
  {
   "cell_type": "code",
   "execution_count": 268,
   "metadata": {},
   "outputs": [
    {
     "data": {
      "text/html": [
       "<div>\n",
       "<style scoped>\n",
       "    .dataframe tbody tr th:only-of-type {\n",
       "        vertical-align: middle;\n",
       "    }\n",
       "\n",
       "    .dataframe tbody tr th {\n",
       "        vertical-align: top;\n",
       "    }\n",
       "\n",
       "    .dataframe thead th {\n",
       "        text-align: right;\n",
       "    }\n",
       "</style>\n",
       "<table border=\"1\" class=\"dataframe\">\n",
       "  <thead>\n",
       "    <tr style=\"text-align: right;\">\n",
       "      <th></th>\n",
       "      <th>DENOM_SOCIAL</th>\n",
       "      <th>CD_ATIVO</th>\n",
       "      <th>PORCENTAGEM</th>\n",
       "      <th>VL_MERC_POS_FINAL</th>\n",
       "    </tr>\n",
       "    <tr>\n",
       "      <th>data</th>\n",
       "      <th></th>\n",
       "      <th></th>\n",
       "      <th></th>\n",
       "      <th></th>\n",
       "    </tr>\n",
       "  </thead>\n",
       "  <tbody>\n",
       "    <tr>\n",
       "      <th>2023-01-01</th>\n",
       "      <td>IP PARTICIPAÇÕES MASTER FUNDO DE INVESTIMENTO ...</td>\n",
       "      <td>GOGL34</td>\n",
       "      <td>0.186245</td>\n",
       "      <td>24025232.47</td>\n",
       "    </tr>\n",
       "    <tr>\n",
       "      <th>2023-01-01</th>\n",
       "      <td>IP PARTICIPAÇÕES MASTER FUNDO DE INVESTIMENTO ...</td>\n",
       "      <td>BERK34</td>\n",
       "      <td>0.155949</td>\n",
       "      <td>20117014.58</td>\n",
       "    </tr>\n",
       "    <tr>\n",
       "      <th>2023-01-01</th>\n",
       "      <td>IP PARTICIPAÇÕES MASTER FUNDO DE INVESTIMENTO ...</td>\n",
       "      <td>T1DG34</td>\n",
       "      <td>0.144290</td>\n",
       "      <td>18613037.52</td>\n",
       "    </tr>\n",
       "    <tr>\n",
       "      <th>2023-01-01</th>\n",
       "      <td>IP PARTICIPAÇÕES MASTER FUNDO DE INVESTIMENTO ...</td>\n",
       "      <td>LBRD34</td>\n",
       "      <td>0.133058</td>\n",
       "      <td>17164215.14</td>\n",
       "    </tr>\n",
       "    <tr>\n",
       "      <th>2023-01-01</th>\n",
       "      <td>IP PARTICIPAÇÕES MASTER FUNDO DE INVESTIMENTO ...</td>\n",
       "      <td>MSFT34</td>\n",
       "      <td>0.132903</td>\n",
       "      <td>17144173.56</td>\n",
       "    </tr>\n",
       "    <tr>\n",
       "      <th>...</th>\n",
       "      <td>...</td>\n",
       "      <td>...</td>\n",
       "      <td>...</td>\n",
       "      <td>...</td>\n",
       "    </tr>\n",
       "    <tr>\n",
       "      <th>2023-10-01</th>\n",
       "      <td>IP PARTICIPAÇÕES MASTER FUNDO DE INVESTIMENTO ...</td>\n",
       "      <td>BERK34</td>\n",
       "      <td>0.217117</td>\n",
       "      <td>21768619.32</td>\n",
       "    </tr>\n",
       "    <tr>\n",
       "      <th>2023-10-01</th>\n",
       "      <td>IP PARTICIPAÇÕES MASTER FUNDO DE INVESTIMENTO ...</td>\n",
       "      <td>LBRD34</td>\n",
       "      <td>0.157433</td>\n",
       "      <td>15784577.55</td>\n",
       "    </tr>\n",
       "    <tr>\n",
       "      <th>2023-10-01</th>\n",
       "      <td>IP PARTICIPAÇÕES MASTER FUNDO DE INVESTIMENTO ...</td>\n",
       "      <td>MSCD34</td>\n",
       "      <td>0.151329</td>\n",
       "      <td>15172623.40</td>\n",
       "    </tr>\n",
       "    <tr>\n",
       "      <th>2023-10-01</th>\n",
       "      <td>IP PARTICIPAÇÕES MASTER FUNDO DE INVESTIMENTO ...</td>\n",
       "      <td>NFLX34</td>\n",
       "      <td>0.110990</td>\n",
       "      <td>11128159.58</td>\n",
       "    </tr>\n",
       "    <tr>\n",
       "      <th>2023-10-01</th>\n",
       "      <td>IP PARTICIPAÇÕES MASTER FUNDO DE INVESTIMENTO ...</td>\n",
       "      <td>T1DG34</td>\n",
       "      <td>0.074919</td>\n",
       "      <td>7511538.14</td>\n",
       "    </tr>\n",
       "  </tbody>\n",
       "</table>\n",
       "<p>70 rows × 4 columns</p>\n",
       "</div>"
      ],
      "text/plain": [
       "                                                 DENOM_SOCIAL CD_ATIVO  \\\n",
       "data                                                                     \n",
       "2023-01-01  IP PARTICIPAÇÕES MASTER FUNDO DE INVESTIMENTO ...   GOGL34   \n",
       "2023-01-01  IP PARTICIPAÇÕES MASTER FUNDO DE INVESTIMENTO ...   BERK34   \n",
       "2023-01-01  IP PARTICIPAÇÕES MASTER FUNDO DE INVESTIMENTO ...   T1DG34   \n",
       "2023-01-01  IP PARTICIPAÇÕES MASTER FUNDO DE INVESTIMENTO ...   LBRD34   \n",
       "2023-01-01  IP PARTICIPAÇÕES MASTER FUNDO DE INVESTIMENTO ...   MSFT34   \n",
       "...                                                       ...      ...   \n",
       "2023-10-01  IP PARTICIPAÇÕES MASTER FUNDO DE INVESTIMENTO ...   BERK34   \n",
       "2023-10-01  IP PARTICIPAÇÕES MASTER FUNDO DE INVESTIMENTO ...   LBRD34   \n",
       "2023-10-01  IP PARTICIPAÇÕES MASTER FUNDO DE INVESTIMENTO ...   MSCD34   \n",
       "2023-10-01  IP PARTICIPAÇÕES MASTER FUNDO DE INVESTIMENTO ...   NFLX34   \n",
       "2023-10-01  IP PARTICIPAÇÕES MASTER FUNDO DE INVESTIMENTO ...   T1DG34   \n",
       "\n",
       "            PORCENTAGEM  VL_MERC_POS_FINAL  \n",
       "data                                        \n",
       "2023-01-01     0.186245        24025232.47  \n",
       "2023-01-01     0.155949        20117014.58  \n",
       "2023-01-01     0.144290        18613037.52  \n",
       "2023-01-01     0.133058        17164215.14  \n",
       "2023-01-01     0.132903        17144173.56  \n",
       "...                 ...                ...  \n",
       "2023-10-01     0.217117        21768619.32  \n",
       "2023-10-01     0.157433        15784577.55  \n",
       "2023-10-01     0.151329        15172623.40  \n",
       "2023-10-01     0.110990        11128159.58  \n",
       "2023-10-01     0.074919         7511538.14  \n",
       "\n",
       "[70 rows x 4 columns]"
      ]
     },
     "execution_count": 268,
     "metadata": {},
     "output_type": "execute_result"
    }
   ],
   "source": [
    "# Caminho da pasta do fundo IP\n",
    "path_ip = 'C:\\\\Users\\\\vitor\\\\projetos_python\\\\python_b3\\\\composicao-fundos-de-investimentos\\\\arquivos_fundos\\\\ip\\\\'\n",
    "\n",
    "# Caminho completo de todos os arquivos que estão na pasta\n",
    "paths_arquivos_ip = glob.glob(path_ip + '*.xlsx')\n",
    "\n",
    "lst_dfs = []\n",
    "for path in paths_arquivos_ip:\n",
    "    df = pd.read_excel(path, sheet_name='bdr')\n",
    "    lst_dfs.append(df)\n",
    "\n",
    "# Concatendo os dfs de bdrs\n",
    "portfolio_ip = pd.concat(lst_dfs, ignore_index=True)\n",
    "\n",
    "# Retirando as bdrs que não tem nenhum dinheiro alocado e os NAN\n",
    "portfolio_ip = portfolio_ip[portfolio_ip['VL_MERC_POS_FINAL'] != 0]\n",
    "portfolio_ip = portfolio_ip.dropna()\n",
    "\n",
    "# Definindo a coluna 'data' como o index\n",
    "portfolio_ip = portfolio_ip.set_index('data')\n",
    "portfolio_ip"
   ]
  },
  {
   "cell_type": "code",
   "execution_count": 269,
   "metadata": {},
   "outputs": [
    {
     "name": "stdout",
     "output_type": "stream",
     "text": [
      "Comparando o portfólio de 01/2023 e 02/2023:\n",
      "O IP vendeu as ações: set()\n",
      "O IP comprou as ações: set()\n",
      "--------------------------------------------------------------------------------\n",
      "Comparando o portfólio de 02/2023 e 03/2023:\n",
      "O IP vendeu as ações: set()\n",
      "O IP comprou as ações: {'MSCD34'}\n",
      "--------------------------------------------------------------------------------\n",
      "Comparando o portfólio de 03/2023 e 04/2023:\n",
      "O IP vendeu as ações: {'AMZO34', 'XPBR31'}\n",
      "O IP comprou as ações: set()\n",
      "--------------------------------------------------------------------------------\n",
      "Comparando o portfólio de 04/2023 e 05/2023:\n",
      "O IP vendeu as ações: set()\n",
      "O IP comprou as ações: set()\n",
      "--------------------------------------------------------------------------------\n",
      "Comparando o portfólio de 05/2023 e 06/2023:\n",
      "O IP vendeu as ações: set()\n",
      "O IP comprou as ações: set()\n",
      "--------------------------------------------------------------------------------\n",
      "Comparando o portfólio de 06/2023 e 07/2023:\n",
      "O IP vendeu as ações: {'MSFT34'}\n",
      "O IP comprou as ações: set()\n",
      "--------------------------------------------------------------------------------\n",
      "Comparando o portfólio de 07/2023 e 08/2023:\n",
      "O IP vendeu as ações: set()\n",
      "O IP comprou as ações: set()\n",
      "--------------------------------------------------------------------------------\n",
      "Comparando o portfólio de 08/2023 e 09/2023:\n",
      "O IP vendeu as ações: set()\n",
      "O IP comprou as ações: set()\n",
      "--------------------------------------------------------------------------------\n",
      "Comparando o portfólio de 09/2023 e 10/2023:\n",
      "O IP vendeu as ações: set()\n",
      "O IP comprou as ações: set()\n",
      "--------------------------------------------------------------------------------\n"
     ]
    }
   ],
   "source": [
    "# Selecionando o conjunto de ações (portfólio) de cada mês - retornando um df com vários dicionários\n",
    "portfolio_mensal = portfolio_ip.groupby('data')['CD_ATIVO'].apply(set)\n",
    "\n",
    "# Convertendo o GroupBy resultante em DataFrame para facilitar a iteração\n",
    "portfolio_mensal = portfolio_mensal.reset_index()\n",
    "\n",
    "# Comparando o portfólio de cada mês\n",
    "comparar_portfolios(df=portfolio_mensal, nome_fundo='IP')"
   ]
  },
  {
   "cell_type": "code",
   "execution_count": 270,
   "metadata": {},
   "outputs": [
    {
     "data": {
      "text/plain": [
       "data\n",
       "2023-01-01    8\n",
       "2023-02-01    8\n",
       "2023-03-01    9\n",
       "2023-04-01    7\n",
       "2023-05-01    7\n",
       "2023-06-01    7\n",
       "2023-07-01    6\n",
       "2023-08-01    6\n",
       "2023-09-01    6\n",
       "2023-10-01    6\n",
       "Name: CD_ATIVO, dtype: int64"
      ]
     },
     "execution_count": 270,
     "metadata": {},
     "output_type": "execute_result"
    }
   ],
   "source": [
    "# Número total de ações de cada mês do portfpolio\n",
    "num_total_acoes(df=portfolio_ip)"
   ]
  },
  {
   "cell_type": "code",
   "execution_count": 271,
   "metadata": {},
   "outputs": [
    {
     "data": {
      "text/plain": [
       "data\n",
       "2023-01-01    [GOGL34, BERK34, T1DG34, LBRD34, MSFT34]\n",
       "2023-02-01    [BERK34, T1DG34, GOGL34, LBRD34, AMZO34]\n",
       "2023-03-01    [GOGL34, BERK34, LBRD34, MSCD34, MSFT34]\n",
       "2023-04-01    [GOGL34, BERK34, LBRD34, MSCD34, MSFT34]\n",
       "2023-05-01    [GOGL34, BERK34, MSCD34, LBRD34, NFLX34]\n",
       "2023-06-01    [GOGL34, BERK34, MSCD34, LBRD34, NFLX34]\n",
       "2023-07-01    [GOGL34, BERK34, LBRD34, MSCD34, NFLX34]\n",
       "2023-08-01    [GOGL34, BERK34, LBRD34, MSCD34, NFLX34]\n",
       "2023-09-01    [GOGL34, BERK34, LBRD34, MSCD34, NFLX34]\n",
       "2023-10-01    [GOGL34, BERK34, LBRD34, MSCD34, NFLX34]\n",
       "Name: CD_ATIVO, dtype: object"
      ]
     },
     "execution_count": 271,
     "metadata": {},
     "output_type": "execute_result"
    }
   ],
   "source": [
    "# Rank das 5 maiores ações do fundo\n",
    "rank_top_5(df=portfolio_ip)"
   ]
  },
  {
   "cell_type": "code",
   "execution_count": 272,
   "metadata": {},
   "outputs": [
    {
     "data": {
      "application/vnd.plotly.v1+json": {
       "config": {
        "plotlyServerURL": "https://plot.ly"
       },
       "data": [
        {
         "name": "01/2023",
         "orientation": "h",
         "type": "bar",
         "x": [
          18.62453386183758,
          15.59485510544532,
          14.42896121799288,
          13.30582363712692,
          13.290287259453121,
          11.27471725716582,
          9.108111994986674,
          4.3727096659916755
         ],
         "xaxis": "x",
         "y": [
          "GOGL34",
          "BERK34",
          "T1DG34",
          "LBRD34",
          "MSFT34",
          "AMZO34",
          "NFLX34",
          "XPBR31"
         ],
         "yaxis": "y"
        },
        {
         "name": "02/2023",
         "orientation": "h",
         "type": "bar",
         "x": [
          18.51041525440137,
          18.12198103085343,
          15.97602209626661,
          15.566024894017842,
          12.03153155211168,
          8.131979553536976,
          7.7056567904373345,
          3.956388828374755
         ],
         "xaxis": "x2",
         "y": [
          "BERK34",
          "T1DG34",
          "GOGL34",
          "LBRD34",
          "AMZO34",
          "MSFT34",
          "NFLX34",
          "XPBR31"
         ],
         "yaxis": "y2"
        },
        {
         "name": "03/2023",
         "orientation": "h",
         "type": "bar",
         "x": [
          22.482318049573973,
          18.39051249330744,
          14.431420464149088,
          13.65851080609017,
          9.144701642647274,
          8.71865704677563,
          6.688804725298711,
          6.232840401885531,
          0.2522343702721809
         ],
         "xaxis": "x3",
         "y": [
          "GOGL34",
          "BERK34",
          "LBRD34",
          "MSCD34",
          "MSFT34",
          "NFLX34",
          "AMZO34",
          "T1DG34",
          "XPBR31"
         ],
         "yaxis": "y3"
        },
        {
         "name": "04/2023",
         "orientation": "h",
         "type": "bar",
         "x": [
          24.0083100444615,
          20.58432304356289,
          15.72516755299374,
          14.99820220358074,
          9.212432834196587,
          8.678506100683721,
          6.793058220520829
         ],
         "xaxis": "x4",
         "y": [
          "GOGL34",
          "BERK34",
          "LBRD34",
          "MSCD34",
          "MSFT34",
          "NFLX34",
          "T1DG34"
         ],
         "yaxis": "y4"
        },
        {
         "name": "05/2023",
         "orientation": "h",
         "type": "bar",
         "x": [
          26.76144313880668,
          19.349778243311793,
          13.897812139092162,
          13.25954221959419,
          10.10415233675754,
          9.999662838262115,
          6.627609084175519
         ],
         "xaxis": "x5",
         "y": [
          "GOGL34",
          "BERK34",
          "MSCD34",
          "LBRD34",
          "NFLX34",
          "MSFT34",
          "T1DG34"
         ],
         "yaxis": "y5"
        },
        {
         "name": "06/2023",
         "orientation": "h",
         "type": "bar",
         "x": [
          27.69965799339228,
          21.64632210491793,
          15.726782812874829,
          15.05508532131892,
          11.82693481529173,
          8.044862337240954,
          0.0003546149633734742
         ],
         "xaxis": "x6",
         "y": [
          "GOGL34",
          "BERK34",
          "MSCD34",
          "LBRD34",
          "NFLX34",
          "T1DG34",
          "MSFT34"
         ],
         "yaxis": "y6"
        },
        {
         "name": "07/2023",
         "orientation": "h",
         "type": "bar",
         "x": [
          29.143533908713597,
          21.15262993113645,
          15.894467426747841,
          14.96050590518232,
          11.167620193291,
          7.681242634928785
         ],
         "xaxis": "x7",
         "y": [
          "GOGL34",
          "BERK34",
          "LBRD34",
          "MSCD34",
          "NFLX34",
          "T1DG34"
         ],
         "yaxis": "y7"
        },
        {
         "name": "08/2023",
         "orientation": "h",
         "type": "bar",
         "x": [
          29.11953191417622,
          21.12476227208635,
          16.24835496621441,
          15.24789748570837,
          10.7446507125049,
          7.514802649309753
         ],
         "xaxis": "x8",
         "y": [
          "GOGL34",
          "BERK34",
          "LBRD34",
          "MSCD34",
          "NFLX34",
          "T1DG34"
         ],
         "yaxis": "y8"
        },
        {
         "name": "09/2023",
         "orientation": "h",
         "type": "bar",
         "x": [
          29.338754083222163,
          21.538728296484912,
          16.627114466757888,
          15.337935560103698,
          9.808140809344458,
          7.349326784086877
         ],
         "xaxis": "x9",
         "y": [
          "GOGL34",
          "BERK34",
          "LBRD34",
          "MSCD34",
          "NFLX34",
          "T1DG34"
         ],
         "yaxis": "y9"
        },
        {
         "name": "10/2023",
         "orientation": "h",
         "type": "bar",
         "x": [
          28.82121276784725,
          21.71166084905495,
          15.74327656583811,
          15.1329236185676,
          11.09904230137099,
          7.4918838973211015
         ],
         "xaxis": "x10",
         "y": [
          "GOGL34",
          "BERK34",
          "LBRD34",
          "MSCD34",
          "NFLX34",
          "T1DG34"
         ],
         "yaxis": "y10"
        }
       ],
       "layout": {
        "annotations": [
         {
          "font": {
           "size": 16
          },
          "showarrow": false,
          "text": "Distribuição Percentual do Portfólio - 01/2023",
          "x": 0.5,
          "xanchor": "center",
          "xref": "paper",
          "y": 0.9999999999999999,
          "yanchor": "bottom",
          "yref": "paper"
         },
         {
          "font": {
           "size": 16
          },
          "showarrow": false,
          "text": "Distribuição Percentual do Portfólio - 02/2023",
          "x": 0.5,
          "xanchor": "center",
          "xref": "paper",
          "y": 0.898,
          "yanchor": "bottom",
          "yref": "paper"
         },
         {
          "font": {
           "size": 16
          },
          "showarrow": false,
          "text": "Distribuição Percentual do Portfólio - 03/2023",
          "x": 0.5,
          "xanchor": "center",
          "xref": "paper",
          "y": 0.796,
          "yanchor": "bottom",
          "yref": "paper"
         },
         {
          "font": {
           "size": 16
          },
          "showarrow": false,
          "text": "Distribuição Percentual do Portfólio - 04/2023",
          "x": 0.5,
          "xanchor": "center",
          "xref": "paper",
          "y": 0.6940000000000001,
          "yanchor": "bottom",
          "yref": "paper"
         },
         {
          "font": {
           "size": 16
          },
          "showarrow": false,
          "text": "Distribuição Percentual do Portfólio - 05/2023",
          "x": 0.5,
          "xanchor": "center",
          "xref": "paper",
          "y": 0.592,
          "yanchor": "bottom",
          "yref": "paper"
         },
         {
          "font": {
           "size": 16
          },
          "showarrow": false,
          "text": "Distribuição Percentual do Portfólio - 06/2023",
          "x": 0.5,
          "xanchor": "center",
          "xref": "paper",
          "y": 0.49000000000000005,
          "yanchor": "bottom",
          "yref": "paper"
         },
         {
          "font": {
           "size": 16
          },
          "showarrow": false,
          "text": "Distribuição Percentual do Portfólio - 07/2023",
          "x": 0.5,
          "xanchor": "center",
          "xref": "paper",
          "y": 0.388,
          "yanchor": "bottom",
          "yref": "paper"
         },
         {
          "font": {
           "size": 16
          },
          "showarrow": false,
          "text": "Distribuição Percentual do Portfólio - 08/2023",
          "x": 0.5,
          "xanchor": "center",
          "xref": "paper",
          "y": 0.28600000000000003,
          "yanchor": "bottom",
          "yref": "paper"
         },
         {
          "font": {
           "size": 16
          },
          "showarrow": false,
          "text": "Distribuição Percentual do Portfólio - 09/2023",
          "x": 0.5,
          "xanchor": "center",
          "xref": "paper",
          "y": 0.184,
          "yanchor": "bottom",
          "yref": "paper"
         },
         {
          "font": {
           "size": 16
          },
          "showarrow": false,
          "text": "Distribuição Percentual do Portfólio - 10/2023",
          "x": 0.5,
          "xanchor": "center",
          "xref": "paper",
          "y": 0.082,
          "yanchor": "bottom",
          "yref": "paper"
         }
        ],
        "height": 6000,
        "template": {
         "data": {
          "bar": [
           {
            "error_x": {
             "color": "#2a3f5f"
            },
            "error_y": {
             "color": "#2a3f5f"
            },
            "marker": {
             "line": {
              "color": "#E5ECF6",
              "width": 0.5
             },
             "pattern": {
              "fillmode": "overlay",
              "size": 10,
              "solidity": 0.2
             }
            },
            "type": "bar"
           }
          ],
          "barpolar": [
           {
            "marker": {
             "line": {
              "color": "#E5ECF6",
              "width": 0.5
             },
             "pattern": {
              "fillmode": "overlay",
              "size": 10,
              "solidity": 0.2
             }
            },
            "type": "barpolar"
           }
          ],
          "carpet": [
           {
            "aaxis": {
             "endlinecolor": "#2a3f5f",
             "gridcolor": "white",
             "linecolor": "white",
             "minorgridcolor": "white",
             "startlinecolor": "#2a3f5f"
            },
            "baxis": {
             "endlinecolor": "#2a3f5f",
             "gridcolor": "white",
             "linecolor": "white",
             "minorgridcolor": "white",
             "startlinecolor": "#2a3f5f"
            },
            "type": "carpet"
           }
          ],
          "choropleth": [
           {
            "colorbar": {
             "outlinewidth": 0,
             "ticks": ""
            },
            "type": "choropleth"
           }
          ],
          "contour": [
           {
            "colorbar": {
             "outlinewidth": 0,
             "ticks": ""
            },
            "colorscale": [
             [
              0,
              "#0d0887"
             ],
             [
              0.1111111111111111,
              "#46039f"
             ],
             [
              0.2222222222222222,
              "#7201a8"
             ],
             [
              0.3333333333333333,
              "#9c179e"
             ],
             [
              0.4444444444444444,
              "#bd3786"
             ],
             [
              0.5555555555555556,
              "#d8576b"
             ],
             [
              0.6666666666666666,
              "#ed7953"
             ],
             [
              0.7777777777777778,
              "#fb9f3a"
             ],
             [
              0.8888888888888888,
              "#fdca26"
             ],
             [
              1,
              "#f0f921"
             ]
            ],
            "type": "contour"
           }
          ],
          "contourcarpet": [
           {
            "colorbar": {
             "outlinewidth": 0,
             "ticks": ""
            },
            "type": "contourcarpet"
           }
          ],
          "heatmap": [
           {
            "colorbar": {
             "outlinewidth": 0,
             "ticks": ""
            },
            "colorscale": [
             [
              0,
              "#0d0887"
             ],
             [
              0.1111111111111111,
              "#46039f"
             ],
             [
              0.2222222222222222,
              "#7201a8"
             ],
             [
              0.3333333333333333,
              "#9c179e"
             ],
             [
              0.4444444444444444,
              "#bd3786"
             ],
             [
              0.5555555555555556,
              "#d8576b"
             ],
             [
              0.6666666666666666,
              "#ed7953"
             ],
             [
              0.7777777777777778,
              "#fb9f3a"
             ],
             [
              0.8888888888888888,
              "#fdca26"
             ],
             [
              1,
              "#f0f921"
             ]
            ],
            "type": "heatmap"
           }
          ],
          "heatmapgl": [
           {
            "colorbar": {
             "outlinewidth": 0,
             "ticks": ""
            },
            "colorscale": [
             [
              0,
              "#0d0887"
             ],
             [
              0.1111111111111111,
              "#46039f"
             ],
             [
              0.2222222222222222,
              "#7201a8"
             ],
             [
              0.3333333333333333,
              "#9c179e"
             ],
             [
              0.4444444444444444,
              "#bd3786"
             ],
             [
              0.5555555555555556,
              "#d8576b"
             ],
             [
              0.6666666666666666,
              "#ed7953"
             ],
             [
              0.7777777777777778,
              "#fb9f3a"
             ],
             [
              0.8888888888888888,
              "#fdca26"
             ],
             [
              1,
              "#f0f921"
             ]
            ],
            "type": "heatmapgl"
           }
          ],
          "histogram": [
           {
            "marker": {
             "pattern": {
              "fillmode": "overlay",
              "size": 10,
              "solidity": 0.2
             }
            },
            "type": "histogram"
           }
          ],
          "histogram2d": [
           {
            "colorbar": {
             "outlinewidth": 0,
             "ticks": ""
            },
            "colorscale": [
             [
              0,
              "#0d0887"
             ],
             [
              0.1111111111111111,
              "#46039f"
             ],
             [
              0.2222222222222222,
              "#7201a8"
             ],
             [
              0.3333333333333333,
              "#9c179e"
             ],
             [
              0.4444444444444444,
              "#bd3786"
             ],
             [
              0.5555555555555556,
              "#d8576b"
             ],
             [
              0.6666666666666666,
              "#ed7953"
             ],
             [
              0.7777777777777778,
              "#fb9f3a"
             ],
             [
              0.8888888888888888,
              "#fdca26"
             ],
             [
              1,
              "#f0f921"
             ]
            ],
            "type": "histogram2d"
           }
          ],
          "histogram2dcontour": [
           {
            "colorbar": {
             "outlinewidth": 0,
             "ticks": ""
            },
            "colorscale": [
             [
              0,
              "#0d0887"
             ],
             [
              0.1111111111111111,
              "#46039f"
             ],
             [
              0.2222222222222222,
              "#7201a8"
             ],
             [
              0.3333333333333333,
              "#9c179e"
             ],
             [
              0.4444444444444444,
              "#bd3786"
             ],
             [
              0.5555555555555556,
              "#d8576b"
             ],
             [
              0.6666666666666666,
              "#ed7953"
             ],
             [
              0.7777777777777778,
              "#fb9f3a"
             ],
             [
              0.8888888888888888,
              "#fdca26"
             ],
             [
              1,
              "#f0f921"
             ]
            ],
            "type": "histogram2dcontour"
           }
          ],
          "mesh3d": [
           {
            "colorbar": {
             "outlinewidth": 0,
             "ticks": ""
            },
            "type": "mesh3d"
           }
          ],
          "parcoords": [
           {
            "line": {
             "colorbar": {
              "outlinewidth": 0,
              "ticks": ""
             }
            },
            "type": "parcoords"
           }
          ],
          "pie": [
           {
            "automargin": true,
            "type": "pie"
           }
          ],
          "scatter": [
           {
            "fillpattern": {
             "fillmode": "overlay",
             "size": 10,
             "solidity": 0.2
            },
            "type": "scatter"
           }
          ],
          "scatter3d": [
           {
            "line": {
             "colorbar": {
              "outlinewidth": 0,
              "ticks": ""
             }
            },
            "marker": {
             "colorbar": {
              "outlinewidth": 0,
              "ticks": ""
             }
            },
            "type": "scatter3d"
           }
          ],
          "scattercarpet": [
           {
            "marker": {
             "colorbar": {
              "outlinewidth": 0,
              "ticks": ""
             }
            },
            "type": "scattercarpet"
           }
          ],
          "scattergeo": [
           {
            "marker": {
             "colorbar": {
              "outlinewidth": 0,
              "ticks": ""
             }
            },
            "type": "scattergeo"
           }
          ],
          "scattergl": [
           {
            "marker": {
             "colorbar": {
              "outlinewidth": 0,
              "ticks": ""
             }
            },
            "type": "scattergl"
           }
          ],
          "scattermapbox": [
           {
            "marker": {
             "colorbar": {
              "outlinewidth": 0,
              "ticks": ""
             }
            },
            "type": "scattermapbox"
           }
          ],
          "scatterpolar": [
           {
            "marker": {
             "colorbar": {
              "outlinewidth": 0,
              "ticks": ""
             }
            },
            "type": "scatterpolar"
           }
          ],
          "scatterpolargl": [
           {
            "marker": {
             "colorbar": {
              "outlinewidth": 0,
              "ticks": ""
             }
            },
            "type": "scatterpolargl"
           }
          ],
          "scatterternary": [
           {
            "marker": {
             "colorbar": {
              "outlinewidth": 0,
              "ticks": ""
             }
            },
            "type": "scatterternary"
           }
          ],
          "surface": [
           {
            "colorbar": {
             "outlinewidth": 0,
             "ticks": ""
            },
            "colorscale": [
             [
              0,
              "#0d0887"
             ],
             [
              0.1111111111111111,
              "#46039f"
             ],
             [
              0.2222222222222222,
              "#7201a8"
             ],
             [
              0.3333333333333333,
              "#9c179e"
             ],
             [
              0.4444444444444444,
              "#bd3786"
             ],
             [
              0.5555555555555556,
              "#d8576b"
             ],
             [
              0.6666666666666666,
              "#ed7953"
             ],
             [
              0.7777777777777778,
              "#fb9f3a"
             ],
             [
              0.8888888888888888,
              "#fdca26"
             ],
             [
              1,
              "#f0f921"
             ]
            ],
            "type": "surface"
           }
          ],
          "table": [
           {
            "cells": {
             "fill": {
              "color": "#EBF0F8"
             },
             "line": {
              "color": "white"
             }
            },
            "header": {
             "fill": {
              "color": "#C8D4E3"
             },
             "line": {
              "color": "white"
             }
            },
            "type": "table"
           }
          ]
         },
         "layout": {
          "annotationdefaults": {
           "arrowcolor": "#2a3f5f",
           "arrowhead": 0,
           "arrowwidth": 1
          },
          "autotypenumbers": "strict",
          "coloraxis": {
           "colorbar": {
            "outlinewidth": 0,
            "ticks": ""
           }
          },
          "colorscale": {
           "diverging": [
            [
             0,
             "#8e0152"
            ],
            [
             0.1,
             "#c51b7d"
            ],
            [
             0.2,
             "#de77ae"
            ],
            [
             0.3,
             "#f1b6da"
            ],
            [
             0.4,
             "#fde0ef"
            ],
            [
             0.5,
             "#f7f7f7"
            ],
            [
             0.6,
             "#e6f5d0"
            ],
            [
             0.7,
             "#b8e186"
            ],
            [
             0.8,
             "#7fbc41"
            ],
            [
             0.9,
             "#4d9221"
            ],
            [
             1,
             "#276419"
            ]
           ],
           "sequential": [
            [
             0,
             "#0d0887"
            ],
            [
             0.1111111111111111,
             "#46039f"
            ],
            [
             0.2222222222222222,
             "#7201a8"
            ],
            [
             0.3333333333333333,
             "#9c179e"
            ],
            [
             0.4444444444444444,
             "#bd3786"
            ],
            [
             0.5555555555555556,
             "#d8576b"
            ],
            [
             0.6666666666666666,
             "#ed7953"
            ],
            [
             0.7777777777777778,
             "#fb9f3a"
            ],
            [
             0.8888888888888888,
             "#fdca26"
            ],
            [
             1,
             "#f0f921"
            ]
           ],
           "sequentialminus": [
            [
             0,
             "#0d0887"
            ],
            [
             0.1111111111111111,
             "#46039f"
            ],
            [
             0.2222222222222222,
             "#7201a8"
            ],
            [
             0.3333333333333333,
             "#9c179e"
            ],
            [
             0.4444444444444444,
             "#bd3786"
            ],
            [
             0.5555555555555556,
             "#d8576b"
            ],
            [
             0.6666666666666666,
             "#ed7953"
            ],
            [
             0.7777777777777778,
             "#fb9f3a"
            ],
            [
             0.8888888888888888,
             "#fdca26"
            ],
            [
             1,
             "#f0f921"
            ]
           ]
          },
          "colorway": [
           "#636efa",
           "#EF553B",
           "#00cc96",
           "#ab63fa",
           "#FFA15A",
           "#19d3f3",
           "#FF6692",
           "#B6E880",
           "#FF97FF",
           "#FECB52"
          ],
          "font": {
           "color": "#2a3f5f"
          },
          "geo": {
           "bgcolor": "white",
           "lakecolor": "white",
           "landcolor": "#E5ECF6",
           "showlakes": true,
           "showland": true,
           "subunitcolor": "white"
          },
          "hoverlabel": {
           "align": "left"
          },
          "hovermode": "closest",
          "mapbox": {
           "style": "light"
          },
          "paper_bgcolor": "white",
          "plot_bgcolor": "#E5ECF6",
          "polar": {
           "angularaxis": {
            "gridcolor": "white",
            "linecolor": "white",
            "ticks": ""
           },
           "bgcolor": "#E5ECF6",
           "radialaxis": {
            "gridcolor": "white",
            "linecolor": "white",
            "ticks": ""
           }
          },
          "scene": {
           "xaxis": {
            "backgroundcolor": "#E5ECF6",
            "gridcolor": "white",
            "gridwidth": 2,
            "linecolor": "white",
            "showbackground": true,
            "ticks": "",
            "zerolinecolor": "white"
           },
           "yaxis": {
            "backgroundcolor": "#E5ECF6",
            "gridcolor": "white",
            "gridwidth": 2,
            "linecolor": "white",
            "showbackground": true,
            "ticks": "",
            "zerolinecolor": "white"
           },
           "zaxis": {
            "backgroundcolor": "#E5ECF6",
            "gridcolor": "white",
            "gridwidth": 2,
            "linecolor": "white",
            "showbackground": true,
            "ticks": "",
            "zerolinecolor": "white"
           }
          },
          "shapedefaults": {
           "line": {
            "color": "#2a3f5f"
           }
          },
          "ternary": {
           "aaxis": {
            "gridcolor": "white",
            "linecolor": "white",
            "ticks": ""
           },
           "baxis": {
            "gridcolor": "white",
            "linecolor": "white",
            "ticks": ""
           },
           "bgcolor": "#E5ECF6",
           "caxis": {
            "gridcolor": "white",
            "linecolor": "white",
            "ticks": ""
           }
          },
          "title": {
           "x": 0.05
          },
          "xaxis": {
           "automargin": true,
           "gridcolor": "white",
           "linecolor": "white",
           "ticks": "",
           "title": {
            "standoff": 15
           },
           "zerolinecolor": "white",
           "zerolinewidth": 2
          },
          "yaxis": {
           "automargin": true,
           "gridcolor": "white",
           "linecolor": "white",
           "ticks": "",
           "title": {
            "standoff": 15
           },
           "zerolinecolor": "white",
           "zerolinewidth": 2
          }
         }
        },
        "title": {
         "text": "Portfólio do Fundo IP"
        },
        "width": 900,
        "xaxis": {
         "anchor": "y",
         "domain": [
          0,
          1
         ]
        },
        "xaxis10": {
         "anchor": "y10",
         "domain": [
          0,
          1
         ]
        },
        "xaxis2": {
         "anchor": "y2",
         "domain": [
          0,
          1
         ]
        },
        "xaxis3": {
         "anchor": "y3",
         "domain": [
          0,
          1
         ]
        },
        "xaxis4": {
         "anchor": "y4",
         "domain": [
          0,
          1
         ]
        },
        "xaxis5": {
         "anchor": "y5",
         "domain": [
          0,
          1
         ]
        },
        "xaxis6": {
         "anchor": "y6",
         "domain": [
          0,
          1
         ]
        },
        "xaxis7": {
         "anchor": "y7",
         "domain": [
          0,
          1
         ]
        },
        "xaxis8": {
         "anchor": "y8",
         "domain": [
          0,
          1
         ]
        },
        "xaxis9": {
         "anchor": "y9",
         "domain": [
          0,
          1
         ]
        },
        "yaxis": {
         "anchor": "x",
         "domain": [
          0.9179999999999999,
          0.9999999999999999
         ]
        },
        "yaxis10": {
         "anchor": "x10",
         "domain": [
          0,
          0.082
         ]
        },
        "yaxis2": {
         "anchor": "x2",
         "domain": [
          0.8160000000000001,
          0.898
         ]
        },
        "yaxis3": {
         "anchor": "x3",
         "domain": [
          0.7140000000000001,
          0.796
         ]
        },
        "yaxis4": {
         "anchor": "x4",
         "domain": [
          0.6120000000000001,
          0.6940000000000001
         ]
        },
        "yaxis5": {
         "anchor": "x5",
         "domain": [
          0.51,
          0.592
         ]
        },
        "yaxis6": {
         "anchor": "x6",
         "domain": [
          0.40800000000000003,
          0.49000000000000005
         ]
        },
        "yaxis7": {
         "anchor": "x7",
         "domain": [
          0.306,
          0.388
         ]
        },
        "yaxis8": {
         "anchor": "x8",
         "domain": [
          0.20400000000000001,
          0.28600000000000003
         ]
        },
        "yaxis9": {
         "anchor": "x9",
         "domain": [
          0.10200000000000001,
          0.184
         ]
        }
       }
      }
     },
     "metadata": {},
     "output_type": "display_data"
    }
   ],
   "source": [
    "# Plotando o portfólio de cada mês\n",
    "plot_portfolio(df=portfolio_ip, nome_fundo='IP')"
   ]
  },
  {
   "cell_type": "markdown",
   "metadata": {},
   "source": [
    "### Fundo Squadra"
   ]
  },
  {
   "cell_type": "markdown",
   "metadata": {},
   "source": [
    "* https://maisretorno.com/fundo/squadra-master-long-biased-fia\n",
    "* Famosos pelos shorts de:\n",
    "    * IRBR - 05/2018\n",
    "    * AERI3 - 01/2021\n",
    "    * Nubank"
   ]
  },
  {
   "cell_type": "code",
   "execution_count": 273,
   "metadata": {},
   "outputs": [
    {
     "data": {
      "text/html": [
       "<div>\n",
       "<style scoped>\n",
       "    .dataframe tbody tr th:only-of-type {\n",
       "        vertical-align: middle;\n",
       "    }\n",
       "\n",
       "    .dataframe tbody tr th {\n",
       "        vertical-align: top;\n",
       "    }\n",
       "\n",
       "    .dataframe thead th {\n",
       "        text-align: right;\n",
       "    }\n",
       "</style>\n",
       "<table border=\"1\" class=\"dataframe\">\n",
       "  <thead>\n",
       "    <tr style=\"text-align: right;\">\n",
       "      <th></th>\n",
       "      <th>ret_mensal</th>\n",
       "    </tr>\n",
       "    <tr>\n",
       "      <th>DT_COMPTC</th>\n",
       "      <th></th>\n",
       "    </tr>\n",
       "  </thead>\n",
       "  <tbody>\n",
       "    <tr>\n",
       "      <th>2023-01-31</th>\n",
       "      <td>5.23</td>\n",
       "    </tr>\n",
       "    <tr>\n",
       "      <th>2023-02-28</th>\n",
       "      <td>-6.62</td>\n",
       "    </tr>\n",
       "    <tr>\n",
       "      <th>2023-03-31</th>\n",
       "      <td>-0.20</td>\n",
       "    </tr>\n",
       "    <tr>\n",
       "      <th>2023-04-28</th>\n",
       "      <td>3.92</td>\n",
       "    </tr>\n",
       "    <tr>\n",
       "      <th>2023-05-31</th>\n",
       "      <td>8.83</td>\n",
       "    </tr>\n",
       "    <tr>\n",
       "      <th>2023-06-30</th>\n",
       "      <td>8.13</td>\n",
       "    </tr>\n",
       "    <tr>\n",
       "      <th>2023-07-31</th>\n",
       "      <td>4.00</td>\n",
       "    </tr>\n",
       "    <tr>\n",
       "      <th>2023-08-31</th>\n",
       "      <td>2.24</td>\n",
       "    </tr>\n",
       "    <tr>\n",
       "      <th>2023-09-29</th>\n",
       "      <td>1.13</td>\n",
       "    </tr>\n",
       "    <tr>\n",
       "      <th>2023-10-31</th>\n",
       "      <td>-0.69</td>\n",
       "    </tr>\n",
       "    <tr>\n",
       "      <th>2023-11-30</th>\n",
       "      <td>10.16</td>\n",
       "    </tr>\n",
       "    <tr>\n",
       "      <th>2023-12-29</th>\n",
       "      <td>2.68</td>\n",
       "    </tr>\n",
       "    <tr>\n",
       "      <th>2024-01-31</th>\n",
       "      <td>1.31</td>\n",
       "    </tr>\n",
       "    <tr>\n",
       "      <th>2024-02-29</th>\n",
       "      <td>-0.34</td>\n",
       "    </tr>\n",
       "    <tr>\n",
       "      <th>2024-03-28</th>\n",
       "      <td>0.77</td>\n",
       "    </tr>\n",
       "    <tr>\n",
       "      <th>2024-04-30</th>\n",
       "      <td>-5.49</td>\n",
       "    </tr>\n",
       "  </tbody>\n",
       "</table>\n",
       "</div>"
      ],
      "text/plain": [
       "            ret_mensal\n",
       "DT_COMPTC             \n",
       "2023-01-31        5.23\n",
       "2023-02-28       -6.62\n",
       "2023-03-31       -0.20\n",
       "2023-04-28        3.92\n",
       "2023-05-31        8.83\n",
       "2023-06-30        8.13\n",
       "2023-07-31        4.00\n",
       "2023-08-31        2.24\n",
       "2023-09-29        1.13\n",
       "2023-10-31       -0.69\n",
       "2023-11-30       10.16\n",
       "2023-12-29        2.68\n",
       "2024-01-31        1.31\n",
       "2024-02-29       -0.34\n",
       "2024-03-28        0.77\n",
       "2024-04-30       -5.49"
      ]
     },
     "execution_count": 273,
     "metadata": {},
     "output_type": "execute_result"
    }
   ],
   "source": [
    "# Rentabilidade mensal\n",
    "df_ret_mensal = rentabilidade_fundo(df=df_inf_diario, cnpj='09.412.648/0001-40')[0]\n",
    "df_ret_mensal"
   ]
  },
  {
   "cell_type": "code",
   "execution_count": 274,
   "metadata": {},
   "outputs": [
    {
     "data": {
      "text/html": [
       "<div>\n",
       "<style scoped>\n",
       "    .dataframe tbody tr th:only-of-type {\n",
       "        vertical-align: middle;\n",
       "    }\n",
       "\n",
       "    .dataframe tbody tr th {\n",
       "        vertical-align: top;\n",
       "    }\n",
       "\n",
       "    .dataframe thead th {\n",
       "        text-align: right;\n",
       "    }\n",
       "</style>\n",
       "<table border=\"1\" class=\"dataframe\">\n",
       "  <thead>\n",
       "    <tr style=\"text-align: right;\">\n",
       "      <th></th>\n",
       "      <th>ret_anual</th>\n",
       "    </tr>\n",
       "    <tr>\n",
       "      <th>DT_COMPTC</th>\n",
       "      <th></th>\n",
       "    </tr>\n",
       "  </thead>\n",
       "  <tbody>\n",
       "    <tr>\n",
       "      <th>2023</th>\n",
       "      <td>44.86</td>\n",
       "    </tr>\n",
       "    <tr>\n",
       "      <th>2024</th>\n",
       "      <td>-3.84</td>\n",
       "    </tr>\n",
       "  </tbody>\n",
       "</table>\n",
       "</div>"
      ],
      "text/plain": [
       "           ret_anual\n",
       "DT_COMPTC           \n",
       "2023           44.86\n",
       "2024           -3.84"
      ]
     },
     "execution_count": 274,
     "metadata": {},
     "output_type": "execute_result"
    }
   ],
   "source": [
    "# Rentabilidade anual\n",
    "df_ret_anual = rentabilidade_fundo(df=df_inf_diario, cnpj='09.412.648/0001-40')[1]\n",
    "df_ret_anual"
   ]
  },
  {
   "cell_type": "code",
   "execution_count": 276,
   "metadata": {},
   "outputs": [],
   "source": [
    "squadra_acoes, squadra_bdr, squadra_exterior, squadra_cotas_fundos, squadra_titulos_pub, squadra_vendido_acoes = fundo_cnpj(df=df_ativos, cnpj='09.412.648/0001-40')\n",
    "squadra_pl = pl_fundo(\n",
    "    path=f'C://Users//vitor//projetos_python//python_b3//historico-arquivos//fundos_investimentos//fundos_cvm//{ano}{mes}//cda_fi_PL_{ano}{mes}.parquet', \n",
    "    cnpj='09.412.648/0001-40'\n",
    ")\n",
    "\n",
    "# Quantos porcertos cada categoria representa do PL final\n",
    "pct_acoes = round(pd.Series(squadra_acoes['VL_MERC_POS_FINAL'].sum() / squadra_pl.values), 4) \n",
    "pct_bdr = round(pd.Series(squadra_bdr['VL_MERC_POS_FINAL'].sum() / squadra_pl.values), 4) \n",
    "pct_exterior = round(pd.Series(squadra_exterior['VL_MERC_POS_FINAL'].sum() / squadra_pl.values), 4) \n",
    "pct_cotas_fundos = round(pd.Series(squadra_cotas_fundos['VL_MERC_POS_FINAL'].sum() / squadra_pl.values), 4) \n",
    "pct_titulos_pub = round(pd.Series(squadra_titulos_pub['VL_MERC_POS_FINAL'].sum() / squadra_pl.values), 4) \n",
    "pct_vendido_acoes = round(pd.Series(squadra_vendido_acoes['VL_MERC_POS_FINAL'].sum() / squadra_pl.values), 4) \n",
    "\n",
    "# Criando a data do portfólio\n",
    "data = pd.to_datetime(f'{mes}-{ano}')\n",
    "\n",
    "# Adicionando a informação da porcentagem de cada categoria nos dfs\n",
    "# Ações\n",
    "linha_pct_acoes = {'DENOM_SOCIAL': 'PL% FUNDO', 'VL_MERC_POS_FINAL' : pct_acoes}\n",
    "df_linha_pct_acoes = pd.DataFrame(linha_pct_acoes)\n",
    "squadra_acoes = pd.concat([squadra_acoes, df_linha_pct_acoes], ignore_index=True)\n",
    "# Criando a coluna 'data' no df\n",
    "squadra_acoes['data'] = data\n",
    "# Definindo a coluna 'data' como o index\n",
    "squadra_acoes = squadra_acoes.set_index('data')\n",
    "\n",
    "# BDRs\n",
    "linha_pct_bdr = {'DENOM_SOCIAL': 'PL% FUNDO', 'VL_MERC_POS_FINAL' : pct_bdr}\n",
    "df_linha_pct_bdr = pd.DataFrame(linha_pct_bdr)\n",
    "squadra_bdr = pd.concat([squadra_bdr, df_linha_pct_bdr], ignore_index=True)\n",
    "# Criando a coluna 'data' no df\n",
    "squadra_bdr['data'] = data\n",
    "# Definindo a coluna 'data' como o index\n",
    "squadra_bdr = squadra_bdr.set_index('data')\n",
    "\n",
    "# Investimentos no Exterior\n",
    "linha_pct_exterior = {'DENOM_SOCIAL': 'PL% FUNDO', 'VL_MERC_POS_FINAL' : pct_exterior}\n",
    "df_linha_pct_exterior = pd.DataFrame(linha_pct_exterior)\n",
    "squadra_exterior = pd.concat([squadra_exterior, df_linha_pct_exterior], ignore_index=True)\n",
    "# Criando a coluna 'data' no df\n",
    "squadra_exterior['data'] = data\n",
    "# Definindo a coluna 'data' como o index\n",
    "squadra_exterior = squadra_exterior.set_index('data')\n",
    "\n",
    "# Cotas de Fundos\n",
    "linha_pct_cotas_fundos = {'DENOM_SOCIAL': 'PL% FUNDO', 'VL_MERC_POS_FINAL' : pct_cotas_fundos}\n",
    "df_linha_pct_cotas_fundos = pd.DataFrame(linha_pct_cotas_fundos)\n",
    "squadra_cotas_fundos = pd.concat([squadra_cotas_fundos, df_linha_pct_cotas_fundos], ignore_index=True)\n",
    "# Criando a coluna 'data' no df\n",
    "squadra_cotas_fundos['data'] = data\n",
    "# Definindo a coluna 'data' como o index\n",
    "squadra_cotas_fundos = squadra_cotas_fundos.set_index('data')\n",
    "\n",
    "# Títulos Públicos\n",
    "linha_pct_titulos_pub = {'DENOM_SOCIAL': 'PL% FUNDO', 'VL_MERC_POS_FINAL' : pct_titulos_pub}\n",
    "df_linha_pct_titulos_pub = pd.DataFrame(linha_pct_titulos_pub)\n",
    "squadra_titulos_pub = pd.concat([squadra_titulos_pub, df_linha_pct_titulos_pub], ignore_index=True)\n",
    "# Criando a coluna 'data' no df\n",
    "squadra_titulos_pub['data'] = data\n",
    "# Definindo a coluna 'data' como o index\n",
    "squadra_titulos_pub = squadra_titulos_pub.set_index('data')\n",
    "\n",
    "# Vendido Ações\n",
    "linha_pct_vendido_acoes = {'DENOM_SOCIAL': 'PL% FUNDO', 'VL_MERC_POS_FINAL' : pct_vendido_acoes}\n",
    "df_linha_pct_vendido_acoes = pd.DataFrame(linha_pct_vendido_acoes)\n",
    "squadra_vendido_acoes = pd.concat([squadra_vendido_acoes, df_linha_pct_vendido_acoes], ignore_index=True)\n",
    "# Criando a coluna 'data' no df\n",
    "squadra_vendido_acoes['data'] = data\n",
    "# Definindo a coluna 'data' como o index\n",
    "squadra_vendido_acoes = squadra_vendido_acoes.set_index('data')"
   ]
  },
  {
   "cell_type": "code",
   "execution_count": 277,
   "metadata": {},
   "outputs": [],
   "source": [
    "# Criando o arquivo excel em que cada categoria está em uma aba diferente\n",
    "with pd.ExcelWriter(f'C://Users//vitor//projetos_python//python_b3//composicao-fundos-de-investimentos//arquivos_fundos//squadra//fundo_squadra_{ano}{mes}.xlsx') as writer:\n",
    "    squadra_acoes.to_excel(writer, sheet_name='acoes')\n",
    "    squadra_bdr.to_excel(writer, sheet_name='bdr')\n",
    "    squadra_exterior.to_excel(writer, sheet_name='exterior')\n",
    "    squadra_cotas_fundos.to_excel(writer, sheet_name='cota_fundos')\n",
    "    squadra_titulos_pub.to_excel(writer, sheet_name='titulos_publicos')\n",
    "    squadra_vendido_acoes.to_excel(writer, sheet_name='vendido_acoes')"
   ]
  },
  {
   "cell_type": "code",
   "execution_count": 278,
   "metadata": {},
   "outputs": [
    {
     "data": {
      "text/html": [
       "<div>\n",
       "<style scoped>\n",
       "    .dataframe tbody tr th:only-of-type {\n",
       "        vertical-align: middle;\n",
       "    }\n",
       "\n",
       "    .dataframe tbody tr th {\n",
       "        vertical-align: top;\n",
       "    }\n",
       "\n",
       "    .dataframe thead th {\n",
       "        text-align: right;\n",
       "    }\n",
       "</style>\n",
       "<table border=\"1\" class=\"dataframe\">\n",
       "  <thead>\n",
       "    <tr style=\"text-align: right;\">\n",
       "      <th></th>\n",
       "      <th>DENOM_SOCIAL</th>\n",
       "      <th>CD_ATIVO</th>\n",
       "      <th>PORCENTAGEM</th>\n",
       "      <th>VL_MERC_POS_FINAL</th>\n",
       "    </tr>\n",
       "    <tr>\n",
       "      <th>data</th>\n",
       "      <th></th>\n",
       "      <th></th>\n",
       "      <th></th>\n",
       "      <th></th>\n",
       "    </tr>\n",
       "  </thead>\n",
       "  <tbody>\n",
       "    <tr>\n",
       "      <th>2023-01-01</th>\n",
       "      <td>SQUADRA MASTER LONG-BIASED FUNDO DE INVESTIMEN...</td>\n",
       "      <td>EQTL3</td>\n",
       "      <td>0.247564</td>\n",
       "      <td>4.684867e+08</td>\n",
       "    </tr>\n",
       "    <tr>\n",
       "      <th>2023-01-01</th>\n",
       "      <td>SQUADRA MASTER LONG-BIASED FUNDO DE INVESTIMEN...</td>\n",
       "      <td>PRIO3</td>\n",
       "      <td>0.101156</td>\n",
       "      <td>1.914264e+08</td>\n",
       "    </tr>\n",
       "    <tr>\n",
       "      <th>2023-01-01</th>\n",
       "      <td>SQUADRA MASTER LONG-BIASED FUNDO DE INVESTIMEN...</td>\n",
       "      <td>RAIL3</td>\n",
       "      <td>0.098252</td>\n",
       "      <td>1.859313e+08</td>\n",
       "    </tr>\n",
       "    <tr>\n",
       "      <th>2023-01-01</th>\n",
       "      <td>SQUADRA MASTER LONG-BIASED FUNDO DE INVESTIMEN...</td>\n",
       "      <td>GMAT3</td>\n",
       "      <td>0.086300</td>\n",
       "      <td>1.633124e+08</td>\n",
       "    </tr>\n",
       "    <tr>\n",
       "      <th>2023-01-01</th>\n",
       "      <td>SQUADRA MASTER LONG-BIASED FUNDO DE INVESTIMEN...</td>\n",
       "      <td>GGPS3</td>\n",
       "      <td>0.078096</td>\n",
       "      <td>1.477881e+08</td>\n",
       "    </tr>\n",
       "    <tr>\n",
       "      <th>...</th>\n",
       "      <td>...</td>\n",
       "      <td>...</td>\n",
       "      <td>...</td>\n",
       "      <td>...</td>\n",
       "    </tr>\n",
       "    <tr>\n",
       "      <th>2023-10-01</th>\n",
       "      <td>SQUADRA MASTER LONG-BIASED FUNDO DE INVESTIMEN...</td>\n",
       "      <td>RDOR3</td>\n",
       "      <td>0.003681</td>\n",
       "      <td>6.973250e+06</td>\n",
       "    </tr>\n",
       "    <tr>\n",
       "      <th>2023-10-01</th>\n",
       "      <td>SQUADRA MASTER LONG-BIASED FUNDO DE INVESTIMEN...</td>\n",
       "      <td>MGLU3</td>\n",
       "      <td>0.002335</td>\n",
       "      <td>4.422911e+06</td>\n",
       "    </tr>\n",
       "    <tr>\n",
       "      <th>2023-10-01</th>\n",
       "      <td>SQUADRA MASTER LONG-BIASED FUNDO DE INVESTIMEN...</td>\n",
       "      <td>PETZ3</td>\n",
       "      <td>0.001786</td>\n",
       "      <td>3.384275e+06</td>\n",
       "    </tr>\n",
       "    <tr>\n",
       "      <th>2023-10-01</th>\n",
       "      <td>SQUADRA MASTER LONG-BIASED FUNDO DE INVESTIMEN...</td>\n",
       "      <td>FIEI3</td>\n",
       "      <td>0.000762</td>\n",
       "      <td>1.444300e+06</td>\n",
       "    </tr>\n",
       "    <tr>\n",
       "      <th>2023-10-01</th>\n",
       "      <td>SQUADRA MASTER LONG-BIASED FUNDO DE INVESTIMEN...</td>\n",
       "      <td>BHIA3</td>\n",
       "      <td>0.000010</td>\n",
       "      <td>1.908900e+04</td>\n",
       "    </tr>\n",
       "  </tbody>\n",
       "</table>\n",
       "<p>239 rows × 4 columns</p>\n",
       "</div>"
      ],
      "text/plain": [
       "                                                 DENOM_SOCIAL CD_ATIVO  \\\n",
       "data                                                                     \n",
       "2023-01-01  SQUADRA MASTER LONG-BIASED FUNDO DE INVESTIMEN...    EQTL3   \n",
       "2023-01-01  SQUADRA MASTER LONG-BIASED FUNDO DE INVESTIMEN...    PRIO3   \n",
       "2023-01-01  SQUADRA MASTER LONG-BIASED FUNDO DE INVESTIMEN...    RAIL3   \n",
       "2023-01-01  SQUADRA MASTER LONG-BIASED FUNDO DE INVESTIMEN...    GMAT3   \n",
       "2023-01-01  SQUADRA MASTER LONG-BIASED FUNDO DE INVESTIMEN...    GGPS3   \n",
       "...                                                       ...      ...   \n",
       "2023-10-01  SQUADRA MASTER LONG-BIASED FUNDO DE INVESTIMEN...    RDOR3   \n",
       "2023-10-01  SQUADRA MASTER LONG-BIASED FUNDO DE INVESTIMEN...    MGLU3   \n",
       "2023-10-01  SQUADRA MASTER LONG-BIASED FUNDO DE INVESTIMEN...    PETZ3   \n",
       "2023-10-01  SQUADRA MASTER LONG-BIASED FUNDO DE INVESTIMEN...    FIEI3   \n",
       "2023-10-01  SQUADRA MASTER LONG-BIASED FUNDO DE INVESTIMEN...    BHIA3   \n",
       "\n",
       "            PORCENTAGEM  VL_MERC_POS_FINAL  \n",
       "data                                        \n",
       "2023-01-01     0.247564       4.684867e+08  \n",
       "2023-01-01     0.101156       1.914264e+08  \n",
       "2023-01-01     0.098252       1.859313e+08  \n",
       "2023-01-01     0.086300       1.633124e+08  \n",
       "2023-01-01     0.078096       1.477881e+08  \n",
       "...                 ...                ...  \n",
       "2023-10-01     0.003681       6.973250e+06  \n",
       "2023-10-01     0.002335       4.422911e+06  \n",
       "2023-10-01     0.001786       3.384275e+06  \n",
       "2023-10-01     0.000762       1.444300e+06  \n",
       "2023-10-01     0.000010       1.908900e+04  \n",
       "\n",
       "[239 rows x 4 columns]"
      ]
     },
     "execution_count": 278,
     "metadata": {},
     "output_type": "execute_result"
    }
   ],
   "source": [
    "# Caminho da pasta do fundo Squadra\n",
    "path_squadra = 'C:\\\\Users\\\\vitor\\\\projetos_python\\\\python_b3\\\\composicao-fundos-de-investimentos\\\\arquivos_fundos\\\\squadra\\\\'\n",
    "\n",
    "# Caminho completo de todos os arquivos que estão na pasta\n",
    "paths_arquivos_squadra = glob.glob(path_squadra + '*.xlsx')\n",
    "\n",
    "lst_dfs = []\n",
    "for path in paths_arquivos_squadra:\n",
    "    df = pd.read_excel(path, sheet_name='acoes')\n",
    "    lst_dfs.append(df)\n",
    "\n",
    "# Concatendo os dfs de ações\n",
    "portfolio_squadra = pd.concat(lst_dfs, ignore_index=True)\n",
    "\n",
    "# Retirando as ações que não tem nenhum dinheiro alocado e os NAN\n",
    "portfolio_squadra = portfolio_squadra[portfolio_squadra['VL_MERC_POS_FINAL'] != 0]\n",
    "portfolio_squadra = portfolio_squadra.dropna()\n",
    "\n",
    "# Definindo a coluna 'data' como o index\n",
    "portfolio_squadra = portfolio_squadra.set_index('data')\n",
    "portfolio_squadra"
   ]
  },
  {
   "cell_type": "code",
   "execution_count": 279,
   "metadata": {},
   "outputs": [
    {
     "name": "stdout",
     "output_type": "stream",
     "text": [
      "Comparando o portfólio de 01/2023 e 02/2023:\n",
      "O Squadra vendeu as ações: set()\n",
      "O Squadra comprou as ações: {'MGLU3', 'PETZ3', 'VIIA3', 'INTB3'}\n",
      "--------------------------------------------------------------------------------\n",
      "Comparando o portfólio de 02/2023 e 03/2023:\n",
      "O Squadra vendeu as ações: {'B3SA3', 'ENEV3', 'PETZ3'}\n",
      "O Squadra comprou as ações: {'WEGE3'}\n",
      "--------------------------------------------------------------------------------\n",
      "Comparando o portfólio de 03/2023 e 04/2023:\n",
      "O Squadra vendeu as ações: {'LWSA3'}\n",
      "O Squadra comprou as ações: {'PETZ3', 'CXSE3'}\n",
      "--------------------------------------------------------------------------------\n",
      "Comparando o portfólio de 04/2023 e 05/2023:\n",
      "O Squadra vendeu as ações: {'CXSE3', 'CRFB3', 'MULT3', 'ITUB4'}\n",
      "O Squadra comprou as ações: {'RDOR3'}\n",
      "--------------------------------------------------------------------------------\n",
      "Comparando o portfólio de 05/2023 e 06/2023:\n",
      "O Squadra vendeu as ações: {'CRDE3'}\n",
      "O Squadra comprou as ações: {'ASAI3', 'FIEI3', 'LWSA3'}\n",
      "--------------------------------------------------------------------------------\n",
      "Comparando o portfólio de 06/2023 e 07/2023:\n",
      "O Squadra vendeu as ações: set()\n",
      "O Squadra comprou as ações: set()\n",
      "--------------------------------------------------------------------------------\n",
      "Comparando o portfólio de 07/2023 e 08/2023:\n",
      "O Squadra vendeu as ações: {'ASAI3'}\n",
      "O Squadra comprou as ações: {'ELET6', 'CPLE6', 'CPLE3', 'ELET3', 'BBDC4'}\n",
      "--------------------------------------------------------------------------------\n",
      "Comparando o portfólio de 08/2023 e 09/2023:\n",
      "O Squadra vendeu as ações: {'VIIA3', 'LWSA3', 'ALSO3'}\n",
      "O Squadra comprou as ações: {'IRBR3', 'BHIA3'}\n",
      "--------------------------------------------------------------------------------\n",
      "Comparando o portfólio de 09/2023 e 10/2023:\n",
      "O Squadra vendeu as ações: {'INTB3'}\n",
      "O Squadra comprou as ações: {'ITUB4'}\n",
      "--------------------------------------------------------------------------------\n"
     ]
    }
   ],
   "source": [
    "# Selecionando o conjunto de ações (portfólio) de cada mês - retornando um df com vários dicionários\n",
    "portfolio_mensal = portfolio_squadra.groupby('data')['CD_ATIVO'].apply(set)\n",
    "\n",
    "# Convertendo o GroupBy resultante em DataFrame para facilitar a iteração\n",
    "portfolio_mensal = portfolio_mensal.reset_index()\n",
    "\n",
    "# Comparando o portfólio de cada mês\n",
    "comparar_portfolios(df=portfolio_mensal, nome_fundo='Squadra')"
   ]
  },
  {
   "cell_type": "code",
   "execution_count": 280,
   "metadata": {},
   "outputs": [
    {
     "data": {
      "text/plain": [
       "data\n",
       "2023-01-01    21\n",
       "2023-02-01    25\n",
       "2023-03-01    23\n",
       "2023-04-01    24\n",
       "2023-05-01    21\n",
       "2023-06-01    23\n",
       "2023-07-01    23\n",
       "2023-08-01    27\n",
       "2023-09-01    26\n",
       "2023-10-01    26\n",
       "Name: CD_ATIVO, dtype: int64"
      ]
     },
     "execution_count": 280,
     "metadata": {},
     "output_type": "execute_result"
    }
   ],
   "source": [
    "# Número total de ações de cada mês do portfólio\n",
    "num_total_acoes(df=portfolio_squadra)"
   ]
  },
  {
   "cell_type": "code",
   "execution_count": 281,
   "metadata": {},
   "outputs": [
    {
     "data": {
      "text/plain": [
       "data\n",
       "2023-01-01    [EQTL3, PRIO3, RAIL3, GMAT3, GGPS3]\n",
       "2023-02-01    [EQTL3, RAIL3, PRIO3, GMAT3, GGPS3]\n",
       "2023-03-01    [EQTL3, RAIL3, PRIO3, GMAT3, GGPS3]\n",
       "2023-04-01    [EQTL3, RAIL3, PRIO3, GMAT3, GGPS3]\n",
       "2023-05-01    [EQTL3, RAIL3, GMAT3, PRIO3, GGPS3]\n",
       "2023-06-01    [EQTL3, RAIL3, PRIO3, GMAT3, GGPS3]\n",
       "2023-07-01    [EQTL3, PRIO3, RAIL3, GGPS3, GMAT3]\n",
       "2023-08-01    [RAIL3, EQTL3, GGPS3, GMAT3, PRIO3]\n",
       "2023-09-01    [RAIL3, EQTL3, GGPS3, GMAT3, UGPA3]\n",
       "2023-10-01    [RAIL3, EQTL3, GGPS3, VBBR3, GMAT3]\n",
       "Name: CD_ATIVO, dtype: object"
      ]
     },
     "execution_count": 281,
     "metadata": {},
     "output_type": "execute_result"
    }
   ],
   "source": [
    "# Rank das 5 maiores ações do fundo\n",
    "rank_top_5(df=portfolio_squadra)"
   ]
  },
  {
   "cell_type": "code",
   "execution_count": 282,
   "metadata": {},
   "outputs": [
    {
     "data": {
      "application/vnd.plotly.v1+json": {
       "config": {
        "plotlyServerURL": "https://plot.ly"
       },
       "data": [
        {
         "name": "01/2023",
         "orientation": "h",
         "type": "bar",
         "x": [
          24.756351754273208,
          10.11559134466126,
          9.825209569376312,
          8.629957128243241,
          7.809600304890281,
          6.790156739640765,
          5.52223206184278,
          5.1102220413407515,
          3.5948868691711695,
          3.4277898518749,
          2.839197117593734,
          2.158686278001018,
          2.095430955481048,
          1.992677774242625,
          1.78517220798326,
          1.5566485785412139,
          1.2097544665001858,
          0.3367316681206474,
          0.32275604643605793,
          0.09381671407275809,
          0.02713052771279252
         ],
         "xaxis": "x",
         "y": [
          "EQTL3",
          "PRIO3",
          "RAIL3",
          "GMAT3",
          "GGPS3",
          "AURE3",
          "ALSO3",
          "RENT3",
          "HAPV3",
          "VBBR3",
          "ITUB4",
          "MULT3",
          "ABEV3",
          "B3SA3",
          "MATD3",
          "UGPA3",
          "EQPA3",
          "ENEV3",
          "CRFB3",
          "CRDE3",
          "LWSA3"
         ],
         "yaxis": "y"
        },
        {
         "name": "02/2023",
         "orientation": "h",
         "type": "bar",
         "x": [
          22.66194350381102,
          12.6040397794226,
          9.246258637064539,
          7.827884263664468,
          7.810106639197602,
          6.595956146198323,
          6.382551814362805,
          5.6741842501580475,
          4.088277710665061,
          3.633447235741807,
          2.202931886550992,
          1.890652744952699,
          1.824235158565743,
          1.681364589154762,
          1.447866376466497,
          1.236663034312552,
          1.203895521323209,
          0.8413944998588101,
          0.40439838902338693,
          0.2086361110496161,
          0.1935615127269356,
          0.1472128394006464,
          0.10164706543560849,
          0.08012654742128832,
          0.010763743470977041
         ],
         "xaxis": "x2",
         "y": [
          "EQTL3",
          "RAIL3",
          "PRIO3",
          "GMAT3",
          "GGPS3",
          "AURE3",
          "RENT3",
          "ALSO3",
          "HAPV3",
          "VBBR3",
          "MGLU3",
          "B3SA3",
          "MATD3",
          "UGPA3",
          "ABEV3",
          "ITUB4",
          "EQPA3",
          "MULT3",
          "VIIA3",
          "INTB3",
          "CRFB3",
          "PETZ3",
          "CRDE3",
          "LWSA3",
          "ENEV3"
         ],
         "yaxis": "y2"
        },
        {
         "name": "03/2023",
         "orientation": "h",
         "type": "bar",
         "x": [
          23.561173523880722,
          12.629947443386719,
          11.17698342774692,
          10.084511062566,
          8.35156805927245,
          7.2907759553681215,
          6.164763393190398,
          4.529260616519891,
          4.29782551938965,
          2.524253722541832,
          1.9778736974135531,
          1.718172233646341,
          1.190706984842292,
          1.054749573591807,
          0.9279791838364516,
          0.858843861794412,
          0.4863727006687456,
          0.3890624116607525,
          0.3515489951376588,
          0.218379962502011,
          0.09639039568974794,
          0.093569771017189,
          0.02528750433634744
         ],
         "xaxis": "x3",
         "y": [
          "EQTL3",
          "RAIL3",
          "PRIO3",
          "GMAT3",
          "GGPS3",
          "AURE3",
          "ALSO3",
          "RENT3",
          "VBBR3",
          "HAPV3",
          "MGLU3",
          "MATD3",
          "EQPA3",
          "INTB3",
          "WEGE3",
          "ABEV3",
          "ITUB4",
          "VIIA3",
          "UGPA3",
          "MULT3",
          "LWSA3",
          "CRDE3",
          "CRFB3"
         ],
         "yaxis": "y3"
        },
        {
         "name": "04/2023",
         "orientation": "h",
         "type": "bar",
         "x": [
          23.02005820257219,
          10.81300505571043,
          10.25821662443977,
          9.7362024630324,
          8.669028451813377,
          7.878581323710268,
          6.520076694124651,
          4.767888699157592,
          4.750558501867204,
          1.8363229773385292,
          1.830277172249015,
          1.8132455812482708,
          1.504374499984228,
          1.251643210293162,
          0.9740578162192272,
          0.9398817666694986,
          0.8913398222546278,
          0.8475611952417023,
          0.42836784996971805,
          0.4073842701617289,
          0.3947790415295898,
          0.212172970152025,
          0.1684353309771297,
          0.086540479283652
         ],
         "xaxis": "x4",
         "y": [
          "EQTL3",
          "RAIL3",
          "PRIO3",
          "GMAT3",
          "GGPS3",
          "AURE3",
          "ALSO3",
          "VBBR3",
          "RENT3",
          "MATD3",
          "UGPA3",
          "HAPV3",
          "MGLU3",
          "EQPA3",
          "ITUB4",
          "WEGE3",
          "MULT3",
          "ABEV3",
          "PETZ3",
          "INTB3",
          "VIIA3",
          "CXSE3",
          "CRFB3",
          "CRDE3"
         ],
         "yaxis": "y4"
        },
        {
         "name": "05/2023",
         "orientation": "h",
         "type": "bar",
         "x": [
          21.532021814626702,
          11.13222580962205,
          10.79849300032015,
          9.45102260459143,
          8.870656464302062,
          6.879172094057067,
          6.694549515621794,
          6.148675878868719,
          3.609988883442051,
          3.558088933495037,
          3.233412925103648,
          1.771053892303455,
          1.685255105773805,
          1.298365502646166,
          1.086828199722384,
          0.7636822428832182,
          0.6623272144250789,
          0.353818423887801,
          0.3468410258475731,
          0.07557506299178819,
          0.0479454054680071
         ],
         "xaxis": "x5",
         "y": [
          "EQTL3",
          "RAIL3",
          "GMAT3",
          "PRIO3",
          "GGPS3",
          "ALSO3",
          "VBBR3",
          "AURE3",
          "RENT3",
          "UGPA3",
          "MGLU3",
          "MATD3",
          "HAPV3",
          "WEGE3",
          "EQPA3",
          "ABEV3",
          "VIIA3",
          "INTB3",
          "PETZ3",
          "CRDE3",
          "RDOR3"
         ],
         "yaxis": "y5"
        },
        {
         "name": "06/2023",
         "orientation": "h",
         "type": "bar",
         "x": [
          24.06309476722524,
          10.35259042071913,
          9.279792937291539,
          9.240119068107223,
          9.163817217005105,
          7.358291432757761,
          6.872341215803572,
          5.852833606750119,
          4.6310402205979635,
          3.980731041950477,
          2.025290227575855,
          1.868122560911483,
          1.627914821200512,
          1.0760252473568699,
          0.7547926294458572,
          0.655611521633383,
          0.34169521921825813,
          0.3378514463974125,
          0.1490378920325659,
          0.13452582690001322,
          0.09412909964764174,
          0.08122104811019754,
          0.05913053136181015
         ],
         "xaxis": "x6",
         "y": [
          "EQTL3",
          "RAIL3",
          "PRIO3",
          "GMAT3",
          "GGPS3",
          "VBBR3",
          "RENT3",
          "AURE3",
          "ALSO3",
          "UGPA3",
          "MATD3",
          "MGLU3",
          "HAPV3",
          "EQPA3",
          "ABEV3",
          "VIIA3",
          "WEGE3",
          "RDOR3",
          "INTB3",
          "LWSA3",
          "PETZ3",
          "FIEI3",
          "ASAI3"
         ],
         "yaxis": "y6"
        },
        {
         "name": "07/2023",
         "orientation": "h",
         "type": "bar",
         "x": [
          17.98843000895394,
          11.63224019245754,
          11.15833152227751,
          8.763938399367415,
          8.691114357590452,
          7.795574719900096,
          6.044947567115352,
          5.5255066173745195,
          5.0973711051144575,
          4.391748034263014,
          2.32440241355336,
          2.141786237156158,
          1.8780796401317579,
          1.803010996176514,
          1.5250549461723681,
          1.0757283334683458,
          0.7572313505731008,
          0.6333630100664219,
          0.27318620886421496,
          0.2694442229309606,
          0.1026125303978105,
          0.0781015075668873,
          0.04879607852780229
         ],
         "xaxis": "x7",
         "y": [
          "EQTL3",
          "PRIO3",
          "RAIL3",
          "GGPS3",
          "GMAT3",
          "RENT3",
          "VBBR3",
          "AURE3",
          "UGPA3",
          "ALSO3",
          "WEGE3",
          "MGLU3",
          "MATD3",
          "HAPV3",
          "ABEV3",
          "EQPA3",
          "PETZ3",
          "VIIA3",
          "ASAI3",
          "INTB3",
          "LWSA3",
          "FIEI3",
          "RDOR3"
         ],
         "yaxis": "y7"
        },
        {
         "name": "08/2023",
         "orientation": "h",
         "type": "bar",
         "x": [
          15.51743875563307,
          13.87110039148062,
          9.270049892598257,
          8.409745714964627,
          6.99432396719636,
          6.867272703157496,
          5.572557275999669,
          5.407804061162613,
          4.893260801407946,
          3.0184434602957397,
          2.872870003883182,
          2.5392234709971166,
          2.355872313528188,
          1.870720020266682,
          1.790379472618666,
          1.764478828166989,
          1.6304276522669752,
          1.3240515960110322,
          1.10163749206367,
          0.6284538929749062,
          0.577780189836225,
          0.5491491199737326,
          0.4335888200929055,
          0.2996818626542247,
          0.2608396686836413,
          0.10068081235453999,
          0.0781677597309329
         ],
         "xaxis": "x8",
         "y": [
          "RAIL3",
          "EQTL3",
          "GGPS3",
          "GMAT3",
          "PRIO3",
          "VBBR3",
          "RENT3",
          "AURE3",
          "UGPA3",
          "ALSO3",
          "ELET3",
          "CPLE6",
          "ABEV3",
          "HAPV3",
          "CPLE3",
          "MATD3",
          "MGLU3",
          "WEGE3",
          "EQPA3",
          "PETZ3",
          "ELET6",
          "LWSA3",
          "RDOR3",
          "BBDC4",
          "VIIA3",
          "INTB3",
          "FIEI3"
         ],
         "yaxis": "y8"
        },
        {
         "name": "09/2023",
         "orientation": "h",
         "type": "bar",
         "x": [
          17.709125114540882,
          15.622996335292111,
          9.185166180282376,
          8.25843050075213,
          6.766752356127563,
          6.494100437755359,
          6.264252288156437,
          5.143918916540606,
          5.028029421613697,
          4.321157412952063,
          3.821793722399526,
          1.6684308752360408,
          1.65359674629353,
          1.2827132785444,
          1.252710634917674,
          1.200359683970968,
          1.026816081530613,
          0.757913839131944,
          0.6557894770866601,
          0.5707443708153083,
          0.4730808732580086,
          0.40318687101992756,
          0.2207393708729685,
          0.13380367875953642,
          0.0830768117908326,
          0.001314720358842961
         ],
         "xaxis": "x9",
         "y": [
          "RAIL3",
          "EQTL3",
          "GGPS3",
          "GMAT3",
          "UGPA3",
          "VBBR3",
          "PRIO3",
          "ELET3",
          "RENT3",
          "AURE3",
          "HAPV3",
          "MATD3",
          "CPLE3",
          "CPLE6",
          "WEGE3",
          "EQPA3",
          "BBDC4",
          "ELET6",
          "IRBR3",
          "ABEV3",
          "MGLU3",
          "RDOR3",
          "PETZ3",
          "INTB3",
          "FIEI3",
          "BHIA3"
         ],
         "yaxis": "y9"
        },
        {
         "name": "10/2023",
         "orientation": "h",
         "type": "bar",
         "x": [
          17.92049391509055,
          14.46406993780783,
          9.097615556868007,
          8.344651284100166,
          7.599785310233511,
          6.164039634374356,
          4.808967287292874,
          4.6968012565859185,
          4.114356794001847,
          3.617549366310227,
          3.558154667548762,
          3.080128960940745,
          2.984945247517492,
          1.659953951617954,
          1.44860591694515,
          1.263954532327923,
          1.259823026611763,
          1.214615939403579,
          0.6507109082633761,
          0.600715093104938,
          0.5926305710975963,
          0.3680832343685917,
          0.2334635075313612,
          0.17863906210415398,
          0.07623742443950846,
          0.0010076135118228739
         ],
         "xaxis": "x10",
         "y": [
          "RAIL3",
          "EQTL3",
          "GGPS3",
          "VBBR3",
          "GMAT3",
          "WEGE3",
          "HAPV3",
          "UGPA3",
          "ITUB4",
          "AURE3",
          "PRIO3",
          "RENT3",
          "ELET3",
          "CPLE3",
          "MATD3",
          "CPLE6",
          "EQPA3",
          "BBDC4",
          "IRBR3",
          "ABEV3",
          "ELET6",
          "RDOR3",
          "MGLU3",
          "PETZ3",
          "FIEI3",
          "BHIA3"
         ],
         "yaxis": "y10"
        }
       ],
       "layout": {
        "annotations": [
         {
          "font": {
           "size": 16
          },
          "showarrow": false,
          "text": "Distribuição Percentual do Portfólio - 01/2023",
          "x": 0.5,
          "xanchor": "center",
          "xref": "paper",
          "y": 0.9999999999999999,
          "yanchor": "bottom",
          "yref": "paper"
         },
         {
          "font": {
           "size": 16
          },
          "showarrow": false,
          "text": "Distribuição Percentual do Portfólio - 02/2023",
          "x": 0.5,
          "xanchor": "center",
          "xref": "paper",
          "y": 0.898,
          "yanchor": "bottom",
          "yref": "paper"
         },
         {
          "font": {
           "size": 16
          },
          "showarrow": false,
          "text": "Distribuição Percentual do Portfólio - 03/2023",
          "x": 0.5,
          "xanchor": "center",
          "xref": "paper",
          "y": 0.796,
          "yanchor": "bottom",
          "yref": "paper"
         },
         {
          "font": {
           "size": 16
          },
          "showarrow": false,
          "text": "Distribuição Percentual do Portfólio - 04/2023",
          "x": 0.5,
          "xanchor": "center",
          "xref": "paper",
          "y": 0.6940000000000001,
          "yanchor": "bottom",
          "yref": "paper"
         },
         {
          "font": {
           "size": 16
          },
          "showarrow": false,
          "text": "Distribuição Percentual do Portfólio - 05/2023",
          "x": 0.5,
          "xanchor": "center",
          "xref": "paper",
          "y": 0.592,
          "yanchor": "bottom",
          "yref": "paper"
         },
         {
          "font": {
           "size": 16
          },
          "showarrow": false,
          "text": "Distribuição Percentual do Portfólio - 06/2023",
          "x": 0.5,
          "xanchor": "center",
          "xref": "paper",
          "y": 0.49000000000000005,
          "yanchor": "bottom",
          "yref": "paper"
         },
         {
          "font": {
           "size": 16
          },
          "showarrow": false,
          "text": "Distribuição Percentual do Portfólio - 07/2023",
          "x": 0.5,
          "xanchor": "center",
          "xref": "paper",
          "y": 0.388,
          "yanchor": "bottom",
          "yref": "paper"
         },
         {
          "font": {
           "size": 16
          },
          "showarrow": false,
          "text": "Distribuição Percentual do Portfólio - 08/2023",
          "x": 0.5,
          "xanchor": "center",
          "xref": "paper",
          "y": 0.28600000000000003,
          "yanchor": "bottom",
          "yref": "paper"
         },
         {
          "font": {
           "size": 16
          },
          "showarrow": false,
          "text": "Distribuição Percentual do Portfólio - 09/2023",
          "x": 0.5,
          "xanchor": "center",
          "xref": "paper",
          "y": 0.184,
          "yanchor": "bottom",
          "yref": "paper"
         },
         {
          "font": {
           "size": 16
          },
          "showarrow": false,
          "text": "Distribuição Percentual do Portfólio - 10/2023",
          "x": 0.5,
          "xanchor": "center",
          "xref": "paper",
          "y": 0.082,
          "yanchor": "bottom",
          "yref": "paper"
         }
        ],
        "height": 6000,
        "template": {
         "data": {
          "bar": [
           {
            "error_x": {
             "color": "#2a3f5f"
            },
            "error_y": {
             "color": "#2a3f5f"
            },
            "marker": {
             "line": {
              "color": "#E5ECF6",
              "width": 0.5
             },
             "pattern": {
              "fillmode": "overlay",
              "size": 10,
              "solidity": 0.2
             }
            },
            "type": "bar"
           }
          ],
          "barpolar": [
           {
            "marker": {
             "line": {
              "color": "#E5ECF6",
              "width": 0.5
             },
             "pattern": {
              "fillmode": "overlay",
              "size": 10,
              "solidity": 0.2
             }
            },
            "type": "barpolar"
           }
          ],
          "carpet": [
           {
            "aaxis": {
             "endlinecolor": "#2a3f5f",
             "gridcolor": "white",
             "linecolor": "white",
             "minorgridcolor": "white",
             "startlinecolor": "#2a3f5f"
            },
            "baxis": {
             "endlinecolor": "#2a3f5f",
             "gridcolor": "white",
             "linecolor": "white",
             "minorgridcolor": "white",
             "startlinecolor": "#2a3f5f"
            },
            "type": "carpet"
           }
          ],
          "choropleth": [
           {
            "colorbar": {
             "outlinewidth": 0,
             "ticks": ""
            },
            "type": "choropleth"
           }
          ],
          "contour": [
           {
            "colorbar": {
             "outlinewidth": 0,
             "ticks": ""
            },
            "colorscale": [
             [
              0,
              "#0d0887"
             ],
             [
              0.1111111111111111,
              "#46039f"
             ],
             [
              0.2222222222222222,
              "#7201a8"
             ],
             [
              0.3333333333333333,
              "#9c179e"
             ],
             [
              0.4444444444444444,
              "#bd3786"
             ],
             [
              0.5555555555555556,
              "#d8576b"
             ],
             [
              0.6666666666666666,
              "#ed7953"
             ],
             [
              0.7777777777777778,
              "#fb9f3a"
             ],
             [
              0.8888888888888888,
              "#fdca26"
             ],
             [
              1,
              "#f0f921"
             ]
            ],
            "type": "contour"
           }
          ],
          "contourcarpet": [
           {
            "colorbar": {
             "outlinewidth": 0,
             "ticks": ""
            },
            "type": "contourcarpet"
           }
          ],
          "heatmap": [
           {
            "colorbar": {
             "outlinewidth": 0,
             "ticks": ""
            },
            "colorscale": [
             [
              0,
              "#0d0887"
             ],
             [
              0.1111111111111111,
              "#46039f"
             ],
             [
              0.2222222222222222,
              "#7201a8"
             ],
             [
              0.3333333333333333,
              "#9c179e"
             ],
             [
              0.4444444444444444,
              "#bd3786"
             ],
             [
              0.5555555555555556,
              "#d8576b"
             ],
             [
              0.6666666666666666,
              "#ed7953"
             ],
             [
              0.7777777777777778,
              "#fb9f3a"
             ],
             [
              0.8888888888888888,
              "#fdca26"
             ],
             [
              1,
              "#f0f921"
             ]
            ],
            "type": "heatmap"
           }
          ],
          "heatmapgl": [
           {
            "colorbar": {
             "outlinewidth": 0,
             "ticks": ""
            },
            "colorscale": [
             [
              0,
              "#0d0887"
             ],
             [
              0.1111111111111111,
              "#46039f"
             ],
             [
              0.2222222222222222,
              "#7201a8"
             ],
             [
              0.3333333333333333,
              "#9c179e"
             ],
             [
              0.4444444444444444,
              "#bd3786"
             ],
             [
              0.5555555555555556,
              "#d8576b"
             ],
             [
              0.6666666666666666,
              "#ed7953"
             ],
             [
              0.7777777777777778,
              "#fb9f3a"
             ],
             [
              0.8888888888888888,
              "#fdca26"
             ],
             [
              1,
              "#f0f921"
             ]
            ],
            "type": "heatmapgl"
           }
          ],
          "histogram": [
           {
            "marker": {
             "pattern": {
              "fillmode": "overlay",
              "size": 10,
              "solidity": 0.2
             }
            },
            "type": "histogram"
           }
          ],
          "histogram2d": [
           {
            "colorbar": {
             "outlinewidth": 0,
             "ticks": ""
            },
            "colorscale": [
             [
              0,
              "#0d0887"
             ],
             [
              0.1111111111111111,
              "#46039f"
             ],
             [
              0.2222222222222222,
              "#7201a8"
             ],
             [
              0.3333333333333333,
              "#9c179e"
             ],
             [
              0.4444444444444444,
              "#bd3786"
             ],
             [
              0.5555555555555556,
              "#d8576b"
             ],
             [
              0.6666666666666666,
              "#ed7953"
             ],
             [
              0.7777777777777778,
              "#fb9f3a"
             ],
             [
              0.8888888888888888,
              "#fdca26"
             ],
             [
              1,
              "#f0f921"
             ]
            ],
            "type": "histogram2d"
           }
          ],
          "histogram2dcontour": [
           {
            "colorbar": {
             "outlinewidth": 0,
             "ticks": ""
            },
            "colorscale": [
             [
              0,
              "#0d0887"
             ],
             [
              0.1111111111111111,
              "#46039f"
             ],
             [
              0.2222222222222222,
              "#7201a8"
             ],
             [
              0.3333333333333333,
              "#9c179e"
             ],
             [
              0.4444444444444444,
              "#bd3786"
             ],
             [
              0.5555555555555556,
              "#d8576b"
             ],
             [
              0.6666666666666666,
              "#ed7953"
             ],
             [
              0.7777777777777778,
              "#fb9f3a"
             ],
             [
              0.8888888888888888,
              "#fdca26"
             ],
             [
              1,
              "#f0f921"
             ]
            ],
            "type": "histogram2dcontour"
           }
          ],
          "mesh3d": [
           {
            "colorbar": {
             "outlinewidth": 0,
             "ticks": ""
            },
            "type": "mesh3d"
           }
          ],
          "parcoords": [
           {
            "line": {
             "colorbar": {
              "outlinewidth": 0,
              "ticks": ""
             }
            },
            "type": "parcoords"
           }
          ],
          "pie": [
           {
            "automargin": true,
            "type": "pie"
           }
          ],
          "scatter": [
           {
            "fillpattern": {
             "fillmode": "overlay",
             "size": 10,
             "solidity": 0.2
            },
            "type": "scatter"
           }
          ],
          "scatter3d": [
           {
            "line": {
             "colorbar": {
              "outlinewidth": 0,
              "ticks": ""
             }
            },
            "marker": {
             "colorbar": {
              "outlinewidth": 0,
              "ticks": ""
             }
            },
            "type": "scatter3d"
           }
          ],
          "scattercarpet": [
           {
            "marker": {
             "colorbar": {
              "outlinewidth": 0,
              "ticks": ""
             }
            },
            "type": "scattercarpet"
           }
          ],
          "scattergeo": [
           {
            "marker": {
             "colorbar": {
              "outlinewidth": 0,
              "ticks": ""
             }
            },
            "type": "scattergeo"
           }
          ],
          "scattergl": [
           {
            "marker": {
             "colorbar": {
              "outlinewidth": 0,
              "ticks": ""
             }
            },
            "type": "scattergl"
           }
          ],
          "scattermapbox": [
           {
            "marker": {
             "colorbar": {
              "outlinewidth": 0,
              "ticks": ""
             }
            },
            "type": "scattermapbox"
           }
          ],
          "scatterpolar": [
           {
            "marker": {
             "colorbar": {
              "outlinewidth": 0,
              "ticks": ""
             }
            },
            "type": "scatterpolar"
           }
          ],
          "scatterpolargl": [
           {
            "marker": {
             "colorbar": {
              "outlinewidth": 0,
              "ticks": ""
             }
            },
            "type": "scatterpolargl"
           }
          ],
          "scatterternary": [
           {
            "marker": {
             "colorbar": {
              "outlinewidth": 0,
              "ticks": ""
             }
            },
            "type": "scatterternary"
           }
          ],
          "surface": [
           {
            "colorbar": {
             "outlinewidth": 0,
             "ticks": ""
            },
            "colorscale": [
             [
              0,
              "#0d0887"
             ],
             [
              0.1111111111111111,
              "#46039f"
             ],
             [
              0.2222222222222222,
              "#7201a8"
             ],
             [
              0.3333333333333333,
              "#9c179e"
             ],
             [
              0.4444444444444444,
              "#bd3786"
             ],
             [
              0.5555555555555556,
              "#d8576b"
             ],
             [
              0.6666666666666666,
              "#ed7953"
             ],
             [
              0.7777777777777778,
              "#fb9f3a"
             ],
             [
              0.8888888888888888,
              "#fdca26"
             ],
             [
              1,
              "#f0f921"
             ]
            ],
            "type": "surface"
           }
          ],
          "table": [
           {
            "cells": {
             "fill": {
              "color": "#EBF0F8"
             },
             "line": {
              "color": "white"
             }
            },
            "header": {
             "fill": {
              "color": "#C8D4E3"
             },
             "line": {
              "color": "white"
             }
            },
            "type": "table"
           }
          ]
         },
         "layout": {
          "annotationdefaults": {
           "arrowcolor": "#2a3f5f",
           "arrowhead": 0,
           "arrowwidth": 1
          },
          "autotypenumbers": "strict",
          "coloraxis": {
           "colorbar": {
            "outlinewidth": 0,
            "ticks": ""
           }
          },
          "colorscale": {
           "diverging": [
            [
             0,
             "#8e0152"
            ],
            [
             0.1,
             "#c51b7d"
            ],
            [
             0.2,
             "#de77ae"
            ],
            [
             0.3,
             "#f1b6da"
            ],
            [
             0.4,
             "#fde0ef"
            ],
            [
             0.5,
             "#f7f7f7"
            ],
            [
             0.6,
             "#e6f5d0"
            ],
            [
             0.7,
             "#b8e186"
            ],
            [
             0.8,
             "#7fbc41"
            ],
            [
             0.9,
             "#4d9221"
            ],
            [
             1,
             "#276419"
            ]
           ],
           "sequential": [
            [
             0,
             "#0d0887"
            ],
            [
             0.1111111111111111,
             "#46039f"
            ],
            [
             0.2222222222222222,
             "#7201a8"
            ],
            [
             0.3333333333333333,
             "#9c179e"
            ],
            [
             0.4444444444444444,
             "#bd3786"
            ],
            [
             0.5555555555555556,
             "#d8576b"
            ],
            [
             0.6666666666666666,
             "#ed7953"
            ],
            [
             0.7777777777777778,
             "#fb9f3a"
            ],
            [
             0.8888888888888888,
             "#fdca26"
            ],
            [
             1,
             "#f0f921"
            ]
           ],
           "sequentialminus": [
            [
             0,
             "#0d0887"
            ],
            [
             0.1111111111111111,
             "#46039f"
            ],
            [
             0.2222222222222222,
             "#7201a8"
            ],
            [
             0.3333333333333333,
             "#9c179e"
            ],
            [
             0.4444444444444444,
             "#bd3786"
            ],
            [
             0.5555555555555556,
             "#d8576b"
            ],
            [
             0.6666666666666666,
             "#ed7953"
            ],
            [
             0.7777777777777778,
             "#fb9f3a"
            ],
            [
             0.8888888888888888,
             "#fdca26"
            ],
            [
             1,
             "#f0f921"
            ]
           ]
          },
          "colorway": [
           "#636efa",
           "#EF553B",
           "#00cc96",
           "#ab63fa",
           "#FFA15A",
           "#19d3f3",
           "#FF6692",
           "#B6E880",
           "#FF97FF",
           "#FECB52"
          ],
          "font": {
           "color": "#2a3f5f"
          },
          "geo": {
           "bgcolor": "white",
           "lakecolor": "white",
           "landcolor": "#E5ECF6",
           "showlakes": true,
           "showland": true,
           "subunitcolor": "white"
          },
          "hoverlabel": {
           "align": "left"
          },
          "hovermode": "closest",
          "mapbox": {
           "style": "light"
          },
          "paper_bgcolor": "white",
          "plot_bgcolor": "#E5ECF6",
          "polar": {
           "angularaxis": {
            "gridcolor": "white",
            "linecolor": "white",
            "ticks": ""
           },
           "bgcolor": "#E5ECF6",
           "radialaxis": {
            "gridcolor": "white",
            "linecolor": "white",
            "ticks": ""
           }
          },
          "scene": {
           "xaxis": {
            "backgroundcolor": "#E5ECF6",
            "gridcolor": "white",
            "gridwidth": 2,
            "linecolor": "white",
            "showbackground": true,
            "ticks": "",
            "zerolinecolor": "white"
           },
           "yaxis": {
            "backgroundcolor": "#E5ECF6",
            "gridcolor": "white",
            "gridwidth": 2,
            "linecolor": "white",
            "showbackground": true,
            "ticks": "",
            "zerolinecolor": "white"
           },
           "zaxis": {
            "backgroundcolor": "#E5ECF6",
            "gridcolor": "white",
            "gridwidth": 2,
            "linecolor": "white",
            "showbackground": true,
            "ticks": "",
            "zerolinecolor": "white"
           }
          },
          "shapedefaults": {
           "line": {
            "color": "#2a3f5f"
           }
          },
          "ternary": {
           "aaxis": {
            "gridcolor": "white",
            "linecolor": "white",
            "ticks": ""
           },
           "baxis": {
            "gridcolor": "white",
            "linecolor": "white",
            "ticks": ""
           },
           "bgcolor": "#E5ECF6",
           "caxis": {
            "gridcolor": "white",
            "linecolor": "white",
            "ticks": ""
           }
          },
          "title": {
           "x": 0.05
          },
          "xaxis": {
           "automargin": true,
           "gridcolor": "white",
           "linecolor": "white",
           "ticks": "",
           "title": {
            "standoff": 15
           },
           "zerolinecolor": "white",
           "zerolinewidth": 2
          },
          "yaxis": {
           "automargin": true,
           "gridcolor": "white",
           "linecolor": "white",
           "ticks": "",
           "title": {
            "standoff": 15
           },
           "zerolinecolor": "white",
           "zerolinewidth": 2
          }
         }
        },
        "title": {
         "text": "Portfólio do Fundo Squadra"
        },
        "width": 900,
        "xaxis": {
         "anchor": "y",
         "domain": [
          0,
          1
         ]
        },
        "xaxis10": {
         "anchor": "y10",
         "domain": [
          0,
          1
         ]
        },
        "xaxis2": {
         "anchor": "y2",
         "domain": [
          0,
          1
         ]
        },
        "xaxis3": {
         "anchor": "y3",
         "domain": [
          0,
          1
         ]
        },
        "xaxis4": {
         "anchor": "y4",
         "domain": [
          0,
          1
         ]
        },
        "xaxis5": {
         "anchor": "y5",
         "domain": [
          0,
          1
         ]
        },
        "xaxis6": {
         "anchor": "y6",
         "domain": [
          0,
          1
         ]
        },
        "xaxis7": {
         "anchor": "y7",
         "domain": [
          0,
          1
         ]
        },
        "xaxis8": {
         "anchor": "y8",
         "domain": [
          0,
          1
         ]
        },
        "xaxis9": {
         "anchor": "y9",
         "domain": [
          0,
          1
         ]
        },
        "yaxis": {
         "anchor": "x",
         "domain": [
          0.9179999999999999,
          0.9999999999999999
         ]
        },
        "yaxis10": {
         "anchor": "x10",
         "domain": [
          0,
          0.082
         ]
        },
        "yaxis2": {
         "anchor": "x2",
         "domain": [
          0.8160000000000001,
          0.898
         ]
        },
        "yaxis3": {
         "anchor": "x3",
         "domain": [
          0.7140000000000001,
          0.796
         ]
        },
        "yaxis4": {
         "anchor": "x4",
         "domain": [
          0.6120000000000001,
          0.6940000000000001
         ]
        },
        "yaxis5": {
         "anchor": "x5",
         "domain": [
          0.51,
          0.592
         ]
        },
        "yaxis6": {
         "anchor": "x6",
         "domain": [
          0.40800000000000003,
          0.49000000000000005
         ]
        },
        "yaxis7": {
         "anchor": "x7",
         "domain": [
          0.306,
          0.388
         ]
        },
        "yaxis8": {
         "anchor": "x8",
         "domain": [
          0.20400000000000001,
          0.28600000000000003
         ]
        },
        "yaxis9": {
         "anchor": "x9",
         "domain": [
          0.10200000000000001,
          0.184
         ]
        }
       }
      }
     },
     "metadata": {},
     "output_type": "display_data"
    }
   ],
   "source": [
    "# Plotando o portfólio de cada mês\n",
    "plot_portfolio(df=portfolio_squadra, nome_fundo='Squadra')"
   ]
  },
  {
   "cell_type": "markdown",
   "metadata": {},
   "source": [
    "### Fundo Guepardo"
   ]
  },
  {
   "cell_type": "markdown",
   "metadata": {},
   "source": [
    "* https://maisretorno.com/fundo/guepardo-institucional-master-fia"
   ]
  },
  {
   "cell_type": "code",
   "execution_count": 283,
   "metadata": {},
   "outputs": [
    {
     "data": {
      "text/html": [
       "<div>\n",
       "<style scoped>\n",
       "    .dataframe tbody tr th:only-of-type {\n",
       "        vertical-align: middle;\n",
       "    }\n",
       "\n",
       "    .dataframe tbody tr th {\n",
       "        vertical-align: top;\n",
       "    }\n",
       "\n",
       "    .dataframe thead th {\n",
       "        text-align: right;\n",
       "    }\n",
       "</style>\n",
       "<table border=\"1\" class=\"dataframe\">\n",
       "  <thead>\n",
       "    <tr style=\"text-align: right;\">\n",
       "      <th></th>\n",
       "      <th>ret_mensal</th>\n",
       "    </tr>\n",
       "    <tr>\n",
       "      <th>DT_COMPTC</th>\n",
       "      <th></th>\n",
       "    </tr>\n",
       "  </thead>\n",
       "  <tbody>\n",
       "    <tr>\n",
       "      <th>2023-01-31</th>\n",
       "      <td>-0.74</td>\n",
       "    </tr>\n",
       "    <tr>\n",
       "      <th>2023-02-28</th>\n",
       "      <td>-3.55</td>\n",
       "    </tr>\n",
       "    <tr>\n",
       "      <th>2023-03-31</th>\n",
       "      <td>-0.86</td>\n",
       "    </tr>\n",
       "    <tr>\n",
       "      <th>2023-04-28</th>\n",
       "      <td>6.05</td>\n",
       "    </tr>\n",
       "    <tr>\n",
       "      <th>2023-05-31</th>\n",
       "      <td>14.29</td>\n",
       "    </tr>\n",
       "    <tr>\n",
       "      <th>2023-06-30</th>\n",
       "      <td>9.84</td>\n",
       "    </tr>\n",
       "    <tr>\n",
       "      <th>2023-07-31</th>\n",
       "      <td>5.92</td>\n",
       "    </tr>\n",
       "    <tr>\n",
       "      <th>2023-08-31</th>\n",
       "      <td>-2.77</td>\n",
       "    </tr>\n",
       "    <tr>\n",
       "      <th>2023-09-29</th>\n",
       "      <td>1.84</td>\n",
       "    </tr>\n",
       "    <tr>\n",
       "      <th>2023-10-31</th>\n",
       "      <td>-3.34</td>\n",
       "    </tr>\n",
       "    <tr>\n",
       "      <th>2023-11-30</th>\n",
       "      <td>13.88</td>\n",
       "    </tr>\n",
       "    <tr>\n",
       "      <th>2023-12-29</th>\n",
       "      <td>2.32</td>\n",
       "    </tr>\n",
       "    <tr>\n",
       "      <th>2024-01-31</th>\n",
       "      <td>-1.27</td>\n",
       "    </tr>\n",
       "    <tr>\n",
       "      <th>2024-02-29</th>\n",
       "      <td>4.15</td>\n",
       "    </tr>\n",
       "    <tr>\n",
       "      <th>2024-03-28</th>\n",
       "      <td>2.17</td>\n",
       "    </tr>\n",
       "    <tr>\n",
       "      <th>2024-04-30</th>\n",
       "      <td>-8.54</td>\n",
       "    </tr>\n",
       "  </tbody>\n",
       "</table>\n",
       "</div>"
      ],
      "text/plain": [
       "            ret_mensal\n",
       "DT_COMPTC             \n",
       "2023-01-31       -0.74\n",
       "2023-02-28       -3.55\n",
       "2023-03-31       -0.86\n",
       "2023-04-28        6.05\n",
       "2023-05-31       14.29\n",
       "2023-06-30        9.84\n",
       "2023-07-31        5.92\n",
       "2023-08-31       -2.77\n",
       "2023-09-29        1.84\n",
       "2023-10-31       -3.34\n",
       "2023-11-30       13.88\n",
       "2023-12-29        2.32\n",
       "2024-01-31       -1.27\n",
       "2024-02-29        4.15\n",
       "2024-03-28        2.17\n",
       "2024-04-30       -8.54"
      ]
     },
     "execution_count": 283,
     "metadata": {},
     "output_type": "execute_result"
    }
   ],
   "source": [
    "# Rentabilidade mensal\n",
    "df_ret_mensal = rentabilidade_fundo(df=df_inf_diario, cnpj='14.213.077/0001-54')[0]\n",
    "df_ret_mensal"
   ]
  },
  {
   "cell_type": "code",
   "execution_count": 284,
   "metadata": {},
   "outputs": [
    {
     "data": {
      "text/html": [
       "<div>\n",
       "<style scoped>\n",
       "    .dataframe tbody tr th:only-of-type {\n",
       "        vertical-align: middle;\n",
       "    }\n",
       "\n",
       "    .dataframe tbody tr th {\n",
       "        vertical-align: top;\n",
       "    }\n",
       "\n",
       "    .dataframe thead th {\n",
       "        text-align: right;\n",
       "    }\n",
       "</style>\n",
       "<table border=\"1\" class=\"dataframe\">\n",
       "  <thead>\n",
       "    <tr style=\"text-align: right;\">\n",
       "      <th></th>\n",
       "      <th>ret_anual</th>\n",
       "    </tr>\n",
       "    <tr>\n",
       "      <th>DT_COMPTC</th>\n",
       "      <th></th>\n",
       "    </tr>\n",
       "  </thead>\n",
       "  <tbody>\n",
       "    <tr>\n",
       "      <th>2023</th>\n",
       "      <td>49.26</td>\n",
       "    </tr>\n",
       "    <tr>\n",
       "      <th>2024</th>\n",
       "      <td>-3.91</td>\n",
       "    </tr>\n",
       "  </tbody>\n",
       "</table>\n",
       "</div>"
      ],
      "text/plain": [
       "           ret_anual\n",
       "DT_COMPTC           \n",
       "2023           49.26\n",
       "2024           -3.91"
      ]
     },
     "execution_count": 284,
     "metadata": {},
     "output_type": "execute_result"
    }
   ],
   "source": [
    "# Rentabilidade anual\n",
    "df_ret_anual = rentabilidade_fundo(df=df_inf_diario, cnpj='14.213.077/0001-54')[1]\n",
    "df_ret_anual"
   ]
  },
  {
   "cell_type": "code",
   "execution_count": 285,
   "metadata": {},
   "outputs": [],
   "source": [
    "guepardo_acoes = fundo_cnpj_acoes(df=df_ativos, cnpj='14.213.077/0001-54')\n",
    "guepardo_pl = pl_fundo(\n",
    "    path=f'C://Users//vitor//projetos_python//python_b3//historico-arquivos//fundos_investimentos//fundos_cvm//{ano}{mes}//cda_fi_PL_{ano}{mes}.parquet', \n",
    "    cnpj='14.213.077/0001-54'\n",
    ")\n",
    "\n",
    "# Quantos porcertos cada categoria representa do PL final\n",
    "pct_acoes = round(pd.Series(guepardo_acoes['VL_MERC_POS_FINAL'].sum() / guepardo_pl.values), 4) \n",
    "\n",
    "# Criando a data do portfólio\n",
    "data = pd.to_datetime(f'{mes}-{ano}')\n",
    "\n",
    "# Adicionando a informação da porcentagem de cada categoria nos dfs\n",
    "# Ações\n",
    "linha_pct_acoes = {'DENOM_SOCIAL': 'PL% FUNDO', 'VL_MERC_POS_FINAL' : pct_acoes}\n",
    "df_linha_pct_acoes = pd.DataFrame(linha_pct_acoes)\n",
    "guepardo_acoes = pd.concat([guepardo_acoes, df_linha_pct_acoes], ignore_index=True)\n",
    "# Criando a coluna 'data' no df\n",
    "guepardo_acoes['data'] = data\n",
    "# Definindo a coluna 'data' como o index\n",
    "guepardo_acoes = guepardo_acoes.set_index('data')"
   ]
  },
  {
   "cell_type": "code",
   "execution_count": 286,
   "metadata": {},
   "outputs": [],
   "source": [
    "# Criando o arquivo excel em que cada categoria está em uma aba diferente\n",
    "with pd.ExcelWriter(f'C://Users//vitor//projetos_python//python_b3//composicao-fundos-de-investimentos//arquivos_fundos//guepardo//fundo_guepardo_{ano}{mes}.xlsx') as writer:\n",
    "    guepardo_acoes.to_excel(writer, sheet_name='acoes')\n",
    "    "
   ]
  },
  {
   "cell_type": "code",
   "execution_count": 287,
   "metadata": {},
   "outputs": [
    {
     "data": {
      "text/html": [
       "<div>\n",
       "<style scoped>\n",
       "    .dataframe tbody tr th:only-of-type {\n",
       "        vertical-align: middle;\n",
       "    }\n",
       "\n",
       "    .dataframe tbody tr th {\n",
       "        vertical-align: top;\n",
       "    }\n",
       "\n",
       "    .dataframe thead th {\n",
       "        text-align: right;\n",
       "    }\n",
       "</style>\n",
       "<table border=\"1\" class=\"dataframe\">\n",
       "  <thead>\n",
       "    <tr style=\"text-align: right;\">\n",
       "      <th></th>\n",
       "      <th>DENOM_SOCIAL</th>\n",
       "      <th>CD_ATIVO</th>\n",
       "      <th>PORCENTAGEM</th>\n",
       "      <th>VL_MERC_POS_FINAL</th>\n",
       "    </tr>\n",
       "    <tr>\n",
       "      <th>data</th>\n",
       "      <th></th>\n",
       "      <th></th>\n",
       "      <th></th>\n",
       "      <th></th>\n",
       "    </tr>\n",
       "  </thead>\n",
       "  <tbody>\n",
       "    <tr>\n",
       "      <th>2023-01-01</th>\n",
       "      <td>GUEPARDO INSTITUCIONAL MASTER FUNDO DE INVESTI...</td>\n",
       "      <td>VULC3</td>\n",
       "      <td>0.310343</td>\n",
       "      <td>2.492254e+08</td>\n",
       "    </tr>\n",
       "    <tr>\n",
       "      <th>2023-01-01</th>\n",
       "      <td>GUEPARDO INSTITUCIONAL MASTER FUNDO DE INVESTI...</td>\n",
       "      <td>ITUB4</td>\n",
       "      <td>0.172180</td>\n",
       "      <td>1.382715e+08</td>\n",
       "    </tr>\n",
       "    <tr>\n",
       "      <th>2023-01-01</th>\n",
       "      <td>GUEPARDO INSTITUCIONAL MASTER FUNDO DE INVESTI...</td>\n",
       "      <td>UGPA3</td>\n",
       "      <td>0.159579</td>\n",
       "      <td>1.281520e+08</td>\n",
       "    </tr>\n",
       "    <tr>\n",
       "      <th>2023-01-01</th>\n",
       "      <td>GUEPARDO INSTITUCIONAL MASTER FUNDO DE INVESTI...</td>\n",
       "      <td>RAIL3</td>\n",
       "      <td>0.150022</td>\n",
       "      <td>1.204777e+08</td>\n",
       "    </tr>\n",
       "    <tr>\n",
       "      <th>2023-01-01</th>\n",
       "      <td>GUEPARDO INSTITUCIONAL MASTER FUNDO DE INVESTI...</td>\n",
       "      <td>ANIM3</td>\n",
       "      <td>0.111362</td>\n",
       "      <td>8.943062e+07</td>\n",
       "    </tr>\n",
       "    <tr>\n",
       "      <th>...</th>\n",
       "      <td>...</td>\n",
       "      <td>...</td>\n",
       "      <td>...</td>\n",
       "      <td>...</td>\n",
       "    </tr>\n",
       "    <tr>\n",
       "      <th>2023-10-01</th>\n",
       "      <td>GUEPARDO INSTITUCIONAL MASTER FUNDO DE INVESTI...</td>\n",
       "      <td>FLRY3</td>\n",
       "      <td>0.015946</td>\n",
       "      <td>2.189535e+07</td>\n",
       "    </tr>\n",
       "    <tr>\n",
       "      <th>2023-10-01</th>\n",
       "      <td>GUEPARDO INSTITUCIONAL MASTER FUNDO DE INVESTI...</td>\n",
       "      <td>ITUB3</td>\n",
       "      <td>0.012293</td>\n",
       "      <td>1.687917e+07</td>\n",
       "    </tr>\n",
       "    <tr>\n",
       "      <th>2023-10-01</th>\n",
       "      <td>GUEPARDO INSTITUCIONAL MASTER FUNDO DE INVESTI...</td>\n",
       "      <td>VAMO3</td>\n",
       "      <td>0.009610</td>\n",
       "      <td>1.319546e+07</td>\n",
       "    </tr>\n",
       "    <tr>\n",
       "      <th>2023-10-01</th>\n",
       "      <td>GUEPARDO INSTITUCIONAL MASTER FUNDO DE INVESTI...</td>\n",
       "      <td>MYPK3</td>\n",
       "      <td>0.003080</td>\n",
       "      <td>4.229346e+06</td>\n",
       "    </tr>\n",
       "    <tr>\n",
       "      <th>2023-10-01</th>\n",
       "      <td>GUEPARDO INSTITUCIONAL MASTER FUNDO DE INVESTI...</td>\n",
       "      <td>CSAN3</td>\n",
       "      <td>0.000328</td>\n",
       "      <td>4.496940e+05</td>\n",
       "    </tr>\n",
       "  </tbody>\n",
       "</table>\n",
       "<p>109 rows × 4 columns</p>\n",
       "</div>"
      ],
      "text/plain": [
       "                                                 DENOM_SOCIAL CD_ATIVO  \\\n",
       "data                                                                     \n",
       "2023-01-01  GUEPARDO INSTITUCIONAL MASTER FUNDO DE INVESTI...    VULC3   \n",
       "2023-01-01  GUEPARDO INSTITUCIONAL MASTER FUNDO DE INVESTI...    ITUB4   \n",
       "2023-01-01  GUEPARDO INSTITUCIONAL MASTER FUNDO DE INVESTI...    UGPA3   \n",
       "2023-01-01  GUEPARDO INSTITUCIONAL MASTER FUNDO DE INVESTI...    RAIL3   \n",
       "2023-01-01  GUEPARDO INSTITUCIONAL MASTER FUNDO DE INVESTI...    ANIM3   \n",
       "...                                                       ...      ...   \n",
       "2023-10-01  GUEPARDO INSTITUCIONAL MASTER FUNDO DE INVESTI...    FLRY3   \n",
       "2023-10-01  GUEPARDO INSTITUCIONAL MASTER FUNDO DE INVESTI...    ITUB3   \n",
       "2023-10-01  GUEPARDO INSTITUCIONAL MASTER FUNDO DE INVESTI...    VAMO3   \n",
       "2023-10-01  GUEPARDO INSTITUCIONAL MASTER FUNDO DE INVESTI...    MYPK3   \n",
       "2023-10-01  GUEPARDO INSTITUCIONAL MASTER FUNDO DE INVESTI...    CSAN3   \n",
       "\n",
       "            PORCENTAGEM  VL_MERC_POS_FINAL  \n",
       "data                                        \n",
       "2023-01-01     0.310343       2.492254e+08  \n",
       "2023-01-01     0.172180       1.382715e+08  \n",
       "2023-01-01     0.159579       1.281520e+08  \n",
       "2023-01-01     0.150022       1.204777e+08  \n",
       "2023-01-01     0.111362       8.943062e+07  \n",
       "...                 ...                ...  \n",
       "2023-10-01     0.015946       2.189535e+07  \n",
       "2023-10-01     0.012293       1.687917e+07  \n",
       "2023-10-01     0.009610       1.319546e+07  \n",
       "2023-10-01     0.003080       4.229346e+06  \n",
       "2023-10-01     0.000328       4.496940e+05  \n",
       "\n",
       "[109 rows x 4 columns]"
      ]
     },
     "execution_count": 287,
     "metadata": {},
     "output_type": "execute_result"
    }
   ],
   "source": [
    "# Caminho da pasta do fundo Guepardo\n",
    "path_guepardo = 'C:\\\\Users\\\\vitor\\\\projetos_python\\\\python_b3\\\\composicao-fundos-de-investimentos\\\\arquivos_fundos\\\\guepardo\\\\'\n",
    "\n",
    "# Caminho completo de todos os arquivos que estão na pasta\n",
    "paths_arquivos_guepardo = glob.glob(path_guepardo + '*.xlsx')\n",
    "\n",
    "lst_dfs = []\n",
    "for path in paths_arquivos_guepardo:\n",
    "    df = pd.read_excel(path, sheet_name='acoes')\n",
    "    lst_dfs.append(df)\n",
    "\n",
    "# Concatendo os dfs de ações\n",
    "portfolio_guepardo = pd.concat(lst_dfs, ignore_index=True)\n",
    "\n",
    "# Retirando as ações que não tem nenhum dinheiro alocado  e os NAN\n",
    "portfolio_guepardo = portfolio_guepardo[portfolio_guepardo['VL_MERC_POS_FINAL'] != 0]\n",
    "portfolio_guepardo = portfolio_guepardo.dropna()\n",
    "\n",
    "# Definindo a coluna 'data' como o index\n",
    "portfolio_guepardo = portfolio_guepardo.set_index('data')\n",
    "portfolio_guepardo"
   ]
  },
  {
   "cell_type": "code",
   "execution_count": 288,
   "metadata": {},
   "outputs": [
    {
     "name": "stdout",
     "output_type": "stream",
     "text": [
      "Comparando o portfólio de 01/2023 e 02/2023:\n",
      "O Guepardo vendeu as ações: set()\n",
      "O Guepardo comprou as ações: set()\n",
      "--------------------------------------------------------------------------------\n",
      "Comparando o portfólio de 02/2023 e 03/2023:\n",
      "O Guepardo vendeu as ações: set()\n",
      "O Guepardo comprou as ações: set()\n",
      "--------------------------------------------------------------------------------\n",
      "Comparando o portfólio de 03/2023 e 04/2023:\n",
      "O Guepardo vendeu as ações: set()\n",
      "O Guepardo comprou as ações: set()\n",
      "--------------------------------------------------------------------------------\n",
      "Comparando o portfólio de 04/2023 e 05/2023:\n",
      "O Guepardo vendeu as ações: {'DXCO3'}\n",
      "O Guepardo comprou as ações: {'GGBR4'}\n",
      "--------------------------------------------------------------------------------\n",
      "Comparando o portfólio de 05/2023 e 06/2023:\n",
      "O Guepardo vendeu as ações: {'MLAS3', 'GMAT3'}\n",
      "O Guepardo comprou as ações: {'FLRY3'}\n",
      "--------------------------------------------------------------------------------\n",
      "Comparando o portfólio de 06/2023 e 07/2023:\n",
      "O Guepardo vendeu as ações: set()\n",
      "O Guepardo comprou as ações: {'TGMA3'}\n",
      "--------------------------------------------------------------------------------\n",
      "Comparando o portfólio de 07/2023 e 08/2023:\n",
      "O Guepardo vendeu as ações: {'TGMA3'}\n",
      "O Guepardo comprou as ações: {'GMAT3'}\n",
      "--------------------------------------------------------------------------------\n",
      "Comparando o portfólio de 08/2023 e 09/2023:\n",
      "O Guepardo vendeu as ações: {'ANIM3'}\n",
      "O Guepardo comprou as ações: set()\n",
      "--------------------------------------------------------------------------------\n",
      "Comparando o portfólio de 09/2023 e 10/2023:\n",
      "O Guepardo vendeu as ações: {'ALSO3'}\n",
      "O Guepardo comprou as ações: {'ALOS3', 'VAMO3', 'CSAN3'}\n",
      "--------------------------------------------------------------------------------\n"
     ]
    }
   ],
   "source": [
    "# Selecionando o conjunto de ações (portfólio) de cada mês - retornando um df com vários dicionários\n",
    "portfolio_mensal = portfolio_guepardo.groupby('data')['CD_ATIVO'].apply(set)\n",
    "\n",
    "# Convertendo o GroupBy resultante em DataFrame para facilitar a iteração\n",
    "portfolio_mensal = portfolio_mensal.reset_index()\n",
    "\n",
    "# Comparando o portfólio de cada mês\n",
    "comparar_portfolios(df=portfolio_mensal, nome_fundo='Guepardo')"
   ]
  },
  {
   "cell_type": "code",
   "execution_count": 289,
   "metadata": {},
   "outputs": [
    {
     "data": {
      "text/plain": [
       "data\n",
       "2023-01-01    11\n",
       "2023-02-01    11\n",
       "2023-03-01    11\n",
       "2023-04-01    11\n",
       "2023-05-01    11\n",
       "2023-06-01    10\n",
       "2023-07-01    11\n",
       "2023-08-01    11\n",
       "2023-09-01    10\n",
       "2023-10-01    12\n",
       "Name: CD_ATIVO, dtype: int64"
      ]
     },
     "execution_count": 289,
     "metadata": {},
     "output_type": "execute_result"
    }
   ],
   "source": [
    "# Número total de ações de cada mês do portfpolio\n",
    "num_total_acoes(df=portfolio_guepardo)"
   ]
  },
  {
   "cell_type": "code",
   "execution_count": 290,
   "metadata": {},
   "outputs": [
    {
     "data": {
      "text/plain": [
       "data\n",
       "2023-01-01    [VULC3, ITUB4, UGPA3, RAIL3, ANIM3]\n",
       "2023-02-01    [VULC3, ITUB4, UGPA3, RAIL3, ANIM3]\n",
       "2023-03-01    [VULC3, UGPA3, ITUB4, RAIL3, ANIM3]\n",
       "2023-04-01    [VULC3, UGPA3, ITUB4, RAIL3, ANIM3]\n",
       "2023-05-01    [VULC3, UGPA3, ITUB4, RAIL3, ANIM3]\n",
       "2023-06-01    [VULC3, UGPA3, ITUB4, RAIL3, ANIM3]\n",
       "2023-07-01    [VULC3, UGPA3, ITUB4, RAIL3, ANIM3]\n",
       "2023-08-01    [VULC3, UGPA3, ITUB4, RAIL3, GMAT3]\n",
       "2023-09-01    [VULC3, UGPA3, ITUB4, RAIL3, GMAT3]\n",
       "2023-10-01    [VULC3, UGPA3, ITUB4, RAIL3, GMAT3]\n",
       "Name: CD_ATIVO, dtype: object"
      ]
     },
     "execution_count": 290,
     "metadata": {},
     "output_type": "execute_result"
    }
   ],
   "source": [
    "# Rank das 5 maiores ações do fundo\n",
    "rank_top_5(df=portfolio_guepardo)"
   ]
  },
  {
   "cell_type": "code",
   "execution_count": 291,
   "metadata": {},
   "outputs": [
    {
     "data": {
      "application/vnd.plotly.v1+json": {
       "config": {
        "plotlyServerURL": "https://plot.ly"
       },
       "data": [
        {
         "name": "01/2023",
         "orientation": "h",
         "type": "bar",
         "x": [
          31.03430550420799,
          17.21798381015083,
          15.957878218909741,
          15.00224404679082,
          11.136171910038339,
          5.157403510551732,
          1.810972450520466,
          1.592747568052466,
          0.43455609339206813,
          0.3512100567597343,
          0.3045268306258132
         ],
         "xaxis": "x",
         "y": [
          "VULC3",
          "ITUB4",
          "UGPA3",
          "RAIL3",
          "ANIM3",
          "MLAS3",
          "ALSO3",
          "ITUB3",
          "MYPK3",
          "DXCO3",
          "GMAT3"
         ],
         "yaxis": "y"
        },
        {
         "name": "02/2023",
         "orientation": "h",
         "type": "bar",
         "x": [
          32.05107373117658,
          18.6767056369223,
          15.95868636155258,
          15.91715355965023,
          8.683983846776112,
          3.3275482992572423,
          2.556123539047957,
          1.734160629310143,
          0.4613508900372834,
          0.32794018585553597,
          0.3052733204140304
         ],
         "xaxis": "x2",
         "y": [
          "VULC3",
          "ITUB4",
          "UGPA3",
          "RAIL3",
          "ANIM3",
          "ALSO3",
          "MLAS3",
          "ITUB3",
          "MYPK3",
          "DXCO3",
          "GMAT3"
         ],
         "yaxis": "y2"
        },
        {
         "name": "03/2023",
         "orientation": "h",
         "type": "bar",
         "x": [
          31.90088843029114,
          21.630772184921877,
          17.155159665693027,
          15.51992592088408,
          6.448153366446513,
          3.4257387228839935,
          1.5819791598690531,
          1.281340778074826,
          0.4621997977902976,
          0.3156165485786673,
          0.2782254245665054
         ],
         "xaxis": "x3",
         "y": [
          "VULC3",
          "UGPA3",
          "ITUB4",
          "RAIL3",
          "ANIM3",
          "ALSO3",
          "ITUB3",
          "MLAS3",
          "MYPK3",
          "GMAT3",
          "DXCO3"
         ],
         "yaxis": "y3"
        },
        {
         "name": "04/2023",
         "orientation": "h",
         "type": "bar",
         "x": [
          32.97294845048973,
          21.45595314492949,
          16.33157447781647,
          14.541202499918441,
          5.605740902936052,
          4.419819186600574,
          2.162319798049675,
          1.5583897380342,
          0.41052927291250546,
          0.2797121520334539,
          0.2618103762793917
         ],
         "xaxis": "x4",
         "y": [
          "VULC3",
          "UGPA3",
          "ITUB4",
          "RAIL3",
          "ANIM3",
          "ALSO3",
          "MLAS3",
          "ITUB3",
          "MYPK3",
          "GMAT3",
          "DXCO3"
         ],
         "yaxis": "y4"
        },
        {
         "name": "05/2023",
         "orientation": "h",
         "type": "bar",
         "x": [
          33.089341275990705,
          23.04995890749209,
          14.62465762888367,
          13.0755296843871,
          6.280600750685538,
          5.670801186001359,
          1.367261823770853,
          1.030185807566318,
          0.908500946857239,
          0.4911702206247182,
          0.41199176774040963
         ],
         "xaxis": "x5",
         "y": [
          "VULC3",
          "UGPA3",
          "ITUB4",
          "RAIL3",
          "ANIM3",
          "ALSO3",
          "ITUB3",
          "MLAS3",
          "GGBR4",
          "GMAT3",
          "MYPK3"
         ],
         "yaxis": "y5"
        },
        {
         "name": "06/2023",
         "orientation": "h",
         "type": "bar",
         "x": [
          31.603898802529717,
          23.985936304896622,
          14.506220482434129,
          12.70555198728576,
          8.030570046909888,
          5.819220792174436,
          1.348771788722809,
          1.042959382661363,
          0.5907313710726535,
          0.3661390413126139
         ],
         "xaxis": "x6",
         "y": [
          "VULC3",
          "UGPA3",
          "ITUB4",
          "RAIL3",
          "ANIM3",
          "ALSO3",
          "ITUB3",
          "GGBR4",
          "FLRY3",
          "MYPK3"
         ],
         "yaxis": "y6"
        },
        {
         "name": "07/2023",
         "orientation": "h",
         "type": "bar",
         "x": [
          33.35464372424305,
          22.75177999505925,
          14.21292295291971,
          12.09050645194246,
          8.667417276301148,
          5.481759043497025,
          1.3214921945839782,
          0.8079021559124124,
          0.7037443144452777,
          0.3872428556669226,
          0.22058903542876312
         ],
         "xaxis": "x7",
         "y": [
          "VULC3",
          "UGPA3",
          "ITUB4",
          "RAIL3",
          "ANIM3",
          "ALSO3",
          "ITUB3",
          "FLRY3",
          "GGBR4",
          "MYPK3",
          "TGMA3"
         ],
         "yaxis": "y7"
        },
        {
         "name": "08/2023",
         "orientation": "h",
         "type": "bar",
         "x": [
          32.8222783840299,
          23.217700135296777,
          14.398746802061119,
          12.17817000136977,
          7.174662305381116,
          6.0266430151687365,
          1.329696286663029,
          1.3008579383360899,
          1.070887232380869,
          0.3469075238157208,
          0.1334503754968768
         ],
         "xaxis": "x8",
         "y": [
          "VULC3",
          "UGPA3",
          "ITUB4",
          "RAIL3",
          "GMAT3",
          "ALSO3",
          "GGBR4",
          "ITUB3",
          "FLRY3",
          "MYPK3",
          "ANIM3"
         ],
         "yaxis": "y8"
        },
        {
         "name": "09/2023",
         "orientation": "h",
         "type": "bar",
         "x": [
          30.78279570152575,
          23.40039491526855,
          13.920646318447169,
          12.1288950507927,
          8.687686193195198,
          6.549485158972625,
          1.5117040021191521,
          1.41734886509713,
          1.267954570576608,
          0.33308922400509583
         ],
         "xaxis": "x9",
         "y": [
          "VULC3",
          "UGPA3",
          "ITUB4",
          "RAIL3",
          "GMAT3",
          "ALSO3",
          "FLRY3",
          "GGBR4",
          "ITUB3",
          "MYPK3"
         ],
         "yaxis": "y9"
        },
        {
         "name": "10/2023",
         "orientation": "h",
         "type": "bar",
         "x": [
          26.76379538950882,
          23.49446453394544,
          13.5652893036732,
          11.80431894347963,
          9.87331621676077,
          7.8424408938122925,
          2.530601888207579,
          1.594648168436221,
          1.229316983415907,
          0.961031165102442,
          0.3080251028142118,
          0.03275141084349041
         ],
         "xaxis": "x10",
         "y": [
          "VULC3",
          "UGPA3",
          "ITUB4",
          "RAIL3",
          "GMAT3",
          "ALOS3",
          "GGBR4",
          "FLRY3",
          "ITUB3",
          "VAMO3",
          "MYPK3",
          "CSAN3"
         ],
         "yaxis": "y10"
        }
       ],
       "layout": {
        "annotations": [
         {
          "font": {
           "size": 16
          },
          "showarrow": false,
          "text": "Distribuição Percentual do Portfólio - 01/2023",
          "x": 0.5,
          "xanchor": "center",
          "xref": "paper",
          "y": 0.9999999999999999,
          "yanchor": "bottom",
          "yref": "paper"
         },
         {
          "font": {
           "size": 16
          },
          "showarrow": false,
          "text": "Distribuição Percentual do Portfólio - 02/2023",
          "x": 0.5,
          "xanchor": "center",
          "xref": "paper",
          "y": 0.898,
          "yanchor": "bottom",
          "yref": "paper"
         },
         {
          "font": {
           "size": 16
          },
          "showarrow": false,
          "text": "Distribuição Percentual do Portfólio - 03/2023",
          "x": 0.5,
          "xanchor": "center",
          "xref": "paper",
          "y": 0.796,
          "yanchor": "bottom",
          "yref": "paper"
         },
         {
          "font": {
           "size": 16
          },
          "showarrow": false,
          "text": "Distribuição Percentual do Portfólio - 04/2023",
          "x": 0.5,
          "xanchor": "center",
          "xref": "paper",
          "y": 0.6940000000000001,
          "yanchor": "bottom",
          "yref": "paper"
         },
         {
          "font": {
           "size": 16
          },
          "showarrow": false,
          "text": "Distribuição Percentual do Portfólio - 05/2023",
          "x": 0.5,
          "xanchor": "center",
          "xref": "paper",
          "y": 0.592,
          "yanchor": "bottom",
          "yref": "paper"
         },
         {
          "font": {
           "size": 16
          },
          "showarrow": false,
          "text": "Distribuição Percentual do Portfólio - 06/2023",
          "x": 0.5,
          "xanchor": "center",
          "xref": "paper",
          "y": 0.49000000000000005,
          "yanchor": "bottom",
          "yref": "paper"
         },
         {
          "font": {
           "size": 16
          },
          "showarrow": false,
          "text": "Distribuição Percentual do Portfólio - 07/2023",
          "x": 0.5,
          "xanchor": "center",
          "xref": "paper",
          "y": 0.388,
          "yanchor": "bottom",
          "yref": "paper"
         },
         {
          "font": {
           "size": 16
          },
          "showarrow": false,
          "text": "Distribuição Percentual do Portfólio - 08/2023",
          "x": 0.5,
          "xanchor": "center",
          "xref": "paper",
          "y": 0.28600000000000003,
          "yanchor": "bottom",
          "yref": "paper"
         },
         {
          "font": {
           "size": 16
          },
          "showarrow": false,
          "text": "Distribuição Percentual do Portfólio - 09/2023",
          "x": 0.5,
          "xanchor": "center",
          "xref": "paper",
          "y": 0.184,
          "yanchor": "bottom",
          "yref": "paper"
         },
         {
          "font": {
           "size": 16
          },
          "showarrow": false,
          "text": "Distribuição Percentual do Portfólio - 10/2023",
          "x": 0.5,
          "xanchor": "center",
          "xref": "paper",
          "y": 0.082,
          "yanchor": "bottom",
          "yref": "paper"
         }
        ],
        "height": 6000,
        "template": {
         "data": {
          "bar": [
           {
            "error_x": {
             "color": "#2a3f5f"
            },
            "error_y": {
             "color": "#2a3f5f"
            },
            "marker": {
             "line": {
              "color": "#E5ECF6",
              "width": 0.5
             },
             "pattern": {
              "fillmode": "overlay",
              "size": 10,
              "solidity": 0.2
             }
            },
            "type": "bar"
           }
          ],
          "barpolar": [
           {
            "marker": {
             "line": {
              "color": "#E5ECF6",
              "width": 0.5
             },
             "pattern": {
              "fillmode": "overlay",
              "size": 10,
              "solidity": 0.2
             }
            },
            "type": "barpolar"
           }
          ],
          "carpet": [
           {
            "aaxis": {
             "endlinecolor": "#2a3f5f",
             "gridcolor": "white",
             "linecolor": "white",
             "minorgridcolor": "white",
             "startlinecolor": "#2a3f5f"
            },
            "baxis": {
             "endlinecolor": "#2a3f5f",
             "gridcolor": "white",
             "linecolor": "white",
             "minorgridcolor": "white",
             "startlinecolor": "#2a3f5f"
            },
            "type": "carpet"
           }
          ],
          "choropleth": [
           {
            "colorbar": {
             "outlinewidth": 0,
             "ticks": ""
            },
            "type": "choropleth"
           }
          ],
          "contour": [
           {
            "colorbar": {
             "outlinewidth": 0,
             "ticks": ""
            },
            "colorscale": [
             [
              0,
              "#0d0887"
             ],
             [
              0.1111111111111111,
              "#46039f"
             ],
             [
              0.2222222222222222,
              "#7201a8"
             ],
             [
              0.3333333333333333,
              "#9c179e"
             ],
             [
              0.4444444444444444,
              "#bd3786"
             ],
             [
              0.5555555555555556,
              "#d8576b"
             ],
             [
              0.6666666666666666,
              "#ed7953"
             ],
             [
              0.7777777777777778,
              "#fb9f3a"
             ],
             [
              0.8888888888888888,
              "#fdca26"
             ],
             [
              1,
              "#f0f921"
             ]
            ],
            "type": "contour"
           }
          ],
          "contourcarpet": [
           {
            "colorbar": {
             "outlinewidth": 0,
             "ticks": ""
            },
            "type": "contourcarpet"
           }
          ],
          "heatmap": [
           {
            "colorbar": {
             "outlinewidth": 0,
             "ticks": ""
            },
            "colorscale": [
             [
              0,
              "#0d0887"
             ],
             [
              0.1111111111111111,
              "#46039f"
             ],
             [
              0.2222222222222222,
              "#7201a8"
             ],
             [
              0.3333333333333333,
              "#9c179e"
             ],
             [
              0.4444444444444444,
              "#bd3786"
             ],
             [
              0.5555555555555556,
              "#d8576b"
             ],
             [
              0.6666666666666666,
              "#ed7953"
             ],
             [
              0.7777777777777778,
              "#fb9f3a"
             ],
             [
              0.8888888888888888,
              "#fdca26"
             ],
             [
              1,
              "#f0f921"
             ]
            ],
            "type": "heatmap"
           }
          ],
          "heatmapgl": [
           {
            "colorbar": {
             "outlinewidth": 0,
             "ticks": ""
            },
            "colorscale": [
             [
              0,
              "#0d0887"
             ],
             [
              0.1111111111111111,
              "#46039f"
             ],
             [
              0.2222222222222222,
              "#7201a8"
             ],
             [
              0.3333333333333333,
              "#9c179e"
             ],
             [
              0.4444444444444444,
              "#bd3786"
             ],
             [
              0.5555555555555556,
              "#d8576b"
             ],
             [
              0.6666666666666666,
              "#ed7953"
             ],
             [
              0.7777777777777778,
              "#fb9f3a"
             ],
             [
              0.8888888888888888,
              "#fdca26"
             ],
             [
              1,
              "#f0f921"
             ]
            ],
            "type": "heatmapgl"
           }
          ],
          "histogram": [
           {
            "marker": {
             "pattern": {
              "fillmode": "overlay",
              "size": 10,
              "solidity": 0.2
             }
            },
            "type": "histogram"
           }
          ],
          "histogram2d": [
           {
            "colorbar": {
             "outlinewidth": 0,
             "ticks": ""
            },
            "colorscale": [
             [
              0,
              "#0d0887"
             ],
             [
              0.1111111111111111,
              "#46039f"
             ],
             [
              0.2222222222222222,
              "#7201a8"
             ],
             [
              0.3333333333333333,
              "#9c179e"
             ],
             [
              0.4444444444444444,
              "#bd3786"
             ],
             [
              0.5555555555555556,
              "#d8576b"
             ],
             [
              0.6666666666666666,
              "#ed7953"
             ],
             [
              0.7777777777777778,
              "#fb9f3a"
             ],
             [
              0.8888888888888888,
              "#fdca26"
             ],
             [
              1,
              "#f0f921"
             ]
            ],
            "type": "histogram2d"
           }
          ],
          "histogram2dcontour": [
           {
            "colorbar": {
             "outlinewidth": 0,
             "ticks": ""
            },
            "colorscale": [
             [
              0,
              "#0d0887"
             ],
             [
              0.1111111111111111,
              "#46039f"
             ],
             [
              0.2222222222222222,
              "#7201a8"
             ],
             [
              0.3333333333333333,
              "#9c179e"
             ],
             [
              0.4444444444444444,
              "#bd3786"
             ],
             [
              0.5555555555555556,
              "#d8576b"
             ],
             [
              0.6666666666666666,
              "#ed7953"
             ],
             [
              0.7777777777777778,
              "#fb9f3a"
             ],
             [
              0.8888888888888888,
              "#fdca26"
             ],
             [
              1,
              "#f0f921"
             ]
            ],
            "type": "histogram2dcontour"
           }
          ],
          "mesh3d": [
           {
            "colorbar": {
             "outlinewidth": 0,
             "ticks": ""
            },
            "type": "mesh3d"
           }
          ],
          "parcoords": [
           {
            "line": {
             "colorbar": {
              "outlinewidth": 0,
              "ticks": ""
             }
            },
            "type": "parcoords"
           }
          ],
          "pie": [
           {
            "automargin": true,
            "type": "pie"
           }
          ],
          "scatter": [
           {
            "fillpattern": {
             "fillmode": "overlay",
             "size": 10,
             "solidity": 0.2
            },
            "type": "scatter"
           }
          ],
          "scatter3d": [
           {
            "line": {
             "colorbar": {
              "outlinewidth": 0,
              "ticks": ""
             }
            },
            "marker": {
             "colorbar": {
              "outlinewidth": 0,
              "ticks": ""
             }
            },
            "type": "scatter3d"
           }
          ],
          "scattercarpet": [
           {
            "marker": {
             "colorbar": {
              "outlinewidth": 0,
              "ticks": ""
             }
            },
            "type": "scattercarpet"
           }
          ],
          "scattergeo": [
           {
            "marker": {
             "colorbar": {
              "outlinewidth": 0,
              "ticks": ""
             }
            },
            "type": "scattergeo"
           }
          ],
          "scattergl": [
           {
            "marker": {
             "colorbar": {
              "outlinewidth": 0,
              "ticks": ""
             }
            },
            "type": "scattergl"
           }
          ],
          "scattermapbox": [
           {
            "marker": {
             "colorbar": {
              "outlinewidth": 0,
              "ticks": ""
             }
            },
            "type": "scattermapbox"
           }
          ],
          "scatterpolar": [
           {
            "marker": {
             "colorbar": {
              "outlinewidth": 0,
              "ticks": ""
             }
            },
            "type": "scatterpolar"
           }
          ],
          "scatterpolargl": [
           {
            "marker": {
             "colorbar": {
              "outlinewidth": 0,
              "ticks": ""
             }
            },
            "type": "scatterpolargl"
           }
          ],
          "scatterternary": [
           {
            "marker": {
             "colorbar": {
              "outlinewidth": 0,
              "ticks": ""
             }
            },
            "type": "scatterternary"
           }
          ],
          "surface": [
           {
            "colorbar": {
             "outlinewidth": 0,
             "ticks": ""
            },
            "colorscale": [
             [
              0,
              "#0d0887"
             ],
             [
              0.1111111111111111,
              "#46039f"
             ],
             [
              0.2222222222222222,
              "#7201a8"
             ],
             [
              0.3333333333333333,
              "#9c179e"
             ],
             [
              0.4444444444444444,
              "#bd3786"
             ],
             [
              0.5555555555555556,
              "#d8576b"
             ],
             [
              0.6666666666666666,
              "#ed7953"
             ],
             [
              0.7777777777777778,
              "#fb9f3a"
             ],
             [
              0.8888888888888888,
              "#fdca26"
             ],
             [
              1,
              "#f0f921"
             ]
            ],
            "type": "surface"
           }
          ],
          "table": [
           {
            "cells": {
             "fill": {
              "color": "#EBF0F8"
             },
             "line": {
              "color": "white"
             }
            },
            "header": {
             "fill": {
              "color": "#C8D4E3"
             },
             "line": {
              "color": "white"
             }
            },
            "type": "table"
           }
          ]
         },
         "layout": {
          "annotationdefaults": {
           "arrowcolor": "#2a3f5f",
           "arrowhead": 0,
           "arrowwidth": 1
          },
          "autotypenumbers": "strict",
          "coloraxis": {
           "colorbar": {
            "outlinewidth": 0,
            "ticks": ""
           }
          },
          "colorscale": {
           "diverging": [
            [
             0,
             "#8e0152"
            ],
            [
             0.1,
             "#c51b7d"
            ],
            [
             0.2,
             "#de77ae"
            ],
            [
             0.3,
             "#f1b6da"
            ],
            [
             0.4,
             "#fde0ef"
            ],
            [
             0.5,
             "#f7f7f7"
            ],
            [
             0.6,
             "#e6f5d0"
            ],
            [
             0.7,
             "#b8e186"
            ],
            [
             0.8,
             "#7fbc41"
            ],
            [
             0.9,
             "#4d9221"
            ],
            [
             1,
             "#276419"
            ]
           ],
           "sequential": [
            [
             0,
             "#0d0887"
            ],
            [
             0.1111111111111111,
             "#46039f"
            ],
            [
             0.2222222222222222,
             "#7201a8"
            ],
            [
             0.3333333333333333,
             "#9c179e"
            ],
            [
             0.4444444444444444,
             "#bd3786"
            ],
            [
             0.5555555555555556,
             "#d8576b"
            ],
            [
             0.6666666666666666,
             "#ed7953"
            ],
            [
             0.7777777777777778,
             "#fb9f3a"
            ],
            [
             0.8888888888888888,
             "#fdca26"
            ],
            [
             1,
             "#f0f921"
            ]
           ],
           "sequentialminus": [
            [
             0,
             "#0d0887"
            ],
            [
             0.1111111111111111,
             "#46039f"
            ],
            [
             0.2222222222222222,
             "#7201a8"
            ],
            [
             0.3333333333333333,
             "#9c179e"
            ],
            [
             0.4444444444444444,
             "#bd3786"
            ],
            [
             0.5555555555555556,
             "#d8576b"
            ],
            [
             0.6666666666666666,
             "#ed7953"
            ],
            [
             0.7777777777777778,
             "#fb9f3a"
            ],
            [
             0.8888888888888888,
             "#fdca26"
            ],
            [
             1,
             "#f0f921"
            ]
           ]
          },
          "colorway": [
           "#636efa",
           "#EF553B",
           "#00cc96",
           "#ab63fa",
           "#FFA15A",
           "#19d3f3",
           "#FF6692",
           "#B6E880",
           "#FF97FF",
           "#FECB52"
          ],
          "font": {
           "color": "#2a3f5f"
          },
          "geo": {
           "bgcolor": "white",
           "lakecolor": "white",
           "landcolor": "#E5ECF6",
           "showlakes": true,
           "showland": true,
           "subunitcolor": "white"
          },
          "hoverlabel": {
           "align": "left"
          },
          "hovermode": "closest",
          "mapbox": {
           "style": "light"
          },
          "paper_bgcolor": "white",
          "plot_bgcolor": "#E5ECF6",
          "polar": {
           "angularaxis": {
            "gridcolor": "white",
            "linecolor": "white",
            "ticks": ""
           },
           "bgcolor": "#E5ECF6",
           "radialaxis": {
            "gridcolor": "white",
            "linecolor": "white",
            "ticks": ""
           }
          },
          "scene": {
           "xaxis": {
            "backgroundcolor": "#E5ECF6",
            "gridcolor": "white",
            "gridwidth": 2,
            "linecolor": "white",
            "showbackground": true,
            "ticks": "",
            "zerolinecolor": "white"
           },
           "yaxis": {
            "backgroundcolor": "#E5ECF6",
            "gridcolor": "white",
            "gridwidth": 2,
            "linecolor": "white",
            "showbackground": true,
            "ticks": "",
            "zerolinecolor": "white"
           },
           "zaxis": {
            "backgroundcolor": "#E5ECF6",
            "gridcolor": "white",
            "gridwidth": 2,
            "linecolor": "white",
            "showbackground": true,
            "ticks": "",
            "zerolinecolor": "white"
           }
          },
          "shapedefaults": {
           "line": {
            "color": "#2a3f5f"
           }
          },
          "ternary": {
           "aaxis": {
            "gridcolor": "white",
            "linecolor": "white",
            "ticks": ""
           },
           "baxis": {
            "gridcolor": "white",
            "linecolor": "white",
            "ticks": ""
           },
           "bgcolor": "#E5ECF6",
           "caxis": {
            "gridcolor": "white",
            "linecolor": "white",
            "ticks": ""
           }
          },
          "title": {
           "x": 0.05
          },
          "xaxis": {
           "automargin": true,
           "gridcolor": "white",
           "linecolor": "white",
           "ticks": "",
           "title": {
            "standoff": 15
           },
           "zerolinecolor": "white",
           "zerolinewidth": 2
          },
          "yaxis": {
           "automargin": true,
           "gridcolor": "white",
           "linecolor": "white",
           "ticks": "",
           "title": {
            "standoff": 15
           },
           "zerolinecolor": "white",
           "zerolinewidth": 2
          }
         }
        },
        "title": {
         "text": "Portfólio do Fundo Guepardo"
        },
        "width": 900,
        "xaxis": {
         "anchor": "y",
         "domain": [
          0,
          1
         ]
        },
        "xaxis10": {
         "anchor": "y10",
         "domain": [
          0,
          1
         ]
        },
        "xaxis2": {
         "anchor": "y2",
         "domain": [
          0,
          1
         ]
        },
        "xaxis3": {
         "anchor": "y3",
         "domain": [
          0,
          1
         ]
        },
        "xaxis4": {
         "anchor": "y4",
         "domain": [
          0,
          1
         ]
        },
        "xaxis5": {
         "anchor": "y5",
         "domain": [
          0,
          1
         ]
        },
        "xaxis6": {
         "anchor": "y6",
         "domain": [
          0,
          1
         ]
        },
        "xaxis7": {
         "anchor": "y7",
         "domain": [
          0,
          1
         ]
        },
        "xaxis8": {
         "anchor": "y8",
         "domain": [
          0,
          1
         ]
        },
        "xaxis9": {
         "anchor": "y9",
         "domain": [
          0,
          1
         ]
        },
        "yaxis": {
         "anchor": "x",
         "domain": [
          0.9179999999999999,
          0.9999999999999999
         ]
        },
        "yaxis10": {
         "anchor": "x10",
         "domain": [
          0,
          0.082
         ]
        },
        "yaxis2": {
         "anchor": "x2",
         "domain": [
          0.8160000000000001,
          0.898
         ]
        },
        "yaxis3": {
         "anchor": "x3",
         "domain": [
          0.7140000000000001,
          0.796
         ]
        },
        "yaxis4": {
         "anchor": "x4",
         "domain": [
          0.6120000000000001,
          0.6940000000000001
         ]
        },
        "yaxis5": {
         "anchor": "x5",
         "domain": [
          0.51,
          0.592
         ]
        },
        "yaxis6": {
         "anchor": "x6",
         "domain": [
          0.40800000000000003,
          0.49000000000000005
         ]
        },
        "yaxis7": {
         "anchor": "x7",
         "domain": [
          0.306,
          0.388
         ]
        },
        "yaxis8": {
         "anchor": "x8",
         "domain": [
          0.20400000000000001,
          0.28600000000000003
         ]
        },
        "yaxis9": {
         "anchor": "x9",
         "domain": [
          0.10200000000000001,
          0.184
         ]
        }
       }
      }
     },
     "metadata": {},
     "output_type": "display_data"
    }
   ],
   "source": [
    "# Plotando o portfólio de cada mês\n",
    "plot_portfolio(df=portfolio_guepardo, nome_fundo='Guepardo')"
   ]
  }
 ],
 "metadata": {
  "kernelspec": {
   "display_name": "Python 3",
   "language": "python",
   "name": "python3"
  },
  "language_info": {
   "codemirror_mode": {
    "name": "ipython",
    "version": 3
   },
   "file_extension": ".py",
   "mimetype": "text/x-python",
   "name": "python",
   "nbconvert_exporter": "python",
   "pygments_lexer": "ipython3",
   "version": "3.10.2"
  },
  "orig_nbformat": 4
 },
 "nbformat": 4,
 "nbformat_minor": 2
}
