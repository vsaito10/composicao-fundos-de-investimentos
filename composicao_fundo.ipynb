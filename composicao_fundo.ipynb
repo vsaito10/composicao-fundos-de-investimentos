{
 "cells": [
  {
   "cell_type": "markdown",
   "metadata": {},
   "source": [
    "**Histórico dos dados dos fundos de investimentos**\n",
    "* https://dados.cvm.gov.br/dataset/fi-doc-cda\n",
    "\n",
    "* Observação: muitas vezes, os arquivos excel do site acima não se atualizam rapidamente. Para ver a posição mais atualizada entrar no site:\n",
    "* https://conteudo.cvm.gov.br/menu/regulados/fundos/consultas/fundos.html\n",
    "---\n",
    "O arquivo zipado da CVM contém vários arquivos excel. Os arquivos que eu tenho interesse são:\n",
    "\n",
    "* cda_fi_BLC_1: arquivo que contém os 'Títulos Públicos';\n",
    "* cda_fi_BLC_2: arquivo que contém as 'Cotas de Fundos';\n",
    "* cda_fi_BLC_4: arquivo que contém as 'Ações', 'BDRs', 'Opções', 'Mercado futuro', 'Debêntures', 'Obrigações por ações' (posição vendida);\n",
    "* cda_fi_BLC_7: arquivo que contém os 'Investimentos no Exterior';\n",
    "* cda_fi_BLC_8: arquivo que contém os 'Investimentos no Exterior';\n",
    "* cda_fi_PL: arquivo que contém o PL dos fundos de investimentos.\n",
    "\n",
    "**Qual é o objetivo desse notebook?**\n",
    "* Criar um arquivo excel para cada fundo de investimento, onde cada classe de ativo estará em uma aba diferente.\n",
    "\n"
   ]
  },
  {
   "cell_type": "code",
   "execution_count": 34,
   "metadata": {},
   "outputs": [],
   "source": [
    "import numpy as np\n",
    "import pandas as pd\n",
    "from pandas import DataFrame\n",
    "import plotly.graph_objects as go\n",
    "from plotly.subplots import make_subplots\n",
    "import zipfile"
   ]
  },
  {
   "cell_type": "markdown",
   "metadata": {},
   "source": [
    "## Extraindo os arquivos zipados"
   ]
  },
  {
   "cell_type": "code",
   "execution_count": 218,
   "metadata": {},
   "outputs": [],
   "source": [
    "# Mês e ano escolhido\n",
    "mes = '05'\n",
    "ano = '2023'\n",
    "\n",
    "# Nome do arquivo zipad\n",
    "zip_filename = f'C://Users//vitor//projetos_python//python_b3//historico-arquivos//fundos_investimentos//fundos_cvm_zip//cda_fi_{ano}{mes}.zip'\n",
    "\n",
    "# # Visualizando a lista dos nomes dos arquivos dentro do arquivo zipado\n",
    "# with zipfile.ZipFile(zip_filename, 'r') as zip_ref:\n",
    "#     print(\"Arquivos dentro do arquivo zipado:\")\n",
    "#     print(zip_ref.namelist())\n",
    "\n",
    "# Lista dos nomes dos arquivos que você deseja extrair\n",
    "arquivos_a_extrair = [\n",
    "    f'cda_fi_BLC_1_{ano}{mes}.csv', \n",
    "    f'cda_fi_BLC_2_{ano}{mes}.csv', \n",
    "    f'cda_fi_BLC_4_{ano}{mes}.csv', \n",
    "    f'cda_fi_BLC_7_{ano}{mes}.csv', \n",
    "    f'cda_fi_BLC_8_{ano}{mes}.csv',\n",
    "    f'cda_fi_PL_{ano}{mes}.csv'\n",
    "]\n",
    "\n",
    "# Abrindo o arquivo zipado\n",
    "with zipfile.ZipFile(zip_filename, 'r') as zip_ref:\n",
    "    # Extrai os arquivos selecionados para um diretório específico\n",
    "    for arquivo in arquivos_a_extrair:\n",
    "        zip_ref.extract(arquivo, f'C://Users//vitor//projetos_python//python_b3//historico-arquivos//fundos_investimentos//fundos_cvm//{ano}{mes}')\n"
   ]
  },
  {
   "cell_type": "markdown",
   "metadata": {},
   "source": [
    "## Funções"
   ]
  },
  {
   "cell_type": "code",
   "execution_count": 200,
   "metadata": {},
   "outputs": [],
   "source": [
    "def open_cda_1(path) -> DataFrame:\n",
    "    \"\"\"\n",
    "    Formatando o arquivo 'cda_fi_BLC_1'.\n",
    "\n",
    "    Parameters:\n",
    "    path (str): caminho do arquivo.\n",
    "\n",
    "    Returns:\n",
    "    Dataframe do arquivo 'cda_fi_BLC_1'\n",
    "\n",
    "    \"\"\"\n",
    "    # Lendo o arquivo\n",
    "    df = pd.read_csv(path, sep=';', encoding='ISO-8859-1')\n",
    "\n",
    "    # Selecionando apenas os 'Fundos de Investimentos'\n",
    "    filt_fi = df['TP_FUNDO'] == 'FI'\n",
    "    df = df.loc[filt_fi]\n",
    "\n",
    "    # Selecionando as principais colunas\n",
    "    df = df[['TP_FUNDO', 'CNPJ_FUNDO', 'DENOM_SOCIAL','DT_COMPTC' , 'TP_APLIC', 'TP_ATIVO', 'VL_MERC_POS_FINAL', 'TP_TITPUB', 'DT_VENC']]\n",
    "\n",
    "    # Mesclando as colunas 'TP_TITPUB' e 'DT_VENC' em apenas em uma coluna\n",
    "    df['TP_TITPUB'] = df['TP_TITPUB'] + ' ' + df['DT_VENC']\n",
    "\n",
    "    # Removendo a coluna 'DT_VENC'\n",
    "    df = df.drop('DT_VENC', axis=1)\n",
    "\n",
    "    # Renomeando a coluna 'TP_TITPUB' p/ 'CD_ATIVO'. Assim fica igual ao df do arquivo cda_fi_BLC_2/4/7/8 para fazer depois juntar os dfs\n",
    "    df = df.rename(columns={'TP_TITPUB':'CD_ATIVO'})\n",
    "\n",
    "    # Transformando os dtypes das colunas.\n",
    "    df['TP_FUNDO'] = df['TP_FUNDO'].astype(str)\n",
    "    df['CNPJ_FUNDO'] = df['CNPJ_FUNDO'].astype(str)\n",
    "    df['DENOM_SOCIAL'] = df['DENOM_SOCIAL'].astype(str)\n",
    "    df['DT_COMPTC'] = pd.to_datetime(df['DT_COMPTC'])\n",
    "    df['TP_APLIC'] = df['TP_APLIC'].astype(str)\n",
    "    df['TP_ATIVO'] = df['TP_ATIVO'].astype(str)\n",
    "    df['VL_MERC_POS_FINAL'] = df['VL_MERC_POS_FINAL'].astype(float)\n",
    "    df['CD_ATIVO'] = df['CD_ATIVO'].astype(str)\n",
    "\n",
    "    return df\n",
    "\n",
    "\n",
    "def open_cda_2(path) -> DataFrame:\n",
    "    \"\"\"\n",
    "    Formatando o arquivo 'cda_fi_BLC_2'.\n",
    "\n",
    "    Parameters:\n",
    "    path (str): caminho do arquivo.\n",
    "\n",
    "    Returns:\n",
    "    Dataframe do arquivo 'cda_fi_BLC_2'\n",
    "\n",
    "    \"\"\"\n",
    "    # Lendo o arquivo. Adicionei o 'low_memory=False' para não dar o aviso -> DtypeWarning: Columns (7) have mixed types. Specify dtype option on import or set low_memory=False\n",
    "    df = pd.read_csv(path, sep=';', encoding='ISO-8859-1', low_memory=False)\n",
    "\n",
    "    # Selecionando apenas os 'Fundos de Investimentos'\n",
    "    filt_fi = df['TP_FUNDO'] == 'FI'\n",
    "    df = df.loc[filt_fi]\n",
    "\n",
    "    # Selecionando as principais colunas\n",
    "    df = df[['TP_FUNDO', 'CNPJ_FUNDO', 'DENOM_SOCIAL','DT_COMPTC' , 'TP_APLIC', 'TP_ATIVO', 'VL_MERC_POS_FINAL', 'NM_FUNDO_COTA']]\n",
    "\n",
    "    # Renomeando a coluna 'NM_FUNDO_COTA' p/ 'CD_ATIVO'. Assim fica igual ao df do arquivo cda_fi_BLC_4/7/8 para fazer depois juntar os dfs\n",
    "    df = df.rename(columns={'NM_FUNDO_COTA':'CD_ATIVO'})\n",
    "\n",
    "    # Transformando os dtypes das colunas\n",
    "    df['TP_FUNDO'] = df['TP_FUNDO'].astype(str)\n",
    "    df['CNPJ_FUNDO'] = df['CNPJ_FUNDO'].astype(str)\n",
    "    df['DENOM_SOCIAL'] = df['DENOM_SOCIAL'].astype(str)\n",
    "    df['DT_COMPTC'] = pd.to_datetime(df['DT_COMPTC'])\n",
    "    df['TP_APLIC'] = df['TP_APLIC'].astype(str)\n",
    "    df['TP_ATIVO'] = df['TP_ATIVO'].astype(str)\n",
    "    df['VL_MERC_POS_FINAL'] = df['VL_MERC_POS_FINAL'].astype(float)\n",
    "    df['CD_ATIVO'] = df['CD_ATIVO'].astype(str)\n",
    "\n",
    "    return df\n",
    "\n",
    "\n",
    "def open_cda_4(path) -> DataFrame:\n",
    "    \"\"\"\n",
    "    Formatando o arquivo 'cda_fi_BLC_4'.\n",
    "\n",
    "    Parameters:\n",
    "    path (str): caminho do arquivo.\n",
    "\n",
    "    Returns:\n",
    "    Dataframe do arquivo 'cda_fi_BLC_4'\n",
    "\n",
    "    \"\"\"\n",
    "    # Lendo o arquivo\n",
    "    df = pd.read_csv(path, sep=';', encoding='ISO-8859-1')\n",
    "\n",
    "    # Selecionando apenas os 'Fundos de Investimentos'\n",
    "    filt_fi = df['TP_FUNDO'] == 'FI'\n",
    "    df = df.loc[filt_fi]\n",
    "\n",
    "    # Selecionando as principais colunas\n",
    "    df = df[['TP_FUNDO', 'CNPJ_FUNDO', 'DENOM_SOCIAL','DT_COMPTC' , 'TP_APLIC', 'TP_ATIVO', 'VL_MERC_POS_FINAL', 'CD_ATIVO']]\n",
    "\n",
    "    # Transformando os dtypes das colunas\n",
    "    df['TP_FUNDO'] = df.loc[:, 'TP_FUNDO'].astype(str)\n",
    "    df['CNPJ_FUNDO'] = df.loc[:, 'CNPJ_FUNDO'].astype(str)\n",
    "    df['DENOM_SOCIAL'] = df.loc[:, 'DENOM_SOCIAL'].astype(str)\n",
    "    df['DT_COMPTC'] = pd.to_datetime(df['DT_COMPTC'])\n",
    "    df['TP_APLIC'] = df.loc[:, 'TP_APLIC'].astype(str)\n",
    "    df['TP_ATIVO'] = df.loc[:, 'TP_ATIVO'].astype(str)\n",
    "    df['VL_MERC_POS_FINAL'] = df.loc[:, 'VL_MERC_POS_FINAL'].astype(float)\n",
    "    df['CD_ATIVO'] = df.loc[:, 'CD_ATIVO'].astype(str)\n",
    "\n",
    "    return df\n",
    "\n",
    "\n",
    "def open_cda_7(path) -> DataFrame:\n",
    "    \"\"\"\n",
    "    Formatando o arquivo 'cda_fi_BLC_7'.\n",
    "\n",
    "    Parameters:\n",
    "    path (str): caminho do arquivo.\n",
    "\n",
    "    Returns:\n",
    "    Dataframe do arquivo 'cda_fi_BLC_7'\n",
    "\n",
    "    \"\"\"\n",
    "    # Lendo o arquivo\n",
    "    df = pd.read_csv(path, sep=';', encoding='ISO-8859-1')\n",
    "\n",
    "    # Selecionando apenas os 'Fundos de Investimentos'\n",
    "    filt_fi = df['TP_FUNDO'] == 'FI'\n",
    "    df = df.loc[filt_fi]\n",
    "\n",
    "    # Selecionando as principais colunas.\n",
    "    df = df[['TP_FUNDO', 'CNPJ_FUNDO', 'DENOM_SOCIAL','DT_COMPTC' , 'TP_APLIC', 'TP_ATIVO', 'VL_MERC_POS_FINAL', 'EMISSOR']]\n",
    "\n",
    "    # Renomeando a coluna 'EMISSOR' p/ 'CD_ATIVO'. Assim fica igual ao df do arquivo cda_fi_BLC_4 p/ fazer depois juntar os dfs.\n",
    "    df.rename(columns={\"EMISSOR\": \"CD_ATIVO\"}, inplace=True)\n",
    "\n",
    "    # Transformando os dtypes das colunas.\n",
    "    df['TP_FUNDO'] = df.loc[:, 'TP_FUNDO'].astype(str)\n",
    "    df['CNPJ_FUNDO'] = df.loc[:, 'CNPJ_FUNDO'].astype(str)\n",
    "    df['DENOM_SOCIAL'] = df.loc[:, 'DENOM_SOCIAL'].astype(str)\n",
    "    df['DT_COMPTC'] = pd.to_datetime(df['DT_COMPTC'])\n",
    "    df['TP_APLIC'] = df.loc[:, 'TP_APLIC'].astype(str)\n",
    "    df['TP_ATIVO'] = df.loc[:, 'TP_ATIVO'].astype(str)\n",
    "    df['VL_MERC_POS_FINAL'] = df.loc[:, 'VL_MERC_POS_FINAL'].astype(float)\n",
    "    df['CD_ATIVO'] = df.loc[:, 'CD_ATIVO'].astype(str)\n",
    "\n",
    "    return df\n",
    "\n",
    "\n",
    "def open_cda_8(path) -> DataFrame:\n",
    "    \"\"\"\n",
    "    Formatando o arquivo 'cda_fi_BLC_8'.\n",
    "\n",
    "    Parameters:\n",
    "    path (str): caminho do arquivo.\n",
    "\n",
    "    Returns:\n",
    "    Dataframe do arquivo 'cda_fi_BLC_8'\n",
    "\n",
    "    \"\"\"\n",
    "    # Lendo o arquivo\n",
    "    df = pd.read_csv(path, sep=';', encoding='ISO-8859-1')\n",
    "\n",
    "    # Selecionando apenas os 'Fundos de Investimentos'\n",
    "    filt_fi = df['TP_FUNDO'] == 'FI'\n",
    "    df = df.loc[filt_fi]\n",
    "\n",
    "    # Selecionando as principais colunas\n",
    "    df = df[['TP_FUNDO', 'CNPJ_FUNDO', 'DENOM_SOCIAL','DT_COMPTC' , 'TP_APLIC', 'TP_ATIVO', 'VL_MERC_POS_FINAL', 'DS_ATIVO']]\n",
    "\n",
    "    # Renomeando a coluna 'DS_ATIVO' p/ 'CD_ATIVO'. Assim fica igual ao df do arquivo cda_fi_BLC_4 p/ fazer depois juntar os dfs\n",
    "    df.rename(columns={\"DS_ATIVO\": \"CD_ATIVO\"}, inplace=True)\n",
    "\n",
    "    # Transformando os dtypes das colunas\n",
    "    df['TP_FUNDO'] = df.loc[:, 'TP_FUNDO'].astype(str)\n",
    "    df['CNPJ_FUNDO'] = df.loc[:, 'CNPJ_FUNDO'].astype(str)\n",
    "    df['DENOM_SOCIAL'] = df.loc[:, 'DENOM_SOCIAL'].astype(str)\n",
    "    df['DT_COMPTC'] = pd.to_datetime(df['DT_COMPTC'])\n",
    "    df['TP_APLIC'] = df.loc[:, 'TP_APLIC'].astype(str)\n",
    "    df['TP_ATIVO'] = df.loc[:, 'TP_ATIVO'].astype(str)\n",
    "    df['VL_MERC_POS_FINAL'] = df.loc[:, 'VL_MERC_POS_FINAL'].astype(float)\n",
    "    df['CD_ATIVO'] = df.loc[:, 'CD_ATIVO'].astype(str)\n",
    "\n",
    "    # Selecionando apenas o ativo 'BDR', porque neste arquivo também possui um ativo chamado 'Títulos Públicos', mas não é o principal 'Títulos Públicos', que está no 'cda_fi_BLC_1'\n",
    "    filt_bdr = (df['TP_APLIC'] == 'Brazilian Depository Receipt - BDR')\n",
    "    df = df.loc[filt_bdr].sort_values(by='VL_MERC_POS_FINAL', ascending=False)\n",
    "    \n",
    "    return df\n",
    "\n",
    "\n",
    "def pl_fundo(path: str, cnpj: str) -> DataFrame:\n",
    "    \"\"\"\n",
    "    Formatando o arquivo 'cda_fi_PL'.\n",
    "    \n",
    "    Paramenters:\n",
    "    path (str): caminho do arquivo.\n",
    "    cnpj (str): cnpj do fundo de investimento que você está procurando.\n",
    "\n",
    "    Returns:\n",
    "    Dataframe com o valor do patrimônio líquido do fundo de investimentos específico.\n",
    "\n",
    "    \"\"\"\n",
    "    # Lendo o arquivo\n",
    "    df = pd.read_csv(path, sep=';', encoding='ISO-8859-1')\n",
    "\n",
    "    # Selecionando apenas os 'Fundos de Investimentos'\n",
    "    filt_fi = df['TP_FUNDO'] == 'FI'\n",
    "    df = df.loc[filt_fi]\n",
    "\n",
    "    # Selecionando o fundo de investimentos específicos\n",
    "    filt_cnpj = df['CNPJ_FUNDO'] == cnpj\n",
    "    fundo_espec = df.loc[filt_cnpj]\n",
    "\n",
    "    # # Transformando os dtypes da coluna\n",
    "    # fundo_espec['VL_PATRIM_LIQ'] = fundo_espec.loc[:, 'VL_PATRIM_LIQ'].astype(float)\n",
    "\n",
    "    return fundo_espec['VL_PATRIM_LIQ']\n",
    "\n",
    "\n",
    "def fundo_cnpj(cnpj: str) -> DataFrame:\n",
    "    \"\"\"\n",
    "    Separando o df do fundo de investimentos em várias categorias.\n",
    "\n",
    "    Parameters:\n",
    "    cnpj (str): cnpj do fundo de investimento que você está procurando.\n",
    "\n",
    "    Returns:\n",
    "    Vários dataframes de categorias diferentes: ações, BDRs, investimentos no exterior, cotas de fundos e títulos públicos.\n",
    "    \n",
    "    \"\"\"\n",
    "    # Lendo o df concatenado\n",
    "    filt_cnpj = df_ativos['CNPJ_FUNDO'] == cnpj\n",
    "    fundo_espec = df_ativos.loc[filt_cnpj]\n",
    "\n",
    "    # Ações\n",
    "    filt_acoes = (fundo_espec['TP_APLIC'] == 'Ações')\n",
    "    # Selecionando pelo em ordem da maior posição do fundo p/ a menor\n",
    "    df_acoes = fundo_espec.loc[filt_acoes].sort_values(by='VL_MERC_POS_FINAL', ascending=False)\n",
    "    # Calculando quantos porcentos representa cada ação\n",
    "    porcentagem_acao = lambda x: (x / df_acoes['VL_MERC_POS_FINAL'].sum())\n",
    "    # Criando a coluna 'PORCENTAGEM'\n",
    "    df_acoes['PORCENTAGEM'] = list(map(porcentagem_acao, df_acoes['VL_MERC_POS_FINAL']))\n",
    "    # Selecionando apenas as colunas necessárias\n",
    "    df_acoes = df_acoes.loc[:,['DENOM_SOCIAL', 'CD_ATIVO', 'PORCENTAGEM', 'VL_MERC_POS_FINAL']]\n",
    "\n",
    "    # BDRs\n",
    "    filt_bdr = (fundo_espec['TP_APLIC'] == 'Brazilian Depository Receipt - BDR')\n",
    "    # Selecionando pelo em ordem da maior posição do fundo p/ a menor\n",
    "    df_bdr = fundo_espec.loc[filt_bdr].sort_values(by='VL_MERC_POS_FINAL', ascending=False)\n",
    "    # Calculando quantos porcentos representa cada ação\n",
    "    porcentagem_bdr = lambda x: (x / df_bdr['VL_MERC_POS_FINAL'].sum())\n",
    "    # Criando a coluna 'PORCENTAGEM'\n",
    "    df_bdr['PORCENTAGEM'] = list(map(porcentagem_bdr, df_bdr['VL_MERC_POS_FINAL']))\n",
    "    # Selecionando apenas as colunas necessárias\n",
    "    df_bdr =  df_bdr.loc[:,['DENOM_SOCIAL', 'CD_ATIVO', 'PORCENTAGEM', 'VL_MERC_POS_FINAL']]\n",
    "\n",
    "    # Investimentos Exterior\n",
    "    filt_exterior = (fundo_espec['TP_APLIC'] == 'Investimento no Exterior')\n",
    "    # Selecionando pelo em ordem da maior posição do fundo p/ a menor\n",
    "    df_exterior = fundo_espec.loc[filt_exterior].sort_values(by='VL_MERC_POS_FINAL', ascending=False)\n",
    "    # Calculando quantos porcentos representa cada ação\n",
    "    porcentagem_exterior = lambda x: (x / df_exterior['VL_MERC_POS_FINAL'].sum())\n",
    "    # Criando a coluna 'PORCENTAGEM'\n",
    "    df_exterior['PORCENTAGEM'] = list(map(porcentagem_exterior, df_exterior['VL_MERC_POS_FINAL']))\n",
    "    # Selecionando apenas as colunas necessárias\n",
    "    df_exterior = df_exterior.loc[:,['DENOM_SOCIAL', 'CD_ATIVO', 'PORCENTAGEM', 'VL_MERC_POS_FINAL']]\n",
    "\n",
    "    # Cotas de Fundos\n",
    "    filt_cotas_fundos = (fundo_espec['TP_APLIC'] == 'Cotas de Fundos')\n",
    "    # Selecionando pelo em ordem da maior posição do fundo p/ a menor\n",
    "    df_cotas_fundos = fundo_espec.loc[filt_cotas_fundos].sort_values(by='VL_MERC_POS_FINAL', ascending=False)\n",
    "    # Calculando quantos porcentos representa cada cota de fundo\n",
    "    porcentagem_cotas = lambda x: (x / df_cotas_fundos['VL_MERC_POS_FINAL'].sum())\n",
    "    # Criando a coluna 'PORCENTAGEM'\n",
    "    df_cotas_fundos['PORCENTAGEM'] = list(map(porcentagem_cotas, df_cotas_fundos['VL_MERC_POS_FINAL']))\n",
    "    # Selecionando apenas as colunas necessárias\n",
    "    df_cotas_fundos = df_cotas_fundos.loc[:,['DENOM_SOCIAL', 'CD_ATIVO', 'PORCENTAGEM', 'VL_MERC_POS_FINAL']]\n",
    "\n",
    "    # Títulos públicos\n",
    "    filt_titulos_pub = (fundo_espec['TP_APLIC'] == 'Títulos Públicos')\n",
    "    # Selecionando pelo em ordem da maior posição do fundo p/ a menor\n",
    "    df_titulos_pub = fundo_espec.loc[filt_titulos_pub].sort_values(by='VL_MERC_POS_FINAL', ascending=False)\n",
    "    # Calculando quantos porcentos representa cada título público\n",
    "    porcentagem_titulos = lambda x: (x / df_titulos_pub['VL_MERC_POS_FINAL'].sum())\n",
    "    # Criando a coluna 'PORCENTAGEM'\n",
    "    df_titulos_pub['PORCENTAGEM'] = list(map(porcentagem_titulos, df_titulos_pub['VL_MERC_POS_FINAL']))\n",
    "    # Selecionando apenas as colunas necessárias\n",
    "    df_titulos_pub = df_titulos_pub.loc[:,['DENOM_SOCIAL', 'CD_ATIVO', 'PORCENTAGEM', 'VL_MERC_POS_FINAL']]\n",
    "\n",
    "    # Obrigações por ações e outros TVM recebidos em empréstimo\n",
    "    filt_vendido_acoes = (fundo_espec['TP_APLIC'] == 'Obrigações por ações e outros TVM recebidos em empréstimo')\n",
    "    # Selecionando pelo em ordem da maior posição do fundo p/ a menor\n",
    "    df_vendido_acoes = fundo_espec.loc[filt_vendido_acoes].sort_values(by='VL_MERC_POS_FINAL', ascending=False)\n",
    "    # Calculando quantos porcentos representa cada título público\n",
    "    porcentagem_vendido = lambda x: (x / df_vendido_acoes['VL_MERC_POS_FINAL'].sum())\n",
    "    # Criando a coluna 'PORCENTAGEM'\n",
    "    df_vendido_acoes['PORCENTAGEM'] = list(map(porcentagem_vendido, df_vendido_acoes['VL_MERC_POS_FINAL']))\n",
    "    # Selecionando apenas as colunas necessárias\n",
    "    df_vendido_acoes = df_vendido_acoes.loc[:,['DENOM_SOCIAL', 'CD_ATIVO', 'PORCENTAGEM', 'VL_MERC_POS_FINAL']]\n",
    "\n",
    "    return (\n",
    "        df_acoes, \n",
    "        df_bdr, \n",
    "        df_exterior, \n",
    "        df_cotas_fundos, \n",
    "        df_titulos_pub, \n",
    "        df_vendido_acoes\n",
    "    )\n",
    "\n",
    "\n",
    "def fundo_cnpj_acoes(cnpj: str) -> DataFrame:\n",
    "    \"\"\"\n",
    "    Separando o df do fundo de investimento apenas na categoria de ações.\n",
    "\n",
    "    Parameters:\n",
    "    cnpj (str): cnpj do fundo de investimento que você está procurando.\n",
    "\n",
    "    Returns:\n",
    "    Vários dataframes de categorias diferentes: ações, BDRs, investimentos no exterior, cotas de fundos e títulos públicos.\n",
    "    \n",
    "    \"\"\"\n",
    "    # Lendo o df concatenado\n",
    "    filt_cnpj = df_ativos['CNPJ_FUNDO'] == cnpj\n",
    "    fundo_espec = df_ativos.loc[filt_cnpj]\n",
    "\n",
    "    # Ações\n",
    "    filt_acoes = (fundo_espec['TP_APLIC'] == 'Ações')\n",
    "    # Selecionando pelo em ordem da maior posição do fundo p/ a menor\n",
    "    df_acoes = fundo_espec.loc[filt_acoes].sort_values(by='VL_MERC_POS_FINAL', ascending=False)\n",
    "    # Calculando quantos porcentos representa cada ação\n",
    "    porcentagem_acao = lambda x: (x / df_acoes['VL_MERC_POS_FINAL'].sum())\n",
    "    # Criando a coluna 'PORCENTAGEM'\n",
    "    df_acoes['PORCENTAGEM'] = list(map(porcentagem_acao, df_acoes['VL_MERC_POS_FINAL']))\n",
    "    # Selecionando apenas as colunas necessárias\n",
    "    df_acoes = df_acoes.loc[:,['DENOM_SOCIAL', 'CD_ATIVO', 'PORCENTAGEM', 'VL_MERC_POS_FINAL']]\n",
    "\n",
    "    return df_acoes"
   ]
  },
  {
   "cell_type": "code",
   "execution_count": 219,
   "metadata": {},
   "outputs": [
    {
     "data": {
      "text/html": [
       "<div>\n",
       "<style scoped>\n",
       "    .dataframe tbody tr th:only-of-type {\n",
       "        vertical-align: middle;\n",
       "    }\n",
       "\n",
       "    .dataframe tbody tr th {\n",
       "        vertical-align: top;\n",
       "    }\n",
       "\n",
       "    .dataframe thead th {\n",
       "        text-align: right;\n",
       "    }\n",
       "</style>\n",
       "<table border=\"1\" class=\"dataframe\">\n",
       "  <thead>\n",
       "    <tr style=\"text-align: right;\">\n",
       "      <th></th>\n",
       "      <th>TP_FUNDO</th>\n",
       "      <th>CNPJ_FUNDO</th>\n",
       "      <th>DENOM_SOCIAL</th>\n",
       "      <th>DT_COMPTC</th>\n",
       "      <th>TP_APLIC</th>\n",
       "      <th>TP_ATIVO</th>\n",
       "      <th>VL_MERC_POS_FINAL</th>\n",
       "      <th>CD_ATIVO</th>\n",
       "    </tr>\n",
       "  </thead>\n",
       "  <tbody>\n",
       "    <tr>\n",
       "      <th>94719</th>\n",
       "      <td>FI</td>\n",
       "      <td>27.293.712/0001-00</td>\n",
       "      <td>CR FUNDO DE INVESTIMENTO MULTIMERCADO CREDITO ...</td>\n",
       "      <td>2023-05-31</td>\n",
       "      <td>Brazilian Depository Receipt - BDR</td>\n",
       "      <td>BDR nível I</td>\n",
       "      <td>89.72</td>\n",
       "      <td>XPBR DR1</td>\n",
       "    </tr>\n",
       "    <tr>\n",
       "      <th>116215</th>\n",
       "      <td>FI</td>\n",
       "      <td>34.658.753/0001-00</td>\n",
       "      <td>DAYCOVAL FUNDO DE INVESTIMENTO EM AÇÕES BDR NÍ...</td>\n",
       "      <td>2023-05-31</td>\n",
       "      <td>Brazilian Depository Receipt - BDR</td>\n",
       "      <td>BDR nível I</td>\n",
       "      <td>69.78</td>\n",
       "      <td>MACY DRN</td>\n",
       "    </tr>\n",
       "    <tr>\n",
       "      <th>64506</th>\n",
       "      <td>FI</td>\n",
       "      <td>13.089.341/0001-27</td>\n",
       "      <td>FUNDO DE INVESTIMENTO MULTIMERCADO CRÉDITO PRI...</td>\n",
       "      <td>2023-05-31</td>\n",
       "      <td>Brazilian Depository Receipt - BDR</td>\n",
       "      <td>BDR nível III</td>\n",
       "      <td>45.00</td>\n",
       "      <td>PPLA11</td>\n",
       "    </tr>\n",
       "    <tr>\n",
       "      <th>127930</th>\n",
       "      <td>FI</td>\n",
       "      <td>37.553.253/0001-00</td>\n",
       "      <td>NIMROD FUNDO DE INVESTIMENTO MULTIMERCADO CRÉD...</td>\n",
       "      <td>2023-05-31</td>\n",
       "      <td>Brazilian Depository Receipt - BDR</td>\n",
       "      <td>BDR nível I</td>\n",
       "      <td>25.40</td>\n",
       "      <td>INBR/INBR32/BRINBRBDR007</td>\n",
       "    </tr>\n",
       "    <tr>\n",
       "      <th>147554</th>\n",
       "      <td>FI</td>\n",
       "      <td>42.294.675/0001-30</td>\n",
       "      <td>CARTEIRA INTER GLOBAL FUNDO DE INVESTIMENTO EM...</td>\n",
       "      <td>2023-05-31</td>\n",
       "      <td>Brazilian Depository Receipt - BDR</td>\n",
       "      <td>BDR não patrocinado</td>\n",
       "      <td>0.00</td>\n",
       "      <td>DEEC34 BDR</td>\n",
       "    </tr>\n",
       "  </tbody>\n",
       "</table>\n",
       "</div>"
      ],
      "text/plain": [
       "       TP_FUNDO          CNPJ_FUNDO  \\\n",
       "94719        FI  27.293.712/0001-00   \n",
       "116215       FI  34.658.753/0001-00   \n",
       "64506        FI  13.089.341/0001-27   \n",
       "127930       FI  37.553.253/0001-00   \n",
       "147554       FI  42.294.675/0001-30   \n",
       "\n",
       "                                             DENOM_SOCIAL  DT_COMPTC  \\\n",
       "94719   CR FUNDO DE INVESTIMENTO MULTIMERCADO CREDITO ... 2023-05-31   \n",
       "116215  DAYCOVAL FUNDO DE INVESTIMENTO EM AÇÕES BDR NÍ... 2023-05-31   \n",
       "64506   FUNDO DE INVESTIMENTO MULTIMERCADO CRÉDITO PRI... 2023-05-31   \n",
       "127930  NIMROD FUNDO DE INVESTIMENTO MULTIMERCADO CRÉD... 2023-05-31   \n",
       "147554  CARTEIRA INTER GLOBAL FUNDO DE INVESTIMENTO EM... 2023-05-31   \n",
       "\n",
       "                                  TP_APLIC             TP_ATIVO  \\\n",
       "94719   Brazilian Depository Receipt - BDR          BDR nível I   \n",
       "116215  Brazilian Depository Receipt - BDR          BDR nível I   \n",
       "64506   Brazilian Depository Receipt - BDR        BDR nível III   \n",
       "127930  Brazilian Depository Receipt - BDR          BDR nível I   \n",
       "147554  Brazilian Depository Receipt - BDR  BDR não patrocinado   \n",
       "\n",
       "        VL_MERC_POS_FINAL                  CD_ATIVO  \n",
       "94719               89.72                  XPBR DR1  \n",
       "116215              69.78                  MACY DRN  \n",
       "64506               45.00                    PPLA11  \n",
       "127930              25.40  INBR/INBR32/BRINBRBDR007  \n",
       "147554               0.00                DEEC34 BDR  "
      ]
     },
     "execution_count": 219,
     "metadata": {},
     "output_type": "execute_result"
    }
   ],
   "source": [
    "# Aplicando as funções para formatar os arquivos excel\n",
    "df_cda_1 = open_cda_1(path=f'C://Users//vitor//projetos_python//python_b3//historico-arquivos//fundos_investimentos//fundos_cvm//{ano}{mes}//cda_fi_BLC_1_{ano}{mes}.csv')\n",
    "df_cda_2 = open_cda_2(path=f'C://Users//vitor//projetos_python//python_b3//historico-arquivos//fundos_investimentos//fundos_cvm//{ano}{mes}//cda_fi_BLC_2_{ano}{mes}.csv')\n",
    "df_cda_4 = open_cda_4(path=f'C://Users//vitor//projetos_python//python_b3//historico-arquivos//fundos_investimentos//fundos_cvm//{ano}{mes}//cda_fi_BLC_4_{ano}{mes}.csv')\n",
    "df_cda_7 = open_cda_7(path=f'C://Users//vitor//projetos_python//python_b3//historico-arquivos//fundos_investimentos//fundos_cvm//{ano}{mes}//cda_fi_BLC_7_{ano}{mes}.csv')\n",
    "df_cda_8 = open_cda_8(path=f'C://Users//vitor//projetos_python//python_b3//historico-arquivos//fundos_investimentos//fundos_cvm//{ano}{mes}//cda_fi_BLC_8_{ano}{mes}.csv')\n",
    "\n",
    "# Concatenando os dfs\n",
    "df_ativos = pd.concat([df_cda_1, df_cda_2, df_cda_4, df_cda_7, df_cda_8])\n",
    "df_ativos.tail()"
   ]
  },
  {
   "cell_type": "code",
   "execution_count": 18,
   "metadata": {},
   "outputs": [
    {
     "data": {
      "text/plain": [
       "['Operações Compromissadas',\n",
       " 'Títulos Públicos',\n",
       " 'Cotas de Fundos',\n",
       " 'Ações',\n",
       " 'Debêntures',\n",
       " 'Certificado ou recibo de depósito de valores mobiliários',\n",
       " 'Outros valores mobiliários registrados na CVM objeto de oferta pública',\n",
       " 'Ações e outros TVM cedidos em empréstimo',\n",
       " 'Brazilian Depository Receipt - BDR',\n",
       " 'Mercado Futuro - Posições compradas',\n",
       " 'Mercado Futuro - Posições vendidas',\n",
       " 'Opções - Posições lançadas',\n",
       " 'Opções - Posições titulares',\n",
       " 'Obrigações por ações e outros TVM recebidos em empréstimo',\n",
       " 'Compras a termo a receber',\n",
       " 'Vendas a termo a receber',\n",
       " 'Investimento no Exterior']"
      ]
     },
     "execution_count": 18,
     "metadata": {},
     "output_type": "execute_result"
    }
   ],
   "source": [
    "# Quais são os tipos de ativos o fundo de investimento possui\n",
    "lista_ativos = df_ativos['TP_APLIC'].drop_duplicates().to_list()\n",
    "lista_ativos"
   ]
  },
  {
   "cell_type": "markdown",
   "metadata": {},
   "source": [
    "## Fundos de Investimentos"
   ]
  },
  {
   "cell_type": "markdown",
   "metadata": {},
   "source": [
    "### Fundo Verde"
   ]
  },
  {
   "cell_type": "markdown",
   "metadata": {},
   "source": [
    "* https://maisretorno.com/fundo/verde-am-long-bias-master-fia/carteira"
   ]
  },
  {
   "cell_type": "code",
   "execution_count": 82,
   "metadata": {},
   "outputs": [],
   "source": [
    "verde_acoes, verde_bdr, verde_exterior, verde_cotas_fundos, verde_titulos_pub, verde_vendido_acoes = fundo_cnpj(cnpj='16.929.553/0001-63')\n",
    "verde_pl = pl_fundo(\n",
    "    path=f'C://Users//vitor//projetos_python//python_b3//historico-arquivos//fundos_investimentos//fundos_cvm//{ano}{mes}//cda_fi_PL_{ano}{mes}.csv', \n",
    "    cnpj='16.929.553/0001-63'\n",
    ")\n",
    "\n",
    "# Quantos porcertos cada categoria representa do PL final\n",
    "pct_acoes = round(pd.Series(verde_acoes['VL_MERC_POS_FINAL'].sum() / verde_pl.values), 4) \n",
    "pct_bdr = round(pd.Series(verde_bdr['VL_MERC_POS_FINAL'].sum() / verde_pl.values), 4) \n",
    "pct_exterior = round(pd.Series(verde_exterior['VL_MERC_POS_FINAL'].sum() / verde_pl.values), 4) \n",
    "pct_cotas_fundos = round(pd.Series(verde_cotas_fundos['VL_MERC_POS_FINAL'].sum() / verde_pl.values), 4) \n",
    "pct_titulos_pub = round(pd.Series(verde_titulos_pub['VL_MERC_POS_FINAL'].sum() / verde_pl.values), 4) \n",
    "pct_vendido_acoes = round(pd.Series(verde_vendido_acoes['VL_MERC_POS_FINAL'].sum() / verde_pl.values), 4) \n",
    "\n",
    "# Criando a data do portfólio\n",
    "data = pd.to_datetime(f'{mes}-{ano}')\n",
    "\n",
    "# Adicionando a informação da porcentagem de cada categoria nos dfs\n",
    "# Ações\n",
    "linha_pct_acoes = {'DENOM_SOCIAL': 'PL% FUNDO', 'VL_MERC_POS_FINAL' : pct_acoes}\n",
    "df_linha_pct_acoes = pd.DataFrame(linha_pct_acoes)\n",
    "verde_acoes = pd.concat([verde_acoes, df_linha_pct_acoes])\n",
    "# Criando a coluna 'data' no df\n",
    "verde_acoes['data'] = data\n",
    "# Definindo a coluna 'data' como o index\n",
    "verde_acoes = verde_acoes.set_index('data')\n",
    "\n",
    "# BDRs\n",
    "linha_pct_bdr = {'DENOM_SOCIAL': 'PL% FUNDO', 'VL_MERC_POS_FINAL' : pct_bdr}\n",
    "df_linha_pct_bdr = pd.DataFrame(linha_pct_bdr)\n",
    "verde_bdr = pd.concat([verde_bdr, df_linha_pct_bdr])\n",
    "# Criando a coluna 'data' no df\n",
    "verde_bdr['data'] = data\n",
    "# Definindo a coluna 'data' como o index\n",
    "verde_bdr = verde_bdr.set_index('data')\n",
    "\n",
    "# Investimentos no Exterior\n",
    "linha_pct_exterior = {'DENOM_SOCIAL': 'PL% FUNDO', 'VL_MERC_POS_FINAL' : pct_exterior}\n",
    "df_linha_pct_exterior = pd.DataFrame(linha_pct_exterior)\n",
    "verde_exterior = pd.concat([verde_exterior, df_linha_pct_exterior])\n",
    "# Criando a coluna 'data' no df\n",
    "verde_exterior['data'] = data\n",
    "# Definindo a coluna 'data' como o index\n",
    "verde_exterior = verde_exterior.set_index('data')\n",
    "\n",
    "# Cotas de Fundos\n",
    "linha_pct_cotas_fundos = {'DENOM_SOCIAL': 'PL% FUNDO', 'VL_MERC_POS_FINAL' : pct_cotas_fundos}\n",
    "df_linha_pct_cotas_fundos = pd.DataFrame(linha_pct_cotas_fundos)\n",
    "verde_cotas_fundos = pd.concat([verde_cotas_fundos, df_linha_pct_cotas_fundos])\n",
    "# Criando a coluna 'data' no df\n",
    "verde_cotas_fundos['data'] = data\n",
    "# Definindo a coluna 'data' como o index\n",
    "verde_cotas_fundos = verde_cotas_fundos.set_index('data')\n",
    "\n",
    "# Títulos Públicos\n",
    "linha_pct_titulos_pub = {'DENOM_SOCIAL': 'PL% FUNDO', 'VL_MERC_POS_FINAL' : pct_titulos_pub}\n",
    "df_linha_pct_titulos_pub = pd.DataFrame(linha_pct_titulos_pub)\n",
    "verde_titulos_pub = pd.concat([verde_titulos_pub, df_linha_pct_titulos_pub])\n",
    "# Criando a coluna 'data' no df\n",
    "verde_titulos_pub['data'] = data\n",
    "# Definindo a coluna 'data' como o index\n",
    "verde_titulos_pub = verde_titulos_pub.set_index('data')\n",
    "\n",
    "# Vendido Ações\n",
    "linha_pct_vendido_acoes = {'DENOM_SOCIAL': 'PL% FUNDO', 'VL_MERC_POS_FINAL' : pct_vendido_acoes}\n",
    "df_linha_pct_vendido_acoes = pd.DataFrame(linha_pct_vendido_acoes)\n",
    "verde_vendido_acoes = pd.concat([verde_vendido_acoes, df_linha_pct_vendido_acoes ])\n",
    "# Criando a coluna 'data' no df\n",
    "verde_vendido_acoes['data'] = data\n",
    "# Definindo a coluna 'data' como o index\n",
    "verde_veverde_vendido_acoes =verde_vendido_acoes.set_index('data')"
   ]
  },
  {
   "cell_type": "code",
   "execution_count": 83,
   "metadata": {},
   "outputs": [],
   "source": [
    "# Criando o arquivo excel em que cada categoria está em uma aba diferente\n",
    "with pd.ExcelWriter(f'C://Users//vitor//projetos_python//python_b3//composicao-fundos-de-investimentos//arquivos_fundos//verde//fundo_verde_{ano}{mes}.xlsx') as writer:\n",
    "    verde_acoes.to_excel(writer, sheet_name='acoes')\n",
    "    verde_bdr.to_excel(writer, sheet_name='bdr')\n",
    "    verde_exterior.to_excel(writer, sheet_name='exterior')\n",
    "    verde_cotas_fundos.to_excel(writer, sheet_name='cota_fundos')\n",
    "    verde_titulos_pub.to_excel(writer, sheet_name='titulos_publicos')\n",
    "    verde_vendido_acoes.to_excel(writer, sheet_name='vendido_acoes')"
   ]
  },
  {
   "cell_type": "code",
   "execution_count": 10,
   "metadata": {},
   "outputs": [
    {
     "data": {
      "text/plain": [
       "data\n",
       "2023-01-01    {ENJU3, RAIZ4, HAPV3, BRKM5, USIM5, MEGA3, RAI...\n",
       "2023-02-01    {ENJU3, RAIZ4, BRKM5, HAPV3, EZTC3, PSSA3, MEG...\n",
       "2023-03-01    {ENJU3, HAPV3, BRKM5, PSSA3, MEGA3, RAIL3, VAL...\n",
       "2023-04-01    {HAPV3, EZTC3, MEGA3, RAIL3, VALE3, NINJ3, BRF...\n",
       "2023-05-01    {HAPV3, HYPE3, WEGE3, USIM5, MEGA3, RAIL3, VAL...\n",
       "Name: CD_ATIVO, dtype: object"
      ]
     },
     "execution_count": 10,
     "metadata": {},
     "output_type": "execute_result"
    }
   ],
   "source": [
    "# Abrindo os arquivos excel\n",
    "arquivos_excel = [\n",
    "    'fundo_verde_202301.xlsx', \n",
    "    'fundo_verde_202302.xlsx', \n",
    "    'fundo_verde_202303.xlsx', \n",
    "    'fundo_verde_202304.xlsx', \n",
    "    'fundo_verde_202305.xlsx'\n",
    "]  \n",
    "\n",
    "lst_dfs = []\n",
    "for arquivo in arquivos_excel:\n",
    "    df = pd.read_excel(f'C://Users//vitor//projetos_python//python_b3//composicao-fundos-de-investimentos//arquivos_fundos//verde//{arquivo}', sheet_name='acoes')\n",
    "    lst_dfs.append(df)\n",
    "\n",
    "# Concatendo os dfs de ações\n",
    "portfolio_verde = pd.concat(lst_dfs, ignore_index=True)\n",
    "\n",
    "# Retirando as ações que não tem nenhum dinheiro alocado e os NAN\n",
    "portfolio_verde = portfolio_verde[portfolio_verde['VL_MERC_POS_FINAL'] != 0]\n",
    "portfolio_verde = portfolio_verde.dropna()\n",
    "\n",
    "# Definindo a coluna 'data' como o index\n",
    "portfolio_verde = portfolio_verde.set_index('data')\n",
    "\n",
    "# Selecionando o conjunto de ações (portfólio) de cada mês\n",
    "portfolio_mensal = portfolio_verde.groupby('data')['CD_ATIVO'].apply(set)\n",
    "portfolio_mensal"
   ]
  },
  {
   "cell_type": "code",
   "execution_count": 3,
   "metadata": {},
   "outputs": [
    {
     "name": "stdout",
     "output_type": "stream",
     "text": [
      "Comparando o portfólio de 01/23 e 02/23:\n",
      "O Verde vendeu as ações: {'MULT3', 'CASH3', 'PETR4', 'SOMA3', 'CMIG3', 'RECV3', 'MODL3', 'ALSO3', 'BEEF3', 'TIMS3', 'LJQQ3', 'YDUQ3'}\n",
      "O Verde comprou as ações: {'EZTC3', 'PSSA3', 'CPLE6', 'VALE3', 'EGIE3', 'MRFG3', 'CRFB3', 'LWSA3', 'BOAS3', 'JBSS3', 'EMBR3'}\n",
      "--------------------------------------------------------------------------------\n",
      "Comparando o portfólio de 02/23 e 03/23:\n",
      "O Verde vendeu as ações: {'RAIZ4', 'GOAU4', 'EZTC3', 'BBAS3', 'GGBR4', 'CSAN3', 'RDOR3', 'GMAT3', 'MRFG3', 'SQIA3', 'CIEL3', 'INTB3', 'MTRE3', 'LREN3', 'EMBR3'}\n",
      "O Verde comprou as ações: {'SMTO3', 'STBP3', 'ELET6', 'BRFS3', 'DIRR3', 'BEEF3'}\n",
      "--------------------------------------------------------------------------------\n",
      "Comparando o portfólio de 03/23 e 04/23:\n",
      "O Verde vendeu as ações: {'ENJU3', 'BRKM5', 'RRRP3', 'ELET3', 'USIM5', 'PSSA3', 'BRAP4', 'CBAV3', 'PETZ3', 'BRPR3', 'LWSA3', 'CRFB3', 'DIRR3'}\n",
      "O Verde comprou as ações: {'ALSO3', 'EZTC3', 'BBAS3', 'GGBR4', 'MRVE3', 'PETR3', 'SOMA3', 'RECV3', 'CYRE3', 'PETR4', 'TEND3', 'LREN3'}\n",
      "--------------------------------------------------------------------------------\n",
      "Comparando o portfólio de 04/23 e 05/23:\n",
      "O Verde vendeu as ações: {'MGLU3', 'JBSS3', 'EZTC3', 'LOGN3', 'GUAR3', 'BBAS3', 'SOMA3', 'PETR3', 'VIIA3', 'BRIT3', 'ALSO3', 'BEEF3', 'VIVA3'}\n",
      "O Verde comprou as ações: {'WEGE3', 'HYPE3', 'RRRP3', 'USIM5', 'BRAP4', 'PCAR3', 'ITSA4', 'ARZZ3', 'SQIA3', 'CPFE3', 'LJQQ3', 'CVCB3'}\n"
     ]
    }
   ],
   "source": [
    "print('Comparando o portfólio de 01/23 e 02/23:')\n",
    "print(f'O Verde vendeu as ações: {set(portfolio_mensal[0]) - set(portfolio_mensal[1])}')\n",
    "print(f'O Verde comprou as ações: {set(portfolio_mensal[1]) - set(portfolio_mensal[0])}')\n",
    "\n",
    "print('-'*80)\n",
    "\n",
    "print('Comparando o portfólio de 02/23 e 03/23:')\n",
    "print(f'O Verde vendeu as ações: {set(portfolio_mensal[1]) - set(portfolio_mensal[2])}')\n",
    "print(f'O Verde comprou as ações: {set(portfolio_mensal[2]) - set(portfolio_mensal[1])}')\n",
    "\n",
    "print('-'*80)\n",
    "\n",
    "print('Comparando o portfólio de 03/23 e 04/23:')\n",
    "print(f'O Verde vendeu as ações: {set(portfolio_mensal[2]) - set(portfolio_mensal[3])}')\n",
    "print(f'O Verde comprou as ações: {set(portfolio_mensal[3]) - set(portfolio_mensal[2])}')\n",
    "\n",
    "print('-'*80)\n",
    "\n",
    "print('Comparando o portfólio de 04/23 e 05/23:')\n",
    "print(f'O Verde vendeu as ações: {set(portfolio_mensal[3]) - set(portfolio_mensal[4])}')\n",
    "print(f'O Verde comprou as ações: {set(portfolio_mensal[4]) - set(portfolio_mensal[3])}')"
   ]
  },
  {
   "cell_type": "code",
   "execution_count": 4,
   "metadata": {},
   "outputs": [
    {
     "name": "stdout",
     "output_type": "stream",
     "text": [
      "Número total de ações:\n",
      "            CD_ATIVO\n",
      "data                \n",
      "2023-01-01        71\n",
      "2023-02-01        70\n",
      "2023-03-01        61\n",
      "2023-04-01        60\n",
      "2023-05-01        59\n",
      "------------------------------------------------------------\n",
      "data\n",
      "2023-01-01    [SUZB3, RENT3, EQTL3, VBBR3, RAIL3]\n",
      "2023-02-01    [SUZB3, RENT3, RAIL3, VBBR3, EQTL3]\n",
      "2023-03-01    [SUZB3, RAIL3, VBBR3, ASAI3, SBSP3]\n",
      "2023-04-01    [SUZB3, RAIL3, VBBR3, RENT3, EQTL3]\n",
      "2023-05-01    [SUZB3, RAIL3, EQTL3, VBBR3, SBSP3]\n",
      "Name: CD_ATIVO, dtype: object\n"
     ]
    }
   ],
   "source": [
    "# Número total de ações de cada mês do portfpolio\n",
    "print('Número total de ações:')\n",
    "num_total_acoes = portfolio_verde.groupby('data')['CD_ATIVO'].count()\n",
    "print(pd.DataFrame(num_total_acoes))\n",
    "\n",
    "print('-'*60)\n",
    "# Selecionando os valores únicos (datas) do df\n",
    "lst_data = portfolio_verde.index.unique()\n",
    "\n",
    "# Rank das 5 maiores ações do fundo\n",
    "lst_rank = []\n",
    "for _ in lst_data:\n",
    "    rank = portfolio_verde.loc[_].nlargest(5, 'PORCENTAGEM')[['CD_ATIVO', 'PORCENTAGEM']]\n",
    "    lst_rank.append(rank)\n",
    "\n",
    "# Concatendo os dfs de rank\n",
    "rank_portfolio = pd.concat(lst_rank)\n",
    "rank_portfolio_verde = rank_portfolio.groupby('data')['CD_ATIVO'].apply(list)\n",
    "print(rank_portfolio_verde)"
   ]
  },
  {
   "cell_type": "code",
   "execution_count": 96,
   "metadata": {},
   "outputs": [
    {
     "data": {
      "application/vnd.plotly.v1+json": {
       "config": {
        "plotlyServerURL": "https://plot.ly"
       },
       "data": [
        {
         "name": "01/2023",
         "orientation": "h",
         "type": "bar",
         "x": [
          12.961224931355511,
          9.560450731337609,
          8.593887572545402,
          7.661106569783828,
          6.938031582842763,
          5.630554583638158,
          5.562486378564692,
          4.733609457672141,
          4.517700481808214,
          3.813550093645864,
          3.4094615182214287,
          3.266585854817912,
          3.2316450794015945,
          2.330817955666117,
          2.270897576235022,
          1.873127452447277,
          1.848117544849917,
          1.834236327210961,
          1.732293700577025,
          1.431909581455304,
          1.210538473622382,
          1.19574728923617,
          0.8866218611234312,
          0.6331564094257212,
          0.4394088215819439,
          0.3032346035626029,
          0.17602715261583501,
          0.1633343051482223,
          0.14423187761448672,
          0.1203103784652127,
          0.09842509102601449,
          0.09786030728960442,
          0.08988248818259138,
          0.08805797191566837,
          0.08254829081865567,
          0.0738946846346916,
          0.07031404997910952,
          0.06371657624405387,
          0.06342717416617336,
          0.06246920287789223,
          0.054536922207500546,
          0.051463388504812746,
          0.04954635751980244,
          0.048379469094144,
          0.047027837655586754,
          0.042146867105912623,
          0.041116061242825255,
          0.037948792658895183,
          0.03558751917310033,
          0.03476605721807126,
          0.02768478879207418,
          0.026302822264375678,
          0.02543355626461357,
          0.025070915755107878,
          0.02279402256636727,
          0.02218921117716247,
          0.02101487574633291,
          0.01840555970368478,
          0.0159772631713499,
          0.01533102065529888,
          0.01525649904739809,
          0.0145579470484855,
          0.01400751884665914,
          0.01184142563793367,
          0.004638080747552724,
          0.004190372525130849,
          0.002832153351229928,
          0.001813173905200843,
          0.001366998047304562,
          0.001095889824050147,
          0.0007746489348303411
         ],
         "xaxis": "x",
         "y": [
          "SUZB3",
          "RENT3",
          "EQTL3",
          "VBBR3",
          "RAIL3",
          "GMAT3",
          "ITUB4",
          "SBSP3",
          "ENEV3",
          "MEGA3",
          "ASAI3",
          "VIVA3",
          "GGPS3",
          "NTCO3",
          "RADL3",
          "BBSE3",
          "VVEO3",
          "TTEN3",
          "BBAS3",
          "VITT3",
          "SOMA3",
          "CURY3",
          "UGPA3",
          "BRIT3",
          "SYNE3",
          "NINJ3",
          "LJQQ3",
          "ENJU3",
          "LOGN3",
          "BRPR3",
          "MGLU3",
          "ELET3",
          "RRRP3",
          "CSMG3",
          "PETR4",
          "GGBR4",
          "CSAN3",
          "AALR3",
          "VIIA3",
          "MODL3",
          "ABEV3",
          "GOAU4",
          "SMFT3",
          "MULT3",
          "PRIO3",
          "LREN3",
          "RDOR3",
          "PETZ3",
          "CIEL3",
          "COCE5",
          "BEEF3",
          "SQIA3",
          "RAIZ4",
          "MTRE3",
          "RECV3",
          "CBAV3",
          "BRAP4",
          "GUAR3",
          "YDUQ3",
          "USIM5",
          "CASH3",
          "TIMS3",
          "CMIG3",
          "B3SA3",
          "BBDC4",
          "TCSA3",
          "HAPV3",
          "INTB3",
          "ALSO3",
          "BRKM5",
          "CMIG4"
         ],
         "yaxis": "y"
        },
        {
         "name": "02/2023",
         "orientation": "h",
         "type": "bar",
         "x": [
          13.08635318555125,
          8.511767543565295,
          7.218597909919479,
          6.679083207682332,
          6.453276127146229,
          5.671824425513225,
          5.55363452393996,
          4.621872780123715,
          4.148274188016538,
          4.119918507575751,
          3.8844255230207634,
          3.101875653653246,
          2.984820981011134,
          2.788475504768387,
          2.2699605632093602,
          2.075106908861991,
          2.041264950636011,
          1.9818427061647679,
          1.919617473114616,
          1.910137322235769,
          1.6619998240106948,
          1.292198263219258,
          1.140575578515445,
          0.8823243922916831,
          0.6815488243783092,
          0.5289991458411603,
          0.42157212659670806,
          0.2841488499204556,
          0.2766759418021307,
          0.271467031497125,
          0.1459565142709021,
          0.1363673428167409,
          0.12052700116171101,
          0.1197269177161796,
          0.1125805610147189,
          0.09198767614170529,
          0.08658437287256902,
          0.07284343115800229,
          0.06459469087318641,
          0.04522962123480606,
          0.0395779482188255,
          0.03889482993308518,
          0.03810791014212627,
          0.03703887061771008,
          0.035843109171909,
          0.034515450226879026,
          0.03422405214658658,
          0.03422202250821638,
          0.03333681023047225,
          0.029535297563094802,
          0.02786983430617954,
          0.025327277325000917,
          0.01842969629805851,
          0.01807132015154958,
          0.016147802873280798,
          0.013135355614567912,
          0.01154110366961268,
          0.010783468660852301,
          0.00954678100705791,
          0.00910066649328879,
          0.005253037542657102,
          0.004611918273762919,
          0.002920069718035103,
          0.002918214048668067,
          0.002535627215886087,
          0.001973025957084636,
          0.001406046478370333,
          0.001342701464836511,
          0.00124309551207744,
          0.0005085635869366708
         ],
         "xaxis": "x2",
         "y": [
          "SUZB3",
          "RENT3",
          "RAIL3",
          "VBBR3",
          "EQTL3",
          "SBSP3",
          "ITUB4",
          "GMAT3",
          "ENEV3",
          "NTCO3",
          "MEGA3",
          "ASAI3",
          "GGPS3",
          "VIVA3",
          "GGBR4",
          "EGIE3",
          "RADL3",
          "BBSE3",
          "JBSS3",
          "TTEN3",
          "VVEO3",
          "VITT3",
          "CURY3",
          "RAIZ4",
          "UGPA3",
          "BRIT3",
          "SYNE3",
          "MGLU3",
          "ABEV3",
          "NINJ3",
          "VALE3",
          "LOGN3",
          "BRPR3",
          "AALR3",
          "ENJU3",
          "BBDC4",
          "CSMG3",
          "RRRP3",
          "CPLE6",
          "GOAU4",
          "COCE5",
          "CMIG4",
          "PRIO3",
          "EMBR3",
          "CRFB3",
          "CIEL3",
          "PETZ3",
          "SMFT3",
          "RDOR3",
          "CSAN3",
          "SQIA3",
          "PSSA3",
          "CBAV3",
          "INTB3",
          "GUAR3",
          "ELET3",
          "MTRE3",
          "BOAS3",
          "VIIA3",
          "BRKM5",
          "HAPV3",
          "TCSA3",
          "LREN3",
          "MRFG3",
          "BBAS3",
          "B3SA3",
          "USIM5",
          "LWSA3",
          "BRAP4",
          "EZTC3"
         ],
         "yaxis": "y2"
        },
        {
         "name": "03/2023",
         "orientation": "h",
         "type": "bar",
         "x": [
          12.619948692951269,
          7.567464651310367,
          6.545252466474186,
          6.055582060547976,
          5.549562009265653,
          5.477624171226343,
          5.274510383398682,
          4.63169669105267,
          4.577546049067432,
          4.444801127333393,
          4.231721224042345,
          3.822754382574155,
          3.254503021361969,
          3.075917624029674,
          2.678831087284042,
          2.65882669184358,
          2.631189788447618,
          2.564643605157919,
          2.132642307705504,
          1.637245327743314,
          1.608637051269772,
          1.473450303453919,
          1.347499823885174,
          1.105224872749191,
          0.41353518351845864,
          0.3729449472917249,
          0.3641861102437536,
          0.3524033751769135,
          0.2201616062126194,
          0.17152277411413608,
          0.1695436856667637,
          0.1270342944452431,
          0.10108483260166329,
          0.08255106247802695,
          0.08044804994717218,
          0.07819858737757682,
          0.07570914036114162,
          0.06512538764163321,
          0.06258737980370953,
          0.04587650459484506,
          0.04182966503893097,
          0.032130659157380385,
          0.03176316339218048,
          0.02431675303645033,
          0.020384031411034148,
          0.01697435682739227,
          0.01693049544024139,
          0.0144861629934471,
          0.01159037155462121,
          0.009987895775063649,
          0.0054008343113494525,
          0.005365751467541196,
          0.0052445687207557535,
          0.003177099578274314,
          0.0029501168997684867,
          0.002216441210983193,
          0.001421149672119582,
          0.001342440412877319,
          0.001319178212906225,
          0.0009704645202755686,
          0.0002100647148904858
         ],
         "xaxis": "x3",
         "y": [
          "SUZB3",
          "RAIL3",
          "VBBR3",
          "ASAI3",
          "SBSP3",
          "EQTL3",
          "ITUB4",
          "RENT3",
          "NTCO3",
          "VALE3",
          "MEGA3",
          "ENEV3",
          "EGIE3",
          "GGPS3",
          "VIVA3",
          "HAPV3",
          "JBSS3",
          "BBSE3",
          "RADL3",
          "TTEN3",
          "CURY3",
          "VVEO3",
          "VITT3",
          "BEEF3",
          "BRIT3",
          "ABEV3",
          "SYNE3",
          "UGPA3",
          "NINJ3",
          "AALR3",
          "LOGN3",
          "BRPR3",
          "ENJU3",
          "MGLU3",
          "CPLE6",
          "ELET3",
          "RRRP3",
          "STBP3",
          "CSMG3",
          "CMIG4",
          "B3SA3",
          "COCE5",
          "SMFT3",
          "PSSA3",
          "USIM5",
          "GUAR3",
          "SMTO3",
          "CBAV3",
          "BOAS3",
          "DIRR3",
          "TCSA3",
          "VIIA3",
          "PETZ3",
          "BBDC4",
          "CRFB3",
          "ELET6",
          "LWSA3",
          "BRFS3",
          "PRIO3",
          "BRKM5",
          "BRAP4"
         ],
         "yaxis": "y3"
        },
        {
         "name": "04/2023",
         "orientation": "h",
         "type": "bar",
         "x": [
          12.493528275689581,
          8.261398307213693,
          6.171418687414759,
          5.930141575044427,
          5.727580008950874,
          5.619606344925701,
          5.398799143879781,
          5.1860699689138565,
          4.999994484271342,
          3.6182341342587008,
          3.5809675670879892,
          3.5806954331927416,
          3.381913876055659,
          3.319554223496593,
          3.0446481953870603,
          2.9308465788871607,
          2.5419545993126738,
          1.918952521202922,
          1.804758494140947,
          1.54935815572937,
          1.4560340075283011,
          1.432385508538965,
          1.344367115528243,
          1.139710790632438,
          0.7026777093886818,
          0.5405741898460282,
          0.49127511124727374,
          0.42752461307439604,
          0.4104177279001615,
          0.1916003575842834,
          0.1514474609702931,
          0.09409295820133526,
          0.07531715490937745,
          0.07467532968473874,
          0.06138126591891564,
          0.0545482427477889,
          0.0399933029761433,
          0.03968274238357618,
          0.02392765845532121,
          0.02167022801468334,
          0.02157800877205716,
          0.020055312933334332,
          0.01987587792429555,
          0.01839139829182472,
          0.01733066133454548,
          0.016977312393669113,
          0.01271504079434796,
          0.01136651768795652,
          0.0038832151427267364,
          0.0035267260891921923,
          0.0034120257103374017,
          0.003188787855053657,
          0.002839213950713607,
          0.002671759679201418,
          0.0024499607546632322,
          0.0017008023385600751,
          0.001579911451893449,
          0.001183925992330869,
          0.0008683274168176619,
          0.000681162899697212
         ],
         "xaxis": "x4",
         "y": [
          "SUZB3",
          "RAIL3",
          "VBBR3",
          "RENT3",
          "EQTL3",
          "ITUB4",
          "VALE3",
          "SBSP3",
          "ASAI3",
          "MEGA3",
          "EGIE3",
          "HAPV3",
          "ENEV3",
          "GGPS3",
          "UGPA3",
          "JBSS3",
          "RADL3",
          "CURY3",
          "NTCO3",
          "VIVA3",
          "TTEN3",
          "VVEO3",
          "VITT3",
          "BEEF3",
          "ABEV3",
          "LREN3",
          "BRIT3",
          "SYNE3",
          "PETR4",
          "AALR3",
          "PRIO3",
          "CPLE6",
          "STBP3",
          "CSMG3",
          "LOGN3",
          "CMIG4",
          "SMFT3",
          "COCE5",
          "PETR3",
          "SMTO3",
          "BBDC4",
          "EZTC3",
          "MRVE3",
          "GUAR3",
          "TEND3",
          "RECV3",
          "BOAS3",
          "NINJ3",
          "BRFS3",
          "MGLU3",
          "CYRE3",
          "GGBR4",
          "TCSA3",
          "VIIA3",
          "ELET6",
          "BBAS3",
          "B3SA3",
          "BBSE3",
          "ALSO3",
          "SOMA3"
         ],
         "yaxis": "y4"
        },
        {
         "name": "05/2023",
         "orientation": "h",
         "type": "bar",
         "x": [
          12.715866274763751,
          8.352517377552088,
          7.648908636317079,
          6.669544855043852,
          6.1259269413034545,
          5.914612185455243,
          5.89257835686091,
          5.111404190922827,
          3.63560384006102,
          3.498064302461205,
          3.446322271589869,
          3.384500911114025,
          3.366921715108098,
          3.164064198319056,
          2.9955142904316547,
          2.756391682294129,
          2.585364966883197,
          2.2917594478406538,
          2.176610755789258,
          2.138409986587349,
          1.6247884670218828,
          1.170505585179372,
          0.7992933630717132,
          0.6716217297105779,
          0.44979468152978447,
          0.20553503173165827,
          0.17911025945470568,
          0.12526500065612362,
          0.11661081171109859,
          0.07241426985026073,
          0.0637549511670398,
          0.056195804228595055,
          0.05597121467212191,
          0.05303123346862916,
          0.048014349513094315,
          0.04631384130117222,
          0.04155408547270401,
          0.03639549249950898,
          0.029422254639534347,
          0.02903367697119921,
          0.026774347904567432,
          0.02319282881795701,
          0.02259809979587642,
          0.0223284679319574,
          0.021221726916204182,
          0.02032846957373011,
          0.018322142401003688,
          0.0178640888409786,
          0.01680502232958301,
          0.01315393116869146,
          0.01228187567539808,
          0.01187662635792645,
          0.01072820621933201,
          0.00991706636711427,
          0.0021556442333482972,
          0.00174842317275764,
          0.001622847181723393,
          0.0009380527812692773,
          0.000628841781082954
         ],
         "xaxis": "x5",
         "y": [
          "SUZB3",
          "RAIL3",
          "EQTL3",
          "VBBR3",
          "SBSP3",
          "ASAI3",
          "RENT3",
          "ITUB4",
          "EGIE3",
          "HAPV3",
          "GGPS3",
          "ARZZ3",
          "MEGA3",
          "LREN3",
          "ENEV3",
          "PETR4",
          "B3SA3",
          "ABEV3",
          "CURY3",
          "RADL3",
          "VVEO3",
          "VITT3",
          "TTEN3",
          "UGPA3",
          "SYNE3",
          "GGBR4",
          "AALR3",
          "ITSA4",
          "VALE3",
          "STBP3",
          "CPLE6",
          "BBDC4",
          "BRAP4",
          "RECV3",
          "CMIG4",
          "NTCO3",
          "CSMG3",
          "COCE5",
          "SQIA3",
          "USIM5",
          "BBSE3",
          "SMTO3",
          "SMFT3",
          "CPFE3",
          "ELET6",
          "BRFS3",
          "HYPE3",
          "CVCB3",
          "MRVE3",
          "PRIO3",
          "NINJ3",
          "BOAS3",
          "LJQQ3",
          "PCAR3",
          "TCSA3",
          "WEGE3",
          "RRRP3",
          "TEND3",
          "CYRE3"
         ],
         "yaxis": "y5"
        }
       ],
       "layout": {
        "annotations": [
         {
          "font": {
           "size": 16
          },
          "showarrow": false,
          "text": "Distribuição Percentual do Portfólio - 01/2023",
          "x": 0.5,
          "xanchor": "center",
          "xref": "paper",
          "y": 1,
          "yanchor": "bottom",
          "yref": "paper"
         },
         {
          "font": {
           "size": 16
          },
          "showarrow": false,
          "text": "Distribuição Percentual do Portfólio - 02/2023",
          "x": 0.5,
          "xanchor": "center",
          "xref": "paper",
          "y": 0.796,
          "yanchor": "bottom",
          "yref": "paper"
         },
         {
          "font": {
           "size": 16
          },
          "showarrow": false,
          "text": "Distribuição Percentual do Portfólio - 03/2023",
          "x": 0.5,
          "xanchor": "center",
          "xref": "paper",
          "y": 0.592,
          "yanchor": "bottom",
          "yref": "paper"
         },
         {
          "font": {
           "size": 16
          },
          "showarrow": false,
          "text": "Distribuição Percentual do Portfólio - 04/2023",
          "x": 0.5,
          "xanchor": "center",
          "xref": "paper",
          "y": 0.388,
          "yanchor": "bottom",
          "yref": "paper"
         },
         {
          "font": {
           "size": 16
          },
          "showarrow": false,
          "text": "Distribuição Percentual do Portfólio - 05/2023",
          "x": 0.5,
          "xanchor": "center",
          "xref": "paper",
          "y": 0.184,
          "yanchor": "bottom",
          "yref": "paper"
         }
        ],
        "height": 6000,
        "template": {
         "data": {
          "bar": [
           {
            "error_x": {
             "color": "#2a3f5f"
            },
            "error_y": {
             "color": "#2a3f5f"
            },
            "marker": {
             "line": {
              "color": "#E5ECF6",
              "width": 0.5
             },
             "pattern": {
              "fillmode": "overlay",
              "size": 10,
              "solidity": 0.2
             }
            },
            "type": "bar"
           }
          ],
          "barpolar": [
           {
            "marker": {
             "line": {
              "color": "#E5ECF6",
              "width": 0.5
             },
             "pattern": {
              "fillmode": "overlay",
              "size": 10,
              "solidity": 0.2
             }
            },
            "type": "barpolar"
           }
          ],
          "carpet": [
           {
            "aaxis": {
             "endlinecolor": "#2a3f5f",
             "gridcolor": "white",
             "linecolor": "white",
             "minorgridcolor": "white",
             "startlinecolor": "#2a3f5f"
            },
            "baxis": {
             "endlinecolor": "#2a3f5f",
             "gridcolor": "white",
             "linecolor": "white",
             "minorgridcolor": "white",
             "startlinecolor": "#2a3f5f"
            },
            "type": "carpet"
           }
          ],
          "choropleth": [
           {
            "colorbar": {
             "outlinewidth": 0,
             "ticks": ""
            },
            "type": "choropleth"
           }
          ],
          "contour": [
           {
            "colorbar": {
             "outlinewidth": 0,
             "ticks": ""
            },
            "colorscale": [
             [
              0,
              "#0d0887"
             ],
             [
              0.1111111111111111,
              "#46039f"
             ],
             [
              0.2222222222222222,
              "#7201a8"
             ],
             [
              0.3333333333333333,
              "#9c179e"
             ],
             [
              0.4444444444444444,
              "#bd3786"
             ],
             [
              0.5555555555555556,
              "#d8576b"
             ],
             [
              0.6666666666666666,
              "#ed7953"
             ],
             [
              0.7777777777777778,
              "#fb9f3a"
             ],
             [
              0.8888888888888888,
              "#fdca26"
             ],
             [
              1,
              "#f0f921"
             ]
            ],
            "type": "contour"
           }
          ],
          "contourcarpet": [
           {
            "colorbar": {
             "outlinewidth": 0,
             "ticks": ""
            },
            "type": "contourcarpet"
           }
          ],
          "heatmap": [
           {
            "colorbar": {
             "outlinewidth": 0,
             "ticks": ""
            },
            "colorscale": [
             [
              0,
              "#0d0887"
             ],
             [
              0.1111111111111111,
              "#46039f"
             ],
             [
              0.2222222222222222,
              "#7201a8"
             ],
             [
              0.3333333333333333,
              "#9c179e"
             ],
             [
              0.4444444444444444,
              "#bd3786"
             ],
             [
              0.5555555555555556,
              "#d8576b"
             ],
             [
              0.6666666666666666,
              "#ed7953"
             ],
             [
              0.7777777777777778,
              "#fb9f3a"
             ],
             [
              0.8888888888888888,
              "#fdca26"
             ],
             [
              1,
              "#f0f921"
             ]
            ],
            "type": "heatmap"
           }
          ],
          "heatmapgl": [
           {
            "colorbar": {
             "outlinewidth": 0,
             "ticks": ""
            },
            "colorscale": [
             [
              0,
              "#0d0887"
             ],
             [
              0.1111111111111111,
              "#46039f"
             ],
             [
              0.2222222222222222,
              "#7201a8"
             ],
             [
              0.3333333333333333,
              "#9c179e"
             ],
             [
              0.4444444444444444,
              "#bd3786"
             ],
             [
              0.5555555555555556,
              "#d8576b"
             ],
             [
              0.6666666666666666,
              "#ed7953"
             ],
             [
              0.7777777777777778,
              "#fb9f3a"
             ],
             [
              0.8888888888888888,
              "#fdca26"
             ],
             [
              1,
              "#f0f921"
             ]
            ],
            "type": "heatmapgl"
           }
          ],
          "histogram": [
           {
            "marker": {
             "pattern": {
              "fillmode": "overlay",
              "size": 10,
              "solidity": 0.2
             }
            },
            "type": "histogram"
           }
          ],
          "histogram2d": [
           {
            "colorbar": {
             "outlinewidth": 0,
             "ticks": ""
            },
            "colorscale": [
             [
              0,
              "#0d0887"
             ],
             [
              0.1111111111111111,
              "#46039f"
             ],
             [
              0.2222222222222222,
              "#7201a8"
             ],
             [
              0.3333333333333333,
              "#9c179e"
             ],
             [
              0.4444444444444444,
              "#bd3786"
             ],
             [
              0.5555555555555556,
              "#d8576b"
             ],
             [
              0.6666666666666666,
              "#ed7953"
             ],
             [
              0.7777777777777778,
              "#fb9f3a"
             ],
             [
              0.8888888888888888,
              "#fdca26"
             ],
             [
              1,
              "#f0f921"
             ]
            ],
            "type": "histogram2d"
           }
          ],
          "histogram2dcontour": [
           {
            "colorbar": {
             "outlinewidth": 0,
             "ticks": ""
            },
            "colorscale": [
             [
              0,
              "#0d0887"
             ],
             [
              0.1111111111111111,
              "#46039f"
             ],
             [
              0.2222222222222222,
              "#7201a8"
             ],
             [
              0.3333333333333333,
              "#9c179e"
             ],
             [
              0.4444444444444444,
              "#bd3786"
             ],
             [
              0.5555555555555556,
              "#d8576b"
             ],
             [
              0.6666666666666666,
              "#ed7953"
             ],
             [
              0.7777777777777778,
              "#fb9f3a"
             ],
             [
              0.8888888888888888,
              "#fdca26"
             ],
             [
              1,
              "#f0f921"
             ]
            ],
            "type": "histogram2dcontour"
           }
          ],
          "mesh3d": [
           {
            "colorbar": {
             "outlinewidth": 0,
             "ticks": ""
            },
            "type": "mesh3d"
           }
          ],
          "parcoords": [
           {
            "line": {
             "colorbar": {
              "outlinewidth": 0,
              "ticks": ""
             }
            },
            "type": "parcoords"
           }
          ],
          "pie": [
           {
            "automargin": true,
            "type": "pie"
           }
          ],
          "scatter": [
           {
            "fillpattern": {
             "fillmode": "overlay",
             "size": 10,
             "solidity": 0.2
            },
            "type": "scatter"
           }
          ],
          "scatter3d": [
           {
            "line": {
             "colorbar": {
              "outlinewidth": 0,
              "ticks": ""
             }
            },
            "marker": {
             "colorbar": {
              "outlinewidth": 0,
              "ticks": ""
             }
            },
            "type": "scatter3d"
           }
          ],
          "scattercarpet": [
           {
            "marker": {
             "colorbar": {
              "outlinewidth": 0,
              "ticks": ""
             }
            },
            "type": "scattercarpet"
           }
          ],
          "scattergeo": [
           {
            "marker": {
             "colorbar": {
              "outlinewidth": 0,
              "ticks": ""
             }
            },
            "type": "scattergeo"
           }
          ],
          "scattergl": [
           {
            "marker": {
             "colorbar": {
              "outlinewidth": 0,
              "ticks": ""
             }
            },
            "type": "scattergl"
           }
          ],
          "scattermapbox": [
           {
            "marker": {
             "colorbar": {
              "outlinewidth": 0,
              "ticks": ""
             }
            },
            "type": "scattermapbox"
           }
          ],
          "scatterpolar": [
           {
            "marker": {
             "colorbar": {
              "outlinewidth": 0,
              "ticks": ""
             }
            },
            "type": "scatterpolar"
           }
          ],
          "scatterpolargl": [
           {
            "marker": {
             "colorbar": {
              "outlinewidth": 0,
              "ticks": ""
             }
            },
            "type": "scatterpolargl"
           }
          ],
          "scatterternary": [
           {
            "marker": {
             "colorbar": {
              "outlinewidth": 0,
              "ticks": ""
             }
            },
            "type": "scatterternary"
           }
          ],
          "surface": [
           {
            "colorbar": {
             "outlinewidth": 0,
             "ticks": ""
            },
            "colorscale": [
             [
              0,
              "#0d0887"
             ],
             [
              0.1111111111111111,
              "#46039f"
             ],
             [
              0.2222222222222222,
              "#7201a8"
             ],
             [
              0.3333333333333333,
              "#9c179e"
             ],
             [
              0.4444444444444444,
              "#bd3786"
             ],
             [
              0.5555555555555556,
              "#d8576b"
             ],
             [
              0.6666666666666666,
              "#ed7953"
             ],
             [
              0.7777777777777778,
              "#fb9f3a"
             ],
             [
              0.8888888888888888,
              "#fdca26"
             ],
             [
              1,
              "#f0f921"
             ]
            ],
            "type": "surface"
           }
          ],
          "table": [
           {
            "cells": {
             "fill": {
              "color": "#EBF0F8"
             },
             "line": {
              "color": "white"
             }
            },
            "header": {
             "fill": {
              "color": "#C8D4E3"
             },
             "line": {
              "color": "white"
             }
            },
            "type": "table"
           }
          ]
         },
         "layout": {
          "annotationdefaults": {
           "arrowcolor": "#2a3f5f",
           "arrowhead": 0,
           "arrowwidth": 1
          },
          "autotypenumbers": "strict",
          "coloraxis": {
           "colorbar": {
            "outlinewidth": 0,
            "ticks": ""
           }
          },
          "colorscale": {
           "diverging": [
            [
             0,
             "#8e0152"
            ],
            [
             0.1,
             "#c51b7d"
            ],
            [
             0.2,
             "#de77ae"
            ],
            [
             0.3,
             "#f1b6da"
            ],
            [
             0.4,
             "#fde0ef"
            ],
            [
             0.5,
             "#f7f7f7"
            ],
            [
             0.6,
             "#e6f5d0"
            ],
            [
             0.7,
             "#b8e186"
            ],
            [
             0.8,
             "#7fbc41"
            ],
            [
             0.9,
             "#4d9221"
            ],
            [
             1,
             "#276419"
            ]
           ],
           "sequential": [
            [
             0,
             "#0d0887"
            ],
            [
             0.1111111111111111,
             "#46039f"
            ],
            [
             0.2222222222222222,
             "#7201a8"
            ],
            [
             0.3333333333333333,
             "#9c179e"
            ],
            [
             0.4444444444444444,
             "#bd3786"
            ],
            [
             0.5555555555555556,
             "#d8576b"
            ],
            [
             0.6666666666666666,
             "#ed7953"
            ],
            [
             0.7777777777777778,
             "#fb9f3a"
            ],
            [
             0.8888888888888888,
             "#fdca26"
            ],
            [
             1,
             "#f0f921"
            ]
           ],
           "sequentialminus": [
            [
             0,
             "#0d0887"
            ],
            [
             0.1111111111111111,
             "#46039f"
            ],
            [
             0.2222222222222222,
             "#7201a8"
            ],
            [
             0.3333333333333333,
             "#9c179e"
            ],
            [
             0.4444444444444444,
             "#bd3786"
            ],
            [
             0.5555555555555556,
             "#d8576b"
            ],
            [
             0.6666666666666666,
             "#ed7953"
            ],
            [
             0.7777777777777778,
             "#fb9f3a"
            ],
            [
             0.8888888888888888,
             "#fdca26"
            ],
            [
             1,
             "#f0f921"
            ]
           ]
          },
          "colorway": [
           "#636efa",
           "#EF553B",
           "#00cc96",
           "#ab63fa",
           "#FFA15A",
           "#19d3f3",
           "#FF6692",
           "#B6E880",
           "#FF97FF",
           "#FECB52"
          ],
          "font": {
           "color": "#2a3f5f"
          },
          "geo": {
           "bgcolor": "white",
           "lakecolor": "white",
           "landcolor": "#E5ECF6",
           "showlakes": true,
           "showland": true,
           "subunitcolor": "white"
          },
          "hoverlabel": {
           "align": "left"
          },
          "hovermode": "closest",
          "mapbox": {
           "style": "light"
          },
          "paper_bgcolor": "white",
          "plot_bgcolor": "#E5ECF6",
          "polar": {
           "angularaxis": {
            "gridcolor": "white",
            "linecolor": "white",
            "ticks": ""
           },
           "bgcolor": "#E5ECF6",
           "radialaxis": {
            "gridcolor": "white",
            "linecolor": "white",
            "ticks": ""
           }
          },
          "scene": {
           "xaxis": {
            "backgroundcolor": "#E5ECF6",
            "gridcolor": "white",
            "gridwidth": 2,
            "linecolor": "white",
            "showbackground": true,
            "ticks": "",
            "zerolinecolor": "white"
           },
           "yaxis": {
            "backgroundcolor": "#E5ECF6",
            "gridcolor": "white",
            "gridwidth": 2,
            "linecolor": "white",
            "showbackground": true,
            "ticks": "",
            "zerolinecolor": "white"
           },
           "zaxis": {
            "backgroundcolor": "#E5ECF6",
            "gridcolor": "white",
            "gridwidth": 2,
            "linecolor": "white",
            "showbackground": true,
            "ticks": "",
            "zerolinecolor": "white"
           }
          },
          "shapedefaults": {
           "line": {
            "color": "#2a3f5f"
           }
          },
          "ternary": {
           "aaxis": {
            "gridcolor": "white",
            "linecolor": "white",
            "ticks": ""
           },
           "baxis": {
            "gridcolor": "white",
            "linecolor": "white",
            "ticks": ""
           },
           "bgcolor": "#E5ECF6",
           "caxis": {
            "gridcolor": "white",
            "linecolor": "white",
            "ticks": ""
           }
          },
          "title": {
           "x": 0.05
          },
          "xaxis": {
           "automargin": true,
           "gridcolor": "white",
           "linecolor": "white",
           "ticks": "",
           "title": {
            "standoff": 15
           },
           "zerolinecolor": "white",
           "zerolinewidth": 2
          },
          "yaxis": {
           "automargin": true,
           "gridcolor": "white",
           "linecolor": "white",
           "ticks": "",
           "title": {
            "standoff": 15
           },
           "zerolinecolor": "white",
           "zerolinewidth": 2
          }
         }
        },
        "title": {
         "text": "Portfólio do Fundo Verde"
        },
        "width": 900,
        "xaxis": {
         "anchor": "y",
         "domain": [
          0,
          1
         ]
        },
        "xaxis2": {
         "anchor": "y2",
         "domain": [
          0,
          1
         ]
        },
        "xaxis3": {
         "anchor": "y3",
         "domain": [
          0,
          1
         ]
        },
        "xaxis4": {
         "anchor": "y4",
         "domain": [
          0,
          1
         ]
        },
        "xaxis5": {
         "anchor": "y5",
         "domain": [
          0,
          1
         ]
        },
        "yaxis": {
         "anchor": "x",
         "domain": [
          0.816,
          1
         ]
        },
        "yaxis2": {
         "anchor": "x2",
         "domain": [
          0.6120000000000001,
          0.796
         ]
        },
        "yaxis3": {
         "anchor": "x3",
         "domain": [
          0.408,
          0.592
         ]
        },
        "yaxis4": {
         "anchor": "x4",
         "domain": [
          0.204,
          0.388
         ]
        },
        "yaxis5": {
         "anchor": "x5",
         "domain": [
          0,
          0.184
         ]
        }
       }
      }
     },
     "metadata": {},
     "output_type": "display_data"
    }
   ],
   "source": [
    "# Plotando o portfólio de cada mês\n",
    "portfolio_verde_202301 = portfolio_verde.loc['2023-01', ['CD_ATIVO', 'PORCENTAGEM']]\n",
    "portfolio_verde_202302 = portfolio_verde.loc['2023-02', ['CD_ATIVO', 'PORCENTAGEM']]\n",
    "portfolio_verde_202303 = portfolio_verde.loc['2023-03', ['CD_ATIVO', 'PORCENTAGEM']]\n",
    "portfolio_verde_202304 = portfolio_verde.loc['2023-04', ['CD_ATIVO', 'PORCENTAGEM']]\n",
    "portfolio_verde_202305 = portfolio_verde.loc['2023-05', ['CD_ATIVO', 'PORCENTAGEM']]\n",
    "\n",
    "fig = make_subplots(rows=5,\n",
    "                    cols=1,\n",
    "                    subplot_titles=(\n",
    "                        'Distribuição Percentual do Portfólio - 01/2023',\n",
    "                        'Distribuição Percentual do Portfólio - 02/2023',\n",
    "                        'Distribuição Percentual do Portfólio - 03/2023',\n",
    "                        'Distribuição Percentual do Portfólio - 04/2023',\n",
    "                        'Distribuição Percentual do Portfólio - 05/2023'),\n",
    "                    vertical_spacing=0.02 # Espaço entre os plots\n",
    ")\n",
    "\n",
    "fig.add_trace(go.Bar(\n",
    "    x=portfolio_verde_202301['PORCENTAGEM'] * 100,\n",
    "    y=portfolio_verde_202301['CD_ATIVO'],\n",
    "    orientation='h',\n",
    "    name='01/2023' \n",
    "), row=1, col=1)\n",
    "\n",
    "fig.add_trace(go.Bar(\n",
    "    x=portfolio_verde_202302['PORCENTAGEM'] * 100,\n",
    "    y=portfolio_verde_202302['CD_ATIVO'],\n",
    "    orientation='h',\n",
    "    name='02/2023' \n",
    "), row=2, col=1)\n",
    "\n",
    "fig.add_trace(go.Bar(\n",
    "    x=portfolio_verde_202303['PORCENTAGEM'] * 100,\n",
    "    y=portfolio_verde_202303['CD_ATIVO'],\n",
    "    orientation='h',\n",
    "    name='03/2023' \n",
    "), row=3, col=1)\n",
    "\n",
    "fig.add_trace(go.Bar(\n",
    "    x=portfolio_verde_202304['PORCENTAGEM'] * 100,\n",
    "    y=portfolio_verde_202304['CD_ATIVO'],\n",
    "    orientation='h',\n",
    "    name='04/2023' \n",
    "), row=4, col=1)\n",
    "\n",
    "fig.add_trace(go.Bar(\n",
    "    x=portfolio_verde_202305['PORCENTAGEM'] * 100,\n",
    "    y=portfolio_verde_202305['CD_ATIVO'],\n",
    "    orientation='h',\n",
    "    name='05/2023' \n",
    "), row=5, col=1)\n",
    "\n",
    "# Atualiza o layout do gráfico\n",
    "fig.update_layout(\n",
    "    title='Portfólio do Fundo Verde',\n",
    "    height=6000,\n",
    "    width=900\n",
    ")\n",
    "\n",
    "# Exibe o gráfico\n",
    "fig.show()"
   ]
  },
  {
   "cell_type": "markdown",
   "metadata": {},
   "source": [
    "### Fundo Dynamo"
   ]
  },
  {
   "cell_type": "markdown",
   "metadata": {},
   "source": [
    "* https://maisretorno.com/fundo/dynamo-cougar-master-fia/carteira"
   ]
  },
  {
   "cell_type": "code",
   "execution_count": 162,
   "metadata": {},
   "outputs": [],
   "source": [
    "dynamo_acoes, dynamo_bdr, dynamo_exterior, dynamo_cotas_fundos, dynamo_titulos_pub, dynamo_vendido_acoes = fundo_cnpj(cnpj='37.916.879/0001-26')\n",
    "dynamo_pl = pl_fundo(\n",
    "    path=f'C://Users//vitor//projetos_python//python_b3//historico-arquivos//fundos_investimentos//fundos_cvm//{ano}{mes}//cda_fi_PL_{ano}{mes}.csv', \n",
    "    cnpj='37.916.879/0001-26'\n",
    ")\n",
    "\n",
    "# Quantos porcertos cada categoria representa do PL final\n",
    "pct_acoes = round(pd.Series(dynamo_acoes['VL_MERC_POS_FINAL'].sum() / dynamo_pl.values), 4) \n",
    "pct_bdr = round(pd.Series(dynamo_bdr['VL_MERC_POS_FINAL'].sum() / dynamo_pl.values), 4) \n",
    "pct_exterior = round(pd.Series(dynamo_exterior['VL_MERC_POS_FINAL'].sum() / dynamo_pl.values), 4) \n",
    "pct_cotas_fundos = round(pd.Series(dynamo_cotas_fundos['VL_MERC_POS_FINAL'].sum() / dynamo_pl.values), 4) \n",
    "pct_titulos_pub = round(pd.Series(dynamo_titulos_pub['VL_MERC_POS_FINAL'].sum() / dynamo_pl.values), 4) \n",
    "pct_vendido_acoes = round(pd.Series(dynamo_vendido_acoes['VL_MERC_POS_FINAL'].sum() / dynamo_pl.values), 4) \n",
    "\n",
    "# Criando a data do portfólio\n",
    "data = pd.to_datetime(f'{mes}-{ano}')\n",
    "\n",
    "# Adicionando a informação da porcentagem de cada categoria nos dfs\n",
    "# Ações\n",
    "linha_pct_acoes = {'DENOM_SOCIAL': 'PL% FUNDO', 'VL_MERC_POS_FINAL' : pct_acoes}\n",
    "df_linha_pct_acoes = pd.DataFrame(linha_pct_acoes)\n",
    "dynamo_acoes = pd.concat([dynamo_acoes, df_linha_pct_acoes])\n",
    "# Criando a coluna 'data' no df\n",
    "dynamo_acoes['data'] = data\n",
    "# Definindo a coluna 'data' como o index\n",
    "dynamo_acoes = dynamo_acoes.set_index('data')\n",
    "\n",
    "# BDRs\n",
    "linha_pct_bdr = {'DENOM_SOCIAL': 'PL% FUNDO', 'VL_MERC_POS_FINAL' : pct_bdr}\n",
    "df_linha_pct_bdr = pd.DataFrame(linha_pct_bdr)\n",
    "dynamo_bdr = pd.concat([dynamo_bdr, df_linha_pct_bdr])\n",
    "# Criando a coluna 'data' no df\n",
    "dynamo_bdr['data'] = data\n",
    "# Definindo a coluna 'data' como o index\n",
    "dynamo_bdr = dynamo_bdr.set_index('data')\n",
    "\n",
    "# Investimentos no Exterior\n",
    "linha_pct_exterior = {'DENOM_SOCIAL': 'PL% FUNDO', 'VL_MERC_POS_FINAL' : pct_exterior}\n",
    "df_linha_pct_exterior = pd.DataFrame(linha_pct_exterior)\n",
    "dynamo_exterior = pd.concat([dynamo_exterior, df_linha_pct_exterior])\n",
    "# Criando a coluna 'data' no df\n",
    "dynamo_exterior['data'] = data\n",
    "# Definindo a coluna 'data' como o index\n",
    "dynamo_exterior = dynamo_exterior.set_index('data')\n",
    "\n",
    "# Cotas de Fundos\n",
    "linha_pct_cotas_fundos = {'DENOM_SOCIAL': 'PL% FUNDO', 'VL_MERC_POS_FINAL' : pct_cotas_fundos}\n",
    "df_linha_pct_cotas_fundos = pd.DataFrame(linha_pct_cotas_fundos)\n",
    "dynamo_cotas_fundos = pd.concat([dynamo_cotas_fundos, df_linha_pct_cotas_fundos])\n",
    "# Criando a coluna 'data' no df\n",
    "dynamo_cotas_fundos['data'] = data\n",
    "# Definindo a coluna 'data' como o index\n",
    "dynamo_codynamo_cotas_fundos =dynamo_cotas_fundos.set_index('data')\n",
    "\n",
    "# Títulos Públicos\n",
    "linha_pct_titulos_pub = {'DENOM_SOCIAL': 'PL% FUNDO', 'VL_MERC_POS_FINAL' : pct_titulos_pub}\n",
    "df_linha_pct_titulos_pub = pd.DataFrame(linha_pct_titulos_pub)\n",
    "dynamo_titulos_pub = pd.concat([dynamo_titulos_pub, df_linha_pct_titulos_pub])\n",
    "# Criando a coluna 'data' no df\n",
    "dynamo_titulos_pub['data'] = data\n",
    "# Definindo a coluna 'data' como o index\n",
    "dynamo_titulos_pub = dynamo_titulos_pub.set_index('data')\n",
    "\n",
    "# Vendido Ações\n",
    "linha_pct_vendido_acoes = {'DENOM_SOCIAL': 'PL% FUNDO', 'VL_MERC_POS_FINAL' : pct_vendido_acoes}\n",
    "df_linha_pct_vendido_acoes = pd.DataFrame(linha_pct_vendido_acoes)\n",
    "dynamo_vendido_acoes = pd.concat([dynamo_vendido_acoes, df_linha_pct_vendido_acoes])\n",
    "# Criando a coluna 'data' no df\n",
    "dynamo_vendido_acoes['data'] = data\n",
    "# Definindo a coluna 'data' como o index\n",
    "dynamo_vendido_acoes = dynamo_vendido_acoes.set_index('data')"
   ]
  },
  {
   "cell_type": "code",
   "execution_count": 163,
   "metadata": {},
   "outputs": [],
   "source": [
    "# Criando o arquivo excel em que cada categoria está em uma aba diferente\n",
    "with pd.ExcelWriter(f'C://Users//vitor//projetos_python//python_b3//composicao-fundos-de-investimentos//arquivos_fundos//dynamo//fundo_dynamo_{ano}{mes}.xlsx') as writer:\n",
    "    dynamo_acoes.to_excel(writer, sheet_name='acoes')\n",
    "    dynamo_bdr.to_excel(writer, sheet_name='bdr')\n",
    "    dynamo_exterior.to_excel(writer, sheet_name='exterior')\n",
    "    dynamo_cotas_fundos.to_excel(writer, sheet_name='cota_fundos')\n",
    "    dynamo_titulos_pub.to_excel(writer, sheet_name='titulos_publicos')\n",
    "    dynamo_vendido_acoes.to_excel(writer, sheet_name='vendido_acoes')"
   ]
  },
  {
   "cell_type": "code",
   "execution_count": 73,
   "metadata": {},
   "outputs": [
    {
     "data": {
      "text/plain": [
       "data\n",
       "2023-01-01    {ENJU3, WEGE3, PORT3, VALE3, ITSA4, ANIM3, SMF...\n",
       "2023-02-01    {ENJU3, WEGE3, PORT3, VALE3, ITSA4, ANIM3, SMF...\n",
       "2023-03-01    {WEGE3, PORT3, VALE3, ITSA4, ANIM3, ASAI3, SMF...\n",
       "2023-04-01    {WEGE3, PORT3, VALE3, ITSA4, ANIM3, ASAI3, SMF...\n",
       "Name: CD_ATIVO, dtype: object"
      ]
     },
     "execution_count": 73,
     "metadata": {},
     "output_type": "execute_result"
    }
   ],
   "source": [
    "# Abrindo os arquivos excel\n",
    "arquivos_excel = [\n",
    "    'fundo_dynamo_202301.xlsx', \n",
    "    'fundo_dynamo_202302.xlsx', \n",
    "    'fundo_dynamo_202303.xlsx', \n",
    "    'fundo_dynamo_202304.xlsx', \n",
    "    #'fundo_dynamo_202305.xlsx'   #não tem os dados do fundo neste mês, mas tem no site da CVM e Mais Retorno.\n",
    "]  \n",
    "\n",
    "lst_dfs = []\n",
    "for arquivo in arquivos_excel:\n",
    "    df = pd.read_excel(f'C://Users//vitor//projetos_python//python_b3//composicao-fundos-de-investimentos//arquivos_fundos//dynamo//{arquivo}', sheet_name='acoes')\n",
    "    lst_dfs.append(df)\n",
    "\n",
    "# Concatendo os dfs de ações\n",
    "portfolio_dynamo = pd.concat(lst_dfs, ignore_index=True)\n",
    "\n",
    "# Retirando as ações que não tem nenhum dinheiro alocado e os NAN\n",
    "portfolio_dynamo = portfolio_dynamo[portfolio_dynamo['VL_MERC_POS_FINAL'] != 0]\n",
    "portfolio_dynamo = portfolio_dynamo.dropna()\n",
    "\n",
    "# Definindo a coluna 'data' como o index\n",
    "portfolio_dynamo = portfolio_dynamo.set_index('data')\n",
    "\n",
    "# Selecionando o conjunto de ações (portfólio) de cada mês\n",
    "portfolio_mensal = portfolio_dynamo.groupby('data')['CD_ATIVO'].apply(set)\n",
    "portfolio_mensal"
   ]
  },
  {
   "cell_type": "code",
   "execution_count": 74,
   "metadata": {},
   "outputs": [
    {
     "name": "stdout",
     "output_type": "stream",
     "text": [
      "Comparando o portfólio de 01/23 e 02/23:\n",
      "A Dynamo vendeu as ações: {'ITUB4', 'RENT3', 'PETR3', 'PETR4'}\n",
      "A Dynamo comprou as ações: {'CCRO3'}\n",
      "--------------------------------------------------------------------------------\n",
      "Comparando o portfólio de 02/23 e 03/23:\n",
      "A Dynamo vendeu as ações: {'ENJU3', 'GGBR4'}\n",
      "A Dynamo comprou as ações: {'OPCT3', 'ASAI3'}\n",
      "--------------------------------------------------------------------------------\n",
      "Comparando o portfólio de 03/23 e 04/23:\n",
      "A Dynamo vendeu as ações: set()\n",
      "A Dynamo comprou as ações: {'GGBR4'}\n"
     ]
    }
   ],
   "source": [
    "print('Comparando o portfólio de 01/23 e 02/23:')\n",
    "print(f'A Dynamo vendeu as ações: {set(portfolio_mensal[0]) - set(portfolio_mensal[1])}')\n",
    "print(f'A Dynamo comprou as ações: {set(portfolio_mensal[1]) - set(portfolio_mensal[0])}')\n",
    "\n",
    "print('-'*80)\n",
    "\n",
    "print('Comparando o portfólio de 02/23 e 03/23:')\n",
    "print(f'A Dynamo vendeu as ações: {set(portfolio_mensal[1]) - set(portfolio_mensal[2])}')\n",
    "print(f'A Dynamo comprou as ações: {set(portfolio_mensal[2]) - set(portfolio_mensal[1])}')\n",
    "\n",
    "print('-'*80)\n",
    "\n",
    "print('Comparando o portfólio de 03/23 e 04/23:')\n",
    "print(f'A Dynamo vendeu as ações: {set(portfolio_mensal[2]) - set(portfolio_mensal[3])}')\n",
    "print(f'A Dynamo comprou as ações: {set(portfolio_mensal[3]) - set(portfolio_mensal[2])}')\n"
   ]
  },
  {
   "cell_type": "code",
   "execution_count": 75,
   "metadata": {},
   "outputs": [
    {
     "name": "stdout",
     "output_type": "stream",
     "text": [
      "Número total de ações:\n",
      "            CD_ATIVO\n",
      "data                \n",
      "2023-01-01        30\n",
      "2023-02-01        27\n",
      "2023-03-01        27\n",
      "2023-04-01        28\n",
      "------------------------------------------------------------\n",
      "data\n",
      "2023-01-01    [ENEV3, VBBR3, CSAN3, RENT3, NTCO3]\n",
      "2023-02-01    [ENEV3, VBBR3, CSAN3, NTCO3, RDOR3]\n",
      "2023-03-01    [ENEV3, VBBR3, CSAN3, NTCO3, RDOR3]\n",
      "2023-04-01    [ENEV3, CSAN3, VBBR3, RDOR3, NTCO3]\n",
      "Name: CD_ATIVO, dtype: object\n"
     ]
    }
   ],
   "source": [
    "# Número total de ações de cada mês do portfpolio\n",
    "print('Número total de ações:')\n",
    "num_total_acoes = portfolio_dynamo.groupby('data')['CD_ATIVO'].count()\n",
    "print(pd.DataFrame(num_total_acoes))\n",
    "\n",
    "print('-'*60)\n",
    "# Selecionando os valores únicos (datas) do df\n",
    "lst_data = portfolio_dynamo.index.unique()\n",
    "\n",
    "# Rank das 5 maiores ações do fundo\n",
    "lst_rank = []\n",
    "for _ in lst_data:\n",
    "    rank = portfolio_dynamo.loc[_].nlargest(5, 'PORCENTAGEM')[['CD_ATIVO', 'PORCENTAGEM']]\n",
    "    lst_rank.append(rank)\n",
    "\n",
    "# Concatendo os dfs de rank\n",
    "rank_portfolio = pd.concat(lst_rank)\n",
    "rank_portfolio_dynamo = rank_portfolio.groupby('data')['CD_ATIVO'].apply(list)\n",
    "print(rank_portfolio_dynamo)"
   ]
  },
  {
   "cell_type": "code",
   "execution_count": 97,
   "metadata": {},
   "outputs": [
    {
     "data": {
      "application/vnd.plotly.v1+json": {
       "config": {
        "plotlyServerURL": "https://plot.ly"
       },
       "data": [
        {
         "name": "01/2023",
         "orientation": "h",
         "type": "bar",
         "x": [
          14.765877424635022,
          11.07825052007119,
          10.6247124944188,
          10.012880702346589,
          9.379016474310077,
          8.072363780450305,
          4.152046132064057,
          4.09250773290329,
          3.705219353386213,
          3.58791175239783,
          3.4060094354081563,
          2.398329166506385,
          2.3853964968795194,
          1.8702021228269579,
          1.725919261190157,
          1.5602158188310689,
          1.5209167120349258,
          1.25216730450132,
          0.9507150888533329,
          0.9112457785494049,
          0.6885484099575644,
          0.6171324649967369,
          0.3903369004221366,
          0.3325170933372171,
          0.2965055317319719,
          0.1457325034270013,
          0.04592961400332403,
          0.015336434583773982,
          0.009267522388994224,
          0.00678997258669486
         ],
         "xaxis": "x",
         "y": [
          "ENEV3",
          "VBBR3",
          "CSAN3",
          "RENT3",
          "NTCO3",
          "RDOR3",
          "SUZB3",
          "ALPA4",
          "GOAU4",
          "ITSA4",
          "RADL3",
          "ARZZ3",
          "CYRE3",
          "WEGE3",
          "VALE3",
          "VVEO3",
          "EQTL3",
          "SMFT3",
          "ANIM3",
          "PORT3",
          "ITUB4",
          "DASA3",
          "B3SA3",
          "OFSA3",
          "PETR3",
          "PETR4",
          "HBRE3",
          "GGBR4",
          "ENJU3",
          "ALPA3"
         ],
         "yaxis": "y"
        },
        {
         "name": "02/2023",
         "orientation": "h",
         "type": "bar",
         "x": [
          15.95366267285021,
          11.47013059455015,
          11.27293054972163,
          11.20045267584279,
          9.02006238455575,
          6.179784039751379,
          4.289163075468366,
          3.647644915747493,
          3.4696319010302927,
          3.230959069573848,
          2.704352132166014,
          2.6565471686891,
          2.557386414666377,
          2.529127307267209,
          2.1721801960425338,
          1.654297101283722,
          1.523331356349854,
          1.0004067073221041,
          0.774908921761218,
          0.6536519423017334,
          0.6458370322732407,
          0.5869708496890812,
          0.379024184994646,
          0.3569274755697377,
          0.05078425255095819,
          0.01945422053677724,
          0.00039085744380046273
         ],
         "xaxis": "x2",
         "y": [
          "ENEV3",
          "VBBR3",
          "CSAN3",
          "NTCO3",
          "RDOR3",
          "SUZB3",
          "ITSA4",
          "RADL3",
          "ALPA4",
          "GOAU4",
          "EQTL3",
          "VALE3",
          "ARZZ3",
          "CYRE3",
          "WEGE3",
          "VVEO3",
          "SMFT3",
          "PORT3",
          "ANIM3",
          "B3SA3",
          "DASA3",
          "CCRO3",
          "OFSA3",
          "GGBR4",
          "HBRE3",
          "ALPA3",
          "ENJU3"
         ],
         "yaxis": "y2"
        },
        {
         "name": "03/2023",
         "orientation": "h",
         "type": "bar",
         "x": [
          16.30237335980889,
          12.21641205208508,
          12.10809220533475,
          10.405276565534221,
          10.03932710467092,
          5.890450742921093,
          4.036666892589828,
          3.7700440028008924,
          3.2860035333500055,
          3.091289327610335,
          2.425196383555269,
          2.120477131389838,
          2.050934287863492,
          1.797263263465192,
          1.681758527536694,
          1.576554330015029,
          1.452152381957914,
          1.267002085263615,
          1.044143350068401,
          0.9274370031553933,
          0.6914126686928682,
          0.6628271246413736,
          0.5992948736389929,
          0.4036761783868706,
          0.07982523624738634,
          0.04962665936221503,
          0.02448272805342927
         ],
         "xaxis": "x3",
         "y": [
          "ENEV3",
          "VBBR3",
          "CSAN3",
          "NTCO3",
          "RDOR3",
          "SUZB3",
          "ITSA4",
          "GOAU4",
          "ALPA4",
          "EQTL3",
          "WEGE3",
          "RADL3",
          "ARZZ3",
          "CYRE3",
          "VALE3",
          "VVEO3",
          "SMFT3",
          "CCRO3",
          "ASAI3",
          "PORT3",
          "B3SA3",
          "ANIM3",
          "DASA3",
          "OFSA3",
          "OPCT3",
          "HBRE3",
          "ALPA3"
         ],
         "yaxis": "y3"
        },
        {
         "name": "04/2023",
         "orientation": "h",
         "type": "bar",
         "x": [
          17.3017834570216,
          11.16107899939211,
          11.05272659816771,
          10.335349288227679,
          9.131423784156997,
          8.128174121150847,
          4.173127728706421,
          4.044904563454152,
          2.962248977292881,
          2.7711160022962122,
          2.4076869374798098,
          2.293378106420663,
          2.239673432151287,
          1.9429677161885681,
          1.640806084671625,
          1.623738831494725,
          1.4846757121870149,
          1.238428325289015,
          0.8767571366091289,
          0.8117685135619224,
          0.7878402740661884,
          0.5973882066027638,
          0.40343885655979284,
          0.2372297672902035,
          0.1577582415491394,
          0.1133625692539678,
          0.04758106336267976,
          0.03358670539486716
         ],
         "xaxis": "x4",
         "y": [
          "ENEV3",
          "CSAN3",
          "VBBR3",
          "RDOR3",
          "NTCO3",
          "SUZB3",
          "ITSA4",
          "GOAU4",
          "RADL3",
          "ALPA4",
          "WEGE3",
          "CYRE3",
          "VVEO3",
          "EQTL3",
          "SMFT3",
          "ARZZ3",
          "VALE3",
          "CCRO3",
          "DASA3",
          "ASAI3",
          "PORT3",
          "ANIM3",
          "OFSA3",
          "GGBR4",
          "B3SA3",
          "OPCT3",
          "HBRE3",
          "ALPA3"
         ],
         "yaxis": "y4"
        }
       ],
       "layout": {
        "annotations": [
         {
          "font": {
           "size": 16
          },
          "showarrow": false,
          "text": "Distribuição Percentual do Portfólio - 01/2023",
          "x": 0.5,
          "xanchor": "center",
          "xref": "paper",
          "y": 1,
          "yanchor": "bottom",
          "yref": "paper"
         },
         {
          "font": {
           "size": 16
          },
          "showarrow": false,
          "text": "Distribuição Percentual do Portfólio - 02/2023",
          "x": 0.5,
          "xanchor": "center",
          "xref": "paper",
          "y": 0.7425,
          "yanchor": "bottom",
          "yref": "paper"
         },
         {
          "font": {
           "size": 16
          },
          "showarrow": false,
          "text": "Distribuição Percentual do Portfólio - 03/2023",
          "x": 0.5,
          "xanchor": "center",
          "xref": "paper",
          "y": 0.485,
          "yanchor": "bottom",
          "yref": "paper"
         },
         {
          "font": {
           "size": 16
          },
          "showarrow": false,
          "text": "Distribuição Percentual do Portfólio - 04/2023",
          "x": 0.5,
          "xanchor": "center",
          "xref": "paper",
          "y": 0.2275,
          "yanchor": "bottom",
          "yref": "paper"
         }
        ],
        "height": 3000,
        "template": {
         "data": {
          "bar": [
           {
            "error_x": {
             "color": "#2a3f5f"
            },
            "error_y": {
             "color": "#2a3f5f"
            },
            "marker": {
             "line": {
              "color": "#E5ECF6",
              "width": 0.5
             },
             "pattern": {
              "fillmode": "overlay",
              "size": 10,
              "solidity": 0.2
             }
            },
            "type": "bar"
           }
          ],
          "barpolar": [
           {
            "marker": {
             "line": {
              "color": "#E5ECF6",
              "width": 0.5
             },
             "pattern": {
              "fillmode": "overlay",
              "size": 10,
              "solidity": 0.2
             }
            },
            "type": "barpolar"
           }
          ],
          "carpet": [
           {
            "aaxis": {
             "endlinecolor": "#2a3f5f",
             "gridcolor": "white",
             "linecolor": "white",
             "minorgridcolor": "white",
             "startlinecolor": "#2a3f5f"
            },
            "baxis": {
             "endlinecolor": "#2a3f5f",
             "gridcolor": "white",
             "linecolor": "white",
             "minorgridcolor": "white",
             "startlinecolor": "#2a3f5f"
            },
            "type": "carpet"
           }
          ],
          "choropleth": [
           {
            "colorbar": {
             "outlinewidth": 0,
             "ticks": ""
            },
            "type": "choropleth"
           }
          ],
          "contour": [
           {
            "colorbar": {
             "outlinewidth": 0,
             "ticks": ""
            },
            "colorscale": [
             [
              0,
              "#0d0887"
             ],
             [
              0.1111111111111111,
              "#46039f"
             ],
             [
              0.2222222222222222,
              "#7201a8"
             ],
             [
              0.3333333333333333,
              "#9c179e"
             ],
             [
              0.4444444444444444,
              "#bd3786"
             ],
             [
              0.5555555555555556,
              "#d8576b"
             ],
             [
              0.6666666666666666,
              "#ed7953"
             ],
             [
              0.7777777777777778,
              "#fb9f3a"
             ],
             [
              0.8888888888888888,
              "#fdca26"
             ],
             [
              1,
              "#f0f921"
             ]
            ],
            "type": "contour"
           }
          ],
          "contourcarpet": [
           {
            "colorbar": {
             "outlinewidth": 0,
             "ticks": ""
            },
            "type": "contourcarpet"
           }
          ],
          "heatmap": [
           {
            "colorbar": {
             "outlinewidth": 0,
             "ticks": ""
            },
            "colorscale": [
             [
              0,
              "#0d0887"
             ],
             [
              0.1111111111111111,
              "#46039f"
             ],
             [
              0.2222222222222222,
              "#7201a8"
             ],
             [
              0.3333333333333333,
              "#9c179e"
             ],
             [
              0.4444444444444444,
              "#bd3786"
             ],
             [
              0.5555555555555556,
              "#d8576b"
             ],
             [
              0.6666666666666666,
              "#ed7953"
             ],
             [
              0.7777777777777778,
              "#fb9f3a"
             ],
             [
              0.8888888888888888,
              "#fdca26"
             ],
             [
              1,
              "#f0f921"
             ]
            ],
            "type": "heatmap"
           }
          ],
          "heatmapgl": [
           {
            "colorbar": {
             "outlinewidth": 0,
             "ticks": ""
            },
            "colorscale": [
             [
              0,
              "#0d0887"
             ],
             [
              0.1111111111111111,
              "#46039f"
             ],
             [
              0.2222222222222222,
              "#7201a8"
             ],
             [
              0.3333333333333333,
              "#9c179e"
             ],
             [
              0.4444444444444444,
              "#bd3786"
             ],
             [
              0.5555555555555556,
              "#d8576b"
             ],
             [
              0.6666666666666666,
              "#ed7953"
             ],
             [
              0.7777777777777778,
              "#fb9f3a"
             ],
             [
              0.8888888888888888,
              "#fdca26"
             ],
             [
              1,
              "#f0f921"
             ]
            ],
            "type": "heatmapgl"
           }
          ],
          "histogram": [
           {
            "marker": {
             "pattern": {
              "fillmode": "overlay",
              "size": 10,
              "solidity": 0.2
             }
            },
            "type": "histogram"
           }
          ],
          "histogram2d": [
           {
            "colorbar": {
             "outlinewidth": 0,
             "ticks": ""
            },
            "colorscale": [
             [
              0,
              "#0d0887"
             ],
             [
              0.1111111111111111,
              "#46039f"
             ],
             [
              0.2222222222222222,
              "#7201a8"
             ],
             [
              0.3333333333333333,
              "#9c179e"
             ],
             [
              0.4444444444444444,
              "#bd3786"
             ],
             [
              0.5555555555555556,
              "#d8576b"
             ],
             [
              0.6666666666666666,
              "#ed7953"
             ],
             [
              0.7777777777777778,
              "#fb9f3a"
             ],
             [
              0.8888888888888888,
              "#fdca26"
             ],
             [
              1,
              "#f0f921"
             ]
            ],
            "type": "histogram2d"
           }
          ],
          "histogram2dcontour": [
           {
            "colorbar": {
             "outlinewidth": 0,
             "ticks": ""
            },
            "colorscale": [
             [
              0,
              "#0d0887"
             ],
             [
              0.1111111111111111,
              "#46039f"
             ],
             [
              0.2222222222222222,
              "#7201a8"
             ],
             [
              0.3333333333333333,
              "#9c179e"
             ],
             [
              0.4444444444444444,
              "#bd3786"
             ],
             [
              0.5555555555555556,
              "#d8576b"
             ],
             [
              0.6666666666666666,
              "#ed7953"
             ],
             [
              0.7777777777777778,
              "#fb9f3a"
             ],
             [
              0.8888888888888888,
              "#fdca26"
             ],
             [
              1,
              "#f0f921"
             ]
            ],
            "type": "histogram2dcontour"
           }
          ],
          "mesh3d": [
           {
            "colorbar": {
             "outlinewidth": 0,
             "ticks": ""
            },
            "type": "mesh3d"
           }
          ],
          "parcoords": [
           {
            "line": {
             "colorbar": {
              "outlinewidth": 0,
              "ticks": ""
             }
            },
            "type": "parcoords"
           }
          ],
          "pie": [
           {
            "automargin": true,
            "type": "pie"
           }
          ],
          "scatter": [
           {
            "fillpattern": {
             "fillmode": "overlay",
             "size": 10,
             "solidity": 0.2
            },
            "type": "scatter"
           }
          ],
          "scatter3d": [
           {
            "line": {
             "colorbar": {
              "outlinewidth": 0,
              "ticks": ""
             }
            },
            "marker": {
             "colorbar": {
              "outlinewidth": 0,
              "ticks": ""
             }
            },
            "type": "scatter3d"
           }
          ],
          "scattercarpet": [
           {
            "marker": {
             "colorbar": {
              "outlinewidth": 0,
              "ticks": ""
             }
            },
            "type": "scattercarpet"
           }
          ],
          "scattergeo": [
           {
            "marker": {
             "colorbar": {
              "outlinewidth": 0,
              "ticks": ""
             }
            },
            "type": "scattergeo"
           }
          ],
          "scattergl": [
           {
            "marker": {
             "colorbar": {
              "outlinewidth": 0,
              "ticks": ""
             }
            },
            "type": "scattergl"
           }
          ],
          "scattermapbox": [
           {
            "marker": {
             "colorbar": {
              "outlinewidth": 0,
              "ticks": ""
             }
            },
            "type": "scattermapbox"
           }
          ],
          "scatterpolar": [
           {
            "marker": {
             "colorbar": {
              "outlinewidth": 0,
              "ticks": ""
             }
            },
            "type": "scatterpolar"
           }
          ],
          "scatterpolargl": [
           {
            "marker": {
             "colorbar": {
              "outlinewidth": 0,
              "ticks": ""
             }
            },
            "type": "scatterpolargl"
           }
          ],
          "scatterternary": [
           {
            "marker": {
             "colorbar": {
              "outlinewidth": 0,
              "ticks": ""
             }
            },
            "type": "scatterternary"
           }
          ],
          "surface": [
           {
            "colorbar": {
             "outlinewidth": 0,
             "ticks": ""
            },
            "colorscale": [
             [
              0,
              "#0d0887"
             ],
             [
              0.1111111111111111,
              "#46039f"
             ],
             [
              0.2222222222222222,
              "#7201a8"
             ],
             [
              0.3333333333333333,
              "#9c179e"
             ],
             [
              0.4444444444444444,
              "#bd3786"
             ],
             [
              0.5555555555555556,
              "#d8576b"
             ],
             [
              0.6666666666666666,
              "#ed7953"
             ],
             [
              0.7777777777777778,
              "#fb9f3a"
             ],
             [
              0.8888888888888888,
              "#fdca26"
             ],
             [
              1,
              "#f0f921"
             ]
            ],
            "type": "surface"
           }
          ],
          "table": [
           {
            "cells": {
             "fill": {
              "color": "#EBF0F8"
             },
             "line": {
              "color": "white"
             }
            },
            "header": {
             "fill": {
              "color": "#C8D4E3"
             },
             "line": {
              "color": "white"
             }
            },
            "type": "table"
           }
          ]
         },
         "layout": {
          "annotationdefaults": {
           "arrowcolor": "#2a3f5f",
           "arrowhead": 0,
           "arrowwidth": 1
          },
          "autotypenumbers": "strict",
          "coloraxis": {
           "colorbar": {
            "outlinewidth": 0,
            "ticks": ""
           }
          },
          "colorscale": {
           "diverging": [
            [
             0,
             "#8e0152"
            ],
            [
             0.1,
             "#c51b7d"
            ],
            [
             0.2,
             "#de77ae"
            ],
            [
             0.3,
             "#f1b6da"
            ],
            [
             0.4,
             "#fde0ef"
            ],
            [
             0.5,
             "#f7f7f7"
            ],
            [
             0.6,
             "#e6f5d0"
            ],
            [
             0.7,
             "#b8e186"
            ],
            [
             0.8,
             "#7fbc41"
            ],
            [
             0.9,
             "#4d9221"
            ],
            [
             1,
             "#276419"
            ]
           ],
           "sequential": [
            [
             0,
             "#0d0887"
            ],
            [
             0.1111111111111111,
             "#46039f"
            ],
            [
             0.2222222222222222,
             "#7201a8"
            ],
            [
             0.3333333333333333,
             "#9c179e"
            ],
            [
             0.4444444444444444,
             "#bd3786"
            ],
            [
             0.5555555555555556,
             "#d8576b"
            ],
            [
             0.6666666666666666,
             "#ed7953"
            ],
            [
             0.7777777777777778,
             "#fb9f3a"
            ],
            [
             0.8888888888888888,
             "#fdca26"
            ],
            [
             1,
             "#f0f921"
            ]
           ],
           "sequentialminus": [
            [
             0,
             "#0d0887"
            ],
            [
             0.1111111111111111,
             "#46039f"
            ],
            [
             0.2222222222222222,
             "#7201a8"
            ],
            [
             0.3333333333333333,
             "#9c179e"
            ],
            [
             0.4444444444444444,
             "#bd3786"
            ],
            [
             0.5555555555555556,
             "#d8576b"
            ],
            [
             0.6666666666666666,
             "#ed7953"
            ],
            [
             0.7777777777777778,
             "#fb9f3a"
            ],
            [
             0.8888888888888888,
             "#fdca26"
            ],
            [
             1,
             "#f0f921"
            ]
           ]
          },
          "colorway": [
           "#636efa",
           "#EF553B",
           "#00cc96",
           "#ab63fa",
           "#FFA15A",
           "#19d3f3",
           "#FF6692",
           "#B6E880",
           "#FF97FF",
           "#FECB52"
          ],
          "font": {
           "color": "#2a3f5f"
          },
          "geo": {
           "bgcolor": "white",
           "lakecolor": "white",
           "landcolor": "#E5ECF6",
           "showlakes": true,
           "showland": true,
           "subunitcolor": "white"
          },
          "hoverlabel": {
           "align": "left"
          },
          "hovermode": "closest",
          "mapbox": {
           "style": "light"
          },
          "paper_bgcolor": "white",
          "plot_bgcolor": "#E5ECF6",
          "polar": {
           "angularaxis": {
            "gridcolor": "white",
            "linecolor": "white",
            "ticks": ""
           },
           "bgcolor": "#E5ECF6",
           "radialaxis": {
            "gridcolor": "white",
            "linecolor": "white",
            "ticks": ""
           }
          },
          "scene": {
           "xaxis": {
            "backgroundcolor": "#E5ECF6",
            "gridcolor": "white",
            "gridwidth": 2,
            "linecolor": "white",
            "showbackground": true,
            "ticks": "",
            "zerolinecolor": "white"
           },
           "yaxis": {
            "backgroundcolor": "#E5ECF6",
            "gridcolor": "white",
            "gridwidth": 2,
            "linecolor": "white",
            "showbackground": true,
            "ticks": "",
            "zerolinecolor": "white"
           },
           "zaxis": {
            "backgroundcolor": "#E5ECF6",
            "gridcolor": "white",
            "gridwidth": 2,
            "linecolor": "white",
            "showbackground": true,
            "ticks": "",
            "zerolinecolor": "white"
           }
          },
          "shapedefaults": {
           "line": {
            "color": "#2a3f5f"
           }
          },
          "ternary": {
           "aaxis": {
            "gridcolor": "white",
            "linecolor": "white",
            "ticks": ""
           },
           "baxis": {
            "gridcolor": "white",
            "linecolor": "white",
            "ticks": ""
           },
           "bgcolor": "#E5ECF6",
           "caxis": {
            "gridcolor": "white",
            "linecolor": "white",
            "ticks": ""
           }
          },
          "title": {
           "x": 0.05
          },
          "xaxis": {
           "automargin": true,
           "gridcolor": "white",
           "linecolor": "white",
           "ticks": "",
           "title": {
            "standoff": 15
           },
           "zerolinecolor": "white",
           "zerolinewidth": 2
          },
          "yaxis": {
           "automargin": true,
           "gridcolor": "white",
           "linecolor": "white",
           "ticks": "",
           "title": {
            "standoff": 15
           },
           "zerolinecolor": "white",
           "zerolinewidth": 2
          }
         }
        },
        "title": {
         "text": "Portfólio do Fundo Dynamo"
        },
        "width": 900,
        "xaxis": {
         "anchor": "y",
         "domain": [
          0,
          1
         ]
        },
        "xaxis2": {
         "anchor": "y2",
         "domain": [
          0,
          1
         ]
        },
        "xaxis3": {
         "anchor": "y3",
         "domain": [
          0,
          1
         ]
        },
        "xaxis4": {
         "anchor": "y4",
         "domain": [
          0,
          1
         ]
        },
        "yaxis": {
         "anchor": "x",
         "domain": [
          0.7725,
          1
         ]
        },
        "yaxis2": {
         "anchor": "x2",
         "domain": [
          0.515,
          0.7425
         ]
        },
        "yaxis3": {
         "anchor": "x3",
         "domain": [
          0.2575,
          0.485
         ]
        },
        "yaxis4": {
         "anchor": "x4",
         "domain": [
          0,
          0.2275
         ]
        }
       }
      }
     },
     "metadata": {},
     "output_type": "display_data"
    }
   ],
   "source": [
    "# Plotando o portfólio de cada mês\n",
    "portfolio_dynamo_202301 = portfolio_dynamo.loc['2023-01', ['CD_ATIVO', 'PORCENTAGEM']]\n",
    "portfolio_dynamo_202302 = portfolio_dynamo.loc['2023-02', ['CD_ATIVO', 'PORCENTAGEM']]\n",
    "portfolio_dynamo_202303 = portfolio_dynamo.loc['2023-03', ['CD_ATIVO', 'PORCENTAGEM']]\n",
    "portfolio_dynamo_202304 = portfolio_dynamo.loc['2023-04', ['CD_ATIVO', 'PORCENTAGEM']]\n",
    "#portfolio_dynamo_202305 = portfolio_dynamo.loc['2023-05', ['CD_ATIVO', 'PORCENTAGEM']]  #não tem os dados do fundo neste mês, mas tem no site da CVM e Mais Retorno.\n",
    "\n",
    "fig = make_subplots(rows=4,\n",
    "                    cols=1,\n",
    "                    subplot_titles=(\n",
    "                        'Distribuição Percentual do Portfólio - 01/2023',\n",
    "                        'Distribuição Percentual do Portfólio - 02/2023',\n",
    "                        'Distribuição Percentual do Portfólio - 03/2023',\n",
    "                        'Distribuição Percentual do Portfólio - 04/2023'),\n",
    "                    vertical_spacing=0.03 # Espaço entre os plots\n",
    ")\n",
    "\n",
    "fig.add_trace(go.Bar(\n",
    "    x=portfolio_dynamo_202301['PORCENTAGEM'] * 100,\n",
    "    y=portfolio_dynamo_202301['CD_ATIVO'],\n",
    "    orientation='h',\n",
    "    name='01/2023' \n",
    "), row=1, col=1)\n",
    "\n",
    "fig.add_trace(go.Bar(\n",
    "    x=portfolio_dynamo_202302['PORCENTAGEM'] * 100,\n",
    "    y=portfolio_dynamo_202302['CD_ATIVO'],\n",
    "    orientation='h',\n",
    "    name='02/2023' \n",
    "), row=2, col=1)\n",
    "\n",
    "fig.add_trace(go.Bar(\n",
    "    x=portfolio_dynamo_202303['PORCENTAGEM'] * 100,\n",
    "    y=portfolio_dynamo_202303['CD_ATIVO'],\n",
    "    orientation='h',\n",
    "    name='03/2023' \n",
    "), row=3, col=1)\n",
    "\n",
    "fig.add_trace(go.Bar(\n",
    "    x=portfolio_dynamo_202304['PORCENTAGEM'] * 100,\n",
    "    y=portfolio_dynamo_202304['CD_ATIVO'],\n",
    "    orientation='h',\n",
    "    name='04/2023' \n",
    "), row=4, col=1)\n",
    "\n",
    "# Atualiza o layout do gráfico\n",
    "fig.update_layout(\n",
    "    title='Portfólio do Fundo Dynamo',\n",
    "    height=3000,\n",
    "    width=900\n",
    ")\n",
    "\n",
    "# Exibe o gráfico\n",
    "fig.show()"
   ]
  },
  {
   "cell_type": "markdown",
   "metadata": {},
   "source": [
    "### Fundo IP"
   ]
  },
  {
   "cell_type": "markdown",
   "metadata": {},
   "source": [
    "* https://maisretorno.com/fundo/ip-participacoes-master-fia-bdr-nivel-i/carteira"
   ]
  },
  {
   "cell_type": "code",
   "execution_count": 86,
   "metadata": {},
   "outputs": [],
   "source": [
    "ip_acoes, ip_bdr, ip_exterior, ip_cotas_fundos, ip_titulos_pub, ip_vendido_acoes = fundo_cnpj(cnpj='11.435.298/0001-89')\n",
    "ip_pl = pl_fundo(\n",
    "    path=f'C://Users//vitor//projetos_python//python_b3//historico-arquivos//fundos_investimentos//fundos_cvm//{ano}{mes}//cda_fi_PL_{ano}{mes}.csv', \n",
    "    cnpj='11.435.298/0001-89'\n",
    ")\n",
    "\n",
    "# Quantos porcertos cada categoria representa do PL final\n",
    "pct_acoes = round(pd.Series(ip_acoes['VL_MERC_POS_FINAL'].sum() / ip_pl.values), 4) \n",
    "pct_bdr = round(pd.Series(ip_bdr['VL_MERC_POS_FINAL'].sum() / ip_pl.values), 4) \n",
    "pct_exterior = round(pd.Series(ip_exterior['VL_MERC_POS_FINAL'].sum() / ip_pl.values), 4) \n",
    "pct_cotas_fundos = round(pd.Series(ip_cotas_fundos['VL_MERC_POS_FINAL'].sum() / ip_pl.values), 4) \n",
    "pct_titulos_pub = round(pd.Series(ip_titulos_pub['VL_MERC_POS_FINAL'].sum() / ip_pl.values), 4) \n",
    "pct_vendido_acoes = round(pd.Series(ip_vendido_acoes['VL_MERC_POS_FINAL'].sum() / ip_pl.values), 4) \n",
    "\n",
    "# Criando a data do portfólio\n",
    "data = pd.to_datetime(f'{mes}-{ano}')\n",
    "\n",
    "# Adicionando a informação da porcentagem de cada categoria nos dfs\n",
    "# Ações\n",
    "linha_pct_acoes = {'DENOM_SOCIAL': 'PL% FUNDO', 'VL_MERC_POS_FINAL' : pct_acoes}\n",
    "df_linha_pct_acoes = pd.DataFrame(linha_pct_acoes)\n",
    "ip_acoes = pd.concat([ip_acoes, df_linha_pct_acoes])\n",
    "# Criando a coluna 'data' no df\n",
    "ip_acoes['data'] = data\n",
    "# Definindo a coluna 'data' como o index\n",
    "ip_acoes = ip_acoes.set_index('data')\n",
    "\n",
    "# BDRs\n",
    "linha_pct_bdr = {'DENOM_SOCIAL': 'PL% FUNDO', 'VL_MERC_POS_FINAL' : pct_bdr}\n",
    "df_linha_pct_bdr = pd.DataFrame(linha_pct_bdr)\n",
    "ip_bdr = pd.concat([ip_bdr, df_linha_pct_bdr])\n",
    "# Criando a coluna 'data' no df\n",
    "ip_bdr['data'] = data\n",
    "# Definindo a coluna 'data' como o index\n",
    "ip_bdr = ip_bdr.set_index('data')\n",
    "\n",
    "# Investimentos no Exterior\n",
    "linha_pct_exterior = {'DENOM_SOCIAL': 'PL% FUNDO', 'VL_MERC_POS_FINAL' : pct_exterior}\n",
    "df_linha_pct_exterior = pd.DataFrame(linha_pct_exterior)\n",
    "ip_exterior = pd.concat([ip_exterior, df_linha_pct_exterior])\n",
    "# Criando a coluna 'data' no df\n",
    "ip_exterior['data'] = data\n",
    "# Definindo a coluna 'data' como o index\n",
    "ip_exterior = ip_exterior.set_index('data')\n",
    "\n",
    "# Cotas de Fundos\n",
    "linha_pct_cotas_fundos = {'DENOM_SOCIAL': 'PL% FUNDO', 'VL_MERC_POS_FINAL' : pct_cotas_fundos}\n",
    "df_linha_pct_cotas_fundos = pd.DataFrame(linha_pct_cotas_fundos)\n",
    "ip_cotas_fundos = pd.concat([ip_cotas_fundos, df_linha_pct_cotas_fundos])\n",
    "# Criando a coluna 'data' no df\n",
    "ip_cotas_fundos['data'] = data\n",
    "# Definindo a coluna 'data' como o index\n",
    "ip_cotas_fundos = ip_cotas_fundos.set_index('data')\n",
    "\n",
    "# Títulos Públicos\n",
    "linha_pct_titulos_pub = {'DENOM_SOCIAL': 'PL% FUNDO', 'VL_MERC_POS_FINAL' : pct_titulos_pub}\n",
    "df_linha_pct_titulos_pub = pd.DataFrame(linha_pct_titulos_pub)\n",
    "ip_titulos_pub = pd.concat([ip_titulos_pub, df_linha_pct_titulos_pub])\n",
    "# Criando a coluna 'data' no df\n",
    "ip_titulos_pub['data'] = data\n",
    "# Definindo a coluna 'data' como o index\n",
    "ip_titulos_pub = ip_titulos_pub.set_index('data')\n",
    "\n",
    "# Vendido Ações\n",
    "linha_pct_vendido_acoes = {'DENOM_SOCIAL': 'PL% FUNDO', 'VL_MERC_POS_FINAL' : pct_vendido_acoes}\n",
    "df_linha_pct_vendido_acoes = pd.DataFrame(linha_pct_vendido_acoes)\n",
    "ip_vendido_acoes = pd.concat([ip_vendido_acoes, df_linha_pct_vendido_acoes])\n",
    "# Criando a coluna 'data' no df\n",
    "ip_vendido_acoes['data'] = data\n",
    "# Definindo a coluna 'data' como o index\n",
    "ip_vendido_acoes = ip_vendido_acoes.set_index('data')"
   ]
  },
  {
   "cell_type": "code",
   "execution_count": 87,
   "metadata": {},
   "outputs": [],
   "source": [
    "# Criando o arquivo excel em que cada categoria está em uma aba diferente\n",
    "with pd.ExcelWriter(f'C://Users//vitor//projetos_python//python_b3//composicao-fundos-de-investimentos//arquivos_fundos//ip//fundo_ip_{ano}{mes}.xlsx') as writer:\n",
    "    ip_acoes.to_excel(writer, sheet_name='acoes')\n",
    "    ip_bdr.to_excel(writer, sheet_name='bdr')\n",
    "    ip_exterior.to_excel(writer, sheet_name='exterior')\n",
    "    ip_cotas_fundos.to_excel(writer, sheet_name='cota_fundos')\n",
    "    ip_titulos_pub.to_excel(writer, sheet_name='titulos_publicos')\n",
    "    ip_vendido_acoes.to_excel(writer, sheet_name='vendido_acoes')"
   ]
  },
  {
   "cell_type": "code",
   "execution_count": 78,
   "metadata": {},
   "outputs": [
    {
     "data": {
      "text/plain": [
       "data\n",
       "2023-01-01    {GOGL34, XPBR31, T1DG34, AMZO34, NFLX34, MSFT3...\n",
       "2023-02-01    {GOGL34, XPBR31, T1DG34, AMZO34, NFLX34, BERK3...\n",
       "2023-03-01    {GOGL34, XPBR31, T1DG34, AMZO34, NFLX34, BERK3...\n",
       "2023-04-01    {GOGL34, T1DG34, NFLX34, BERK34, MSFT34, LBRD3...\n",
       "Name: CD_ATIVO, dtype: object"
      ]
     },
     "execution_count": 78,
     "metadata": {},
     "output_type": "execute_result"
    }
   ],
   "source": [
    "# Abrindo os arquivos excel\n",
    "arquivos_excel = [\n",
    "    'fundo_ip_202301.xlsx', \n",
    "    'fundo_ip_202302.xlsx', \n",
    "    'fundo_ip_202303.xlsx', \n",
    "    'fundo_ip_202304.xlsx', \n",
    "    #'fundo_ip_202305.xlsx'  # não tem os dados do fundo neste mês, mas tem no site da CVM e Mais Retorno.\n",
    "]  \n",
    "\n",
    "lst_dfs = []\n",
    "for arquivo in arquivos_excel:\n",
    "    df = pd.read_excel(f'C://Users//vitor//projetos_python//python_b3//composicao-fundos-de-investimentos//arquivos_fundos//ip//{arquivo}', sheet_name='bdr')\n",
    "    lst_dfs.append(df)\n",
    "\n",
    "# Concatendo os dfs de bdrs\n",
    "portfolio_ip = pd.concat(lst_dfs, ignore_index=True)\n",
    "\n",
    "# Retirando as bdrs que não tem nenhum dinheiro alocado e os NAN\n",
    "portfolio_ip = portfolio_ip[portfolio_ip['VL_MERC_POS_FINAL'] != 0]\n",
    "portfolio_ip = portfolio_ip.dropna()\n",
    "\n",
    "# Definindo a coluna 'data' como o index\n",
    "portfolio_ip = portfolio_ip.set_index('data')\n",
    "\n",
    "# Selecionando o conjunto de ações (portfólio) de cada mês\n",
    "portfolio_mensal = portfolio_ip.groupby('data')['CD_ATIVO'].apply(set)\n",
    "portfolio_mensal"
   ]
  },
  {
   "cell_type": "code",
   "execution_count": 79,
   "metadata": {},
   "outputs": [
    {
     "name": "stdout",
     "output_type": "stream",
     "text": [
      "Comparando o portfólio de 01/23 e 02/23:\n",
      "A IP vendeu as ações: set()\n",
      "A IP comprou as ações: set()\n",
      "--------------------------------------------------------------------------------\n",
      "Comparando o portfólio de 02/23 e 03/23:\n",
      "A IP vendeu as ações: set()\n",
      "A IP comprou as ações: {'MSCD34'}\n",
      "--------------------------------------------------------------------------------\n",
      "Comparando o portfólio de 03/23 e 04/23:\n",
      "A IP vendeu as ações: {'AMZO34', 'XPBR31'}\n",
      "A IP comprou as ações: set()\n"
     ]
    }
   ],
   "source": [
    "print('Comparando o portfólio de 01/23 e 02/23:')\n",
    "print(f'A IP vendeu as ações: {set(portfolio_mensal[0]) - set(portfolio_mensal[1])}')\n",
    "print(f'A IP comprou as ações: {set(portfolio_mensal[1]) - set(portfolio_mensal[0])}')\n",
    "\n",
    "print('-'*80)\n",
    "\n",
    "print('Comparando o portfólio de 02/23 e 03/23:')\n",
    "print(f'A IP vendeu as ações: {set(portfolio_mensal[1]) - set(portfolio_mensal[2])}')\n",
    "print(f'A IP comprou as ações: {set(portfolio_mensal[2]) - set(portfolio_mensal[1])}')\n",
    "\n",
    "print('-'*80)\n",
    "\n",
    "print('Comparando o portfólio de 03/23 e 04/23:')\n",
    "print(f'A IP vendeu as ações: {set(portfolio_mensal[2]) - set(portfolio_mensal[3])}')\n",
    "print(f'A IP comprou as ações: {set(portfolio_mensal[3]) - set(portfolio_mensal[2])}')\n"
   ]
  },
  {
   "cell_type": "code",
   "execution_count": 80,
   "metadata": {},
   "outputs": [
    {
     "name": "stdout",
     "output_type": "stream",
     "text": [
      "Número total de ações:\n",
      "            CD_ATIVO\n",
      "data                \n",
      "2023-01-01         8\n",
      "2023-02-01         8\n",
      "2023-03-01         9\n",
      "2023-04-01         7\n",
      "------------------------------------------------------------\n",
      "data\n",
      "2023-01-01    [GOGL34, BERK34, T1DG34, LBRD34, MSFT34]\n",
      "2023-02-01    [BERK34, T1DG34, GOGL34, LBRD34, AMZO34]\n",
      "2023-03-01    [GOGL34, BERK34, LBRD34, MSCD34, MSFT34]\n",
      "2023-04-01    [GOGL34, BERK34, LBRD34, MSCD34, MSFT34]\n",
      "Name: CD_ATIVO, dtype: object\n"
     ]
    }
   ],
   "source": [
    "# Número total de ações de cada mês do portfólio\n",
    "print('Número total de ações:')\n",
    "num_total_acoes = portfolio_ip.groupby('data')['CD_ATIVO'].count()\n",
    "print(pd.DataFrame(num_total_acoes))\n",
    "\n",
    "print('-'*60)\n",
    "# Selecionando os valores únicos (datas) do df\n",
    "lst_data = portfolio_ip.index.unique()\n",
    "\n",
    "# Rank das 5 maiores ações do fundo\n",
    "lst_rank = []\n",
    "for _ in lst_data:\n",
    "    rank = portfolio_ip.loc[_].nlargest(5, 'PORCENTAGEM')[['CD_ATIVO', 'PORCENTAGEM']]\n",
    "    lst_rank.append(rank)\n",
    "\n",
    "# Concatendo os dfs de rank\n",
    "rank_portfolio = pd.concat(lst_rank)\n",
    "rank_portfolio_ip = rank_portfolio.groupby('data')['CD_ATIVO'].apply(list)\n",
    "print(rank_portfolio_ip)"
   ]
  },
  {
   "cell_type": "code",
   "execution_count": 92,
   "metadata": {},
   "outputs": [
    {
     "data": {
      "application/vnd.plotly.v1+json": {
       "config": {
        "plotlyServerURL": "https://plot.ly"
       },
       "data": [
        {
         "name": "01/2023",
         "orientation": "h",
         "type": "bar",
         "x": [
          18.62453386183758,
          15.59485510544532,
          14.42896121799288,
          13.30582363712692,
          13.290287259453121,
          11.27471725716582,
          9.108111994986674,
          4.3727096659916755
         ],
         "xaxis": "x",
         "y": [
          "GOGL34",
          "BERK34",
          "T1DG34",
          "LBRD34",
          "MSFT34",
          "AMZO34",
          "NFLX34",
          "XPBR31"
         ],
         "yaxis": "y"
        },
        {
         "name": "02/2023",
         "orientation": "h",
         "type": "bar",
         "x": [
          18.51041525440137,
          18.12198103085343,
          15.97602209626661,
          15.566024894017842,
          12.03153155211168,
          8.131979553536976,
          7.7056567904373345,
          3.956388828374755
         ],
         "xaxis": "x2",
         "y": [
          "BERK34",
          "T1DG34",
          "GOGL34",
          "LBRD34",
          "AMZO34",
          "MSFT34",
          "NFLX34",
          "XPBR31"
         ],
         "yaxis": "y2"
        },
        {
         "name": "03/2023",
         "orientation": "h",
         "type": "bar",
         "x": [
          22.482318049573973,
          18.39051249330744,
          14.431420464149088,
          13.65851080609017,
          9.144701642647274,
          8.71865704677563,
          6.688804725298711,
          6.232840401885531,
          0.2522343702721809
         ],
         "xaxis": "x3",
         "y": [
          "GOGL34",
          "BERK34",
          "LBRD34",
          "MSCD34",
          "MSFT34",
          "NFLX34",
          "AMZO34",
          "T1DG34",
          "XPBR31"
         ],
         "yaxis": "y3"
        },
        {
         "name": "04/2023",
         "orientation": "h",
         "type": "bar",
         "x": [
          24.0083100444615,
          20.58432304356289,
          15.72516755299374,
          14.99820220358074,
          9.212432834196587,
          8.678506100683721,
          6.793058220520829
         ],
         "xaxis": "x4",
         "y": [
          "GOGL34",
          "BERK34",
          "LBRD34",
          "MSCD34",
          "MSFT34",
          "NFLX34",
          "T1DG34"
         ],
         "yaxis": "y4"
        }
       ],
       "layout": {
        "annotations": [
         {
          "font": {
           "size": 16
          },
          "showarrow": false,
          "text": "Distribuição Percentual do Portfólio - 01/2023",
          "x": 0.5,
          "xanchor": "center",
          "xref": "paper",
          "y": 1,
          "yanchor": "bottom",
          "yref": "paper"
         },
         {
          "font": {
           "size": 16
          },
          "showarrow": false,
          "text": "Distribuição Percentual do Portfólio - 02/2023",
          "x": 0.5,
          "xanchor": "center",
          "xref": "paper",
          "y": 0.7425,
          "yanchor": "bottom",
          "yref": "paper"
         },
         {
          "font": {
           "size": 16
          },
          "showarrow": false,
          "text": "Distribuição Percentual do Portfólio - 03/2023",
          "x": 0.5,
          "xanchor": "center",
          "xref": "paper",
          "y": 0.485,
          "yanchor": "bottom",
          "yref": "paper"
         },
         {
          "font": {
           "size": 16
          },
          "showarrow": false,
          "text": "Distribuição Percentual do Portfólio - 04/2023",
          "x": 0.5,
          "xanchor": "center",
          "xref": "paper",
          "y": 0.2275,
          "yanchor": "bottom",
          "yref": "paper"
         }
        ],
        "height": 2500,
        "template": {
         "data": {
          "bar": [
           {
            "error_x": {
             "color": "#2a3f5f"
            },
            "error_y": {
             "color": "#2a3f5f"
            },
            "marker": {
             "line": {
              "color": "#E5ECF6",
              "width": 0.5
             },
             "pattern": {
              "fillmode": "overlay",
              "size": 10,
              "solidity": 0.2
             }
            },
            "type": "bar"
           }
          ],
          "barpolar": [
           {
            "marker": {
             "line": {
              "color": "#E5ECF6",
              "width": 0.5
             },
             "pattern": {
              "fillmode": "overlay",
              "size": 10,
              "solidity": 0.2
             }
            },
            "type": "barpolar"
           }
          ],
          "carpet": [
           {
            "aaxis": {
             "endlinecolor": "#2a3f5f",
             "gridcolor": "white",
             "linecolor": "white",
             "minorgridcolor": "white",
             "startlinecolor": "#2a3f5f"
            },
            "baxis": {
             "endlinecolor": "#2a3f5f",
             "gridcolor": "white",
             "linecolor": "white",
             "minorgridcolor": "white",
             "startlinecolor": "#2a3f5f"
            },
            "type": "carpet"
           }
          ],
          "choropleth": [
           {
            "colorbar": {
             "outlinewidth": 0,
             "ticks": ""
            },
            "type": "choropleth"
           }
          ],
          "contour": [
           {
            "colorbar": {
             "outlinewidth": 0,
             "ticks": ""
            },
            "colorscale": [
             [
              0,
              "#0d0887"
             ],
             [
              0.1111111111111111,
              "#46039f"
             ],
             [
              0.2222222222222222,
              "#7201a8"
             ],
             [
              0.3333333333333333,
              "#9c179e"
             ],
             [
              0.4444444444444444,
              "#bd3786"
             ],
             [
              0.5555555555555556,
              "#d8576b"
             ],
             [
              0.6666666666666666,
              "#ed7953"
             ],
             [
              0.7777777777777778,
              "#fb9f3a"
             ],
             [
              0.8888888888888888,
              "#fdca26"
             ],
             [
              1,
              "#f0f921"
             ]
            ],
            "type": "contour"
           }
          ],
          "contourcarpet": [
           {
            "colorbar": {
             "outlinewidth": 0,
             "ticks": ""
            },
            "type": "contourcarpet"
           }
          ],
          "heatmap": [
           {
            "colorbar": {
             "outlinewidth": 0,
             "ticks": ""
            },
            "colorscale": [
             [
              0,
              "#0d0887"
             ],
             [
              0.1111111111111111,
              "#46039f"
             ],
             [
              0.2222222222222222,
              "#7201a8"
             ],
             [
              0.3333333333333333,
              "#9c179e"
             ],
             [
              0.4444444444444444,
              "#bd3786"
             ],
             [
              0.5555555555555556,
              "#d8576b"
             ],
             [
              0.6666666666666666,
              "#ed7953"
             ],
             [
              0.7777777777777778,
              "#fb9f3a"
             ],
             [
              0.8888888888888888,
              "#fdca26"
             ],
             [
              1,
              "#f0f921"
             ]
            ],
            "type": "heatmap"
           }
          ],
          "heatmapgl": [
           {
            "colorbar": {
             "outlinewidth": 0,
             "ticks": ""
            },
            "colorscale": [
             [
              0,
              "#0d0887"
             ],
             [
              0.1111111111111111,
              "#46039f"
             ],
             [
              0.2222222222222222,
              "#7201a8"
             ],
             [
              0.3333333333333333,
              "#9c179e"
             ],
             [
              0.4444444444444444,
              "#bd3786"
             ],
             [
              0.5555555555555556,
              "#d8576b"
             ],
             [
              0.6666666666666666,
              "#ed7953"
             ],
             [
              0.7777777777777778,
              "#fb9f3a"
             ],
             [
              0.8888888888888888,
              "#fdca26"
             ],
             [
              1,
              "#f0f921"
             ]
            ],
            "type": "heatmapgl"
           }
          ],
          "histogram": [
           {
            "marker": {
             "pattern": {
              "fillmode": "overlay",
              "size": 10,
              "solidity": 0.2
             }
            },
            "type": "histogram"
           }
          ],
          "histogram2d": [
           {
            "colorbar": {
             "outlinewidth": 0,
             "ticks": ""
            },
            "colorscale": [
             [
              0,
              "#0d0887"
             ],
             [
              0.1111111111111111,
              "#46039f"
             ],
             [
              0.2222222222222222,
              "#7201a8"
             ],
             [
              0.3333333333333333,
              "#9c179e"
             ],
             [
              0.4444444444444444,
              "#bd3786"
             ],
             [
              0.5555555555555556,
              "#d8576b"
             ],
             [
              0.6666666666666666,
              "#ed7953"
             ],
             [
              0.7777777777777778,
              "#fb9f3a"
             ],
             [
              0.8888888888888888,
              "#fdca26"
             ],
             [
              1,
              "#f0f921"
             ]
            ],
            "type": "histogram2d"
           }
          ],
          "histogram2dcontour": [
           {
            "colorbar": {
             "outlinewidth": 0,
             "ticks": ""
            },
            "colorscale": [
             [
              0,
              "#0d0887"
             ],
             [
              0.1111111111111111,
              "#46039f"
             ],
             [
              0.2222222222222222,
              "#7201a8"
             ],
             [
              0.3333333333333333,
              "#9c179e"
             ],
             [
              0.4444444444444444,
              "#bd3786"
             ],
             [
              0.5555555555555556,
              "#d8576b"
             ],
             [
              0.6666666666666666,
              "#ed7953"
             ],
             [
              0.7777777777777778,
              "#fb9f3a"
             ],
             [
              0.8888888888888888,
              "#fdca26"
             ],
             [
              1,
              "#f0f921"
             ]
            ],
            "type": "histogram2dcontour"
           }
          ],
          "mesh3d": [
           {
            "colorbar": {
             "outlinewidth": 0,
             "ticks": ""
            },
            "type": "mesh3d"
           }
          ],
          "parcoords": [
           {
            "line": {
             "colorbar": {
              "outlinewidth": 0,
              "ticks": ""
             }
            },
            "type": "parcoords"
           }
          ],
          "pie": [
           {
            "automargin": true,
            "type": "pie"
           }
          ],
          "scatter": [
           {
            "fillpattern": {
             "fillmode": "overlay",
             "size": 10,
             "solidity": 0.2
            },
            "type": "scatter"
           }
          ],
          "scatter3d": [
           {
            "line": {
             "colorbar": {
              "outlinewidth": 0,
              "ticks": ""
             }
            },
            "marker": {
             "colorbar": {
              "outlinewidth": 0,
              "ticks": ""
             }
            },
            "type": "scatter3d"
           }
          ],
          "scattercarpet": [
           {
            "marker": {
             "colorbar": {
              "outlinewidth": 0,
              "ticks": ""
             }
            },
            "type": "scattercarpet"
           }
          ],
          "scattergeo": [
           {
            "marker": {
             "colorbar": {
              "outlinewidth": 0,
              "ticks": ""
             }
            },
            "type": "scattergeo"
           }
          ],
          "scattergl": [
           {
            "marker": {
             "colorbar": {
              "outlinewidth": 0,
              "ticks": ""
             }
            },
            "type": "scattergl"
           }
          ],
          "scattermapbox": [
           {
            "marker": {
             "colorbar": {
              "outlinewidth": 0,
              "ticks": ""
             }
            },
            "type": "scattermapbox"
           }
          ],
          "scatterpolar": [
           {
            "marker": {
             "colorbar": {
              "outlinewidth": 0,
              "ticks": ""
             }
            },
            "type": "scatterpolar"
           }
          ],
          "scatterpolargl": [
           {
            "marker": {
             "colorbar": {
              "outlinewidth": 0,
              "ticks": ""
             }
            },
            "type": "scatterpolargl"
           }
          ],
          "scatterternary": [
           {
            "marker": {
             "colorbar": {
              "outlinewidth": 0,
              "ticks": ""
             }
            },
            "type": "scatterternary"
           }
          ],
          "surface": [
           {
            "colorbar": {
             "outlinewidth": 0,
             "ticks": ""
            },
            "colorscale": [
             [
              0,
              "#0d0887"
             ],
             [
              0.1111111111111111,
              "#46039f"
             ],
             [
              0.2222222222222222,
              "#7201a8"
             ],
             [
              0.3333333333333333,
              "#9c179e"
             ],
             [
              0.4444444444444444,
              "#bd3786"
             ],
             [
              0.5555555555555556,
              "#d8576b"
             ],
             [
              0.6666666666666666,
              "#ed7953"
             ],
             [
              0.7777777777777778,
              "#fb9f3a"
             ],
             [
              0.8888888888888888,
              "#fdca26"
             ],
             [
              1,
              "#f0f921"
             ]
            ],
            "type": "surface"
           }
          ],
          "table": [
           {
            "cells": {
             "fill": {
              "color": "#EBF0F8"
             },
             "line": {
              "color": "white"
             }
            },
            "header": {
             "fill": {
              "color": "#C8D4E3"
             },
             "line": {
              "color": "white"
             }
            },
            "type": "table"
           }
          ]
         },
         "layout": {
          "annotationdefaults": {
           "arrowcolor": "#2a3f5f",
           "arrowhead": 0,
           "arrowwidth": 1
          },
          "autotypenumbers": "strict",
          "coloraxis": {
           "colorbar": {
            "outlinewidth": 0,
            "ticks": ""
           }
          },
          "colorscale": {
           "diverging": [
            [
             0,
             "#8e0152"
            ],
            [
             0.1,
             "#c51b7d"
            ],
            [
             0.2,
             "#de77ae"
            ],
            [
             0.3,
             "#f1b6da"
            ],
            [
             0.4,
             "#fde0ef"
            ],
            [
             0.5,
             "#f7f7f7"
            ],
            [
             0.6,
             "#e6f5d0"
            ],
            [
             0.7,
             "#b8e186"
            ],
            [
             0.8,
             "#7fbc41"
            ],
            [
             0.9,
             "#4d9221"
            ],
            [
             1,
             "#276419"
            ]
           ],
           "sequential": [
            [
             0,
             "#0d0887"
            ],
            [
             0.1111111111111111,
             "#46039f"
            ],
            [
             0.2222222222222222,
             "#7201a8"
            ],
            [
             0.3333333333333333,
             "#9c179e"
            ],
            [
             0.4444444444444444,
             "#bd3786"
            ],
            [
             0.5555555555555556,
             "#d8576b"
            ],
            [
             0.6666666666666666,
             "#ed7953"
            ],
            [
             0.7777777777777778,
             "#fb9f3a"
            ],
            [
             0.8888888888888888,
             "#fdca26"
            ],
            [
             1,
             "#f0f921"
            ]
           ],
           "sequentialminus": [
            [
             0,
             "#0d0887"
            ],
            [
             0.1111111111111111,
             "#46039f"
            ],
            [
             0.2222222222222222,
             "#7201a8"
            ],
            [
             0.3333333333333333,
             "#9c179e"
            ],
            [
             0.4444444444444444,
             "#bd3786"
            ],
            [
             0.5555555555555556,
             "#d8576b"
            ],
            [
             0.6666666666666666,
             "#ed7953"
            ],
            [
             0.7777777777777778,
             "#fb9f3a"
            ],
            [
             0.8888888888888888,
             "#fdca26"
            ],
            [
             1,
             "#f0f921"
            ]
           ]
          },
          "colorway": [
           "#636efa",
           "#EF553B",
           "#00cc96",
           "#ab63fa",
           "#FFA15A",
           "#19d3f3",
           "#FF6692",
           "#B6E880",
           "#FF97FF",
           "#FECB52"
          ],
          "font": {
           "color": "#2a3f5f"
          },
          "geo": {
           "bgcolor": "white",
           "lakecolor": "white",
           "landcolor": "#E5ECF6",
           "showlakes": true,
           "showland": true,
           "subunitcolor": "white"
          },
          "hoverlabel": {
           "align": "left"
          },
          "hovermode": "closest",
          "mapbox": {
           "style": "light"
          },
          "paper_bgcolor": "white",
          "plot_bgcolor": "#E5ECF6",
          "polar": {
           "angularaxis": {
            "gridcolor": "white",
            "linecolor": "white",
            "ticks": ""
           },
           "bgcolor": "#E5ECF6",
           "radialaxis": {
            "gridcolor": "white",
            "linecolor": "white",
            "ticks": ""
           }
          },
          "scene": {
           "xaxis": {
            "backgroundcolor": "#E5ECF6",
            "gridcolor": "white",
            "gridwidth": 2,
            "linecolor": "white",
            "showbackground": true,
            "ticks": "",
            "zerolinecolor": "white"
           },
           "yaxis": {
            "backgroundcolor": "#E5ECF6",
            "gridcolor": "white",
            "gridwidth": 2,
            "linecolor": "white",
            "showbackground": true,
            "ticks": "",
            "zerolinecolor": "white"
           },
           "zaxis": {
            "backgroundcolor": "#E5ECF6",
            "gridcolor": "white",
            "gridwidth": 2,
            "linecolor": "white",
            "showbackground": true,
            "ticks": "",
            "zerolinecolor": "white"
           }
          },
          "shapedefaults": {
           "line": {
            "color": "#2a3f5f"
           }
          },
          "ternary": {
           "aaxis": {
            "gridcolor": "white",
            "linecolor": "white",
            "ticks": ""
           },
           "baxis": {
            "gridcolor": "white",
            "linecolor": "white",
            "ticks": ""
           },
           "bgcolor": "#E5ECF6",
           "caxis": {
            "gridcolor": "white",
            "linecolor": "white",
            "ticks": ""
           }
          },
          "title": {
           "x": 0.05
          },
          "xaxis": {
           "automargin": true,
           "gridcolor": "white",
           "linecolor": "white",
           "ticks": "",
           "title": {
            "standoff": 15
           },
           "zerolinecolor": "white",
           "zerolinewidth": 2
          },
          "yaxis": {
           "automargin": true,
           "gridcolor": "white",
           "linecolor": "white",
           "ticks": "",
           "title": {
            "standoff": 15
           },
           "zerolinecolor": "white",
           "zerolinewidth": 2
          }
         }
        },
        "title": {
         "text": "Portfólio do Fundo IP"
        },
        "width": 900,
        "xaxis": {
         "anchor": "y",
         "domain": [
          0,
          1
         ]
        },
        "xaxis2": {
         "anchor": "y2",
         "domain": [
          0,
          1
         ]
        },
        "xaxis3": {
         "anchor": "y3",
         "domain": [
          0,
          1
         ]
        },
        "xaxis4": {
         "anchor": "y4",
         "domain": [
          0,
          1
         ]
        },
        "yaxis": {
         "anchor": "x",
         "domain": [
          0.7725,
          1
         ]
        },
        "yaxis2": {
         "anchor": "x2",
         "domain": [
          0.515,
          0.7425
         ]
        },
        "yaxis3": {
         "anchor": "x3",
         "domain": [
          0.2575,
          0.485
         ]
        },
        "yaxis4": {
         "anchor": "x4",
         "domain": [
          0,
          0.2275
         ]
        }
       }
      }
     },
     "metadata": {},
     "output_type": "display_data"
    }
   ],
   "source": [
    "# Plotando o portfólio de cada mês\n",
    "portfolio_ip_202301 = portfolio_ip.loc['2023-01', ['CD_ATIVO', 'PORCENTAGEM']]\n",
    "portfolio_ip_202302 = portfolio_ip.loc['2023-02', ['CD_ATIVO', 'PORCENTAGEM']]\n",
    "portfolio_ip_202303 = portfolio_ip.loc['2023-03', ['CD_ATIVO', 'PORCENTAGEM']]\n",
    "portfolio_ip_202304 = portfolio_ip.loc['2023-04', ['CD_ATIVO', 'PORCENTAGEM']]\n",
    "#portfolio_ip_202305 = portfolio_ip.loc['2023-05', ['CD_ATIVO', 'PORCENTAGEM']]  #não tem os dados do fundo neste mês, mas tem no site da CVM e Mais Retorno.\n",
    "\n",
    "fig = make_subplots(rows=4,\n",
    "                    cols=1,\n",
    "                    subplot_titles=(\n",
    "                        'Distribuição Percentual do Portfólio - 01/2023',\n",
    "                        'Distribuição Percentual do Portfólio - 02/2023',\n",
    "                        'Distribuição Percentual do Portfólio - 03/2023',\n",
    "                        'Distribuição Percentual do Portfólio - 04/2023'),\n",
    "                    vertical_spacing=0.03 # Espaço entre os plots\n",
    ")\n",
    "\n",
    "fig.add_trace(go.Bar(\n",
    "    x=portfolio_ip_202301['PORCENTAGEM'] * 100,\n",
    "    y=portfolio_ip_202301['CD_ATIVO'],\n",
    "    orientation='h',\n",
    "    name='01/2023' \n",
    "), row=1, col=1)\n",
    "\n",
    "fig.add_trace(go.Bar(\n",
    "    x=portfolio_ip_202302['PORCENTAGEM'] * 100,\n",
    "    y=portfolio_ip_202302['CD_ATIVO'],\n",
    "    orientation='h',\n",
    "    name='02/2023' \n",
    "), row=2, col=1)\n",
    "\n",
    "fig.add_trace(go.Bar(\n",
    "    x=portfolio_ip_202303['PORCENTAGEM'] * 100,\n",
    "    y=portfolio_ip_202303['CD_ATIVO'],\n",
    "    orientation='h',\n",
    "    name='03/2023' \n",
    "), row=3, col=1)\n",
    "\n",
    "fig.add_trace(go.Bar(\n",
    "    x=portfolio_ip_202304['PORCENTAGEM'] * 100,\n",
    "    y=portfolio_ip_202304['CD_ATIVO'],\n",
    "    orientation='h',\n",
    "    name='04/2023' \n",
    "), row=4, col=1)\n",
    "\n",
    "# Atualiza o layout do gráfico\n",
    "fig.update_layout(\n",
    "    title='Portfólio do Fundo IP',\n",
    "    height=2500,\n",
    "    width=900\n",
    ")\n",
    "\n",
    "# Exibe o gráfico\n",
    "fig.show()"
   ]
  },
  {
   "cell_type": "markdown",
   "metadata": {},
   "source": [
    "### Fundo Squadra"
   ]
  },
  {
   "cell_type": "markdown",
   "metadata": {},
   "source": [
    "* https://maisretorno.com/fundo/squadra-master-long-biased-fia\n",
    "* Famosos pelos shorts de:\n",
    "    * IRBR - 05/2018\n",
    "    * AERI3 - 01/2021\n",
    "    * Nubank"
   ]
  },
  {
   "cell_type": "code",
   "execution_count": 88,
   "metadata": {},
   "outputs": [],
   "source": [
    "squadra_acoes, squadra_bdr, squadra_exterior, squadra_cotas_fundos, squadra_titulos_pub, squadra_vendido_acoes = fundo_cnpj(cnpj='09.412.648/0001-40')\n",
    "squadra_pl = pl_fundo(\n",
    "    path=f'C://Users//vitor//projetos_python//python_b3//historico-arquivos//fundos_investimentos//fundos_cvm//{ano}{mes}//cda_fi_PL_{ano}{mes}.csv', \n",
    "    cnpj='09.412.648/0001-40'\n",
    ")\n",
    "\n",
    "# Quantos porcertos cada categoria representa do PL final\n",
    "pct_acoes = round(pd.Series(squadra_acoes['VL_MERC_POS_FINAL'].sum() / squadra_pl.values), 4) \n",
    "pct_bdr = round(pd.Series(squadra_bdr['VL_MERC_POS_FINAL'].sum() / squadra_pl.values), 4) \n",
    "pct_exterior = round(pd.Series(squadra_exterior['VL_MERC_POS_FINAL'].sum() / squadra_pl.values), 4) \n",
    "pct_cotas_fundos = round(pd.Series(squadra_cotas_fundos['VL_MERC_POS_FINAL'].sum() / squadra_pl.values), 4) \n",
    "pct_titulos_pub = round(pd.Series(squadra_titulos_pub['VL_MERC_POS_FINAL'].sum() / squadra_pl.values), 4) \n",
    "pct_vendido_acoes = round(pd.Series(squadra_vendido_acoes['VL_MERC_POS_FINAL'].sum() / squadra_pl.values), 4) \n",
    "\n",
    "# Criando a data do portfólio\n",
    "data = pd.to_datetime(f'{mes}-{ano}')\n",
    "\n",
    "# Adicionando a informação da porcentagem de cada categoria nos dfs\n",
    "# Ações\n",
    "linha_pct_acoes = {'DENOM_SOCIAL': 'PL% FUNDO', 'VL_MERC_POS_FINAL' : pct_acoes}\n",
    "df_linha_pct_acoes = pd.DataFrame(linha_pct_acoes)\n",
    "squadra_acoes = pd.concat([squadra_acoes, df_linha_pct_acoes], ignore_index=True)\n",
    "# Criando a coluna 'data' no df\n",
    "squadra_acoes['data'] = data\n",
    "# Definindo a coluna 'data' como o index\n",
    "squadra_acoes = squadra_acoes.set_index('data')\n",
    "\n",
    "# BDRs\n",
    "linha_pct_bdr = {'DENOM_SOCIAL': 'PL% FUNDO', 'VL_MERC_POS_FINAL' : pct_bdr}\n",
    "df_linha_pct_bdr = pd.DataFrame(linha_pct_bdr)\n",
    "squadra_bdr = pd.concat([squadra_bdr, df_linha_pct_bdr], ignore_index=True)\n",
    "# Criando a coluna 'data' no df\n",
    "squadra_bdr['data'] = data\n",
    "# Definindo a coluna 'data' como o index\n",
    "squadra_bdr = squadra_bdr.set_index('data')\n",
    "\n",
    "# Investimentos no Exterior\n",
    "linha_pct_exterior = {'DENOM_SOCIAL': 'PL% FUNDO', 'VL_MERC_POS_FINAL' : pct_exterior}\n",
    "df_linha_pct_exterior = pd.DataFrame(linha_pct_exterior)\n",
    "squadra_exterior = pd.concat([squadra_exterior, df_linha_pct_exterior], ignore_index=True)\n",
    "# Criando a coluna 'data' no df\n",
    "squadra_exterior['data'] = data\n",
    "# Definindo a coluna 'data' como o index\n",
    "squadra_exterior = squadra_exterior.set_index('data')\n",
    "\n",
    "# Cotas de Fundos\n",
    "linha_pct_cotas_fundos = {'DENOM_SOCIAL': 'PL% FUNDO', 'VL_MERC_POS_FINAL' : pct_cotas_fundos}\n",
    "df_linha_pct_cotas_fundos = pd.DataFrame(linha_pct_cotas_fundos)\n",
    "squadra_cotas_fundos = pd.concat([squadra_cotas_fundos, df_linha_pct_cotas_fundos], ignore_index=True)\n",
    "# Criando a coluna 'data' no df\n",
    "squadra_cotas_fundos['data'] = data\n",
    "# Definindo a coluna 'data' como o index\n",
    "squadra_cotas_fundos = squadra_cotas_fundos.set_index('data')\n",
    "\n",
    "# Títulos Públicos\n",
    "linha_pct_titulos_pub = {'DENOM_SOCIAL': 'PL% FUNDO', 'VL_MERC_POS_FINAL' : pct_titulos_pub}\n",
    "df_linha_pct_titulos_pub = pd.DataFrame(linha_pct_titulos_pub)\n",
    "squadra_titulos_pub = pd.concat([squadra_titulos_pub, df_linha_pct_titulos_pub], ignore_index=True)\n",
    "# Criando a coluna 'data' no df\n",
    "squadra_titulos_pub['data'] = data\n",
    "# Definindo a coluna 'data' como o index\n",
    "squadra_titulos_pub = squadra_titulos_pub.set_index('data')\n",
    "\n",
    "# Vendido Ações\n",
    "linha_pct_vendido_acoes = {'DENOM_SOCIAL': 'PL% FUNDO', 'VL_MERC_POS_FINAL' : pct_vendido_acoes}\n",
    "df_linha_pct_vendido_acoes = pd.DataFrame(linha_pct_vendido_acoes)\n",
    "squadra_vendido_acoes = pd.concat([squadra_vendido_acoes, df_linha_pct_vendido_acoes], ignore_index=True)\n",
    "# Criando a coluna 'data' no df\n",
    "squadra_vendido_acoes['data'] = data\n",
    "# Definindo a coluna 'data' como o index\n",
    "squadra_vendido_acoes = squadra_vendido_acoes.set_index('data')"
   ]
  },
  {
   "cell_type": "code",
   "execution_count": 89,
   "metadata": {},
   "outputs": [],
   "source": [
    "# Criando o arquivo excel em que cada categoria está em uma aba diferente\n",
    "with pd.ExcelWriter(f'C://Users//vitor//projetos_python//python_b3//composicao-fundos-de-investimentos//arquivos_fundos//squadra//fundo_squadra_{ano}{mes}.xlsx') as writer:\n",
    "    squadra_acoes.to_excel(writer, sheet_name='acoes')\n",
    "    squadra_bdr.to_excel(writer, sheet_name='bdr')\n",
    "    squadra_exterior.to_excel(writer, sheet_name='exterior')\n",
    "    squadra_cotas_fundos.to_excel(writer, sheet_name='cota_fundos')\n",
    "    squadra_titulos_pub.to_excel(writer, sheet_name='titulos_publicos')\n",
    "    squadra_vendido_acoes.to_excel(writer, sheet_name='vendido_acoes')"
   ]
  },
  {
   "cell_type": "code",
   "execution_count": 85,
   "metadata": {},
   "outputs": [
    {
     "data": {
      "text/plain": [
       "data\n",
       "2023-01-01    {HAPV3, RAIL3, LWSA3, CRDE3, B3SA3, MULT3, ABE...\n",
       "2023-02-01    {HAPV3, RAIL3, PETZ3, LWSA3, INTB3, MGLU3, CRD...\n",
       "2023-03-01    {HAPV3, WEGE3, RAIL3, LWSA3, INTB3, MGLU3, CRD...\n",
       "2023-04-01    {HAPV3, WEGE3, RAIL3, CXSE3, PETZ3, INTB3, MGL...\n",
       "2023-05-01    {HAPV3, WEGE3, RAIL3, PETZ3, INTB3, MGLU3, RDO...\n",
       "Name: CD_ATIVO, dtype: object"
      ]
     },
     "execution_count": 85,
     "metadata": {},
     "output_type": "execute_result"
    }
   ],
   "source": [
    "# Abrindo os arquivos excel\n",
    "arquivos_excel = [\n",
    "    'fundo_squadra_202301.xlsx', \n",
    "    'fundo_squadra_202302.xlsx', \n",
    "    'fundo_squadra_202303.xlsx', \n",
    "    'fundo_squadra_202304.xlsx', \n",
    "    'fundo_squadra_202305.xlsx'\n",
    "]  \n",
    "\n",
    "lst_dfs = []\n",
    "for arquivo in arquivos_excel:\n",
    "    df = pd.read_excel(f'C://Users//vitor//projetos_python//python_b3//composicao-fundos-de-investimentos//arquivos_fundos//squadra//{arquivo}', sheet_name='acoes')\n",
    "    lst_dfs.append(df)\n",
    "\n",
    "# Concatendo os dfs de ações\n",
    "portfolio_squadra = pd.concat(lst_dfs, ignore_index=True)\n",
    "\n",
    "# Retirando as ações que não tem nenhum dinheiro alocado e os NAN\n",
    "portfolio_squadra = portfolio_squadra[portfolio_squadra['VL_MERC_POS_FINAL'] != 0]\n",
    "portfolio_squadra = portfolio_squadra.dropna()\n",
    "\n",
    "# Definindo a coluna 'data' como o index\n",
    "portfolio_squadra = portfolio_squadra.set_index('data')\n",
    "\n",
    "# Selecionando o conjunto de ações (portfólio) de cada mês\n",
    "portfolio_mensal = portfolio_squadra.groupby('data')['CD_ATIVO'].apply(set)\n",
    "portfolio_mensal"
   ]
  },
  {
   "cell_type": "code",
   "execution_count": 86,
   "metadata": {},
   "outputs": [
    {
     "name": "stdout",
     "output_type": "stream",
     "text": [
      "Comparando o portfólio de 01/23 e 02/23:\n",
      "A Squadra vendeu as ações: set()\n",
      "A Squadra comprou as ações: {'MGLU3', 'VIIA3', 'INTB3', 'PETZ3'}\n",
      "--------------------------------------------------------------------------------\n",
      "Comparando o portfólio de 02/23 e 03/23:\n",
      "A Squadra vendeu as ações: {'ENEV3', 'B3SA3', 'PETZ3'}\n",
      "A Squadra comprou as ações: {'WEGE3'}\n",
      "--------------------------------------------------------------------------------\n",
      "Comparando o portfólio de 03/23 e 04/23:\n",
      "A Squadra vendeu as ações: {'LWSA3'}\n",
      "A Squadra comprou as ações: {'CXSE3', 'PETZ3'}\n",
      "--------------------------------------------------------------------------------\n",
      "Comparando o portfólio de 04/23 e 05/23:\n",
      "A Squadra vendeu as ações: {'ITUB4', 'CXSE3', 'MULT3', 'CRFB3'}\n",
      "A Squadra comprou as ações: {'RDOR3'}\n"
     ]
    }
   ],
   "source": [
    "print('Comparando o portfólio de 01/23 e 02/23:')\n",
    "print(f'A Squadra vendeu as ações: {set(portfolio_mensal[0]) - set(portfolio_mensal[1])}')\n",
    "print(f'A Squadra comprou as ações: {set(portfolio_mensal[1]) - set(portfolio_mensal[0])}')\n",
    "\n",
    "print('-'*80)\n",
    "\n",
    "print('Comparando o portfólio de 02/23 e 03/23:')\n",
    "print(f'A Squadra vendeu as ações: {set(portfolio_mensal[1]) - set(portfolio_mensal[2])}')\n",
    "print(f'A Squadra comprou as ações: {set(portfolio_mensal[2]) - set(portfolio_mensal[1])}')\n",
    "\n",
    "print('-'*80)\n",
    "\n",
    "print('Comparando o portfólio de 03/23 e 04/23:')\n",
    "print(f'A Squadra vendeu as ações: {set(portfolio_mensal[2]) - set(portfolio_mensal[3])}')\n",
    "print(f'A Squadra comprou as ações: {set(portfolio_mensal[3]) - set(portfolio_mensal[2])}')\n",
    "\n",
    "print('-'*80)\n",
    "\n",
    "print('Comparando o portfólio de 04/23 e 05/23:')\n",
    "print(f'A Squadra vendeu as ações: {set(portfolio_mensal[3]) - set(portfolio_mensal[4])}')\n",
    "print(f'A Squadra comprou as ações: {set(portfolio_mensal[4]) - set(portfolio_mensal[3])}')"
   ]
  },
  {
   "cell_type": "code",
   "execution_count": 87,
   "metadata": {},
   "outputs": [
    {
     "name": "stdout",
     "output_type": "stream",
     "text": [
      "Número total de ações:\n",
      "            CD_ATIVO\n",
      "data                \n",
      "2023-01-01        21\n",
      "2023-02-01        25\n",
      "2023-03-01        23\n",
      "2023-04-01        24\n",
      "2023-05-01        21\n",
      "------------------------------------------------------------\n",
      "data\n",
      "2023-01-01    [EQTL3, PRIO3, RAIL3, GMAT3, GGPS3]\n",
      "2023-02-01    [EQTL3, RAIL3, PRIO3, GMAT3, GGPS3]\n",
      "2023-03-01    [EQTL3, RAIL3, PRIO3, GMAT3, GGPS3]\n",
      "2023-04-01    [EQTL3, RAIL3, PRIO3, GMAT3, GGPS3]\n",
      "2023-05-01    [EQTL3, RAIL3, GMAT3, PRIO3, GGPS3]\n",
      "Name: CD_ATIVO, dtype: object\n"
     ]
    }
   ],
   "source": [
    "# Número total de ações de cada mês do portfpolio\n",
    "print('Número total de ações:')\n",
    "num_total_acoes = portfolio_squadra.groupby('data')['CD_ATIVO'].count()\n",
    "print(pd.DataFrame(num_total_acoes))\n",
    "\n",
    "print('-'*60)\n",
    "# Selecionando os valores únicos (datas) do df\n",
    "lst_data = portfolio_squadra.index.unique()\n",
    "\n",
    "# Rank das 5 maiores ações do fundo\n",
    "lst_rank = []\n",
    "for _ in lst_data:\n",
    "    rank = portfolio_squadra.loc[_].nlargest(5, 'PORCENTAGEM')[['CD_ATIVO', 'PORCENTAGEM']]\n",
    "    lst_rank.append(rank)\n",
    "\n",
    "# Concatendo os dfs de rank \n",
    "rank_portfolio = pd.concat(lst_rank)\n",
    "rank_portfolio_squadra = rank_portfolio.groupby('data')['CD_ATIVO'].apply(list)\n",
    "print(rank_portfolio_squadra)"
   ]
  },
  {
   "cell_type": "code",
   "execution_count": 90,
   "metadata": {},
   "outputs": [
    {
     "data": {
      "application/vnd.plotly.v1+json": {
       "config": {
        "plotlyServerURL": "https://plot.ly"
       },
       "data": [
        {
         "name": "01/2023",
         "orientation": "h",
         "type": "bar",
         "x": [
          24.756351754273208,
          10.11559134466126,
          9.825209569376312,
          8.629957128243241,
          7.809600304890281,
          6.790156739640765,
          5.52223206184278,
          5.1102220413407515,
          3.5948868691711695,
          3.4277898518749,
          2.839197117593734,
          2.158686278001018,
          2.095430955481048,
          1.992677774242625,
          1.78517220798326,
          1.5566485785412139,
          1.2097544665001858,
          0.3367316681206474,
          0.32275604643605793,
          0.09381671407275809,
          0.02713052771279252
         ],
         "xaxis": "x",
         "y": [
          "EQTL3",
          "PRIO3",
          "RAIL3",
          "GMAT3",
          "GGPS3",
          "AURE3",
          "ALSO3",
          "RENT3",
          "HAPV3",
          "VBBR3",
          "ITUB4",
          "MULT3",
          "ABEV3",
          "B3SA3",
          "MATD3",
          "UGPA3",
          "EQPA3",
          "ENEV3",
          "CRFB3",
          "CRDE3",
          "LWSA3"
         ],
         "yaxis": "y"
        },
        {
         "name": "02/2023",
         "orientation": "h",
         "type": "bar",
         "x": [
          22.66194350381102,
          12.6040397794226,
          9.246258637064539,
          7.827884263664468,
          7.810106639197602,
          6.595956146198323,
          6.382551814362805,
          5.6741842501580475,
          4.088277710665061,
          3.633447235741807,
          2.202931886550992,
          1.890652744952699,
          1.824235158565743,
          1.681364589154762,
          1.447866376466497,
          1.236663034312552,
          1.203895521323209,
          0.8413944998588101,
          0.40439838902338693,
          0.2086361110496161,
          0.1935615127269356,
          0.1472128394006464,
          0.10164706543560849,
          0.08012654742128832,
          0.010763743470977041
         ],
         "xaxis": "x2",
         "y": [
          "EQTL3",
          "RAIL3",
          "PRIO3",
          "GMAT3",
          "GGPS3",
          "AURE3",
          "RENT3",
          "ALSO3",
          "HAPV3",
          "VBBR3",
          "MGLU3",
          "B3SA3",
          "MATD3",
          "UGPA3",
          "ABEV3",
          "ITUB4",
          "EQPA3",
          "MULT3",
          "VIIA3",
          "INTB3",
          "CRFB3",
          "PETZ3",
          "CRDE3",
          "LWSA3",
          "ENEV3"
         ],
         "yaxis": "y2"
        },
        {
         "name": "03/2023",
         "orientation": "h",
         "type": "bar",
         "x": [
          23.561173523880722,
          12.629947443386719,
          11.17698342774692,
          10.084511062566,
          8.35156805927245,
          7.2907759553681215,
          6.164763393190398,
          4.529260616519891,
          4.29782551938965,
          2.524253722541832,
          1.9778736974135531,
          1.718172233646341,
          1.190706984842292,
          1.054749573591807,
          0.9279791838364516,
          0.858843861794412,
          0.4863727006687456,
          0.3890624116607525,
          0.3515489951376588,
          0.218379962502011,
          0.09639039568974794,
          0.093569771017189,
          0.02528750433634744
         ],
         "xaxis": "x3",
         "y": [
          "EQTL3",
          "RAIL3",
          "PRIO3",
          "GMAT3",
          "GGPS3",
          "AURE3",
          "ALSO3",
          "RENT3",
          "VBBR3",
          "HAPV3",
          "MGLU3",
          "MATD3",
          "EQPA3",
          "INTB3",
          "WEGE3",
          "ABEV3",
          "ITUB4",
          "VIIA3",
          "UGPA3",
          "MULT3",
          "LWSA3",
          "CRDE3",
          "CRFB3"
         ],
         "yaxis": "y3"
        },
        {
         "name": "04/2023",
         "orientation": "h",
         "type": "bar",
         "x": [
          23.02005820257219,
          10.81300505571043,
          10.25821662443977,
          9.7362024630324,
          8.669028451813377,
          7.878581323710268,
          6.520076694124651,
          4.767888699157592,
          4.750558501867204,
          1.8363229773385292,
          1.830277172249015,
          1.8132455812482708,
          1.504374499984228,
          1.251643210293162,
          0.9740578162192272,
          0.9398817666694986,
          0.8913398222546278,
          0.8475611952417023,
          0.42836784996971805,
          0.4073842701617289,
          0.3947790415295898,
          0.212172970152025,
          0.1684353309771297,
          0.086540479283652
         ],
         "xaxis": "x4",
         "y": [
          "EQTL3",
          "RAIL3",
          "PRIO3",
          "GMAT3",
          "GGPS3",
          "AURE3",
          "ALSO3",
          "VBBR3",
          "RENT3",
          "MATD3",
          "UGPA3",
          "HAPV3",
          "MGLU3",
          "EQPA3",
          "ITUB4",
          "WEGE3",
          "MULT3",
          "ABEV3",
          "PETZ3",
          "INTB3",
          "VIIA3",
          "CXSE3",
          "CRFB3",
          "CRDE3"
         ],
         "yaxis": "y4"
        },
        {
         "name": "05/2023",
         "orientation": "h",
         "type": "bar",
         "x": [
          21.532021814626702,
          11.13222580962205,
          10.79849300032015,
          9.45102260459143,
          8.870656464302062,
          6.879172094057067,
          6.694549515621794,
          6.148675878868719,
          3.609988883442051,
          3.558088933495037,
          3.233412925103648,
          1.771053892303455,
          1.685255105773805,
          1.298365502646166,
          1.086828199722384,
          0.7636822428832182,
          0.6623272144250789,
          0.353818423887801,
          0.3468410258475731,
          0.07557506299178819,
          0.0479454054680071
         ],
         "xaxis": "x5",
         "y": [
          "EQTL3",
          "RAIL3",
          "GMAT3",
          "PRIO3",
          "GGPS3",
          "ALSO3",
          "VBBR3",
          "AURE3",
          "RENT3",
          "UGPA3",
          "MGLU3",
          "MATD3",
          "HAPV3",
          "WEGE3",
          "EQPA3",
          "ABEV3",
          "VIIA3",
          "INTB3",
          "PETZ3",
          "CRDE3",
          "RDOR3"
         ],
         "yaxis": "y5"
        }
       ],
       "layout": {
        "annotations": [
         {
          "font": {
           "size": 16
          },
          "showarrow": false,
          "text": "Distribuição Percentual do Portfólio - 01/2023",
          "x": 0.5,
          "xanchor": "center",
          "xref": "paper",
          "y": 1,
          "yanchor": "bottom",
          "yref": "paper"
         },
         {
          "font": {
           "size": 16
          },
          "showarrow": false,
          "text": "Distribuição Percentual do Portfólio - 02/2023",
          "x": 0.5,
          "xanchor": "center",
          "xref": "paper",
          "y": 0.794,
          "yanchor": "bottom",
          "yref": "paper"
         },
         {
          "font": {
           "size": 16
          },
          "showarrow": false,
          "text": "Distribuição Percentual do Portfólio - 03/2023",
          "x": 0.5,
          "xanchor": "center",
          "xref": "paper",
          "y": 0.588,
          "yanchor": "bottom",
          "yref": "paper"
         },
         {
          "font": {
           "size": 16
          },
          "showarrow": false,
          "text": "Distribuição Percentual do Portfólio - 04/2023",
          "x": 0.5,
          "xanchor": "center",
          "xref": "paper",
          "y": 0.382,
          "yanchor": "bottom",
          "yref": "paper"
         },
         {
          "font": {
           "size": 16
          },
          "showarrow": false,
          "text": "Distribuição Percentual do Portfólio - 05/2023",
          "x": 0.5,
          "xanchor": "center",
          "xref": "paper",
          "y": 0.176,
          "yanchor": "bottom",
          "yref": "paper"
         }
        ],
        "height": 2500,
        "template": {
         "data": {
          "bar": [
           {
            "error_x": {
             "color": "#2a3f5f"
            },
            "error_y": {
             "color": "#2a3f5f"
            },
            "marker": {
             "line": {
              "color": "#E5ECF6",
              "width": 0.5
             },
             "pattern": {
              "fillmode": "overlay",
              "size": 10,
              "solidity": 0.2
             }
            },
            "type": "bar"
           }
          ],
          "barpolar": [
           {
            "marker": {
             "line": {
              "color": "#E5ECF6",
              "width": 0.5
             },
             "pattern": {
              "fillmode": "overlay",
              "size": 10,
              "solidity": 0.2
             }
            },
            "type": "barpolar"
           }
          ],
          "carpet": [
           {
            "aaxis": {
             "endlinecolor": "#2a3f5f",
             "gridcolor": "white",
             "linecolor": "white",
             "minorgridcolor": "white",
             "startlinecolor": "#2a3f5f"
            },
            "baxis": {
             "endlinecolor": "#2a3f5f",
             "gridcolor": "white",
             "linecolor": "white",
             "minorgridcolor": "white",
             "startlinecolor": "#2a3f5f"
            },
            "type": "carpet"
           }
          ],
          "choropleth": [
           {
            "colorbar": {
             "outlinewidth": 0,
             "ticks": ""
            },
            "type": "choropleth"
           }
          ],
          "contour": [
           {
            "colorbar": {
             "outlinewidth": 0,
             "ticks": ""
            },
            "colorscale": [
             [
              0,
              "#0d0887"
             ],
             [
              0.1111111111111111,
              "#46039f"
             ],
             [
              0.2222222222222222,
              "#7201a8"
             ],
             [
              0.3333333333333333,
              "#9c179e"
             ],
             [
              0.4444444444444444,
              "#bd3786"
             ],
             [
              0.5555555555555556,
              "#d8576b"
             ],
             [
              0.6666666666666666,
              "#ed7953"
             ],
             [
              0.7777777777777778,
              "#fb9f3a"
             ],
             [
              0.8888888888888888,
              "#fdca26"
             ],
             [
              1,
              "#f0f921"
             ]
            ],
            "type": "contour"
           }
          ],
          "contourcarpet": [
           {
            "colorbar": {
             "outlinewidth": 0,
             "ticks": ""
            },
            "type": "contourcarpet"
           }
          ],
          "heatmap": [
           {
            "colorbar": {
             "outlinewidth": 0,
             "ticks": ""
            },
            "colorscale": [
             [
              0,
              "#0d0887"
             ],
             [
              0.1111111111111111,
              "#46039f"
             ],
             [
              0.2222222222222222,
              "#7201a8"
             ],
             [
              0.3333333333333333,
              "#9c179e"
             ],
             [
              0.4444444444444444,
              "#bd3786"
             ],
             [
              0.5555555555555556,
              "#d8576b"
             ],
             [
              0.6666666666666666,
              "#ed7953"
             ],
             [
              0.7777777777777778,
              "#fb9f3a"
             ],
             [
              0.8888888888888888,
              "#fdca26"
             ],
             [
              1,
              "#f0f921"
             ]
            ],
            "type": "heatmap"
           }
          ],
          "heatmapgl": [
           {
            "colorbar": {
             "outlinewidth": 0,
             "ticks": ""
            },
            "colorscale": [
             [
              0,
              "#0d0887"
             ],
             [
              0.1111111111111111,
              "#46039f"
             ],
             [
              0.2222222222222222,
              "#7201a8"
             ],
             [
              0.3333333333333333,
              "#9c179e"
             ],
             [
              0.4444444444444444,
              "#bd3786"
             ],
             [
              0.5555555555555556,
              "#d8576b"
             ],
             [
              0.6666666666666666,
              "#ed7953"
             ],
             [
              0.7777777777777778,
              "#fb9f3a"
             ],
             [
              0.8888888888888888,
              "#fdca26"
             ],
             [
              1,
              "#f0f921"
             ]
            ],
            "type": "heatmapgl"
           }
          ],
          "histogram": [
           {
            "marker": {
             "pattern": {
              "fillmode": "overlay",
              "size": 10,
              "solidity": 0.2
             }
            },
            "type": "histogram"
           }
          ],
          "histogram2d": [
           {
            "colorbar": {
             "outlinewidth": 0,
             "ticks": ""
            },
            "colorscale": [
             [
              0,
              "#0d0887"
             ],
             [
              0.1111111111111111,
              "#46039f"
             ],
             [
              0.2222222222222222,
              "#7201a8"
             ],
             [
              0.3333333333333333,
              "#9c179e"
             ],
             [
              0.4444444444444444,
              "#bd3786"
             ],
             [
              0.5555555555555556,
              "#d8576b"
             ],
             [
              0.6666666666666666,
              "#ed7953"
             ],
             [
              0.7777777777777778,
              "#fb9f3a"
             ],
             [
              0.8888888888888888,
              "#fdca26"
             ],
             [
              1,
              "#f0f921"
             ]
            ],
            "type": "histogram2d"
           }
          ],
          "histogram2dcontour": [
           {
            "colorbar": {
             "outlinewidth": 0,
             "ticks": ""
            },
            "colorscale": [
             [
              0,
              "#0d0887"
             ],
             [
              0.1111111111111111,
              "#46039f"
             ],
             [
              0.2222222222222222,
              "#7201a8"
             ],
             [
              0.3333333333333333,
              "#9c179e"
             ],
             [
              0.4444444444444444,
              "#bd3786"
             ],
             [
              0.5555555555555556,
              "#d8576b"
             ],
             [
              0.6666666666666666,
              "#ed7953"
             ],
             [
              0.7777777777777778,
              "#fb9f3a"
             ],
             [
              0.8888888888888888,
              "#fdca26"
             ],
             [
              1,
              "#f0f921"
             ]
            ],
            "type": "histogram2dcontour"
           }
          ],
          "mesh3d": [
           {
            "colorbar": {
             "outlinewidth": 0,
             "ticks": ""
            },
            "type": "mesh3d"
           }
          ],
          "parcoords": [
           {
            "line": {
             "colorbar": {
              "outlinewidth": 0,
              "ticks": ""
             }
            },
            "type": "parcoords"
           }
          ],
          "pie": [
           {
            "automargin": true,
            "type": "pie"
           }
          ],
          "scatter": [
           {
            "fillpattern": {
             "fillmode": "overlay",
             "size": 10,
             "solidity": 0.2
            },
            "type": "scatter"
           }
          ],
          "scatter3d": [
           {
            "line": {
             "colorbar": {
              "outlinewidth": 0,
              "ticks": ""
             }
            },
            "marker": {
             "colorbar": {
              "outlinewidth": 0,
              "ticks": ""
             }
            },
            "type": "scatter3d"
           }
          ],
          "scattercarpet": [
           {
            "marker": {
             "colorbar": {
              "outlinewidth": 0,
              "ticks": ""
             }
            },
            "type": "scattercarpet"
           }
          ],
          "scattergeo": [
           {
            "marker": {
             "colorbar": {
              "outlinewidth": 0,
              "ticks": ""
             }
            },
            "type": "scattergeo"
           }
          ],
          "scattergl": [
           {
            "marker": {
             "colorbar": {
              "outlinewidth": 0,
              "ticks": ""
             }
            },
            "type": "scattergl"
           }
          ],
          "scattermapbox": [
           {
            "marker": {
             "colorbar": {
              "outlinewidth": 0,
              "ticks": ""
             }
            },
            "type": "scattermapbox"
           }
          ],
          "scatterpolar": [
           {
            "marker": {
             "colorbar": {
              "outlinewidth": 0,
              "ticks": ""
             }
            },
            "type": "scatterpolar"
           }
          ],
          "scatterpolargl": [
           {
            "marker": {
             "colorbar": {
              "outlinewidth": 0,
              "ticks": ""
             }
            },
            "type": "scatterpolargl"
           }
          ],
          "scatterternary": [
           {
            "marker": {
             "colorbar": {
              "outlinewidth": 0,
              "ticks": ""
             }
            },
            "type": "scatterternary"
           }
          ],
          "surface": [
           {
            "colorbar": {
             "outlinewidth": 0,
             "ticks": ""
            },
            "colorscale": [
             [
              0,
              "#0d0887"
             ],
             [
              0.1111111111111111,
              "#46039f"
             ],
             [
              0.2222222222222222,
              "#7201a8"
             ],
             [
              0.3333333333333333,
              "#9c179e"
             ],
             [
              0.4444444444444444,
              "#bd3786"
             ],
             [
              0.5555555555555556,
              "#d8576b"
             ],
             [
              0.6666666666666666,
              "#ed7953"
             ],
             [
              0.7777777777777778,
              "#fb9f3a"
             ],
             [
              0.8888888888888888,
              "#fdca26"
             ],
             [
              1,
              "#f0f921"
             ]
            ],
            "type": "surface"
           }
          ],
          "table": [
           {
            "cells": {
             "fill": {
              "color": "#EBF0F8"
             },
             "line": {
              "color": "white"
             }
            },
            "header": {
             "fill": {
              "color": "#C8D4E3"
             },
             "line": {
              "color": "white"
             }
            },
            "type": "table"
           }
          ]
         },
         "layout": {
          "annotationdefaults": {
           "arrowcolor": "#2a3f5f",
           "arrowhead": 0,
           "arrowwidth": 1
          },
          "autotypenumbers": "strict",
          "coloraxis": {
           "colorbar": {
            "outlinewidth": 0,
            "ticks": ""
           }
          },
          "colorscale": {
           "diverging": [
            [
             0,
             "#8e0152"
            ],
            [
             0.1,
             "#c51b7d"
            ],
            [
             0.2,
             "#de77ae"
            ],
            [
             0.3,
             "#f1b6da"
            ],
            [
             0.4,
             "#fde0ef"
            ],
            [
             0.5,
             "#f7f7f7"
            ],
            [
             0.6,
             "#e6f5d0"
            ],
            [
             0.7,
             "#b8e186"
            ],
            [
             0.8,
             "#7fbc41"
            ],
            [
             0.9,
             "#4d9221"
            ],
            [
             1,
             "#276419"
            ]
           ],
           "sequential": [
            [
             0,
             "#0d0887"
            ],
            [
             0.1111111111111111,
             "#46039f"
            ],
            [
             0.2222222222222222,
             "#7201a8"
            ],
            [
             0.3333333333333333,
             "#9c179e"
            ],
            [
             0.4444444444444444,
             "#bd3786"
            ],
            [
             0.5555555555555556,
             "#d8576b"
            ],
            [
             0.6666666666666666,
             "#ed7953"
            ],
            [
             0.7777777777777778,
             "#fb9f3a"
            ],
            [
             0.8888888888888888,
             "#fdca26"
            ],
            [
             1,
             "#f0f921"
            ]
           ],
           "sequentialminus": [
            [
             0,
             "#0d0887"
            ],
            [
             0.1111111111111111,
             "#46039f"
            ],
            [
             0.2222222222222222,
             "#7201a8"
            ],
            [
             0.3333333333333333,
             "#9c179e"
            ],
            [
             0.4444444444444444,
             "#bd3786"
            ],
            [
             0.5555555555555556,
             "#d8576b"
            ],
            [
             0.6666666666666666,
             "#ed7953"
            ],
            [
             0.7777777777777778,
             "#fb9f3a"
            ],
            [
             0.8888888888888888,
             "#fdca26"
            ],
            [
             1,
             "#f0f921"
            ]
           ]
          },
          "colorway": [
           "#636efa",
           "#EF553B",
           "#00cc96",
           "#ab63fa",
           "#FFA15A",
           "#19d3f3",
           "#FF6692",
           "#B6E880",
           "#FF97FF",
           "#FECB52"
          ],
          "font": {
           "color": "#2a3f5f"
          },
          "geo": {
           "bgcolor": "white",
           "lakecolor": "white",
           "landcolor": "#E5ECF6",
           "showlakes": true,
           "showland": true,
           "subunitcolor": "white"
          },
          "hoverlabel": {
           "align": "left"
          },
          "hovermode": "closest",
          "mapbox": {
           "style": "light"
          },
          "paper_bgcolor": "white",
          "plot_bgcolor": "#E5ECF6",
          "polar": {
           "angularaxis": {
            "gridcolor": "white",
            "linecolor": "white",
            "ticks": ""
           },
           "bgcolor": "#E5ECF6",
           "radialaxis": {
            "gridcolor": "white",
            "linecolor": "white",
            "ticks": ""
           }
          },
          "scene": {
           "xaxis": {
            "backgroundcolor": "#E5ECF6",
            "gridcolor": "white",
            "gridwidth": 2,
            "linecolor": "white",
            "showbackground": true,
            "ticks": "",
            "zerolinecolor": "white"
           },
           "yaxis": {
            "backgroundcolor": "#E5ECF6",
            "gridcolor": "white",
            "gridwidth": 2,
            "linecolor": "white",
            "showbackground": true,
            "ticks": "",
            "zerolinecolor": "white"
           },
           "zaxis": {
            "backgroundcolor": "#E5ECF6",
            "gridcolor": "white",
            "gridwidth": 2,
            "linecolor": "white",
            "showbackground": true,
            "ticks": "",
            "zerolinecolor": "white"
           }
          },
          "shapedefaults": {
           "line": {
            "color": "#2a3f5f"
           }
          },
          "ternary": {
           "aaxis": {
            "gridcolor": "white",
            "linecolor": "white",
            "ticks": ""
           },
           "baxis": {
            "gridcolor": "white",
            "linecolor": "white",
            "ticks": ""
           },
           "bgcolor": "#E5ECF6",
           "caxis": {
            "gridcolor": "white",
            "linecolor": "white",
            "ticks": ""
           }
          },
          "title": {
           "x": 0.05
          },
          "xaxis": {
           "automargin": true,
           "gridcolor": "white",
           "linecolor": "white",
           "ticks": "",
           "title": {
            "standoff": 15
           },
           "zerolinecolor": "white",
           "zerolinewidth": 2
          },
          "yaxis": {
           "automargin": true,
           "gridcolor": "white",
           "linecolor": "white",
           "ticks": "",
           "title": {
            "standoff": 15
           },
           "zerolinecolor": "white",
           "zerolinewidth": 2
          }
         }
        },
        "title": {
         "text": "Portfólio do Fundo Squadra"
        },
        "width": 900,
        "xaxis": {
         "anchor": "y",
         "domain": [
          0,
          1
         ]
        },
        "xaxis2": {
         "anchor": "y2",
         "domain": [
          0,
          1
         ]
        },
        "xaxis3": {
         "anchor": "y3",
         "domain": [
          0,
          1
         ]
        },
        "xaxis4": {
         "anchor": "y4",
         "domain": [
          0,
          1
         ]
        },
        "xaxis5": {
         "anchor": "y5",
         "domain": [
          0,
          1
         ]
        },
        "yaxis": {
         "anchor": "x",
         "domain": [
          0.824,
          1
         ]
        },
        "yaxis2": {
         "anchor": "x2",
         "domain": [
          0.618,
          0.794
         ]
        },
        "yaxis3": {
         "anchor": "x3",
         "domain": [
          0.412,
          0.588
         ]
        },
        "yaxis4": {
         "anchor": "x4",
         "domain": [
          0.206,
          0.382
         ]
        },
        "yaxis5": {
         "anchor": "x5",
         "domain": [
          0,
          0.176
         ]
        }
       }
      }
     },
     "metadata": {},
     "output_type": "display_data"
    }
   ],
   "source": [
    "# Plotando o portfólio de cada mês\n",
    "portfolio_squadra_202301 = portfolio_squadra.loc['2023-01', ['CD_ATIVO', 'PORCENTAGEM']]\n",
    "portfolio_squadra_202302 = portfolio_squadra.loc['2023-02', ['CD_ATIVO', 'PORCENTAGEM']]\n",
    "portfolio_squadra_202303 = portfolio_squadra.loc['2023-03', ['CD_ATIVO', 'PORCENTAGEM']]\n",
    "portfolio_squadra_202304 = portfolio_squadra.loc['2023-04', ['CD_ATIVO', 'PORCENTAGEM']]\n",
    "portfolio_squadra_202305 = portfolio_squadra.loc['2023-05', ['CD_ATIVO', 'PORCENTAGEM']]\n",
    "\n",
    "fig = make_subplots(rows=5,\n",
    "                    cols=1,\n",
    "                    subplot_titles=(\n",
    "                        'Distribuição Percentual do Portfólio - 01/2023',\n",
    "                        'Distribuição Percentual do Portfólio - 02/2023',\n",
    "                        'Distribuição Percentual do Portfólio - 03/2023',\n",
    "                        'Distribuição Percentual do Portfólio - 04/2023',\n",
    "                        'Distribuição Percentual do Portfólio - 05/2023'),\n",
    "                    vertical_spacing=0.03 # Espaço entre os plots\n",
    ")\n",
    "\n",
    "fig.add_trace(go.Bar(\n",
    "    x=portfolio_squadra_202301['PORCENTAGEM'] * 100,\n",
    "    y=portfolio_squadra_202301['CD_ATIVO'],\n",
    "    orientation='h',\n",
    "    name='01/2023' \n",
    "), row=1, col=1)\n",
    "\n",
    "fig.add_trace(go.Bar(\n",
    "    x=portfolio_squadra_202302['PORCENTAGEM'] * 100,\n",
    "    y=portfolio_squadra_202302['CD_ATIVO'],\n",
    "    orientation='h',\n",
    "    name='02/2023' \n",
    "), row=2, col=1)\n",
    "\n",
    "fig.add_trace(go.Bar(\n",
    "    x=portfolio_squadra_202303['PORCENTAGEM'] * 100,\n",
    "    y=portfolio_squadra_202303['CD_ATIVO'],\n",
    "    orientation='h',\n",
    "    name='03/2023' \n",
    "), row=3, col=1)\n",
    "\n",
    "fig.add_trace(go.Bar(\n",
    "    x=portfolio_squadra_202304['PORCENTAGEM'] * 100,\n",
    "    y=portfolio_squadra_202304['CD_ATIVO'],\n",
    "    orientation='h',\n",
    "    name='04/2023' \n",
    "), row=4, col=1)\n",
    "\n",
    "fig.add_trace(go.Bar(\n",
    "    x=portfolio_squadra_202305['PORCENTAGEM'] * 100,\n",
    "    y=portfolio_squadra_202305['CD_ATIVO'],\n",
    "    orientation='h',\n",
    "    name='05/2023' \n",
    "), row=5, col=1)\n",
    "\n",
    "# Atualiza o layout do gráfico\n",
    "fig.update_layout(\n",
    "    title='Portfólio do Fundo Squadra',\n",
    "    height=2500,\n",
    "    width=900\n",
    ")\n",
    "\n",
    "# Exibe o gráfico\n",
    "fig.show()"
   ]
  },
  {
   "cell_type": "markdown",
   "metadata": {},
   "source": [
    "### Fundo Guepardo"
   ]
  },
  {
   "cell_type": "markdown",
   "metadata": {},
   "source": [
    "* https://maisretorno.com/fundo/guepardo-institucional-master-fia"
   ]
  },
  {
   "cell_type": "code",
   "execution_count": 220,
   "metadata": {},
   "outputs": [],
   "source": [
    "guepardo_acoes = fundo_cnpj_acoes(cnpj='14.213.077/0001-54')\n",
    "guepardo_pl = pl_fundo(\n",
    "    path=f'C://Users//vitor//projetos_python//python_b3//historico-arquivos//fundos_investimentos//fundos_cvm//{ano}{mes}//cda_fi_PL_{ano}{mes}.csv', \n",
    "    cnpj='14.213.077/0001-54'\n",
    ")\n",
    "\n",
    "# Quantos porcertos cada categoria representa do PL final\n",
    "pct_acoes = round(pd.Series(guepardo_acoes['VL_MERC_POS_FINAL'].sum() / guepardo_pl.values), 4) \n",
    "\n",
    "# Criando a data do portfólio\n",
    "data = pd.to_datetime(f'{mes}-{ano}')\n",
    "\n",
    "# Adicionando a informação da porcentagem de cada categoria nos dfs\n",
    "# Ações\n",
    "linha_pct_acoes = {'DENOM_SOCIAL': 'PL% FUNDO', 'VL_MERC_POS_FINAL' : pct_acoes}\n",
    "df_linha_pct_acoes = pd.DataFrame(linha_pct_acoes)\n",
    "guepardo_acoes = pd.concat([guepardo_acoes, df_linha_pct_acoes], ignore_index=True)\n",
    "# Criando a coluna 'data' no df\n",
    "guepardo_acoes['data'] = data\n",
    "# Definindo a coluna 'data' como o index\n",
    "guepardo_acoes = guepardo_acoes.set_index('data')"
   ]
  },
  {
   "cell_type": "code",
   "execution_count": 221,
   "metadata": {},
   "outputs": [],
   "source": [
    "# Criando o arquivo excel em que cada categoria está em uma aba diferente\n",
    "with pd.ExcelWriter(f'C://Users//vitor//projetos_python//python_b3//composicao-fundos-de-investimentos//arquivos_fundos//guepardo//fundo_guepardo_{ano}{mes}.xlsx') as writer:\n",
    "    guepardo_acoes.to_excel(writer, sheet_name='acoes')\n",
    "    "
   ]
  },
  {
   "cell_type": "code",
   "execution_count": 15,
   "metadata": {},
   "outputs": [
    {
     "data": {
      "text/plain": [
       "data\n",
       "2023-01-01    {UGPA3, MLAS3, VULC3, MYPK3, RAIL3, GMAT3, ITU...\n",
       "2023-02-01    {UGPA3, MLAS3, VULC3, MYPK3, RAIL3, GMAT3, ITU...\n",
       "2023-03-01    {UGPA3, MLAS3, VULC3, MYPK3, RAIL3, GMAT3, ITU...\n",
       "2023-04-01    {UGPA3, MLAS3, VULC3, MYPK3, RAIL3, GMAT3, ITU...\n",
       "2023-05-01    {UGPA3, MLAS3, VULC3, GGBR4, MYPK3, RAIL3, GMA...\n",
       "Name: CD_ATIVO, dtype: object"
      ]
     },
     "execution_count": 15,
     "metadata": {},
     "output_type": "execute_result"
    }
   ],
   "source": [
    "# Abrindo os arquivos excel\n",
    "arquivos_excel = [\n",
    "    'fundo_guepardo_202301.xlsx', \n",
    "    'fundo_guepardo_202302.xlsx', \n",
    "    'fundo_guepardo_202303.xlsx', \n",
    "    'fundo_guepardo_202304.xlsx', \n",
    "    'fundo_guepardo_202305.xlsx'\n",
    "]  \n",
    "\n",
    "lst_dfs = []\n",
    "for arquivo in arquivos_excel:\n",
    "    df = pd.read_excel(f'C://Users//vitor//projetos_python//python_b3//composicao-fundos-de-investimentos//arquivos_fundos//guepardo//{arquivo}', sheet_name='acoes')\n",
    "    lst_dfs.append(df)\n",
    "\n",
    "# Concatendo os dfs de ações\n",
    "portfolio_guepardo = pd.concat(lst_dfs, ignore_index=True)\n",
    "\n",
    "# Retirando as ações que não tem nenhum dinheiro alocado  e os NAN\n",
    "portfolio_guepardo = portfolio_guepardo[portfolio_guepardo['VL_MERC_POS_FINAL'] != 0]\n",
    "portfolio_guepardo = portfolio_guepardo.dropna()\n",
    "\n",
    "# Definindo a coluna 'data' como o index\n",
    "portfolio_guepardo = portfolio_guepardo.set_index('data')\n",
    "\n",
    "# Selecionando o conjunto de ações (portfólio) de cada mês\n",
    "portfolio_mensal = portfolio_guepardo.groupby('data')['CD_ATIVO'].apply(set)\n",
    "portfolio_mensal"
   ]
  },
  {
   "cell_type": "code",
   "execution_count": 223,
   "metadata": {},
   "outputs": [
    {
     "name": "stdout",
     "output_type": "stream",
     "text": [
      "Comparando o portfólio de 01/23 e 02/23:\n",
      "O Guepardo vendeu as ações: set()\n",
      "O Guepardo comprou as ações: set()\n",
      "--------------------------------------------------------------------------------\n",
      "Comparando o portfólio de 02/23 e 03/23:\n",
      "O Guepardo vendeu as ações: set()\n",
      "O Guepardo comprou as ações: set()\n",
      "--------------------------------------------------------------------------------\n",
      "Comparando o portfólio de 03/23 e 04/23:\n",
      "O Guepardo vendeu as ações: set()\n",
      "O Guepardo comprou as ações: set()\n",
      "--------------------------------------------------------------------------------\n",
      "Comparando o portfólio de 04/23 e 05/23:\n",
      "O Guepardo vendeu as ações: {'DXCO3'}\n",
      "O Guepardo comprou as ações: {'GGBR4'}\n"
     ]
    }
   ],
   "source": [
    "print('Comparando o portfólio de 01/23 e 02/23:')\n",
    "print(f'O Guepardo vendeu as ações: {set(portfolio_mensal[0]) - set(portfolio_mensal[1])}')\n",
    "print(f'O Guepardo comprou as ações: {set(portfolio_mensal[1]) - set(portfolio_mensal[0])}')\n",
    "\n",
    "print('-'*80)\n",
    "\n",
    "print('Comparando o portfólio de 02/23 e 03/23:')\n",
    "print(f'O Guepardo vendeu as ações: {set(portfolio_mensal[1]) - set(portfolio_mensal[2])}')\n",
    "print(f'O Guepardo comprou as ações: {set(portfolio_mensal[2]) - set(portfolio_mensal[1])}')\n",
    "\n",
    "print('-'*80)\n",
    "\n",
    "print('Comparando o portfólio de 03/23 e 04/23:')\n",
    "print(f'O Guepardo vendeu as ações: {set(portfolio_mensal[2]) - set(portfolio_mensal[3])}')\n",
    "print(f'O Guepardo comprou as ações: {set(portfolio_mensal[3]) - set(portfolio_mensal[2])}')\n",
    "\n",
    "print('-'*80)\n",
    "\n",
    "print('Comparando o portfólio de 04/23 e 05/23:')\n",
    "print(f'O Guepardo vendeu as ações: {set(portfolio_mensal[3]) - set(portfolio_mensal[4])}')\n",
    "print(f'O Guepardo comprou as ações: {set(portfolio_mensal[4]) - set(portfolio_mensal[3])}')"
   ]
  },
  {
   "cell_type": "code",
   "execution_count": 224,
   "metadata": {},
   "outputs": [
    {
     "name": "stdout",
     "output_type": "stream",
     "text": [
      "Número total de ações:\n",
      "            CD_ATIVO\n",
      "data                \n",
      "2023-01-01        11\n",
      "2023-02-01        11\n",
      "2023-03-01        11\n",
      "2023-04-01        11\n",
      "2023-05-01        11\n",
      "------------------------------------------------------------\n",
      "data\n",
      "2023-01-01    [VULC3, ITUB4, UGPA3, RAIL3, ANIM3]\n",
      "2023-02-01    [VULC3, ITUB4, UGPA3, RAIL3, ANIM3]\n",
      "2023-03-01    [VULC3, UGPA3, ITUB4, RAIL3, ANIM3]\n",
      "2023-04-01    [VULC3, UGPA3, ITUB4, RAIL3, ANIM3]\n",
      "2023-05-01    [VULC3, UGPA3, ITUB4, RAIL3, ANIM3]\n",
      "Name: CD_ATIVO, dtype: object\n"
     ]
    }
   ],
   "source": [
    "# Número total de ações de cada mês do portfpolio\n",
    "print('Número total de ações:')\n",
    "num_total_acoes = portfolio_guepardo.groupby('data')['CD_ATIVO'].count()\n",
    "print(pd.DataFrame(num_total_acoes))\n",
    "\n",
    "print('-'*60)\n",
    "# Selecionando os valores únicos (datas) do df\n",
    "lst_data = portfolio_guepardo.index.unique()\n",
    "\n",
    "# Rank das 5 maiores ações do fundo\n",
    "lst_rank = []\n",
    "for _ in lst_data:\n",
    "    rank = portfolio_guepardo.loc[_].nlargest(5, 'PORCENTAGEM')[['CD_ATIVO', 'PORCENTAGEM']]\n",
    "    lst_rank.append(rank)\n",
    "\n",
    "# Concatendo os dfs de rank\n",
    "rank_portfolio = pd.concat(lst_rank)\n",
    "rank_portfolio_guepardo = rank_portfolio.groupby('data')['CD_ATIVO'].apply(list)\n",
    "print(rank_portfolio_guepardo)"
   ]
  },
  {
   "cell_type": "code",
   "execution_count": 98,
   "metadata": {},
   "outputs": [
    {
     "data": {
      "application/vnd.plotly.v1+json": {
       "config": {
        "plotlyServerURL": "https://plot.ly"
       },
       "data": [
        {
         "name": "01/2023",
         "orientation": "h",
         "type": "bar",
         "x": [
          31.03430550420799,
          17.21798381015083,
          15.957878218909741,
          15.00224404679082,
          11.136171910038339,
          5.157403510551732,
          1.810972450520466,
          1.592747568052466,
          0.43455609339206813,
          0.3512100567597343,
          0.3045268306258132
         ],
         "xaxis": "x",
         "y": [
          "VULC3",
          "ITUB4",
          "UGPA3",
          "RAIL3",
          "ANIM3",
          "MLAS3",
          "ALSO3",
          "ITUB3",
          "MYPK3",
          "DXCO3",
          "GMAT3"
         ],
         "yaxis": "y"
        },
        {
         "name": "02/2023",
         "orientation": "h",
         "type": "bar",
         "x": [
          32.05107373117658,
          18.6767056369223,
          15.95868636155258,
          15.91715355965023,
          8.683983846776112,
          3.3275482992572423,
          2.556123539047957,
          1.734160629310143,
          0.4613508900372834,
          0.32794018585553597,
          0.3052733204140304
         ],
         "xaxis": "x2",
         "y": [
          "VULC3",
          "ITUB4",
          "UGPA3",
          "RAIL3",
          "ANIM3",
          "ALSO3",
          "MLAS3",
          "ITUB3",
          "MYPK3",
          "DXCO3",
          "GMAT3"
         ],
         "yaxis": "y2"
        },
        {
         "name": "03/2023",
         "orientation": "h",
         "type": "bar",
         "x": [
          31.90088843029114,
          21.630772184921877,
          17.155159665693027,
          15.51992592088408,
          6.448153366446513,
          3.4257387228839935,
          1.5819791598690531,
          1.281340778074826,
          0.4621997977902976,
          0.3156165485786673,
          0.2782254245665054
         ],
         "xaxis": "x3",
         "y": [
          "VULC3",
          "UGPA3",
          "ITUB4",
          "RAIL3",
          "ANIM3",
          "ALSO3",
          "ITUB3",
          "MLAS3",
          "MYPK3",
          "GMAT3",
          "DXCO3"
         ],
         "yaxis": "y3"
        },
        {
         "name": "04/2023",
         "orientation": "h",
         "type": "bar",
         "x": [
          32.97294845048973,
          21.45595314492949,
          16.33157447781647,
          14.541202499918441,
          5.605740902936052,
          4.419819186600574,
          2.162319798049675,
          1.5583897380342,
          0.41052927291250546,
          0.2797121520334539,
          0.2618103762793917
         ],
         "xaxis": "x4",
         "y": [
          "VULC3",
          "UGPA3",
          "ITUB4",
          "RAIL3",
          "ANIM3",
          "ALSO3",
          "MLAS3",
          "ITUB3",
          "MYPK3",
          "GMAT3",
          "DXCO3"
         ],
         "yaxis": "y4"
        },
        {
         "name": "05/2023",
         "orientation": "h",
         "type": "bar",
         "x": [
          33.089341275990705,
          23.04995890749209,
          14.62465762888367,
          13.0755296843871,
          6.280600750685538,
          5.670801186001359,
          1.367261823770853,
          1.030185807566318,
          0.908500946857239,
          0.4911702206247182,
          0.41199176774040963
         ],
         "xaxis": "x5",
         "y": [
          "VULC3",
          "UGPA3",
          "ITUB4",
          "RAIL3",
          "ANIM3",
          "ALSO3",
          "ITUB3",
          "MLAS3",
          "GGBR4",
          "GMAT3",
          "MYPK3"
         ],
         "yaxis": "y5"
        }
       ],
       "layout": {
        "annotations": [
         {
          "font": {
           "size": 16
          },
          "showarrow": false,
          "text": "Distribuição Percentual do Portfólio - 01/2023",
          "x": 0.5,
          "xanchor": "center",
          "xref": "paper",
          "y": 1,
          "yanchor": "bottom",
          "yref": "paper"
         },
         {
          "font": {
           "size": 16
          },
          "showarrow": false,
          "text": "Distribuição Percentual do Portfólio - 02/2023",
          "x": 0.5,
          "xanchor": "center",
          "xref": "paper",
          "y": 0.794,
          "yanchor": "bottom",
          "yref": "paper"
         },
         {
          "font": {
           "size": 16
          },
          "showarrow": false,
          "text": "Distribuição Percentual do Portfólio - 03/2023",
          "x": 0.5,
          "xanchor": "center",
          "xref": "paper",
          "y": 0.588,
          "yanchor": "bottom",
          "yref": "paper"
         },
         {
          "font": {
           "size": 16
          },
          "showarrow": false,
          "text": "Distribuição Percentual do Portfólio - 04/2023",
          "x": 0.5,
          "xanchor": "center",
          "xref": "paper",
          "y": 0.382,
          "yanchor": "bottom",
          "yref": "paper"
         },
         {
          "font": {
           "size": 16
          },
          "showarrow": false,
          "text": "Distribuição Percentual do Portfólio - 05/2023",
          "x": 0.5,
          "xanchor": "center",
          "xref": "paper",
          "y": 0.176,
          "yanchor": "bottom",
          "yref": "paper"
         }
        ],
        "height": 2500,
        "template": {
         "data": {
          "bar": [
           {
            "error_x": {
             "color": "#2a3f5f"
            },
            "error_y": {
             "color": "#2a3f5f"
            },
            "marker": {
             "line": {
              "color": "#E5ECF6",
              "width": 0.5
             },
             "pattern": {
              "fillmode": "overlay",
              "size": 10,
              "solidity": 0.2
             }
            },
            "type": "bar"
           }
          ],
          "barpolar": [
           {
            "marker": {
             "line": {
              "color": "#E5ECF6",
              "width": 0.5
             },
             "pattern": {
              "fillmode": "overlay",
              "size": 10,
              "solidity": 0.2
             }
            },
            "type": "barpolar"
           }
          ],
          "carpet": [
           {
            "aaxis": {
             "endlinecolor": "#2a3f5f",
             "gridcolor": "white",
             "linecolor": "white",
             "minorgridcolor": "white",
             "startlinecolor": "#2a3f5f"
            },
            "baxis": {
             "endlinecolor": "#2a3f5f",
             "gridcolor": "white",
             "linecolor": "white",
             "minorgridcolor": "white",
             "startlinecolor": "#2a3f5f"
            },
            "type": "carpet"
           }
          ],
          "choropleth": [
           {
            "colorbar": {
             "outlinewidth": 0,
             "ticks": ""
            },
            "type": "choropleth"
           }
          ],
          "contour": [
           {
            "colorbar": {
             "outlinewidth": 0,
             "ticks": ""
            },
            "colorscale": [
             [
              0,
              "#0d0887"
             ],
             [
              0.1111111111111111,
              "#46039f"
             ],
             [
              0.2222222222222222,
              "#7201a8"
             ],
             [
              0.3333333333333333,
              "#9c179e"
             ],
             [
              0.4444444444444444,
              "#bd3786"
             ],
             [
              0.5555555555555556,
              "#d8576b"
             ],
             [
              0.6666666666666666,
              "#ed7953"
             ],
             [
              0.7777777777777778,
              "#fb9f3a"
             ],
             [
              0.8888888888888888,
              "#fdca26"
             ],
             [
              1,
              "#f0f921"
             ]
            ],
            "type": "contour"
           }
          ],
          "contourcarpet": [
           {
            "colorbar": {
             "outlinewidth": 0,
             "ticks": ""
            },
            "type": "contourcarpet"
           }
          ],
          "heatmap": [
           {
            "colorbar": {
             "outlinewidth": 0,
             "ticks": ""
            },
            "colorscale": [
             [
              0,
              "#0d0887"
             ],
             [
              0.1111111111111111,
              "#46039f"
             ],
             [
              0.2222222222222222,
              "#7201a8"
             ],
             [
              0.3333333333333333,
              "#9c179e"
             ],
             [
              0.4444444444444444,
              "#bd3786"
             ],
             [
              0.5555555555555556,
              "#d8576b"
             ],
             [
              0.6666666666666666,
              "#ed7953"
             ],
             [
              0.7777777777777778,
              "#fb9f3a"
             ],
             [
              0.8888888888888888,
              "#fdca26"
             ],
             [
              1,
              "#f0f921"
             ]
            ],
            "type": "heatmap"
           }
          ],
          "heatmapgl": [
           {
            "colorbar": {
             "outlinewidth": 0,
             "ticks": ""
            },
            "colorscale": [
             [
              0,
              "#0d0887"
             ],
             [
              0.1111111111111111,
              "#46039f"
             ],
             [
              0.2222222222222222,
              "#7201a8"
             ],
             [
              0.3333333333333333,
              "#9c179e"
             ],
             [
              0.4444444444444444,
              "#bd3786"
             ],
             [
              0.5555555555555556,
              "#d8576b"
             ],
             [
              0.6666666666666666,
              "#ed7953"
             ],
             [
              0.7777777777777778,
              "#fb9f3a"
             ],
             [
              0.8888888888888888,
              "#fdca26"
             ],
             [
              1,
              "#f0f921"
             ]
            ],
            "type": "heatmapgl"
           }
          ],
          "histogram": [
           {
            "marker": {
             "pattern": {
              "fillmode": "overlay",
              "size": 10,
              "solidity": 0.2
             }
            },
            "type": "histogram"
           }
          ],
          "histogram2d": [
           {
            "colorbar": {
             "outlinewidth": 0,
             "ticks": ""
            },
            "colorscale": [
             [
              0,
              "#0d0887"
             ],
             [
              0.1111111111111111,
              "#46039f"
             ],
             [
              0.2222222222222222,
              "#7201a8"
             ],
             [
              0.3333333333333333,
              "#9c179e"
             ],
             [
              0.4444444444444444,
              "#bd3786"
             ],
             [
              0.5555555555555556,
              "#d8576b"
             ],
             [
              0.6666666666666666,
              "#ed7953"
             ],
             [
              0.7777777777777778,
              "#fb9f3a"
             ],
             [
              0.8888888888888888,
              "#fdca26"
             ],
             [
              1,
              "#f0f921"
             ]
            ],
            "type": "histogram2d"
           }
          ],
          "histogram2dcontour": [
           {
            "colorbar": {
             "outlinewidth": 0,
             "ticks": ""
            },
            "colorscale": [
             [
              0,
              "#0d0887"
             ],
             [
              0.1111111111111111,
              "#46039f"
             ],
             [
              0.2222222222222222,
              "#7201a8"
             ],
             [
              0.3333333333333333,
              "#9c179e"
             ],
             [
              0.4444444444444444,
              "#bd3786"
             ],
             [
              0.5555555555555556,
              "#d8576b"
             ],
             [
              0.6666666666666666,
              "#ed7953"
             ],
             [
              0.7777777777777778,
              "#fb9f3a"
             ],
             [
              0.8888888888888888,
              "#fdca26"
             ],
             [
              1,
              "#f0f921"
             ]
            ],
            "type": "histogram2dcontour"
           }
          ],
          "mesh3d": [
           {
            "colorbar": {
             "outlinewidth": 0,
             "ticks": ""
            },
            "type": "mesh3d"
           }
          ],
          "parcoords": [
           {
            "line": {
             "colorbar": {
              "outlinewidth": 0,
              "ticks": ""
             }
            },
            "type": "parcoords"
           }
          ],
          "pie": [
           {
            "automargin": true,
            "type": "pie"
           }
          ],
          "scatter": [
           {
            "fillpattern": {
             "fillmode": "overlay",
             "size": 10,
             "solidity": 0.2
            },
            "type": "scatter"
           }
          ],
          "scatter3d": [
           {
            "line": {
             "colorbar": {
              "outlinewidth": 0,
              "ticks": ""
             }
            },
            "marker": {
             "colorbar": {
              "outlinewidth": 0,
              "ticks": ""
             }
            },
            "type": "scatter3d"
           }
          ],
          "scattercarpet": [
           {
            "marker": {
             "colorbar": {
              "outlinewidth": 0,
              "ticks": ""
             }
            },
            "type": "scattercarpet"
           }
          ],
          "scattergeo": [
           {
            "marker": {
             "colorbar": {
              "outlinewidth": 0,
              "ticks": ""
             }
            },
            "type": "scattergeo"
           }
          ],
          "scattergl": [
           {
            "marker": {
             "colorbar": {
              "outlinewidth": 0,
              "ticks": ""
             }
            },
            "type": "scattergl"
           }
          ],
          "scattermapbox": [
           {
            "marker": {
             "colorbar": {
              "outlinewidth": 0,
              "ticks": ""
             }
            },
            "type": "scattermapbox"
           }
          ],
          "scatterpolar": [
           {
            "marker": {
             "colorbar": {
              "outlinewidth": 0,
              "ticks": ""
             }
            },
            "type": "scatterpolar"
           }
          ],
          "scatterpolargl": [
           {
            "marker": {
             "colorbar": {
              "outlinewidth": 0,
              "ticks": ""
             }
            },
            "type": "scatterpolargl"
           }
          ],
          "scatterternary": [
           {
            "marker": {
             "colorbar": {
              "outlinewidth": 0,
              "ticks": ""
             }
            },
            "type": "scatterternary"
           }
          ],
          "surface": [
           {
            "colorbar": {
             "outlinewidth": 0,
             "ticks": ""
            },
            "colorscale": [
             [
              0,
              "#0d0887"
             ],
             [
              0.1111111111111111,
              "#46039f"
             ],
             [
              0.2222222222222222,
              "#7201a8"
             ],
             [
              0.3333333333333333,
              "#9c179e"
             ],
             [
              0.4444444444444444,
              "#bd3786"
             ],
             [
              0.5555555555555556,
              "#d8576b"
             ],
             [
              0.6666666666666666,
              "#ed7953"
             ],
             [
              0.7777777777777778,
              "#fb9f3a"
             ],
             [
              0.8888888888888888,
              "#fdca26"
             ],
             [
              1,
              "#f0f921"
             ]
            ],
            "type": "surface"
           }
          ],
          "table": [
           {
            "cells": {
             "fill": {
              "color": "#EBF0F8"
             },
             "line": {
              "color": "white"
             }
            },
            "header": {
             "fill": {
              "color": "#C8D4E3"
             },
             "line": {
              "color": "white"
             }
            },
            "type": "table"
           }
          ]
         },
         "layout": {
          "annotationdefaults": {
           "arrowcolor": "#2a3f5f",
           "arrowhead": 0,
           "arrowwidth": 1
          },
          "autotypenumbers": "strict",
          "coloraxis": {
           "colorbar": {
            "outlinewidth": 0,
            "ticks": ""
           }
          },
          "colorscale": {
           "diverging": [
            [
             0,
             "#8e0152"
            ],
            [
             0.1,
             "#c51b7d"
            ],
            [
             0.2,
             "#de77ae"
            ],
            [
             0.3,
             "#f1b6da"
            ],
            [
             0.4,
             "#fde0ef"
            ],
            [
             0.5,
             "#f7f7f7"
            ],
            [
             0.6,
             "#e6f5d0"
            ],
            [
             0.7,
             "#b8e186"
            ],
            [
             0.8,
             "#7fbc41"
            ],
            [
             0.9,
             "#4d9221"
            ],
            [
             1,
             "#276419"
            ]
           ],
           "sequential": [
            [
             0,
             "#0d0887"
            ],
            [
             0.1111111111111111,
             "#46039f"
            ],
            [
             0.2222222222222222,
             "#7201a8"
            ],
            [
             0.3333333333333333,
             "#9c179e"
            ],
            [
             0.4444444444444444,
             "#bd3786"
            ],
            [
             0.5555555555555556,
             "#d8576b"
            ],
            [
             0.6666666666666666,
             "#ed7953"
            ],
            [
             0.7777777777777778,
             "#fb9f3a"
            ],
            [
             0.8888888888888888,
             "#fdca26"
            ],
            [
             1,
             "#f0f921"
            ]
           ],
           "sequentialminus": [
            [
             0,
             "#0d0887"
            ],
            [
             0.1111111111111111,
             "#46039f"
            ],
            [
             0.2222222222222222,
             "#7201a8"
            ],
            [
             0.3333333333333333,
             "#9c179e"
            ],
            [
             0.4444444444444444,
             "#bd3786"
            ],
            [
             0.5555555555555556,
             "#d8576b"
            ],
            [
             0.6666666666666666,
             "#ed7953"
            ],
            [
             0.7777777777777778,
             "#fb9f3a"
            ],
            [
             0.8888888888888888,
             "#fdca26"
            ],
            [
             1,
             "#f0f921"
            ]
           ]
          },
          "colorway": [
           "#636efa",
           "#EF553B",
           "#00cc96",
           "#ab63fa",
           "#FFA15A",
           "#19d3f3",
           "#FF6692",
           "#B6E880",
           "#FF97FF",
           "#FECB52"
          ],
          "font": {
           "color": "#2a3f5f"
          },
          "geo": {
           "bgcolor": "white",
           "lakecolor": "white",
           "landcolor": "#E5ECF6",
           "showlakes": true,
           "showland": true,
           "subunitcolor": "white"
          },
          "hoverlabel": {
           "align": "left"
          },
          "hovermode": "closest",
          "mapbox": {
           "style": "light"
          },
          "paper_bgcolor": "white",
          "plot_bgcolor": "#E5ECF6",
          "polar": {
           "angularaxis": {
            "gridcolor": "white",
            "linecolor": "white",
            "ticks": ""
           },
           "bgcolor": "#E5ECF6",
           "radialaxis": {
            "gridcolor": "white",
            "linecolor": "white",
            "ticks": ""
           }
          },
          "scene": {
           "xaxis": {
            "backgroundcolor": "#E5ECF6",
            "gridcolor": "white",
            "gridwidth": 2,
            "linecolor": "white",
            "showbackground": true,
            "ticks": "",
            "zerolinecolor": "white"
           },
           "yaxis": {
            "backgroundcolor": "#E5ECF6",
            "gridcolor": "white",
            "gridwidth": 2,
            "linecolor": "white",
            "showbackground": true,
            "ticks": "",
            "zerolinecolor": "white"
           },
           "zaxis": {
            "backgroundcolor": "#E5ECF6",
            "gridcolor": "white",
            "gridwidth": 2,
            "linecolor": "white",
            "showbackground": true,
            "ticks": "",
            "zerolinecolor": "white"
           }
          },
          "shapedefaults": {
           "line": {
            "color": "#2a3f5f"
           }
          },
          "ternary": {
           "aaxis": {
            "gridcolor": "white",
            "linecolor": "white",
            "ticks": ""
           },
           "baxis": {
            "gridcolor": "white",
            "linecolor": "white",
            "ticks": ""
           },
           "bgcolor": "#E5ECF6",
           "caxis": {
            "gridcolor": "white",
            "linecolor": "white",
            "ticks": ""
           }
          },
          "title": {
           "x": 0.05
          },
          "xaxis": {
           "automargin": true,
           "gridcolor": "white",
           "linecolor": "white",
           "ticks": "",
           "title": {
            "standoff": 15
           },
           "zerolinecolor": "white",
           "zerolinewidth": 2
          },
          "yaxis": {
           "automargin": true,
           "gridcolor": "white",
           "linecolor": "white",
           "ticks": "",
           "title": {
            "standoff": 15
           },
           "zerolinecolor": "white",
           "zerolinewidth": 2
          }
         }
        },
        "title": {
         "text": "Portfólio do Fundo Guepardo"
        },
        "width": 900,
        "xaxis": {
         "anchor": "y",
         "domain": [
          0,
          1
         ]
        },
        "xaxis2": {
         "anchor": "y2",
         "domain": [
          0,
          1
         ]
        },
        "xaxis3": {
         "anchor": "y3",
         "domain": [
          0,
          1
         ]
        },
        "xaxis4": {
         "anchor": "y4",
         "domain": [
          0,
          1
         ]
        },
        "xaxis5": {
         "anchor": "y5",
         "domain": [
          0,
          1
         ]
        },
        "yaxis": {
         "anchor": "x",
         "domain": [
          0.824,
          1
         ]
        },
        "yaxis2": {
         "anchor": "x2",
         "domain": [
          0.618,
          0.794
         ]
        },
        "yaxis3": {
         "anchor": "x3",
         "domain": [
          0.412,
          0.588
         ]
        },
        "yaxis4": {
         "anchor": "x4",
         "domain": [
          0.206,
          0.382
         ]
        },
        "yaxis5": {
         "anchor": "x5",
         "domain": [
          0,
          0.176
         ]
        }
       }
      }
     },
     "metadata": {},
     "output_type": "display_data"
    }
   ],
   "source": [
    "# Plotando o portfólio de cada mês\n",
    "portfolio_guepardo_202301 = portfolio_guepardo.loc['2023-01', ['CD_ATIVO', 'PORCENTAGEM']]\n",
    "portfolio_guepardo_202302 = portfolio_guepardo.loc['2023-02', ['CD_ATIVO', 'PORCENTAGEM']]\n",
    "portfolio_guepardo_202303 = portfolio_guepardo.loc['2023-03', ['CD_ATIVO', 'PORCENTAGEM']]\n",
    "portfolio_guepardo_202304 = portfolio_guepardo.loc['2023-04', ['CD_ATIVO', 'PORCENTAGEM']]\n",
    "portfolio_guepardo_202305 = portfolio_guepardo.loc['2023-05', ['CD_ATIVO', 'PORCENTAGEM']]\n",
    "\n",
    "fig = make_subplots(rows=5,\n",
    "                    cols=1,\n",
    "                    subplot_titles=(\n",
    "                        'Distribuição Percentual do Portfólio - 01/2023',\n",
    "                        'Distribuição Percentual do Portfólio - 02/2023',\n",
    "                        'Distribuição Percentual do Portfólio - 03/2023',\n",
    "                        'Distribuição Percentual do Portfólio - 04/2023',\n",
    "                        'Distribuição Percentual do Portfólio - 05/2023'),\n",
    "                    vertical_spacing=0.03 # Espaço entre os plots\n",
    ")\n",
    "\n",
    "fig.add_trace(go.Bar(\n",
    "    x=portfolio_guepardo_202301['PORCENTAGEM'] * 100,\n",
    "    y=portfolio_guepardo_202301['CD_ATIVO'],\n",
    "    orientation='h',\n",
    "    name='01/2023' \n",
    "), row=1, col=1)\n",
    "\n",
    "fig.add_trace(go.Bar(\n",
    "    x=portfolio_guepardo_202302['PORCENTAGEM'] * 100,\n",
    "    y=portfolio_guepardo_202302['CD_ATIVO'],\n",
    "    orientation='h',\n",
    "    name='02/2023' \n",
    "), row=2, col=1)\n",
    "\n",
    "fig.add_trace(go.Bar(\n",
    "    x=portfolio_guepardo_202303['PORCENTAGEM'] * 100,\n",
    "    y=portfolio_guepardo_202303['CD_ATIVO'],\n",
    "    orientation='h',\n",
    "    name='03/2023' \n",
    "), row=3, col=1)\n",
    "\n",
    "fig.add_trace(go.Bar(\n",
    "    x=portfolio_guepardo_202304['PORCENTAGEM'] * 100,\n",
    "    y=portfolio_guepardo_202304['CD_ATIVO'],\n",
    "    orientation='h',\n",
    "    name='04/2023' \n",
    "), row=4, col=1)\n",
    "\n",
    "fig.add_trace(go.Bar(\n",
    "    x=portfolio_guepardo_202305['PORCENTAGEM'] * 100,\n",
    "    y=portfolio_guepardo_202305['CD_ATIVO'],\n",
    "    orientation='h',\n",
    "    name='05/2023' \n",
    "), row=5, col=1)\n",
    "\n",
    "# Atualiza o layout do gráfico\n",
    "fig.update_layout(\n",
    "    title='Portfólio do Fundo Guepardo',\n",
    "    height=2500,\n",
    "    width=900\n",
    ")\n",
    "\n",
    "# Exibe o gráfico\n",
    "fig.show()"
   ]
  }
 ],
 "metadata": {
  "kernelspec": {
   "display_name": "Python 3",
   "language": "python",
   "name": "python3"
  },
  "language_info": {
   "codemirror_mode": {
    "name": "ipython",
    "version": 3
   },
   "file_extension": ".py",
   "mimetype": "text/x-python",
   "name": "python",
   "nbconvert_exporter": "python",
   "pygments_lexer": "ipython3",
   "version": "3.10.2"
  },
  "orig_nbformat": 4
 },
 "nbformat": 4,
 "nbformat_minor": 2
}
